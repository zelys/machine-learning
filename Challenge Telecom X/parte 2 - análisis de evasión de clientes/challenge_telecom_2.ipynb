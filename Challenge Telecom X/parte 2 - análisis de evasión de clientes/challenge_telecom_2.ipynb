{
  "cells": [
    {
      "cell_type": "markdown",
      "metadata": {
        "id": "NiidbVuVuzXI"
      },
      "source": [
        "# **🔍 1. Cargar y explorar datos**\n",
        "\n"
      ]
    },
    {
      "cell_type": "markdown",
      "metadata": {
        "id": "5dqm2txf12lt"
      },
      "source": [
        "## **1.1 Vista general del dataset**"
      ]
    },
    {
      "cell_type": "code",
      "execution_count": 1,
      "metadata": {
        "id": "FoVe97S0unsr"
      },
      "outputs": [],
      "source": [
        "import pandas as pd"
      ]
    },
    {
      "cell_type": "code",
      "execution_count": 2,
      "metadata": {
        "id": "U6JwplBWvc89"
      },
      "outputs": [],
      "source": [
        "df = pd.read_csv(\"../data/datos_telecom.csv\")"
      ]
    },
    {
      "cell_type": "code",
      "execution_count": 3,
      "metadata": {
        "colab": {
          "base_uri": "https://localhost:8080/",
          "height": 377
        },
        "id": "tbLzJIrSvgwj",
        "outputId": "cc94d22c-0595-47a6-bd50-f004a73cd92a"
      },
      "outputs": [
        {
          "data": {
            "text/html": [
              "<div>\n",
              "<style scoped>\n",
              "    .dataframe tbody tr th:only-of-type {\n",
              "        vertical-align: middle;\n",
              "    }\n",
              "\n",
              "    .dataframe tbody tr th {\n",
              "        vertical-align: top;\n",
              "    }\n",
              "\n",
              "    .dataframe thead th {\n",
              "        text-align: right;\n",
              "    }\n",
              "</style>\n",
              "<table border=\"1\" class=\"dataframe\">\n",
              "  <thead>\n",
              "    <tr style=\"text-align: right;\">\n",
              "      <th></th>\n",
              "      <th>Evasión</th>\n",
              "      <th>Género</th>\n",
              "      <th>Adulto Mayor</th>\n",
              "      <th>Tiene Pareja</th>\n",
              "      <th>Dependiente</th>\n",
              "      <th>Permanencia</th>\n",
              "      <th>Servicio Telefónico</th>\n",
              "      <th>Líneas Múltiples</th>\n",
              "      <th>Servicio Internet</th>\n",
              "      <th>Seguridad en Línea</th>\n",
              "      <th>...</th>\n",
              "      <th>Protección Dispositivo</th>\n",
              "      <th>Soporte Técnico</th>\n",
              "      <th>Streaming de TV</th>\n",
              "      <th>Streaming de Películas</th>\n",
              "      <th>Tipo Contrato</th>\n",
              "      <th>Facturación Electronica</th>\n",
              "      <th>Método de Pago</th>\n",
              "      <th>Cargo Mensual</th>\n",
              "      <th>Cargo Total</th>\n",
              "      <th>Cargo Diario</th>\n",
              "    </tr>\n",
              "  </thead>\n",
              "  <tbody>\n",
              "    <tr>\n",
              "      <th>0</th>\n",
              "      <td>False</td>\n",
              "      <td>Femenino</td>\n",
              "      <td>False</td>\n",
              "      <td>True</td>\n",
              "      <td>True</td>\n",
              "      <td>9</td>\n",
              "      <td>True</td>\n",
              "      <td>False</td>\n",
              "      <td>DSL</td>\n",
              "      <td>False</td>\n",
              "      <td>...</td>\n",
              "      <td>False</td>\n",
              "      <td>True</td>\n",
              "      <td>True</td>\n",
              "      <td>False</td>\n",
              "      <td>Un año</td>\n",
              "      <td>True</td>\n",
              "      <td>Cheque por correo</td>\n",
              "      <td>65.6</td>\n",
              "      <td>593.30</td>\n",
              "      <td>2.186667</td>\n",
              "    </tr>\n",
              "    <tr>\n",
              "      <th>1</th>\n",
              "      <td>False</td>\n",
              "      <td>Masculino</td>\n",
              "      <td>False</td>\n",
              "      <td>False</td>\n",
              "      <td>False</td>\n",
              "      <td>9</td>\n",
              "      <td>True</td>\n",
              "      <td>True</td>\n",
              "      <td>DSL</td>\n",
              "      <td>False</td>\n",
              "      <td>...</td>\n",
              "      <td>False</td>\n",
              "      <td>False</td>\n",
              "      <td>False</td>\n",
              "      <td>True</td>\n",
              "      <td>Mes-a-Mes</td>\n",
              "      <td>False</td>\n",
              "      <td>Cheque por correo</td>\n",
              "      <td>59.9</td>\n",
              "      <td>542.40</td>\n",
              "      <td>1.996667</td>\n",
              "    </tr>\n",
              "    <tr>\n",
              "      <th>2</th>\n",
              "      <td>True</td>\n",
              "      <td>Masculino</td>\n",
              "      <td>False</td>\n",
              "      <td>False</td>\n",
              "      <td>False</td>\n",
              "      <td>4</td>\n",
              "      <td>True</td>\n",
              "      <td>False</td>\n",
              "      <td>Fibra óptica</td>\n",
              "      <td>False</td>\n",
              "      <td>...</td>\n",
              "      <td>True</td>\n",
              "      <td>False</td>\n",
              "      <td>False</td>\n",
              "      <td>False</td>\n",
              "      <td>Mes-a-Mes</td>\n",
              "      <td>True</td>\n",
              "      <td>Cheque electrónico</td>\n",
              "      <td>73.9</td>\n",
              "      <td>280.85</td>\n",
              "      <td>2.463333</td>\n",
              "    </tr>\n",
              "    <tr>\n",
              "      <th>3</th>\n",
              "      <td>True</td>\n",
              "      <td>Masculino</td>\n",
              "      <td>True</td>\n",
              "      <td>True</td>\n",
              "      <td>False</td>\n",
              "      <td>13</td>\n",
              "      <td>True</td>\n",
              "      <td>False</td>\n",
              "      <td>Fibra óptica</td>\n",
              "      <td>False</td>\n",
              "      <td>...</td>\n",
              "      <td>True</td>\n",
              "      <td>False</td>\n",
              "      <td>True</td>\n",
              "      <td>True</td>\n",
              "      <td>Mes-a-Mes</td>\n",
              "      <td>True</td>\n",
              "      <td>Cheque electrónico</td>\n",
              "      <td>98.0</td>\n",
              "      <td>1237.85</td>\n",
              "      <td>3.266667</td>\n",
              "    </tr>\n",
              "    <tr>\n",
              "      <th>4</th>\n",
              "      <td>True</td>\n",
              "      <td>Femenino</td>\n",
              "      <td>True</td>\n",
              "      <td>True</td>\n",
              "      <td>False</td>\n",
              "      <td>3</td>\n",
              "      <td>True</td>\n",
              "      <td>False</td>\n",
              "      <td>Fibra óptica</td>\n",
              "      <td>False</td>\n",
              "      <td>...</td>\n",
              "      <td>False</td>\n",
              "      <td>True</td>\n",
              "      <td>True</td>\n",
              "      <td>False</td>\n",
              "      <td>Mes-a-Mes</td>\n",
              "      <td>True</td>\n",
              "      <td>Cheque por correo</td>\n",
              "      <td>83.9</td>\n",
              "      <td>267.40</td>\n",
              "      <td>2.796667</td>\n",
              "    </tr>\n",
              "  </tbody>\n",
              "</table>\n",
              "<p>5 rows × 21 columns</p>\n",
              "</div>"
            ],
            "text/plain": [
              "   Evasión     Género  Adulto Mayor  Tiene Pareja  Dependiente  Permanencia  \\\n",
              "0    False   Femenino         False          True         True            9   \n",
              "1    False  Masculino         False         False        False            9   \n",
              "2     True  Masculino         False         False        False            4   \n",
              "3     True  Masculino          True          True        False           13   \n",
              "4     True   Femenino          True          True        False            3   \n",
              "\n",
              "   Servicio Telefónico  Líneas Múltiples Servicio Internet  \\\n",
              "0                 True             False               DSL   \n",
              "1                 True              True               DSL   \n",
              "2                 True             False      Fibra óptica   \n",
              "3                 True             False      Fibra óptica   \n",
              "4                 True             False      Fibra óptica   \n",
              "\n",
              "   Seguridad en Línea  ...  Protección Dispositivo  Soporte Técnico  \\\n",
              "0               False  ...                   False             True   \n",
              "1               False  ...                   False            False   \n",
              "2               False  ...                    True            False   \n",
              "3               False  ...                    True            False   \n",
              "4               False  ...                   False             True   \n",
              "\n",
              "   Streaming de TV  Streaming de Películas  Tipo Contrato  \\\n",
              "0             True                   False         Un año   \n",
              "1            False                    True      Mes-a-Mes   \n",
              "2            False                   False      Mes-a-Mes   \n",
              "3             True                    True      Mes-a-Mes   \n",
              "4             True                   False      Mes-a-Mes   \n",
              "\n",
              "  Facturación Electronica      Método de Pago Cargo Mensual  Cargo Total  \\\n",
              "0                    True   Cheque por correo          65.6       593.30   \n",
              "1                   False   Cheque por correo          59.9       542.40   \n",
              "2                    True  Cheque electrónico          73.9       280.85   \n",
              "3                    True  Cheque electrónico          98.0      1237.85   \n",
              "4                    True   Cheque por correo          83.9       267.40   \n",
              "\n",
              "   Cargo Diario  \n",
              "0      2.186667  \n",
              "1      1.996667  \n",
              "2      2.463333  \n",
              "3      3.266667  \n",
              "4      2.796667  \n",
              "\n",
              "[5 rows x 21 columns]"
            ]
          },
          "execution_count": 3,
          "metadata": {},
          "output_type": "execute_result"
        }
      ],
      "source": [
        "df.head()"
      ]
    },
    {
      "cell_type": "markdown",
      "metadata": {
        "id": "CQfJI3Zi18Cc"
      },
      "source": [
        "## **1.2 Dimensiones del dataset**"
      ]
    },
    {
      "cell_type": "code",
      "execution_count": 4,
      "metadata": {
        "colab": {
          "base_uri": "https://localhost:8080/"
        },
        "id": "9GX47QMe1-M8",
        "outputId": "c7e5a59d-6012-4478-c51a-75527bc2ded6"
      },
      "outputs": [
        {
          "name": "stdout",
          "output_type": "stream",
          "text": [
            "Filas: 7267, Columnas: 21\n"
          ]
        }
      ],
      "source": [
        "print(f\"Filas: {df.shape[0]}, Columnas: {df.shape[1]}\")"
      ]
    },
    {
      "cell_type": "markdown",
      "metadata": {
        "id": "vRBsWK6Dwvex"
      },
      "source": [
        "## **1.3 Tipos de datos y valores únicos**\n",
        "\n"
      ]
    },
    {
      "cell_type": "markdown",
      "metadata": {
        "id": "siLoKxVM2irv"
      },
      "source": [
        "Identificar si hay columnas categóricas mal tipadas."
      ]
    },
    {
      "cell_type": "code",
      "execution_count": 5,
      "metadata": {
        "colab": {
          "base_uri": "https://localhost:8080/"
        },
        "id": "eIkiU9EJvjIi",
        "outputId": "67a89bb2-1086-4b25-eaa9-deb48599b82f"
      },
      "outputs": [
        {
          "name": "stdout",
          "output_type": "stream",
          "text": [
            "<class 'pandas.core.frame.DataFrame'>\n",
            "RangeIndex: 7267 entries, 0 to 7266\n",
            "Data columns (total 21 columns):\n",
            " #   Column                   Non-Null Count  Dtype  \n",
            "---  ------                   --------------  -----  \n",
            " 0   Evasión                  7267 non-null   bool   \n",
            " 1   Género                   7267 non-null   object \n",
            " 2   Adulto Mayor             7267 non-null   bool   \n",
            " 3   Tiene Pareja             7267 non-null   bool   \n",
            " 4   Dependiente              7267 non-null   bool   \n",
            " 5   Permanencia              7267 non-null   int64  \n",
            " 6   Servicio Telefónico      7267 non-null   bool   \n",
            " 7   Líneas Múltiples         7267 non-null   bool   \n",
            " 8   Servicio Internet        7267 non-null   object \n",
            " 9   Seguridad en Línea       7267 non-null   bool   \n",
            " 10  Respaldo en Linea        7267 non-null   bool   \n",
            " 11  Protección Dispositivo   7267 non-null   bool   \n",
            " 12  Soporte Técnico          7267 non-null   bool   \n",
            " 13  Streaming de TV          7267 non-null   bool   \n",
            " 14  Streaming de Películas   7267 non-null   bool   \n",
            " 15  Tipo Contrato            7267 non-null   object \n",
            " 16  Facturación Electronica  7267 non-null   bool   \n",
            " 17  Método de Pago           7267 non-null   object \n",
            " 18  Cargo Mensual            7267 non-null   float64\n",
            " 19  Cargo Total              7267 non-null   float64\n",
            " 20  Cargo Diario             7267 non-null   float64\n",
            "dtypes: bool(13), float64(3), int64(1), object(4)\n",
            "memory usage: 546.6+ KB\n"
          ]
        }
      ],
      "source": [
        "df.info()"
      ]
    },
    {
      "cell_type": "markdown",
      "metadata": {
        "id": "tbOJRh65xEwe"
      },
      "source": [
        "## **1.4 Valores faltantes**\n",
        "\n"
      ]
    },
    {
      "cell_type": "markdown",
      "metadata": {
        "id": "70InMgJj2dfa"
      },
      "source": [
        "Se identifican columnas con datos faltantes (NaN, None, etc.), que podrían requerir imputación o eliminación."
      ]
    },
    {
      "cell_type": "code",
      "execution_count": 6,
      "metadata": {
        "colab": {
          "base_uri": "https://localhost:8080/",
          "height": 743
        },
        "id": "egBTdYojxJJD",
        "outputId": "5d9942b3-6feb-4d9f-c941-69d10d9450b4"
      },
      "outputs": [
        {
          "data": {
            "text/plain": [
              "Evasión                    0\n",
              "Género                     0\n",
              "Adulto Mayor               0\n",
              "Tiene Pareja               0\n",
              "Dependiente                0\n",
              "Permanencia                0\n",
              "Servicio Telefónico        0\n",
              "Líneas Múltiples           0\n",
              "Servicio Internet          0\n",
              "Seguridad en Línea         0\n",
              "Respaldo en Linea          0\n",
              "Protección Dispositivo     0\n",
              "Soporte Técnico            0\n",
              "Streaming de TV            0\n",
              "Streaming de Películas     0\n",
              "Tipo Contrato              0\n",
              "Facturación Electronica    0\n",
              "Método de Pago             0\n",
              "Cargo Mensual              0\n",
              "Cargo Total                0\n",
              "Cargo Diario               0\n",
              "dtype: int64"
            ]
          },
          "execution_count": 6,
          "metadata": {},
          "output_type": "execute_result"
        }
      ],
      "source": [
        "df.isnull().sum()"
      ]
    },
    {
      "cell_type": "markdown",
      "metadata": {
        "id": "7lWBH-XLxxSf"
      },
      "source": [
        "## **1.5 Distribución de la variable objetivo**\n",
        "\n"
      ]
    },
    {
      "cell_type": "markdown",
      "metadata": {
        "id": "kB0AOP8K25pS"
      },
      "source": [
        "Como el objetivo es predecir \"Evasión\", se analiza la proporción de clases. Esto es clave para saber si existe desbalanceo."
      ]
    },
    {
      "cell_type": "code",
      "execution_count": 7,
      "metadata": {
        "colab": {
          "base_uri": "https://localhost:8080/",
          "height": 651
        },
        "id": "kBtXgWdsxZxP",
        "outputId": "79a55746-9fec-491c-9f43-2e8372228cec"
      },
      "outputs": [
        {
          "name": "stdout",
          "output_type": "stream",
          "text": [
            "Evasión\n",
            "False    5398\n",
            "True     1869\n",
            "Name: count, dtype: int64\n",
            "\n",
            "Evasión\n",
            "False    0.74281\n",
            "True     0.25719\n",
            "Name: proportion, dtype: float64\n",
            "\n"
          ]
        },
        {
          "data": {
            "image/png": "[encoded data removed]",
            "text/plain": [
              "<Figure size 640x480 with 1 Axes>"
            ]
          },
          "metadata": {},
          "output_type": "display_data"
        }
      ],
      "source": [
        "import matplotlib.pyplot as plt\n",
        "import seaborn as sns\n",
        "\n",
        "# Conteo absoluto y relativo\n",
        "print(df['Evasión'].value_counts())\n",
        "print('')\n",
        "print(df['Evasión'].value_counts(normalize=True))\n",
        "print('')\n",
        "# Gráfico de barras\n",
        "sns.countplot(data=df, x='Evasión', palette='viridis', hue='Evasión', legend=False)\n",
        "plt.xlabel('Evasión')\n",
        "plt.ylabel('Frecuencia')\n",
        "plt.title('Distribución de la variable objetivo: Evasión')\n",
        "plt.show()"
      ]
    },
    {
      "cell_type": "markdown",
      "metadata": {
        "id": "I222Ts-L7Eix"
      },
      "source": [
        "# **🧹 2. Limpiar y preparar datos**"
      ]
    },
    {
      "cell_type": "markdown",
      "metadata": {
        "id": "mMS29sAq7MUJ"
      },
      "source": [
        "## **2.1 Eliminación de columnas redundantes**"
      ]
    },
    {
      "cell_type": "markdown",
      "metadata": {
        "id": "ZbvRF-q_7UvC"
      },
      "source": [
        "- `Cargo Diario` es una transformación directa de `Cargo Mensual` (Mensual / 30).\n",
        "\n",
        "- `Cargo Total` es producto de `Cargo Mensual` × `Permanencia` (salvo ligeros redondeos o descuentos puntuales).\n",
        "\n",
        "Estas columnas no aportan nueva información y podrían inducir multicolinealidad o hacer que el modelo sobreajuste. Por lo tanto, las eliminamos."
      ]
    },
    {
      "cell_type": "code",
      "execution_count": 8,
      "metadata": {
        "id": "jZg7AIyz7Fug"
      },
      "outputs": [],
      "source": [
        "# Eliminación de columnas derivadas\n",
        "df.drop(['Cargo Diario', 'Cargo Total'], axis=1, inplace=True)"
      ]
    },
    {
      "cell_type": "markdown",
      "metadata": {
        "id": "hD3i3Gp_7jD9"
      },
      "source": [
        "## **2.2 Revisión de columnas con baja variabilidad**"
      ]
    },
    {
      "cell_type": "markdown",
      "metadata": {
        "id": "BOCsdfBX7qXn"
      },
      "source": [
        "Aunque `df.info()` muestra que todas las columnas tienen más de un valor, es conveniente inspeccionar aquellas con muy poca variabilidad, ya que podrían no aportar información útil al modelo."
      ]
    },
    {
      "cell_type": "code",
      "execution_count": 9,
      "metadata": {
        "colab": {
          "base_uri": "https://localhost:8080/"
        },
        "id": "Exmjpi0D7oPI",
        "outputId": "ec2032a2-867c-4b55-e6e1-3dda303ee090"
      },
      "outputs": [
        {
          "name": "stdout",
          "output_type": "stream",
          "text": [
            "Evasión                       2\n",
            "Género                        2\n",
            "Adulto Mayor                  2\n",
            "Tiene Pareja                  2\n",
            "Dependiente                   2\n",
            "Servicio Telefónico           2\n",
            "Líneas Múltiples              2\n",
            "Seguridad en Línea            2\n",
            "Streaming de Películas        2\n",
            "Respaldo en Linea             2\n",
            "Protección Dispositivo        2\n",
            "Soporte Técnico               2\n",
            "Streaming de TV               2\n",
            "Facturación Electronica       2\n",
            "Tipo Contrato                 3\n",
            "Servicio Internet             3\n",
            "Método de Pago                4\n",
            "Permanencia                  73\n",
            "Cargo Mensual              1585\n",
            "dtype: int64\n"
          ]
        }
      ],
      "source": [
        "low_variability = df.nunique().sort_values()\n",
        "print(low_variability)"
      ]
    },
    {
      "cell_type": "markdown",
      "metadata": {
        "id": "noVvSCYs8mtD"
      },
      "source": [
        "**El análisis de cardinalidad confirma lo siguiente:**\n",
        "\n",
        "Todas las columnas tienen al menos 2 valores únicos, por lo que no existen columnas constantes. Sin embargo, como observación:\n",
        "\n",
        "- Hay muchas columnas binarias (bool) con solo 2 valores, lo cual es esperable.\n",
        "\n",
        "- Columnas como `Género` o `Adulto Mayor` con solo dos valores no deben eliminarse aunque su variabilidad sea baja, ya que pueden ser informativas para el modelo si están correlacionadas con el **churn**.\n",
        "\n",
        "Así que no eliminamos ninguna columna adicional por baja cardinalidad."
      ]
    },
    {
      "cell_type": "markdown",
      "metadata": {
        "id": "4vJ5T4jU8BMv"
      },
      "source": [
        "## **2.3 Codificación preliminar de variables categóricas**"
      ]
    },
    {
      "cell_type": "markdown",
      "metadata": {
        "id": "NKZZmlX28HIg"
      },
      "source": [
        "Antes del modelado, será necesario convertir variables object a numéricas. Pero por ahora solo identificamos las columnas categóricas que requerirán transformación más adelante:"
      ]
    },
    {
      "cell_type": "code",
      "execution_count": 10,
      "metadata": {
        "colab": {
          "base_uri": "https://localhost:8080/"
        },
        "id": "Sy1I0ohe8C_T",
        "outputId": "011b3b6c-c4b8-4189-e174-392e28867540"
      },
      "outputs": [
        {
          "name": "stdout",
          "output_type": "stream",
          "text": [
            "Columnas categóricas: ['Género', 'Servicio Internet', 'Tipo Contrato', 'Método de Pago']\n"
          ]
        }
      ],
      "source": [
        "categorical_cols = df.select_dtypes(include='object').columns\n",
        "print(\"Columnas categóricas:\", list(categorical_cols))"
      ]
    },
    {
      "cell_type": "markdown",
      "metadata": {
        "id": "YYekjDIZ87fg"
      },
      "source": [
        "# **📊 3. Análisis de correlaciones y detección de outliers**"
      ]
    },
    {
      "cell_type": "markdown",
      "metadata": {
        "id": "q7WKS_mg9B1j"
      },
      "source": [
        "## **3.1 Matriz de correlación**"
      ]
    },
    {
      "cell_type": "markdown",
      "metadata": {
        "id": "RIrEn2lO9FhL"
      },
      "source": [
        "Ya que has limpiado las columnas derivadas, es momento de observar la relación entre las variables numéricas y el churn (aunque Evasión es categórica, podríamos incluirla como 0/1 para análisis de correlación)."
      ]
    },
    {
      "cell_type": "code",
      "execution_count": 11,
      "metadata": {
        "colab": {
          "base_uri": "https://localhost:8080/",
          "height": 692
        },
        "id": "8Be20ego880y",
        "outputId": "8b3aaad3-a6eb-45f7-836d-ab2a3afc7ac7"
      },
      "outputs": [
        {
          "data": {
            "image/png": "[encoded data removed]",
            "text/plain": [
              "<Figure size 1000x600 with 2 Axes>"
            ]
          },
          "metadata": {},
          "output_type": "display_data"
        }
      ],
      "source": [
        "import seaborn as sns\n",
        "import matplotlib.pyplot as plt\n",
        "\n",
        "# Convertimos la variable objetivo a entero para la correlación\n",
        "df_corr = df.copy()\n",
        "df_corr['Evasión'] = df_corr['Evasión'].astype(int)\n",
        "\n",
        "# Correlación solo con columnas numéricas\n",
        "correlation_matrix = df_corr.corr(numeric_only=True)\n",
        "\n",
        "# Mapa de calor\n",
        "plt.figure(figsize=(10, 6))\n",
        "sns.heatmap(correlation_matrix, annot=True, cmap='coolwarm', fmt='.2f')\n",
        "plt.title('Matriz de correlación entre variables numéricas')\n",
        "plt.show()"
      ]
    },
    {
      "cell_type": "markdown",
      "metadata": {
        "id": "VuX4Ix68-SJh"
      },
      "source": [
        "**🔷 Correlación con la variable objetivo (Evasión)**\n",
        "\n",
        "- La correlación más negativa con `Evasión` es `Permanencia` (-0.34), lo cual es coherente: _a mayor tiempo con el servicio, menor probabilidad de churn_.\n",
        "\n",
        "- `Seguridad en Línea` (-0.17), `Dependiente` (-0.16) y `Tiene Pareja` (-0.15) también muestran correlaciones negativas moderadas.\n",
        "\n",
        "- `Cargo Mensual` tiene una correlación positiva (0.19), lo cual sugiere que tarifas más altas pueden estar asociadas a mayor evasión.\n",
        "\n",
        "- Las variables `Streaming de TV` y `Streaming de Películas` están fuertemente correlacionadas entre sí (>0.6), lo cual indica una posible redundancia futura a evaluar con modelos de selección de features.\n"
      ]
    },
    {
      "cell_type": "markdown",
      "metadata": {
        "id": "ojKl5prK9UQg"
      },
      "source": [
        "## **3.2 Detección de outliers**"
      ]
    },
    {
      "cell_type": "markdown",
      "metadata": {
        "id": "_lUg9JvT9X14"
      },
      "source": [
        "Graficamos boxplots para detectar valores extremos en las variables continuas:"
      ]
    },
    {
      "cell_type": "code",
      "execution_count": 12,
      "metadata": {
        "colab": {
          "base_uri": "https://localhost:8080/",
          "height": 927
        },
        "id": "q8IN91wF9VHQ",
        "outputId": "3bdfbc8d-7912-4dc4-fb74-c7961a3500b0"
      },
      "outputs": [
        {
          "data": {
            "image/png": "[encoded data removed]",
            "text/plain": [
              "<Figure size 640x480 with 1 Axes>"
            ]
          },
          "metadata": {},
          "output_type": "display_data"
        },
        {
          "data": {
            "image/png": "[encoded data removed]",
            "text/plain": [
              "<Figure size 640x480 with 1 Axes>"
            ]
          },
          "metadata": {},
          "output_type": "display_data"
        }
      ],
      "source": [
        "numeric_cols = ['Permanencia', 'Cargo Mensual']\n",
        "\n",
        "for col in numeric_cols:\n",
        "    plt.figure()\n",
        "    sns.boxplot(x=df[col])\n",
        "    plt.title(f'Distribución y outliers de {col}')\n",
        "    plt.show()"
      ]
    },
    {
      "cell_type": "markdown",
      "metadata": {
        "id": "ElRc9_Hx_FK2"
      },
      "source": [
        "**🔶 Outliers**\n",
        "\n",
        "Los boxplots de `Permanencia` y `Cargo Mensual` no muestran valores extremos preocupantes. Ambos se distribuyen de forma razonable y no justifican una imputación ni eliminación de outliers en este punto.\n",
        "\n",
        "Por tanto, no se requiere tratamiento adicional para valores extremos en esta fase."
      ]
    },
    {
      "cell_type": "markdown",
      "metadata": {
        "id": "MkNODEhO_Vff"
      },
      "source": [
        "---\n",
        "\n",
        "**✅ Conclusión de esta sección**\n",
        "\n",
        "Se identificaron correlaciones moderadas entre variables numéricas y la evasión, destacando que la permanencia reduce el churn, mientras que tarifas más altas parecen asociarse a mayor abandono. No se detectaron outliers extremos, por lo que no fue necesario aplicar transformaciones adicionales."
      ]
    },
    {
      "cell_type": "markdown",
      "metadata": {
        "id": "RB2YBLal_eEI"
      },
      "source": [
        "# **🧪 4. Dividir datos y seleccionar features**"
      ]
    },
    {
      "cell_type": "markdown",
      "metadata": {
        "id": "y9Rz2JMH_rMw"
      },
      "source": [
        "## **4.1 Preparación del target y codificación**"
      ]
    },
    {
      "cell_type": "markdown",
      "metadata": {
        "id": "cve1rL46_wxx"
      },
      "source": [
        "Convertimos la variable objetivo `Evasión` a tipo entero (0 = No, 1 = Sí) y realizamos codificación one-hot de variables categóricas (object) para poder entrenar modelos."
      ]
    },
    {
      "cell_type": "code",
      "execution_count": 13,
      "metadata": {
        "colab": {
          "base_uri": "https://localhost:8080/"
        },
        "id": "_KQX5cLU9cdf",
        "outputId": "092973fc-e5a4-4f09-b0f5-1e407b7c5bbf"
      },
      "outputs": [
        {
          "name": "stdout",
          "output_type": "stream",
          "text": [
            "Shape final del dataframe codificado: (7267, 23)\n"
          ]
        }
      ],
      "source": [
        "# Copia de trabajo\n",
        "df_model = df.copy()\n",
        "\n",
        "# Codificar variable objetivo\n",
        "df_model['Evasión'] = df_model['Evasión'].astype(int)\n",
        "\n",
        "# Codificación one-hot para variables categóricas\n",
        "df_model = pd.get_dummies(df_model, drop_first=True)\n",
        "\n",
        "print(\"Shape final del dataframe codificado:\", df_model.shape)"
      ]
    },
    {
      "cell_type": "markdown",
      "metadata": {
        "id": "j0WBsSCd_9fa"
      },
      "source": [
        "## **4.2 División en variables predictoras (X) y objetivo (y)**"
      ]
    },
    {
      "cell_type": "code",
      "execution_count": 14,
      "metadata": {
        "id": "G3K6jZUF_-3x"
      },
      "outputs": [],
      "source": [
        "X = df_model.drop('Evasión', axis=1)\n",
        "y = df_model['Evasión']"
      ]
    },
    {
      "cell_type": "markdown",
      "metadata": {
        "id": "AVt3UkxFAD_s"
      },
      "source": [
        "## **4.3 División en conjunto de entrenamiento y prueba**"
      ]
    },
    {
      "cell_type": "markdown",
      "metadata": {
        "id": "3WGVBx3lAHl_"
      },
      "source": [
        "Usamos una división estratificada para preservar la proporción de clases del churn:"
      ]
    },
    {
      "cell_type": "code",
      "execution_count": 15,
      "metadata": {
        "colab": {
          "base_uri": "https://localhost:8080/"
        },
        "id": "d566LFb3AFAz",
        "outputId": "debe908e-cf7e-47cb-8d77-64e737f0e4d8"
      },
      "outputs": [
        {
          "name": "stdout",
          "output_type": "stream",
          "text": [
            "Tamaño de entrenamiento: (5813, 22)\n",
            "Tamaño de prueba: (1454, 22)\n"
          ]
        }
      ],
      "source": [
        "from sklearn.model_selection import train_test_split\n",
        "\n",
        "X_train, X_test, y_train, y_test = train_test_split(\n",
        "    X, y, test_size=0.2, stratify=y, random_state=42\n",
        ")\n",
        "\n",
        "print(\"Tamaño de entrenamiento:\", X_train.shape)\n",
        "print(\"Tamaño de prueba:\", X_test.shape)"
      ]
    },
    {
      "cell_type": "markdown",
      "metadata": {
        "id": "YAlCtrn6AeXs"
      },
      "source": [
        "# **🤖 5. Entrenar modelos base (Logistic Regression y Decision Tree)**"
      ]
    },
    {
      "cell_type": "markdown",
      "metadata": {
        "id": "Vmc95J0HAiqQ"
      },
      "source": [
        "## **5.1 Estandarización (solo para regresión logística)**"
      ]
    },
    {
      "cell_type": "markdown",
      "metadata": {
        "id": "99GnG2S-AmEf"
      },
      "source": [
        "La regresión logística es sensible a la escala de los datos. Por eso, aplicamos escalamiento solo para ese modelo. El árbol de decisión no lo requiere."
      ]
    },
    {
      "cell_type": "code",
      "execution_count": 16,
      "metadata": {
        "id": "aYm31dWHAfuv"
      },
      "outputs": [],
      "source": [
        "from sklearn.preprocessing import StandardScaler\n",
        "\n",
        "# Estandarizar características para regresión logística\n",
        "scaler = StandardScaler()\n",
        "X_train_scaled = scaler.fit_transform(X_train)\n",
        "X_test_scaled = scaler.transform(X_test)"
      ]
    },
    {
      "cell_type": "markdown",
      "metadata": {
        "id": "k4hCWVnxAzFm"
      },
      "source": [
        "## **5.2 Entrenamiento de modelos**"
      ]
    },
    {
      "cell_type": "markdown",
      "metadata": {
        "id": "sNvPCK6vA5cW"
      },
      "source": [
        "Entrenamos ambos modelos y evaluamos su rendimiento con métricas básicas."
      ]
    },
    {
      "cell_type": "code",
      "execution_count": 17,
      "metadata": {
        "colab": {
          "base_uri": "https://localhost:8080/",
          "height": 80
        },
        "id": "EcehZtOYA2mo",
        "outputId": "062c0bcd-98c9-4a43-9845-4b5d8503b3b4"
      },
      "outputs": [
        {
          "data": {
            "text/html": [
              "<style>#sk-container-id-1 {\n",
              "  /* Definition of color scheme common for light and dark mode */\n",
              "  --sklearn-color-text: #000;\n",
              "  --sklearn-color-text-muted: #666;\n",
              "  --sklearn-color-line: gray;\n",
              "  /* Definition of color scheme for unfitted estimators */\n",
              "  --sklearn-color-unfitted-level-0: #fff5e6;\n",
              "  --sklearn-color-unfitted-level-1: #f6e4d2;\n",
              "  --sklearn-color-unfitted-level-2: #ffe0b3;\n",
              "  --sklearn-color-unfitted-level-3: chocolate;\n",
              "  /* Definition of color scheme for fitted estimators */\n",
              "  --sklearn-color-fitted-level-0: #f0f8ff;\n",
              "  --sklearn-color-fitted-level-1: #d4ebff;\n",
              "  --sklearn-color-fitted-level-2: #b3dbfd;\n",
              "  --sklearn-color-fitted-level-3: cornflowerblue;\n",
              "\n",
              "  /* Specific color for light theme */\n",
              "  --sklearn-color-text-on-default-background: var(--sg-text-color, var(--theme-code-foreground, var(--jp-content-font-color1, black)));\n",
              "  --sklearn-color-background: var(--sg-background-color, var(--theme-background, var(--jp-layout-color0, white)));\n",
              "  --sklearn-color-border-box: var(--sg-text-color, var(--theme-code-foreground, var(--jp-content-font-color1, black)));\n",
              "  --sklearn-color-icon: #696969;\n",
              "\n",
              "  @media (prefers-color-scheme: dark) {\n",
              "    /* Redefinition of color scheme for dark theme */\n",
              "    --sklearn-color-text-on-default-background: var(--sg-text-color, var(--theme-code-foreground, var(--jp-content-font-color1, white)));\n",
              "    --sklearn-color-background: var(--sg-background-color, var(--theme-background, var(--jp-layout-color0, #111)));\n",
              "    --sklearn-color-border-box: var(--sg-text-color, var(--theme-code-foreground, var(--jp-content-font-color1, white)));\n",
              "    --sklearn-color-icon: #878787;\n",
              "  }\n",
              "}\n",
              "\n",
              "#sk-container-id-1 {\n",
              "  color: var(--sklearn-color-text);\n",
              "}\n",
              "\n",
              "#sk-container-id-1 pre {\n",
              "  padding: 0;\n",
              "}\n",
              "\n",
              "#sk-container-id-1 input.sk-hidden--visually {\n",
              "  border: 0;\n",
              "  clip: rect(1px 1px 1px 1px);\n",
              "  clip: rect(1px, 1px, 1px, 1px);\n",
              "  height: 1px;\n",
              "  margin: -1px;\n",
              "  overflow: hidden;\n",
              "  padding: 0;\n",
              "  position: absolute;\n",
              "  width: 1px;\n",
              "}\n",
              "\n",
              "#sk-container-id-1 div.sk-dashed-wrapped {\n",
              "  border: 1px dashed var(--sklearn-color-line);\n",
              "  margin: 0 0.4em 0.5em 0.4em;\n",
              "  box-sizing: border-box;\n",
              "  padding-bottom: 0.4em;\n",
              "  background-color: var(--sklearn-color-background);\n",
              "}\n",
              "\n",
              "#sk-container-id-1 div.sk-container {\n",
              "  /* jupyter's `normalize.less` sets `[hidden] { display: none; }`\n",
              "     but bootstrap.min.css set `[hidden] { display: none !important; }`\n",
              "     so we also need the `!important` here to be able to override the\n",
              "     default hidden behavior on the sphinx rendered scikit-learn.org.\n",
              "     See: https://github.com/scikit-learn/scikit-learn/issues/21755 */\n",
              "  display: inline-block !important;\n",
              "  position: relative;\n",
              "}\n",
              "\n",
              "#sk-container-id-1 div.sk-text-repr-fallback {\n",
              "  display: none;\n",
              "}\n",
              "\n",
              "div.sk-parallel-item,\n",
              "div.sk-serial,\n",
              "div.sk-item {\n",
              "  /* draw centered vertical line to link estimators */\n",
              "  background-image: linear-gradient(var(--sklearn-color-text-on-default-background), var(--sklearn-color-text-on-default-background));\n",
              "  background-size: 2px 100%;\n",
              "  background-repeat: no-repeat;\n",
              "  background-position: center center;\n",
              "}\n",
              "\n",
              "/* Parallel-specific style estimator block */\n",
              "\n",
              "#sk-container-id-1 div.sk-parallel-item::after {\n",
              "  content: \"\";\n",
              "  width: 100%;\n",
              "  border-bottom: 2px solid var(--sklearn-color-text-on-default-background);\n",
              "  flex-grow: 1;\n",
              "}\n",
              "\n",
              "#sk-container-id-1 div.sk-parallel {\n",
              "  display: flex;\n",
              "  align-items: stretch;\n",
              "  justify-content: center;\n",
              "  background-color: var(--sklearn-color-background);\n",
              "  position: relative;\n",
              "}\n",
              "\n",
              "#sk-container-id-1 div.sk-parallel-item {\n",
              "  display: flex;\n",
              "  flex-direction: column;\n",
              "}\n",
              "\n",
              "#sk-container-id-1 div.sk-parallel-item:first-child::after {\n",
              "  align-self: flex-end;\n",
              "  width: 50%;\n",
              "}\n",
              "\n",
              "#sk-container-id-1 div.sk-parallel-item:last-child::after {\n",
              "  align-self: flex-start;\n",
              "  width: 50%;\n",
              "}\n",
              "\n",
              "#sk-container-id-1 div.sk-parallel-item:only-child::after {\n",
              "  width: 0;\n",
              "}\n",
              "\n",
              "/* Serial-specific style estimator block */\n",
              "\n",
              "#sk-container-id-1 div.sk-serial {\n",
              "  display: flex;\n",
              "  flex-direction: column;\n",
              "  align-items: center;\n",
              "  background-color: var(--sklearn-color-background);\n",
              "  padding-right: 1em;\n",
              "  padding-left: 1em;\n",
              "}\n",
              "\n",
              "\n",
              "/* Toggleable style: style used for estimator/Pipeline/ColumnTransformer box that is\n",
              "clickable and can be expanded/collapsed.\n",
              "- Pipeline and ColumnTransformer use this feature and define the default style\n",
              "- Estimators will overwrite some part of the style using the `sk-estimator` class\n",
              "*/\n",
              "\n",
              "/* Pipeline and ColumnTransformer style (default) */\n",
              "\n",
              "#sk-container-id-1 div.sk-toggleable {\n",
              "  /* Default theme specific background. It is overwritten whether we have a\n",
              "  specific estimator or a Pipeline/ColumnTransformer */\n",
              "  background-color: var(--sklearn-color-background);\n",
              "}\n",
              "\n",
              "/* Toggleable label */\n",
              "#sk-container-id-1 label.sk-toggleable__label {\n",
              "  cursor: pointer;\n",
              "  display: flex;\n",
              "  width: 100%;\n",
              "  margin-bottom: 0;\n",
              "  padding: 0.5em;\n",
              "  box-sizing: border-box;\n",
              "  text-align: center;\n",
              "  align-items: start;\n",
              "  justify-content: space-between;\n",
              "  gap: 0.5em;\n",
              "}\n",
              "\n",
              "#sk-container-id-1 label.sk-toggleable__label .caption {\n",
              "  font-size: 0.6rem;\n",
              "  font-weight: lighter;\n",
              "  color: var(--sklearn-color-text-muted);\n",
              "}\n",
              "\n",
              "#sk-container-id-1 label.sk-toggleable__label-arrow:before {\n",
              "  /* Arrow on the left of the label */\n",
              "  content: \"▸\";\n",
              "  float: left;\n",
              "  margin-right: 0.25em;\n",
              "  color: var(--sklearn-color-icon);\n",
              "}\n",
              "\n",
              "#sk-container-id-1 label.sk-toggleable__label-arrow:hover:before {\n",
              "  color: var(--sklearn-color-text);\n",
              "}\n",
              "\n",
              "/* Toggleable content - dropdown */\n",
              "\n",
              "#sk-container-id-1 div.sk-toggleable__content {\n",
              "  max-height: 0;\n",
              "  max-width: 0;\n",
              "  overflow: hidden;\n",
              "  text-align: left;\n",
              "  /* unfitted */\n",
              "  background-color: var(--sklearn-color-unfitted-level-0);\n",
              "}\n",
              "\n",
              "#sk-container-id-1 div.sk-toggleable__content.fitted {\n",
              "  /* fitted */\n",
              "  background-color: var(--sklearn-color-fitted-level-0);\n",
              "}\n",
              "\n",
              "#sk-container-id-1 div.sk-toggleable__content pre {\n",
              "  margin: 0.2em;\n",
              "  border-radius: 0.25em;\n",
              "  color: var(--sklearn-color-text);\n",
              "  /* unfitted */\n",
              "  background-color: var(--sklearn-color-unfitted-level-0);\n",
              "}\n",
              "\n",
              "#sk-container-id-1 div.sk-toggleable__content.fitted pre {\n",
              "  /* unfitted */\n",
              "  background-color: var(--sklearn-color-fitted-level-0);\n",
              "}\n",
              "\n",
              "#sk-container-id-1 input.sk-toggleable__control:checked~div.sk-toggleable__content {\n",
              "  /* Expand drop-down */\n",
              "  max-height: 200px;\n",
              "  max-width: 100%;\n",
              "  overflow: auto;\n",
              "}\n",
              "\n",
              "#sk-container-id-1 input.sk-toggleable__control:checked~label.sk-toggleable__label-arrow:before {\n",
              "  content: \"▾\";\n",
              "}\n",
              "\n",
              "/* Pipeline/ColumnTransformer-specific style */\n",
              "\n",
              "#sk-container-id-1 div.sk-label input.sk-toggleable__control:checked~label.sk-toggleable__label {\n",
              "  color: var(--sklearn-color-text);\n",
              "  background-color: var(--sklearn-color-unfitted-level-2);\n",
              "}\n",
              "\n",
              "#sk-container-id-1 div.sk-label.fitted input.sk-toggleable__control:checked~label.sk-toggleable__label {\n",
              "  background-color: var(--sklearn-color-fitted-level-2);\n",
              "}\n",
              "\n",
              "/* Estimator-specific style */\n",
              "\n",
              "/* Colorize estimator box */\n",
              "#sk-container-id-1 div.sk-estimator input.sk-toggleable__control:checked~label.sk-toggleable__label {\n",
              "  /* unfitted */\n",
              "  background-color: var(--sklearn-color-unfitted-level-2);\n",
              "}\n",
              "\n",
              "#sk-container-id-1 div.sk-estimator.fitted input.sk-toggleable__control:checked~label.sk-toggleable__label {\n",
              "  /* fitted */\n",
              "  background-color: var(--sklearn-color-fitted-level-2);\n",
              "}\n",
              "\n",
              "#sk-container-id-1 div.sk-label label.sk-toggleable__label,\n",
              "#sk-container-id-1 div.sk-label label {\n",
              "  /* The background is the default theme color */\n",
              "  color: var(--sklearn-color-text-on-default-background);\n",
              "}\n",
              "\n",
              "/* On hover, darken the color of the background */\n",
              "#sk-container-id-1 div.sk-label:hover label.sk-toggleable__label {\n",
              "  color: var(--sklearn-color-text);\n",
              "  background-color: var(--sklearn-color-unfitted-level-2);\n",
              "}\n",
              "\n",
              "/* Label box, darken color on hover, fitted */\n",
              "#sk-container-id-1 div.sk-label.fitted:hover label.sk-toggleable__label.fitted {\n",
              "  color: var(--sklearn-color-text);\n",
              "  background-color: var(--sklearn-color-fitted-level-2);\n",
              "}\n",
              "\n",
              "/* Estimator label */\n",
              "\n",
              "#sk-container-id-1 div.sk-label label {\n",
              "  font-family: monospace;\n",
              "  font-weight: bold;\n",
              "  display: inline-block;\n",
              "  line-height: 1.2em;\n",
              "}\n",
              "\n",
              "#sk-container-id-1 div.sk-label-container {\n",
              "  text-align: center;\n",
              "}\n",
              "\n",
              "/* Estimator-specific */\n",
              "#sk-container-id-1 div.sk-estimator {\n",
              "  font-family: monospace;\n",
              "  border: 1px dotted var(--sklearn-color-border-box);\n",
              "  border-radius: 0.25em;\n",
              "  box-sizing: border-box;\n",
              "  margin-bottom: 0.5em;\n",
              "  /* unfitted */\n",
              "  background-color: var(--sklearn-color-unfitted-level-0);\n",
              "}\n",
              "\n",
              "#sk-container-id-1 div.sk-estimator.fitted {\n",
              "  /* fitted */\n",
              "  background-color: var(--sklearn-color-fitted-level-0);\n",
              "}\n",
              "\n",
              "/* on hover */\n",
              "#sk-container-id-1 div.sk-estimator:hover {\n",
              "  /* unfitted */\n",
              "  background-color: var(--sklearn-color-unfitted-level-2);\n",
              "}\n",
              "\n",
              "#sk-container-id-1 div.sk-estimator.fitted:hover {\n",
              "  /* fitted */\n",
              "  background-color: var(--sklearn-color-fitted-level-2);\n",
              "}\n",
              "\n",
              "/* Specification for estimator info (e.g. \"i\" and \"?\") */\n",
              "\n",
              "/* Common style for \"i\" and \"?\" */\n",
              "\n",
              ".sk-estimator-doc-link,\n",
              "a:link.sk-estimator-doc-link,\n",
              "a:visited.sk-estimator-doc-link {\n",
              "  float: right;\n",
              "  font-size: smaller;\n",
              "  line-height: 1em;\n",
              "  font-family: monospace;\n",
              "  background-color: var(--sklearn-color-background);\n",
              "  border-radius: 1em;\n",
              "  height: 1em;\n",
              "  width: 1em;\n",
              "  text-decoration: none !important;\n",
              "  margin-left: 0.5em;\n",
              "  text-align: center;\n",
              "  /* unfitted */\n",
              "  border: var(--sklearn-color-unfitted-level-1) 1pt solid;\n",
              "  color: var(--sklearn-color-unfitted-level-1);\n",
              "}\n",
              "\n",
              ".sk-estimator-doc-link.fitted,\n",
              "a:link.sk-estimator-doc-link.fitted,\n",
              "a:visited.sk-estimator-doc-link.fitted {\n",
              "  /* fitted */\n",
              "  border: var(--sklearn-color-fitted-level-1) 1pt solid;\n",
              "  color: var(--sklearn-color-fitted-level-1);\n",
              "}\n",
              "\n",
              "/* On hover */\n",
              "div.sk-estimator:hover .sk-estimator-doc-link:hover,\n",
              ".sk-estimator-doc-link:hover,\n",
              "div.sk-label-container:hover .sk-estimator-doc-link:hover,\n",
              ".sk-estimator-doc-link:hover {\n",
              "  /* unfitted */\n",
              "  background-color: var(--sklearn-color-unfitted-level-3);\n",
              "  color: var(--sklearn-color-background);\n",
              "  text-decoration: none;\n",
              "}\n",
              "\n",
              "div.sk-estimator.fitted:hover .sk-estimator-doc-link.fitted:hover,\n",
              ".sk-estimator-doc-link.fitted:hover,\n",
              "div.sk-label-container:hover .sk-estimator-doc-link.fitted:hover,\n",
              ".sk-estimator-doc-link.fitted:hover {\n",
              "  /* fitted */\n",
              "  background-color: var(--sklearn-color-fitted-level-3);\n",
              "  color: var(--sklearn-color-background);\n",
              "  text-decoration: none;\n",
              "}\n",
              "\n",
              "/* Span, style for the box shown on hovering the info icon */\n",
              ".sk-estimator-doc-link span {\n",
              "  display: none;\n",
              "  z-index: 9999;\n",
              "  position: relative;\n",
              "  font-weight: normal;\n",
              "  right: .2ex;\n",
              "  padding: .5ex;\n",
              "  margin: .5ex;\n",
              "  width: min-content;\n",
              "  min-width: 20ex;\n",
              "  max-width: 50ex;\n",
              "  color: var(--sklearn-color-text);\n",
              "  box-shadow: 2pt 2pt 4pt #999;\n",
              "  /* unfitted */\n",
              "  background: var(--sklearn-color-unfitted-level-0);\n",
              "  border: .5pt solid var(--sklearn-color-unfitted-level-3);\n",
              "}\n",
              "\n",
              ".sk-estimator-doc-link.fitted span {\n",
              "  /* fitted */\n",
              "  background: var(--sklearn-color-fitted-level-0);\n",
              "  border: var(--sklearn-color-fitted-level-3);\n",
              "}\n",
              "\n",
              ".sk-estimator-doc-link:hover span {\n",
              "  display: block;\n",
              "}\n",
              "\n",
              "/* \"?\"-specific style due to the `<a>` HTML tag */\n",
              "\n",
              "#sk-container-id-1 a.estimator_doc_link {\n",
              "  float: right;\n",
              "  font-size: 1rem;\n",
              "  line-height: 1em;\n",
              "  font-family: monospace;\n",
              "  background-color: var(--sklearn-color-background);\n",
              "  border-radius: 1rem;\n",
              "  height: 1rem;\n",
              "  width: 1rem;\n",
              "  text-decoration: none;\n",
              "  /* unfitted */\n",
              "  color: var(--sklearn-color-unfitted-level-1);\n",
              "  border: var(--sklearn-color-unfitted-level-1) 1pt solid;\n",
              "}\n",
              "\n",
              "#sk-container-id-1 a.estimator_doc_link.fitted {\n",
              "  /* fitted */\n",
              "  border: var(--sklearn-color-fitted-level-1) 1pt solid;\n",
              "  color: var(--sklearn-color-fitted-level-1);\n",
              "}\n",
              "\n",
              "/* On hover */\n",
              "#sk-container-id-1 a.estimator_doc_link:hover {\n",
              "  /* unfitted */\n",
              "  background-color: var(--sklearn-color-unfitted-level-3);\n",
              "  color: var(--sklearn-color-background);\n",
              "  text-decoration: none;\n",
              "}\n",
              "\n",
              "#sk-container-id-1 a.estimator_doc_link.fitted:hover {\n",
              "  /* fitted */\n",
              "  background-color: var(--sklearn-color-fitted-level-3);\n",
              "}\n",
              "</style><div id=\"sk-container-id-1\" class=\"sk-top-container\"><div class=\"sk-text-repr-fallback\"><pre>DecisionTreeClassifier(random_state=42)</pre><b>In a Jupyter environment, please rerun this cell to show the HTML representation or trust the notebook. <br />On GitHub, the HTML representation is unable to render, please try loading this page with nbviewer.org.</b></div><div class=\"sk-container\" hidden><div class=\"sk-item\"><div class=\"sk-estimator fitted sk-toggleable\"><input class=\"sk-toggleable__control sk-hidden--visually\" id=\"sk-estimator-id-1\" type=\"checkbox\" checked><label for=\"sk-estimator-id-1\" class=\"sk-toggleable__label fitted sk-toggleable__label-arrow\"><div><div>DecisionTreeClassifier</div></div><div><a class=\"sk-estimator-doc-link fitted\" rel=\"noreferrer\" target=\"_blank\" href=\"https://scikit-learn.org/1.6/modules/generated/sklearn.tree.DecisionTreeClassifier.html\">?<span>Documentation for DecisionTreeClassifier</span></a><span class=\"sk-estimator-doc-link fitted\">i<span>Fitted</span></span></div></label><div class=\"sk-toggleable__content fitted\"><pre>DecisionTreeClassifier(random_state=42)</pre></div> </div></div></div></div>"
            ],
            "text/plain": [
              "DecisionTreeClassifier(random_state=42)"
            ]
          },
          "execution_count": 17,
          "metadata": {},
          "output_type": "execute_result"
        }
      ],
      "source": [
        "from sklearn.linear_model import LogisticRegression\n",
        "from sklearn.tree import DecisionTreeClassifier\n",
        "from sklearn.metrics import accuracy_score, precision_score, recall_score, f1_score\n",
        "\n",
        "# Inicialización\n",
        "lr = LogisticRegression(random_state=42, max_iter=1000)\n",
        "dt = DecisionTreeClassifier(random_state=42)\n",
        "\n",
        "# Entrenamiento\n",
        "lr.fit(X_train_scaled, y_train)\n",
        "dt.fit(X_train, y_train)"
      ]
    },
    {
      "cell_type": "markdown",
      "metadata": {
        "id": "UeRGgcPWBHS7"
      },
      "source": [
        "## **5.3 Evaluación en el set de prueba**"
      ]
    },
    {
      "cell_type": "code",
      "execution_count": 18,
      "metadata": {
        "colab": {
          "base_uri": "https://localhost:8080/"
        },
        "id": "T0khF5DqBIgI",
        "outputId": "d4cc4f09-f224-4aa4-caf1-4e7d3f55f15d"
      },
      "outputs": [
        {
          "name": "stdout",
          "output_type": "stream",
          "text": [
            "--- Regresión Logística ---\n",
            "Accuracy : 0.8006\n",
            "Precision: 0.6338\n",
            "Recall   : 0.5321\n",
            "F1 Score : 0.5785\n",
            "\n",
            "--- Árbol de Decisión ---\n",
            "Accuracy : 0.7208\n",
            "Precision: 0.4579\n",
            "Recall   : 0.4652\n",
            "F1 Score : 0.4615\n",
            "\n"
          ]
        }
      ],
      "source": [
        "# Predicciones\n",
        "y_pred_lr = lr.predict(X_test_scaled)\n",
        "y_pred_dt = dt.predict(X_test)\n",
        "\n",
        "# Función auxiliar para mostrar métricas\n",
        "def evaluar_modelo(nombre, y_true, y_pred):\n",
        "    print(f\"--- {nombre} ---\")\n",
        "    print(f\"Accuracy : {accuracy_score(y_true, y_pred):.4f}\")\n",
        "    print(f\"Precision: {precision_score(y_true, y_pred):.4f}\")\n",
        "    print(f\"Recall   : {recall_score(y_true, y_pred):.4f}\")\n",
        "    print(f\"F1 Score : {f1_score(y_true, y_pred):.4f}\")\n",
        "    print()\n",
        "\n",
        "# Evaluar\n",
        "evaluar_modelo(\"Regresión Logística\", y_test, y_pred_lr)\n",
        "evaluar_modelo(\"Árbol de Decisión\", y_test, y_pred_dt)"
      ]
    },
    {
      "cell_type": "markdown",
      "metadata": {
        "id": "UVeJVvrNBuqI"
      },
      "source": [
        "**📌 Interpretación de modelos base**\n",
        "\n",
        "**🔷 Regresión Logística**\n",
        "\n",
        "- **Accuracy:** 80% – alto, pero engañoso si recordamos que la clase mayoritaria (no churn) representa el 74.3%.\n",
        "\n",
        "- **Precision:** 63% – cuando predice churn, acierta 63% de las veces.\n",
        "\n",
        "- **Recall:** 53% – detecta solo la mitad de los casos reales de churn.\n",
        "\n",
        "- **F1 Score:** 57% – balance aceptable, pero podría mejorarse.\n",
        "\n",
        "> _Este modelo se comporta de manera moderada y equilibrada, lo que lo hace útil como baseline._\n",
        "\n",
        "**🔶 Árbol de Decisión**\n",
        "\n",
        "- **Accuracy:** 72% – menor que el baseline de clase mayoritaria.\n",
        "\n",
        "- **Precision y Recall** alrededor del 46% – pobre capacidad para detectar correctamente casos positivos.\n",
        "\n",
        "- **F1 Score:** 46% – muestra que está por debajo del desempeño de la regresión logística.\n",
        "\n",
        "> _El árbol, sin ajustes, no generaliza bien. Esto es común con árboles sin podar ni optimizar._"
      ]
    },
    {
      "cell_type": "markdown",
      "metadata": {
        "id": "ruqaTZ2fCT4k"
      },
      "source": [
        "# **📈 6. Evaluar modelos con matriz de confusión y curva ROC**"
      ]
    },
    {
      "cell_type": "markdown",
      "metadata": {
        "id": "vznjfpqaCXFJ"
      },
      "source": [
        "## **6.1 Matriz de confusión**"
      ]
    },
    {
      "cell_type": "markdown",
      "metadata": {
        "id": "KVIrhdXSCaaK"
      },
      "source": [
        "Permite ver errores tipo I y II de forma más clara."
      ]
    },
    {
      "cell_type": "code",
      "execution_count": 19,
      "metadata": {
        "colab": {
          "base_uri": "https://localhost:8080/",
          "height": 927
        },
        "id": "-o49fMLaCPfh",
        "outputId": "530ad693-8521-43e9-b51d-d71d7db43199"
      },
      "outputs": [
        {
          "data": {
            "image/png": "[encoded data removed]",
            "text/plain": [
              "<Figure size 640x480 with 2 Axes>"
            ]
          },
          "metadata": {},
          "output_type": "display_data"
        },
        {
          "data": {
            "image/png": "[encoded data removed]",
            "text/plain": [
              "<Figure size 640x480 with 2 Axes>"
            ]
          },
          "metadata": {},
          "output_type": "display_data"
        }
      ],
      "source": [
        "from sklearn.metrics import confusion_matrix, ConfusionMatrixDisplay\n",
        "\n",
        "# Regresión Logística\n",
        "ConfusionMatrixDisplay.from_estimator(lr, X_test_scaled, y_test, cmap='Blues')\n",
        "plt.title('Matriz de Confusión - Regresión Logística')\n",
        "plt.show()\n",
        "\n",
        "# Árbol de Decisión\n",
        "ConfusionMatrixDisplay.from_estimator(dt, X_test, y_test, cmap='Oranges')\n",
        "plt.title('Matriz de Confusión - Árbol de Decisión')\n",
        "plt.show()"
      ]
    },
    {
      "cell_type": "markdown",
      "metadata": {
        "id": "JkiaxMd6Kh67"
      },
      "source": [
        "**📌 Análisis de las matrices de confusión**\n",
        "\n",
        "**🔷 Regresión Logística**\n",
        "\n",
        "- **Verdaderos Negativos (TN):** 965. El modelo identificó correctamente 965 casos de la clase 0.\n",
        "\n",
        "- **Falsos Positivos (FP):** 115. El modelo predijo incorrectamente 115 casos como clase 1 cuando en realidad eran clase 0.\n",
        "\n",
        "- **Falsos Negativos (FN):** 175. El modelo predijo incorrectamente 175 casos como clase 0 cuando en realidad eran clase 1.\n",
        "\n",
        "- **Verdaderos Positivos (TP):** 199. El modelo identificó correctamente 199 casos de la clase 1.\n",
        "\n",
        "**🔶 Árbol de Decisión**\n",
        "\n",
        "- **Verdaderos Negativos (TN):** 874. El modelo identificó correctamente 874 casos de la clase 0.\n",
        "\n",
        "- **Falsos Positivos (FP):** 206. El modelo predijo incorrectamente 206 casos como clase 1 cuando en realidad eran clase 0.\n",
        "\n",
        "- **Falsos Negativos (FN):** 200. El modelo predijo incorrectamente 200 casos como clase 0 cuando en realidad eran clase 1.\n",
        "\n",
        "- **Verdaderos Positivos (TP):** 174. El modelo identificó correctamente 174 casos de la clase 1.\n",
        "\n"
      ]
    },
    {
      "cell_type": "markdown",
      "metadata": {
        "id": "O-Q7oVehCrWX"
      },
      "source": [
        "## **6.2 Curva ROC y AUC**"
      ]
    },
    {
      "cell_type": "markdown",
      "metadata": {
        "id": "cP6ITzFZCuNI"
      },
      "source": [
        "Permite evaluar el modelo más allá del umbral de 0.5, especialmente útil en datasets desbalanceados como este."
      ]
    },
    {
      "cell_type": "code",
      "execution_count": 20,
      "metadata": {
        "colab": {
          "base_uri": "https://localhost:8080/",
          "height": 564
        },
        "id": "lMBlDRLpCsYv",
        "outputId": "187b73f8-384e-4a1b-9a9e-18542f644e3e"
      },
      "outputs": [
        {
          "data": {
            "image/png": "[encoded data removed]",
            "text/plain": [
              "<Figure size 800x600 with 1 Axes>"
            ]
          },
          "metadata": {},
          "output_type": "display_data"
        }
      ],
      "source": [
        "from sklearn.metrics import roc_curve, roc_auc_score\n",
        "\n",
        "# Probabilidades\n",
        "y_probs_lr = lr.predict_proba(X_test_scaled)[:, 1]\n",
        "y_probs_dt = dt.predict_proba(X_test)[:, 1]\n",
        "\n",
        "# ROC curves\n",
        "fpr_lr, tpr_lr, _ = roc_curve(y_test, y_probs_lr)\n",
        "fpr_dt, tpr_dt, _ = roc_curve(y_test, y_probs_dt)\n",
        "\n",
        "# AUC\n",
        "auc_lr = roc_auc_score(y_test, y_probs_lr)\n",
        "auc_dt = roc_auc_score(y_test, y_probs_dt)\n",
        "\n",
        "# Plot ROC\n",
        "plt.figure(figsize=(8, 6))\n",
        "plt.plot(fpr_lr, tpr_lr, label=f'Regresión Logística (AUC = {auc_lr:.2f})')\n",
        "plt.plot(fpr_dt, tpr_dt, label=f'Árbol de Decisión (AUC = {auc_dt:.2f})')\n",
        "plt.plot([0, 1], [0, 1], 'k--')\n",
        "plt.xlabel('Tasa de Falsos Positivos (FPR)')\n",
        "plt.ylabel('Tasa de Verdaderos Positivos (TPR)')\n",
        "plt.title('Curvas ROC - Modelos base')\n",
        "plt.legend()\n",
        "plt.grid()\n",
        "plt.show()"
      ]
    },
    {
      "cell_type": "markdown",
      "metadata": {
        "id": "6H-PI_nFJ7E4"
      },
      "source": [
        "**Análisis de la Curva ROC**\n",
        "\n",
        "- **Regresión Logística (AUC = 0.84):** La curva azul se eleva rápidamente y se mantiene cerca de la esquina superior izquierda. Su alto valor de AUC (0.84) indica que el modelo tiene una alta capacidad para distinguir entre las clases positiva y negativa.\n",
        "\n",
        "- **Árbol de Decisión (AUC = 0.65):** La curva naranja está más cerca de la línea diagonal, lo que indica un rendimiento significativamente inferior. Su valor de AUC (0.65) muestra que el modelo es menos efectivo en la clasificación que la regresión logística.\n",
        "\n",
        "> _La curva ROC (Receiver Operating Characteristic) mide el rendimiento de un modelo de clasificación en todos los umbrales de clasificación. La línea diagonal punteada representa un clasificador aleatorio. Un buen modelo tendrá una curva que se curvea hacia la esquina superior izquierda. La métrica AUC (Área bajo la curva) resume el rendimiento del modelo; cuanto más cerca esté de 1, mejor._"
      ]
    },
    {
      "cell_type": "markdown",
      "metadata": {
        "id": "zWKjii2oPcZE"
      },
      "source": [
        "# **⚖️ 7. Balanceo de clases y modelos avanzados con SMOTE**"
      ]
    },
    {
      "cell_type": "markdown",
      "metadata": {
        "id": "6luHPfuhPhvh"
      },
      "source": [
        "Vamos a:\n",
        "\n",
        "1. Aplicar **SMOTE** para balancear la clase minoritaria (Evasión = 1)\n",
        "\n",
        "2. Entrenar dos modelos avanzados:\n",
        "\n",
        "  - **Random Forest**\n",
        "\n",
        "  - **XGBoost**\n",
        "\n",
        "Ambos son robustos ante ruido, pueden manejar variables no lineales, y son capaces de capturar interacciones complejas. Con **SMOTE**, buscamos mejorar el **recall** sin sacrificar demasiado precisión o **AUC**."
      ]
    },
    {
      "cell_type": "markdown",
      "metadata": {
        "id": "JdNkcbYOP9p9"
      },
      "source": [
        "## **7.1 Aplicar SMOTE al set de entrenamiento**"
      ]
    },
    {
      "cell_type": "markdown",
      "metadata": {
        "id": "nW5IvIKhQBiY"
      },
      "source": [
        "> _**Nota:** **SMOTE** se aplica solo al set de entrenamiento para evitar data leakage._"
      ]
    },
    {
      "cell_type": "code",
      "execution_count": 21,
      "metadata": {
        "colab": {
          "base_uri": "https://localhost:8080/"
        },
        "id": "5EyjXbkcKDPA",
        "outputId": "5dac6073-9bb6-4f6f-8454-785603dfa9ee"
      },
      "outputs": [
        {
          "name": "stdout",
          "output_type": "stream",
          "text": [
            "Distribución de clases después de SMOTE:\n",
            "Evasión\n",
            "0    4318\n",
            "1    4318\n",
            "Name: count, dtype: int64\n"
          ]
        }
      ],
      "source": [
        "from imblearn.over_sampling import SMOTE\n",
        "\n",
        "# Inicializamos SMOTE\n",
        "smote = SMOTE(random_state=42)\n",
        "\n",
        "# Aplicamos sobre X_train\n",
        "X_train_resampled, y_train_resampled = smote.fit_resample(X_train, y_train)\n",
        "\n",
        "print(\"Distribución de clases después de SMOTE:\")\n",
        "print(y_train_resampled.value_counts())"
      ]
    },
    {
      "cell_type": "markdown",
      "metadata": {
        "id": "UIIvfQpyQR5b"
      },
      "source": [
        "## **7.2 Entrenar modelos avanzados**"
      ]
    },
    {
      "cell_type": "markdown",
      "metadata": {
        "id": "Ndx9YEvlQVZe"
      },
      "source": [
        "### **7.2.1 Random Forest**"
      ]
    },
    {
      "cell_type": "code",
      "execution_count": 22,
      "metadata": {
        "colab": {
          "base_uri": "https://localhost:8080/",
          "height": 80
        },
        "id": "ExP4UaQ8QTKN",
        "outputId": "1909700a-d554-4f99-a61b-e19318dcf427"
      },
      "outputs": [
        {
          "data": {
            "text/html": [
              "<style>#sk-container-id-2 {\n",
              "  /* Definition of color scheme common for light and dark mode */\n",
              "  --sklearn-color-text: #000;\n",
              "  --sklearn-color-text-muted: #666;\n",
              "  --sklearn-color-line: gray;\n",
              "  /* Definition of color scheme for unfitted estimators */\n",
              "  --sklearn-color-unfitted-level-0: #fff5e6;\n",
              "  --sklearn-color-unfitted-level-1: #f6e4d2;\n",
              "  --sklearn-color-unfitted-level-2: #ffe0b3;\n",
              "  --sklearn-color-unfitted-level-3: chocolate;\n",
              "  /* Definition of color scheme for fitted estimators */\n",
              "  --sklearn-color-fitted-level-0: #f0f8ff;\n",
              "  --sklearn-color-fitted-level-1: #d4ebff;\n",
              "  --sklearn-color-fitted-level-2: #b3dbfd;\n",
              "  --sklearn-color-fitted-level-3: cornflowerblue;\n",
              "\n",
              "  /* Specific color for light theme */\n",
              "  --sklearn-color-text-on-default-background: var(--sg-text-color, var(--theme-code-foreground, var(--jp-content-font-color1, black)));\n",
              "  --sklearn-color-background: var(--sg-background-color, var(--theme-background, var(--jp-layout-color0, white)));\n",
              "  --sklearn-color-border-box: var(--sg-text-color, var(--theme-code-foreground, var(--jp-content-font-color1, black)));\n",
              "  --sklearn-color-icon: #696969;\n",
              "\n",
              "  @media (prefers-color-scheme: dark) {\n",
              "    /* Redefinition of color scheme for dark theme */\n",
              "    --sklearn-color-text-on-default-background: var(--sg-text-color, var(--theme-code-foreground, var(--jp-content-font-color1, white)));\n",
              "    --sklearn-color-background: var(--sg-background-color, var(--theme-background, var(--jp-layout-color0, #111)));\n",
              "    --sklearn-color-border-box: var(--sg-text-color, var(--theme-code-foreground, var(--jp-content-font-color1, white)));\n",
              "    --sklearn-color-icon: #878787;\n",
              "  }\n",
              "}\n",
              "\n",
              "#sk-container-id-2 {\n",
              "  color: var(--sklearn-color-text);\n",
              "}\n",
              "\n",
              "#sk-container-id-2 pre {\n",
              "  padding: 0;\n",
              "}\n",
              "\n",
              "#sk-container-id-2 input.sk-hidden--visually {\n",
              "  border: 0;\n",
              "  clip: rect(1px 1px 1px 1px);\n",
              "  clip: rect(1px, 1px, 1px, 1px);\n",
              "  height: 1px;\n",
              "  margin: -1px;\n",
              "  overflow: hidden;\n",
              "  padding: 0;\n",
              "  position: absolute;\n",
              "  width: 1px;\n",
              "}\n",
              "\n",
              "#sk-container-id-2 div.sk-dashed-wrapped {\n",
              "  border: 1px dashed var(--sklearn-color-line);\n",
              "  margin: 0 0.4em 0.5em 0.4em;\n",
              "  box-sizing: border-box;\n",
              "  padding-bottom: 0.4em;\n",
              "  background-color: var(--sklearn-color-background);\n",
              "}\n",
              "\n",
              "#sk-container-id-2 div.sk-container {\n",
              "  /* jupyter's `normalize.less` sets `[hidden] { display: none; }`\n",
              "     but bootstrap.min.css set `[hidden] { display: none !important; }`\n",
              "     so we also need the `!important` here to be able to override the\n",
              "     default hidden behavior on the sphinx rendered scikit-learn.org.\n",
              "     See: https://github.com/scikit-learn/scikit-learn/issues/21755 */\n",
              "  display: inline-block !important;\n",
              "  position: relative;\n",
              "}\n",
              "\n",
              "#sk-container-id-2 div.sk-text-repr-fallback {\n",
              "  display: none;\n",
              "}\n",
              "\n",
              "div.sk-parallel-item,\n",
              "div.sk-serial,\n",
              "div.sk-item {\n",
              "  /* draw centered vertical line to link estimators */\n",
              "  background-image: linear-gradient(var(--sklearn-color-text-on-default-background), var(--sklearn-color-text-on-default-background));\n",
              "  background-size: 2px 100%;\n",
              "  background-repeat: no-repeat;\n",
              "  background-position: center center;\n",
              "}\n",
              "\n",
              "/* Parallel-specific style estimator block */\n",
              "\n",
              "#sk-container-id-2 div.sk-parallel-item::after {\n",
              "  content: \"\";\n",
              "  width: 100%;\n",
              "  border-bottom: 2px solid var(--sklearn-color-text-on-default-background);\n",
              "  flex-grow: 1;\n",
              "}\n",
              "\n",
              "#sk-container-id-2 div.sk-parallel {\n",
              "  display: flex;\n",
              "  align-items: stretch;\n",
              "  justify-content: center;\n",
              "  background-color: var(--sklearn-color-background);\n",
              "  position: relative;\n",
              "}\n",
              "\n",
              "#sk-container-id-2 div.sk-parallel-item {\n",
              "  display: flex;\n",
              "  flex-direction: column;\n",
              "}\n",
              "\n",
              "#sk-container-id-2 div.sk-parallel-item:first-child::after {\n",
              "  align-self: flex-end;\n",
              "  width: 50%;\n",
              "}\n",
              "\n",
              "#sk-container-id-2 div.sk-parallel-item:last-child::after {\n",
              "  align-self: flex-start;\n",
              "  width: 50%;\n",
              "}\n",
              "\n",
              "#sk-container-id-2 div.sk-parallel-item:only-child::after {\n",
              "  width: 0;\n",
              "}\n",
              "\n",
              "/* Serial-specific style estimator block */\n",
              "\n",
              "#sk-container-id-2 div.sk-serial {\n",
              "  display: flex;\n",
              "  flex-direction: column;\n",
              "  align-items: center;\n",
              "  background-color: var(--sklearn-color-background);\n",
              "  padding-right: 1em;\n",
              "  padding-left: 1em;\n",
              "}\n",
              "\n",
              "\n",
              "/* Toggleable style: style used for estimator/Pipeline/ColumnTransformer box that is\n",
              "clickable and can be expanded/collapsed.\n",
              "- Pipeline and ColumnTransformer use this feature and define the default style\n",
              "- Estimators will overwrite some part of the style using the `sk-estimator` class\n",
              "*/\n",
              "\n",
              "/* Pipeline and ColumnTransformer style (default) */\n",
              "\n",
              "#sk-container-id-2 div.sk-toggleable {\n",
              "  /* Default theme specific background. It is overwritten whether we have a\n",
              "  specific estimator or a Pipeline/ColumnTransformer */\n",
              "  background-color: var(--sklearn-color-background);\n",
              "}\n",
              "\n",
              "/* Toggleable label */\n",
              "#sk-container-id-2 label.sk-toggleable__label {\n",
              "  cursor: pointer;\n",
              "  display: flex;\n",
              "  width: 100%;\n",
              "  margin-bottom: 0;\n",
              "  padding: 0.5em;\n",
              "  box-sizing: border-box;\n",
              "  text-align: center;\n",
              "  align-items: start;\n",
              "  justify-content: space-between;\n",
              "  gap: 0.5em;\n",
              "}\n",
              "\n",
              "#sk-container-id-2 label.sk-toggleable__label .caption {\n",
              "  font-size: 0.6rem;\n",
              "  font-weight: lighter;\n",
              "  color: var(--sklearn-color-text-muted);\n",
              "}\n",
              "\n",
              "#sk-container-id-2 label.sk-toggleable__label-arrow:before {\n",
              "  /* Arrow on the left of the label */\n",
              "  content: \"▸\";\n",
              "  float: left;\n",
              "  margin-right: 0.25em;\n",
              "  color: var(--sklearn-color-icon);\n",
              "}\n",
              "\n",
              "#sk-container-id-2 label.sk-toggleable__label-arrow:hover:before {\n",
              "  color: var(--sklearn-color-text);\n",
              "}\n",
              "\n",
              "/* Toggleable content - dropdown */\n",
              "\n",
              "#sk-container-id-2 div.sk-toggleable__content {\n",
              "  max-height: 0;\n",
              "  max-width: 0;\n",
              "  overflow: hidden;\n",
              "  text-align: left;\n",
              "  /* unfitted */\n",
              "  background-color: var(--sklearn-color-unfitted-level-0);\n",
              "}\n",
              "\n",
              "#sk-container-id-2 div.sk-toggleable__content.fitted {\n",
              "  /* fitted */\n",
              "  background-color: var(--sklearn-color-fitted-level-0);\n",
              "}\n",
              "\n",
              "#sk-container-id-2 div.sk-toggleable__content pre {\n",
              "  margin: 0.2em;\n",
              "  border-radius: 0.25em;\n",
              "  color: var(--sklearn-color-text);\n",
              "  /* unfitted */\n",
              "  background-color: var(--sklearn-color-unfitted-level-0);\n",
              "}\n",
              "\n",
              "#sk-container-id-2 div.sk-toggleable__content.fitted pre {\n",
              "  /* unfitted */\n",
              "  background-color: var(--sklearn-color-fitted-level-0);\n",
              "}\n",
              "\n",
              "#sk-container-id-2 input.sk-toggleable__control:checked~div.sk-toggleable__content {\n",
              "  /* Expand drop-down */\n",
              "  max-height: 200px;\n",
              "  max-width: 100%;\n",
              "  overflow: auto;\n",
              "}\n",
              "\n",
              "#sk-container-id-2 input.sk-toggleable__control:checked~label.sk-toggleable__label-arrow:before {\n",
              "  content: \"▾\";\n",
              "}\n",
              "\n",
              "/* Pipeline/ColumnTransformer-specific style */\n",
              "\n",
              "#sk-container-id-2 div.sk-label input.sk-toggleable__control:checked~label.sk-toggleable__label {\n",
              "  color: var(--sklearn-color-text);\n",
              "  background-color: var(--sklearn-color-unfitted-level-2);\n",
              "}\n",
              "\n",
              "#sk-container-id-2 div.sk-label.fitted input.sk-toggleable__control:checked~label.sk-toggleable__label {\n",
              "  background-color: var(--sklearn-color-fitted-level-2);\n",
              "}\n",
              "\n",
              "/* Estimator-specific style */\n",
              "\n",
              "/* Colorize estimator box */\n",
              "#sk-container-id-2 div.sk-estimator input.sk-toggleable__control:checked~label.sk-toggleable__label {\n",
              "  /* unfitted */\n",
              "  background-color: var(--sklearn-color-unfitted-level-2);\n",
              "}\n",
              "\n",
              "#sk-container-id-2 div.sk-estimator.fitted input.sk-toggleable__control:checked~label.sk-toggleable__label {\n",
              "  /* fitted */\n",
              "  background-color: var(--sklearn-color-fitted-level-2);\n",
              "}\n",
              "\n",
              "#sk-container-id-2 div.sk-label label.sk-toggleable__label,\n",
              "#sk-container-id-2 div.sk-label label {\n",
              "  /* The background is the default theme color */\n",
              "  color: var(--sklearn-color-text-on-default-background);\n",
              "}\n",
              "\n",
              "/* On hover, darken the color of the background */\n",
              "#sk-container-id-2 div.sk-label:hover label.sk-toggleable__label {\n",
              "  color: var(--sklearn-color-text);\n",
              "  background-color: var(--sklearn-color-unfitted-level-2);\n",
              "}\n",
              "\n",
              "/* Label box, darken color on hover, fitted */\n",
              "#sk-container-id-2 div.sk-label.fitted:hover label.sk-toggleable__label.fitted {\n",
              "  color: var(--sklearn-color-text);\n",
              "  background-color: var(--sklearn-color-fitted-level-2);\n",
              "}\n",
              "\n",
              "/* Estimator label */\n",
              "\n",
              "#sk-container-id-2 div.sk-label label {\n",
              "  font-family: monospace;\n",
              "  font-weight: bold;\n",
              "  display: inline-block;\n",
              "  line-height: 1.2em;\n",
              "}\n",
              "\n",
              "#sk-container-id-2 div.sk-label-container {\n",
              "  text-align: center;\n",
              "}\n",
              "\n",
              "/* Estimator-specific */\n",
              "#sk-container-id-2 div.sk-estimator {\n",
              "  font-family: monospace;\n",
              "  border: 1px dotted var(--sklearn-color-border-box);\n",
              "  border-radius: 0.25em;\n",
              "  box-sizing: border-box;\n",
              "  margin-bottom: 0.5em;\n",
              "  /* unfitted */\n",
              "  background-color: var(--sklearn-color-unfitted-level-0);\n",
              "}\n",
              "\n",
              "#sk-container-id-2 div.sk-estimator.fitted {\n",
              "  /* fitted */\n",
              "  background-color: var(--sklearn-color-fitted-level-0);\n",
              "}\n",
              "\n",
              "/* on hover */\n",
              "#sk-container-id-2 div.sk-estimator:hover {\n",
              "  /* unfitted */\n",
              "  background-color: var(--sklearn-color-unfitted-level-2);\n",
              "}\n",
              "\n",
              "#sk-container-id-2 div.sk-estimator.fitted:hover {\n",
              "  /* fitted */\n",
              "  background-color: var(--sklearn-color-fitted-level-2);\n",
              "}\n",
              "\n",
              "/* Specification for estimator info (e.g. \"i\" and \"?\") */\n",
              "\n",
              "/* Common style for \"i\" and \"?\" */\n",
              "\n",
              ".sk-estimator-doc-link,\n",
              "a:link.sk-estimator-doc-link,\n",
              "a:visited.sk-estimator-doc-link {\n",
              "  float: right;\n",
              "  font-size: smaller;\n",
              "  line-height: 1em;\n",
              "  font-family: monospace;\n",
              "  background-color: var(--sklearn-color-background);\n",
              "  border-radius: 1em;\n",
              "  height: 1em;\n",
              "  width: 1em;\n",
              "  text-decoration: none !important;\n",
              "  margin-left: 0.5em;\n",
              "  text-align: center;\n",
              "  /* unfitted */\n",
              "  border: var(--sklearn-color-unfitted-level-1) 1pt solid;\n",
              "  color: var(--sklearn-color-unfitted-level-1);\n",
              "}\n",
              "\n",
              ".sk-estimator-doc-link.fitted,\n",
              "a:link.sk-estimator-doc-link.fitted,\n",
              "a:visited.sk-estimator-doc-link.fitted {\n",
              "  /* fitted */\n",
              "  border: var(--sklearn-color-fitted-level-1) 1pt solid;\n",
              "  color: var(--sklearn-color-fitted-level-1);\n",
              "}\n",
              "\n",
              "/* On hover */\n",
              "div.sk-estimator:hover .sk-estimator-doc-link:hover,\n",
              ".sk-estimator-doc-link:hover,\n",
              "div.sk-label-container:hover .sk-estimator-doc-link:hover,\n",
              ".sk-estimator-doc-link:hover {\n",
              "  /* unfitted */\n",
              "  background-color: var(--sklearn-color-unfitted-level-3);\n",
              "  color: var(--sklearn-color-background);\n",
              "  text-decoration: none;\n",
              "}\n",
              "\n",
              "div.sk-estimator.fitted:hover .sk-estimator-doc-link.fitted:hover,\n",
              ".sk-estimator-doc-link.fitted:hover,\n",
              "div.sk-label-container:hover .sk-estimator-doc-link.fitted:hover,\n",
              ".sk-estimator-doc-link.fitted:hover {\n",
              "  /* fitted */\n",
              "  background-color: var(--sklearn-color-fitted-level-3);\n",
              "  color: var(--sklearn-color-background);\n",
              "  text-decoration: none;\n",
              "}\n",
              "\n",
              "/* Span, style for the box shown on hovering the info icon */\n",
              ".sk-estimator-doc-link span {\n",
              "  display: none;\n",
              "  z-index: 9999;\n",
              "  position: relative;\n",
              "  font-weight: normal;\n",
              "  right: .2ex;\n",
              "  padding: .5ex;\n",
              "  margin: .5ex;\n",
              "  width: min-content;\n",
              "  min-width: 20ex;\n",
              "  max-width: 50ex;\n",
              "  color: var(--sklearn-color-text);\n",
              "  box-shadow: 2pt 2pt 4pt #999;\n",
              "  /* unfitted */\n",
              "  background: var(--sklearn-color-unfitted-level-0);\n",
              "  border: .5pt solid var(--sklearn-color-unfitted-level-3);\n",
              "}\n",
              "\n",
              ".sk-estimator-doc-link.fitted span {\n",
              "  /* fitted */\n",
              "  background: var(--sklearn-color-fitted-level-0);\n",
              "  border: var(--sklearn-color-fitted-level-3);\n",
              "}\n",
              "\n",
              ".sk-estimator-doc-link:hover span {\n",
              "  display: block;\n",
              "}\n",
              "\n",
              "/* \"?\"-specific style due to the `<a>` HTML tag */\n",
              "\n",
              "#sk-container-id-2 a.estimator_doc_link {\n",
              "  float: right;\n",
              "  font-size: 1rem;\n",
              "  line-height: 1em;\n",
              "  font-family: monospace;\n",
              "  background-color: var(--sklearn-color-background);\n",
              "  border-radius: 1rem;\n",
              "  height: 1rem;\n",
              "  width: 1rem;\n",
              "  text-decoration: none;\n",
              "  /* unfitted */\n",
              "  color: var(--sklearn-color-unfitted-level-1);\n",
              "  border: var(--sklearn-color-unfitted-level-1) 1pt solid;\n",
              "}\n",
              "\n",
              "#sk-container-id-2 a.estimator_doc_link.fitted {\n",
              "  /* fitted */\n",
              "  border: var(--sklearn-color-fitted-level-1) 1pt solid;\n",
              "  color: var(--sklearn-color-fitted-level-1);\n",
              "}\n",
              "\n",
              "/* On hover */\n",
              "#sk-container-id-2 a.estimator_doc_link:hover {\n",
              "  /* unfitted */\n",
              "  background-color: var(--sklearn-color-unfitted-level-3);\n",
              "  color: var(--sklearn-color-background);\n",
              "  text-decoration: none;\n",
              "}\n",
              "\n",
              "#sk-container-id-2 a.estimator_doc_link.fitted:hover {\n",
              "  /* fitted */\n",
              "  background-color: var(--sklearn-color-fitted-level-3);\n",
              "}\n",
              "</style><div id=\"sk-container-id-2\" class=\"sk-top-container\"><div class=\"sk-text-repr-fallback\"><pre>RandomForestClassifier(random_state=42)</pre><b>In a Jupyter environment, please rerun this cell to show the HTML representation or trust the notebook. <br />On GitHub, the HTML representation is unable to render, please try loading this page with nbviewer.org.</b></div><div class=\"sk-container\" hidden><div class=\"sk-item\"><div class=\"sk-estimator fitted sk-toggleable\"><input class=\"sk-toggleable__control sk-hidden--visually\" id=\"sk-estimator-id-2\" type=\"checkbox\" checked><label for=\"sk-estimator-id-2\" class=\"sk-toggleable__label fitted sk-toggleable__label-arrow\"><div><div>RandomForestClassifier</div></div><div><a class=\"sk-estimator-doc-link fitted\" rel=\"noreferrer\" target=\"_blank\" href=\"https://scikit-learn.org/1.6/modules/generated/sklearn.ensemble.RandomForestClassifier.html\">?<span>Documentation for RandomForestClassifier</span></a><span class=\"sk-estimator-doc-link fitted\">i<span>Fitted</span></span></div></label><div class=\"sk-toggleable__content fitted\"><pre>RandomForestClassifier(random_state=42)</pre></div> </div></div></div></div>"
            ],
            "text/plain": [
              "RandomForestClassifier(random_state=42)"
            ]
          },
          "execution_count": 22,
          "metadata": {},
          "output_type": "execute_result"
        }
      ],
      "source": [
        "from sklearn.ensemble import RandomForestClassifier\n",
        "\n",
        "rf = RandomForestClassifier(random_state=42, n_estimators=100)\n",
        "rf.fit(X_train_resampled, y_train_resampled)"
      ]
    },
    {
      "cell_type": "markdown",
      "metadata": {
        "id": "ElbOQB0eQbnN"
      },
      "source": [
        "### **7.2.2 XGBoost**"
      ]
    },
    {
      "cell_type": "code",
      "execution_count": 23,
      "metadata": {
        "colab": {
          "base_uri": "https://localhost:8080/",
          "height": 329
        },
        "id": "lFJmZ0uTQZKC",
        "outputId": "b00040ae-1aec-4be4-d09f-db740183cd07"
      },
      "outputs": [
        {
          "data": {
            "text/html": [
              "<style>#sk-container-id-3 {\n",
              "  /* Definition of color scheme common for light and dark mode */\n",
              "  --sklearn-color-text: #000;\n",
              "  --sklearn-color-text-muted: #666;\n",
              "  --sklearn-color-line: gray;\n",
              "  /* Definition of color scheme for unfitted estimators */\n",
              "  --sklearn-color-unfitted-level-0: #fff5e6;\n",
              "  --sklearn-color-unfitted-level-1: #f6e4d2;\n",
              "  --sklearn-color-unfitted-level-2: #ffe0b3;\n",
              "  --sklearn-color-unfitted-level-3: chocolate;\n",
              "  /* Definition of color scheme for fitted estimators */\n",
              "  --sklearn-color-fitted-level-0: #f0f8ff;\n",
              "  --sklearn-color-fitted-level-1: #d4ebff;\n",
              "  --sklearn-color-fitted-level-2: #b3dbfd;\n",
              "  --sklearn-color-fitted-level-3: cornflowerblue;\n",
              "\n",
              "  /* Specific color for light theme */\n",
              "  --sklearn-color-text-on-default-background: var(--sg-text-color, var(--theme-code-foreground, var(--jp-content-font-color1, black)));\n",
              "  --sklearn-color-background: var(--sg-background-color, var(--theme-background, var(--jp-layout-color0, white)));\n",
              "  --sklearn-color-border-box: var(--sg-text-color, var(--theme-code-foreground, var(--jp-content-font-color1, black)));\n",
              "  --sklearn-color-icon: #696969;\n",
              "\n",
              "  @media (prefers-color-scheme: dark) {\n",
              "    /* Redefinition of color scheme for dark theme */\n",
              "    --sklearn-color-text-on-default-background: var(--sg-text-color, var(--theme-code-foreground, var(--jp-content-font-color1, white)));\n",
              "    --sklearn-color-background: var(--sg-background-color, var(--theme-background, var(--jp-layout-color0, #111)));\n",
              "    --sklearn-color-border-box: var(--sg-text-color, var(--theme-code-foreground, var(--jp-content-font-color1, white)));\n",
              "    --sklearn-color-icon: #878787;\n",
              "  }\n",
              "}\n",
              "\n",
              "#sk-container-id-3 {\n",
              "  color: var(--sklearn-color-text);\n",
              "}\n",
              "\n",
              "#sk-container-id-3 pre {\n",
              "  padding: 0;\n",
              "}\n",
              "\n",
              "#sk-container-id-3 input.sk-hidden--visually {\n",
              "  border: 0;\n",
              "  clip: rect(1px 1px 1px 1px);\n",
              "  clip: rect(1px, 1px, 1px, 1px);\n",
              "  height: 1px;\n",
              "  margin: -1px;\n",
              "  overflow: hidden;\n",
              "  padding: 0;\n",
              "  position: absolute;\n",
              "  width: 1px;\n",
              "}\n",
              "\n",
              "#sk-container-id-3 div.sk-dashed-wrapped {\n",
              "  border: 1px dashed var(--sklearn-color-line);\n",
              "  margin: 0 0.4em 0.5em 0.4em;\n",
              "  box-sizing: border-box;\n",
              "  padding-bottom: 0.4em;\n",
              "  background-color: var(--sklearn-color-background);\n",
              "}\n",
              "\n",
              "#sk-container-id-3 div.sk-container {\n",
              "  /* jupyter's `normalize.less` sets `[hidden] { display: none; }`\n",
              "     but bootstrap.min.css set `[hidden] { display: none !important; }`\n",
              "     so we also need the `!important` here to be able to override the\n",
              "     default hidden behavior on the sphinx rendered scikit-learn.org.\n",
              "     See: https://github.com/scikit-learn/scikit-learn/issues/21755 */\n",
              "  display: inline-block !important;\n",
              "  position: relative;\n",
              "}\n",
              "\n",
              "#sk-container-id-3 div.sk-text-repr-fallback {\n",
              "  display: none;\n",
              "}\n",
              "\n",
              "div.sk-parallel-item,\n",
              "div.sk-serial,\n",
              "div.sk-item {\n",
              "  /* draw centered vertical line to link estimators */\n",
              "  background-image: linear-gradient(var(--sklearn-color-text-on-default-background), var(--sklearn-color-text-on-default-background));\n",
              "  background-size: 2px 100%;\n",
              "  background-repeat: no-repeat;\n",
              "  background-position: center center;\n",
              "}\n",
              "\n",
              "/* Parallel-specific style estimator block */\n",
              "\n",
              "#sk-container-id-3 div.sk-parallel-item::after {\n",
              "  content: \"\";\n",
              "  width: 100%;\n",
              "  border-bottom: 2px solid var(--sklearn-color-text-on-default-background);\n",
              "  flex-grow: 1;\n",
              "}\n",
              "\n",
              "#sk-container-id-3 div.sk-parallel {\n",
              "  display: flex;\n",
              "  align-items: stretch;\n",
              "  justify-content: center;\n",
              "  background-color: var(--sklearn-color-background);\n",
              "  position: relative;\n",
              "}\n",
              "\n",
              "#sk-container-id-3 div.sk-parallel-item {\n",
              "  display: flex;\n",
              "  flex-direction: column;\n",
              "}\n",
              "\n",
              "#sk-container-id-3 div.sk-parallel-item:first-child::after {\n",
              "  align-self: flex-end;\n",
              "  width: 50%;\n",
              "}\n",
              "\n",
              "#sk-container-id-3 div.sk-parallel-item:last-child::after {\n",
              "  align-self: flex-start;\n",
              "  width: 50%;\n",
              "}\n",
              "\n",
              "#sk-container-id-3 div.sk-parallel-item:only-child::after {\n",
              "  width: 0;\n",
              "}\n",
              "\n",
              "/* Serial-specific style estimator block */\n",
              "\n",
              "#sk-container-id-3 div.sk-serial {\n",
              "  display: flex;\n",
              "  flex-direction: column;\n",
              "  align-items: center;\n",
              "  background-color: var(--sklearn-color-background);\n",
              "  padding-right: 1em;\n",
              "  padding-left: 1em;\n",
              "}\n",
              "\n",
              "\n",
              "/* Toggleable style: style used for estimator/Pipeline/ColumnTransformer box that is\n",
              "clickable and can be expanded/collapsed.\n",
              "- Pipeline and ColumnTransformer use this feature and define the default style\n",
              "- Estimators will overwrite some part of the style using the `sk-estimator` class\n",
              "*/\n",
              "\n",
              "/* Pipeline and ColumnTransformer style (default) */\n",
              "\n",
              "#sk-container-id-3 div.sk-toggleable {\n",
              "  /* Default theme specific background. It is overwritten whether we have a\n",
              "  specific estimator or a Pipeline/ColumnTransformer */\n",
              "  background-color: var(--sklearn-color-background);\n",
              "}\n",
              "\n",
              "/* Toggleable label */\n",
              "#sk-container-id-3 label.sk-toggleable__label {\n",
              "  cursor: pointer;\n",
              "  display: flex;\n",
              "  width: 100%;\n",
              "  margin-bottom: 0;\n",
              "  padding: 0.5em;\n",
              "  box-sizing: border-box;\n",
              "  text-align: center;\n",
              "  align-items: start;\n",
              "  justify-content: space-between;\n",
              "  gap: 0.5em;\n",
              "}\n",
              "\n",
              "#sk-container-id-3 label.sk-toggleable__label .caption {\n",
              "  font-size: 0.6rem;\n",
              "  font-weight: lighter;\n",
              "  color: var(--sklearn-color-text-muted);\n",
              "}\n",
              "\n",
              "#sk-container-id-3 label.sk-toggleable__label-arrow:before {\n",
              "  /* Arrow on the left of the label */\n",
              "  content: \"▸\";\n",
              "  float: left;\n",
              "  margin-right: 0.25em;\n",
              "  color: var(--sklearn-color-icon);\n",
              "}\n",
              "\n",
              "#sk-container-id-3 label.sk-toggleable__label-arrow:hover:before {\n",
              "  color: var(--sklearn-color-text);\n",
              "}\n",
              "\n",
              "/* Toggleable content - dropdown */\n",
              "\n",
              "#sk-container-id-3 div.sk-toggleable__content {\n",
              "  max-height: 0;\n",
              "  max-width: 0;\n",
              "  overflow: hidden;\n",
              "  text-align: left;\n",
              "  /* unfitted */\n",
              "  background-color: var(--sklearn-color-unfitted-level-0);\n",
              "}\n",
              "\n",
              "#sk-container-id-3 div.sk-toggleable__content.fitted {\n",
              "  /* fitted */\n",
              "  background-color: var(--sklearn-color-fitted-level-0);\n",
              "}\n",
              "\n",
              "#sk-container-id-3 div.sk-toggleable__content pre {\n",
              "  margin: 0.2em;\n",
              "  border-radius: 0.25em;\n",
              "  color: var(--sklearn-color-text);\n",
              "  /* unfitted */\n",
              "  background-color: var(--sklearn-color-unfitted-level-0);\n",
              "}\n",
              "\n",
              "#sk-container-id-3 div.sk-toggleable__content.fitted pre {\n",
              "  /* unfitted */\n",
              "  background-color: var(--sklearn-color-fitted-level-0);\n",
              "}\n",
              "\n",
              "#sk-container-id-3 input.sk-toggleable__control:checked~div.sk-toggleable__content {\n",
              "  /* Expand drop-down */\n",
              "  max-height: 200px;\n",
              "  max-width: 100%;\n",
              "  overflow: auto;\n",
              "}\n",
              "\n",
              "#sk-container-id-3 input.sk-toggleable__control:checked~label.sk-toggleable__label-arrow:before {\n",
              "  content: \"▾\";\n",
              "}\n",
              "\n",
              "/* Pipeline/ColumnTransformer-specific style */\n",
              "\n",
              "#sk-container-id-3 div.sk-label input.sk-toggleable__control:checked~label.sk-toggleable__label {\n",
              "  color: var(--sklearn-color-text);\n",
              "  background-color: var(--sklearn-color-unfitted-level-2);\n",
              "}\n",
              "\n",
              "#sk-container-id-3 div.sk-label.fitted input.sk-toggleable__control:checked~label.sk-toggleable__label {\n",
              "  background-color: var(--sklearn-color-fitted-level-2);\n",
              "}\n",
              "\n",
              "/* Estimator-specific style */\n",
              "\n",
              "/* Colorize estimator box */\n",
              "#sk-container-id-3 div.sk-estimator input.sk-toggleable__control:checked~label.sk-toggleable__label {\n",
              "  /* unfitted */\n",
              "  background-color: var(--sklearn-color-unfitted-level-2);\n",
              "}\n",
              "\n",
              "#sk-container-id-3 div.sk-estimator.fitted input.sk-toggleable__control:checked~label.sk-toggleable__label {\n",
              "  /* fitted */\n",
              "  background-color: var(--sklearn-color-fitted-level-2);\n",
              "}\n",
              "\n",
              "#sk-container-id-3 div.sk-label label.sk-toggleable__label,\n",
              "#sk-container-id-3 div.sk-label label {\n",
              "  /* The background is the default theme color */\n",
              "  color: var(--sklearn-color-text-on-default-background);\n",
              "}\n",
              "\n",
              "/* On hover, darken the color of the background */\n",
              "#sk-container-id-3 div.sk-label:hover label.sk-toggleable__label {\n",
              "  color: var(--sklearn-color-text);\n",
              "  background-color: var(--sklearn-color-unfitted-level-2);\n",
              "}\n",
              "\n",
              "/* Label box, darken color on hover, fitted */\n",
              "#sk-container-id-3 div.sk-label.fitted:hover label.sk-toggleable__label.fitted {\n",
              "  color: var(--sklearn-color-text);\n",
              "  background-color: var(--sklearn-color-fitted-level-2);\n",
              "}\n",
              "\n",
              "/* Estimator label */\n",
              "\n",
              "#sk-container-id-3 div.sk-label label {\n",
              "  font-family: monospace;\n",
              "  font-weight: bold;\n",
              "  display: inline-block;\n",
              "  line-height: 1.2em;\n",
              "}\n",
              "\n",
              "#sk-container-id-3 div.sk-label-container {\n",
              "  text-align: center;\n",
              "}\n",
              "\n",
              "/* Estimator-specific */\n",
              "#sk-container-id-3 div.sk-estimator {\n",
              "  font-family: monospace;\n",
              "  border: 1px dotted var(--sklearn-color-border-box);\n",
              "  border-radius: 0.25em;\n",
              "  box-sizing: border-box;\n",
              "  margin-bottom: 0.5em;\n",
              "  /* unfitted */\n",
              "  background-color: var(--sklearn-color-unfitted-level-0);\n",
              "}\n",
              "\n",
              "#sk-container-id-3 div.sk-estimator.fitted {\n",
              "  /* fitted */\n",
              "  background-color: var(--sklearn-color-fitted-level-0);\n",
              "}\n",
              "\n",
              "/* on hover */\n",
              "#sk-container-id-3 div.sk-estimator:hover {\n",
              "  /* unfitted */\n",
              "  background-color: var(--sklearn-color-unfitted-level-2);\n",
              "}\n",
              "\n",
              "#sk-container-id-3 div.sk-estimator.fitted:hover {\n",
              "  /* fitted */\n",
              "  background-color: var(--sklearn-color-fitted-level-2);\n",
              "}\n",
              "\n",
              "/* Specification for estimator info (e.g. \"i\" and \"?\") */\n",
              "\n",
              "/* Common style for \"i\" and \"?\" */\n",
              "\n",
              ".sk-estimator-doc-link,\n",
              "a:link.sk-estimator-doc-link,\n",
              "a:visited.sk-estimator-doc-link {\n",
              "  float: right;\n",
              "  font-size: smaller;\n",
              "  line-height: 1em;\n",
              "  font-family: monospace;\n",
              "  background-color: var(--sklearn-color-background);\n",
              "  border-radius: 1em;\n",
              "  height: 1em;\n",
              "  width: 1em;\n",
              "  text-decoration: none !important;\n",
              "  margin-left: 0.5em;\n",
              "  text-align: center;\n",
              "  /* unfitted */\n",
              "  border: var(--sklearn-color-unfitted-level-1) 1pt solid;\n",
              "  color: var(--sklearn-color-unfitted-level-1);\n",
              "}\n",
              "\n",
              ".sk-estimator-doc-link.fitted,\n",
              "a:link.sk-estimator-doc-link.fitted,\n",
              "a:visited.sk-estimator-doc-link.fitted {\n",
              "  /* fitted */\n",
              "  border: var(--sklearn-color-fitted-level-1) 1pt solid;\n",
              "  color: var(--sklearn-color-fitted-level-1);\n",
              "}\n",
              "\n",
              "/* On hover */\n",
              "div.sk-estimator:hover .sk-estimator-doc-link:hover,\n",
              ".sk-estimator-doc-link:hover,\n",
              "div.sk-label-container:hover .sk-estimator-doc-link:hover,\n",
              ".sk-estimator-doc-link:hover {\n",
              "  /* unfitted */\n",
              "  background-color: var(--sklearn-color-unfitted-level-3);\n",
              "  color: var(--sklearn-color-background);\n",
              "  text-decoration: none;\n",
              "}\n",
              "\n",
              "div.sk-estimator.fitted:hover .sk-estimator-doc-link.fitted:hover,\n",
              ".sk-estimator-doc-link.fitted:hover,\n",
              "div.sk-label-container:hover .sk-estimator-doc-link.fitted:hover,\n",
              ".sk-estimator-doc-link.fitted:hover {\n",
              "  /* fitted */\n",
              "  background-color: var(--sklearn-color-fitted-level-3);\n",
              "  color: var(--sklearn-color-background);\n",
              "  text-decoration: none;\n",
              "}\n",
              "\n",
              "/* Span, style for the box shown on hovering the info icon */\n",
              ".sk-estimator-doc-link span {\n",
              "  display: none;\n",
              "  z-index: 9999;\n",
              "  position: relative;\n",
              "  font-weight: normal;\n",
              "  right: .2ex;\n",
              "  padding: .5ex;\n",
              "  margin: .5ex;\n",
              "  width: min-content;\n",
              "  min-width: 20ex;\n",
              "  max-width: 50ex;\n",
              "  color: var(--sklearn-color-text);\n",
              "  box-shadow: 2pt 2pt 4pt #999;\n",
              "  /* unfitted */\n",
              "  background: var(--sklearn-color-unfitted-level-0);\n",
              "  border: .5pt solid var(--sklearn-color-unfitted-level-3);\n",
              "}\n",
              "\n",
              ".sk-estimator-doc-link.fitted span {\n",
              "  /* fitted */\n",
              "  background: var(--sklearn-color-fitted-level-0);\n",
              "  border: var(--sklearn-color-fitted-level-3);\n",
              "}\n",
              "\n",
              ".sk-estimator-doc-link:hover span {\n",
              "  display: block;\n",
              "}\n",
              "\n",
              "/* \"?\"-specific style due to the `<a>` HTML tag */\n",
              "\n",
              "#sk-container-id-3 a.estimator_doc_link {\n",
              "  float: right;\n",
              "  font-size: 1rem;\n",
              "  line-height: 1em;\n",
              "  font-family: monospace;\n",
              "  background-color: var(--sklearn-color-background);\n",
              "  border-radius: 1rem;\n",
              "  height: 1rem;\n",
              "  width: 1rem;\n",
              "  text-decoration: none;\n",
              "  /* unfitted */\n",
              "  color: var(--sklearn-color-unfitted-level-1);\n",
              "  border: var(--sklearn-color-unfitted-level-1) 1pt solid;\n",
              "}\n",
              "\n",
              "#sk-container-id-3 a.estimator_doc_link.fitted {\n",
              "  /* fitted */\n",
              "  border: var(--sklearn-color-fitted-level-1) 1pt solid;\n",
              "  color: var(--sklearn-color-fitted-level-1);\n",
              "}\n",
              "\n",
              "/* On hover */\n",
              "#sk-container-id-3 a.estimator_doc_link:hover {\n",
              "  /* unfitted */\n",
              "  background-color: var(--sklearn-color-unfitted-level-3);\n",
              "  color: var(--sklearn-color-background);\n",
              "  text-decoration: none;\n",
              "}\n",
              "\n",
              "#sk-container-id-3 a.estimator_doc_link.fitted:hover {\n",
              "  /* fitted */\n",
              "  background-color: var(--sklearn-color-fitted-level-3);\n",
              "}\n",
              "</style><div id=\"sk-container-id-3\" class=\"sk-top-container\"><div class=\"sk-text-repr-fallback\"><pre>XGBClassifier(base_score=None, booster=None, callbacks=None,\n",
              "              colsample_bylevel=None, colsample_bynode=None,\n",
              "              colsample_bytree=None, device=None, early_stopping_rounds=None,\n",
              "              enable_categorical=False, eval_metric=&#x27;logloss&#x27;,\n",
              "              feature_types=None, feature_weights=None, gamma=None,\n",
              "              grow_policy=None, importance_type=None,\n",
              "              interaction_constraints=None, learning_rate=None, max_bin=None,\n",
              "              max_cat_threshold=None, max_cat_to_onehot=None,\n",
              "              max_delta_step=None, max_depth=None, max_leaves=None,\n",
              "              min_child_weight=None, missing=nan, monotone_constraints=None,\n",
              "              multi_strategy=None, n_estimators=None, n_jobs=None,\n",
              "              num_parallel_tree=None, ...)</pre><b>In a Jupyter environment, please rerun this cell to show the HTML representation or trust the notebook. <br />On GitHub, the HTML representation is unable to render, please try loading this page with nbviewer.org.</b></div><div class=\"sk-container\" hidden><div class=\"sk-item\"><div class=\"sk-estimator fitted sk-toggleable\"><input class=\"sk-toggleable__control sk-hidden--visually\" id=\"sk-estimator-id-3\" type=\"checkbox\" checked><label for=\"sk-estimator-id-3\" class=\"sk-toggleable__label fitted sk-toggleable__label-arrow\"><div><div>XGBClassifier</div></div><div><a class=\"sk-estimator-doc-link fitted\" rel=\"noreferrer\" target=\"_blank\" href=\"https://xgboost.readthedocs.io/en/release_3.0.0/python/python_api.html#xgboost.XGBClassifier\">?<span>Documentation for XGBClassifier</span></a><span class=\"sk-estimator-doc-link fitted\">i<span>Fitted</span></span></div></label><div class=\"sk-toggleable__content fitted\"><pre>XGBClassifier(base_score=None, booster=None, callbacks=None,\n",
              "              colsample_bylevel=None, colsample_bynode=None,\n",
              "              colsample_bytree=None, device=None, early_stopping_rounds=None,\n",
              "              enable_categorical=False, eval_metric=&#x27;logloss&#x27;,\n",
              "              feature_types=None, feature_weights=None, gamma=None,\n",
              "              grow_policy=None, importance_type=None,\n",
              "              interaction_constraints=None, learning_rate=None, max_bin=None,\n",
              "              max_cat_threshold=None, max_cat_to_onehot=None,\n",
              "              max_delta_step=None, max_depth=None, max_leaves=None,\n",
              "              min_child_weight=None, missing=nan, monotone_constraints=None,\n",
              "              multi_strategy=None, n_estimators=None, n_jobs=None,\n",
              "              num_parallel_tree=None, ...)</pre></div> </div></div></div></div>"
            ],
            "text/plain": [
              "XGBClassifier(base_score=None, booster=None, callbacks=None,\n",
              "              colsample_bylevel=None, colsample_bynode=None,\n",
              "              colsample_bytree=None, device=None, early_stopping_rounds=None,\n",
              "              enable_categorical=False, eval_metric='logloss',\n",
              "              feature_types=None, feature_weights=None, gamma=None,\n",
              "              grow_policy=None, importance_type=None,\n",
              "              interaction_constraints=None, learning_rate=None, max_bin=None,\n",
              "              max_cat_threshold=None, max_cat_to_onehot=None,\n",
              "              max_delta_step=None, max_depth=None, max_leaves=None,\n",
              "              min_child_weight=None, missing=nan, monotone_constraints=None,\n",
              "              multi_strategy=None, n_estimators=None, n_jobs=None,\n",
              "              num_parallel_tree=None, ...)"
            ]
          },
          "execution_count": 23,
          "metadata": {},
          "output_type": "execute_result"
        }
      ],
      "source": [
        "from xgboost import XGBClassifier\n",
        "\n",
        "xgb = XGBClassifier(random_state=42, eval_metric='logloss')\n",
        "xgb.fit(X_train_resampled, y_train_resampled)"
      ]
    },
    {
      "cell_type": "markdown",
      "metadata": {
        "id": "Nu-8oaYbQh5M"
      },
      "source": [
        "## **7.3 Evaluación de los modelos balanceados**"
      ]
    },
    {
      "cell_type": "code",
      "execution_count": 24,
      "metadata": {
        "colab": {
          "base_uri": "https://localhost:8080/"
        },
        "id": "yRDxuc5BQedf",
        "outputId": "7ed37828-b763-44ed-846b-08e2ae2e1b1a"
      },
      "outputs": [
        {
          "name": "stdout",
          "output_type": "stream",
          "text": [
            "Random Forest:\n",
            "              precision    recall  f1-score   support\n",
            "\n",
            "           0     0.8478    0.8407    0.8443      1080\n",
            "           1     0.5509    0.5642    0.5575       374\n",
            "\n",
            "    accuracy                         0.7696      1454\n",
            "   macro avg     0.6994    0.7025    0.7009      1454\n",
            "weighted avg     0.7714    0.7696    0.7705      1454\n",
            "\n",
            "\n",
            "XGBoost:\n",
            "              precision    recall  f1-score   support\n",
            "\n",
            "           0     0.8407    0.8259    0.8333      1080\n",
            "           1     0.5216    0.5481    0.5346       374\n",
            "\n",
            "    accuracy                         0.7545      1454\n",
            "   macro avg     0.6812    0.6870    0.6839      1454\n",
            "weighted avg     0.7586    0.7545    0.7564      1454\n",
            "\n"
          ]
        }
      ],
      "source": [
        "from sklearn.metrics import classification_report, roc_auc_score, roc_curve\n",
        "import matplotlib.pyplot as plt\n",
        "\n",
        "# Predicciones\n",
        "y_pred_rf = rf.predict(X_test)\n",
        "y_pred_xgb = xgb.predict(X_test)\n",
        "\n",
        "# Probabilidades\n",
        "y_proba_rf = rf.predict_proba(X_test)[:, 1]\n",
        "y_proba_xgb = xgb.predict_proba(X_test)[:, 1]\n",
        "\n",
        "# Reporte de clasificación\n",
        "print(\"Random Forest:\")\n",
        "print(classification_report(y_test, y_pred_rf, digits=4))\n",
        "print('')\n",
        "print(\"XGBoost:\")\n",
        "print(classification_report(y_test, y_pred_xgb, digits=4))"
      ]
    },
    {
      "cell_type": "markdown",
      "metadata": {
        "id": "9Uin_yKtQuw6"
      },
      "source": [
        "## **7.4 Curva ROC y AUC**"
      ]
    },
    {
      "cell_type": "code",
      "execution_count": 25,
      "metadata": {
        "colab": {
          "base_uri": "https://localhost:8080/",
          "height": 564
        },
        "id": "R9eNRVb0Qlmy",
        "outputId": "6e8c83e1-e000-422c-c54f-f9eed02eb6d3"
      },
      "outputs": [
        {
          "data": {
            "image/png": "[encoded data removed]",
            "text/plain": [
              "<Figure size 800x600 with 1 Axes>"
            ]
          },
          "metadata": {},
          "output_type": "display_data"
        }
      ],
      "source": [
        "# ROC y AUC\n",
        "fpr_rf, tpr_rf, _ = roc_curve(y_test, y_proba_rf)\n",
        "fpr_xgb, tpr_xgb, _ = roc_curve(y_test, y_proba_xgb)\n",
        "\n",
        "auc_rf = roc_auc_score(y_test, y_proba_rf)\n",
        "auc_xgb = roc_auc_score(y_test, y_proba_xgb)\n",
        "\n",
        "# Gráfico\n",
        "plt.figure(figsize=(8, 6))\n",
        "plt.plot(fpr_rf, tpr_rf, label=f'Random Forest (AUC = {auc_rf:.2f})')\n",
        "plt.plot(fpr_xgb, tpr_xgb, label=f'XGBoost (AUC = {auc_xgb:.2f})')\n",
        "plt.plot([0, 1], [0, 1], 'k--')\n",
        "plt.xlabel('Falsos Positivos')\n",
        "plt.ylabel('Verdaderos Positivos')\n",
        "plt.title('Curvas ROC - Modelos balanceados con SMOTE')\n",
        "plt.legend()\n",
        "plt.grid()\n",
        "plt.show()"
      ]
    },
    {
      "cell_type": "markdown",
      "metadata": {
        "id": "5LL-QOGJRaYu"
      },
      "source": [
        "**Análisis de la Curva ROC**\n",
        "\n",
        "- **Random Forest (AUC = 0.81):** La curva azul representa el modelo Random Forest, y su área bajo la curva es de 0.81.\n",
        "\n",
        "- **XGBoost (AUC = 0.80):** La curva naranja representa el modelo XGBoost, y su área bajo la curva es de 0.80."
      ]
    },
    {
      "cell_type": "markdown",
      "metadata": {
        "id": "IhOcl0SaSz3h"
      },
      "source": [
        "## **7.5 Optimización de hiperparámetros con RandomizedSearchCV**"
      ]
    },
    {
      "cell_type": "markdown",
      "metadata": {
        "id": "CAMF4l7AS7bS"
      },
      "source": [
        "**🎯 Objetivo**\n",
        "\n",
        "Ajustar los hiperparámetros de `Random Forest` y `XGBoost` para mejorar el desempeño en predicción de churn, especialmente en la clase minoritaria."
      ]
    },
    {
      "cell_type": "markdown",
      "metadata": {
        "id": "rmYFyHCkTM7S"
      },
      "source": [
        "### **7.5.1 Optimización de Random Forest**"
      ]
    },
    {
      "cell_type": "code",
      "execution_count": 26,
      "metadata": {
        "colab": {
          "base_uri": "https://localhost:8080/"
        },
        "id": "YCug-omWRjBJ",
        "outputId": "aa8e1a2e-0013-45d4-d6e7-e9fe762ce8ce"
      },
      "outputs": [
        {
          "name": "stdout",
          "output_type": "stream",
          "text": [
            "Fitting 3 folds for each of 30 candidates, totalling 90 fits\n",
            "Mejores hiperparámetros (Random Forest): {'bootstrap': False, 'max_depth': 13, 'min_samples_leaf': 2, 'min_samples_split': 3, 'n_estimators': 369}\n"
          ]
        }
      ],
      "source": [
        "from sklearn.model_selection import RandomizedSearchCV\n",
        "from sklearn.ensemble import RandomForestClassifier\n",
        "from scipy.stats import randint\n",
        "\n",
        "# Espacio de búsqueda\n",
        "param_dist_rf = {\n",
        "    'n_estimators': randint(100, 500),\n",
        "    'max_depth': randint(4, 20),\n",
        "    'min_samples_split': randint(2, 10),\n",
        "    'min_samples_leaf': randint(1, 10),\n",
        "    'bootstrap': [True, False]\n",
        "}\n",
        "\n",
        "# Inicializamos el modelo base\n",
        "rf_base = RandomForestClassifier(random_state=42)\n",
        "\n",
        "# Búsqueda aleatoria\n",
        "random_search_rf = RandomizedSearchCV(\n",
        "    rf_base,\n",
        "    param_distributions=param_dist_rf,\n",
        "    n_iter=30,\n",
        "    cv=3,\n",
        "    scoring='f1',\n",
        "    verbose=1,\n",
        "    random_state=42,\n",
        "    n_jobs=-1\n",
        ")\n",
        "\n",
        "# Entrenamiento\n",
        "random_search_rf.fit(X_train_resampled, y_train_resampled)\n",
        "\n",
        "# Mejor estimador\n",
        "best_rf = random_search_rf.best_estimator_\n",
        "print(\"Mejores hiperparámetros (Random Forest):\", random_search_rf.best_params_)"
      ]
    },
    {
      "cell_type": "markdown",
      "metadata": {
        "id": "4QGUyTFGTq6L"
      },
      "source": [
        "### **7.5.2 Optimización de XGBoost**"
      ]
    },
    {
      "cell_type": "code",
      "execution_count": 27,
      "metadata": {
        "colab": {
          "base_uri": "https://localhost:8080/"
        },
        "id": "dqFjHlflTtt-",
        "outputId": "65fad88b-2012-4d51-8f6b-c7481f13b534"
      },
      "outputs": [
        {
          "name": "stdout",
          "output_type": "stream",
          "text": [
            "Fitting 3 folds for each of 30 candidates, totalling 90 fits\n",
            "Mejores hiperparámetros (XGBoost): {'colsample_bytree': np.float64(0.8493192507310232), 'gamma': np.float64(1.654490124263246), 'learning_rate': np.float64(0.02906750508580709), 'max_depth': 9, 'n_estimators': 161, 'subsample': np.float64(0.7300733288106989)}\n"
          ]
        }
      ],
      "source": [
        "from xgboost import XGBClassifier\n",
        "from scipy.stats import uniform\n",
        "\n",
        "# Espacio de búsqueda\n",
        "param_dist_xgb = {\n",
        "    'n_estimators': randint(100, 300),\n",
        "    'max_depth': randint(3, 10),\n",
        "    'learning_rate': uniform(0.01, 0.3),\n",
        "    'subsample': uniform(0.6, 0.4),\n",
        "    'colsample_bytree': uniform(0.6, 0.4),\n",
        "    'gamma': uniform(0, 5)\n",
        "}\n",
        "\n",
        "# Modelo base\n",
        "xgb_base = XGBClassifier(random_state=42, eval_metric='logloss')\n",
        "\n",
        "# Búsqueda aleatoria\n",
        "random_search_xgb = RandomizedSearchCV(\n",
        "    xgb_base,\n",
        "    param_distributions=param_dist_xgb,\n",
        "    n_iter=30,\n",
        "    cv=3,\n",
        "    scoring='f1',\n",
        "    verbose=1,\n",
        "    random_state=42,\n",
        "    n_jobs=-1\n",
        ")\n",
        "\n",
        "# Entrenamiento\n",
        "random_search_xgb.fit(X_train_resampled, y_train_resampled)\n",
        "\n",
        "# Mejor estimador\n",
        "best_xgb = random_search_xgb.best_estimator_\n",
        "print(\"Mejores hiperparámetros (XGBoost):\", random_search_xgb.best_params_)"
      ]
    },
    {
      "cell_type": "markdown",
      "metadata": {
        "id": "LJY-1grHT1qW"
      },
      "source": [
        "### **7.5.3 Evaluación de modelos optimizados**"
      ]
    },
    {
      "cell_type": "code",
      "execution_count": 28,
      "metadata": {
        "colab": {
          "base_uri": "https://localhost:8080/"
        },
        "id": "LAygksv0T4hc",
        "outputId": "ced82fd0-780f-462b-f6d7-f6872b3e8b3f"
      },
      "outputs": [
        {
          "name": "stdout",
          "output_type": "stream",
          "text": [
            "Random Forest optimizado:\n",
            "              precision    recall  f1-score   support\n",
            "\n",
            "           0     0.8771    0.8130    0.8438      1080\n",
            "           1     0.5541    0.6711    0.6070       374\n",
            "\n",
            "    accuracy                         0.7765      1454\n",
            "   macro avg     0.7156    0.7420    0.7254      1454\n",
            "weighted avg     0.7940    0.7765    0.7829      1454\n",
            "\n",
            "XGBoost optimizado:\n",
            "              precision    recall  f1-score   support\n",
            "\n",
            "           0     0.8684    0.8185    0.8427      1080\n",
            "           1     0.5505    0.6417    0.5926       374\n",
            "\n",
            "    accuracy                         0.7730      1454\n",
            "   macro avg     0.7094    0.7301    0.7176      1454\n",
            "weighted avg     0.7866    0.7730    0.7784      1454\n",
            "\n",
            "AUC - Random Forest optimizado: 0.8258\n",
            "AUC - XGBoost optimizado: 0.8301\n"
          ]
        }
      ],
      "source": [
        "from sklearn.metrics import classification_report, roc_auc_score\n",
        "\n",
        "# Predicciones\n",
        "y_pred_best_rf = best_rf.predict(X_test)\n",
        "y_pred_best_xgb = best_xgb.predict(X_test)\n",
        "\n",
        "# Probabilidades\n",
        "y_prob_best_rf = best_rf.predict_proba(X_test)[:, 1]\n",
        "y_prob_best_xgb = best_xgb.predict_proba(X_test)[:, 1]\n",
        "\n",
        "# Reporte\n",
        "print(\"Random Forest optimizado:\")\n",
        "print(classification_report(y_test, y_pred_best_rf, digits=4))\n",
        "\n",
        "print(\"XGBoost optimizado:\")\n",
        "print(classification_report(y_test, y_pred_best_xgb, digits=4))\n",
        "\n",
        "# AUC\n",
        "auc_best_rf = roc_auc_score(y_test, y_prob_best_rf)\n",
        "auc_best_xgb = roc_auc_score(y_test, y_prob_best_xgb)\n",
        "print(f\"AUC - Random Forest optimizado: {auc_best_rf:.4f}\")\n",
        "print(f\"AUC - XGBoost optimizado: {auc_best_xgb:.4f}\")"
      ]
    },
    {
      "cell_type": "markdown",
      "metadata": {
        "id": "JRP-kas2VDAe"
      },
      "source": [
        "**🧠 Interpretación:**\n",
        "\n",
        "- **Random Forest optimizado:**\n",
        "\n",
        "  - Muestra mejor rendimiento general, especialmente en la clase positiva (churn).\n",
        "\n",
        "  - Su **recall** del 67.1% indica una buena capacidad para detectar evasores.\n",
        "\n",
        "  - El **AUC** de 0.825 confirma una discriminación sólida entre clases.\n",
        "\n",
        "- **XGBoost optimizado:**\n",
        "\n",
        "  - Aunque competitivo, obtiene menor **recall** y **F1** en la clase 1, lo cual es crítico en problemas de **churn** donde identificar posibles evasores es prioridad."
      ]
    },
    {
      "cell_type": "markdown",
      "metadata": {
        "id": "L7OW2g9nVkwB"
      },
      "source": [
        "**✅ Decisión del modelo final**\n",
        "\n",
        "> _Dado que **Random Forest optimizado** obtuvo un mejor equilibrio entre **recall**, **F1** y **AUC**, se selecciona como modelo final para producción._"
      ]
    },
    {
      "cell_type": "markdown",
      "metadata": {
        "id": "sZgqdDaYaP1x"
      },
      "source": [
        "### **📊 Gráfico de importancia de variables del modelo Random Forest optimizado**"
      ]
    },
    {
      "cell_type": "code",
      "execution_count": 29,
      "metadata": {
        "colab": {
          "base_uri": "https://localhost:8080/",
          "height": 607
        },
        "id": "EM38FbLzaNDy",
        "outputId": "8518d53a-a34e-4bee-b35d-e4bd4e52f8d9"
      },
      "outputs": [
        {
          "data": {
            "image/png": "[encoded data removed]",
            "text/plain": [
              "<Figure size 800x600 with 1 Axes>"
            ]
          },
          "metadata": {},
          "output_type": "display_data"
        }
      ],
      "source": [
        "import matplotlib.pyplot as plt\n",
        "import pandas as pd\n",
        "\n",
        "# Obtener importancias\n",
        "importancias = best_rf.feature_importances_\n",
        "features = X_train.columns\n",
        "df_importancia = pd.DataFrame({'Feature': features, 'Importancia': importancias})\n",
        "df_importancia = df_importancia.sort_values(by='Importancia', ascending=True).tail(10)\n",
        "\n",
        "# Gráfico\n",
        "plt.figure(figsize=(8, 6))\n",
        "plt.barh(df_importancia['Feature'], df_importancia['Importancia'])\n",
        "plt.title('Top 10 variables más importantes - Random Forest')\n",
        "plt.xlabel('Importancia')\n",
        "plt.tight_layout()\n",
        "plt.savefig('../img/importancia_variables_rf.png')\n",
        "plt.show()"
      ]
    },
    {
      "cell_type": "markdown",
      "metadata": {
        "id": "h5S80E3PVx_8"
      },
      "source": [
        "## **7.6 Guardar modelo entrenado**"
      ]
    },
    {
      "cell_type": "markdown",
      "metadata": {
        "id": "TKptznblWACV"
      },
      "source": [
        "Tras la optimización con `RandomizedSearchCV`, el modelo _Random Forest_ mejoró significativamente sus métricas, logrando un **recall** de 64.9% en la clase positiva y un **AUC** de 0.83. Este rendimiento superior al de _XGBoost_ lo posiciona como el modelo final seleccionado. Se procede a guardar el modelo entrenado para uso posterior en producción o evaluación."
      ]
    },
    {
      "cell_type": "code",
      "execution_count": 30,
      "metadata": {
        "id": "IxS-7UXgVGp2"
      },
      "outputs": [],
      "source": [
        "import joblib\n",
        "\n",
        "# Guardamos el modelo optimizado\n",
        "# joblib.dump(best_rf, '../mod/modelo_churn_rf_optimo.pkl')"
      ]
    },
    {
      "cell_type": "markdown",
      "metadata": {
        "id": "Nl8P8hSfa0JY"
      },
      "source": [
        "# **📊 8. Interpretación de resultados y conclusiones**"
      ]
    },
    {
      "cell_type": "markdown",
      "metadata": {
        "id": "a916AlCda7DT"
      },
      "source": [
        "## **🎯 Objetivo del Proyecto**"
      ]
    },
    {
      "cell_type": "markdown",
      "metadata": {
        "id": "LgrYdxqVa_3Q"
      },
      "source": [
        "El objetivo fue desarrollar un modelo predictivo capaz de identificar a los clientes con mayor probabilidad de evasión (churn) en una empresa de telecomunicaciones, utilizando variables demográficas, de servicios contratados y comportamiento de pago."
      ]
    },
    {
      "cell_type": "markdown",
      "metadata": {
        "id": "pvh_yxXVbDEL"
      },
      "source": [
        "## **⚙️ Proceso Realizado**"
      ]
    },
    {
      "cell_type": "markdown",
      "metadata": {
        "id": "BeBKZEo_bGtS"
      },
      "source": [
        "- Se realizó un **análisis exploratorio de datos (EDA)** para entender la estructura del dataset, identificar relaciones entre variables y definir las características más relevantes.\n",
        "\n",
        "- Se entrenaron modelos base (Regresión Logística y Árbol de Decisión) para establecer un punto de comparación inicial.\n",
        "\n",
        "- Dada la ligera desbalance en la clase objetivo (~25.7% evasores), se aplicó **SMOTE** para balancear el conjunto de entrenamiento.\n",
        "\n",
        "- Se entrenaron modelos más robustos (Random Forest y XGBoost) y posteriormente se optimizaron mediante **búsqueda aleatoria de hiperparámetros** (`RandomizedSearchCV`)."
      ]
    },
    {
      "cell_type": "markdown",
      "metadata": {
        "id": "eBPE35MWbYq_"
      },
      "source": [
        "## **✅ Modelo Seleccionado**"
      ]
    },
    {
      "cell_type": "markdown",
      "metadata": {
        "id": "ucVwb-YbbcKs"
      },
      "source": [
        "El modelo seleccionado fue **Random Forest optimizado**, que alcanzó los siguientes resultados en el conjunto de prueba:\n",
        "\n",
        "- **Accuracy:** 77.6%\n",
        "\n",
        "- **Recall clase positiva (evasión):** 67.1%\n",
        "\n",
        "- **F1-score clase positiva:** 60.7%\n",
        "\n",
        "- **AUC:** 0.825\n",
        "\n",
        "> _🔍 Este rendimiento indica una buena capacidad para identificar correctamente a los clientes propensos a abandonar el servicio, manteniendo un equilibrio entre precisión y sensibilidad._"
      ]
    },
    {
      "cell_type": "markdown",
      "metadata": {
        "id": "82aS4TLDbysH"
      },
      "source": [
        "## **📌 Interpretación estratégica**"
      ]
    },
    {
      "cell_type": "markdown",
      "metadata": {
        "id": "1kJA_4zsb1fg"
      },
      "source": [
        "- Un recall del **67.1%** en la clase positiva sugiere que el modelo es capaz de detectar con relativa eficacia a los posibles evasores. Esto es valioso para **anticiparse a la pérdida de clientes** y aplicar estrategias de retención.\n",
        "\n",
        "- El AUC superior a **0.825** indica una **alta capacidad discriminativa** del modelo.\n",
        "\n",
        "- La utilización de modelos basados en árboles como Random Forest permite, además, analizar la **importancia relativa de las variables**, lo que facilita la toma de decisiones estratégicas basadas en los factores que más influyen en la evasión."
      ]
    },
    {
      "cell_type": "markdown",
      "metadata": {
        "id": "NoyrK3wGcJHQ"
      },
      "source": [
        "## **💡 Recomendaciones**"
      ]
    },
    {
      "cell_type": "markdown",
      "metadata": {
        "id": "xqy5L2DAcMA8"
      },
      "source": [
        "1. **Implementar el modelo en un entorno de prueba o entorno productivo controlado**, aplicándolo a datos recientes para predecir posibles evasores.\n",
        "\n",
        "2. Utilizar las predicciones para **dirigir campañas de fidelización personalizadas** a clientes con alta probabilidad de churn.\n",
        "\n",
        "3. Realizar un monitoreo periódico del desempeño del modelo y reevaluar los umbrales de decisión según la evolución del negocio.\n",
        "\n",
        "4. Explorar la interpretación de variables usando **SHAP** o análisis de importancia para comprender mejor los factores que influyen en la evasión."
      ]
    },
    {
      "cell_type": "markdown",
      "metadata": {
        "id": "nI7D3BaccaAP"
      },
      "source": [
        "## **📎 Próximos pasos sugeridos**"
      ]
    },
    {
      "cell_type": "markdown",
      "metadata": {
        "id": "VtjkCtkZcdGd"
      },
      "source": [
        "- Realizar un análisis económico de impacto de aplicar el modelo: ¿cuánto costaría retener a un cliente vs. cuánto se pierde al dejarlo ir?\n",
        "\n",
        "- Construir una **API** o una interfaz de consulta interna para que equipos de marketing o atención al cliente accedan al score de evasión.\n",
        "\n",
        "- Ampliar el conjunto de datos con información adicional: interacciones recientes, quejas, visitas a centros de servicio, etc."
      ]
    }
  ],
  "metadata": {
    "colab": {
      "provenance": []
    },
    "kernelspec": {
      "display_name": ".venv",
      "language": "python",
      "name": "python3"
    },
    "language_info": {
      "codemirror_mode": {
        "name": "ipython",
        "version": 3
      },
      "file_extension": ".py",
      "mimetype": "text/x-python",
      "name": "python",
      "nbconvert_exporter": "python",
      "pygments_lexer": "ipython3",
      "version": "3.13.5"
    }
  },
  "nbformat": 4,
  "nbformat_minor": 0
}
