{
 "cells": [
  {
   "cell_type": "markdown",
   "metadata": {
    "id": "uxdDkaR2FhLp"
   },
   "source": [
    "# **📌 Extracción(E - Extract)**"
   ]
  },
  {
   "cell_type": "markdown",
   "metadata": {
    "id": "yFsFZA3WSv3G"
   },
   "source": [
    "## **Importando datos de Telecom X**"
   ]
  },
  {
   "cell_type": "code",
   "execution_count": 5,
   "metadata": {
    "id": "NsWAvemTTBmO"
   },
   "outputs": [],
   "source": [
    "import pandas as pd\n",
    "import json"
   ]
  },
  {
   "cell_type": "code",
   "execution_count": 6,
   "metadata": {
    "id": "D2-olmeht4dA"
   },
   "outputs": [],
   "source": [
    "datos = '../data/TelecomX_Data.json'"
   ]
  },
  {
   "cell_type": "code",
   "execution_count": 7,
   "metadata": {
    "id": "PADFnsAfTUk7"
   },
   "outputs": [],
   "source": [
    "df = pd.read_json(datos)"
   ]
  },
  {
   "cell_type": "markdown",
   "metadata": {
    "id": "bvj6xRJWE9xz"
   },
   "source": [
    "# **🔧 Transformación (T - Transform)**"
   ]
  },
  {
   "cell_type": "markdown",
   "metadata": {
    "id": "efG3c0unVtLK"
   },
   "source": [
    "## **Conocer el conjunto de datos**"
   ]
  },
  {
   "cell_type": "code",
   "execution_count": 8,
   "metadata": {
    "colab": {
     "base_uri": "https://localhost:8080/",
     "height": 486
    },
    "executionInfo": {
     "elapsed": 98,
     "status": "ok",
     "timestamp": 1750521224335,
     "user": {
      "displayName": "Elias Celis",
      "userId": "07132738901482165301"
     },
     "user_tz": 240
    },
    "id": "YiQucrwKwCcV",
    "outputId": "ff0f0985-49a6-4a96-8aa1-bd1e65c99d45"
   },
   "outputs": [
    {
     "data": {
      "text/html": [
       "<div>\n",
       "<style scoped>\n",
       "    .dataframe tbody tr th:only-of-type {\n",
       "        vertical-align: middle;\n",
       "    }\n",
       "\n",
       "    .dataframe tbody tr th {\n",
       "        vertical-align: top;\n",
       "    }\n",
       "\n",
       "    .dataframe thead th {\n",
       "        text-align: right;\n",
       "    }\n",
       "</style>\n",
       "<table border=\"1\" class=\"dataframe\">\n",
       "  <thead>\n",
       "    <tr style=\"text-align: right;\">\n",
       "      <th></th>\n",
       "      <th>customerID</th>\n",
       "      <th>Churn</th>\n",
       "      <th>customer</th>\n",
       "      <th>phone</th>\n",
       "      <th>internet</th>\n",
       "      <th>account</th>\n",
       "    </tr>\n",
       "  </thead>\n",
       "  <tbody>\n",
       "    <tr>\n",
       "      <th>0</th>\n",
       "      <td>0002-ORFBO</td>\n",
       "      <td>No</td>\n",
       "      <td>{'gender': 'Female', 'SeniorCitizen': 0, 'Part...</td>\n",
       "      <td>{'PhoneService': 'Yes', 'MultipleLines': 'No'}</td>\n",
       "      <td>{'InternetService': 'DSL', 'OnlineSecurity': '...</td>\n",
       "      <td>{'Contract': 'One year', 'PaperlessBilling': '...</td>\n",
       "    </tr>\n",
       "    <tr>\n",
       "      <th>1</th>\n",
       "      <td>0003-MKNFE</td>\n",
       "      <td>No</td>\n",
       "      <td>{'gender': 'Male', 'SeniorCitizen': 0, 'Partne...</td>\n",
       "      <td>{'PhoneService': 'Yes', 'MultipleLines': 'Yes'}</td>\n",
       "      <td>{'InternetService': 'DSL', 'OnlineSecurity': '...</td>\n",
       "      <td>{'Contract': 'Month-to-month', 'PaperlessBilli...</td>\n",
       "    </tr>\n",
       "    <tr>\n",
       "      <th>2</th>\n",
       "      <td>0004-TLHLJ</td>\n",
       "      <td>Yes</td>\n",
       "      <td>{'gender': 'Male', 'SeniorCitizen': 0, 'Partne...</td>\n",
       "      <td>{'PhoneService': 'Yes', 'MultipleLines': 'No'}</td>\n",
       "      <td>{'InternetService': 'Fiber optic', 'OnlineSecu...</td>\n",
       "      <td>{'Contract': 'Month-to-month', 'PaperlessBilli...</td>\n",
       "    </tr>\n",
       "    <tr>\n",
       "      <th>3</th>\n",
       "      <td>0011-IGKFF</td>\n",
       "      <td>Yes</td>\n",
       "      <td>{'gender': 'Male', 'SeniorCitizen': 1, 'Partne...</td>\n",
       "      <td>{'PhoneService': 'Yes', 'MultipleLines': 'No'}</td>\n",
       "      <td>{'InternetService': 'Fiber optic', 'OnlineSecu...</td>\n",
       "      <td>{'Contract': 'Month-to-month', 'PaperlessBilli...</td>\n",
       "    </tr>\n",
       "    <tr>\n",
       "      <th>4</th>\n",
       "      <td>0013-EXCHZ</td>\n",
       "      <td>Yes</td>\n",
       "      <td>{'gender': 'Female', 'SeniorCitizen': 1, 'Part...</td>\n",
       "      <td>{'PhoneService': 'Yes', 'MultipleLines': 'No'}</td>\n",
       "      <td>{'InternetService': 'Fiber optic', 'OnlineSecu...</td>\n",
       "      <td>{'Contract': 'Month-to-month', 'PaperlessBilli...</td>\n",
       "    </tr>\n",
       "  </tbody>\n",
       "</table>\n",
       "</div>"
      ],
      "text/plain": [
       "   customerID Churn                                           customer  \\\n",
       "0  0002-ORFBO    No  {'gender': 'Female', 'SeniorCitizen': 0, 'Part...   \n",
       "1  0003-MKNFE    No  {'gender': 'Male', 'SeniorCitizen': 0, 'Partne...   \n",
       "2  0004-TLHLJ   Yes  {'gender': 'Male', 'SeniorCitizen': 0, 'Partne...   \n",
       "3  0011-IGKFF   Yes  {'gender': 'Male', 'SeniorCitizen': 1, 'Partne...   \n",
       "4  0013-EXCHZ   Yes  {'gender': 'Female', 'SeniorCitizen': 1, 'Part...   \n",
       "\n",
       "                                             phone  \\\n",
       "0   {'PhoneService': 'Yes', 'MultipleLines': 'No'}   \n",
       "1  {'PhoneService': 'Yes', 'MultipleLines': 'Yes'}   \n",
       "2   {'PhoneService': 'Yes', 'MultipleLines': 'No'}   \n",
       "3   {'PhoneService': 'Yes', 'MultipleLines': 'No'}   \n",
       "4   {'PhoneService': 'Yes', 'MultipleLines': 'No'}   \n",
       "\n",
       "                                            internet  \\\n",
       "0  {'InternetService': 'DSL', 'OnlineSecurity': '...   \n",
       "1  {'InternetService': 'DSL', 'OnlineSecurity': '...   \n",
       "2  {'InternetService': 'Fiber optic', 'OnlineSecu...   \n",
       "3  {'InternetService': 'Fiber optic', 'OnlineSecu...   \n",
       "4  {'InternetService': 'Fiber optic', 'OnlineSecu...   \n",
       "\n",
       "                                             account  \n",
       "0  {'Contract': 'One year', 'PaperlessBilling': '...  \n",
       "1  {'Contract': 'Month-to-month', 'PaperlessBilli...  \n",
       "2  {'Contract': 'Month-to-month', 'PaperlessBilli...  \n",
       "3  {'Contract': 'Month-to-month', 'PaperlessBilli...  \n",
       "4  {'Contract': 'Month-to-month', 'PaperlessBilli...  "
      ]
     },
     "execution_count": 8,
     "metadata": {},
     "output_type": "execute_result"
    }
   ],
   "source": [
    "df.head(5)"
   ]
  },
  {
   "cell_type": "markdown",
   "metadata": {
    "id": "fcD1Zoc6u7xO"
   },
   "source": [
    "## **Normalizar columnas tipo diccionario**"
   ]
  },
  {
   "cell_type": "code",
   "execution_count": 9,
   "metadata": {
    "id": "1trYOt57nPt8"
   },
   "outputs": [],
   "source": [
    "# Lista de columnas a normalizar\n",
    "cols_to_normalize = ['customer', 'phone', 'internet', 'account']"
   ]
  },
  {
   "cell_type": "code",
   "execution_count": 10,
   "metadata": {
    "id": "xl0jupNouSMg"
   },
   "outputs": [],
   "source": [
    "# Crear una copia del dataframe original\n",
    "df_norm = df.copy()\n",
    "\n",
    "# Normalizar y expandir cada columna JSON en columnas individuales\n",
    "for col in cols_to_normalize:\n",
    "    df_norm = pd.concat([df_norm, pd.json_normalize(df_norm[col])], axis=1)\n",
    "    df_norm.drop(columns=[col], inplace=True)"
   ]
  },
  {
   "cell_type": "code",
   "execution_count": 11,
   "metadata": {
    "colab": {
     "base_uri": "https://localhost:8080/",
     "height": 342
    },
    "executionInfo": {
     "elapsed": 99,
     "status": "ok",
     "timestamp": 1750521224611,
     "user": {
      "displayName": "Elias Celis",
      "userId": "07132738901482165301"
     },
     "user_tz": 240
    },
    "id": "lG4s5FfNxTlS",
    "outputId": "1e1891f0-c560-4a7f-9aca-cb7e85a35356"
   },
   "outputs": [
    {
     "data": {
      "text/html": [
       "<div>\n",
       "<style scoped>\n",
       "    .dataframe tbody tr th:only-of-type {\n",
       "        vertical-align: middle;\n",
       "    }\n",
       "\n",
       "    .dataframe tbody tr th {\n",
       "        vertical-align: top;\n",
       "    }\n",
       "\n",
       "    .dataframe thead th {\n",
       "        text-align: right;\n",
       "    }\n",
       "</style>\n",
       "<table border=\"1\" class=\"dataframe\">\n",
       "  <thead>\n",
       "    <tr style=\"text-align: right;\">\n",
       "      <th></th>\n",
       "      <th>customerID</th>\n",
       "      <th>Churn</th>\n",
       "      <th>gender</th>\n",
       "      <th>SeniorCitizen</th>\n",
       "      <th>Partner</th>\n",
       "      <th>Dependents</th>\n",
       "      <th>tenure</th>\n",
       "      <th>PhoneService</th>\n",
       "      <th>MultipleLines</th>\n",
       "      <th>InternetService</th>\n",
       "      <th>...</th>\n",
       "      <th>OnlineBackup</th>\n",
       "      <th>DeviceProtection</th>\n",
       "      <th>TechSupport</th>\n",
       "      <th>StreamingTV</th>\n",
       "      <th>StreamingMovies</th>\n",
       "      <th>Contract</th>\n",
       "      <th>PaperlessBilling</th>\n",
       "      <th>PaymentMethod</th>\n",
       "      <th>Charges.Monthly</th>\n",
       "      <th>Charges.Total</th>\n",
       "    </tr>\n",
       "  </thead>\n",
       "  <tbody>\n",
       "    <tr>\n",
       "      <th>0</th>\n",
       "      <td>0002-ORFBO</td>\n",
       "      <td>No</td>\n",
       "      <td>Female</td>\n",
       "      <td>0</td>\n",
       "      <td>Yes</td>\n",
       "      <td>Yes</td>\n",
       "      <td>9</td>\n",
       "      <td>Yes</td>\n",
       "      <td>No</td>\n",
       "      <td>DSL</td>\n",
       "      <td>...</td>\n",
       "      <td>Yes</td>\n",
       "      <td>No</td>\n",
       "      <td>Yes</td>\n",
       "      <td>Yes</td>\n",
       "      <td>No</td>\n",
       "      <td>One year</td>\n",
       "      <td>Yes</td>\n",
       "      <td>Mailed check</td>\n",
       "      <td>65.6</td>\n",
       "      <td>593.3</td>\n",
       "    </tr>\n",
       "    <tr>\n",
       "      <th>1</th>\n",
       "      <td>0003-MKNFE</td>\n",
       "      <td>No</td>\n",
       "      <td>Male</td>\n",
       "      <td>0</td>\n",
       "      <td>No</td>\n",
       "      <td>No</td>\n",
       "      <td>9</td>\n",
       "      <td>Yes</td>\n",
       "      <td>Yes</td>\n",
       "      <td>DSL</td>\n",
       "      <td>...</td>\n",
       "      <td>No</td>\n",
       "      <td>No</td>\n",
       "      <td>No</td>\n",
       "      <td>No</td>\n",
       "      <td>Yes</td>\n",
       "      <td>Month-to-month</td>\n",
       "      <td>No</td>\n",
       "      <td>Mailed check</td>\n",
       "      <td>59.9</td>\n",
       "      <td>542.4</td>\n",
       "    </tr>\n",
       "    <tr>\n",
       "      <th>2</th>\n",
       "      <td>0004-TLHLJ</td>\n",
       "      <td>Yes</td>\n",
       "      <td>Male</td>\n",
       "      <td>0</td>\n",
       "      <td>No</td>\n",
       "      <td>No</td>\n",
       "      <td>4</td>\n",
       "      <td>Yes</td>\n",
       "      <td>No</td>\n",
       "      <td>Fiber optic</td>\n",
       "      <td>...</td>\n",
       "      <td>No</td>\n",
       "      <td>Yes</td>\n",
       "      <td>No</td>\n",
       "      <td>No</td>\n",
       "      <td>No</td>\n",
       "      <td>Month-to-month</td>\n",
       "      <td>Yes</td>\n",
       "      <td>Electronic check</td>\n",
       "      <td>73.9</td>\n",
       "      <td>280.85</td>\n",
       "    </tr>\n",
       "    <tr>\n",
       "      <th>3</th>\n",
       "      <td>0011-IGKFF</td>\n",
       "      <td>Yes</td>\n",
       "      <td>Male</td>\n",
       "      <td>1</td>\n",
       "      <td>Yes</td>\n",
       "      <td>No</td>\n",
       "      <td>13</td>\n",
       "      <td>Yes</td>\n",
       "      <td>No</td>\n",
       "      <td>Fiber optic</td>\n",
       "      <td>...</td>\n",
       "      <td>Yes</td>\n",
       "      <td>Yes</td>\n",
       "      <td>No</td>\n",
       "      <td>Yes</td>\n",
       "      <td>Yes</td>\n",
       "      <td>Month-to-month</td>\n",
       "      <td>Yes</td>\n",
       "      <td>Electronic check</td>\n",
       "      <td>98.0</td>\n",
       "      <td>1237.85</td>\n",
       "    </tr>\n",
       "    <tr>\n",
       "      <th>4</th>\n",
       "      <td>0013-EXCHZ</td>\n",
       "      <td>Yes</td>\n",
       "      <td>Female</td>\n",
       "      <td>1</td>\n",
       "      <td>Yes</td>\n",
       "      <td>No</td>\n",
       "      <td>3</td>\n",
       "      <td>Yes</td>\n",
       "      <td>No</td>\n",
       "      <td>Fiber optic</td>\n",
       "      <td>...</td>\n",
       "      <td>No</td>\n",
       "      <td>No</td>\n",
       "      <td>Yes</td>\n",
       "      <td>Yes</td>\n",
       "      <td>No</td>\n",
       "      <td>Month-to-month</td>\n",
       "      <td>Yes</td>\n",
       "      <td>Mailed check</td>\n",
       "      <td>83.9</td>\n",
       "      <td>267.4</td>\n",
       "    </tr>\n",
       "  </tbody>\n",
       "</table>\n",
       "<p>5 rows × 21 columns</p>\n",
       "</div>"
      ],
      "text/plain": [
       "   customerID Churn  gender  SeniorCitizen Partner Dependents  tenure  \\\n",
       "0  0002-ORFBO    No  Female              0     Yes        Yes       9   \n",
       "1  0003-MKNFE    No    Male              0      No         No       9   \n",
       "2  0004-TLHLJ   Yes    Male              0      No         No       4   \n",
       "3  0011-IGKFF   Yes    Male              1     Yes         No      13   \n",
       "4  0013-EXCHZ   Yes  Female              1     Yes         No       3   \n",
       "\n",
       "  PhoneService MultipleLines InternetService  ... OnlineBackup  \\\n",
       "0          Yes            No             DSL  ...          Yes   \n",
       "1          Yes           Yes             DSL  ...           No   \n",
       "2          Yes            No     Fiber optic  ...           No   \n",
       "3          Yes            No     Fiber optic  ...          Yes   \n",
       "4          Yes            No     Fiber optic  ...           No   \n",
       "\n",
       "  DeviceProtection TechSupport StreamingTV StreamingMovies        Contract  \\\n",
       "0               No         Yes         Yes              No        One year   \n",
       "1               No          No          No             Yes  Month-to-month   \n",
       "2              Yes          No          No              No  Month-to-month   \n",
       "3              Yes          No         Yes             Yes  Month-to-month   \n",
       "4               No         Yes         Yes              No  Month-to-month   \n",
       "\n",
       "  PaperlessBilling     PaymentMethod Charges.Monthly  Charges.Total  \n",
       "0              Yes      Mailed check            65.6          593.3  \n",
       "1               No      Mailed check            59.9          542.4  \n",
       "2              Yes  Electronic check            73.9         280.85  \n",
       "3              Yes  Electronic check            98.0        1237.85  \n",
       "4              Yes      Mailed check            83.9          267.4  \n",
       "\n",
       "[5 rows x 21 columns]"
      ]
     },
     "execution_count": 11,
     "metadata": {},
     "output_type": "execute_result"
    }
   ],
   "source": [
    "df_norm.head(5)"
   ]
  },
  {
   "cell_type": "markdown",
   "metadata": {
    "id": "RQpq7N9GV5rI"
   },
   "source": [
    "## **Comprobación de incoherencias en los datos**"
   ]
  },
  {
   "cell_type": "markdown",
   "metadata": {
    "id": "_xOE_o_6WNKe"
   },
   "source": [
    "En este paso, verifica si hay problemas en los datos que puedan afectar el análisis. Presta atención a valores ausentes, duplicados, errores de formato e inconsistencias en las categorías. Este proceso es esencial para asegurarte de que los datos estén listos para las siguientes etapas."
   ]
  },
  {
   "cell_type": "code",
   "execution_count": 12,
   "metadata": {
    "colab": {
     "base_uri": "https://localhost:8080/"
    },
    "executionInfo": {
     "elapsed": 25,
     "status": "ok",
     "timestamp": 1750521224637,
     "user": {
      "displayName": "Elias Celis",
      "userId": "07132738901482165301"
     },
     "user_tz": 240
    },
    "id": "PGmgXWkr7aJ8",
    "outputId": "c6be0c7b-8f35-4a62-96a5-b217c03b9818"
   },
   "outputs": [
    {
     "name": "stdout",
     "output_type": "stream",
     "text": [
      "<class 'pandas.core.frame.DataFrame'>\n",
      "RangeIndex: 7267 entries, 0 to 7266\n",
      "Data columns (total 21 columns):\n",
      " #   Column            Non-Null Count  Dtype  \n",
      "---  ------            --------------  -----  \n",
      " 0   customerID        7267 non-null   object \n",
      " 1   Churn             7267 non-null   object \n",
      " 2   gender            7267 non-null   object \n",
      " 3   SeniorCitizen     7267 non-null   int64  \n",
      " 4   Partner           7267 non-null   object \n",
      " 5   Dependents        7267 non-null   object \n",
      " 6   tenure            7267 non-null   int64  \n",
      " 7   PhoneService      7267 non-null   object \n",
      " 8   MultipleLines     7267 non-null   object \n",
      " 9   InternetService   7267 non-null   object \n",
      " 10  OnlineSecurity    7267 non-null   object \n",
      " 11  OnlineBackup      7267 non-null   object \n",
      " 12  DeviceProtection  7267 non-null   object \n",
      " 13  TechSupport       7267 non-null   object \n",
      " 14  StreamingTV       7267 non-null   object \n",
      " 15  StreamingMovies   7267 non-null   object \n",
      " 16  Contract          7267 non-null   object \n",
      " 17  PaperlessBilling  7267 non-null   object \n",
      " 18  PaymentMethod     7267 non-null   object \n",
      " 19  Charges.Monthly   7267 non-null   float64\n",
      " 20  Charges.Total     7267 non-null   object \n",
      "dtypes: float64(1), int64(2), object(18)\n",
      "memory usage: 1.2+ MB\n"
     ]
    }
   ],
   "source": [
    "# Verificar los tipos de datos de 'df_norm'\n",
    "df_norm.info()"
   ]
  },
  {
   "cell_type": "code",
   "execution_count": 13,
   "metadata": {
    "colab": {
     "base_uri": "https://localhost:8080/"
    },
    "executionInfo": {
     "elapsed": 13,
     "status": "ok",
     "timestamp": 1750521224651,
     "user": {
      "displayName": "Elias Celis",
      "userId": "07132738901482165301"
     },
     "user_tz": 240
    },
    "id": "S9jGZF69wS-4",
    "outputId": "82952f72-9dc8-43c4-ce7b-c799ec2b3bdf"
   },
   "outputs": [
    {
     "data": {
      "text/plain": [
       "np.int64(0)"
      ]
     },
     "execution_count": 13,
     "metadata": {},
     "output_type": "execute_result"
    }
   ],
   "source": [
    "# Verificar que no existan ID's duplicados\n",
    "df_norm['customerID'].duplicated().sum()"
   ]
  },
  {
   "cell_type": "code",
   "execution_count": 14,
   "metadata": {
    "colab": {
     "base_uri": "https://localhost:8080/"
    },
    "executionInfo": {
     "elapsed": 5,
     "status": "ok",
     "timestamp": 1750521224655,
     "user": {
      "displayName": "Elias Celis",
      "userId": "07132738901482165301"
     },
     "user_tz": 240
    },
    "id": "hZxbzSDR3If2",
    "outputId": "de090e59-9a80-4bf2-882a-4df0679a0d44"
   },
   "outputs": [
    {
     "data": {
      "text/plain": [
       "np.int64(0)"
      ]
     },
     "execution_count": 14,
     "metadata": {},
     "output_type": "execute_result"
    }
   ],
   "source": [
    "# verificamos si todos los datos de la columna 'SeniorCitizen' son números\n",
    "pd.to_numeric(df_norm['SeniorCitizen'], errors='coerce').isna().sum()"
   ]
  },
  {
   "cell_type": "code",
   "execution_count": 15,
   "metadata": {
    "colab": {
     "base_uri": "https://localhost:8080/"
    },
    "executionInfo": {
     "elapsed": 26,
     "status": "ok",
     "timestamp": 1750521224681,
     "user": {
      "displayName": "Elias Celis",
      "userId": "07132738901482165301"
     },
     "user_tz": 240
    },
    "id": "EftuYSTkyNEV",
    "outputId": "de87200a-c436-49eb-ebf4-3f7b47284ca3"
   },
   "outputs": [
    {
     "data": {
      "text/plain": [
       "np.int64(11)"
      ]
     },
     "execution_count": 15,
     "metadata": {},
     "output_type": "execute_result"
    }
   ],
   "source": [
    "# verificar si todos los datos de la columna 'Charges.Total' son números\n",
    "pd.to_numeric(df_norm['Charges.Total'], errors='coerce').isna().sum()"
   ]
  },
  {
   "cell_type": "code",
   "execution_count": 16,
   "metadata": {
    "colab": {
     "base_uri": "https://localhost:8080/",
     "height": 599
    },
    "executionInfo": {
     "elapsed": 63,
     "status": "ok",
     "timestamp": 1750521224745,
     "user": {
      "displayName": "Elias Celis",
      "userId": "07132738901482165301"
     },
     "user_tz": 240
    },
    "id": "R62PQh88ywVu",
    "outputId": "13817a37-13b3-4a57-e15a-ae696953025b"
   },
   "outputs": [
    {
     "data": {
      "text/html": [
       "<div>\n",
       "<style scoped>\n",
       "    .dataframe tbody tr th:only-of-type {\n",
       "        vertical-align: middle;\n",
       "    }\n",
       "\n",
       "    .dataframe tbody tr th {\n",
       "        vertical-align: top;\n",
       "    }\n",
       "\n",
       "    .dataframe thead th {\n",
       "        text-align: right;\n",
       "    }\n",
       "</style>\n",
       "<table border=\"1\" class=\"dataframe\">\n",
       "  <thead>\n",
       "    <tr style=\"text-align: right;\">\n",
       "      <th></th>\n",
       "      <th>customerID</th>\n",
       "      <th>Churn</th>\n",
       "      <th>gender</th>\n",
       "      <th>SeniorCitizen</th>\n",
       "      <th>Partner</th>\n",
       "      <th>Dependents</th>\n",
       "      <th>tenure</th>\n",
       "      <th>PhoneService</th>\n",
       "      <th>MultipleLines</th>\n",
       "      <th>InternetService</th>\n",
       "      <th>...</th>\n",
       "      <th>OnlineBackup</th>\n",
       "      <th>DeviceProtection</th>\n",
       "      <th>TechSupport</th>\n",
       "      <th>StreamingTV</th>\n",
       "      <th>StreamingMovies</th>\n",
       "      <th>Contract</th>\n",
       "      <th>PaperlessBilling</th>\n",
       "      <th>PaymentMethod</th>\n",
       "      <th>Charges.Monthly</th>\n",
       "      <th>Charges.Total</th>\n",
       "    </tr>\n",
       "  </thead>\n",
       "  <tbody>\n",
       "    <tr>\n",
       "      <th>975</th>\n",
       "      <td>1371-DWPAZ</td>\n",
       "      <td>No</td>\n",
       "      <td>Female</td>\n",
       "      <td>0</td>\n",
       "      <td>Yes</td>\n",
       "      <td>Yes</td>\n",
       "      <td>0</td>\n",
       "      <td>No</td>\n",
       "      <td>No phone service</td>\n",
       "      <td>DSL</td>\n",
       "      <td>...</td>\n",
       "      <td>Yes</td>\n",
       "      <td>Yes</td>\n",
       "      <td>Yes</td>\n",
       "      <td>Yes</td>\n",
       "      <td>No</td>\n",
       "      <td>Two year</td>\n",
       "      <td>No</td>\n",
       "      <td>Credit card (automatic)</td>\n",
       "      <td>56.05</td>\n",
       "      <td></td>\n",
       "    </tr>\n",
       "    <tr>\n",
       "      <th>1775</th>\n",
       "      <td>2520-SGTTA</td>\n",
       "      <td>No</td>\n",
       "      <td>Female</td>\n",
       "      <td>0</td>\n",
       "      <td>Yes</td>\n",
       "      <td>Yes</td>\n",
       "      <td>0</td>\n",
       "      <td>Yes</td>\n",
       "      <td>No</td>\n",
       "      <td>No</td>\n",
       "      <td>...</td>\n",
       "      <td>No internet service</td>\n",
       "      <td>No internet service</td>\n",
       "      <td>No internet service</td>\n",
       "      <td>No internet service</td>\n",
       "      <td>No internet service</td>\n",
       "      <td>Two year</td>\n",
       "      <td>No</td>\n",
       "      <td>Mailed check</td>\n",
       "      <td>20.00</td>\n",
       "      <td></td>\n",
       "    </tr>\n",
       "    <tr>\n",
       "      <th>1955</th>\n",
       "      <td>2775-SEFEE</td>\n",
       "      <td>No</td>\n",
       "      <td>Male</td>\n",
       "      <td>0</td>\n",
       "      <td>No</td>\n",
       "      <td>Yes</td>\n",
       "      <td>0</td>\n",
       "      <td>Yes</td>\n",
       "      <td>Yes</td>\n",
       "      <td>DSL</td>\n",
       "      <td>...</td>\n",
       "      <td>Yes</td>\n",
       "      <td>No</td>\n",
       "      <td>Yes</td>\n",
       "      <td>No</td>\n",
       "      <td>No</td>\n",
       "      <td>Two year</td>\n",
       "      <td>Yes</td>\n",
       "      <td>Bank transfer (automatic)</td>\n",
       "      <td>61.90</td>\n",
       "      <td></td>\n",
       "    </tr>\n",
       "    <tr>\n",
       "      <th>2075</th>\n",
       "      <td>2923-ARZLG</td>\n",
       "      <td>No</td>\n",
       "      <td>Male</td>\n",
       "      <td>0</td>\n",
       "      <td>Yes</td>\n",
       "      <td>Yes</td>\n",
       "      <td>0</td>\n",
       "      <td>Yes</td>\n",
       "      <td>No</td>\n",
       "      <td>No</td>\n",
       "      <td>...</td>\n",
       "      <td>No internet service</td>\n",
       "      <td>No internet service</td>\n",
       "      <td>No internet service</td>\n",
       "      <td>No internet service</td>\n",
       "      <td>No internet service</td>\n",
       "      <td>One year</td>\n",
       "      <td>Yes</td>\n",
       "      <td>Mailed check</td>\n",
       "      <td>19.70</td>\n",
       "      <td></td>\n",
       "    </tr>\n",
       "    <tr>\n",
       "      <th>2232</th>\n",
       "      <td>3115-CZMZD</td>\n",
       "      <td>No</td>\n",
       "      <td>Male</td>\n",
       "      <td>0</td>\n",
       "      <td>No</td>\n",
       "      <td>Yes</td>\n",
       "      <td>0</td>\n",
       "      <td>Yes</td>\n",
       "      <td>No</td>\n",
       "      <td>No</td>\n",
       "      <td>...</td>\n",
       "      <td>No internet service</td>\n",
       "      <td>No internet service</td>\n",
       "      <td>No internet service</td>\n",
       "      <td>No internet service</td>\n",
       "      <td>No internet service</td>\n",
       "      <td>Two year</td>\n",
       "      <td>No</td>\n",
       "      <td>Mailed check</td>\n",
       "      <td>20.25</td>\n",
       "      <td></td>\n",
       "    </tr>\n",
       "    <tr>\n",
       "      <th>2308</th>\n",
       "      <td>3213-VVOLG</td>\n",
       "      <td>No</td>\n",
       "      <td>Male</td>\n",
       "      <td>0</td>\n",
       "      <td>Yes</td>\n",
       "      <td>Yes</td>\n",
       "      <td>0</td>\n",
       "      <td>Yes</td>\n",
       "      <td>Yes</td>\n",
       "      <td>No</td>\n",
       "      <td>...</td>\n",
       "      <td>No internet service</td>\n",
       "      <td>No internet service</td>\n",
       "      <td>No internet service</td>\n",
       "      <td>No internet service</td>\n",
       "      <td>No internet service</td>\n",
       "      <td>Two year</td>\n",
       "      <td>No</td>\n",
       "      <td>Mailed check</td>\n",
       "      <td>25.35</td>\n",
       "      <td></td>\n",
       "    </tr>\n",
       "    <tr>\n",
       "      <th>2930</th>\n",
       "      <td>4075-WKNIU</td>\n",
       "      <td>No</td>\n",
       "      <td>Female</td>\n",
       "      <td>0</td>\n",
       "      <td>Yes</td>\n",
       "      <td>Yes</td>\n",
       "      <td>0</td>\n",
       "      <td>Yes</td>\n",
       "      <td>Yes</td>\n",
       "      <td>DSL</td>\n",
       "      <td>...</td>\n",
       "      <td>Yes</td>\n",
       "      <td>Yes</td>\n",
       "      <td>Yes</td>\n",
       "      <td>Yes</td>\n",
       "      <td>No</td>\n",
       "      <td>Two year</td>\n",
       "      <td>No</td>\n",
       "      <td>Mailed check</td>\n",
       "      <td>73.35</td>\n",
       "      <td></td>\n",
       "    </tr>\n",
       "    <tr>\n",
       "      <th>3134</th>\n",
       "      <td>4367-NUYAO</td>\n",
       "      <td>No</td>\n",
       "      <td>Male</td>\n",
       "      <td>0</td>\n",
       "      <td>Yes</td>\n",
       "      <td>Yes</td>\n",
       "      <td>0</td>\n",
       "      <td>Yes</td>\n",
       "      <td>Yes</td>\n",
       "      <td>No</td>\n",
       "      <td>...</td>\n",
       "      <td>No internet service</td>\n",
       "      <td>No internet service</td>\n",
       "      <td>No internet service</td>\n",
       "      <td>No internet service</td>\n",
       "      <td>No internet service</td>\n",
       "      <td>Two year</td>\n",
       "      <td>No</td>\n",
       "      <td>Mailed check</td>\n",
       "      <td>25.75</td>\n",
       "      <td></td>\n",
       "    </tr>\n",
       "    <tr>\n",
       "      <th>3203</th>\n",
       "      <td>4472-LVYGI</td>\n",
       "      <td>No</td>\n",
       "      <td>Female</td>\n",
       "      <td>0</td>\n",
       "      <td>Yes</td>\n",
       "      <td>Yes</td>\n",
       "      <td>0</td>\n",
       "      <td>No</td>\n",
       "      <td>No phone service</td>\n",
       "      <td>DSL</td>\n",
       "      <td>...</td>\n",
       "      <td>No</td>\n",
       "      <td>Yes</td>\n",
       "      <td>Yes</td>\n",
       "      <td>Yes</td>\n",
       "      <td>No</td>\n",
       "      <td>Two year</td>\n",
       "      <td>Yes</td>\n",
       "      <td>Bank transfer (automatic)</td>\n",
       "      <td>52.55</td>\n",
       "      <td></td>\n",
       "    </tr>\n",
       "    <tr>\n",
       "      <th>4169</th>\n",
       "      <td>5709-LVOEQ</td>\n",
       "      <td>No</td>\n",
       "      <td>Female</td>\n",
       "      <td>0</td>\n",
       "      <td>Yes</td>\n",
       "      <td>Yes</td>\n",
       "      <td>0</td>\n",
       "      <td>Yes</td>\n",
       "      <td>No</td>\n",
       "      <td>DSL</td>\n",
       "      <td>...</td>\n",
       "      <td>Yes</td>\n",
       "      <td>Yes</td>\n",
       "      <td>No</td>\n",
       "      <td>Yes</td>\n",
       "      <td>Yes</td>\n",
       "      <td>Two year</td>\n",
       "      <td>No</td>\n",
       "      <td>Mailed check</td>\n",
       "      <td>80.85</td>\n",
       "      <td></td>\n",
       "    </tr>\n",
       "    <tr>\n",
       "      <th>5599</th>\n",
       "      <td>7644-OMVMY</td>\n",
       "      <td>No</td>\n",
       "      <td>Male</td>\n",
       "      <td>0</td>\n",
       "      <td>Yes</td>\n",
       "      <td>Yes</td>\n",
       "      <td>0</td>\n",
       "      <td>Yes</td>\n",
       "      <td>No</td>\n",
       "      <td>No</td>\n",
       "      <td>...</td>\n",
       "      <td>No internet service</td>\n",
       "      <td>No internet service</td>\n",
       "      <td>No internet service</td>\n",
       "      <td>No internet service</td>\n",
       "      <td>No internet service</td>\n",
       "      <td>Two year</td>\n",
       "      <td>No</td>\n",
       "      <td>Mailed check</td>\n",
       "      <td>19.85</td>\n",
       "      <td></td>\n",
       "    </tr>\n",
       "  </tbody>\n",
       "</table>\n",
       "<p>11 rows × 21 columns</p>\n",
       "</div>"
      ],
      "text/plain": [
       "      customerID Churn  gender  SeniorCitizen Partner Dependents  tenure  \\\n",
       "975   1371-DWPAZ    No  Female              0     Yes        Yes       0   \n",
       "1775  2520-SGTTA    No  Female              0     Yes        Yes       0   \n",
       "1955  2775-SEFEE    No    Male              0      No        Yes       0   \n",
       "2075  2923-ARZLG    No    Male              0     Yes        Yes       0   \n",
       "2232  3115-CZMZD    No    Male              0      No        Yes       0   \n",
       "2308  3213-VVOLG    No    Male              0     Yes        Yes       0   \n",
       "2930  4075-WKNIU    No  Female              0     Yes        Yes       0   \n",
       "3134  4367-NUYAO    No    Male              0     Yes        Yes       0   \n",
       "3203  4472-LVYGI    No  Female              0     Yes        Yes       0   \n",
       "4169  5709-LVOEQ    No  Female              0     Yes        Yes       0   \n",
       "5599  7644-OMVMY    No    Male              0     Yes        Yes       0   \n",
       "\n",
       "     PhoneService     MultipleLines InternetService  ...         OnlineBackup  \\\n",
       "975            No  No phone service             DSL  ...                  Yes   \n",
       "1775          Yes                No              No  ...  No internet service   \n",
       "1955          Yes               Yes             DSL  ...                  Yes   \n",
       "2075          Yes                No              No  ...  No internet service   \n",
       "2232          Yes                No              No  ...  No internet service   \n",
       "2308          Yes               Yes              No  ...  No internet service   \n",
       "2930          Yes               Yes             DSL  ...                  Yes   \n",
       "3134          Yes               Yes              No  ...  No internet service   \n",
       "3203           No  No phone service             DSL  ...                   No   \n",
       "4169          Yes                No             DSL  ...                  Yes   \n",
       "5599          Yes                No              No  ...  No internet service   \n",
       "\n",
       "         DeviceProtection          TechSupport          StreamingTV  \\\n",
       "975                   Yes                  Yes                  Yes   \n",
       "1775  No internet service  No internet service  No internet service   \n",
       "1955                   No                  Yes                   No   \n",
       "2075  No internet service  No internet service  No internet service   \n",
       "2232  No internet service  No internet service  No internet service   \n",
       "2308  No internet service  No internet service  No internet service   \n",
       "2930                  Yes                  Yes                  Yes   \n",
       "3134  No internet service  No internet service  No internet service   \n",
       "3203                  Yes                  Yes                  Yes   \n",
       "4169                  Yes                   No                  Yes   \n",
       "5599  No internet service  No internet service  No internet service   \n",
       "\n",
       "          StreamingMovies  Contract PaperlessBilling  \\\n",
       "975                    No  Two year               No   \n",
       "1775  No internet service  Two year               No   \n",
       "1955                   No  Two year              Yes   \n",
       "2075  No internet service  One year              Yes   \n",
       "2232  No internet service  Two year               No   \n",
       "2308  No internet service  Two year               No   \n",
       "2930                   No  Two year               No   \n",
       "3134  No internet service  Two year               No   \n",
       "3203                   No  Two year              Yes   \n",
       "4169                  Yes  Two year               No   \n",
       "5599  No internet service  Two year               No   \n",
       "\n",
       "                  PaymentMethod Charges.Monthly  Charges.Total  \n",
       "975     Credit card (automatic)           56.05                 \n",
       "1775               Mailed check           20.00                 \n",
       "1955  Bank transfer (automatic)           61.90                 \n",
       "2075               Mailed check           19.70                 \n",
       "2232               Mailed check           20.25                 \n",
       "2308               Mailed check           25.35                 \n",
       "2930               Mailed check           73.35                 \n",
       "3134               Mailed check           25.75                 \n",
       "3203  Bank transfer (automatic)           52.55                 \n",
       "4169               Mailed check           80.85                 \n",
       "5599               Mailed check           19.85                 \n",
       "\n",
       "[11 rows x 21 columns]"
      ]
     },
     "execution_count": 16,
     "metadata": {},
     "output_type": "execute_result"
    }
   ],
   "source": [
    "# mostar los datos que no son números\n",
    "df_norm[pd.to_numeric(df_norm['Charges.Total'], errors='coerce').isna()]"
   ]
  },
  {
   "cell_type": "markdown",
   "metadata": {
    "id": "S5E2HX2qWP5m"
   },
   "source": [
    "## **Manejo de inconsistencias**"
   ]
  },
  {
   "cell_type": "code",
   "execution_count": 17,
   "metadata": {
    "id": "0shFkjY-CSrj"
   },
   "outputs": [],
   "source": [
    "# Vamos a converir la columna 'SeniorCitizen' a tipo de dato 'bool'\n",
    "df_norm['SeniorCitizen'] = df_norm['SeniorCitizen'].astype('bool')"
   ]
  },
  {
   "cell_type": "code",
   "execution_count": 18,
   "metadata": {
    "id": "eNqnAgZ37h-E"
   },
   "outputs": [],
   "source": [
    "# A los campos vacios de 'Charges.Total' agregar un 0\n",
    "df_norm['Charges.Total'] = pd.to_numeric(df_norm['Charges.Total'], errors='coerce').fillna(0)"
   ]
  },
  {
   "cell_type": "code",
   "execution_count": 19,
   "metadata": {
    "colab": {
     "base_uri": "https://localhost:8080/"
    },
    "executionInfo": {
     "elapsed": 6,
     "status": "ok",
     "timestamp": 1750521224796,
     "user": {
      "displayName": "Elias Celis",
      "userId": "07132738901482165301"
     },
     "user_tz": 240
    },
    "id": "j0_l_RVr7loO",
    "outputId": "45ddc8ab-a6d7-484d-e2b2-4e64047ffec3"
   },
   "outputs": [
    {
     "data": {
      "text/plain": [
       "np.int64(0)"
      ]
     },
     "execution_count": 19,
     "metadata": {},
     "output_type": "execute_result"
    }
   ],
   "source": [
    "pd.to_numeric(df_norm['Charges.Total'], errors='coerce').isna().sum()"
   ]
  },
  {
   "cell_type": "code",
   "execution_count": 20,
   "metadata": {
    "id": "Lqm9UJlS7o7Z"
   },
   "outputs": [],
   "source": [
    "# Convertir 'Charges.Total' a tipo de dato float64\n",
    "df_norm['Charges.Total'] = df_norm['Charges.Total'].astype('float64')"
   ]
  },
  {
   "cell_type": "markdown",
   "metadata": {
    "id": "CGhCcAov8c_m"
   },
   "source": [
    "## **Vamos a conservar solo las columnas que**:\n",
    "- Pueden influir en la decisión de cancelar de los clientes.\n",
    "- No son redundantes ni irrelevantes para el modelo de análisis."
   ]
  },
  {
   "cell_type": "code",
   "execution_count": 21,
   "metadata": {
    "id": "s35EZfy18ROi"
   },
   "outputs": [],
   "source": [
    "# eliminamos la columna 'customerID'\n",
    "df_norm = df_norm.drop(columns=['customerID'])"
   ]
  },
  {
   "cell_type": "code",
   "execution_count": 22,
   "metadata": {
    "colab": {
     "base_uri": "https://localhost:8080/",
     "height": 295
    },
    "executionInfo": {
     "elapsed": 63,
     "status": "ok",
     "timestamp": 1750521224861,
     "user": {
      "displayName": "Elias Celis",
      "userId": "07132738901482165301"
     },
     "user_tz": 240
    },
    "id": "U2JPx_8d8-Sh",
    "outputId": "31f182f4-c53a-4a90-f3b3-f3a1a4fc3281"
   },
   "outputs": [
    {
     "data": {
      "text/html": [
       "<div>\n",
       "<style scoped>\n",
       "    .dataframe tbody tr th:only-of-type {\n",
       "        vertical-align: middle;\n",
       "    }\n",
       "\n",
       "    .dataframe tbody tr th {\n",
       "        vertical-align: top;\n",
       "    }\n",
       "\n",
       "    .dataframe thead th {\n",
       "        text-align: right;\n",
       "    }\n",
       "</style>\n",
       "<table border=\"1\" class=\"dataframe\">\n",
       "  <thead>\n",
       "    <tr style=\"text-align: right;\">\n",
       "      <th></th>\n",
       "      <th>Churn</th>\n",
       "      <th>gender</th>\n",
       "      <th>SeniorCitizen</th>\n",
       "      <th>Partner</th>\n",
       "      <th>Dependents</th>\n",
       "      <th>tenure</th>\n",
       "      <th>PhoneService</th>\n",
       "      <th>MultipleLines</th>\n",
       "      <th>InternetService</th>\n",
       "      <th>OnlineSecurity</th>\n",
       "      <th>OnlineBackup</th>\n",
       "      <th>DeviceProtection</th>\n",
       "      <th>TechSupport</th>\n",
       "      <th>StreamingTV</th>\n",
       "      <th>StreamingMovies</th>\n",
       "      <th>Contract</th>\n",
       "      <th>PaperlessBilling</th>\n",
       "      <th>PaymentMethod</th>\n",
       "      <th>Charges.Monthly</th>\n",
       "      <th>Charges.Total</th>\n",
       "    </tr>\n",
       "  </thead>\n",
       "  <tbody>\n",
       "    <tr>\n",
       "      <th>0</th>\n",
       "      <td>No</td>\n",
       "      <td>Female</td>\n",
       "      <td>False</td>\n",
       "      <td>Yes</td>\n",
       "      <td>Yes</td>\n",
       "      <td>9</td>\n",
       "      <td>Yes</td>\n",
       "      <td>No</td>\n",
       "      <td>DSL</td>\n",
       "      <td>No</td>\n",
       "      <td>Yes</td>\n",
       "      <td>No</td>\n",
       "      <td>Yes</td>\n",
       "      <td>Yes</td>\n",
       "      <td>No</td>\n",
       "      <td>One year</td>\n",
       "      <td>Yes</td>\n",
       "      <td>Mailed check</td>\n",
       "      <td>65.6</td>\n",
       "      <td>593.30</td>\n",
       "    </tr>\n",
       "    <tr>\n",
       "      <th>1</th>\n",
       "      <td>No</td>\n",
       "      <td>Male</td>\n",
       "      <td>False</td>\n",
       "      <td>No</td>\n",
       "      <td>No</td>\n",
       "      <td>9</td>\n",
       "      <td>Yes</td>\n",
       "      <td>Yes</td>\n",
       "      <td>DSL</td>\n",
       "      <td>No</td>\n",
       "      <td>No</td>\n",
       "      <td>No</td>\n",
       "      <td>No</td>\n",
       "      <td>No</td>\n",
       "      <td>Yes</td>\n",
       "      <td>Month-to-month</td>\n",
       "      <td>No</td>\n",
       "      <td>Mailed check</td>\n",
       "      <td>59.9</td>\n",
       "      <td>542.40</td>\n",
       "    </tr>\n",
       "    <tr>\n",
       "      <th>2</th>\n",
       "      <td>Yes</td>\n",
       "      <td>Male</td>\n",
       "      <td>False</td>\n",
       "      <td>No</td>\n",
       "      <td>No</td>\n",
       "      <td>4</td>\n",
       "      <td>Yes</td>\n",
       "      <td>No</td>\n",
       "      <td>Fiber optic</td>\n",
       "      <td>No</td>\n",
       "      <td>No</td>\n",
       "      <td>Yes</td>\n",
       "      <td>No</td>\n",
       "      <td>No</td>\n",
       "      <td>No</td>\n",
       "      <td>Month-to-month</td>\n",
       "      <td>Yes</td>\n",
       "      <td>Electronic check</td>\n",
       "      <td>73.9</td>\n",
       "      <td>280.85</td>\n",
       "    </tr>\n",
       "    <tr>\n",
       "      <th>3</th>\n",
       "      <td>Yes</td>\n",
       "      <td>Male</td>\n",
       "      <td>True</td>\n",
       "      <td>Yes</td>\n",
       "      <td>No</td>\n",
       "      <td>13</td>\n",
       "      <td>Yes</td>\n",
       "      <td>No</td>\n",
       "      <td>Fiber optic</td>\n",
       "      <td>No</td>\n",
       "      <td>Yes</td>\n",
       "      <td>Yes</td>\n",
       "      <td>No</td>\n",
       "      <td>Yes</td>\n",
       "      <td>Yes</td>\n",
       "      <td>Month-to-month</td>\n",
       "      <td>Yes</td>\n",
       "      <td>Electronic check</td>\n",
       "      <td>98.0</td>\n",
       "      <td>1237.85</td>\n",
       "    </tr>\n",
       "    <tr>\n",
       "      <th>4</th>\n",
       "      <td>Yes</td>\n",
       "      <td>Female</td>\n",
       "      <td>True</td>\n",
       "      <td>Yes</td>\n",
       "      <td>No</td>\n",
       "      <td>3</td>\n",
       "      <td>Yes</td>\n",
       "      <td>No</td>\n",
       "      <td>Fiber optic</td>\n",
       "      <td>No</td>\n",
       "      <td>No</td>\n",
       "      <td>No</td>\n",
       "      <td>Yes</td>\n",
       "      <td>Yes</td>\n",
       "      <td>No</td>\n",
       "      <td>Month-to-month</td>\n",
       "      <td>Yes</td>\n",
       "      <td>Mailed check</td>\n",
       "      <td>83.9</td>\n",
       "      <td>267.40</td>\n",
       "    </tr>\n",
       "  </tbody>\n",
       "</table>\n",
       "</div>"
      ],
      "text/plain": [
       "  Churn  gender  SeniorCitizen Partner Dependents  tenure PhoneService  \\\n",
       "0    No  Female          False     Yes        Yes       9          Yes   \n",
       "1    No    Male          False      No         No       9          Yes   \n",
       "2   Yes    Male          False      No         No       4          Yes   \n",
       "3   Yes    Male           True     Yes         No      13          Yes   \n",
       "4   Yes  Female           True     Yes         No       3          Yes   \n",
       "\n",
       "  MultipleLines InternetService OnlineSecurity OnlineBackup DeviceProtection  \\\n",
       "0            No             DSL             No          Yes               No   \n",
       "1           Yes             DSL             No           No               No   \n",
       "2            No     Fiber optic             No           No              Yes   \n",
       "3            No     Fiber optic             No          Yes              Yes   \n",
       "4            No     Fiber optic             No           No               No   \n",
       "\n",
       "  TechSupport StreamingTV StreamingMovies        Contract PaperlessBilling  \\\n",
       "0         Yes         Yes              No        One year              Yes   \n",
       "1          No          No             Yes  Month-to-month               No   \n",
       "2          No          No              No  Month-to-month              Yes   \n",
       "3          No         Yes             Yes  Month-to-month              Yes   \n",
       "4         Yes         Yes              No  Month-to-month              Yes   \n",
       "\n",
       "      PaymentMethod  Charges.Monthly  Charges.Total  \n",
       "0      Mailed check             65.6         593.30  \n",
       "1      Mailed check             59.9         542.40  \n",
       "2  Electronic check             73.9         280.85  \n",
       "3  Electronic check             98.0        1237.85  \n",
       "4      Mailed check             83.9         267.40  "
      ]
     },
     "execution_count": 22,
     "metadata": {},
     "output_type": "execute_result"
    }
   ],
   "source": [
    "df_norm.head(5)"
   ]
  },
  {
   "cell_type": "markdown",
   "metadata": {
    "id": "s0qmi--DWeq7"
   },
   "source": [
    "## **Columna de cuentas diarias**"
   ]
  },
  {
   "cell_type": "markdown",
   "metadata": {
    "id": "XOhCnpSuW3e6"
   },
   "source": [
    "Ahora que los datos están limpios, es momento de crear la columna **\"Cuentas_Diarias\"**. Utiliza la facturación mensual para calcular el valor diario, proporcionando una visión más detallada del comportamiento de los clientes a lo largo del tiempo."
   ]
  },
  {
   "cell_type": "markdown",
   "metadata": {
    "id": "d0eG0DOV9LoY"
   },
   "source": [
    "Para crear la columna DailyCharges (Cuentas Diarias), solo necesitamos dividir el valor mensual (Charges.Monthly) entre aproximadamente 30 días. Esto nos da una estimación diaria del gasto del cliente."
   ]
  },
  {
   "cell_type": "code",
   "execution_count": 23,
   "metadata": {
    "id": "dU-u-4_-W7zc"
   },
   "outputs": [],
   "source": [
    "# Crear la columna DailyCharges dividiendo el monto mensual por 30\n",
    "df_norm['DailyCharges'] = df_norm['Charges.Monthly'] / 30"
   ]
  },
  {
   "cell_type": "code",
   "execution_count": 24,
   "metadata": {
    "colab": {
     "base_uri": "https://localhost:8080/",
     "height": 178
    },
    "executionInfo": {
     "elapsed": 27,
     "status": "ok",
     "timestamp": 1750521224892,
     "user": {
      "displayName": "Elias Celis",
      "userId": "07132738901482165301"
     },
     "user_tz": 240
    },
    "id": "D_0yWyLL9uL9",
    "outputId": "5afeec60-83c3-45af-d99d-4c9fcc04a828"
   },
   "outputs": [
    {
     "data": {
      "text/plain": [
       "0    2.186667\n",
       "1    1.996667\n",
       "2    2.463333\n",
       "Name: DailyCharges, dtype: float64"
      ]
     },
     "execution_count": 24,
     "metadata": {},
     "output_type": "execute_result"
    }
   ],
   "source": [
    "df_norm['DailyCharges'].head(3)"
   ]
  },
  {
   "cell_type": "markdown",
   "metadata": {
    "id": "GOdDWWgmW_LY"
   },
   "source": [
    "## **Estandarización y transformación de datos**"
   ]
  },
  {
   "cell_type": "markdown",
   "metadata": {
    "id": "ZQxNupoVXBjY"
   },
   "source": [
    "Vamos a convertir las columnas que contienen \"Yes\" / \"No\" a valores booleanos tipo entero (1 / 0)"
   ]
  },
  {
   "cell_type": "code",
   "execution_count": 25,
   "metadata": {
    "id": "7Oo8Unlq_2QS"
   },
   "outputs": [],
   "source": [
    "# Lista de columnas a convertir\n",
    "yes_no_cols = [\n",
    "    'Churn', 'Partner', 'Dependents', 'PhoneService', 'MultipleLines',\n",
    "    'OnlineSecurity', 'OnlineBackup', 'DeviceProtection',\n",
    "    'TechSupport', 'StreamingTV', 'StreamingMovies', 'PaperlessBilling'\n",
    "]"
   ]
  },
  {
   "cell_type": "code",
   "execution_count": 26,
   "metadata": {
    "id": "4NqTy5EhAKVA"
   },
   "outputs": [],
   "source": [
    "# Convertir 'Yes' a 1 y 'No' a 0\n",
    "for col in yes_no_cols:\n",
    "    df_norm[col] = df_norm[col].apply(lambda x: 1 if x == 'Yes' else 0).astype('bool')"
   ]
  },
  {
   "cell_type": "code",
   "execution_count": 27,
   "metadata": {
    "colab": {
     "base_uri": "https://localhost:8080/",
     "height": 307
    },
    "executionInfo": {
     "elapsed": 99,
     "status": "ok",
     "timestamp": 1750521225040,
     "user": {
      "displayName": "Elias Celis",
      "userId": "07132738901482165301"
     },
     "user_tz": 240
    },
    "id": "8MvScf78BDYS",
    "outputId": "fa8f1d61-bb3a-4df8-face-4befc40c291f"
   },
   "outputs": [
    {
     "data": {
      "text/html": [
       "<div>\n",
       "<style scoped>\n",
       "    .dataframe tbody tr th:only-of-type {\n",
       "        vertical-align: middle;\n",
       "    }\n",
       "\n",
       "    .dataframe tbody tr th {\n",
       "        vertical-align: top;\n",
       "    }\n",
       "\n",
       "    .dataframe thead th {\n",
       "        text-align: right;\n",
       "    }\n",
       "</style>\n",
       "<table border=\"1\" class=\"dataframe\">\n",
       "  <thead>\n",
       "    <tr style=\"text-align: right;\">\n",
       "      <th></th>\n",
       "      <th>Churn</th>\n",
       "      <th>gender</th>\n",
       "      <th>SeniorCitizen</th>\n",
       "      <th>Partner</th>\n",
       "      <th>Dependents</th>\n",
       "      <th>tenure</th>\n",
       "      <th>PhoneService</th>\n",
       "      <th>MultipleLines</th>\n",
       "      <th>InternetService</th>\n",
       "      <th>OnlineSecurity</th>\n",
       "      <th>...</th>\n",
       "      <th>DeviceProtection</th>\n",
       "      <th>TechSupport</th>\n",
       "      <th>StreamingTV</th>\n",
       "      <th>StreamingMovies</th>\n",
       "      <th>Contract</th>\n",
       "      <th>PaperlessBilling</th>\n",
       "      <th>PaymentMethod</th>\n",
       "      <th>Charges.Monthly</th>\n",
       "      <th>Charges.Total</th>\n",
       "      <th>DailyCharges</th>\n",
       "    </tr>\n",
       "  </thead>\n",
       "  <tbody>\n",
       "    <tr>\n",
       "      <th>3079</th>\n",
       "      <td>False</td>\n",
       "      <td>Male</td>\n",
       "      <td>False</td>\n",
       "      <td>False</td>\n",
       "      <td>False</td>\n",
       "      <td>7</td>\n",
       "      <td>True</td>\n",
       "      <td>False</td>\n",
       "      <td>Fiber optic</td>\n",
       "      <td>False</td>\n",
       "      <td>...</td>\n",
       "      <td>False</td>\n",
       "      <td>False</td>\n",
       "      <td>False</td>\n",
       "      <td>False</td>\n",
       "      <td>Month-to-month</td>\n",
       "      <td>True</td>\n",
       "      <td>Electronic check</td>\n",
       "      <td>69.55</td>\n",
       "      <td>521.35</td>\n",
       "      <td>2.318333</td>\n",
       "    </tr>\n",
       "    <tr>\n",
       "      <th>2353</th>\n",
       "      <td>False</td>\n",
       "      <td>Male</td>\n",
       "      <td>True</td>\n",
       "      <td>False</td>\n",
       "      <td>False</td>\n",
       "      <td>30</td>\n",
       "      <td>True</td>\n",
       "      <td>True</td>\n",
       "      <td>DSL</td>\n",
       "      <td>False</td>\n",
       "      <td>...</td>\n",
       "      <td>True</td>\n",
       "      <td>True</td>\n",
       "      <td>True</td>\n",
       "      <td>False</td>\n",
       "      <td>Two year</td>\n",
       "      <td>True</td>\n",
       "      <td>Credit card (automatic)</td>\n",
       "      <td>69.10</td>\n",
       "      <td>2093.90</td>\n",
       "      <td>2.303333</td>\n",
       "    </tr>\n",
       "    <tr>\n",
       "      <th>4391</th>\n",
       "      <td>False</td>\n",
       "      <td>Female</td>\n",
       "      <td>False</td>\n",
       "      <td>True</td>\n",
       "      <td>True</td>\n",
       "      <td>34</td>\n",
       "      <td>True</td>\n",
       "      <td>False</td>\n",
       "      <td>No</td>\n",
       "      <td>False</td>\n",
       "      <td>...</td>\n",
       "      <td>False</td>\n",
       "      <td>False</td>\n",
       "      <td>False</td>\n",
       "      <td>False</td>\n",
       "      <td>Month-to-month</td>\n",
       "      <td>False</td>\n",
       "      <td>Mailed check</td>\n",
       "      <td>20.65</td>\n",
       "      <td>716.40</td>\n",
       "      <td>0.688333</td>\n",
       "    </tr>\n",
       "    <tr>\n",
       "      <th>2130</th>\n",
       "      <td>False</td>\n",
       "      <td>Male</td>\n",
       "      <td>False</td>\n",
       "      <td>True</td>\n",
       "      <td>True</td>\n",
       "      <td>40</td>\n",
       "      <td>True</td>\n",
       "      <td>True</td>\n",
       "      <td>DSL</td>\n",
       "      <td>False</td>\n",
       "      <td>...</td>\n",
       "      <td>True</td>\n",
       "      <td>False</td>\n",
       "      <td>True</td>\n",
       "      <td>True</td>\n",
       "      <td>Month-to-month</td>\n",
       "      <td>True</td>\n",
       "      <td>Electronic check</td>\n",
       "      <td>74.55</td>\n",
       "      <td>3015.75</td>\n",
       "      <td>2.485000</td>\n",
       "    </tr>\n",
       "    <tr>\n",
       "      <th>158</th>\n",
       "      <td>False</td>\n",
       "      <td>Female</td>\n",
       "      <td>False</td>\n",
       "      <td>True</td>\n",
       "      <td>True</td>\n",
       "      <td>67</td>\n",
       "      <td>True</td>\n",
       "      <td>False</td>\n",
       "      <td>DSL</td>\n",
       "      <td>False</td>\n",
       "      <td>...</td>\n",
       "      <td>False</td>\n",
       "      <td>False</td>\n",
       "      <td>False</td>\n",
       "      <td>False</td>\n",
       "      <td>One year</td>\n",
       "      <td>False</td>\n",
       "      <td>Credit card (automatic)</td>\n",
       "      <td>50.55</td>\n",
       "      <td>3431.75</td>\n",
       "      <td>1.685000</td>\n",
       "    </tr>\n",
       "  </tbody>\n",
       "</table>\n",
       "<p>5 rows × 21 columns</p>\n",
       "</div>"
      ],
      "text/plain": [
       "      Churn  gender  SeniorCitizen  Partner  Dependents  tenure  PhoneService  \\\n",
       "3079  False    Male          False    False       False       7          True   \n",
       "2353  False    Male           True    False       False      30          True   \n",
       "4391  False  Female          False     True        True      34          True   \n",
       "2130  False    Male          False     True        True      40          True   \n",
       "158   False  Female          False     True        True      67          True   \n",
       "\n",
       "      MultipleLines InternetService  OnlineSecurity  ...  DeviceProtection  \\\n",
       "3079          False     Fiber optic           False  ...             False   \n",
       "2353           True             DSL           False  ...              True   \n",
       "4391          False              No           False  ...             False   \n",
       "2130           True             DSL           False  ...              True   \n",
       "158           False             DSL           False  ...             False   \n",
       "\n",
       "      TechSupport  StreamingTV  StreamingMovies        Contract  \\\n",
       "3079        False        False            False  Month-to-month   \n",
       "2353         True         True            False        Two year   \n",
       "4391        False        False            False  Month-to-month   \n",
       "2130        False         True             True  Month-to-month   \n",
       "158         False        False            False        One year   \n",
       "\n",
       "     PaperlessBilling            PaymentMethod Charges.Monthly  Charges.Total  \\\n",
       "3079             True         Electronic check           69.55         521.35   \n",
       "2353             True  Credit card (automatic)           69.10        2093.90   \n",
       "4391            False             Mailed check           20.65         716.40   \n",
       "2130             True         Electronic check           74.55        3015.75   \n",
       "158             False  Credit card (automatic)           50.55        3431.75   \n",
       "\n",
       "      DailyCharges  \n",
       "3079      2.318333  \n",
       "2353      2.303333  \n",
       "4391      0.688333  \n",
       "2130      2.485000  \n",
       "158       1.685000  \n",
       "\n",
       "[5 rows x 21 columns]"
      ]
     },
     "execution_count": 27,
     "metadata": {},
     "output_type": "execute_result"
    }
   ],
   "source": [
    "df_norm.sample(5)"
   ]
  },
  {
   "cell_type": "markdown",
   "metadata": {
    "id": "eGTS_Qw20Add"
   },
   "source": [
    "## **Traducir datos del dataframe**"
   ]
  },
  {
   "cell_type": "code",
   "execution_count": 28,
   "metadata": {
    "colab": {
     "base_uri": "https://localhost:8080/"
    },
    "executionInfo": {
     "elapsed": 16,
     "status": "ok",
     "timestamp": 1750521225040,
     "user": {
      "displayName": "Elias Celis",
      "userId": "07132738901482165301"
     },
     "user_tz": 240
    },
    "id": "jcJLsGka0Fej",
    "outputId": "4b19fd61-a4dc-401d-933f-206901554de2"
   },
   "outputs": [
    {
     "data": {
      "text/plain": [
       "Index(['Churn', 'gender', 'SeniorCitizen', 'Partner', 'Dependents', 'tenure',\n",
       "       'PhoneService', 'MultipleLines', 'InternetService', 'OnlineSecurity',\n",
       "       'OnlineBackup', 'DeviceProtection', 'TechSupport', 'StreamingTV',\n",
       "       'StreamingMovies', 'Contract', 'PaperlessBilling', 'PaymentMethod',\n",
       "       'Charges.Monthly', 'Charges.Total', 'DailyCharges'],\n",
       "      dtype='object')"
      ]
     },
     "execution_count": 28,
     "metadata": {},
     "output_type": "execute_result"
    }
   ],
   "source": [
    "cols = df_norm.columns\n",
    "cols"
   ]
  },
  {
   "cell_type": "code",
   "execution_count": 29,
   "metadata": {
    "id": "4w2mcU5q0M21"
   },
   "outputs": [],
   "source": [
    "# Traducir a espanol los encabezados de las columnas\n",
    "df_norm.rename(columns={\n",
    "    'Churn': 'Evasión',\n",
    "    'gender': 'Género',\n",
    "    'SeniorCitizen': 'Adulto Mayor',\n",
    "    'Partner': 'Tiene Pareja',\n",
    "    'Dependents': 'Dependiente',\n",
    "    'tenure': 'Permanencia',\n",
    "    'PhoneService': 'Servicio Telefónico',\n",
    "    'MultipleLines': 'Líneas Múltiples',\n",
    "    'InternetService': 'Servicio Internet',\n",
    "    'OnlineSecurity': 'Seguridad en Línea',\n",
    "    'OnlineBackup': 'Respaldo en Linea',\n",
    "    'DeviceProtection': 'Protección Dispositivo',\n",
    "    'TechSupport': 'Soporte Técnico',\n",
    "    'StreamingTV': 'Streaming de TV',\n",
    "    'StreamingMovies': 'Streaming de Películas',\n",
    "    'Contract': 'Tipo Contrato',\n",
    "    'PaperlessBilling': 'Facturación Electronica',\n",
    "    'PaymentMethod': 'Método de Pago',\n",
    "    'Charges.Monthly': 'Cargo Mensual',\n",
    "    'Charges.Total': 'Cargo Total',\n",
    "    'DailyCharges': 'Cargo Diario'\n",
    "}, inplace=True)\n"
   ]
  },
  {
   "cell_type": "code",
   "execution_count": 30,
   "metadata": {
    "colab": {
     "base_uri": "https://localhost:8080/"
    },
    "executionInfo": {
     "elapsed": 10,
     "status": "ok",
     "timestamp": 1750521225041,
     "user": {
      "displayName": "Elias Celis",
      "userId": "07132738901482165301"
     },
     "user_tz": 240
    },
    "id": "xsYU_MJe18uh",
    "outputId": "8cde044a-c6d3-4786-888f-75c6bdd59bb5"
   },
   "outputs": [
    {
     "data": {
      "text/plain": [
       "Index(['Evasión', 'Género', 'Adulto Mayor', 'Tiene Pareja', 'Dependiente',\n",
       "       'Permanencia', 'Servicio Telefónico', 'Líneas Múltiples',\n",
       "       'Servicio Internet', 'Seguridad en Línea', 'Respaldo en Linea',\n",
       "       'Protección Dispositivo', 'Soporte Técnico', 'Streaming de TV',\n",
       "       'Streaming de Películas', 'Tipo Contrato', 'Facturación Electronica',\n",
       "       'Método de Pago', 'Cargo Mensual', 'Cargo Total', 'Cargo Diario'],\n",
       "      dtype='object')"
      ]
     },
     "execution_count": 30,
     "metadata": {},
     "output_type": "execute_result"
    }
   ],
   "source": [
    "df_norm.columns"
   ]
  },
  {
   "cell_type": "code",
   "execution_count": 31,
   "metadata": {
    "colab": {
     "base_uri": "https://localhost:8080/"
    },
    "executionInfo": {
     "elapsed": 6,
     "status": "ok",
     "timestamp": 1750521225041,
     "user": {
      "displayName": "Elias Celis",
      "userId": "07132738901482165301"
     },
     "user_tz": 240
    },
    "id": "Aztz1GT82Lko",
    "outputId": "a3ab1f17-fd9b-4f81-fac2-de665a4fe23e"
   },
   "outputs": [
    {
     "data": {
      "text/plain": [
       "array(['Female', 'Male'], dtype=object)"
      ]
     },
     "execution_count": 31,
     "metadata": {},
     "output_type": "execute_result"
    }
   ],
   "source": [
    "# Extraer los valores unicos de la columna `Genero`\n",
    "df_norm['Género'].unique()"
   ]
  },
  {
   "cell_type": "code",
   "execution_count": 32,
   "metadata": {
    "id": "PjBCEig_2TQ4"
   },
   "outputs": [],
   "source": [
    "# Cambiar 'Female' por 'Femenino' y 'Male' por 'Masculino'\n",
    "df_norm['Género'] = df_norm['Género'].replace({'Female': 'Femenino', 'Male': 'Masculino'})"
   ]
  },
  {
   "cell_type": "code",
   "execution_count": 33,
   "metadata": {
    "colab": {
     "base_uri": "https://localhost:8080/"
    },
    "executionInfo": {
     "elapsed": 11,
     "status": "ok",
     "timestamp": 1750521225073,
     "user": {
      "displayName": "Elias Celis",
      "userId": "07132738901482165301"
     },
     "user_tz": 240
    },
    "id": "hsw1VIif2jnN",
    "outputId": "a35af436-f701-4dfa-c23d-d03f188843ec"
   },
   "outputs": [
    {
     "data": {
      "text/plain": [
       "array(['Femenino', 'Masculino'], dtype=object)"
      ]
     },
     "execution_count": 33,
     "metadata": {},
     "output_type": "execute_result"
    }
   ],
   "source": [
    "df_norm['Género'].unique()"
   ]
  },
  {
   "cell_type": "code",
   "execution_count": 34,
   "metadata": {
    "colab": {
     "base_uri": "https://localhost:8080/"
    },
    "executionInfo": {
     "elapsed": 6,
     "status": "ok",
     "timestamp": 1750521225074,
     "user": {
      "displayName": "Elias Celis",
      "userId": "07132738901482165301"
     },
     "user_tz": 240
    },
    "id": "psr_lhWX2qnV",
    "outputId": "fe818f97-93e4-416f-a02f-d9b6f3b0dc62"
   },
   "outputs": [
    {
     "data": {
      "text/plain": [
       "array(['One year', 'Month-to-month', 'Two year'], dtype=object)"
      ]
     },
     "execution_count": 34,
     "metadata": {},
     "output_type": "execute_result"
    }
   ],
   "source": [
    "# Extraer los valores unicos de la columna 'TipoContrato'\n",
    "df_norm['Tipo Contrato'].unique()"
   ]
  },
  {
   "cell_type": "code",
   "execution_count": 35,
   "metadata": {
    "id": "pPq064b-23NR"
   },
   "outputs": [],
   "source": [
    "# Traducir los campos de 'TipoContrato'\n",
    "df_norm['Tipo Contrato'] = df_norm['Tipo Contrato'].replace({'Month-to-month': 'Mes-a-Mes', 'One year': 'Un año', 'Two year': 'Dos años'})"
   ]
  },
  {
   "cell_type": "code",
   "execution_count": 36,
   "metadata": {
    "colab": {
     "base_uri": "https://localhost:8080/"
    },
    "executionInfo": {
     "elapsed": 13,
     "status": "ok",
     "timestamp": 1750521225111,
     "user": {
      "displayName": "Elias Celis",
      "userId": "07132738901482165301"
     },
     "user_tz": 240
    },
    "id": "-fuyIYWX3Q_j",
    "outputId": "eb68fb44-7eb0-4ffc-a43d-bbc68af05422"
   },
   "outputs": [
    {
     "data": {
      "text/plain": [
       "array(['Mailed check', 'Electronic check', 'Credit card (automatic)',\n",
       "       'Bank transfer (automatic)'], dtype=object)"
      ]
     },
     "execution_count": 36,
     "metadata": {},
     "output_type": "execute_result"
    }
   ],
   "source": [
    "# Extraer los valores unicos de la columna 'MetodoPago'\n",
    "df_norm['Método de Pago'].unique()"
   ]
  },
  {
   "cell_type": "code",
   "execution_count": 37,
   "metadata": {
    "id": "ouDlVHBf3usZ"
   },
   "outputs": [],
   "source": [
    "# Traducir los campos de 'MetodoPago'\n",
    "df_norm['Método de Pago'] = df_norm['Método de Pago'].replace({\n",
    "    'Electronic check': 'Cheque electrónico',\n",
    "    'Mailed check': 'Cheque por correo',\n",
    "    'Bank transfer (automatic)': 'Transferencia',\n",
    "    'Credit card (automatic)': 'Tarjeta de crédito'\n",
    "})"
   ]
  },
  {
   "cell_type": "code",
   "execution_count": 38,
   "metadata": {
    "colab": {
     "base_uri": "https://localhost:8080/"
    },
    "executionInfo": {
     "elapsed": 37,
     "status": "ok",
     "timestamp": 1750521225147,
     "user": {
      "displayName": "Elias Celis",
      "userId": "07132738901482165301"
     },
     "user_tz": 240
    },
    "id": "HPdpMc0e4Dgl",
    "outputId": "8b5443eb-c6e5-4f6f-a6ab-79c1f4858007"
   },
   "outputs": [
    {
     "data": {
      "text/plain": [
       "array(['DSL', 'Fiber optic', 'No'], dtype=object)"
      ]
     },
     "execution_count": 38,
     "metadata": {},
     "output_type": "execute_result"
    }
   ],
   "source": [
    "# Extraer los valores unicos de la columna 'ServicioInternet'\n",
    "df_norm['Servicio Internet'].unique()"
   ]
  },
  {
   "cell_type": "code",
   "execution_count": 39,
   "metadata": {
    "id": "GRHpG7gK4Qvo"
   },
   "outputs": [],
   "source": [
    "# Traducir los campos de 'ServicioInternet'\n",
    "df_norm['Servicio Internet'] = df_norm['Servicio Internet'].replace({'Fiber optic': 'Fibra óptica'})"
   ]
  },
  {
   "cell_type": "code",
   "execution_count": 40,
   "metadata": {
    "id": "ztYyoPOx4c68"
   },
   "outputs": [],
   "source": [
    "# Generar nuevo archivo CSV del dataframe 'df_norm'\n",
    "df_norm.to_csv('../data/Datos_TelecomX.csv', index=False)"
   ]
  },
  {
   "cell_type": "markdown",
   "metadata": {
    "id": "LP5kjUGrFKcG"
   },
   "source": [
    "# **📊 Carga y análisis(L - Load & Analysis)**"
   ]
  },
  {
   "cell_type": "markdown",
   "metadata": {
    "id": "_FKRu8SMFO8E"
   },
   "source": [
    "## **Análisis Descriptivo**"
   ]
  },
  {
   "cell_type": "code",
   "execution_count": 41,
   "metadata": {
    "id": "gcO-wM8k5V8Q"
   },
   "outputs": [],
   "source": [
    "df_telecom = pd.read_csv('../data/Datos_TelecomX.csv')"
   ]
  },
  {
   "cell_type": "code",
   "execution_count": 42,
   "metadata": {
    "colab": {
     "base_uri": "https://localhost:8080/",
     "height": 377
    },
    "executionInfo": {
     "elapsed": 52,
     "status": "ok",
     "timestamp": 1750521225316,
     "user": {
      "displayName": "Elias Celis",
      "userId": "07132738901482165301"
     },
     "user_tz": 240
    },
    "id": "czvxIDqCUD0D",
    "outputId": "37460161-dbaa-400d-b939-f6fca92e4553"
   },
   "outputs": [
    {
     "data": {
      "text/html": [
       "<div>\n",
       "<style scoped>\n",
       "    .dataframe tbody tr th:only-of-type {\n",
       "        vertical-align: middle;\n",
       "    }\n",
       "\n",
       "    .dataframe tbody tr th {\n",
       "        vertical-align: top;\n",
       "    }\n",
       "\n",
       "    .dataframe thead th {\n",
       "        text-align: right;\n",
       "    }\n",
       "</style>\n",
       "<table border=\"1\" class=\"dataframe\">\n",
       "  <thead>\n",
       "    <tr style=\"text-align: right;\">\n",
       "      <th></th>\n",
       "      <th>Evasión</th>\n",
       "      <th>Género</th>\n",
       "      <th>Adulto Mayor</th>\n",
       "      <th>Tiene Pareja</th>\n",
       "      <th>Dependiente</th>\n",
       "      <th>Permanencia</th>\n",
       "      <th>Servicio Telefónico</th>\n",
       "      <th>Líneas Múltiples</th>\n",
       "      <th>Servicio Internet</th>\n",
       "      <th>Seguridad en Línea</th>\n",
       "      <th>...</th>\n",
       "      <th>Protección Dispositivo</th>\n",
       "      <th>Soporte Técnico</th>\n",
       "      <th>Streaming de TV</th>\n",
       "      <th>Streaming de Películas</th>\n",
       "      <th>Tipo Contrato</th>\n",
       "      <th>Facturación Electronica</th>\n",
       "      <th>Método de Pago</th>\n",
       "      <th>Cargo Mensual</th>\n",
       "      <th>Cargo Total</th>\n",
       "      <th>Cargo Diario</th>\n",
       "    </tr>\n",
       "  </thead>\n",
       "  <tbody>\n",
       "    <tr>\n",
       "      <th>0</th>\n",
       "      <td>False</td>\n",
       "      <td>Femenino</td>\n",
       "      <td>False</td>\n",
       "      <td>True</td>\n",
       "      <td>True</td>\n",
       "      <td>9</td>\n",
       "      <td>True</td>\n",
       "      <td>False</td>\n",
       "      <td>DSL</td>\n",
       "      <td>False</td>\n",
       "      <td>...</td>\n",
       "      <td>False</td>\n",
       "      <td>True</td>\n",
       "      <td>True</td>\n",
       "      <td>False</td>\n",
       "      <td>Un año</td>\n",
       "      <td>True</td>\n",
       "      <td>Cheque por correo</td>\n",
       "      <td>65.6</td>\n",
       "      <td>593.30</td>\n",
       "      <td>2.186667</td>\n",
       "    </tr>\n",
       "    <tr>\n",
       "      <th>1</th>\n",
       "      <td>False</td>\n",
       "      <td>Masculino</td>\n",
       "      <td>False</td>\n",
       "      <td>False</td>\n",
       "      <td>False</td>\n",
       "      <td>9</td>\n",
       "      <td>True</td>\n",
       "      <td>True</td>\n",
       "      <td>DSL</td>\n",
       "      <td>False</td>\n",
       "      <td>...</td>\n",
       "      <td>False</td>\n",
       "      <td>False</td>\n",
       "      <td>False</td>\n",
       "      <td>True</td>\n",
       "      <td>Mes-a-Mes</td>\n",
       "      <td>False</td>\n",
       "      <td>Cheque por correo</td>\n",
       "      <td>59.9</td>\n",
       "      <td>542.40</td>\n",
       "      <td>1.996667</td>\n",
       "    </tr>\n",
       "    <tr>\n",
       "      <th>2</th>\n",
       "      <td>True</td>\n",
       "      <td>Masculino</td>\n",
       "      <td>False</td>\n",
       "      <td>False</td>\n",
       "      <td>False</td>\n",
       "      <td>4</td>\n",
       "      <td>True</td>\n",
       "      <td>False</td>\n",
       "      <td>Fibra óptica</td>\n",
       "      <td>False</td>\n",
       "      <td>...</td>\n",
       "      <td>True</td>\n",
       "      <td>False</td>\n",
       "      <td>False</td>\n",
       "      <td>False</td>\n",
       "      <td>Mes-a-Mes</td>\n",
       "      <td>True</td>\n",
       "      <td>Cheque electrónico</td>\n",
       "      <td>73.9</td>\n",
       "      <td>280.85</td>\n",
       "      <td>2.463333</td>\n",
       "    </tr>\n",
       "    <tr>\n",
       "      <th>3</th>\n",
       "      <td>True</td>\n",
       "      <td>Masculino</td>\n",
       "      <td>True</td>\n",
       "      <td>True</td>\n",
       "      <td>False</td>\n",
       "      <td>13</td>\n",
       "      <td>True</td>\n",
       "      <td>False</td>\n",
       "      <td>Fibra óptica</td>\n",
       "      <td>False</td>\n",
       "      <td>...</td>\n",
       "      <td>True</td>\n",
       "      <td>False</td>\n",
       "      <td>True</td>\n",
       "      <td>True</td>\n",
       "      <td>Mes-a-Mes</td>\n",
       "      <td>True</td>\n",
       "      <td>Cheque electrónico</td>\n",
       "      <td>98.0</td>\n",
       "      <td>1237.85</td>\n",
       "      <td>3.266667</td>\n",
       "    </tr>\n",
       "    <tr>\n",
       "      <th>4</th>\n",
       "      <td>True</td>\n",
       "      <td>Femenino</td>\n",
       "      <td>True</td>\n",
       "      <td>True</td>\n",
       "      <td>False</td>\n",
       "      <td>3</td>\n",
       "      <td>True</td>\n",
       "      <td>False</td>\n",
       "      <td>Fibra óptica</td>\n",
       "      <td>False</td>\n",
       "      <td>...</td>\n",
       "      <td>False</td>\n",
       "      <td>True</td>\n",
       "      <td>True</td>\n",
       "      <td>False</td>\n",
       "      <td>Mes-a-Mes</td>\n",
       "      <td>True</td>\n",
       "      <td>Cheque por correo</td>\n",
       "      <td>83.9</td>\n",
       "      <td>267.40</td>\n",
       "      <td>2.796667</td>\n",
       "    </tr>\n",
       "  </tbody>\n",
       "</table>\n",
       "<p>5 rows × 21 columns</p>\n",
       "</div>"
      ],
      "text/plain": [
       "   Evasión     Género  Adulto Mayor  Tiene Pareja  Dependiente  Permanencia  \\\n",
       "0    False   Femenino         False          True         True            9   \n",
       "1    False  Masculino         False         False        False            9   \n",
       "2     True  Masculino         False         False        False            4   \n",
       "3     True  Masculino          True          True        False           13   \n",
       "4     True   Femenino          True          True        False            3   \n",
       "\n",
       "   Servicio Telefónico  Líneas Múltiples Servicio Internet  \\\n",
       "0                 True             False               DSL   \n",
       "1                 True              True               DSL   \n",
       "2                 True             False      Fibra óptica   \n",
       "3                 True             False      Fibra óptica   \n",
       "4                 True             False      Fibra óptica   \n",
       "\n",
       "   Seguridad en Línea  ...  Protección Dispositivo  Soporte Técnico  \\\n",
       "0               False  ...                   False             True   \n",
       "1               False  ...                   False            False   \n",
       "2               False  ...                    True            False   \n",
       "3               False  ...                    True            False   \n",
       "4               False  ...                   False             True   \n",
       "\n",
       "   Streaming de TV  Streaming de Películas  Tipo Contrato  \\\n",
       "0             True                   False         Un año   \n",
       "1            False                    True      Mes-a-Mes   \n",
       "2            False                   False      Mes-a-Mes   \n",
       "3             True                    True      Mes-a-Mes   \n",
       "4             True                   False      Mes-a-Mes   \n",
       "\n",
       "  Facturación Electronica      Método de Pago Cargo Mensual  Cargo Total  \\\n",
       "0                    True   Cheque por correo          65.6       593.30   \n",
       "1                   False   Cheque por correo          59.9       542.40   \n",
       "2                    True  Cheque electrónico          73.9       280.85   \n",
       "3                    True  Cheque electrónico          98.0      1237.85   \n",
       "4                    True   Cheque por correo          83.9       267.40   \n",
       "\n",
       "   Cargo Diario  \n",
       "0      2.186667  \n",
       "1      1.996667  \n",
       "2      2.463333  \n",
       "3      3.266667  \n",
       "4      2.796667  \n",
       "\n",
       "[5 rows x 21 columns]"
      ]
     },
     "execution_count": 42,
     "metadata": {},
     "output_type": "execute_result"
    }
   ],
   "source": [
    "df_telecom.head(5)"
   ]
  },
  {
   "cell_type": "code",
   "execution_count": 43,
   "metadata": {
    "colab": {
     "base_uri": "https://localhost:8080/",
     "height": 300
    },
    "executionInfo": {
     "elapsed": 35,
     "status": "ok",
     "timestamp": 1750521225352,
     "user": {
      "displayName": "Elias Celis",
      "userId": "07132738901482165301"
     },
     "user_tz": 240
    },
    "id": "tAxxqBCNF11O",
    "outputId": "26cd2af6-9af5-488f-f46b-4b3960a624f0"
   },
   "outputs": [
    {
     "data": {
      "text/html": [
       "<div>\n",
       "<style scoped>\n",
       "    .dataframe tbody tr th:only-of-type {\n",
       "        vertical-align: middle;\n",
       "    }\n",
       "\n",
       "    .dataframe tbody tr th {\n",
       "        vertical-align: top;\n",
       "    }\n",
       "\n",
       "    .dataframe thead th {\n",
       "        text-align: right;\n",
       "    }\n",
       "</style>\n",
       "<table border=\"1\" class=\"dataframe\">\n",
       "  <thead>\n",
       "    <tr style=\"text-align: right;\">\n",
       "      <th></th>\n",
       "      <th>Permanencia</th>\n",
       "      <th>Cargo Mensual</th>\n",
       "      <th>Cargo Total</th>\n",
       "      <th>Cargo Diario</th>\n",
       "    </tr>\n",
       "  </thead>\n",
       "  <tbody>\n",
       "    <tr>\n",
       "      <th>count</th>\n",
       "      <td>7267.000000</td>\n",
       "      <td>7267.000000</td>\n",
       "      <td>7267.000000</td>\n",
       "      <td>7267.000000</td>\n",
       "    </tr>\n",
       "    <tr>\n",
       "      <th>mean</th>\n",
       "      <td>32.346498</td>\n",
       "      <td>64.720098</td>\n",
       "      <td>2277.182035</td>\n",
       "      <td>2.157337</td>\n",
       "    </tr>\n",
       "    <tr>\n",
       "      <th>std</th>\n",
       "      <td>24.571773</td>\n",
       "      <td>30.129572</td>\n",
       "      <td>2268.648587</td>\n",
       "      <td>1.004319</td>\n",
       "    </tr>\n",
       "    <tr>\n",
       "      <th>min</th>\n",
       "      <td>0.000000</td>\n",
       "      <td>18.250000</td>\n",
       "      <td>0.000000</td>\n",
       "      <td>0.608333</td>\n",
       "    </tr>\n",
       "    <tr>\n",
       "      <th>25%</th>\n",
       "      <td>9.000000</td>\n",
       "      <td>35.425000</td>\n",
       "      <td>396.200000</td>\n",
       "      <td>1.180833</td>\n",
       "    </tr>\n",
       "    <tr>\n",
       "      <th>50%</th>\n",
       "      <td>29.000000</td>\n",
       "      <td>70.300000</td>\n",
       "      <td>1389.200000</td>\n",
       "      <td>2.343333</td>\n",
       "    </tr>\n",
       "    <tr>\n",
       "      <th>75%</th>\n",
       "      <td>55.000000</td>\n",
       "      <td>89.875000</td>\n",
       "      <td>3778.525000</td>\n",
       "      <td>2.995833</td>\n",
       "    </tr>\n",
       "    <tr>\n",
       "      <th>max</th>\n",
       "      <td>72.000000</td>\n",
       "      <td>118.750000</td>\n",
       "      <td>8684.800000</td>\n",
       "      <td>3.958333</td>\n",
       "    </tr>\n",
       "  </tbody>\n",
       "</table>\n",
       "</div>"
      ],
      "text/plain": [
       "       Permanencia  Cargo Mensual  Cargo Total  Cargo Diario\n",
       "count  7267.000000    7267.000000  7267.000000   7267.000000\n",
       "mean     32.346498      64.720098  2277.182035      2.157337\n",
       "std      24.571773      30.129572  2268.648587      1.004319\n",
       "min       0.000000      18.250000     0.000000      0.608333\n",
       "25%       9.000000      35.425000   396.200000      1.180833\n",
       "50%      29.000000      70.300000  1389.200000      2.343333\n",
       "75%      55.000000      89.875000  3778.525000      2.995833\n",
       "max      72.000000     118.750000  8684.800000      3.958333"
      ]
     },
     "execution_count": 43,
     "metadata": {},
     "output_type": "execute_result"
    }
   ],
   "source": [
    "df_telecom.describe()"
   ]
  },
  {
   "cell_type": "markdown",
   "metadata": {
    "id": "0KX-12atq0QG"
   },
   "source": [
    "## **Análisis por variable**"
   ]
  },
  {
   "cell_type": "markdown",
   "metadata": {
    "id": "bFfjQy7SqUYM"
   },
   "source": [
    "### **🔹 Antigüedad en meses:**"
   ]
  },
  {
   "cell_type": "markdown",
   "metadata": {
    "id": "WBLii1NTqYhD"
   },
   "source": [
    "- Hay clientes con antigüedad = 0, es decir que podrían estar recién registrados, lo que explicaría valores bajos en facturación.\n",
    "- La antigüedad promedio (`~32` meses) sugiere que muchos clientes tienen una relación prolongada.\n",
    "- Distribución posiblemente sesgada hacia los extremos (clientes nuevos y antiguos)."
   ]
  },
  {
   "cell_type": "markdown",
   "metadata": {
    "id": "X6NEC3j2rn9y"
   },
   "source": [
    "**Sugerencia:** crear grupos de antigüedad (ej. nuevos: `0–12`, leales: `>48`) para analizar la `Evasion`."
   ]
  },
  {
   "cell_type": "markdown",
   "metadata": {
    "id": "fERjqh4KrFEO"
   },
   "source": [
    "### **🔹 Cargo mensual**"
   ]
  },
  {
   "cell_type": "markdown",
   "metadata": {
    "id": "n1-S62EKrJpF"
   },
   "source": [
    "- Varía bastante (de `~$18` a `~$118`), probablemente según servicios contratados.\n",
    "- La mediana es mayor que la media, lo que indica una ligera asimetría hacia la izquierda (clientes con cargos bajos)."
   ]
  },
  {
   "cell_type": "markdown",
   "metadata": {
    "id": "upzawjQfr_Jy"
   },
   "source": [
    "💡 Clientes con cargos más altos podrían ser más exigentes → mayor `Evasion`."
   ]
  },
  {
   "cell_type": "markdown",
   "metadata": {
    "id": "XnDfpoLjrP_e"
   },
   "source": [
    "### **🔹 Gasto diario estimado**"
   ]
  },
  {
   "cell_type": "markdown",
   "metadata": {
    "id": "3s8n39lxruSD"
   },
   "source": [
    "- Directamente proporcional a `Cargo Mensual`.\n",
    "- Menos dispersión (`std ≈ 1.0`), pero aún muestra variabilidad en consumo diario."
   ]
  },
  {
   "cell_type": "markdown",
   "metadata": {
    "id": "ZxCfUCwar4Mi"
   },
   "source": [
    "💡 Útil para normalizar ingresos y comparar clientes independientemente de su antigüedad."
   ]
  },
  {
   "cell_type": "markdown",
   "metadata": {
    "id": "uazm6rtwF2Mh"
   },
   "source": [
    "## **Distribución de evasión**"
   ]
  },
  {
   "cell_type": "markdown",
   "metadata": {
    "id": "MwCIyukGF5x_"
   },
   "source": [
    "### **📊 Visualización de la distribución de `Evasión`**"
   ]
  },
  {
   "cell_type": "code",
   "execution_count": 44,
   "metadata": {
    "id": "z7CQRe1qtV5n"
   },
   "outputs": [
    {
     "name": "stderr",
     "output_type": "stream",
     "text": [
      "Matplotlib is building the font cache; this may take a moment.\n"
     ]
    }
   ],
   "source": [
    "import matplotlib.pyplot as plt\n",
    "import seaborn as sns"
   ]
  },
  {
   "cell_type": "code",
   "execution_count": 45,
   "metadata": {
    "id": "ErWSrsN3F6c_"
   },
   "outputs": [],
   "source": [
    "# Estilo general\n",
    "sns.set_theme(style='whitegrid')"
   ]
  },
  {
   "cell_type": "code",
   "execution_count": 46,
   "metadata": {
    "colab": {
     "base_uri": "https://localhost:8080/",
     "height": 551
    },
    "executionInfo": {
     "elapsed": 451,
     "status": "ok",
     "timestamp": 1750521226969,
     "user": {
      "displayName": "Elias Celis",
      "userId": "07132738901482165301"
     },
     "user_tz": 240
    },
    "id": "HUQent9JthWg",
    "outputId": "1f01841f-dbf3-434a-dea1-7b7bb63ca565"
   },
   "outputs": [
    {
     "data": {
      "image/png": "[encoded data removed]",
      "text/plain": [
       "<Figure size 400x600 with 1 Axes>"
      ]
     },
     "metadata": {},
     "output_type": "display_data"
    }
   ],
   "source": [
    "# Gráfico de barras\n",
    "plt.figure(figsize=(4, 6))\n",
    "sns.countplot(data=df_telecom, x='Evasión', hue='Evasión', palette='pastel', legend=False)\n",
    "plt.title('Cantidad de clientes por estado de evasión', fontsize=14)\n",
    "plt.ylabel('Cantidad')\n",
    "plt.xlabel('')\n",
    "plt.xticks([0, 1], ['Permanece', 'Abandona'])\n",
    "# Eliminar borde superior y el de la derecha\n",
    "sns.despine(top=True, right=True)\n",
    "plt.grid(False)\n",
    "for i, j in enumerate(df_telecom['Evasión'].value_counts()):\n",
    "    plt.text(i, j, str(j), ha='center', va='bottom')\n",
    "plt.savefig('./img/dist_evasion.png', dpi=300, bbox_inches='tight')\n",
    "plt.show()"
   ]
  },
  {
   "cell_type": "code",
   "execution_count": 47,
   "metadata": {
    "id": "GYHSpyP262kH"
   },
   "outputs": [],
   "source": [
    "# Conteo total de Evasión\n",
    "conteo_evasion = df_telecom['Evasión'].value_counts()"
   ]
  },
  {
   "cell_type": "code",
   "execution_count": 48,
   "metadata": {
    "colab": {
     "base_uri": "https://localhost:8080/",
     "height": 413
    },
    "executionInfo": {
     "elapsed": 278,
     "status": "ok",
     "timestamp": 1750521227251,
     "user": {
      "displayName": "Elias Celis",
      "userId": "07132738901482165301"
     },
     "user_tz": 240
    },
    "id": "Baqkd9o6uetQ",
    "outputId": "e2438e53-a7e0-422f-92cd-1dd585584dd6"
   },
   "outputs": [
    {
     "data": {
      "image/png": "[encoded data removed]",
      "text/plain": [
       "<Figure size 1000x1000 with 1 Axes>"
      ]
     },
     "metadata": {},
     "output_type": "display_data"
    }
   ],
   "source": [
    "# Gráfico de torta\n",
    "plt.figure(figsize=(10, 10))\n",
    "plt.subplot(1, 2, 2)\n",
    "\n",
    "plt.pie(conteo_evasion, labels=['Permanencia', 'Abandono'], autopct='%1.1f%%', colors=['skyblue', 'salmon'], startangle=90)\n",
    "plt.title('Proporción de baja de clientes', fontsize=14)\n",
    "plt.savefig('./img/proporcion_evasion.png', dpi=300, bbox_inches='tight')\n",
    "plt.show()"
   ]
  },
  {
   "cell_type": "markdown",
   "metadata": {
    "id": "1-szSlqfmKOn"
   },
   "source": [
    "### **📈 1. Gráfico: Evasión según Permanencia**"
   ]
  },
  {
   "cell_type": "code",
   "execution_count": 49,
   "metadata": {
    "colab": {
     "base_uri": "https://localhost:8080/",
     "height": 501
    },
    "executionInfo": {
     "elapsed": 492,
     "status": "ok",
     "timestamp": 1750521227742,
     "user": {
      "displayName": "Elias Celis",
      "userId": "07132738901482165301"
     },
     "user_tz": 240
    },
    "id": "o4BSvRC7mNFG",
    "outputId": "af017682-ef4f-41f7-ef22-fbf4c3d51a9a"
   },
   "outputs": [
    {
     "data": {
      "image/png": "[encoded data removed]",
      "text/plain": [
       "<Figure size 600x500 with 1 Axes>"
      ]
     },
     "metadata": {},
     "output_type": "display_data"
    }
   ],
   "source": [
    "plt.figure(figsize=(6, 5))\n",
    "sns.boxplot(data=df_telecom, x='Evasión', hue='Evasión', y='Permanencia', palette='Set3', legend=False)\n",
    "plt.title('Distribución de permanencia según evasión', fontsize=14)\n",
    "plt.xlabel('')\n",
    "plt.ylabel('Meses de Permanencia')\n",
    "plt.xticks([0, 1], ['Permanencia', 'Abandono'])\n",
    "plt.yticks(range(0, 73, 6))\n",
    "plt.tight_layout()\n",
    "sns.despine(top=True, right=True)\n",
    "plt.savefig('./img/dist_permanencia.png', dpi=300, bbox_inches='tight')\n",
    "plt.show()"
   ]
  },
  {
   "cell_type": "markdown",
   "metadata": {
    "id": "JVy8EUKmF60f"
   },
   "source": [
    "## **Recuento de evasión por variables categóricas**"
   ]
  },
  {
   "cell_type": "markdown",
   "metadata": {
    "id": "qZs2yODZGAF7"
   },
   "source": [
    "Ahora, exploraremos cómo se distribuye la evasión según variables categóricas, como 'Género', 'Tipo Contrato', 'Método de Pago', 'Adulto Mayor', 'Dependiente' entre otras.\n",
    "\n",
    "Este análisis puede revelar patrones interesantes, por ejemplo, si los clientes de ciertos perfiles tienen una mayor tendencia a cancelar el servicio, lo que ayudará a orientar acciones estratégicas."
   ]
  },
  {
   "cell_type": "markdown",
   "metadata": {
    "id": "IswliREVPo-N"
   },
   "source": [
    "### 🛠️ **Código generalizado para cualquier variable categórica**"
   ]
  },
  {
   "cell_type": "code",
   "execution_count": 50,
   "metadata": {
    "id": "6dGlKo_WPtes"
   },
   "outputs": [],
   "source": [
    "def resumen_evasion_por_categoria(df, columna):\n",
    "    resumen = df.groupby([columna, 'Evasión']).size().unstack(fill_value=0)\n",
    "    resumen.columns = ['Permanencia', 'Abandono']\n",
    "    plt.figure(figsize=(8, 4))\n",
    "    sns.countplot(data=df, x=columna, hue='Evasión', palette='pastel')\n",
    "    plt.title(f'Evasión según {columna.lower()}', fontsize=14)\n",
    "    plt.xlabel(columna, fontsize=12)\n",
    "    plt.ylabel('Cantidad de clientes')\n",
    "    plt.xlabel('')\n",
    "    plt.xticks(rotation=0)\n",
    "    sns.despine(top=True, right=True)\n",
    "    plt.grid(axis='x', linestyle='')\n",
    "    plt.legend(title='Estado', labels=['Permanencia', 'Abandono'], loc='upper right', bbox_to_anchor=(1.2, 1))\n",
    "    plt.tight_layout()\n",
    "    plt.savefig(f'./img/evasion_{columna.lower()}.png', dpi=300, bbox_inches='tight')\n",
    "    plt.show()\n"
   ]
  },
  {
   "cell_type": "code",
   "execution_count": 51,
   "metadata": {
    "colab": {
     "base_uri": "https://localhost:8080/",
     "height": 347
    },
    "executionInfo": {
     "elapsed": 565,
     "status": "ok",
     "timestamp": 1750521228310,
     "user": {
      "displayName": "Elias Celis",
      "userId": "07132738901482165301"
     },
     "user_tz": 240
    },
    "id": "-1Iic9rcPn5W",
    "outputId": "2d0b90ef-4ba8-4f8f-b65e-9c3cff4caa48"
   },
   "outputs": [
    {
     "data": {
      "image/png": "[encoded data removed]",
      "text/plain": [
       "<Figure size 800x400 with 1 Axes>"
      ]
     },
     "metadata": {},
     "output_type": "display_data"
    }
   ],
   "source": [
    "resumen_evasion_por_categoria(df_telecom, 'Género')"
   ]
  },
  {
   "cell_type": "code",
   "execution_count": 52,
   "metadata": {
    "colab": {
     "base_uri": "https://localhost:8080/",
     "height": 347
    },
    "executionInfo": {
     "elapsed": 518,
     "status": "ok",
     "timestamp": 1750521228829,
     "user": {
      "displayName": "Elias Celis",
      "userId": "07132738901482165301"
     },
     "user_tz": 240
    },
    "id": "RxJmOzOINEL8",
    "outputId": "e313e0fc-143f-440e-f266-936e4683d98e"
   },
   "outputs": [
    {
     "data": {
      "image/png": "[encoded data removed]",
      "text/plain": [
       "<Figure size 800x400 with 1 Axes>"
      ]
     },
     "metadata": {},
     "output_type": "display_data"
    }
   ],
   "source": [
    "resumen_evasion_por_categoria(df_telecom, 'Tipo Contrato')"
   ]
  },
  {
   "cell_type": "code",
   "execution_count": 53,
   "metadata": {
    "colab": {
     "base_uri": "https://localhost:8080/",
     "height": 517
    },
    "executionInfo": {
     "elapsed": 987,
     "status": "ok",
     "timestamp": 1750521229817,
     "user": {
      "displayName": "Elias Celis",
      "userId": "07132738901482165301"
     },
     "user_tz": 240
    },
    "id": "Ht_XBQzhS1hu",
    "outputId": "366ee3b2-7561-431c-cfcb-f612e66fcb85"
   },
   "outputs": [
    {
     "data": {
      "image/png": "[encoded data removed]",
      "text/plain": [
       "<Figure size 800x600 with 1 Axes>"
      ]
     },
     "metadata": {},
     "output_type": "display_data"
    }
   ],
   "source": [
    "plt.figure(figsize=(8, 6))\n",
    "sns.countplot(data=df_telecom, x='Dependiente', hue='Evasión', palette='pastel')\n",
    "plt.title('Evasión según si es trabajador dependiente')\n",
    "plt.ylabel('Cantidad de clientes')\n",
    "plt.xlabel('')\n",
    "plt.legend(labels=['Permanencia', 'Abandono'])\n",
    "sns.despine(top=True, right=True)\n",
    "plt.grid(axis='x', linestyle='')\n",
    "plt.xticks([0, 1], ['Independientes', 'Dependientes'])\n",
    "plt.legend(title='Estado', labels=['Permanencia', 'Abandono'], loc='upper right', bbox_to_anchor=(1.18, 1.02))\n",
    "plt.tight_layout()\n",
    "plt.savefig('./img/evasion_trabajador_dependiente.png', dpi=300, bbox_inches='tight')\n",
    "\n",
    "plt.show()"
   ]
  },
  {
   "cell_type": "code",
   "execution_count": 54,
   "metadata": {
    "id": "dEoWUZBafC38"
   },
   "outputs": [],
   "source": [
    "# Crear resumen de evasión por 'Método de Pago'\n",
    "resumen_pago = df_telecom.groupby(['Método de Pago', 'Evasión']).size().unstack(fill_value=0)\n",
    "resumen_pago.columns = ['Permanecen', 'Se evaden']\n",
    "resumen_pago['Total'] = resumen_pago.sum(axis=1)\n",
    "resumen_pago['% Evasión'] = resumen_pago['Se evaden'] / resumen_pago['Total'] * 100"
   ]
  },
  {
   "cell_type": "code",
   "execution_count": 55,
   "metadata": {
    "id": "nvLa8QkbTtTk"
   },
   "outputs": [],
   "source": [
    "# Ordenar por porcentaje de evasión\n",
    "resumen_ordenado = resumen_pago.sort_values('% Evasión', ascending=False).reset_index()"
   ]
  },
  {
   "cell_type": "code",
   "execution_count": 56,
   "metadata": {
    "colab": {
     "base_uri": "https://localhost:8080/",
     "height": 343
    },
    "executionInfo": {
     "elapsed": 1022,
     "status": "ok",
     "timestamp": 1750521230861,
     "user": {
      "displayName": "Elias Celis",
      "userId": "07132738901482165301"
     },
     "user_tz": 240
    },
    "id": "Fu9upTqzVIBp",
    "outputId": "eade50dd-74bb-4d56-baa9-3ec127bd6423"
   },
   "outputs": [
    {
     "data": {
      "image/png": "[encoded data removed]",
      "text/plain": [
       "<Figure size 800x400 with 1 Axes>"
      ]
     },
     "metadata": {},
     "output_type": "display_data"
    }
   ],
   "source": [
    "plt.figure(figsize=(8, 4))\n",
    "sns.barplot(data=resumen_ordenado, y='Método de Pago', x='% Evasión', hue='Método de Pago', palette='Reds_r')\n",
    "plt.title('Porcentaje de evasión según método de pago', fontsize=14)\n",
    "plt.xlabel('% de clientes que se evaden')\n",
    "plt.ylabel('')\n",
    "plt.xlim(0, 50)\n",
    "sns.despine(top=True, right=True)\n",
    "plt.grid(axis='x', linestyle='')\n",
    "for i, j in enumerate(resumen_ordenado['% Evasión']):\n",
    "    plt.text(j, i, f'{j:.1f}%', ha='left', va='center')\n",
    "plt.tight_layout()\n",
    "plt.savefig('./img/porcentaje_evasion_metodo_pago.png', dpi=300, bbox_inches='tight')\n",
    "plt.show()"
   ]
  },
  {
   "cell_type": "markdown",
   "metadata": {
    "id": "8yied7p9GCKS"
   },
   "source": [
    "## **Conteo de evasión por variables numéricas**"
   ]
  },
  {
   "cell_type": "markdown",
   "metadata": {
    "id": "Lt-TH2i-rZ88"
   },
   "source": [
    "Analizar variables numéricas como 'Cargo Total' en función de la evasión (Evasión) permite identificar:\n",
    "\n",
    "- Si los clientes con cargos totales bajos tienden a cancelar.\n",
    "- Qué perfiles económicos son más propensos a darse de baja."
   ]
  },
  {
   "cell_type": "markdown",
   "metadata": {
    "id": "Led-BRLQrjcs"
   },
   "source": [
    "### 📦 **Distribución de Permanencia según evasión**"
   ]
  },
  {
   "cell_type": "code",
   "execution_count": 57,
   "metadata": {
    "colab": {
     "base_uri": "https://localhost:8080/",
     "height": 601
    },
    "executionInfo": {
     "elapsed": 501,
     "status": "ok",
     "timestamp": 1750521231364,
     "user": {
      "displayName": "Elias Celis",
      "userId": "07132738901482165301"
     },
     "user_tz": 240
    },
    "id": "Ac8dD927rZTR",
    "outputId": "5e12ec86-eb59-4f8a-b1ab-dbfd0b272061"
   },
   "outputs": [
    {
     "data": {
      "image/png": "[encoded data removed]",
      "text/plain": [
       "<Figure size 600x600 with 1 Axes>"
      ]
     },
     "metadata": {},
     "output_type": "display_data"
    }
   ],
   "source": [
    "plt.figure(figsize=(6, 6))\n",
    "sns.boxplot(data=df_telecom, x='Evasión', y='Cargo Total', hue='Evasión', palette='coolwarm', legend=False)\n",
    "plt.title('Distribución del cargo total según evasión', fontsize=14)\n",
    "plt.xlabel('')\n",
    "plt.ylabel('Cargo total acumulado')\n",
    "plt.xticks([0, 1], ['Permanencia', 'Abandono'])\n",
    "sns.despine(top=True, right=True)\n",
    "plt.tight_layout()\n",
    "plt.savefig('./img/dist_cargo_total.png', dpi=300, bbox_inches='tight')\n",
    "plt.show()"
   ]
  },
  {
   "cell_type": "markdown",
   "metadata": {
    "id": "0RzebSHMGKW0"
   },
   "source": [
    "# **📄 Informe final**"
   ]
  },
  {
   "cell_type": "markdown",
   "metadata": {
    "id": "eG5cr7DNyCxQ"
   },
   "source": [
    "## 📘 **Introducción**"
   ]
  },
  {
   "cell_type": "markdown",
   "metadata": {
    "id": "eChWiGubyHfZ"
   },
   "source": [
    "Telecom X, una empresa del sector de telecomunicaciones, enfrenta un desafío crítico: una **alta tasa de cancelación de servicios por parte de sus clientes**, también conocida como evasión o churn. Este fenómeno tiene un impacto directo en los ingresos recurrentes de la compañía, eleva los costos de adquisición de nuevos usuarios y reduce la estabilidad financiera a largo plazo.\n",
    "\n",
    "Con el objetivo de **entender las causas del abandono de clientes**, se desarrolló un análisis exploratorio de datos utilizando Python y sus principales bibliotecas para ciencia de datos (pandas, numpy, matplotlib, seaborn). Este estudio busca responder preguntas como:\n",
    "\n",
    "- ¿Qué características comparten los clientes que se evaden?\n",
    "- ¿Existen patrones o comportamientos comunes en términos de facturación, permanencia o perfil del cliente?\n",
    "- ¿Qué segmentos presentan mayor riesgo de cancelación?\n",
    "\n",
    "Al identificar los factores asociados con la evasión, Telecom X podrá **diseñar estrategias proactivas de retención**, mejorar sus servicios y personalizar sus campañas de fidelización."
   ]
  },
  {
   "cell_type": "markdown",
   "metadata": {
    "id": "0xtIPBeey4N_"
   },
   "source": [
    "## 🧹 **Limpieza y Tratamiento de Datos**"
   ]
  },
  {
   "cell_type": "markdown",
   "metadata": {
    "id": "i_SExpury-js"
   },
   "source": [
    "Con el objetivo de preparar los datos para su análisis, se siguió un proceso de ETL (Extracción, Transformación y Carga) que incluyó la importación, exploración, normalización, limpieza y estandarización de los datos entregados por Telecom X.\n",
    "\n",
    "### 🔽 **Extracción de datos**\n",
    "\n",
    "Se importó el conjunto de datos en formato JSON desde una fuente en línea y se cargó en un DataFrame de pandas. Los datos contenían información estructurada en campos anidados tipo diccionario (JSON string) para atributos como datos del cliente, teléfono, servicios contratados y detalles de facturación."
   ]
  },
  {
   "cell_type": "markdown",
   "metadata": {
    "id": "5ZdA_BmyTsMv"
   },
   "source": [
    "**Primeros 5 registros del DataFrame**:\n",
    "\n",
    "|index|customerID|Churn|customer|phone|internet|account|\n",
    "|---|---|---|---|---|---|---|\n",
    "|0|0002-ORFBO|No|\\{'gender': 'Female', 'SeniorCitizen': 0, 'Partner': 'Yes', 'Dependents': 'Yes', 'tenure': 9\\}|\\{'PhoneService': 'Yes', 'MultipleLines': 'No'\\}|\\{'InternetService': 'DSL', 'OnlineSecurity': 'No', 'OnlineBackup': 'Yes', 'DeviceProtection': 'No', 'TechSupport': 'Yes', 'StreamingTV': 'Yes', 'StreamingMovies': 'No'\\}|\\{'Contract': 'One year', 'PaperlessBilling': 'Yes', 'PaymentMethod': 'Mailed check', 'Charges': \\{'Monthly': 65\\.6, 'Total': '593\\.3'\\}\\}|\n",
    "|1|0003-MKNFE|No|\\{'gender': 'Male', 'SeniorCitizen': 0, 'Partner': 'No', 'Dependents': 'No', 'tenure': 9\\}|\\{'PhoneService': 'Yes', 'MultipleLines': 'Yes'\\}|\\{'InternetService': 'DSL', 'OnlineSecurity': 'No', 'OnlineBackup': 'No', 'DeviceProtection': 'No', 'TechSupport': 'No', 'StreamingTV': 'No', 'StreamingMovies': 'Yes'\\}|\\{'Contract': 'Month-to-month', 'PaperlessBilling': 'No', 'PaymentMethod': 'Mailed check', 'Charges': \\{'Monthly': 59\\.9, 'Total': '542\\.4'\\}\\}|\n",
    "|2|0004-TLHLJ|Yes|\\{'gender': 'Male', 'SeniorCitizen': 0, 'Partner': 'No', 'Dependents': 'No', 'tenure': 4\\}|\\{'PhoneService': 'Yes', 'MultipleLines': 'No'\\}|\\{'InternetService': 'Fiber optic', 'OnlineSecurity': 'No', 'OnlineBackup': 'No', 'DeviceProtection': 'Yes', 'TechSupport': 'No', 'StreamingTV': 'No', 'StreamingMovies': 'No'\\}|\\{'Contract': 'Month-to-month', 'PaperlessBilling': 'Yes', 'PaymentMethod': 'Electronic check', 'Charges': \\{'Monthly': 73\\.9, 'Total': '280\\.85'\\}\\}|\n",
    "|3|0011-IGKFF|Yes|\\{'gender': 'Male', 'SeniorCitizen': 1, 'Partner': 'Yes', 'Dependents': 'No', 'tenure': 13\\}|\\{'PhoneService': 'Yes', 'MultipleLines': 'No'\\}|\\{'InternetService': 'Fiber optic', 'OnlineSecurity': 'No', 'OnlineBackup': 'Yes', 'DeviceProtection': 'Yes', 'TechSupport': 'No', 'StreamingTV': 'Yes', 'StreamingMovies': 'Yes'\\}|\\{'Contract': 'Month-to-month', 'PaperlessBilling': 'Yes', 'PaymentMethod': 'Electronic check', 'Charges': \\{'Monthly': 98\\.0, 'Total': '1237\\.85'\\}\\}|\n",
    "|4|0013-EXCHZ|Yes|\\{'gender': 'Female', 'SeniorCitizen': 1, 'Partner': 'Yes', 'Dependents': 'No', 'tenure': 3\\}|\\{'PhoneService': 'Yes', 'MultipleLines': 'No'\\}|\\{'InternetService': 'Fiber optic', 'OnlineSecurity': 'No', 'OnlineBackup': 'No', 'DeviceProtection': 'No', 'TechSupport': 'Yes', 'StreamingTV': 'Yes', 'StreamingMovies': 'No'\\}|\\{'Contract': 'Month-to-month', 'PaperlessBilling': 'Yes', 'PaymentMethod': 'Mailed check', 'Charges': \\{'Monthly': 83\\.9, 'Total': '267\\.4'\\}\\}|"
   ]
  },
  {
   "cell_type": "markdown",
   "metadata": {
    "id": "EFWG977rzURb"
   },
   "source": [
    "### 🔄 **Transformación inicial**\n",
    "\n",
    "Se identificó que varias columnas (`'customer', 'phone', 'internet', 'account'`) almacenaban información anidada. Estas columnas fueron normalizadas utilizando `pd.json_normalize()` dentro de un bucle, lo que permitió descomponerlas en múltiples columnas con datos atómicos.\n",
    "\n",
    "Luego, se eliminaron las columnas originales anidadas y se conservaron únicamente las columnas desglosadas."
   ]
  },
  {
   "cell_type": "markdown",
   "metadata": {
    "id": "O5OUgRb3zXho"
   },
   "source": [
    "### ✅ **Verificación y corrección de inconsistencias**\n",
    "\n",
    "Se realizó una auditoría de calidad de datos que reveló:\n",
    "\n",
    "- La columna `'Charges.Total'` tenía valores vacíos y estaba en formato object, por lo que se convirtió a `float64` reemplazando valores nulos por 0.\n",
    "- La columna `'SeniorCitizen'` se transformó correctamente a tipo booleano (True / False).\n",
    "- Se descartaron columnas irrelevantes como `'customerID'`.\n",
    "\n",
    "Además, se agregó una nueva variable `'Cargo Diario'`, estimada dividiendo la facturación mensual entre 30 días, para proporcionar un indicador más granular del comportamiento de pago."
   ]
  },
  {
   "cell_type": "markdown",
   "metadata": {
    "id": "C18F9IMVzKp8"
   },
   "source": [
    "### 🧪 **Estandarización de valores**\n",
    "\n",
    "Varias columnas contenían respuestas tipo \"Yes\" / \"No\", las cuales se transformaron a valores booleanos (True / False). Esto facilitó el análisis numérico y la construcción de visualizaciones más precisas.\n",
    "\n",
    "También se tradujeron al español los nombres de las columnas y los valores categóricos para mejorar la comprensión del análisis y facilitar su interpretación por parte del equipo de negocio."
   ]
  },
  {
   "cell_type": "markdown",
   "metadata": {
    "id": "W2rCyE3DznmC"
   },
   "source": [
    "### 🧾 **Resultado final**\n",
    "\n",
    "El *DataFrame* final contiene **7267 registros** con columnas relevantes y limpias, listas para ser utilizadas en el análisis exploratorio. Las variables clave como `'Evasión'`, `'Permanencia'`, `'Cargo Total'`, `'Tipo Contrato'` y `'Método de Pago'` fueron validadas, transformadas y estandarizadas correctamente.\n",
    "\n",
    "Además, el conjunto de datos fue exportado como archivo `.csv` bajo el nombre `Datos_TelecomX.csv`, listo para su uso en procesos posteriores.\n",
    "\n"
   ]
  },
  {
   "cell_type": "markdown",
   "metadata": {
    "id": "oWHydFMnT9oI"
   },
   "source": [
    "**Primeros 5 registros del DataFrame Final**:\n",
    "\n",
    "|index|Evasión|Género|Adulto Mayor|Tiene Pareja|Dependiente|Permanencia|Servicio Telefónico|Líneas Múltiples|Servicio Internet|Seguridad en Línea|Respaldo en Linea|Protección Dispositivo|Soporte Técnico|Streaming de TV|Streaming de Películas|Tipo Contrato|Facturación Electronica|Método de Pago|Cargo Mensual|Cargo Total|\n",
    "|---|---|---|---|---|---|---|---|---|---|---|---|---|---|---|---|---|---|---|---|---|\n",
    "|0|false|Femenino|false|true|true|9|true|false|DSL|false|true|false|true|true|false|Un año|true|Cheque por correo|65\\.6|593\\.3|\n",
    "|1|false|Masculino|false|false|false|9|true|true|DSL|false|false|false|false|false|true|Mes-a-Mes|false|Cheque por correo|59\\.9|542\\.4|\n",
    "|2|true|Masculino|false|false|false|4|true|false|Fibra óptica|false|false|true|false|false|false|Mes-a-Mes|true|Cheque electrónico|73\\.9|280\\.85|\n",
    "|3|true|Masculino|true|true|false|13|true|false|Fibra óptica|false|true|true|false|true|true|Mes-a-Mes|true|Cheque electrónico|98\\.0|1237\\.85|\n",
    "|4|true|Femenino|true|true|false|3|true|false|Fibra óptica|false|false|false|true|true|false|Mes-a-Mes|true|Cheque por correo|83\\.9|267\\.4|"
   ]
  },
  {
   "cell_type": "markdown",
   "metadata": {
    "id": "VHmyPG4C16QQ"
   },
   "source": [
    "## 📊 **Análisis Exploratorio de Datos (EDA)**"
   ]
  },
  {
   "cell_type": "markdown",
   "metadata": {
    "id": "582Sgu-I19tf"
   },
   "source": [
    "Con el conjunto de datos limpio y estandarizado, se procedió a realizar un análisis exploratorio para comprender mejor los patrones de comportamiento de los clientes, especialmente en relación con la evasión del servicio. Se utilizaron visualizaciones para detectar tendencias, relaciones y características clave asociadas con los clientes que abandonan Telecom X."
   ]
  },
  {
   "cell_type": "markdown",
   "metadata": {
    "id": "rdcGQ6iX2AwH"
   },
   "source": [
    "### 📉 **Distribución general de evasión**\n",
    "\n",
    "Se analizaron las proporciones generales de clientes que permanecen y los que se evaden."
   ]
  },
  {
   "cell_type": "markdown",
   "metadata": {
    "id": "cKuJZXUGMlT8"
   },
   "source": [
    "- **Gráfico de barras**: muestra el número absoluto de clientes en cada categoría (Permanece vs Abandona).\n",
    "\n",
    "<img src=\"./img/dist_evasion.png\" alt=\"Descripción de la imagen\" width=\"400\">"
   ]
  },
  {
   "cell_type": "markdown",
   "metadata": {
    "id": "d60bPLd5Mpeu"
   },
   "source": [
    "- **Gráfico de torta**: permite observar la proporción relativa de evasión.\n",
    "\n",
    "<img src=\"./img/proporcion_evasion.png\" alt=\"Descripción de la imagen\" width=\"400\">"
   ]
  },
  {
   "cell_type": "markdown",
   "metadata": {
    "id": "53o1ZmARMraq"
   },
   "source": [
    "**Resultado**: Aproximadamente 25.7% de los clientes han abandonado el servicio, mientras que 74.3% se mantienen activos."
   ]
  },
  {
   "cell_type": "markdown",
   "metadata": {
    "id": "gikvCTsoMv6X"
   },
   "source": [
    "### 📦 **Evasión según permanencia**\n",
    "\n",
    "Se utilizó un boxplot para evaluar la relación entre el tiempo de permanencia (en meses) y la evasión.\n",
    "\n",
    "<img src=\"./img/dist_permanencia.png\" alt=\"Descripción de la imagen\" width=\"500\">"
   ]
  },
  {
   "cell_type": "markdown",
   "metadata": {
    "id": "AI1XVJlsNFRs"
   },
   "source": [
    "**Se observó que**:\n",
    "\n",
    "- Los clientes que abandonan tienden a tener menor tiempo de permanencia.\n",
    "- Los clientes con contratos más prolongados tienden a mantenerse, lo que sugiere una correlación entre fidelidad y permanencia."
   ]
  },
  {
   "cell_type": "markdown",
   "metadata": {
    "id": "vBNn7gHeOf04"
   },
   "source": [
    "### 🧑‍🤝‍🧑 **Evasión según variables categóricas**\n",
    "\n",
    "Se analizaron diversas variables categóricas para identificar patrones en la evasión. Se utilizaron gráficos de barras agrupadas para comparar las tasas de evasión en distintas categorías:\n",
    "\n",
    "**Género**: No se evidencian diferencias significativas entre hombres y mujeres.\n",
    "\n",
    "<img src=\"./img/evasion_género.png\" alt=\"Descripción de la imagen\" width=\"700\">\n",
    "\n",
    "**Tipo de contrato**: Los clientes con contrato mensual (Mes-a-Mes) presentan una tasa mucho mayor de evasión, mientras que los contratos de uno o dos años se asocian con una mayor retención.\n",
    "\n",
    "<img src=\"./img/evasion_tipo contrato.png\" alt=\"Descripción de la imagen\" width=\"700\">\n",
    "\n",
    "**Dependencia laboral**: Los clientes independientes (sin dependientes) tienen una mayor probabilidad de evasión.\n",
    "\n",
    "<img src=\"./img/evasion_trabajador_dependiente.png\" alt=\"Descripción de la imagen\" width=\"700\">"
   ]
  },
  {
   "cell_type": "markdown",
   "metadata": {
    "id": "fynWoYZjQQEx"
   },
   "source": [
    "### 💳 **Evasión según método de pago**\n",
    "\n",
    "Dado que hay varias categorías de métodos de pago, se utilizó un gráfico de barras horizontales para observar mejor la variación:\n",
    "\n",
    "<img src=\"./img/porcentaje_evasion_metodo_pago.png\" alt=\"Descripción de la imagen\" width=\"800\">\n",
    "\n",
    "- Los clientes que utilizan cheque electrónico tienen la mayor tasa de evasión.\n",
    "- En contraste, quienes usan tarjeta de crédito automática presentan una menor probabilidad de abandonar el servicio.\n",
    "\n"
   ]
  },
  {
   "cell_type": "markdown",
   "metadata": {
    "id": "5-6kmkx1Qd1m"
   },
   "source": [
    "Esta diferencia sugiere que los métodos de pago automáticos podrían estar relacionados con una mayor fidelidad."
   ]
  },
  {
   "cell_type": "markdown",
   "metadata": {
    "id": "MQTsuXH8Q-tq"
   },
   "source": [
    "### 💵 **Evasión según variables numéricas**\n",
    "\n",
    "Finalmente, se exploró la variable Cargo Total mediante un boxplot:\n",
    "\n",
    "<img src=\"./img/dist_cargo_total.png\" alt=\"Descripción de la imagen\" width=\"600\">"
   ]
  },
  {
   "cell_type": "markdown",
   "metadata": {
    "id": "NnwMLnSbRCTA"
   },
   "source": [
    "Los clientes que abandonan el servicio tienen, en general, menores cargos acumulados, lo que concuerda con la observación previa de menor tiempo de permanencia."
   ]
  },
  {
   "cell_type": "markdown",
   "metadata": {
    "id": "J6UkX3GpRop6"
   },
   "source": [
    "## ✅ Conclusiones e Insights"
   ]
  },
  {
   "cell_type": "markdown",
   "metadata": {
    "id": "ERb1E1b5RtGb"
   },
   "source": [
    "El análisis realizado sobre el comportamiento de los clientes de Telecom X reveló hallazgos clave que explican parte del problema de evasión. A continuación, se destacan los principales:\n",
    "\n",
    "1. **Alta tasa de evasión**: Aproximadamente **1 de cada 4 clientes** abandona el servicio, lo que representa un desafío significativo para la empresa.\n",
    "1. **Menor permanencia, mayor evasión**: Los clientes que cancelan tienden a haber estado suscritos por menos tiempo. Existe una clara correlación entre **baja permanencia y alta probabilidad de evasión**.\n",
    "1. **Contratos mensuales están más expuestos**: Los clientes con contratos de tipo \"**Mes-a-Mes**\" presentan una **tasa de evasión sustancialmente mayor**, comparado con aquellos con contratos anuales o bianuales.\n",
    "1. **Métodos de pago asociados a abandono**: Se identificó que clientes que utilizan **cheque electrónico o por correo** tienen una tasa más alta de evasión. En contraste, los métodos automáticos (tarjeta o transferencia) están asociados con mayor retención.\n",
    "1. **Perfil demográfico y servicios**: No se encontraron diferencias notables en evasión por género, pero sí por **situación familiar**: quienes no **tienen pareja o dependientes** tienden a cancelar con mayor frecuencia. También se observó que ciertos servicios opcionales como **soporte técnico** o **respaldo en línea** pueden influir positivamente en la retención."
   ]
  },
  {
   "cell_type": "markdown",
   "metadata": {
    "id": "N2dh4QbISkmb"
   },
   "source": [
    "## 🎯 **Recomendaciones Estratégicas**"
   ]
  },
  {
   "cell_type": "markdown",
   "metadata": {
    "id": "5yrWWve7SoRt"
   },
   "source": [
    "Basado en los patrones detectados en los datos, se proponen las siguientes acciones para reducir la evasión de clientes:"
   ]
  },
  {
   "cell_type": "markdown",
   "metadata": {
    "id": "Na-dPeZlSo2u"
   },
   "source": [
    "1. **Fomentar contratos de largo plazo**\n",
    "    - Implementar incentivos o beneficios especiales para quienes opten por contratos anuales o bianuales, ya que estos están claramente asociados con menor evasión.\n",
    "1. **Promover métodos de pago automáticos**\n",
    "    - Otorgar descuentos o recompensas a clientes que se cambien a **tarjeta de crédito** o **transferencia automática**.\n",
    "    - Simplificar el proceso de migración de método de pago.\n",
    "1. **Detectar clientes en riesgo temprano**\n",
    "    - Crear alertas para clientes con menos de 6 meses de permanencia o con cargos bajos acumulados, ya que estos perfiles son más propensos a abandonar.\n",
    "1. **Optimizar servicios complementarios**\n",
    "    - Aumentar la visibilidad y valor percibido de servicios como **respaldo en línea**, **soporte técnico** y **protección de dispositivos**, que se relacionan con mayor retención.\n",
    "1. **Segmentar y personalizar la comunicación**\n",
    "    - Usar los hallazgos del perfil de evasión para diseñar campañas dirigidas según tipo de cliente, contrato y método de pago.\n",
    "1. **Explorar encuestas de salida**\n",
    "    - Implementar encuestas automatizadas a clientes que cancelan para identificar razones específicas y validar los patrones observados en los datos."
   ]
  },
  {
   "cell_type": "markdown",
   "metadata": {
    "id": "fyZL8bl4GY64"
   },
   "source": [
    "# 📌 **¡Extra! Análisis de correlación entre variables**"
   ]
  },
  {
   "cell_type": "markdown",
   "metadata": {
    "id": "sBMywSYTGeCg"
   },
   "source": [
    "## 📊 **1. Matriz de correlación**"
   ]
  },
  {
   "cell_type": "markdown",
   "metadata": {
    "id": "z6qmJCxxV6yg"
   },
   "source": [
    "Calculamos la matriz de correlación de las variables numéricas y booleanas convertidas a `int`, ya que `pandas.DataFrame.corr()` funciona únicamente con valores numéricos."
   ]
  },
  {
   "cell_type": "code",
   "execution_count": 58,
   "metadata": {
    "id": "49jKPNkEGgg_"
   },
   "outputs": [],
   "source": [
    "# Convertir columnas booleanas a int para calcular la correlación\n",
    "df_corr = df_telecom.copy()\n",
    "df_corr = df_corr.astype({col: int for col in df_corr.select_dtypes('bool').columns})"
   ]
  },
  {
   "cell_type": "code",
   "execution_count": 59,
   "metadata": {
    "id": "e6Q3ScQDWGRb"
   },
   "outputs": [],
   "source": [
    "# Calcular la matriz de correlación\n",
    "correlaciones = df_corr.corr(numeric_only=True)"
   ]
  },
  {
   "cell_type": "code",
   "execution_count": 60,
   "metadata": {
    "colab": {
     "base_uri": "https://localhost:8080/",
     "height": 564
    },
    "executionInfo": {
     "elapsed": 1260,
     "status": "ok",
     "timestamp": 1750521232631,
     "user": {
      "displayName": "Elias Celis",
      "userId": "07132738901482165301"
     },
     "user_tz": 240
    },
    "id": "AuT1j3ZVWJZa",
    "outputId": "b53f6bae-2cde-43cf-8acb-360af6b94e14"
   },
   "outputs": [
    {
     "data": {
      "image/png": "[encoded data removed]",
      "text/plain": [
       "<Figure size 1000x800 with 2 Axes>"
      ]
     },
     "metadata": {},
     "output_type": "display_data"
    }
   ],
   "source": [
    "# Visualizar correlación con 'Evasión'\n",
    "import matplotlib.pyplot as plt\n",
    "import seaborn as sns\n",
    "\n",
    "plt.figure(figsize=(10, 8))\n",
    "sns.heatmap(correlaciones[['Evasión']].sort_values(by='Evasión', ascending=False),\n",
    "            annot=True, cmap='coolwarm', center=0, linewidths=0.5)\n",
    "plt.title('Correlación de variables con la Evasión', fontsize=14)\n",
    "plt.savefig('./img/correlacion_evasion.png', dpi=300, bbox_inches='tight')\n",
    "plt.tight_layout()\n",
    "plt.show()"
   ]
  },
  {
   "cell_type": "markdown",
   "metadata": {
    "id": "HzhiXvAiWPmO"
   },
   "source": [
    "## 🔍 **Insights observados**\n",
    "\n",
    "- `Tipo Contrato (Mes-a-Mes)` y `Método de Pago (Cheque electrónico)` tienen fuerte correlación positiva con la evasión.\n",
    "- `Permanencia`, `Cargo Total` y `Cargo Diario` muestran correlación negativa, indicando que clientes con más tiempo o mayor inversión suelen permanecer más.\n",
    "- Servicios como `Soporte Técnico`, `Protección Dispositivo` y `Seguridad en Línea` tienen ligera correlación negativa, sugiriendo una leve relación entre acceso a estos servicios y menor evasión."
   ]
  },
  {
   "cell_type": "markdown",
   "metadata": {
    "id": "Bc3gEMGTWmsK"
   },
   "source": [
    "## 🔢 **2. Relación entre número de servicios contratados y evasión**"
   ]
  },
  {
   "cell_type": "markdown",
   "metadata": {
    "id": "bkcgyzEsWpeL"
   },
   "source": [
    "Calculamos una nueva variable: el número de servicios digitales contratados por cliente."
   ]
  },
  {
   "cell_type": "code",
   "execution_count": 61,
   "metadata": {
    "id": "XW51sD7WWrcC"
   },
   "outputs": [],
   "source": [
    "# Lista de servicios booleanos\n",
    "servicios = [\n",
    "    'Servicio Telefónico', 'Líneas Múltiples', 'Seguridad en Línea',\n",
    "    'Respaldo en Linea', 'Protección Dispositivo', 'Soporte Técnico',\n",
    "    'Streaming de TV', 'Streaming de Películas'\n",
    "]"
   ]
  },
  {
   "cell_type": "code",
   "execution_count": 62,
   "metadata": {
    "id": "WLS_LxV8WuGx"
   },
   "outputs": [],
   "source": [
    "# Crear columna con el conteo de servicios contratados\n",
    "df_telecom['Servicios Contratados'] = df_telecom[servicios].sum(axis=1)"
   ]
  },
  {
   "cell_type": "code",
   "execution_count": 63,
   "metadata": {
    "colab": {
     "base_uri": "https://localhost:8080/",
     "height": 401
    },
    "executionInfo": {
     "elapsed": 681,
     "status": "ok",
     "timestamp": 1750521433629,
     "user": {
      "displayName": "Elias Celis",
      "userId": "07132738901482165301"
     },
     "user_tz": 240
    },
    "id": "yR5UkjOwWwGy",
    "outputId": "58aa1139-3ba0-400b-b757-a3299152e8fa"
   },
   "outputs": [
    {
     "data": {
      "image/png": "[encoded data removed]",
      "text/plain": [
       "<Figure size 600x400 with 1 Axes>"
      ]
     },
     "metadata": {},
     "output_type": "display_data"
    }
   ],
   "source": [
    "# Boxplot de servicios vs evasión\n",
    "plt.figure(figsize=(6, 4))\n",
    "sns.boxplot(data=df_telecom, x='Evasión', y='Servicios Contratados', hue='Evasión', palette='Set2', legend=False)\n",
    "plt.title('Servicios contratados según estado de evasión', fontsize=14)\n",
    "plt.xlabel('')\n",
    "plt.ylabel('Cantidad de servicios contratados')\n",
    "plt.xticks([0, 1], ['Permanencia', 'Abandono'])\n",
    "sns.despine()\n",
    "plt.savefig('./img/servicios_evasion.png', dpi=300, bbox_inches='tight')\n",
    "plt.tight_layout()\n",
    "plt.show()"
   ]
  },
  {
   "cell_type": "markdown",
   "metadata": {
    "id": "5TTezR_WW6tB"
   },
   "source": [
    "## ✅ **Conclusión del análisis de correlación**"
   ]
  },
  {
   "cell_type": "markdown",
   "metadata": {
    "id": "GewEdXK8W-Gd"
   },
   "source": [
    "- Cuantos menos servicios tiene un cliente, **es más probable que abandone la compañía**.\n",
    "- Las **cuentas diarias más bajas** también muestran mayor relación con evasión.\n",
    "- Este tipo de análisis es especialmente útil como **base para modelos de machine learning**, ya que permite seleccionar las variables más influyentes en la predicción de abandono."
   ]
  }
 ],
 "metadata": {
  "colab": {
   "authorship_tag": "ABX9TyNcQGHT0P7kd7BR0Mmjd0Gv",
   "provenance": []
  },
  "kernelspec": {
   "display_name": ".venv",
   "language": "python",
   "name": "python3"
  },
  "language_info": {
   "codemirror_mode": {
    "name": "ipython",
    "version": 3
   },
   "file_extension": ".py",
   "mimetype": "text/x-python",
   "name": "python",
   "nbconvert_exporter": "python",
   "pygments_lexer": "ipython3",
   "version": "3.13.5"
  }
 },
 "nbformat": 4,
 "nbformat_minor": 0
}
