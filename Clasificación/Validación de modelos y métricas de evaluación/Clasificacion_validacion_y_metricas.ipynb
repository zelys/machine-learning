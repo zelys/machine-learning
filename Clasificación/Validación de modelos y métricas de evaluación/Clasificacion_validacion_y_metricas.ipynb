{
  "cells": [
    {
      "cell_type": "markdown",
      "metadata": {
        "id": "MCqTDybk4ShK"
      },
      "source": [
        "# <font color='dark'>**Clasificación: Validación de modelos y métricas de evaluación**</h1>"
      ]
    },
    {
      "cell_type": "markdown",
      "metadata": {
        "id": "WscU3KG7a9No"
      },
      "source": [
        "### Proyecto\n",
        "\n",
        "Una empresa de financiamiento de automóviles está atravesando una situación complicada, con una alta demanda para una flota reducida de vehículos y un alto número de morosos, lo que está generando grandes pérdidas para la empresa.\n",
        "\n",
        "Nosotros fuimos contratados para buscar mejoras en la identificación de morosos. El análisis de los clientes actualmente se realiza de forma manual, cliente por cliente, lo que consume mucho tiempo y, aun así, la detección de morosos es muy imprecisa.\n",
        "\n",
        "Nuestra tarea es utilizar los datos proporcionados por la empresa para **clasificar** a los clientes en cumplidores y morosos."
      ]
    },
    {
      "cell_type": "markdown",
      "metadata": {
        "id": "WgS8iF51Csrn"
      },
      "source": [
        "## <font color='dark'>**Clasificando los datos**</h1>"
      ]
    },
    {
      "cell_type": "markdown",
      "metadata": {
        "id": "6lExmBuKn-xe"
      },
      "source": [
        "### Creando un modelo inicial"
      ]
    },
    {
      "cell_type": "code",
      "execution_count": 4,
      "metadata": {
        "id": "ANJDC3LqP43q"
      },
      "outputs": [],
      "source": [
        "import pandas as pd"
      ]
    },
    {
      "cell_type": "code",
      "execution_count": 5,
      "metadata": {
        "id": "UPddns6dP4kt"
      },
      "outputs": [],
      "source": [
        "datos = pd.read_csv('../data/prestacar.csv')"
      ]
    },
    {
      "cell_type": "code",
      "execution_count": 6,
      "metadata": {
        "id": "UVIX6QLpP4iC"
      },
      "outputs": [
        {
          "data": {
            "text/html": [
              "<div>\n",
              "<style scoped>\n",
              "    .dataframe tbody tr th:only-of-type {\n",
              "        vertical-align: middle;\n",
              "    }\n",
              "\n",
              "    .dataframe tbody tr th {\n",
              "        vertical-align: top;\n",
              "    }\n",
              "\n",
              "    .dataframe thead th {\n",
              "        text-align: right;\n",
              "    }\n",
              "</style>\n",
              "<table border=\"1\" class=\"dataframe\">\n",
              "  <thead>\n",
              "    <tr style=\"text-align: right;\">\n",
              "      <th></th>\n",
              "      <th>ingresos_cliente</th>\n",
              "      <th>anualidad_prestamo</th>\n",
              "      <th>años_casa_propia</th>\n",
              "      <th>telefono_trab</th>\n",
              "      <th>evaluacion_ciudad</th>\n",
              "      <th>score_1</th>\n",
              "      <th>score_2</th>\n",
              "      <th>score_3</th>\n",
              "      <th>score_social</th>\n",
              "      <th>cambio_telefono</th>\n",
              "      <th>moroso</th>\n",
              "    </tr>\n",
              "  </thead>\n",
              "  <tbody>\n",
              "    <tr>\n",
              "      <th>0</th>\n",
              "      <td>12600.000000</td>\n",
              "      <td>3569.400000</td>\n",
              "      <td>12.157324</td>\n",
              "      <td>1</td>\n",
              "      <td>2.0</td>\n",
              "      <td>0.057153</td>\n",
              "      <td>0.527227</td>\n",
              "      <td>0.513171</td>\n",
              "      <td>0.117428</td>\n",
              "      <td>2545.000000</td>\n",
              "      <td>0</td>\n",
              "    </tr>\n",
              "    <tr>\n",
              "      <th>1</th>\n",
              "      <td>9000.000000</td>\n",
              "      <td>2722.188351</td>\n",
              "      <td>7.000000</td>\n",
              "      <td>0</td>\n",
              "      <td>2.0</td>\n",
              "      <td>0.657661</td>\n",
              "      <td>0.285898</td>\n",
              "      <td>0.614414</td>\n",
              "      <td>0.222700</td>\n",
              "      <td>495.000000</td>\n",
              "      <td>0</td>\n",
              "    </tr>\n",
              "    <tr>\n",
              "      <th>2</th>\n",
              "      <td>15750.000000</td>\n",
              "      <td>4477.500000</td>\n",
              "      <td>12.000000</td>\n",
              "      <td>0</td>\n",
              "      <td>2.0</td>\n",
              "      <td>0.501213</td>\n",
              "      <td>0.695423</td>\n",
              "      <td>0.513171</td>\n",
              "      <td>0.117428</td>\n",
              "      <td>1212.000000</td>\n",
              "      <td>0</td>\n",
              "    </tr>\n",
              "    <tr>\n",
              "      <th>3</th>\n",
              "      <td>9000.000000</td>\n",
              "      <td>1309.050000</td>\n",
              "      <td>12.157324</td>\n",
              "      <td>0</td>\n",
              "      <td>3.0</td>\n",
              "      <td>0.501213</td>\n",
              "      <td>0.155973</td>\n",
              "      <td>0.513171</td>\n",
              "      <td>0.117428</td>\n",
              "      <td>515.000000</td>\n",
              "      <td>0</td>\n",
              "    </tr>\n",
              "    <tr>\n",
              "      <th>4</th>\n",
              "      <td>7650.000000</td>\n",
              "      <td>1125.000000</td>\n",
              "      <td>12.157324</td>\n",
              "      <td>0</td>\n",
              "      <td>2.0</td>\n",
              "      <td>0.294328</td>\n",
              "      <td>0.152076</td>\n",
              "      <td>0.513171</td>\n",
              "      <td>0.117428</td>\n",
              "      <td>162.000000</td>\n",
              "      <td>0</td>\n",
              "    </tr>\n",
              "    <tr>\n",
              "      <th>...</th>\n",
              "      <td>...</td>\n",
              "      <td>...</td>\n",
              "      <td>...</td>\n",
              "      <td>...</td>\n",
              "      <td>...</td>\n",
              "      <td>...</td>\n",
              "      <td>...</td>\n",
              "      <td>...</td>\n",
              "      <td>...</td>\n",
              "      <td>...</td>\n",
              "      <td>...</td>\n",
              "    </tr>\n",
              "    <tr>\n",
              "      <th>54020</th>\n",
              "      <td>16855.246324</td>\n",
              "      <td>675.000000</td>\n",
              "      <td>12.157324</td>\n",
              "      <td>1</td>\n",
              "      <td>2.0</td>\n",
              "      <td>0.501213</td>\n",
              "      <td>0.180635</td>\n",
              "      <td>0.513171</td>\n",
              "      <td>0.082500</td>\n",
              "      <td>0.000000</td>\n",
              "      <td>1</td>\n",
              "    </tr>\n",
              "    <tr>\n",
              "      <th>54021</th>\n",
              "      <td>11250.000000</td>\n",
              "      <td>675.000000</td>\n",
              "      <td>14.000000</td>\n",
              "      <td>0</td>\n",
              "      <td>3.0</td>\n",
              "      <td>0.409620</td>\n",
              "      <td>0.606002</td>\n",
              "      <td>0.513171</td>\n",
              "      <td>0.117428</td>\n",
              "      <td>466.000000</td>\n",
              "      <td>1</td>\n",
              "    </tr>\n",
              "    <tr>\n",
              "      <th>54022</th>\n",
              "      <td>13500.000000</td>\n",
              "      <td>900.000000</td>\n",
              "      <td>64.000000</td>\n",
              "      <td>0</td>\n",
              "      <td>2.0</td>\n",
              "      <td>0.162632</td>\n",
              "      <td>0.525412</td>\n",
              "      <td>0.513171</td>\n",
              "      <td>0.117428</td>\n",
              "      <td>962.106056</td>\n",
              "      <td>1</td>\n",
              "    </tr>\n",
              "    <tr>\n",
              "      <th>54023</th>\n",
              "      <td>11250.000000</td>\n",
              "      <td>2371.500000</td>\n",
              "      <td>12.157324</td>\n",
              "      <td>0</td>\n",
              "      <td>3.0</td>\n",
              "      <td>0.501213</td>\n",
              "      <td>0.664027</td>\n",
              "      <td>0.513171</td>\n",
              "      <td>0.117428</td>\n",
              "      <td>482.000000</td>\n",
              "      <td>1</td>\n",
              "    </tr>\n",
              "    <tr>\n",
              "      <th>54024</th>\n",
              "      <td>21060.000000</td>\n",
              "      <td>2459.250000</td>\n",
              "      <td>12.157324</td>\n",
              "      <td>0</td>\n",
              "      <td>2.0</td>\n",
              "      <td>0.339656</td>\n",
              "      <td>0.656468</td>\n",
              "      <td>0.513171</td>\n",
              "      <td>0.117428</td>\n",
              "      <td>0.000000</td>\n",
              "      <td>1</td>\n",
              "    </tr>\n",
              "  </tbody>\n",
              "</table>\n",
              "<p>54025 rows × 11 columns</p>\n",
              "</div>"
            ],
            "text/plain": [
              "       ingresos_cliente  anualidad_prestamo  años_casa_propia  telefono_trab  \\\n",
              "0          12600.000000         3569.400000         12.157324              1   \n",
              "1           9000.000000         2722.188351          7.000000              0   \n",
              "2          15750.000000         4477.500000         12.000000              0   \n",
              "3           9000.000000         1309.050000         12.157324              0   \n",
              "4           7650.000000         1125.000000         12.157324              0   \n",
              "...                 ...                 ...               ...            ...   \n",
              "54020      16855.246324          675.000000         12.157324              1   \n",
              "54021      11250.000000          675.000000         14.000000              0   \n",
              "54022      13500.000000          900.000000         64.000000              0   \n",
              "54023      11250.000000         2371.500000         12.157324              0   \n",
              "54024      21060.000000         2459.250000         12.157324              0   \n",
              "\n",
              "       evaluacion_ciudad   score_1   score_2   score_3  score_social  \\\n",
              "0                    2.0  0.057153  0.527227  0.513171      0.117428   \n",
              "1                    2.0  0.657661  0.285898  0.614414      0.222700   \n",
              "2                    2.0  0.501213  0.695423  0.513171      0.117428   \n",
              "3                    3.0  0.501213  0.155973  0.513171      0.117428   \n",
              "4                    2.0  0.294328  0.152076  0.513171      0.117428   \n",
              "...                  ...       ...       ...       ...           ...   \n",
              "54020                2.0  0.501213  0.180635  0.513171      0.082500   \n",
              "54021                3.0  0.409620  0.606002  0.513171      0.117428   \n",
              "54022                2.0  0.162632  0.525412  0.513171      0.117428   \n",
              "54023                3.0  0.501213  0.664027  0.513171      0.117428   \n",
              "54024                2.0  0.339656  0.656468  0.513171      0.117428   \n",
              "\n",
              "       cambio_telefono  moroso  \n",
              "0          2545.000000       0  \n",
              "1           495.000000       0  \n",
              "2          1212.000000       0  \n",
              "3           515.000000       0  \n",
              "4           162.000000       0  \n",
              "...                ...     ...  \n",
              "54020         0.000000       1  \n",
              "54021       466.000000       1  \n",
              "54022       962.106056       1  \n",
              "54023       482.000000       1  \n",
              "54024         0.000000       1  \n",
              "\n",
              "[54025 rows x 11 columns]"
            ]
          },
          "execution_count": 6,
          "metadata": {},
          "output_type": "execute_result"
        }
      ],
      "source": [
        "datos"
      ]
    },
    {
      "cell_type": "markdown",
      "metadata": {},
      "source": [
        "El siguiente paso es segmentar nuestro conjunto de datos en nuestra base para poder obtener todos los atributos explicativos de mi variable de respuesta."
      ]
    },
    {
      "cell_type": "markdown",
      "metadata": {},
      "source": [
        "Quitamos la columna `moroso` y debemos especificar el eje `axis=1`. Y `y` va a ser únicamnte la columna `moroso`. Entonces, de esta manera ya tengo en `X` todas las variables explicativas, o sea, desde el ingreso del cliente hasta el cambio de teléfono, y en `Y` únicamente tengo si es deudor o no."
      ]
    },
    {
      "cell_type": "code",
      "execution_count": 7,
      "metadata": {},
      "outputs": [],
      "source": [
        "X = datos.drop(columns='moroso', axis=1)\n",
        "y = datos.moroso"
      ]
    },
    {
      "cell_type": "code",
      "execution_count": 8,
      "metadata": {},
      "outputs": [
        {
          "data": {
            "text/plain": [
              "1.0"
            ]
          },
          "execution_count": 8,
          "metadata": {},
          "output_type": "execute_result"
        }
      ],
      "source": [
        "from sklearn.tree import DecisionTreeClassifier\n",
        "\n",
        "modelo = DecisionTreeClassifier()\n",
        "modelo.fit(X, y)\n",
        "modelo.score(X, y)"
      ]
    },
    {
      "cell_type": "code",
      "execution_count": 9,
      "metadata": {},
      "outputs": [
        {
          "name": "stdout",
          "output_type": "stream",
          "text": [
            "La exactitud del modelo es: 1.0\n"
          ]
        }
      ],
      "source": [
        "print(f'La exactitud del modelo es: {modelo.score(X, y)}')"
      ]
    },
    {
      "cell_type": "markdown",
      "metadata": {},
      "source": [
        "La manera en que ejecutamos ese primer modelo es similar a darle a una persona un examen con las respuestas y, después de que esa persona tenga acceso a ese examen con todas las respuestas, presentarle exactamente el mismo examen con las mismas respuestas. Si la persona memoriza ese examen con las mismas palabras y respuestas, entonces el día de mañana que le quieras preguntar algo similar con otras palabras, tal vez la persona no tenga la capacidad de generalizar bien el concepto porque se dedicó a memorizar.\n",
        "\n",
        "Lo mismo sucede con los modelos de *Machine Learning* (Aprendizaje Automático). Si entreno y pruebo mi modelo con el mismo conjunto de datos, eso es igual a que el modelo memorice completamente todas las salidas. Por eso, en el caso específico del árbol de decisión, mi modelo siempre va a llegar a un 100% de exactitud."
      ]
    },
    {
      "cell_type": "markdown",
      "metadata": {
        "id": "EPrFcm39oAof"
      },
      "source": [
        "### Validando el modelo"
      ]
    },
    {
      "cell_type": "markdown",
      "metadata": {
        "id": "v0u-uij9eNcD"
      },
      "source": [
        "Evaluar el modelo con los mismos datos utilizados en el entrenamiento no es recomendable. Es necesario que la evaluación se realice con datos independientes.  \n",
        "\n",
        "Evaluar el modelo con los propios datos de entrenamiento sería equivalente a entregar un examen con las preguntas y las respuestas a una persona y, al momento de evaluarla nuevamente, entregarle un examen con las mismas preguntas y opciones. Se espera que esa persona obtenga un buen resultado, ya que ya ha visto las respuestas y ha memorizado el resultado. Esto es diferente de haber aprendido la materia a partir de ese examen y luego presentar una prueba con contenido similar y obtener un resultado positivo.  \n",
        "\n",
        "Con el objetivo de verificar la capacidad de generalización de un modelo, debemos dividir el conjunto de datos en tres partes: datos de entrenamiento, validación y prueba.  \n",
        "\n",
        "- El **conjunto de entrenamiento** se utiliza para entrenar los modelos. A partir de este conjunto, los modelos identifican patrones en los datos.  \n",
        "\n",
        "- El **conjunto de validación** se emplea para evaluar el desempeño de diferentes modelos con datos nuevos que no fueron utilizados en el entrenamiento.  \n",
        "\n",
        "- El **conjunto de prueba** se mantiene separado desde el inicio para simular datos del mundo real. No se utiliza en ninguna etapa del entrenamiento ni de la validación, sirviendo como una estimación de la capacidad del modelo elegido para generalizar y predecir nuevos datos."
      ]
    },
    {
      "cell_type": "markdown",
      "metadata": {
        "id": "TCIN5oOJFk_W"
      },
      "source": [
        "<a href=\"https://ibb.co/9H2Z1HZ5\"><img src=\"https://i.ibb.co/0yZs6ysb/datos-train-test.png\" alt=\"datos-train-test\" border=\"0\"></a>"
      ]
    },
    {
      "cell_type": "markdown",
      "metadata": {},
      "source": [
        "Entonces, la buena práctica cuando trabajamos con *Machine Learning* es tener tres conjuntos de datos. Podríamos hablar de dos conjuntos: uno compuesto por un conjunto de prueba y el otro conjunto compuesto por el conjunto de entrenamiento y el conjunto de validación.\n",
        "\n",
        "¿Cuál es el objetivo? Que desde el principio, aísle un grupo de mis datos para probarlo sólo al final, que nunca vea los datos que voy a dejar en el grupo de prueba para poder ver que efectivamente mi modelo está generalizando bien con datos que nunca vio, es decir, simulando un ambiente de producción de un modelo de *Machine Learning*.\n",
        "\n",
        "Entonces, tenemos una parte de prueba y en el otro conjunto tenemos la parte dedicada a entrenamiento y validación. Entonces, tengo lógicamente un segmento para entrenar mi modelo y un segmento para validarlo. ¿Entonces cuál es la idea? Que este de validación no lo vea durante entrenamiento y únicamente lo use a la hora de validar si el entrenamiento está generalizando bien o no."
      ]
    },
    {
      "cell_type": "markdown",
      "metadata": {},
      "source": [
        "---"
      ]
    },
    {
      "cell_type": "markdown",
      "metadata": {},
      "source": [
        "En nuestro caso, vamos a hacer primero la separación para el entrenamiento y validación y para prueba, y después vamos a hacer la separación de entrenamiento y validación efectivamente. ¿Cómo lo hacemos? Vamos a tomar nuestra X, nuestra X, Test, vamos a tomar nuestra Y y nuestra Y, Test que van a ser los de prueba y vamos a hacer lo siguiente Train, Test, Split. Vamos a introducirle nuestra X, nuestra Y, vamos a tomar una base de prueba Test, Size del 15%, 0.15 y vamos a utilizar el método Stratify.\n",
        "\n",
        "¿Cuál es el objetivo de hacer este Stratify? Que deje la misma cantidad de observaciones para morosos en los dos conjuntos de datos que estoy separando. ¿Qué quiere decir ello? Que si en mi conjunto de prueba tengo un 10% de morosos, también quiero que en mi conjunto de entrenamiento y validación exista un 10% de morosos. Entonces, esa es la idea y vamos a hacer este Stratify utilizando nuestra Y.\n",
        "\n",
        "Por último, vamos a establecer un estado de aleatoriedad RandomState y vamos a darle el número 5. El estado de aleatoriedad básicamente nos permite replicar esta misma división en cualquier momento, es decir, la forma en que voy a dividir mis muestras en este ejercicio podrá replicarse en cualquier máquina, porque siempre que utilice el RandomState 5 él va a dividir de la misma manera, por eso se llama un estado de pseudo aleatoriedad."
      ]
    },
    {
      "cell_type": "code",
      "execution_count": 10,
      "metadata": {
        "id": "mvDcVFFDP1sB"
      },
      "outputs": [],
      "source": [
        "from sklearn.model_selection import train_test_split\n",
        "\n",
        "X, X_test, y, y_test = train_test_split(X, y, test_size=0.15, stratify=y, random_state=5)\n",
        "X_train, X_val, y_train, y_val = train_test_split(X, y, stratify=y, random_state=5)"
      ]
    },
    {
      "cell_type": "code",
      "execution_count": 11,
      "metadata": {
        "id": "sEJPwwG_P1Md"
      },
      "outputs": [
        {
          "name": "stdout",
          "output_type": "stream",
          "text": [
            "La exactitud del modelo con el conjunto de entrenamiento es: 1.0\n",
            "La exactitud del modelo con el conjunto de validación es: 0.8485323578085533\n"
          ]
        }
      ],
      "source": [
        "modelo = DecisionTreeClassifier()\n",
        "modelo.fit(X_train, y_train)\n",
        "\n",
        "print(f'La exactitud del modelo con el conjunto de entrenamiento es: {modelo.score(X_train, y_train)}')\n",
        "\n",
        "print(f'La exactitud del modelo con el conjunto de validación es: {modelo.score(X_val, y_val)}')"
      ]
    },
    {
      "cell_type": "markdown",
      "metadata": {},
      "source": [
        "Observa que durante el entrenamiento, llegó al 100%, Y a la hora de validar, llegó al 84%. ¿Qué significa esto? Que mi modelo de árbol se memorizó completamente todas las salidas y por eso llegó al 100% y al momento de colocar datos que no ha visto, al momento de validarlo, entonces llegó al 84%. Esta no es la mejor forma de instanciar un modelo de árbol de decisión, sino que debemos establecer una profundidad al menos. Entonces voy a colocar `max_depth=10`, es decir, que baje 10 porque si no le coloco profundidad, se va a ir hasta el final. Por eso es que llega al 100%."
      ]
    },
    {
      "cell_type": "code",
      "execution_count": 12,
      "metadata": {
        "id": "NIeGQZGcP1J1"
      },
      "outputs": [
        {
          "name": "stdout",
          "output_type": "stream",
          "text": [
            "La exactitud del modelo con el conjunto de entrenamiento es: 0.9205865272938444\n",
            "La exactitud del modelo con el conjunto de validación es: 0.9060186394913335\n"
          ]
        }
      ],
      "source": [
        "modelo = DecisionTreeClassifier(max_depth=10)\n",
        "modelo.fit(X_train, y_train)\n",
        "\n",
        "print(f'La exactitud del modelo con el conjunto de entrenamiento es: {modelo.score(X_train, y_train)}')\n",
        "\n",
        "print(f'La exactitud del modelo con el conjunto de validación es: {modelo.score(X_val, y_val)}')"
      ]
    },
    {
      "cell_type": "markdown",
      "metadata": {},
      "source": [
        "Y ahora observa que ya con este parámetro, durante mi entrenamiento llegó a un 92% y la exactitud del modelo al momento de validarlo fue el 90%. ¿Cuál es la conclusión aquí? Está generalizando mejor. ¿Por qué? Porque no se está memorizando todas las salidas y únicamente ajustamos un parámetro."
      ]
    },
    {
      "cell_type": "markdown",
      "metadata": {
        "id": "WtlRAZt96VLG"
      },
      "source": [
        "### Evaluando el modelo"
      ]
    },
    {
      "cell_type": "markdown",
      "metadata": {},
      "source": [
        "Establecimos un `max_depth` de 10, e introdujimos nuevamente nuestra X de entrenamiento y nuestra Y de entrenamiento. El modelo, una vez entrenado, alcanzó una precisión del 92% y al momento de validarlo, una precisión del 90%. Es decir, estos valores están más cercanos.\n",
        "\n",
        "Sin embargo, ¿qué significa precisión? Significa que en el 90% de los casos, mi modelo generalizó bien, por ejemplo, para este caso en la validación. Pero, ¿qué generalizó bien? Es decir, en el 90% de los casos, ¿qué sucedió? ¿Identificó cuántos deudores o cuántos clientes cumplidos? No tenemos esta visibilidad en este punto.\n",
        "\n",
        "Por lo tanto, la precisión es una métrica que no nos dice mucho. Nos indica si el modelo está generalizando bien o no, pero no conocemos en detalle qué es lo que está generalizando y si es de nuestro interés. Para ello, vamos a utilizar también una herramienta para validar nuestros modelos, que es la matriz de confusión."
      ]
    },
    {
      "cell_type": "code",
      "execution_count": 13,
      "metadata": {
        "id": "IlUZBhPrPyYh"
      },
      "outputs": [],
      "source": [
        "from sklearn.metrics import confusion_matrix"
      ]
    },
    {
      "cell_type": "code",
      "execution_count": 14,
      "metadata": {
        "id": "iill3u5HPyOA"
      },
      "outputs": [
        {
          "name": "stdout",
          "output_type": "stream",
          "text": [
            "[[10359   120]\n",
            " [  959    43]]\n"
          ]
        }
      ],
      "source": [
        "y_previsto = modelo.predict(X_val)\n",
        "matriz_confusion = confusion_matrix(y_val, y_previsto)\n",
        "print(matriz_confusion)"
      ]
    },
    {
      "cell_type": "code",
      "execution_count": 15,
      "metadata": {
        "id": "gtFWt6emPyJt"
      },
      "outputs": [],
      "source": [
        "from sklearn.metrics import ConfusionMatrixDisplay"
      ]
    },
    {
      "cell_type": "code",
      "execution_count": 16,
      "metadata": {
        "id": "qg0OgZeqPyGJ"
      },
      "outputs": [
        {
          "data": {
            "image/png": "[encoded data removed]",
            "text/plain": [
              "<Figure size 640x480 with 2 Axes>"
            ]
          },
          "metadata": {},
          "output_type": "display_data"
        }
      ],
      "source": [
        "visualizacion = ConfusionMatrixDisplay(confusion_matrix=matriz_confusion)\n",
        "visualizacion.plot();"
      ]
    },
    {
      "cell_type": "markdown",
      "metadata": {},
      "source": [
        "Tenemos nuestra matriz de confusión. En el eje Y tenemos los valores reales, 0 siendo cumplido, 1 siendo deudor. Y aquí en el eje X tenemos los valores previstos, 0 siendo cumplido y 1 siendo deudor."
      ]
    },
    {
      "cell_type": "code",
      "execution_count": 17,
      "metadata": {},
      "outputs": [
        {
          "data": {
            "image/png": "[encoded data removed]",
            "text/plain": [
              "<Figure size 640x480 with 2 Axes>"
            ]
          },
          "metadata": {},
          "output_type": "display_data"
        }
      ],
      "source": [
        "visualizacion = ConfusionMatrixDisplay(confusion_matrix=matriz_confusion, display_labels=['Cumplido', 'Moroso'])\n",
        "visualizacion.plot();"
      ]
    },
    {
      "cell_type": "markdown",
      "metadata": {},
      "source": [
        "# **Desafío: construyendo un segundo modelo**"
      ]
    },
    {
      "cell_type": "markdown",
      "metadata": {},
      "source": [
        "Se recomienda utilizar más de un modelo de clasificación en proyectos de **machine learning**, para que se comparen los resultados y se elija aquel modelo que tenga un mejor desempeño, después de todos los análisis y mejoras.\n",
        "\n",
        "Utilizamos durante la clase el algoritmo de árbol de decisión, pero la biblioteca Scikit-Learn tiene varios otros métodos de clasificación que pueden ser utilizados en nuestro proyecto. Como desafío, utiliza el algoritmo Random Forest para crear un modelo y evaluar el desempeño con la precisión y la matriz de confusión, y compara los resultados con el resultado del árbol de decisión.\n",
        "\n",
        "Como un consejo, revisa la documentación del algoritmo [RandomForestClassifier](https://scikit-learn.org/stable/modules/generated/sklearn.ensemble.RandomForestClassifier.html#sklearn.ensemble.RandomForestClassifier). Explora este material y observa cómo importar la función. Durante este proceso, recuerda verificar los parámetros del método para evitar que el modelo se ajuste demasiado a los datos de entrenamiento."
      ]
    },
    {
      "cell_type": "code",
      "execution_count": 18,
      "metadata": {},
      "outputs": [
        {
          "name": "stdout",
          "output_type": "stream",
          "text": [
            "La exactitud del modelo es: 91.48%\n"
          ]
        }
      ],
      "source": [
        "from sklearn.ensemble import RandomForestClassifier\n",
        "\n",
        "# Dividir el conjunto de datos en entrenamiento y validación\n",
        "modelo_rf = RandomForestClassifier(max_depth=10, random_state=5)\n",
        "# Ajustar el modelo\n",
        "modelo_rf.fit(X, y)\n",
        "\n",
        "# Evaluar el modelo\n",
        "print(f'La exactitud del modelo es: {modelo_rf.score(X, y):.2%}')"
      ]
    },
    {
      "cell_type": "code",
      "execution_count": 19,
      "metadata": {},
      "outputs": [
        {
          "name": "stdout",
          "output_type": "stream",
          "text": [
            "La exactitud del modelo con el conjunto de entrenamiento es: 91.54%\n",
            "La exactitud del modelo con el conjunto de validación es: 91.30%\n"
          ]
        }
      ],
      "source": [
        "# Ajustar el modelo\n",
        "modelo_rf.fit(X_train, y_train)\n",
        "\n",
        "print(f'La exactitud del modelo con el conjunto de entrenamiento es: {modelo_rf.score(X_train, y_train):.2%}')\n",
        "\n",
        "print(f'La exactitud del modelo con el conjunto de validación es: {modelo_rf.score(X_val, y_val):.2%}')"
      ]
    },
    {
      "cell_type": "code",
      "execution_count": 20,
      "metadata": {},
      "outputs": [
        {
          "name": "stdout",
          "output_type": "stream",
          "text": [
            "Matriz de confusión:\n",
            "[[10479     0]\n",
            " [  999     3]]\n"
          ]
        }
      ],
      "source": [
        "# Evaluar el modelo con el conjunto de prueba\n",
        "y_prev = modelo_rf.predict(X_val)\n",
        "confusion = confusion_matrix(y_val, y_prev)\n",
        "print(f'Matriz de confusión:\\n{confusion}')"
      ]
    },
    {
      "cell_type": "code",
      "execution_count": 21,
      "metadata": {},
      "outputs": [
        {
          "data": {
            "image/png": "[encoded data removed]",
            "text/plain": [
              "<Figure size 640x480 with 2 Axes>"
            ]
          },
          "metadata": {},
          "output_type": "display_data"
        }
      ],
      "source": [
        "# Visualizar la matriz de confusión\n",
        "ConfusionMatrixDisplay(confusion_matrix=confusion, display_labels=['Cumplido', 'Moroso']).plot();"
      ]
    },
    {
      "cell_type": "markdown",
      "metadata": {},
      "source": [
        "A partir de esta matriz, nos damos cuenta de que a pesar de una precisión mayor, el modelo `RandomForest` no logra identificar casi ningún cliente moroso, indicando un resultado bastante malo en relación al modelo de árbol de decisión."
      ]
    },
    {
      "cell_type": "markdown",
      "metadata": {
        "id": "tPogL-24ntSH"
      },
      "source": [
        "## <font color='dark'>**Métricas de evaluación**</h1>"
      ]
    },
    {
      "cell_type": "markdown",
      "metadata": {
        "id": "nP1WfyyR6XMl"
      },
      "source": [
        "### Exactitud, precisión y recall (sensibilidad)."
      ]
    },
    {
      "cell_type": "markdown",
      "metadata": {
        "id": "oE8N0NqoH6hy"
      },
      "source": [
        "<a href=\"https://ibb.co/351SbY7t\"><img src=\"https://i.ibb.co/wZypqrRD/matriz-confusion.png\" alt=\"matriz-confusion\" border=\"0\"></a>"
      ]
    },
    {
      "cell_type": "markdown",
      "metadata": {},
      "source": [
        "Tenemos verdaderos negativos en este primer cuadrante, que son los casos donde el valor real era cero, es decir, cumplido, es un cliente cumplido, cero. Y el valor predicho era cero, es decir, verdadero negativo. Realmente este es un cliente cumplido, verdadero negativo, que fueron más de 10.000."
      ]
    },
    {
      "cell_type": "markdown",
      "metadata": {},
      "source": [
        "También tenemos el caso donde el valor real era cero, pero yo predije que era un cliente moroso, entonces es un falso positivo, es decir, es un falso 1, es un falso moroso porque realmente este es cumplido. El falso positivo se conoce como error tipo 1."
      ]
    },
    {
      "cell_type": "markdown",
      "metadata": {},
      "source": [
        "Además, en este tercer cuadrante tengo los valores reales cuando es moroso, es decir, cuando es 1. Entonces, 1, y mi modelo dijo que era cumplido, es decir, que era cero, entonces es un falso negativo, es decir, yo lo predije como cero, falsamente, falso negativo, entonces tengo un error tipo 2. Hubo 957 casos donde mi modelo dijo que eran clientes cumplidos cuando en realidad eran morosos."
      ]
    },
    {
      "cell_type": "markdown",
      "metadata": {},
      "source": [
        "Y también tenemos los verdaderos positivos, que son los casos en los cuales el modelo efectivamente predijo clientes morosos que sí realmente eran morosos, entonces nota que únicamente hubo 45."
      ]
    },
    {
      "cell_type": "markdown",
      "metadata": {},
      "source": [
        "Aquí tengo, entonces, las métricas que vamos a calcular, que son precisión, recall, y F1 score. Accuracy, o exactitud, que es la primera métrica que utilizamos que era score, ella únicamente suma verdaderos positivos y verdaderos negativos, es decir, suma estos 10,000, más de 10,000, más estos 45, y los divide en el total de observaciones, es decir, sumando todo, sumando todos estos cuadritos."
      ]
    },
    {
      "cell_type": "markdown",
      "metadata": {},
      "source": [
        "$$precision = \\frac{TP}{TP + FP}$$\n",
        "$$recal = \\frac{TP}{TP + FN}$$\n",
        "$$ F1 = \\frac{2 \\times precision \\times recall}{precision + recal}$$\n",
        "$$ accuracy = \\frac{TP + TN}{TP + FN + TN + FP}$$\n",
        "$$ specificity = \\frac{TN}{TN + FP}$$"
      ]
    },
    {
      "cell_type": "code",
      "execution_count": 22,
      "metadata": {
        "id": "IIEaf2fmPmq1"
      },
      "outputs": [],
      "source": [
        "from sklearn.metrics import accuracy_score, precision_score, recall_score, f1_score"
      ]
    },
    {
      "cell_type": "code",
      "execution_count": 23,
      "metadata": {
        "id": "QnGxEIrWPmbx"
      },
      "outputs": [
        {
          "name": "stdout",
          "output_type": "stream",
          "text": [
            "La precisión del modelo es: 25.60%\n"
          ]
        }
      ],
      "source": [
        "presicion = 43/(43+125) # Precision\n",
        "print(f'La precisión del modelo es: {presicion:.2%}')"
      ]
    },
    {
      "cell_type": "code",
      "execution_count": 24,
      "metadata": {
        "id": "7C7NoVZnPmX1"
      },
      "outputs": [
        {
          "name": "stdout",
          "output_type": "stream",
          "text": [
            "La precisión del modelo es: 26.38%\n",
            "La sensibilidad del modelo es: 4.29%\n",
            "La exactitud del modelo es: 90.60%\n"
          ]
        }
      ],
      "source": [
        "print(f'La precisión del modelo es: {precision_score(y_val, y_previsto):.2%}')\n",
        "print(f'La sensibilidad del modelo es: {recall_score(y_val, y_previsto):.2%}')\n",
        "print(f'La exactitud del modelo es: {accuracy_score(y_val, y_previsto):.2%}')"
      ]
    },
    {
      "cell_type": "markdown",
      "metadata": {},
      "source": [
        "Entonces, ¿qué quiere decir esto? Estoy prestando dinero, o la financiera, la empresa financiera está financiando a muchas personas morosas, entonces esto es un problema muy serio. La métrica de validación que se va a utilizar, la que vamos a mejorar es el recall. Queremos disminuir al máximo el error tipo 2"
      ]
    },
    {
      "cell_type": "code",
      "execution_count": 25,
      "metadata": {},
      "outputs": [
        {
          "name": "stdout",
          "output_type": "stream",
          "text": [
            "El F1 del modelo es: 0.07381974248927038\n"
          ]
        }
      ],
      "source": [
        "print(f'El F1 del modelo es: {f1_score(y_val, y_previsto)}')"
      ]
    },
    {
      "cell_type": "markdown",
      "metadata": {
        "id": "I8ELhexg2jNx"
      },
      "source": [
        "### Curva ROC"
      ]
    },
    {
      "cell_type": "code",
      "execution_count": 26,
      "metadata": {
        "colab": {
          "base_uri": "https://localhost:8080/",
          "height": 420
        },
        "id": "PhUNE4Xm4MII",
        "outputId": "af2368d8-847d-459b-b11a-c079a4d4c433"
      },
      "outputs": [
        {
          "data": {
            "text/html": [
              "<img src=\"https://raw.githubusercontent.com/dariyasydykova/open_projects/master/ROC_animation/animations/cutoff.gif\"/>"
            ],
            "text/plain": [
              "<IPython.core.display.Image object>"
            ]
          },
          "execution_count": 26,
          "metadata": {},
          "output_type": "execute_result"
        }
      ],
      "source": [
        "from IPython.display import Image\n",
        "Image(url='https://raw.githubusercontent.com/dariyasydykova/open_projects/master/ROC_animation/animations/cutoff.gif')"
      ]
    },
    {
      "cell_type": "markdown",
      "metadata": {
        "id": "XK8_7Ruy32BT"
      },
      "source": [
        "Fuente: [paulvanderlaken.com](https://paulvanderlaken.com/2019/08/16/roc-auc-precision-and-recall-visually-explained/)\n",
        "\n",
        "\n"
      ]
    },
    {
      "cell_type": "code",
      "execution_count": 27,
      "metadata": {
        "id": "FHc-8FjePhM6"
      },
      "outputs": [],
      "source": [
        "from sklearn.metrics import RocCurveDisplay"
      ]
    },
    {
      "cell_type": "code",
      "execution_count": 28,
      "metadata": {
        "id": "V6Ua2rY3PhFt"
      },
      "outputs": [
        {
          "data": {
            "image/png": "[encoded data removed]",
            "text/plain": [
              "<Figure size 640x480 with 1 Axes>"
            ]
          },
          "metadata": {},
          "output_type": "display_data"
        }
      ],
      "source": [
        "RocCurveDisplay.from_predictions(y_val, y_previsto, name='Árbol de decisión');"
      ]
    },
    {
      "cell_type": "code",
      "execution_count": 29,
      "metadata": {
        "id": "LJE-yyWMPg8R"
      },
      "outputs": [],
      "source": [
        "from sklearn.metrics import roc_auc_score"
      ]
    },
    {
      "cell_type": "code",
      "execution_count": 30,
      "metadata": {
        "id": "7mtvjPHsPi1o"
      },
      "outputs": [
        {
          "name": "stdout",
          "output_type": "stream",
          "text": [
            "El área bajo la curva ROC es: 51.57%\n"
          ]
        }
      ],
      "source": [
        "print(f'El área bajo la curva ROC es: {roc_auc_score(y_val, y_previsto):.2%}')"
      ]
    },
    {
      "cell_type": "markdown",
      "metadata": {
        "id": "IztSEZfh7QFe"
      },
      "source": [
        "### Curva de  precisión x sensibilidad"
      ]
    },
    {
      "cell_type": "code",
      "execution_count": 31,
      "metadata": {
        "colab": {
          "base_uri": "https://localhost:8080/",
          "height": 420
        },
        "id": "EJzfjuxa3fxD",
        "outputId": "924ea149-4438-48f7-cec5-e2ebd55c5fc8"
      },
      "outputs": [
        {
          "data": {
            "text/html": [
              "<img src=\"https://paulvanderlaken.com/wp-content/uploads/2019/08/roc.gif\"/>"
            ],
            "text/plain": [
              "<IPython.core.display.Image object>"
            ]
          },
          "execution_count": 31,
          "metadata": {},
          "output_type": "execute_result"
        }
      ],
      "source": [
        "Image(url='https://paulvanderlaken.com/wp-content/uploads/2019/08/roc.gif')"
      ]
    },
    {
      "cell_type": "markdown",
      "metadata": {
        "id": "bUoGCSUB4msC"
      },
      "source": [
        "Fuente: [paulvanderlaken.com](https://paulvanderlaken.com/2019/08/16/roc-auc-precision-and-recall-visually-explained/)\n"
      ]
    },
    {
      "cell_type": "code",
      "execution_count": 32,
      "metadata": {
        "id": "7t20ira6Pcds"
      },
      "outputs": [],
      "source": [
        "from sklearn.metrics import PrecisionRecallDisplay"
      ]
    },
    {
      "cell_type": "code",
      "execution_count": 33,
      "metadata": {
        "id": "Drs3Z6RTPcTc"
      },
      "outputs": [
        {
          "data": {
            "image/png": "[encoded data removed]",
            "text/plain": [
              "<Figure size 640x480 with 1 Axes>"
            ]
          },
          "metadata": {},
          "output_type": "display_data"
        }
      ],
      "source": [
        "PrecisionRecallDisplay.from_predictions(y_val, y_previsto, name='Árbol de decisión');"
      ]
    },
    {
      "cell_type": "code",
      "execution_count": 34,
      "metadata": {
        "id": "DmhO5H5cPcOp"
      },
      "outputs": [],
      "source": [
        "from sklearn.metrics import average_precision_score"
      ]
    },
    {
      "cell_type": "code",
      "execution_count": 35,
      "metadata": {
        "id": "SS08sHDkPeaG"
      },
      "outputs": [
        {
          "name": "stdout",
          "output_type": "stream",
          "text": [
            "El score promedio de precisión vs recall es: 9.49%\n"
          ]
        }
      ],
      "source": [
        "print(f'El score promedio de precisión vs recall es: {average_precision_score(y_val, y_previsto):.2%}')"
      ]
    },
    {
      "cell_type": "markdown",
      "metadata": {
        "id": "Bm2E6GEJDJLH"
      },
      "source": [
        "### Informe de métricas"
      ]
    },
    {
      "cell_type": "markdown",
      "metadata": {},
      "source": [
        "Hemos calculado varias métricas para validar nuestro modelo, sin embargo, lo hemos hecho de forma aislada, una métrica a la vez. Podemos también utilizar un recurso que es un informe de métricas, que va a traer todos estos resultados ya consolidados para que podamos analizar directamente desde un mismo lugar."
      ]
    },
    {
      "cell_type": "code",
      "execution_count": 36,
      "metadata": {
        "id": "C85qunYhPZTJ"
      },
      "outputs": [],
      "source": [
        "from sklearn.metrics import classification_report"
      ]
    },
    {
      "cell_type": "code",
      "execution_count": 37,
      "metadata": {
        "id": "pnN6QRlYPZQR"
      },
      "outputs": [
        {
          "name": "stdout",
          "output_type": "stream",
          "text": [
            "              precision    recall  f1-score   support\n",
            "\n",
            "    Cumplido       0.92      0.99      0.95     10479\n",
            "      Moroso       0.26      0.04      0.07      1002\n",
            "\n",
            "    accuracy                           0.91     11481\n",
            "   macro avg       0.59      0.52      0.51     11481\n",
            "weighted avg       0.86      0.91      0.87     11481\n",
            "\n"
          ]
        }
      ],
      "source": [
        "print(classification_report(y_val, y_previsto, target_names=['Cumplido', 'Moroso']))"
      ]
    },
    {
      "cell_type": "markdown",
      "metadata": {},
      "source": [
        "Este informe de métricas es bastante útil. Sin embargo, no es la única manera de validar nuestros modelos. Hay, inclusive, otros pasos de validación muy interesantes, porque hasta el momento lo único que hemos hecho es validar este modelo inicial sin realizar ningún ajuste a él, sino entender muy bien las métricas que nos ofrece para, a partir de allí, entonces ver qué es lo que podemos hacer para mejorar nuestro modelo de clasificación."
      ]
    },
    {
      "cell_type": "markdown",
      "metadata": {
        "id": "SuxCy_oZZQxE"
      },
      "source": [
        "## <font color='dark'>**Validación cruzada**</h1>"
      ]
    },
    {
      "cell_type": "markdown",
      "metadata": {
        "id": "17q2T0iRnzSg"
      },
      "source": [
        "### Usando KFold"
      ]
    },
    {
      "cell_type": "markdown",
      "metadata": {
        "id": "zjfYnDWJ6C2A"
      },
      "source": [
        "La validación del modelo de clasificación a partir de la separación de los datos en conjuntos de entrenamiento y validación hace que el resultado dependa en gran medida de esta división. Puede suceder que, de forma aleatoria, el patrón de los datos de validación sea diferente al de los datos de entrenamiento, lo que podría llevar a obtener un resultado mucho mejor o mucho peor que la realidad simplemente por suerte o mala suerte.  \n",
        "\n",
        "Teniendo esto en cuenta, es posible utilizar la **validación cruzada**, una estrategia más consistente y ampliamente utilizada en proyectos de *machine learning*.  \n",
        "\n",
        "En la validación cruzada, en lugar de separar los datos en entrenamiento y validación una sola vez, se dividen en varias partes de igual tamaño. En cada una de estas divisiones, se usa una parte para validación y todas las demás para entrenamiento. Este proceso se repite hasta que todas las partes hayan sido utilizadas tanto para validación como para entrenamiento.  \n",
        "\n",
        "Se generará un modelo para cada una de estas divisiones y la evaluación del desempeño se realizará promediando la métrica de cada modelo. Esto elimina la dependencia de la separación de los datos, ya que hay una mayor variación en la selección de los mismos y se obtiene un valor medio.  \n",
        "\n",
        "Generalmente, se utilizan 5 o 10 partes. Un número mayor no suele ser necesario, ya que implica un procesamiento más costoso, y valores menores ya ayudan a mitigar el problema de la selección de los datos."
      ]
    },
    {
      "cell_type": "markdown",
      "metadata": {
        "id": "oSboV-QNMG__"
      },
      "source": [
        "<a href=\"https://ibb.co/KcBtshJR\"><img src=\"https://i.ibb.co/nq4X1mFZ/train-y-validacion.png\" alt=\"train-y-validacion\" border=\"0\"></a>"
      ]
    },
    {
      "cell_type": "code",
      "execution_count": 38,
      "metadata": {
        "id": "TU8HYdzmPI7P"
      },
      "outputs": [],
      "source": [
        "from sklearn.model_selection import KFold, cross_validate"
      ]
    },
    {
      "cell_type": "code",
      "execution_count": 39,
      "metadata": {
        "id": "McSadnzDPI4G"
      },
      "outputs": [
        {
          "data": {
            "text/plain": [
              "{'fit_time': array([0.13417077, 0.13162708, 0.13306689, 0.13044786, 0.13110399]),\n",
              " 'score_time': array([0.00189424, 0.0014987 , 0.00169301, 0.00146627, 0.00150776]),\n",
              " 'test_score': array([0.91377246, 0.90777439, 0.9070122 , 0.9135453 , 0.89917247])}"
            ]
          },
          "execution_count": 39,
          "metadata": {},
          "output_type": "execute_result"
        }
      ],
      "source": [
        "modelo = DecisionTreeClassifier(max_depth=10)\n",
        "kf = KFold(n_splits=5, shuffle=True, random_state=5)\n",
        "cv_resultados = cross_validate(modelo, X, y, cv=kf)\n",
        "cv_resultados"
      ]
    },
    {
      "cell_type": "code",
      "execution_count": 40,
      "metadata": {
        "id": "o5oZ8-lhPIy_"
      },
      "outputs": [
        {
          "data": {
            "text/plain": [
              "array([0.91377246, 0.90777439, 0.9070122 , 0.9135453 , 0.89917247])"
            ]
          },
          "execution_count": 40,
          "metadata": {},
          "output_type": "execute_result"
        }
      ],
      "source": [
        "cv_resultados['test_score']"
      ]
    },
    {
      "cell_type": "code",
      "execution_count": 41,
      "metadata": {},
      "outputs": [
        {
          "name": "stdout",
          "output_type": "stream",
          "text": [
            "El promedio de la exactitud es: 90.83% con un desvio típico de 0.53%\n"
          ]
        }
      ],
      "source": [
        "promedio = cv_resultados['test_score'].mean()\n",
        "desvio_std = cv_resultados['test_score'].std()\n",
        "\n",
        "print(f'El promedio de la exactitud es: {promedio:.2%} con un desvio típico de {desvio_std:.2%}')"
      ]
    },
    {
      "cell_type": "code",
      "execution_count": 42,
      "metadata": {},
      "outputs": [
        {
          "name": "stdout",
          "output_type": "stream",
          "text": [
            "El intervalo de confianza es: 0.8975708920897908, 0.918939832106416\n"
          ]
        }
      ],
      "source": [
        "print(f'El intervalo de confianza es: {promedio -2* desvio_std}, {min(promedio + 2* desvio_std, 1)}')"
      ]
    },
    {
      "cell_type": "markdown",
      "metadata": {
        "id": "GAHrtLM2OCjO"
      },
      "source": [
        "### Validación cruzada con sensibilidad"
      ]
    },
    {
      "cell_type": "code",
      "execution_count": 43,
      "metadata": {
        "id": "Ywfsoe3_PLYZ"
      },
      "outputs": [],
      "source": [
        "def intervalo_confianza(resultados):\n",
        "    promedio = resultados['test_score'].mean()\n",
        "    desvio_std = resultados['test_score'].std()\n",
        "    return f'El intervalo de confianza es: [{promedio - 2 * desvio_std}, {min(promedio + 2 * desvio_std, 1)}]'"
      ]
    },
    {
      "cell_type": "code",
      "execution_count": 44,
      "metadata": {
        "id": "PV3m-6IxPLMf"
      },
      "outputs": [
        {
          "data": {
            "text/plain": [
              "{'fit_time': array([0.13597083, 0.131284  , 0.13142228, 0.13031197, 0.12992311]),\n",
              " 'score_time': array([0.00277114, 0.00253105, 0.00271177, 0.00257993, 0.00246692]),\n",
              " 'test_score': array([0.02642008, 0.01980198, 0.01845018, 0.01305483, 0.02427746])}"
            ]
          },
          "execution_count": 44,
          "metadata": {},
          "output_type": "execute_result"
        }
      ],
      "source": [
        "modelo = DecisionTreeClassifier(max_depth=10)\n",
        "kf = KFold(n_splits=5, shuffle=True, random_state=5)\n",
        "cv_resultados = cross_validate(modelo, X, y, cv=kf, scoring='recall')\n",
        "cv_resultados"
      ]
    },
    {
      "cell_type": "code",
      "execution_count": 45,
      "metadata": {
        "id": "Y-gpgU7pPLJv"
      },
      "outputs": [
        {
          "data": {
            "text/plain": [
              "'El intervalo de confianza es: [0.011046251871428117, 0.029755560486454967]'"
            ]
          },
          "execution_count": 45,
          "metadata": {},
          "output_type": "execute_result"
        }
      ],
      "source": [
        "intervalo_confianza(cv_resultados)"
      ]
    },
    {
      "cell_type": "markdown",
      "metadata": {},
      "source": [
        "Entonces, ese es el resultado para *recall* que fue la métrica que estábamos priorizando. Recuerda que este modelo sigue siendo deficiente, no hemos trabajado en mejorar el modelo. Lo único que hemos hecho hasta ahora es validarlo, utilizar diversas técnicas para la validación con diversas métricas de modo que podamos tomar acciones basados en los resultados que seamos *data driven*."
      ]
    },
    {
      "cell_type": "markdown",
      "metadata": {
        "id": "-FAOYtNen4qJ"
      },
      "source": [
        "### Estratificando los datos"
      ]
    },
    {
      "cell_type": "code",
      "execution_count": 46,
      "metadata": {
        "id": "G6bPA6vaPN1A"
      },
      "outputs": [
        {
          "data": {
            "text/plain": [
              "moroso\n",
              "0    49309\n",
              "1     4716\n",
              "Name: count, dtype: int64"
            ]
          },
          "execution_count": 46,
          "metadata": {},
          "output_type": "execute_result"
        }
      ],
      "source": [
        "datos['moroso'].value_counts()"
      ]
    },
    {
      "cell_type": "markdown",
      "metadata": {},
      "source": [
        "Entonces tengo 4.716 morosas y 49.309 cumplidas. Entonces, ¿qué significa esto? Que más del 90% de mis datos pertenecen a una misma clase y el resto a otra clase, por lo que mi dataframe está muy desequilibrado.\n",
        "\n",
        "Cuando hicimos los splits, no nos aseguramos de que se mantuviera la misma proporción de muestras. Por ejemplo, en este split es probable que haya quedado el 5% de la clase morosa y el 95% de la clase cumplida y en este grupo podría haber quedado el 100% de la clase cumplida y nada de morosa. Entonces, corremos el riesgo de que nuestro algoritmo aún no esté haciendo una validación cruzada efectiva."
      ]
    },
    {
      "cell_type": "code",
      "execution_count": 47,
      "metadata": {
        "id": "HONIpY1BPNzd"
      },
      "outputs": [],
      "source": [
        "from sklearn.model_selection import StratifiedKFold"
      ]
    },
    {
      "cell_type": "code",
      "execution_count": 48,
      "metadata": {
        "id": "jCFRBhd_PNxT"
      },
      "outputs": [],
      "source": [
        "modelo = DecisionTreeClassifier(max_depth=10)\n",
        "kf = StratifiedKFold(n_splits=5, shuffle=True, random_state=5)\n",
        "cv_resultados = cross_validate(modelo, X, y, cv=kf, scoring='recall')"
      ]
    },
    {
      "cell_type": "code",
      "execution_count": 49,
      "metadata": {},
      "outputs": [
        {
          "data": {
            "text/plain": [
              "'El intervalo de confianza es: [0.020951664662709615, 0.034923005715028946]'"
            ]
          },
          "execution_count": 49,
          "metadata": {},
          "output_type": "execute_result"
        }
      ],
      "source": [
        "intervalo_confianza(cv_resultados)"
      ]
    },
    {
      "cell_type": "markdown",
      "metadata": {},
      "source": [
        "*Entonces, el desvío típico aumentó, pero a principio, estoy obteniendo un intervalo de confianza con una variación que con este modelo puede presentar una puntuación de recall que va a variar entre el 0.02, o sea, 2% y el 3.7%, no puede esperar más de ello con este modelo.*"
      ]
    },
    {
      "cell_type": "markdown",
      "metadata": {},
      "source": [
        "Aquí notamos un detalle muy interesante y es que estamos lidiando con un conjunto de datos desequilibrado, un conjunto de datos en el que tengo 50.000 registros que son personas cumplidas y tengo casi 5.000 que son personas morosas. Entonces, detectar a estas personas morosas de esta forma es muy difícil. ¿Qué estrategia podríamos implementar, entonces, para mejorar nuestra previsión?"
      ]
    },
    {
      "cell_type": "markdown",
      "metadata": {},
      "source": [
        "# **Desafío: validación con otras métricas**"
      ]
    },
    {
      "cell_type": "markdown",
      "metadata": {},
      "source": [
        "Es siempre importante analizar el problema de negocio antes de evaluar un modelo de clasificación, para que se elija la métrica más adecuada. En nuestro proyecto, estamos clasificando clientes morosos de una agencia de alquiler de vehículos e identificamos que la métrica más relevante es el recall, que busca minimizar la cantidad de personas morosas que son clasificadas como cumplidoras."
      ]
    },
    {
      "cell_type": "markdown",
      "metadata": {},
      "source": [
        "Para obtener un resultado completo de las métricas en la validación cruzada así como el [classification_report](https://scikit-learn.org/stable/modules/generated/sklearn.metrics.classification_report.html), es necesario utilizar el método `cross_validate` e informar en el parámetro scoring las métricas a evaluar."
      ]
    },
    {
      "cell_type": "markdown",
      "metadata": {},
      "source": [
        "Como desafío, construye un código para generar el intervalo de confianza para cada una de las métricas utilizando la validación cruzada:\n",
        "\n",
        "- Exactitud\n",
        "- Recall\n",
        "- Precisión\n",
        "- F1-score"
      ]
    },
    {
      "cell_type": "markdown",
      "metadata": {},
      "source": [
        "> *Un consejo es explorar la documentación del método `cross_validate` a partir de este [material de apoyo](https://scikit-learn.org/stable/modules/generated/sklearn.model_selection.cross_validate.html#sklearn.model_selection.cross_validate), donde puedes descubrir una forma más simple de retornar las métricas de una sola vez con una lista de cadenas.*"
      ]
    },
    {
      "cell_type": "markdown",
      "metadata": {},
      "source": [
        "Para solucionar el desafío, podemos explorar la documentación y darnos cuenta de que podemos utilizar una lista de métricas en el parámetro scoring. De esta manera, vamos a utilizar el código de la clase para validar el modelo con KFold, pero usando todas las métricas de evaluación de una sola vez:"
      ]
    },
    {
      "cell_type": "code",
      "execution_count": 50,
      "metadata": {},
      "outputs": [
        {
          "data": {
            "text/plain": [
              "{'fit_time': array([0.135566  , 0.13181591, 0.13200402, 0.13028479, 0.13072705]),\n",
              " 'score_time': array([0.00661111, 0.00927496, 0.00606489, 0.00559616, 0.00557804]),\n",
              " 'test_accuracy': array([0.91301034, 0.90755662, 0.90712108, 0.91332753, 0.8997169 ]),\n",
              " 'test_recall': array([0.02642008, 0.01856436, 0.01845018, 0.01436031, 0.02427746]),\n",
              " 'test_precision': array([0.24390244, 0.21126761, 0.21428571, 0.21153846, 0.21428571]),\n",
              " 'test_f1': array([0.0476758 , 0.03412969, 0.03397508, 0.02689487, 0.04361371])}"
            ]
          },
          "execution_count": 50,
          "metadata": {},
          "output_type": "execute_result"
        }
      ],
      "source": [
        "# Definir el modelo\n",
        "modelo_dt = DecisionTreeClassifier(max_depth = 10)\n",
        "# Definir la validación cruzada\n",
        "kf = KFold(n_splits=5, shuffle = True, random_state = 5)\n",
        "# Realizar la validación cruzada\n",
        "cv_resultados = cross_validate(modelo_dt, X, y, cv=kf, scoring = ['accuracy','recall', 'precision', 'f1'])\n",
        "cv_resultados"
      ]
    },
    {
      "cell_type": "markdown",
      "metadata": {},
      "source": [
        "*El resultado obtenido es un diccionario con los tiempos de ajuste de los modelos, tiempos de cálculo de las métricas y los resultados de cada una de las métricas para cada uno de los 5 modelos del KFold.*"
      ]
    },
    {
      "cell_type": "markdown",
      "metadata": {},
      "source": [
        "Para generar el intervalo de confianza para las métricas, podemos calcular la media y la desviación estándar de cada métrica y utilizar la función print() para presentar el resultado en pantalla. De este modo, podemos construir una función para crear este informe, usando un for para recorrer cada una de las claves del diccionario que acceden a las métricas:"
      ]
    },
    {
      "cell_type": "code",
      "execution_count": 51,
      "metadata": {},
      "outputs": [],
      "source": [
        "def informe_metricas(resultados):\n",
        "    for metrica in ['test_accuracy', 'test_recall', 'test_precision', 'test_f1']:\n",
        "        media = resultados[metrica].mean()\n",
        "        desvio_estandar = resultados[metrica].std()\n",
        "        print(f'Intervalo de confianza({metrica}): [{media-2*desvio_estandar}, {min(media+2*desvio_estandar, 1.0)}]')"
      ]
    },
    {
      "cell_type": "code",
      "execution_count": 52,
      "metadata": {},
      "outputs": [
        {
          "name": "stdout",
          "output_type": "stream",
          "text": [
            "Intervalo de confianza(test_accuracy): [0.8982285254226675, 0.9180644619317336]\n",
            "Intervalo de confianza(test_recall): [0.011700160649929802, 0.02912879541449104]\n",
            "Intervalo de confianza(test_precision): [0.19407552650777454, 0.24403644739945868]\n",
            "Intervalo de confianza(test_f1): [0.022374711491584442, 0.05214095050459942]\n"
          ]
        }
      ],
      "source": [
        "informe_metricas(cv_resultados)"
      ]
    },
    {
      "cell_type": "markdown",
      "metadata": {
        "id": "yaVwNb1kn8sX"
      },
      "source": [
        "## <font color='dark'>**Balanceo de los datos**</h1>"
      ]
    },
    {
      "cell_type": "markdown",
      "metadata": {
        "id": "4eYKxWJd6g6w"
      },
      "source": [
        "### Oversampling"
      ]
    },
    {
      "cell_type": "markdown",
      "metadata": {
        "id": "N0MJ7hGUmL4l"
      },
      "source": [
        "https://imbalanced-learn.org/stable/references/generated/imblearn.over_sampling.SMOTE.html#id1"
      ]
    },
    {
      "cell_type": "code",
      "execution_count": 53,
      "metadata": {
        "id": "cO0Dx5xAO4B5"
      },
      "outputs": [],
      "source": [
        "from imblearn.over_sampling import SMOTE"
      ]
    },
    {
      "cell_type": "code",
      "execution_count": 54,
      "metadata": {
        "id": "h6DQqcttO3_c"
      },
      "outputs": [],
      "source": [
        "oversampling = SMOTE()\n",
        "x_balanceada, y_balanceada = oversampling.fit_resample(X, y)"
      ]
    },
    {
      "cell_type": "code",
      "execution_count": 55,
      "metadata": {
        "id": "7Lp4GoMRO355"
      },
      "outputs": [
        {
          "data": {
            "text/plain": [
              "moroso\n",
              "0    0.5\n",
              "1    0.5\n",
              "Name: proportion, dtype: float64"
            ]
          },
          "execution_count": 55,
          "metadata": {},
          "output_type": "execute_result"
        }
      ],
      "source": [
        "y_balanceada.value_counts(normalize=True)"
      ]
    },
    {
      "cell_type": "code",
      "execution_count": 56,
      "metadata": {},
      "outputs": [],
      "source": [
        "modelo = DecisionTreeClassifier(max_depth=10)\n",
        "skf = StratifiedKFold(n_splits=5, shuffle=True, random_state=5)\n",
        "cv_resultados = cross_validate(modelo, x_balanceada, y_balanceada, cv=skf, scoring='recall')"
      ]
    },
    {
      "cell_type": "code",
      "execution_count": 57,
      "metadata": {},
      "outputs": [
        {
          "data": {
            "text/plain": [
              "'El intervalo de confianza es: [0.7054279366826316, 0.7356389780915703]'"
            ]
          },
          "execution_count": 57,
          "metadata": {},
          "output_type": "execute_result"
        }
      ],
      "source": [
        "intervalo_confianza(cv_resultados)"
      ]
    },
    {
      "cell_type": "markdown",
      "metadata": {},
      "source": [
        "*Observa que nuestro modelo aquí haciendo este ejercicio con `Smote`, ya nos trae unas métricas totalmente diferentes y que nos hacen, digamos, sorprendernos muchísimo con un resultado que pasó del 2% de recall al 71%. O sea, digamos, el intervalo de confianza, lo que puedo esperar de este modelo aquí, de esta manera como fue entrenado con oversampling, es que mi modelo generalice entre el 71% y el 75%. Pero, digamos, ¿qué tan confiable es este ejercicio? Porque generamos más de 40.000 datos o alrededor de 40.000 datos de forma sintética. ¿De acuerdo? Entonces, es un aspecto que debe ser considerado cuidadosamente.*"
      ]
    },
    {
      "cell_type": "markdown",
      "metadata": {
        "id": "fHSNXznm6ia-"
      },
      "source": [
        "### Pipeline para validación"
      ]
    },
    {
      "cell_type": "markdown",
      "metadata": {},
      "source": [
        "Obtuvimos resultados de *recall* bastante optimistas. Sin embargo, esta no es la forma de determinar que nuestro modelo está funcionando bien, porque en realidad estamos haciendo una validación con datos ya balanceados. La idea es entrenar nuestro modelo, lógicamente haciendo este *oversampling*, pero a la hora de validar nuestros datos, estos serán desbalanceados.\n",
        "\n",
        "Por lo tanto, la forma correcta de realizar este proceso es utilizando un *pipeline* para la validación, utilizando, por supuesto, el *pipeline* que nos ofrece la biblioteca `imblearn`."
      ]
    },
    {
      "cell_type": "code",
      "execution_count": 58,
      "metadata": {
        "id": "DaoAbR84O44S"
      },
      "outputs": [],
      "source": [
        "from imblearn.pipeline import Pipeline as imbpipeline"
      ]
    },
    {
      "cell_type": "code",
      "execution_count": 59,
      "metadata": {
        "id": "7UezUduWO41c"
      },
      "outputs": [],
      "source": [
        "modelo = DecisionTreeClassifier(max_depth=10)\n",
        "pipeline = imbpipeline([\n",
        "    ('oversampling', SMOTE()),\n",
        "    ('arbol', modelo)\n",
        "])"
      ]
    },
    {
      "cell_type": "code",
      "execution_count": 60,
      "metadata": {
        "id": "b7Z-pe6wO4yN"
      },
      "outputs": [],
      "source": [
        "skf = StratifiedKFold(n_splits=5, shuffle=True, random_state=5)\n",
        "cv_resultados = cross_validate(pipeline, X, y, cv=skf, scoring='recall')"
      ]
    },
    {
      "cell_type": "code",
      "execution_count": 61,
      "metadata": {},
      "outputs": [
        {
          "data": {
            "text/plain": [
              "'El intervalo de confianza es: [0.21727019578431045, 0.2875949820949614]'"
            ]
          },
          "execution_count": 61,
          "metadata": {},
          "output_type": "execute_result"
        }
      ],
      "source": [
        "intervalo_confianza(cv_resultados)"
      ]
    },
    {
      "cell_type": "markdown",
      "metadata": {},
      "source": [
        "Es un resultado muy interesante porque estamos utilizando un árbol de decisión básico, elemental, únicamente con 10 de profundidad. Podríamos, por supuesto, hacer un tuning a nuestros parámetros, un ajuste a nuestros hiperparámetros para hacerlo más detallado, pero en principio, este método *oversampling* se muestra bastante prometedor.\n",
        "\n",
        "Sin embargo, no solo podemos hacer un sobremuestreo. ¿Qué tal si, en vez de generar datos sintéticos, por el contrario, reducimos las muestras de nuestros datos? Entonces, en vez de tener la clase mayoritaria o la clase predominante que sea cumplidos, dejamos la clase predominante en la misma cantidad o en la misma proporción de la clase que es la minoría, que serían los clientes morosos. Eso sería el método *undersampling* (submuestreo) o el opuesto de *oversampling*."
      ]
    },
    {
      "cell_type": "markdown",
      "metadata": {
        "id": "66PlvwjX6kFv"
      },
      "source": [
        "### Undersampling"
      ]
    },
    {
      "cell_type": "markdown",
      "metadata": {
        "id": "Fh6VZN5Fx7wl"
      },
      "source": [
        "https://imbalanced-learn.org/stable/references/generated/imblearn.under_sampling.NearMiss.html"
      ]
    },
    {
      "cell_type": "markdown",
      "metadata": {},
      "source": [
        "Ya tenemos una pipeline para la validación de nuestro modelo de *oversampling*(sobremuestreo), sin embargo, mencionamos que si existe un *oversampling* debe existir también un *undersampling* (submuestreo). Este es un método en el cual, en lugar de generar datos sintéticos, ¿por qué no tomar la clase que tiene, digamos, la mayoría y reducirla, de modo que podamos tener los datos más parecidos a la clase de minoría? Pero también es importante que el patrón de datos allí no disminuya de forma aleatoria, sino que el patrón de datos que utilice para hacer esta disminución, se asemeje o tenga unas características que faciliten, de cierta forma, esta generalización a la hora de modelar.\n",
        "\n",
        "Para ello, la misma biblioteca IMB Learn, nos trae un método que se llama NearMist, que tiene varias versiones. De hecho, voy a dejar una actividad asociada a este video, en la cual podrás entender mucho mejor en qué consiste este método. Pero básicamente es un algoritmo que hace esta reducción de muestras, de forma inteligente, para poder generalizar bien con el conjunto de datos."
      ]
    },
    {
      "cell_type": "code",
      "execution_count": 62,
      "metadata": {
        "id": "lUn59uqAO63N"
      },
      "outputs": [],
      "source": [
        "from imblearn.under_sampling import NearMiss"
      ]
    },
    {
      "cell_type": "code",
      "execution_count": 63,
      "metadata": {
        "id": "pOUKHwqRO6zb"
      },
      "outputs": [],
      "source": [
        "modelo = DecisionTreeClassifier(max_depth=10)\n",
        "pipeline = imbpipeline([('undersample', NearMiss(version=3)), ('arbol', modelo)])\n",
        "skf = StratifiedKFold(n_splits=5, shuffle=True, random_state=5)\n",
        "cv_resultados = cross_validate(pipeline, X, y, cv=skf, scoring='recall')"
      ]
    },
    {
      "cell_type": "code",
      "execution_count": 64,
      "metadata": {
        "id": "ykn9H4kFO6so"
      },
      "outputs": [
        {
          "data": {
            "text/plain": [
              "'El intervalo de confianza es: [0.6246087947142458, 0.6993951778761258]'"
            ]
          },
          "execution_count": 64,
          "metadata": {},
          "output_type": "execute_result"
        }
      ],
      "source": [
        "intervalo_confianza(cv_resultados)"
      ]
    },
    {
      "cell_type": "markdown",
      "metadata": {},
      "source": [
        "*Observa que este **undersampling**, que lo que hizo fue entrenar nuestro modelo, lógicamente con datos ya balanceados, siguiendo la técnica **NearMist** en su versión 3, pero a la hora de validar utilizó datos completamente desbalanceados, nos trajo unos resultados bastante interesantes con un árbol de decisión de profundidad 10.*"
      ]
    },
    {
      "cell_type": "markdown",
      "metadata": {
        "id": "EP-44U0eHt-a"
      },
      "source": [
        "### Probando el modelo"
      ]
    },
    {
      "cell_type": "code",
      "execution_count": 65,
      "metadata": {
        "id": "XWhZlwOTO8eN"
      },
      "outputs": [],
      "source": [
        "undersample = NearMiss(version=3)\n",
        "x_balanceada, y_balanceada = undersample.fit_resample(X, y)"
      ]
    },
    {
      "cell_type": "markdown",
      "metadata": {},
      "source": [
        "Después de hacer nuestro modelo, vamos a hacer nuestro Fit, entonces modelo.Fit y vamos a tomar nuestra `X_balanceada` y nuestra `Y_balanceada`. Hacemos el Fit y hacemos nuestro `Y_previsto`, entonces `Y_previsto` va a ser igual a modelo.predict y ahora sí vamos a pasar nuestra `X_test`. Hasta el momento hemos trabajado, habíamos trabajado todo el tiempo con `X_validación` pero ahora vamos a hacer nuestra prueba con nuestra `X_test`. Entonces estos son datos de prueba que nuestro modelo nunca vio. Estamos simulando datos de la vida real para ver cómo va a desempeñarse nuestro modelo y después vamos a hacer el reporte."
      ]
    },
    {
      "cell_type": "code",
      "execution_count": 66,
      "metadata": {
        "id": "gZHVqM6hO8bt"
      },
      "outputs": [
        {
          "name": "stdout",
          "output_type": "stream",
          "text": [
            "              precision    recall  f1-score   support\n",
            "\n",
            "    Cumplido       0.94      0.48      0.64      7397\n",
            "      Moroso       0.11      0.70      0.20       707\n",
            "\n",
            "    accuracy                           0.50      8104\n",
            "   macro avg       0.53      0.59      0.42      8104\n",
            "weighted avg       0.87      0.50      0.60      8104\n",
            "\n"
          ]
        },
        {
          "data": {
            "image/png": "[encoded data removed]",
            "text/plain": [
              "<Figure size 640x480 with 2 Axes>"
            ]
          },
          "metadata": {},
          "output_type": "display_data"
        }
      ],
      "source": [
        "modelo = DecisionTreeClassifier(max_depth=10)\n",
        "modelo.fit(x_balanceada, y_balanceada)\n",
        "y_previsto = modelo.predict(X_test)\n",
        "\n",
        "print(classification_report(y_test, y_previsto, target_names=['Cumplido', 'Moroso']))\n",
        "ConfusionMatrixDisplay.from_predictions(y_test, y_previsto);"
      ]
    },
    {
      "cell_type": "markdown",
      "metadata": {},
      "source": [
        "*Entonces nota que aquí está nuestro modelo final ya probado con datos que nunca vio, lo entrenamos siguiendo las mejores prácticas, trabajamos lógicamente con un modelo de undersampling. O sea todo siguiendo todos estos patrones y llegamos entonces a este modelo interesante que logra predecir de forma correcta, 495 casos en los cuales se trata de un cliente moroso.*"
      ]
    },
    {
      "cell_type": "markdown",
      "metadata": {},
      "source": [
        "Ahora, están identificando correctamente a los clientes morosos, pero a cambio, podrían terminar prediciendo que clientes que son posiblemente buenos pagadores sean morosos. Por eso, estoy teniendo esta cantidad de falsos positivos (3831).\n",
        "\n",
        "Para la empresa, esto representa lógicamente un riesgo que va a asumir. La idea es que no vamos a financiar a tantas personas, pero a cambio, nos aseguraremos de identificar a los morosos antes de conocer las características de estos clientes morosos antes de prestarles. Vamos a proceder con pasos un poco más seguros aquí, trabajando con este modelo de *Machine Learning* (Aprendizaje Automático) para identificar a clientes morosos."
      ]
    },
    {
      "cell_type": "markdown",
      "metadata": {},
      "source": [
        "# **Desafío: otros métodos de balanceo**"
      ]
    },
    {
      "cell_type": "markdown",
      "metadata": {},
      "source": [
        "Durante la clase, exploramos dos estrategias de balanceo de datos: *oversampling* y *undersampling*. En cada una de ellas utilizamos un algoritmo diferente, el **SMOTE** para generar nuevos datos sintéticos y el NearMiss para mantener datos que tienen un patrón cercano entre las clases."
      ]
    },
    {
      "cell_type": "markdown",
      "metadata": {},
      "source": [
        "Estos no son los únicos algoritmos existentes y el oversampling y undersampling no necesitan ser utilizados de manera aislada. Es posible combinar las dos estrategias en una sola para equilibrar los puntos negativos de cada una de ellas. Esto no quiere decir que esta estrategia sea más efectiva en todas las ocasiones, pero es una opción que puede ser explorada en los proyectos."
      ]
    },
    {
      "cell_type": "markdown",
      "metadata": {},
      "source": [
        "Como desafío, utiliza el algoritmo **SMOTEENN**, que combina el *oversampling* con **SMOTE** y el *undersampling* con el **ENN** (*Edited Nearest Neighbours*), para balancear los datos y observa los resultados obtenidos por el modelo usando el pipeline y la validación cruzada."
      ]
    },
    {
      "cell_type": "markdown",
      "metadata": {},
      "source": [
        "> *Como un consejo, revisa la documentación del método **SMOTEENN** a partir de este [enlace](https://imbalanced-learn.org/stable/references/generated/imblearn.combine.SMOTEENN.html) para identificar cómo importar el método y cómo utilizarlo.*"
      ]
    },
    {
      "cell_type": "markdown",
      "metadata": {},
      "source": [
        "Como primer paso, vamos a importar el método **SMOTEENN** desde la sección combine de la biblioteca `imblearn`. Los pasos para utilizar el método con la validación cruzada son los mismos. Debemos instanciar el modelo y crear un pipeline con los pasos de balanceo de los datos y ajuste del modelo."
      ]
    },
    {
      "cell_type": "code",
      "execution_count": 67,
      "metadata": {},
      "outputs": [],
      "source": [
        "from imblearn.combine import SMOTEENN\n",
        "\n",
        "modelo = DecisionTreeClassifier(max_depth = 10)\n",
        "pipeline = imbpipeline([('smoteenn', SMOTEENN()), ('arbol', modelo)])"
      ]
    },
    {
      "cell_type": "markdown",
      "metadata": {},
      "source": [
        "Después de eso, podemos utilizar la validación cruzada con el `StratifiedKFold` para mantener la proporción en los datos y utilizar el método `cross_validate` con el pipeline, evaluando el rendimiento con la métrica recall y generando el intervalo de confianza de esa métrica:"
      ]
    },
    {
      "cell_type": "code",
      "execution_count": 74,
      "metadata": {
        "id": "QSrpOQpxO8WT"
      },
      "outputs": [
        {
          "data": {
            "text/plain": [
              "'El intervalo de confianza es: [0.32673202245474775, 0.4016305916093431]'"
            ]
          },
          "execution_count": 74,
          "metadata": {},
          "output_type": "execute_result"
        }
      ],
      "source": [
        "skf = StratifiedKFold(n_splits=5, shuffle = True, random_state = 5)\n",
        "cv_resultados = cross_validate(pipeline, X, y, cv=skf, scoring = 'recall')\n",
        "intervalo_confianza(cv_resultados)"
      ]
    },
    {
      "cell_type": "markdown",
      "metadata": {},
      "source": [
        "El recall de este modelo estuvo alrededor de 0.3 a 0.4, un poco mejor que el resultado usando solamente el *oversampling*,* pero peor que el resultado del undersampling. Por lo tanto, esta estrategia no fue tan eficiente para este caso, pero eso no significa que no pueda ser utilizada en otros proyectos."
      ]
    },
    {
      "cell_type": "markdown",
      "metadata": {},
      "source": [
        "# **Conclusión**"
      ]
    },
    {
      "cell_type": "markdown",
      "metadata": {},
      "source": [
        "A lo largo de este entrenamiento, trabajamos con un modelo sencillo de árbol de decisión al cual aplicamos diversas técnicas para evaluarlo desde todos los puntos de vista.\n",
        "\n",
        "Primero, separamos nuestra base en una base de pruebas que nuestro modelo nunca vio y también dejamos una base para entrenamiento y validación, con la cual trabajamos con las métricas de precisión, sensibilidad y exactitud.\n",
        "\n",
        "Estuvimos trabajando con la matriz de confusión, explicando su funcionamiento y, adicionalmente, con la curva ROC, comprendiendo en qué consiste el área bajo la curva. De la misma manera, analizamos cómo podemos comparar la tasa de verdaderos positivos y la tasa de falsos positivos cuando queremos priorizar, por ejemplo, una métrica sobre la otra. En nuestro caso, la métrica que más impactaba el problema de negocios era el recall (tasa de acierto). Queríamos mejorar esa tasa de acierto para poder detectar de forma efectiva a los clientes morosos, de modo que la empresa financiera de automóviles no siguiera perdiendo dinero prestando a personas que no iban a pagar."
      ]
    }
  ],
  "metadata": {
    "colab": {
      "include_colab_link": true,
      "provenance": []
    },
    "kernelspec": {
      "display_name": ".venv",
      "language": "python",
      "name": "python3"
    },
    "language_info": {
      "codemirror_mode": {
        "name": "ipython",
        "version": 3
      },
      "file_extension": ".py",
      "mimetype": "text/x-python",
      "name": "python",
      "nbconvert_exporter": "python",
      "pygments_lexer": "ipython3",
      "version": "3.13.5"
    }
  },
  "nbformat": 4,
  "nbformat_minor": 0
}
