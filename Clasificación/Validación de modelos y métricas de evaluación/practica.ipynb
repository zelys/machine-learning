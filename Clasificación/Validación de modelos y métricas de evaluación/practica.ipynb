{
 "cells": [
  {
   "cell_type": "markdown",
   "id": "f0b30358",
   "metadata": {},
   "source": [
    "# **Desafío: hora de la práctica**"
   ]
  },
  {
   "cell_type": "markdown",
   "id": "78f722fa",
   "metadata": {},
   "source": [
    "1 - Para la construcción de un modelo de machine learning se necesitan datos. Como tarea inicial, realiza la lectura de la base de datos de diabetes y divide los datos en variables explicativas y variable objetivo (x e y). La variable objetivo es la columna que quieres clasificar, que contiene la información de si el paciente tiene o no diabetes. Las variables explicativas son todas las columnas excepto la de diabetes. La separación de los datos se puede hacer con la selección de columnas con **pandas**."
   ]
  },
  {
   "cell_type": "markdown",
   "id": "52f16356",
   "metadata": {},
   "source": [
    "2 - Una etapa muy importante en proyectos de clasificación es la validación de los modelos, para identificar si hay una generalización del modelo para datos nuevos. Realiza la división de los datos entre entrenamiento, validación y prueba. Utiliza el 5% de los datos para prueba y con el resto, deja el 25% para validación. En el momento de la separación, usa el parámetro stratify a partir de la variable objetivo para mantener la proporción de los datos."
   ]
  },
  {
   "cell_type": "markdown",
   "id": "a0d77faa",
   "metadata": {},
   "source": [
    "3 - La etapa de modelado de datos consiste en utilizar un algoritmo capaz de identificar patrones en los datos y clasificar los valores. A partir del modelo es posible extraer una tasa de acierto para entender su desempeño. Crea 2 modelos utilizando los algoritmos [DecisionTreeClassifier](https://scikit-learn.org/stable/modules/generated/sklearn.tree.DecisionTreeClassifier.html) y [RandomForestClassifier](https://scikit-learn.org/stable/modules/generated/sklearn.ensemble.RandomForestClassifier.html) y evalúa la precisión de entrenamiento y prueba, eligiendo el valor 3 para el parámetro `max_depth` del algoritmo `DecisionTreeClassifier` y el valor 2 para el `max_depth` del algoritmo `RandomForestClassifier`, para que los modelos no se especialicen demasiado en el patrón de los datos de entrenamiento."
   ]
  },
  {
   "cell_type": "markdown",
   "id": "a6b164fc",
   "metadata": {},
   "source": [
    "4 - La tasa de acierto generalmente no proporciona información suficiente para entender el comportamiento del modelo. La matriz de confusión es una herramienta más completa, capaz de proporcionar los aciertos y errores del modelo para cada clase. Construye una matriz de confusión para cada uno de los modelos para evaluar el desempeño de la predicción. Para construir la matriz, usa el método `predict` para generar las predicciones de los valores y comparar con los valores reales de la base de datos."
   ]
  },
  {
   "cell_type": "code",
   "execution_count": null,
   "id": "68d1cfe4",
   "metadata": {},
   "outputs": [
    {
     "data": {
      "text/html": [
       "<div>\n",
       "<style scoped>\n",
       "    .dataframe tbody tr th:only-of-type {\n",
       "        vertical-align: middle;\n",
       "    }\n",
       "\n",
       "    .dataframe tbody tr th {\n",
       "        vertical-align: top;\n",
       "    }\n",
       "\n",
       "    .dataframe thead th {\n",
       "        text-align: right;\n",
       "    }\n",
       "</style>\n",
       "<table border=\"1\" class=\"dataframe\">\n",
       "  <thead>\n",
       "    <tr style=\"text-align: right;\">\n",
       "      <th></th>\n",
       "      <th>glicemia</th>\n",
       "      <th>presion_sanguinea</th>\n",
       "      <th>grasa_subcutanea_triceps</th>\n",
       "      <th>insulina</th>\n",
       "      <th>imc</th>\n",
       "      <th>diabetes</th>\n",
       "    </tr>\n",
       "  </thead>\n",
       "  <tbody>\n",
       "    <tr>\n",
       "      <th>0</th>\n",
       "      <td>66</td>\n",
       "      <td>23</td>\n",
       "      <td>94</td>\n",
       "      <td>28.1</td>\n",
       "      <td>0.167</td>\n",
       "      <td>0</td>\n",
       "    </tr>\n",
       "    <tr>\n",
       "      <th>1</th>\n",
       "      <td>40</td>\n",
       "      <td>35</td>\n",
       "      <td>168</td>\n",
       "      <td>43.1</td>\n",
       "      <td>2.288</td>\n",
       "      <td>1</td>\n",
       "    </tr>\n",
       "    <tr>\n",
       "      <th>2</th>\n",
       "      <td>50</td>\n",
       "      <td>32</td>\n",
       "      <td>88</td>\n",
       "      <td>31.0</td>\n",
       "      <td>0.248</td>\n",
       "      <td>1</td>\n",
       "    </tr>\n",
       "    <tr>\n",
       "      <th>3</th>\n",
       "      <td>70</td>\n",
       "      <td>45</td>\n",
       "      <td>543</td>\n",
       "      <td>30.5</td>\n",
       "      <td>0.158</td>\n",
       "      <td>1</td>\n",
       "    </tr>\n",
       "    <tr>\n",
       "      <th>4</th>\n",
       "      <td>60</td>\n",
       "      <td>23</td>\n",
       "      <td>846</td>\n",
       "      <td>30.1</td>\n",
       "      <td>0.398</td>\n",
       "      <td>1</td>\n",
       "    </tr>\n",
       "    <tr>\n",
       "      <th>...</th>\n",
       "      <td>...</td>\n",
       "      <td>...</td>\n",
       "      <td>...</td>\n",
       "      <td>...</td>\n",
       "      <td>...</td>\n",
       "      <td>...</td>\n",
       "    </tr>\n",
       "    <tr>\n",
       "      <th>389</th>\n",
       "      <td>88</td>\n",
       "      <td>44</td>\n",
       "      <td>510</td>\n",
       "      <td>43.3</td>\n",
       "      <td>0.222</td>\n",
       "      <td>1</td>\n",
       "    </tr>\n",
       "    <tr>\n",
       "      <th>390</th>\n",
       "      <td>88</td>\n",
       "      <td>39</td>\n",
       "      <td>110</td>\n",
       "      <td>36.5</td>\n",
       "      <td>1.057</td>\n",
       "      <td>1</td>\n",
       "    </tr>\n",
       "    <tr>\n",
       "      <th>391</th>\n",
       "      <td>58</td>\n",
       "      <td>26</td>\n",
       "      <td>16</td>\n",
       "      <td>28.4</td>\n",
       "      <td>0.766</td>\n",
       "      <td>0</td>\n",
       "    </tr>\n",
       "    <tr>\n",
       "      <th>392</th>\n",
       "      <td>76</td>\n",
       "      <td>48</td>\n",
       "      <td>180</td>\n",
       "      <td>32.9</td>\n",
       "      <td>0.171</td>\n",
       "      <td>0</td>\n",
       "    </tr>\n",
       "    <tr>\n",
       "      <th>393</th>\n",
       "      <td>72</td>\n",
       "      <td>23</td>\n",
       "      <td>112</td>\n",
       "      <td>26.2</td>\n",
       "      <td>0.245</td>\n",
       "      <td>0</td>\n",
       "    </tr>\n",
       "  </tbody>\n",
       "</table>\n",
       "<p>394 rows × 6 columns</p>\n",
       "</div>"
      ],
      "text/plain": [
       "     glicemia  presion_sanguinea  grasa_subcutanea_triceps  insulina    imc  \\\n",
       "0          66                 23                        94      28.1  0.167   \n",
       "1          40                 35                       168      43.1  2.288   \n",
       "2          50                 32                        88      31.0  0.248   \n",
       "3          70                 45                       543      30.5  0.158   \n",
       "4          60                 23                       846      30.1  0.398   \n",
       "..        ...                ...                       ...       ...    ...   \n",
       "389        88                 44                       510      43.3  0.222   \n",
       "390        88                 39                       110      36.5  1.057   \n",
       "391        58                 26                        16      28.4  0.766   \n",
       "392        76                 48                       180      32.9  0.171   \n",
       "393        72                 23                       112      26.2  0.245   \n",
       "\n",
       "     diabetes  \n",
       "0           0  \n",
       "1           1  \n",
       "2           1  \n",
       "3           1  \n",
       "4           1  \n",
       "..        ...  \n",
       "389         1  \n",
       "390         1  \n",
       "391         0  \n",
       "392         0  \n",
       "393         0  \n",
       "\n",
       "[394 rows x 6 columns]"
      ]
     },
     "execution_count": 1,
     "metadata": {},
     "output_type": "execute_result"
    }
   ],
   "source": [
    "import pandas as pd\n",
    "\n",
    "datos = pd.read_csv('../data/diabetes.csv')\n",
    "datos"
   ]
  },
  {
   "cell_type": "code",
   "execution_count": 2,
   "id": "a3765ba5",
   "metadata": {},
   "outputs": [],
   "source": [
    "# Tarea 1: Dividir los datos en variables explicativas y variable objetivo\n",
    "X = datos.drop(columns=['diabetes'], axis=1)\n",
    "y = datos.diabetes"
   ]
  },
  {
   "cell_type": "code",
   "execution_count": 3,
   "id": "fb6df3da",
   "metadata": {},
   "outputs": [],
   "source": [
    "# Traea 2: Realizar la división de los datos en entrenamiento, validación y prueba\n",
    "from sklearn.model_selection import train_test_split\n",
    "\n",
    "X, X_test, y, y_test = train_test_split(X, y, test_size=0.15, stratify=y, random_state=5)\n",
    "X_train, X_val, y_train, y_val = train_test_split(X, y, stratify=y, random_state=5)"
   ]
  },
  {
   "cell_type": "code",
   "execution_count": 4,
   "id": "34486a56",
   "metadata": {},
   "outputs": [],
   "source": [
    "# Tarea 3: Construir modelos y evaluar la precisión\n",
    "\n",
    "# Importar los modelos\n",
    "from sklearn.tree import DecisionTreeClassifier\n",
    "from sklearn.ensemble import RandomForestClassifier"
   ]
  },
  {
   "cell_type": "code",
   "execution_count": 5,
   "id": "8d478e59",
   "metadata": {},
   "outputs": [
    {
     "name": "stdout",
     "output_type": "stream",
     "text": [
      "La exactitud del modelo Decision Tree con el conjunto de entrenamiento es: 76.40%\n",
      "La exactitud del modelo Decision Tree con el conjunto de validación es: 63.10%\n",
      "La exactitud del modelo Random Forest con el conjunto de entrenamiento es: 76.80%\n",
      "La exactitud del modelo Random Forest con el conjunto de validación es: 65.48%\n"
     ]
    }
   ],
   "source": [
    "# Construir los modelos\n",
    "modelo_dt = DecisionTreeClassifier(max_depth=3, random_state=5)\n",
    "modelo_rf = RandomForestClassifier(max_depth=2, random_state=5)\n",
    "# Ajustar los modelos\n",
    "modelo_dt.fit(X_train, y_train)\n",
    "modelo_rf.fit(X_train, y_train)\n",
    "# Evaluar los modelos\n",
    "print(f'La exactitud del modelo Decision Tree con el conjunto de entrenamiento es: {modelo_dt.score(X_train, y_train):.2%}')\n",
    "print(f'La exactitud del modelo Decision Tree con el conjunto de validación es: {modelo_dt.score(X_val, y_val):.2%}')\n",
    "print(f'La exactitud del modelo Random Forest con el conjunto de entrenamiento es: {modelo_rf.score(X_train, y_train):.2%}')\n",
    "print(f'La exactitud del modelo Random Forest con el conjunto de validación es: {modelo_rf.score(X_val, y_val):.2%}')"
   ]
  },
  {
   "cell_type": "code",
   "execution_count": 6,
   "id": "ebc2aa05",
   "metadata": {},
   "outputs": [
    {
     "name": "stdout",
     "output_type": "stream",
     "text": [
      "Matriz de confusión para el modelo Decision Tree:\n",
      "[[48  8]\n",
      " [23  5]]\n",
      "Matriz de confusión para el modelo Random Forest:\n",
      "[[50  6]\n",
      " [23  5]]\n"
     ]
    }
   ],
   "source": [
    "# Tarea 4: Construir la matriz de confusión\n",
    "from sklearn.metrics import confusion_matrix, ConfusionMatrixDisplay\n",
    "# Evaluar los modelos con el conjunto de validación\n",
    "y_prev_dt = modelo_dt.predict(X_val)\n",
    "y_prev_rf = modelo_rf.predict(X_val)\n",
    "\n",
    "print(f'Matriz de confusión para el modelo Decision Tree:\\n{confusion_matrix(y_val, y_prev_dt)}')\n",
    "print(f'Matriz de confusión para el modelo Random Forest:\\n{confusion_matrix(y_val, y_prev_rf)}')"
   ]
  },
  {
   "cell_type": "code",
   "execution_count": 7,
   "id": "46b69487",
   "metadata": {},
   "outputs": [
    {
     "data": {
      "image/png": "[encoded data removed]",
      "text/plain": [
       "<Figure size 640x480 with 2 Axes>"
      ]
     },
     "metadata": {},
     "output_type": "display_data"
    }
   ],
   "source": [
    "# Visualización de la matriz de confusión para el modelo Decision Tree\n",
    "ConfusionMatrixDisplay.from_predictions(y_val, y_prev_dt, display_labels=['No diabetes', 'Diabetes']);"
   ]
  },
  {
   "cell_type": "code",
   "execution_count": 8,
   "id": "0f821136",
   "metadata": {},
   "outputs": [
    {
     "data": {
      "image/png": "[encoded data removed]",
      "text/plain": [
       "<Figure size 640x480 with 2 Axes>"
      ]
     },
     "metadata": {},
     "output_type": "display_data"
    }
   ],
   "source": [
    "# Visualización de la matriz de confusión para el modelo Random Forest\n",
    "ConfusionMatrixDisplay.from_predictions(y_val, y_prev_rf, display_labels=['No diabetes', 'Diabetes']);"
   ]
  },
  {
   "cell_type": "markdown",
   "id": "0a7c16d2",
   "metadata": {},
   "source": [
    "# **Desafío: hora de la práctica**"
   ]
  },
  {
   "cell_type": "markdown",
   "id": "f93a02da",
   "metadata": {},
   "source": [
    "1 - Para una evaluación completa de un modelo de clasificación, podemos explorar métricas que evalúan la tasa de acierto general y también para cada clase de la variable objetivo de forma individual. Extrae las métricas de precisión, recall, precisión y F1-Score de los modelos de clasificación generados en el desafío de la clase 1. La biblioteca Scikit-Learn tiene funciones para calcular cada una de las métricas, solo necesitas importar y utilizar como parámetros los valores reales y previstos por el modelo."
   ]
  },
  {
   "cell_type": "markdown",
   "id": "ae7b7153",
   "metadata": {},
   "source": [
    "2 - Además de métricas numéricas, se pueden explorar gráficos para evaluar el rendimiento de un modelo y comprender si puede diferenciar bien una clase de otra. Obtén la curva ROC y la métrica AUC de los modelos de clasificación generados en el desafío de la clase 1, comparando las curvas en el mismo gráfico. La curva ROC se puede generar usando el método [RocCurveDisplay.from_predictions](https://scikit-learn.org/stable/modules/generated/sklearn.metrics.RocCurveDisplay.html#sklearn.metrics.RocCurveDisplay.from_predictions)."
   ]
  },
  {
   "cell_type": "markdown",
   "id": "408615b8",
   "metadata": {},
   "source": [
    "3 - Además de la curva ROC, la curva de precisión x recall se puede usar para evaluar el rendimiento de modelos, siendo más interesante para datos desbalanceados. Obtén la curva de precisión x recall y la métrica AP de los modelos de clasificación generados en el desafío de la clase 1, comparando las curvas en el mismo gráfico. La curva de precisión x recall se puede generar usando el método [PrecisionRecallDisplay.from_predictions](https://scikit-learn.org/stable/modules/generated/sklearn.metrics.PrecisionRecallDisplay.html#sklearn.metrics.PrecisionRecallDisplay.from_predictions)."
   ]
  },
  {
   "cell_type": "markdown",
   "id": "772bdb7d",
   "metadata": {},
   "source": [
    "4 - Un resumen de las principales métricas de clasificación puede ser muy útil para resumir la información y generar insights de forma rápida. Genera los informes de métricas de los modelos de clasificación construidos en el desafío de la clase 1. El informe de métricas se puede generar a partir de la función [classification_report](https://scikit-learn.org/stable/modules/generated/sklearn.metrics.classification_report.html) de la biblioteca Scikit-Learn."
   ]
  },
  {
   "cell_type": "markdown",
   "id": "fb3f083e",
   "metadata": {},
   "source": [
    "> *Como consejo, revisa la documentación de Scikit-learn desde este [enlace](https://scikit-learn.org/stable/auto_examples/release_highlights/plot_release_highlights_0_22_0.html#new-plotting-api) y verifica una forma de presentar los resultados de las curvas en el mismo gráfico usando matplotlib.*"
   ]
  },
  {
   "cell_type": "code",
   "execution_count": 9,
   "id": "ed3cfd89",
   "metadata": {},
   "outputs": [],
   "source": [
    "# Tarea 1: Importar las métricas de evaluación\n",
    "from sklearn.metrics import accuracy_score, precision_score, recall_score, f1_score"
   ]
  },
  {
   "cell_type": "code",
   "execution_count": 10,
   "id": "8d2ea7e6",
   "metadata": {},
   "outputs": [
    {
     "name": "stdout",
     "output_type": "stream",
     "text": [
      "La precisión del modelo tree es: 38.46%\n",
      "La sensibilidad del modelo tree es: 17.86%\n",
      "La exactitud del modelo tree es: 63.10%\n",
      "El F1-score del modelo tree es: 24.39%\n"
     ]
    }
   ],
   "source": [
    "print(f'La precisión del modelo tree es: {precision_score(y_val, y_prev_dt):.2%}')\n",
    "print(f'La sensibilidad del modelo tree es: {recall_score(y_val, y_prev_dt):.2%}')\n",
    "print(f'La exactitud del modelo tree es: {accuracy_score(y_val, y_prev_dt):.2%}')\n",
    "print(f'El F1-score del modelo tree es: {f1_score(y_val, y_prev_dt):.2%}')"
   ]
  },
  {
   "cell_type": "code",
   "execution_count": 11,
   "id": "86301808",
   "metadata": {},
   "outputs": [
    {
     "name": "stdout",
     "output_type": "stream",
     "text": [
      "La precisión del modelo forest es: 45.45%\n",
      "La sensibilidad del modelo forest es: 17.86%\n",
      "La exactitud del modelo forest es: 65.48%\n",
      "El F1-score del modelo forest es: 25.64%\n"
     ]
    }
   ],
   "source": [
    "print(f'La precisión del modelo forest es: {precision_score(y_val, y_prev_rf):.2%}')\n",
    "print(f'La sensibilidad del modelo forest es: {recall_score(y_val, y_prev_rf):.2%}')\n",
    "print(f'La exactitud del modelo forest es: {accuracy_score(y_val, y_prev_rf):.2%}')\n",
    "print(f'El F1-score del modelo forest es: {f1_score(y_val, y_prev_rf):.2%}')"
   ]
  },
  {
   "cell_type": "code",
   "execution_count": 12,
   "id": "6cf8f5cc",
   "metadata": {},
   "outputs": [
    {
     "data": {
      "image/png": "[encoded data removed]",
      "text/plain": [
       "<Figure size 640x480 with 1 Axes>"
      ]
     },
     "metadata": {},
     "output_type": "display_data"
    }
   ],
   "source": [
    "# Tarea 2: Evaluar el rendimiento del modelo con gráficos\n",
    "from sklearn.metrics import RocCurveDisplay, PrecisionRecallDisplay\n",
    "\n",
    "# Visualización de la curva de ROC\n",
    "RocCurveDisplay.from_predictions(y_val, y_prev_dt, name='Árbol de Decisión');"
   ]
  },
  {
   "cell_type": "code",
   "execution_count": 13,
   "id": "1f991883",
   "metadata": {},
   "outputs": [
    {
     "data": {
      "image/png": "[encoded data removed]",
      "text/plain": [
       "<Figure size 640x480 with 1 Axes>"
      ]
     },
     "metadata": {},
     "output_type": "display_data"
    }
   ],
   "source": [
    "RocCurveDisplay.from_predictions(y_val, y_prev_rf, name='Random Forest');"
   ]
  },
  {
   "cell_type": "code",
   "execution_count": 14,
   "id": "f650a699",
   "metadata": {},
   "outputs": [
    {
     "data": {
      "image/png": "[encoded data removed]",
      "text/plain": [
       "<Figure size 640x480 with 1 Axes>"
      ]
     },
     "metadata": {},
     "output_type": "display_data"
    }
   ],
   "source": [
    "# Tarea 3: Visualización de la curva de precisión-recall\n",
    "PrecisionRecallDisplay.from_predictions(y_val, y_prev_dt, name='Árbol de decisión');"
   ]
  },
  {
   "cell_type": "code",
   "execution_count": 15,
   "id": "511d5906",
   "metadata": {},
   "outputs": [
    {
     "data": {
      "image/png": "[encoded data removed]",
      "text/plain": [
       "<Figure size 640x480 with 1 Axes>"
      ]
     },
     "metadata": {},
     "output_type": "display_data"
    }
   ],
   "source": [
    "PrecisionRecallDisplay.from_predictions(y_val, y_prev_rf, name='Random Forest');"
   ]
  },
  {
   "cell_type": "code",
   "execution_count": 16,
   "id": "8d9d9edc",
   "metadata": {},
   "outputs": [],
   "source": [
    "# Tarea 4: Resumen de las principales métricas de clasificación\n",
    "from sklearn.metrics import classification_report"
   ]
  },
  {
   "cell_type": "code",
   "execution_count": 17,
   "id": "c6bcf347",
   "metadata": {},
   "outputs": [
    {
     "name": "stdout",
     "output_type": "stream",
     "text": [
      "              precision    recall  f1-score   support\n",
      "\n",
      "    Diabetes       0.68      0.86      0.76        56\n",
      " No Diabetes       0.38      0.18      0.24        28\n",
      "\n",
      "    accuracy                           0.63        84\n",
      "   macro avg       0.53      0.52      0.50        84\n",
      "weighted avg       0.58      0.63      0.59        84\n",
      "\n"
     ]
    }
   ],
   "source": [
    "# Imprimir el reporte de clasificación para el modelo Decision Tree\n",
    "print(classification_report(y_val, y_prev_dt, target_names=['Diabetes', 'No Diabetes']))"
   ]
  },
  {
   "cell_type": "code",
   "execution_count": 18,
   "id": "bee452a8",
   "metadata": {},
   "outputs": [
    {
     "name": "stdout",
     "output_type": "stream",
     "text": [
      "              precision    recall  f1-score   support\n",
      "\n",
      "    Diabetes       0.68      0.89      0.78        56\n",
      " No Diabetes       0.45      0.18      0.26        28\n",
      "\n",
      "    accuracy                           0.65        84\n",
      "   macro avg       0.57      0.54      0.52        84\n",
      "weighted avg       0.61      0.65      0.60        84\n",
      "\n"
     ]
    }
   ],
   "source": [
    "# Imprimir el reporte de clasificación para el modelo Random Forest\n",
    "print(classification_report(y_val, y_prev_rf, target_names=['Diabetes', 'No Diabetes']))"
   ]
  },
  {
   "cell_type": "markdown",
   "id": "fb065a5f",
   "metadata": {},
   "source": [
    "# **Desafío: hora de la práctica**"
   ]
  },
  {
   "cell_type": "markdown",
   "id": "98490575",
   "metadata": {},
   "source": [
    "1 - En el proceso de validación cruzada, se generan diferentes modelos para cada división realizada en los datos y, en consecuencia, diferentes valores de métricas de evaluación. Para encontrar un resultado promedio de las métricas, se puede construir un intervalo de confianza a partir de la media y la desviación estándar de las métricas. Crea una función para calcular el intervalo de confianza de los resultados de una validación cruzada con 2 desviaciones estándar. La función necesita 2 parámetros: uno para recibir una lista con los resultados de las métricas de la validación cruzada y otro para recibir el nombre del algoritmo. Para generar el intervalo de confianza, extrae la media de los resultados de la lista y la desviación estándar. El intervalo de confianza debe ser presentado en un print con el valor mínimo siendo la media restada de 2 desviaciones estándar y el valor máximo siendo la media sumada de 2 desviaciones estándar. Ejemplo de retorno de la función:"
   ]
  },
  {
   "cell_type": "markdown",
   "id": "508a6676",
   "metadata": {},
   "source": [
    "> Intervalo de confianza (\"nombre del modelo\"): [\"valor mínimo del intervalo\", \"valor máximo del intervalo\"]"
   ]
  },
  {
   "cell_type": "markdown",
   "id": "9641d625",
   "metadata": {},
   "source": [
    "2 - KFold es la estrategia más simple de validación cruzada, que permite la división aleatoria de los datos en k partes, siendo utilizada una parte para validación y el resto para entrenamiento del modelo. El proceso de creación de modelos se repite hasta que todas las partes son utilizadas como validación. Sabiendo esto, evalúa el desempeño de los modelos con un intervalo de confianza utilizando la validación cruzada con el método [KFold](https://scikit-learn.org/stable/modules/generated/sklearn.model_selection.KFold.html), usando 10 partes, con el uso del parámetro `n_splits` y mezclando los datos antes de la separación con el parámetro `shuffle`. Usa el método [cross_val_score](https://scikit-learn.org/stable/modules/generated/sklearn.model_selection.cross_val_score.html) que no retorna el tiempo de ejecución, solo las métricas."
   ]
  },
  {
   "cell_type": "markdown",
   "id": "325ed75e",
   "metadata": {},
   "source": [
    "3 - En el proceso de división de datos con el KFold aleatorio, puede ser que la proporción de cada categoría de la variable objetivo no se mantenga en cada una de las partes de los datos. Para mantener esa proporción en cada una de las partes, podemos utilizar el KFold estratificado, haciendo que el proceso de validación de datos sea mucho más consistente. Evalúa el desempeño de los modelos con un intervalo de confianza utilizando la validación cruzada (`cross_val_score`) con el método [StratifiedKFold](https://scikit-learn.org/stable/modules/generated/sklearn.model_selection.StratifiedKFold.html#sklearn.model_selection.StratifiedKFold), usando el parámetro `n_splits` y mezclando los datos antes de la separación con el parámetro shuffle y evaluando la métrica F1-Score usando el parámetro `scoring`."
   ]
  },
  {
   "cell_type": "markdown",
   "id": "3c7af13d",
   "metadata": {},
   "source": [
    "4 - En conjuntos de datos con pocos registros (pocas filas), las estrategias de separación de los datos para validación pueden hacer que quede poca información en los datos de entrenamiento, haciendo que el modelo no comprenda bien el patrón de los datos. El LeaveOneOut es una estrategia para sortear este problema, utilizando solo un registro como dato de validación. Evalúa el desempeño de los modelos utilizando la validación cruzada (`cross_val_score`) con el método [LeaveOneOut](https://scikit-learn.org/stable/modules/generated/sklearn.model_selection.LeaveOneOut.html)."
   ]
  },
  {
   "cell_type": "markdown",
   "id": "a5dc5e89",
   "metadata": {},
   "source": [
    "> *El método LeaveOneOut generará un modelo para cada una de las filas de la base de datos, por lo tanto, la lista de resultados tendrá tasa de acierto solo de 0 o 1 para cada modelo. De esta forma, extrae solo la media del resultado con el método `mean()`, sin utilizar el intervalo de confianza.*"
   ]
  },
  {
   "cell_type": "markdown",
   "id": "7b29a77b",
   "metadata": {},
   "source": [
    "1 - A partir de los resultados, podemos extraer la media y la desviación estándar y generar el intervalo de confianza que está a una distancia de dos desviaciones estándar por debajo y por encima de esa media:"
   ]
  },
  {
   "cell_type": "code",
   "execution_count": 19,
   "id": "ae73e8ca",
   "metadata": {},
   "outputs": [],
   "source": [
    "def intervalo_conf(resultados, nombre_modelo):\n",
    "    media = resultados.mean()\n",
    "    desvio_estandar = resultados.std()\n",
    "    print(f'Intervalo de confianza ({nombre_modelo}): [{media - 2*desvio_estandar}, {min(media + 2*desvio_estandar, 1)}]')"
   ]
  },
  {
   "cell_type": "markdown",
   "id": "fccf2e6d",
   "metadata": {},
   "source": [
    "2 - El primer paso a realizar es importar la función cross_val_score y el método KFold:"
   ]
  },
  {
   "cell_type": "code",
   "execution_count": 20,
   "id": "a6918238",
   "metadata": {},
   "outputs": [],
   "source": [
    "from sklearn.model_selection import cross_val_score, KFold"
   ]
  },
  {
   "cell_type": "markdown",
   "id": "f287b3bf",
   "metadata": {},
   "source": [
    "Hecho esto, vamos a inicializar los modelos y utilizar el KFold con `n_splits=10` para generar una división de 10 partes. Además, utilizaremos el parámetro `shuffle=True` para barajar los datos antes de realizar la separación.\n",
    "\n",
    "Posteriormente, vamos a usar el método `cross_val_score` para realizar el procedimiento de validación cruzada con los dos modelos y generar el intervalo de confianza a partir de los resultados:"
   ]
  },
  {
   "cell_type": "code",
   "execution_count": 21,
   "id": "b839eb91",
   "metadata": {},
   "outputs": [
    {
     "name": "stdout",
     "output_type": "stream",
     "text": [
      "Intervalo de confianza (Decision Tree): [0.4980789379666014, 0.8717962848497979]\n",
      "Intervalo de confianza (Random Forest): [0.5129805025617129, 0.8993189626789289]\n"
     ]
    }
   ],
   "source": [
    "arbol = DecisionTreeClassifier(max_depth = 3)\n",
    "random_forest = RandomForestClassifier(max_depth = 2)\n",
    "\n",
    "kf = KFold(n_splits = 10, shuffle = True, random_state = 5)\n",
    "\n",
    "resultado_arbol = cross_val_score(arbol, X, y, cv = kf)\n",
    "resultado_rf = cross_val_score(random_forest, X, y, cv = kf)\n",
    "\n",
    "intervalo_conf(resultado_arbol, 'Decision Tree')\n",
    "intervalo_conf(resultado_rf, 'Random Forest')"
   ]
  },
  {
   "cell_type": "markdown",
   "id": "3c74648a",
   "metadata": {},
   "source": [
    "3 - El primer paso a realizar es importar la función `cross_val_score` y el método `StratifiedKFold`:"
   ]
  },
  {
   "cell_type": "code",
   "execution_count": 22,
   "id": "1472d3ba",
   "metadata": {},
   "outputs": [],
   "source": [
    "from sklearn.model_selection import cross_val_score, StratifiedKFold"
   ]
  },
  {
   "cell_type": "markdown",
   "id": "ba043f44",
   "metadata": {},
   "source": [
    "El paso sigue de forma muy parecida al desafío anterior, diferenciándose en la elección del método de validación que será estratificado, con el método StratifiedKFold. Además, la métrica de evaluación necesita ser alterada a f1, a partir del parámetro `scoring` de la función `cross_val_score`:"
   ]
  },
  {
   "cell_type": "code",
   "execution_count": 23,
   "id": "97eeae47",
   "metadata": {},
   "outputs": [
    {
     "name": "stdout",
     "output_type": "stream",
     "text": [
      "Intervalo de confianza (Decision Tree): [0.07111000888791685, 0.6370059845098103]\n",
      "Intervalo de confianza (Random Forest): [0.025566011552843215, 0.6565736135279582]\n"
     ]
    }
   ],
   "source": [
    "arbol = DecisionTreeClassifier(max_depth = 3)\n",
    "random_forest = RandomForestClassifier(max_depth = 2)\n",
    "\n",
    "skf = StratifiedKFold(n_splits = 10, shuffle = True, random_state = 5)\n",
    "\n",
    "resultado_arbol = cross_val_score(arbol, X, y, cv = skf, scoring = 'f1')\n",
    "resultado_rf = cross_val_score(random_forest, X, y, cv = skf, scoring =  'f1')\n",
    "\n",
    "intervalo_conf(resultado_arbol, 'Decision Tree')\n",
    "intervalo_conf(resultado_rf, 'Random Forest') "
   ]
  },
  {
   "cell_type": "markdown",
   "id": "2ccb130a",
   "metadata": {},
   "source": [
    "4 - El primer paso a realizar es importar la función `cross_val_score` y el método `LeaveOneOut`:"
   ]
  },
  {
   "cell_type": "code",
   "execution_count": 24,
   "id": "7e63daad",
   "metadata": {},
   "outputs": [],
   "source": [
    "from sklearn.model_selection import cross_val_score, LeaveOneOut"
   ]
  },
  {
   "cell_type": "markdown",
   "id": "36b73831",
   "metadata": {},
   "source": [
    "La construcción del código se da de forma muy parecida a los desafíos anteriores. Primero, los modelos son inicializados y luego se inicializa el método `LeaveOneOut`, sin la necesidad de definir parámetros, ya que recorre toda la base de datos hasta que todos los valores han sido elegidos como datos de validación y el resto como datos de entrenamiento.\n",
    "\n",
    "Aquí vamos a calcular solo la media de los resultados, por lo tanto, utilizaremos el método `mean()` en cada una de las listas de resultados para obtener la precisión media."
   ]
  },
  {
   "cell_type": "code",
   "execution_count": 25,
   "id": "836c7eea",
   "metadata": {},
   "outputs": [
    {
     "name": "stdout",
     "output_type": "stream",
     "text": [
      "Precisión media (Decision Tree): 0.6916167664670658\n",
      "Precisión media (Random Forest):0.688622754491018\n"
     ]
    }
   ],
   "source": [
    "arbol = DecisionTreeClassifier(max_depth = 3)\n",
    "random_forest = RandomForestClassifier(max_depth = 2)\n",
    "\n",
    "loo = LeaveOneOut()\n",
    "\n",
    "resultado_arbol = cross_val_score(arbol, X, y, cv = loo)\n",
    "resultado_rf = cross_val_score(random_forest, X, y, cv = loo)\n",
    "\n",
    "print(f'Precisión media (Decision Tree): {resultado_arbol.mean()}')\n",
    "print(f'Precisión media (Random Forest):{resultado_rf.mean()}') "
   ]
  },
  {
   "cell_type": "markdown",
   "id": "c6bd323b",
   "metadata": {},
   "source": [
    "# **Desafío: hora de la práctica**"
   ]
  },
  {
   "cell_type": "markdown",
   "id": "5cbad2fe",
   "metadata": {},
   "source": [
    "1 - El desbalanceo de los datos de la variable objetivo puede hacer que el modelo se incline a acertar los patrones de solo la categoría que tiene mayor cantidad, haciendo necesario en algunos casos un tratamiento específico de balanceo de datos. La etapa inicial es identificar si existe o no el desbalanceo de datos en la variable objetivo. Por eso, verifica la proporción de datos de la variable objetivo del conjunto de datos de diabetes. Este análisis puede hacerse a partir del porcentaje de datos, utilizando el método `value_counts(normalize=True)` o con la utilización de un gráfico de conteo, usando el gráfico countplot de la biblioteca `seaborn` para entender si hay un desbalanceo de datos."
   ]
  },
  {
   "cell_type": "markdown",
   "id": "f834a107",
   "metadata": {},
   "source": [
    "2 - Al realizar el balanceo de datos en una validación cruzada, es necesario utilizar un pipeline, para que los datos de validación no sean balanceados, manteniéndose en el estándar de los datos del mundo real. Utiliza un [`pipeline`](https://imbalanced-learn.org/stable/references/generated/imblearn.pipeline.Pipeline.html) que contenga el ajuste del modelo y el balanceo de los datos usando el oversampling con [**SMOTE**](https://imbalanced-learn.org/stable/references/generated/imblearn.over_sampling.SMOTE.html), obteniendo la media del F1-Score de una validación cruzada con `StratifiedKFold`."
   ]
  },
  {
   "cell_type": "markdown",
   "id": "f21b0961",
   "metadata": {},
   "source": [
    "3 - Además del oversampling, es posible utilizar la estrategia de undersampling para hacer el balanceo de los datos. A pesar de ser estrategias distintas, ambas requieren de un pipeline por tratarse de balanceo de datos en una validación cruzada. Utiliza un `pipeline` que contenga el ajuste del modelo y el balanceo de los datos usando el undersampling con `NearMiss` en su versión 3, obteniendo la media del F1-Score de una validación cruzada con `StratifiedKFold`."
   ]
  },
  {
   "cell_type": "markdown",
   "id": "9cd37739",
   "metadata": {},
   "source": [
    "4 - Después de realizar diversas análisis y mejorar el rendimiento de los modelos, llega la etapa final, que consiste en seleccionar el modelo con mejor rendimiento y hacer la evaluación final en un conjunto de datos de prueba, que no ha sido visto durante el proceso de entrenamiento y validación. Elige el modelo que obtuvo el mejor rendimiento al comparar las estrategias de oversampling y undersampling y entrena un modelo usando todos los datos con la mejor estrategia. Realiza la evaluación del modelo usando los datos de prueba que fueron separados al inicio de los desafíos, obteniendo el informe de métricas y matriz de confusión."
   ]
  },
  {
   "cell_type": "markdown",
   "id": "761f6852",
   "metadata": {},
   "source": [
    "## **Solución**"
   ]
  },
  {
   "cell_type": "markdown",
   "id": "2436e3dd",
   "metadata": {},
   "source": [
    "1 - Para chequear la proporción de los datos en la variable objetivo, podemos usar el método [`value_counts`](https://pandas.pydata.org/docs/reference/api/pandas.Series.value_counts.html) que realiza el conteo de los datos de cada categoría de la columna. También podemos usar el parámetro `normalize = True` para devolver el resultado en porcentaje:"
   ]
  },
  {
   "cell_type": "code",
   "execution_count": 26,
   "id": "6939e408",
   "metadata": {},
   "outputs": [
    {
     "data": {
      "text/plain": [
       "diabetes\n",
       "0    0.670051\n",
       "1    0.329949\n",
       "Name: proportion, dtype: float64"
      ]
     },
     "execution_count": 26,
     "metadata": {},
     "output_type": "execute_result"
    }
   ],
   "source": [
    "datos['diabetes'].value_counts(normalize = True)"
   ]
  },
  {
   "cell_type": "markdown",
   "id": "22f90fca",
   "metadata": {},
   "source": [
    "Otra forma de analizar es a través de un gráfico. Podemos usar el [`countplot()`](https://seaborn.pydata.org/generated/seaborn.countplot.html) de la biblioteca `seaborn`:"
   ]
  },
  {
   "cell_type": "code",
   "execution_count": 27,
   "id": "18f8a123",
   "metadata": {},
   "outputs": [
    {
     "data": {
      "image/png": "[encoded data removed]",
      "text/plain": [
       "<Figure size 640x480 with 1 Axes>"
      ]
     },
     "metadata": {},
     "output_type": "display_data"
    }
   ],
   "source": [
    "import seaborn as sns \n",
    "\n",
    "sns.countplot(datos, x = 'diabetes');"
   ]
  },
  {
   "cell_type": "markdown",
   "id": "00fea513",
   "metadata": {},
   "source": [
    "2 - El primer paso es importar el método Pipeline y el SMOTE para balancear los datos:"
   ]
  },
  {
   "cell_type": "code",
   "execution_count": 28,
   "id": "6fca1e9f",
   "metadata": {},
   "outputs": [],
   "source": [
    "from imblearn.pipeline import Pipeline as imbpipeline\n",
    "from imblearn.over_sampling import SMOTE"
   ]
  },
  {
   "cell_type": "markdown",
   "id": "84bf3326",
   "metadata": {},
   "source": [
    "Hecho esto, podemos inicializar el modelo, crear el pipeline con las tareas de oversampling y del modelo, y realizar la validación cruzada con el StratifiedKfold, obteniendo la media de la métrica F1-Score:"
   ]
  },
  {
   "cell_type": "code",
   "execution_count": 29,
   "id": "8175336c",
   "metadata": {},
   "outputs": [
    {
     "name": "stdout",
     "output_type": "stream",
     "text": [
      "F1 (Decision Tree):0.5843989318472077\n"
     ]
    }
   ],
   "source": [
    "arbol = DecisionTreeClassifier(max_depth = 3)\n",
    "pipeline = imbpipeline([('oversample', SMOTE()), ('arbol', arbol)])\n",
    "skf = StratifiedKFold(n_splits = 10, shuffle = True, random_state = 5)\n",
    "resultado_arbol = cross_val_score(pipeline, X, y, cv = skf, scoring = 'f1')\n",
    "print(f'F1 (Decision Tree):{resultado_arbol.mean()}')"
   ]
  },
  {
   "cell_type": "code",
   "execution_count": 30,
   "id": "eeb593ed",
   "metadata": {},
   "outputs": [
    {
     "name": "stdout",
     "output_type": "stream",
     "text": [
      "F1 (Random Forest):0.6181859869820889\n"
     ]
    }
   ],
   "source": [
    "random_forest = RandomForestClassifier(max_depth = 2)\n",
    "pipeline = imbpipeline([('oversample', SMOTE()), ('random_forest', random_forest)])\n",
    "skf = StratifiedKFold(n_splits = 10, shuffle = True, random_state = 5)\n",
    "resultado_rf = cross_val_score(pipeline, X, y, cv = skf, scoring = 'f1')\n",
    "print(f'F1 (Random Forest):{resultado_rf.mean()}') "
   ]
  },
  {
   "cell_type": "markdown",
   "id": "2c4efccf",
   "metadata": {},
   "source": [
    "3 - El primer paso es importar el método Pipeline y el NearMiss para balancear los datos:"
   ]
  },
  {
   "cell_type": "code",
   "execution_count": 31,
   "id": "8a073450",
   "metadata": {},
   "outputs": [],
   "source": [
    "from imblearn.pipeline import Pipeline as imbpipeline\n",
    "from imblearn.under_sampling import NearMiss"
   ]
  },
  {
   "cell_type": "markdown",
   "id": "7eb53ecc",
   "metadata": {},
   "source": [
    "Hecho esto, podemos inicializar el modelo, crear el pipeline con las tareas de undersampling y del modelo, y realizar la validación cruzada con el StratifiedKfold, obteniendo la media de la métrica F1-Score:"
   ]
  },
  {
   "cell_type": "code",
   "execution_count": 32,
   "id": "6c99ae2c",
   "metadata": {},
   "outputs": [
    {
     "name": "stdout",
     "output_type": "stream",
     "text": [
      "F1 (Decision Tree):0.5401336186163772\n"
     ]
    }
   ],
   "source": [
    "arbol = DecisionTreeClassifier(max_depth = 3)\n",
    "pipeline = imbpipeline([('undersample', NearMiss(version = 3)), ('arbol', arbol)])\n",
    "skf = StratifiedKFold(n_splits = 10, shuffle = True, random_state = 5)\n",
    "resultado_arbol = cross_val_score(pipeline, X, y, cv = skf, scoring = 'f1')\n",
    "print(f'F1 (Decision Tree):{resultado_arbol.mean()}') "
   ]
  },
  {
   "cell_type": "code",
   "execution_count": 33,
   "id": "738dc0d6",
   "metadata": {},
   "outputs": [
    {
     "name": "stdout",
     "output_type": "stream",
     "text": [
      "F1 (Random Forest):0.5913075073075074\n"
     ]
    }
   ],
   "source": [
    "random_forest = RandomForestClassifier(max_depth = 2)\n",
    "pipeline = imbpipeline([('undersample', NearMiss(version = 3)), ('random_forest', random_forest)])\n",
    "skf = StratifiedKFold(n_splits = 10, shuffle = True, random_state = 5)\n",
    "resultado_rf = cross_val_score(pipeline, X, y, cv = skf, scoring = 'f1')\n",
    "print(f'F1 (Random Forest):{resultado_rf.mean()}')"
   ]
  },
  {
   "cell_type": "markdown",
   "id": "e9edbaa2",
   "metadata": {},
   "source": [
    "4 - El modelo que obtuvo mayor rendimiento en las pruebas del desafío fue el RandomForest, usando el `max_depth = 2` en la estrategia de undersampling. Por lo tanto, vamos a balancear los datos y utilizar este modelo en todos los datos balanceados. Por último, vamos a validar el modelo en datos de prueba, no vistos hasta ahora:"
   ]
  },
  {
   "cell_type": "code",
   "execution_count": 38,
   "id": "b759f548",
   "metadata": {},
   "outputs": [
    {
     "name": "stdout",
     "output_type": "stream",
     "text": [
      "              precision    recall  f1-score   support\n",
      "\n",
      "           0       0.80      0.70      0.75        40\n",
      "           1       0.52      0.65      0.58        20\n",
      "\n",
      "    accuracy                           0.68        60\n",
      "   macro avg       0.66      0.68      0.66        60\n",
      "weighted avg       0.71      0.68      0.69        60\n",
      "\n"
     ]
    },
    {
     "data": {
      "image/png": "[encoded data removed]",
      "text/plain": [
       "<Figure size 640x480 with 2 Axes>"
      ]
     },
     "metadata": {},
     "output_type": "display_data"
    }
   ],
   "source": [
    "undersample = NearMiss(version = 3)\n",
    "x_balanceado, y_balanceado = undersample.fit_resample(X, y)\n",
    "\n",
    "modelo = RandomForestClassifier(max_depth = 2)\n",
    "modelo.fit(x_balanceado, y_balanceado)\n",
    "y_previsto = modelo.predict(X_test)\n",
    "\n",
    "print(classification_report(y_test, y_previsto))\n",
    "ConfusionMatrixDisplay.from_predictions(y_test, y_previsto, display_labels=['No diabetes', 'Diabetes']);"
   ]
  }
 ],
 "metadata": {
  "kernelspec": {
   "display_name": ".venv",
   "language": "python",
   "name": "python3"
  },
  "language_info": {
   "codemirror_mode": {
    "name": "ipython",
    "version": 3
   },
   "file_extension": ".py",
   "mimetype": "text/x-python",
   "name": "python",
   "nbconvert_exporter": "python",
   "pygments_lexer": "ipython3",
   "version": "3.13.5"
  }
 },
 "nbformat": 4,
 "nbformat_minor": 5
}
