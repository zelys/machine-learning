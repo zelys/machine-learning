{
 "cells": [
  {
   "cell_type": "markdown",
   "metadata": {
    "id": "y9t7dNY5fnHs"
   },
   "source": [
    "# **Precificación inmobiliaria**\n",
    "\n",
    "**Objetivo**: Estimar los precios de los inmuebles.\n",
    " * Identificar los aspectos que tienen más influencia en la precificación de los inmuebles.\n",
    " * Entender cuál de todos estos aspectos es el más relevante.\n",
    " * Precificar un inmueble nuevo.\n",
    "\n",
    "Base de datos simplificada e inspirada en [House Prices](https://www.kaggle.com/competitions/house-prices-advanced-regression-techniques)\n",
    "\n",
    "\n",
    "\n",
    "![](https://i.imgur.com/A8X79yq.jpeg)\n"
   ]
  },
  {
   "cell_type": "markdown",
   "metadata": {
    "id": "erMyEu5QyaSY"
   },
   "source": [
    "# 1. Ajustando una recta"
   ]
  },
  {
   "cell_type": "markdown",
   "metadata": {
    "id": "k2xsBplH-ccj"
   },
   "source": [
    "## Conociendo los datos"
   ]
  },
  {
   "cell_type": "code",
   "execution_count": 2,
   "metadata": {
    "colab": {
     "base_uri": "https://localhost:8080/",
     "height": 132
    },
    "executionInfo": {
     "elapsed": 1608,
     "status": "ok",
     "timestamp": 1753126373701,
     "user": {
      "displayName": "Elias Celis",
      "userId": "07132738901482165301"
     },
     "user_tz": 240
    },
    "id": "j2kddk1QofRy",
    "outputId": "69bac29f-e90e-478c-cb6b-15d6db7d5521"
   },
   "outputs": [
    {
     "data": {
      "text/html": [
       "<div>\n",
       "<style scoped>\n",
       "    .dataframe tbody tr th:only-of-type {\n",
       "        vertical-align: middle;\n",
       "    }\n",
       "\n",
       "    .dataframe tbody tr th {\n",
       "        vertical-align: top;\n",
       "    }\n",
       "\n",
       "    .dataframe thead th {\n",
       "        text-align: right;\n",
       "    }\n",
       "</style>\n",
       "<table border=\"1\" class=\"dataframe\">\n",
       "  <thead>\n",
       "    <tr style=\"text-align: right;\">\n",
       "      <th></th>\n",
       "      <th>Id</th>\n",
       "      <th>area_primer_piso</th>\n",
       "      <th>tiene_segundo_piso</th>\n",
       "      <th>area_segundo_piso</th>\n",
       "      <th>cantidad_banos</th>\n",
       "      <th>capacidad_carros_garage</th>\n",
       "      <th>calidad_de_cocina_excelente</th>\n",
       "      <th>precio_de_venta</th>\n",
       "    </tr>\n",
       "  </thead>\n",
       "  <tbody>\n",
       "    <tr>\n",
       "      <th>0</th>\n",
       "      <td>1</td>\n",
       "      <td>79.5224</td>\n",
       "      <td>1</td>\n",
       "      <td>79.3366</td>\n",
       "      <td>2</td>\n",
       "      <td>548</td>\n",
       "      <td>0</td>\n",
       "      <td>1027905.00</td>\n",
       "    </tr>\n",
       "    <tr>\n",
       "      <th>1</th>\n",
       "      <td>2</td>\n",
       "      <td>117.2398</td>\n",
       "      <td>0</td>\n",
       "      <td>0.0000</td>\n",
       "      <td>2</td>\n",
       "      <td>460</td>\n",
       "      <td>0</td>\n",
       "      <td>894795.00</td>\n",
       "    </tr>\n",
       "    <tr>\n",
       "      <th>2</th>\n",
       "      <td>3</td>\n",
       "      <td>85.4680</td>\n",
       "      <td>1</td>\n",
       "      <td>80.4514</td>\n",
       "      <td>2</td>\n",
       "      <td>608</td>\n",
       "      <td>0</td>\n",
       "      <td>1101855.00</td>\n",
       "    </tr>\n",
       "    <tr>\n",
       "      <th>3</th>\n",
       "      <td>4</td>\n",
       "      <td>89.2769</td>\n",
       "      <td>1</td>\n",
       "      <td>70.2324</td>\n",
       "      <td>1</td>\n",
       "      <td>642</td>\n",
       "      <td>0</td>\n",
       "      <td>690200.00</td>\n",
       "    </tr>\n",
       "    <tr>\n",
       "      <th>4</th>\n",
       "      <td>5</td>\n",
       "      <td>106.3705</td>\n",
       "      <td>1</td>\n",
       "      <td>97.8237</td>\n",
       "      <td>2</td>\n",
       "      <td>836</td>\n",
       "      <td>0</td>\n",
       "      <td>1232500.00</td>\n",
       "    </tr>\n",
       "    <tr>\n",
       "      <th>...</th>\n",
       "      <td>...</td>\n",
       "      <td>...</td>\n",
       "      <td>...</td>\n",
       "      <td>...</td>\n",
       "      <td>...</td>\n",
       "      <td>...</td>\n",
       "      <td>...</td>\n",
       "      <td>...</td>\n",
       "    </tr>\n",
       "    <tr>\n",
       "      <th>1433</th>\n",
       "      <td>1456</td>\n",
       "      <td>88.5337</td>\n",
       "      <td>1</td>\n",
       "      <td>64.4726</td>\n",
       "      <td>2</td>\n",
       "      <td>460</td>\n",
       "      <td>0</td>\n",
       "      <td>862750.00</td>\n",
       "    </tr>\n",
       "    <tr>\n",
       "      <th>1434</th>\n",
       "      <td>1457</td>\n",
       "      <td>192.5817</td>\n",
       "      <td>0</td>\n",
       "      <td>0.0000</td>\n",
       "      <td>2</td>\n",
       "      <td>500</td>\n",
       "      <td>0</td>\n",
       "      <td>1035300.00</td>\n",
       "    </tr>\n",
       "    <tr>\n",
       "      <th>1435</th>\n",
       "      <td>1458</td>\n",
       "      <td>110.3652</td>\n",
       "      <td>1</td>\n",
       "      <td>107.0208</td>\n",
       "      <td>2</td>\n",
       "      <td>252</td>\n",
       "      <td>0</td>\n",
       "      <td>1313845.00</td>\n",
       "    </tr>\n",
       "    <tr>\n",
       "      <th>1436</th>\n",
       "      <td>1459</td>\n",
       "      <td>100.1462</td>\n",
       "      <td>0</td>\n",
       "      <td>0.0000</td>\n",
       "      <td>1</td>\n",
       "      <td>240</td>\n",
       "      <td>0</td>\n",
       "      <td>700676.25</td>\n",
       "    </tr>\n",
       "    <tr>\n",
       "      <th>1437</th>\n",
       "      <td>1460</td>\n",
       "      <td>116.6824</td>\n",
       "      <td>0</td>\n",
       "      <td>0.0000</td>\n",
       "      <td>1</td>\n",
       "      <td>276</td>\n",
       "      <td>0</td>\n",
       "      <td>727175.00</td>\n",
       "    </tr>\n",
       "  </tbody>\n",
       "</table>\n",
       "<p>1438 rows × 8 columns</p>\n",
       "</div>"
      ],
      "text/plain": [
       "        Id  area_primer_piso  tiene_segundo_piso  area_segundo_piso  \\\n",
       "0        1           79.5224                   1            79.3366   \n",
       "1        2          117.2398                   0             0.0000   \n",
       "2        3           85.4680                   1            80.4514   \n",
       "3        4           89.2769                   1            70.2324   \n",
       "4        5          106.3705                   1            97.8237   \n",
       "...    ...               ...                 ...                ...   \n",
       "1433  1456           88.5337                   1            64.4726   \n",
       "1434  1457          192.5817                   0             0.0000   \n",
       "1435  1458          110.3652                   1           107.0208   \n",
       "1436  1459          100.1462                   0             0.0000   \n",
       "1437  1460          116.6824                   0             0.0000   \n",
       "\n",
       "      cantidad_banos  capacidad_carros_garage  calidad_de_cocina_excelente  \\\n",
       "0                  2                      548                            0   \n",
       "1                  2                      460                            0   \n",
       "2                  2                      608                            0   \n",
       "3                  1                      642                            0   \n",
       "4                  2                      836                            0   \n",
       "...              ...                      ...                          ...   \n",
       "1433               2                      460                            0   \n",
       "1434               2                      500                            0   \n",
       "1435               2                      252                            0   \n",
       "1436               1                      240                            0   \n",
       "1437               1                      276                            0   \n",
       "\n",
       "      precio_de_venta  \n",
       "0          1027905.00  \n",
       "1           894795.00  \n",
       "2          1101855.00  \n",
       "3           690200.00  \n",
       "4          1232500.00  \n",
       "...               ...  \n",
       "1433        862750.00  \n",
       "1434       1035300.00  \n",
       "1435       1313845.00  \n",
       "1436        700676.25  \n",
       "1437        727175.00  \n",
       "\n",
       "[1438 rows x 8 columns]"
      ]
     },
     "execution_count": 2,
     "metadata": {},
     "output_type": "execute_result"
    }
   ],
   "source": [
    "#Leyendo los datos\n",
    "import pandas as pd\n",
    "\n",
    "datos = pd.read_csv('../data/precios_casas.csv')\n",
    "datos"
   ]
  },
  {
   "cell_type": "code",
   "execution_count": 3,
   "metadata": {
    "colab": {
     "base_uri": "https://localhost:8080/"
    },
    "executionInfo": {
     "elapsed": 32,
     "status": "ok",
     "timestamp": 1753126373733,
     "user": {
      "displayName": "Elias Celis",
      "userId": "07132738901482165301"
     },
     "user_tz": 240
    },
    "id": "ODdLbwgwmKB4",
    "outputId": "14b4f5d3-46bc-4754-8731-8f2fde4b82cb"
   },
   "outputs": [
    {
     "name": "stdout",
     "output_type": "stream",
     "text": [
      "<class 'pandas.core.frame.DataFrame'>\n",
      "RangeIndex: 1438 entries, 0 to 1437\n",
      "Data columns (total 8 columns):\n",
      " #   Column                       Non-Null Count  Dtype  \n",
      "---  ------                       --------------  -----  \n",
      " 0   Id                           1438 non-null   int64  \n",
      " 1   area_primer_piso             1438 non-null   float64\n",
      " 2   tiene_segundo_piso           1438 non-null   int64  \n",
      " 3   area_segundo_piso            1438 non-null   float64\n",
      " 4   cantidad_banos               1438 non-null   int64  \n",
      " 5   capacidad_carros_garage      1438 non-null   int64  \n",
      " 6   calidad_de_cocina_excelente  1438 non-null   int64  \n",
      " 7   precio_de_venta              1438 non-null   float64\n",
      "dtypes: float64(3), int64(5)\n",
      "memory usage: 90.0 KB\n"
     ]
    }
   ],
   "source": [
    "#Cuáles factores fueron colectados\n",
    "datos.info()"
   ]
  },
  {
   "cell_type": "code",
   "execution_count": 4,
   "metadata": {
    "colab": {
     "base_uri": "https://localhost:8080/"
    },
    "executionInfo": {
     "elapsed": 3,
     "status": "ok",
     "timestamp": 1753126373736,
     "user": {
      "displayName": "Elias Celis",
      "userId": "07132738901482165301"
     },
     "user_tz": 240
    },
    "id": "Fx5C-rYjpNsa",
    "outputId": "3f564dae-b781-4927-da03-72ea87c1e77d"
   },
   "outputs": [
    {
     "data": {
      "text/plain": [
       "Index(['area_primer_piso', 'tiene_segundo_piso', 'area_segundo_piso',\n",
       "       'cantidad_banos', 'capacidad_carros_garage',\n",
       "       'calidad_de_cocina_excelente', 'precio_de_venta'],\n",
       "      dtype='object')"
      ]
     },
     "execution_count": 4,
     "metadata": {},
     "output_type": "execute_result"
    }
   ],
   "source": [
    "datos = datos.drop(columns='Id')\n",
    "datos.columns"
   ]
  },
  {
   "cell_type": "markdown",
   "metadata": {
    "id": "m47fyV-TskS8"
   },
   "source": [
    "## Correlación\n",
    "\n",
    "**¿Cuáles factores están relacionados con el precio de la casa? ¿Cómo es esa relación?**\n",
    "\n",
    "El coeficiente de correlación de Pearson nos permite medir la relación lineal entre variables, ofreciendo una escala que varía de -1 a 1, la cual interpretamos según su intensidad y dirección:\n",
    "\n",
    "* **-1**: correlación negativa perfecta: a medida que una variable aumenta, la otra disminuye.  \n",
    "* **0**: no hay relación lineal entre las variables.  \n",
    "* **1**: correlación positiva perfecta: a medida que una variable aumenta, la otra también aumenta.  \n",
    "\n"
   ]
  },
  {
   "cell_type": "code",
   "execution_count": 5,
   "metadata": {
    "executionInfo": {
     "elapsed": 1,
     "status": "ok",
     "timestamp": 1753126373737,
     "user": {
      "displayName": "Elias Celis",
      "userId": "07132738901482165301"
     },
     "user_tz": 240
    },
    "id": "u4H8rN9RqOVL"
   },
   "outputs": [],
   "source": [
    "# Correlación\n",
    "corr = datos.corr()"
   ]
  },
  {
   "cell_type": "code",
   "execution_count": 6,
   "metadata": {
    "colab": {
     "base_uri": "https://localhost:8080/",
     "height": 304
    },
    "executionInfo": {
     "elapsed": 14,
     "status": "ok",
     "timestamp": 1753126373752,
     "user": {
      "displayName": "Elias Celis",
      "userId": "07132738901482165301"
     },
     "user_tz": 240
    },
    "id": "EsNfQ6ghqcAq",
    "outputId": "4bc1328b-b0ca-46e0-8207-b63b549cbd44"
   },
   "outputs": [
    {
     "data": {
      "text/plain": [
       "area_primer_piso               0.616557\n",
       "tiene_segundo_piso             0.138541\n",
       "area_segundo_piso              0.305311\n",
       "cantidad_banos                 0.563132\n",
       "capacidad_carros_garage        0.640214\n",
       "calidad_de_cocina_excelente    0.496223\n",
       "precio_de_venta                1.000000\n",
       "Name: precio_de_venta, dtype: float64"
      ]
     },
     "execution_count": 6,
     "metadata": {},
     "output_type": "execute_result"
    }
   ],
   "source": [
    "corr['precio_de_venta']"
   ]
  },
  {
   "cell_type": "code",
   "execution_count": 62,
   "metadata": {
    "executionInfo": {
     "elapsed": 14,
     "status": "ok",
     "timestamp": 1753126373767,
     "user": {
      "displayName": "Elias Celis",
      "userId": "07132738901482165301"
     },
     "user_tz": 240
    },
    "id": "grbenA73mKGp"
   },
   "outputs": [],
   "source": [
    "# Actividad\n",
    "# Cuáles factores están más correlacionados?"
   ]
  },
  {
   "cell_type": "markdown",
   "metadata": {
    "id": "ICnyF93ko09b"
   },
   "source": [
    "## Relacionando variables"
   ]
  },
  {
   "cell_type": "code",
   "execution_count": 8,
   "metadata": {
    "executionInfo": {
     "elapsed": 2734,
     "status": "ok",
     "timestamp": 1753126376502,
     "user": {
      "displayName": "Elias Celis",
      "userId": "07132738901482165301"
     },
     "user_tz": 240
    },
    "id": "5ugjBgZxsUyh"
   },
   "outputs": [],
   "source": [
    "# importando los paquetes para la visualización\n",
    "import matplotlib.pyplot as plt\n",
    "import seaborn as sns\n",
    "import plotly.express as px"
   ]
  },
  {
   "cell_type": "code",
   "execution_count": 9,
   "metadata": {
    "colab": {
     "base_uri": "https://localhost:8080/",
     "height": 472
    },
    "executionInfo": {
     "elapsed": 401,
     "status": "ok",
     "timestamp": 1753126376910,
     "user": {
      "displayName": "Elias Celis",
      "userId": "07132738901482165301"
     },
     "user_tz": 240
    },
    "id": "inoJird2mKJm",
    "outputId": "b99c5ef7-03bc-4d25-964d-87c3d93cb62b"
   },
   "outputs": [
    {
     "data": {
      "image/png": "[encoded data removed]",
      "text/plain": [
       "<Figure size 640x480 with 1 Axes>"
      ]
     },
     "metadata": {},
     "output_type": "display_data"
    }
   ],
   "source": [
    "# Cómo se relacionan el área construída y el precio del inmueble?\n",
    "plt.scatter(datos['area_primer_piso'],datos['precio_de_venta'])\n",
    "plt.title('Relación entre el precio y el área')\n",
    "plt.xlabel('Área en m²')\n",
    "plt.ylabel('Precio en USD')\n",
    "plt.show()"
   ]
  },
  {
   "cell_type": "code",
   "execution_count": 10,
   "metadata": {
    "colab": {
     "base_uri": "https://localhost:8080/",
     "height": 472
    },
    "executionInfo": {
     "elapsed": 146,
     "status": "ok",
     "timestamp": 1753126377056,
     "user": {
      "displayName": "Elias Celis",
      "userId": "07132738901482165301"
     },
     "user_tz": 240
    },
    "id": "RJXgcH6HuAix",
    "outputId": "4f2841eb-02a2-4bcc-e450-38a0c318cfd1"
   },
   "outputs": [
    {
     "data": {
      "image/png": "[encoded data removed]",
      "text/plain": [
       "<Figure size 640x480 with 1 Axes>"
      ]
     },
     "metadata": {},
     "output_type": "display_data"
    }
   ],
   "source": [
    "# Aparentemente mientras mayor es el área del primer piso, mayor es el precio de la casa.\n",
    "# E si quisieramos trazar una línea que nos permita describir este comportamiento?\n",
    "plt.scatter(datos['area_primer_piso'],datos['precio_de_venta'])\n",
    "plt.axline(xy1=(40,300000),xy2=(175,1500000),color='red')\n",
    "plt.title('Relación entre el precio y el área')\n",
    "plt.xlabel('Área en m²')\n",
    "plt.ylabel('Precio en USD')\n",
    "plt.show()"
   ]
  },
  {
   "cell_type": "markdown",
   "metadata": {
    "id": "m8FFVV3FsuOh"
   },
   "source": [
    "## Mejor recta"
   ]
  },
  {
   "cell_type": "code",
   "execution_count": 11,
   "metadata": {
    "colab": {
     "base_uri": "https://localhost:8080/",
     "height": 542
    },
    "executionInfo": {
     "elapsed": 3523,
     "status": "ok",
     "timestamp": 1753126380580,
     "user": {
      "displayName": "Elias Celis",
      "userId": "07132738901482165301"
     },
     "user_tz": 240
    },
    "id": "1gDwrX_KvS_9",
    "outputId": "69a41021-4508-4bda-b459-6eba243869a1"
   },
   "outputs": [
    {
     "data": {
      "application/vnd.plotly.v1+json": {
       "config": {
        "plotlyServerURL": "https://plot.ly"
       },
       "data": [
        {
         "hovertemplate": "area_primer_piso=%{x}<br>precio_de_venta=%{y}<extra></extra>",
         "legendgroup": "",
         "marker": {
          "color": "#636efa",
          "symbol": "circle"
         },
         "mode": "markers",
         "name": "",
         "showlegend": false,
         "type": "scattergl",
         "x": {
          "bdata": "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",
          "dtype": "f8"
         },
         "xaxis": "x",
         "y": {
          "bdata": "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",
          "dtype": "f8"
         },
         "yaxis": "y"
        },
        {
         "hovertemplate": "<b>OLS trendline</b><br>precio_de_venta = 6899.2 * area_primer_piso + 144777<br>R<sup>2</sup>=0.380142<br><br>area_primer_piso=%{x}<br>precio_de_venta=%{y} <b>(trend)</b><extra></extra>",
         "legendgroup": "",
         "line": {
          "color": "red"
         },
         "marker": {
          "color": "#636efa",
          "symbol": "circle"
         },
         "mode": "lines",
         "name": "",
         "showlegend": false,
         "type": "scattergl",
         "x": {
          "bdata": "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",
          "dtype": "f8"
         },
         "xaxis": "x",
         "y": {
          "bdata": "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",
          "dtype": "f8"
         },
         "yaxis": "y"
        }
       ],
       "layout": {
        "legend": {
         "tracegroupgap": 0
        },
        "margin": {
         "t": 60
        },
        "template": {
         "data": {
          "bar": [
           {
            "error_x": {
             "color": "#2a3f5f"
            },
            "error_y": {
             "color": "#2a3f5f"
            },
            "marker": {
             "line": {
              "color": "#E5ECF6",
              "width": 0.5
             },
             "pattern": {
              "fillmode": "overlay",
              "size": 10,
              "solidity": 0.2
             }
            },
            "type": "bar"
           }
          ],
          "barpolar": [
           {
            "marker": {
             "line": {
              "color": "#E5ECF6",
              "width": 0.5
             },
             "pattern": {
              "fillmode": "overlay",
              "size": 10,
              "solidity": 0.2
             }
            },
            "type": "barpolar"
           }
          ],
          "carpet": [
           {
            "aaxis": {
             "endlinecolor": "#2a3f5f",
             "gridcolor": "white",
             "linecolor": "white",
             "minorgridcolor": "white",
             "startlinecolor": "#2a3f5f"
            },
            "baxis": {
             "endlinecolor": "#2a3f5f",
             "gridcolor": "white",
             "linecolor": "white",
             "minorgridcolor": "white",
             "startlinecolor": "#2a3f5f"
            },
            "type": "carpet"
           }
          ],
          "choropleth": [
           {
            "colorbar": {
             "outlinewidth": 0,
             "ticks": ""
            },
            "type": "choropleth"
           }
          ],
          "contour": [
           {
            "colorbar": {
             "outlinewidth": 0,
             "ticks": ""
            },
            "colorscale": [
             [
              0,
              "#0d0887"
             ],
             [
              0.1111111111111111,
              "#46039f"
             ],
             [
              0.2222222222222222,
              "#7201a8"
             ],
             [
              0.3333333333333333,
              "#9c179e"
             ],
             [
              0.4444444444444444,
              "#bd3786"
             ],
             [
              0.5555555555555556,
              "#d8576b"
             ],
             [
              0.6666666666666666,
              "#ed7953"
             ],
             [
              0.7777777777777778,
              "#fb9f3a"
             ],
             [
              0.8888888888888888,
              "#fdca26"
             ],
             [
              1,
              "#f0f921"
             ]
            ],
            "type": "contour"
           }
          ],
          "contourcarpet": [
           {
            "colorbar": {
             "outlinewidth": 0,
             "ticks": ""
            },
            "type": "contourcarpet"
           }
          ],
          "heatmap": [
           {
            "colorbar": {
             "outlinewidth": 0,
             "ticks": ""
            },
            "colorscale": [
             [
              0,
              "#0d0887"
             ],
             [
              0.1111111111111111,
              "#46039f"
             ],
             [
              0.2222222222222222,
              "#7201a8"
             ],
             [
              0.3333333333333333,
              "#9c179e"
             ],
             [
              0.4444444444444444,
              "#bd3786"
             ],
             [
              0.5555555555555556,
              "#d8576b"
             ],
             [
              0.6666666666666666,
              "#ed7953"
             ],
             [
              0.7777777777777778,
              "#fb9f3a"
             ],
             [
              0.8888888888888888,
              "#fdca26"
             ],
             [
              1,
              "#f0f921"
             ]
            ],
            "type": "heatmap"
           }
          ],
          "histogram": [
           {
            "marker": {
             "pattern": {
              "fillmode": "overlay",
              "size": 10,
              "solidity": 0.2
             }
            },
            "type": "histogram"
           }
          ],
          "histogram2d": [
           {
            "colorbar": {
             "outlinewidth": 0,
             "ticks": ""
            },
            "colorscale": [
             [
              0,
              "#0d0887"
             ],
             [
              0.1111111111111111,
              "#46039f"
             ],
             [
              0.2222222222222222,
              "#7201a8"
             ],
             [
              0.3333333333333333,
              "#9c179e"
             ],
             [
              0.4444444444444444,
              "#bd3786"
             ],
             [
              0.5555555555555556,
              "#d8576b"
             ],
             [
              0.6666666666666666,
              "#ed7953"
             ],
             [
              0.7777777777777778,
              "#fb9f3a"
             ],
             [
              0.8888888888888888,
              "#fdca26"
             ],
             [
              1,
              "#f0f921"
             ]
            ],
            "type": "histogram2d"
           }
          ],
          "histogram2dcontour": [
           {
            "colorbar": {
             "outlinewidth": 0,
             "ticks": ""
            },
            "colorscale": [
             [
              0,
              "#0d0887"
             ],
             [
              0.1111111111111111,
              "#46039f"
             ],
             [
              0.2222222222222222,
              "#7201a8"
             ],
             [
              0.3333333333333333,
              "#9c179e"
             ],
             [
              0.4444444444444444,
              "#bd3786"
             ],
             [
              0.5555555555555556,
              "#d8576b"
             ],
             [
              0.6666666666666666,
              "#ed7953"
             ],
             [
              0.7777777777777778,
              "#fb9f3a"
             ],
             [
              0.8888888888888888,
              "#fdca26"
             ],
             [
              1,
              "#f0f921"
             ]
            ],
            "type": "histogram2dcontour"
           }
          ],
          "mesh3d": [
           {
            "colorbar": {
             "outlinewidth": 0,
             "ticks": ""
            },
            "type": "mesh3d"
           }
          ],
          "parcoords": [
           {
            "line": {
             "colorbar": {
              "outlinewidth": 0,
              "ticks": ""
             }
            },
            "type": "parcoords"
           }
          ],
          "pie": [
           {
            "automargin": true,
            "type": "pie"
           }
          ],
          "scatter": [
           {
            "fillpattern": {
             "fillmode": "overlay",
             "size": 10,
             "solidity": 0.2
            },
            "type": "scatter"
           }
          ],
          "scatter3d": [
           {
            "line": {
             "colorbar": {
              "outlinewidth": 0,
              "ticks": ""
             }
            },
            "marker": {
             "colorbar": {
              "outlinewidth": 0,
              "ticks": ""
             }
            },
            "type": "scatter3d"
           }
          ],
          "scattercarpet": [
           {
            "marker": {
             "colorbar": {
              "outlinewidth": 0,
              "ticks": ""
             }
            },
            "type": "scattercarpet"
           }
          ],
          "scattergeo": [
           {
            "marker": {
             "colorbar": {
              "outlinewidth": 0,
              "ticks": ""
             }
            },
            "type": "scattergeo"
           }
          ],
          "scattergl": [
           {
            "marker": {
             "colorbar": {
              "outlinewidth": 0,
              "ticks": ""
             }
            },
            "type": "scattergl"
           }
          ],
          "scattermap": [
           {
            "marker": {
             "colorbar": {
              "outlinewidth": 0,
              "ticks": ""
             }
            },
            "type": "scattermap"
           }
          ],
          "scattermapbox": [
           {
            "marker": {
             "colorbar": {
              "outlinewidth": 0,
              "ticks": ""
             }
            },
            "type": "scattermapbox"
           }
          ],
          "scatterpolar": [
           {
            "marker": {
             "colorbar": {
              "outlinewidth": 0,
              "ticks": ""
             }
            },
            "type": "scatterpolar"
           }
          ],
          "scatterpolargl": [
           {
            "marker": {
             "colorbar": {
              "outlinewidth": 0,
              "ticks": ""
             }
            },
            "type": "scatterpolargl"
           }
          ],
          "scatterternary": [
           {
            "marker": {
             "colorbar": {
              "outlinewidth": 0,
              "ticks": ""
             }
            },
            "type": "scatterternary"
           }
          ],
          "surface": [
           {
            "colorbar": {
             "outlinewidth": 0,
             "ticks": ""
            },
            "colorscale": [
             [
              0,
              "#0d0887"
             ],
             [
              0.1111111111111111,
              "#46039f"
             ],
             [
              0.2222222222222222,
              "#7201a8"
             ],
             [
              0.3333333333333333,
              "#9c179e"
             ],
             [
              0.4444444444444444,
              "#bd3786"
             ],
             [
              0.5555555555555556,
              "#d8576b"
             ],
             [
              0.6666666666666666,
              "#ed7953"
             ],
             [
              0.7777777777777778,
              "#fb9f3a"
             ],
             [
              0.8888888888888888,
              "#fdca26"
             ],
             [
              1,
              "#f0f921"
             ]
            ],
            "type": "surface"
           }
          ],
          "table": [
           {
            "cells": {
             "fill": {
              "color": "#EBF0F8"
             },
             "line": {
              "color": "white"
             }
            },
            "header": {
             "fill": {
              "color": "#C8D4E3"
             },
             "line": {
              "color": "white"
             }
            },
            "type": "table"
           }
          ]
         },
         "layout": {
          "annotationdefaults": {
           "arrowcolor": "#2a3f5f",
           "arrowhead": 0,
           "arrowwidth": 1
          },
          "autotypenumbers": "strict",
          "coloraxis": {
           "colorbar": {
            "outlinewidth": 0,
            "ticks": ""
           }
          },
          "colorscale": {
           "diverging": [
            [
             0,
             "#8e0152"
            ],
            [
             0.1,
             "#c51b7d"
            ],
            [
             0.2,
             "#de77ae"
            ],
            [
             0.3,
             "#f1b6da"
            ],
            [
             0.4,
             "#fde0ef"
            ],
            [
             0.5,
             "#f7f7f7"
            ],
            [
             0.6,
             "#e6f5d0"
            ],
            [
             0.7,
             "#b8e186"
            ],
            [
             0.8,
             "#7fbc41"
            ],
            [
             0.9,
             "#4d9221"
            ],
            [
             1,
             "#276419"
            ]
           ],
           "sequential": [
            [
             0,
             "#0d0887"
            ],
            [
             0.1111111111111111,
             "#46039f"
            ],
            [
             0.2222222222222222,
             "#7201a8"
            ],
            [
             0.3333333333333333,
             "#9c179e"
            ],
            [
             0.4444444444444444,
             "#bd3786"
            ],
            [
             0.5555555555555556,
             "#d8576b"
            ],
            [
             0.6666666666666666,
             "#ed7953"
            ],
            [
             0.7777777777777778,
             "#fb9f3a"
            ],
            [
             0.8888888888888888,
             "#fdca26"
            ],
            [
             1,
             "#f0f921"
            ]
           ],
           "sequentialminus": [
            [
             0,
             "#0d0887"
            ],
            [
             0.1111111111111111,
             "#46039f"
            ],
            [
             0.2222222222222222,
             "#7201a8"
            ],
            [
             0.3333333333333333,
             "#9c179e"
            ],
            [
             0.4444444444444444,
             "#bd3786"
            ],
            [
             0.5555555555555556,
             "#d8576b"
            ],
            [
             0.6666666666666666,
             "#ed7953"
            ],
            [
             0.7777777777777778,
             "#fb9f3a"
            ],
            [
             0.8888888888888888,
             "#fdca26"
            ],
            [
             1,
             "#f0f921"
            ]
           ]
          },
          "colorway": [
           "#636efa",
           "#EF553B",
           "#00cc96",
           "#ab63fa",
           "#FFA15A",
           "#19d3f3",
           "#FF6692",
           "#B6E880",
           "#FF97FF",
           "#FECB52"
          ],
          "font": {
           "color": "#2a3f5f"
          },
          "geo": {
           "bgcolor": "white",
           "lakecolor": "white",
           "landcolor": "#E5ECF6",
           "showlakes": true,
           "showland": true,
           "subunitcolor": "white"
          },
          "hoverlabel": {
           "align": "left"
          },
          "hovermode": "closest",
          "mapbox": {
           "style": "light"
          },
          "paper_bgcolor": "white",
          "plot_bgcolor": "#E5ECF6",
          "polar": {
           "angularaxis": {
            "gridcolor": "white",
            "linecolor": "white",
            "ticks": ""
           },
           "bgcolor": "#E5ECF6",
           "radialaxis": {
            "gridcolor": "white",
            "linecolor": "white",
            "ticks": ""
           }
          },
          "scene": {
           "xaxis": {
            "backgroundcolor": "#E5ECF6",
            "gridcolor": "white",
            "gridwidth": 2,
            "linecolor": "white",
            "showbackground": true,
            "ticks": "",
            "zerolinecolor": "white"
           },
           "yaxis": {
            "backgroundcolor": "#E5ECF6",
            "gridcolor": "white",
            "gridwidth": 2,
            "linecolor": "white",
            "showbackground": true,
            "ticks": "",
            "zerolinecolor": "white"
           },
           "zaxis": {
            "backgroundcolor": "#E5ECF6",
            "gridcolor": "white",
            "gridwidth": 2,
            "linecolor": "white",
            "showbackground": true,
            "ticks": "",
            "zerolinecolor": "white"
           }
          },
          "shapedefaults": {
           "line": {
            "color": "#2a3f5f"
           }
          },
          "ternary": {
           "aaxis": {
            "gridcolor": "white",
            "linecolor": "white",
            "ticks": ""
           },
           "baxis": {
            "gridcolor": "white",
            "linecolor": "white",
            "ticks": ""
           },
           "bgcolor": "#E5ECF6",
           "caxis": {
            "gridcolor": "white",
            "linecolor": "white",
            "ticks": ""
           }
          },
          "title": {
           "x": 0.05
          },
          "xaxis": {
           "automargin": true,
           "gridcolor": "white",
           "linecolor": "white",
           "ticks": "",
           "title": {
            "standoff": 15
           },
           "zerolinecolor": "white",
           "zerolinewidth": 2
          },
          "yaxis": {
           "automargin": true,
           "gridcolor": "white",
           "linecolor": "white",
           "ticks": "",
           "title": {
            "standoff": 15
           },
           "zerolinecolor": "white",
           "zerolinewidth": 2
          }
         }
        },
        "xaxis": {
         "anchor": "y",
         "domain": [
          0,
          1
         ],
         "title": {
          "text": "area_primer_piso"
         }
        },
        "yaxis": {
         "anchor": "x",
         "domain": [
          0,
          1
         ],
         "title": {
          "text": "precio_de_venta"
         }
        }
       }
      }
     },
     "metadata": {},
     "output_type": "display_data"
    }
   ],
   "source": [
    "# Cuál es la recta que mejor se ajusta a esta relación\n",
    "px.scatter(datos,x='area_primer_piso',y='precio_de_venta',trendline_color_override='red', trendline='ols')"
   ]
  },
  {
   "cell_type": "markdown",
   "metadata": {
    "id": "4UrDseC82Y_F"
   },
   "source": [
    "# 2. Explicando la recta\n",
    "Ajustamos una recta entre los $m^2$ del primer piso y el precio de la casa. Queremos explicar el precio de la casa a partir de su tamaño, por eso decimos que:\n",
    "\n",
    "* Variable explicativa/independiente: Área del primer piso  \n",
    "* Variable de respuesta/dependiente: Precio de la casa  "
   ]
  },
  {
   "cell_type": "code",
   "execution_count": 61,
   "metadata": {
    "colab": {
     "base_uri": "https://localhost:8080/",
     "height": 698
    },
    "executionInfo": {
     "elapsed": 221,
     "status": "ok",
     "timestamp": 1753126380800,
     "user": {
      "displayName": "Elias Celis",
      "userId": "07132738901482165301"
     },
     "user_tz": 240
    },
    "id": "PS2GnzlIVEML",
    "outputId": "31c54d40-de15-476b-dc04-f7b8f227853f"
   },
   "outputs": [
    {
     "data": {
      "image/png": "[encoded data removed]",
      "text/plain": [
       "<Figure size 640x480 with 1 Axes>"
      ]
     },
     "metadata": {},
     "output_type": "display_data"
    }
   ],
   "source": [
    "#Quién es nuestra variable de respuesta?\n",
    "sns.histplot(datos['precio_de_venta'],kde=True,color='green')\n",
    "plt.title('Distribución del precio de venta de las casas')\n",
    "plt.show()"
   ]
  },
  {
   "cell_type": "markdown",
   "metadata": {
    "id": "6SdDRESQh2xo"
   },
   "source": [
    "### Separando datos para entrenamiento y para prueba\n",
    "\n",
    "El conjunto de **entrenamiento** se utiliza para ajustar el modelo, mientras que el conjunto de **prueba** se usa para evaluar su desempeño al predecir precios de viviendas no vistos durante el entrenamiento, lo que ayuda a la generalización del modelo."
   ]
  },
  {
   "cell_type": "code",
   "execution_count": 13,
   "metadata": {
    "executionInfo": {
     "elapsed": 267,
     "status": "ok",
     "timestamp": 1753126381066,
     "user": {
      "displayName": "Elias Celis",
      "userId": "07132738901482165301"
     },
     "user_tz": 240
    },
    "id": "gHIRjm1AyIQ_"
   },
   "outputs": [],
   "source": [
    "# import train_test_split\n",
    "from sklearn.model_selection import train_test_split\n",
    "\n",
    "y = datos['precio_de_venta']\n",
    "X = datos.drop(columns='precio_de_venta')\n",
    "\n",
    "X_train, X_test, y_train, y_test = train_test_split(X,y,test_size=0.3,random_state=230) # garantizar la reproductibilidad de la segregación de los datos\n"
   ]
  },
  {
   "cell_type": "code",
   "execution_count": 14,
   "metadata": {
    "executionInfo": {
     "elapsed": 1,
     "status": "ok",
     "timestamp": 1753126381073,
     "user": {
      "displayName": "Elias Celis",
      "userId": "07132738901482165301"
     },
     "user_tz": 240
    },
    "id": "VT6y54dix7lf"
   },
   "outputs": [],
   "source": [
    "#Datos de entrenamiento para usar la fórmula\n",
    "df_train = pd.DataFrame(X_train)\n",
    "df_train['precio_de_venta'] = y_train"
   ]
  },
  {
   "cell_type": "code",
   "execution_count": 15,
   "metadata": {
    "executionInfo": {
     "elapsed": 2,
     "status": "ok",
     "timestamp": 1753126381079,
     "user": {
      "displayName": "Elias Celis",
      "userId": "07132738901482165301"
     },
     "user_tz": 240
    },
    "id": "kzuboWuxx-v_"
   },
   "outputs": [],
   "source": [
    "# import ols\n",
    "from statsmodels.formula.api import ols"
   ]
  },
  {
   "cell_type": "code",
   "execution_count": 16,
   "metadata": {
    "executionInfo": {
     "elapsed": 7,
     "status": "ok",
     "timestamp": 1753126381093,
     "user": {
      "displayName": "Elias Celis",
      "userId": "07132738901482165301"
     },
     "user_tz": 240
    },
    "id": "9XvJ2peG4AzL"
   },
   "outputs": [],
   "source": [
    "# ajustando el primer modelo\n",
    "modelo_0 = ols('precio_de_venta ~ area_primer_piso',data=df_train).fit()"
   ]
  },
  {
   "cell_type": "markdown",
   "metadata": {
    "id": "BpehBvRj4j0B"
   },
   "source": [
    "## Analizando los coeficientes\n",
    "\n",
    "(intensidad, dirección y significancia)\n",
    "\n",
    "\n"
   ]
  },
  {
   "cell_type": "code",
   "execution_count": 17,
   "metadata": {
    "colab": {
     "base_uri": "https://localhost:8080/",
     "height": 147
    },
    "executionInfo": {
     "elapsed": 8,
     "status": "ok",
     "timestamp": 1753126381106,
     "user": {
      "displayName": "Elias Celis",
      "userId": "07132738901482165301"
     },
     "user_tz": 240
    },
    "id": "TEs3lNVC2nxX",
    "outputId": "24e54c6c-c083-4f66-89a4-e8ffb28911d4"
   },
   "outputs": [
    {
     "data": {
      "text/plain": [
       "Intercept           152909.288334\n",
       "area_primer_piso      6793.641641\n",
       "dtype: float64"
      ]
     },
     "execution_count": 17,
     "metadata": {},
     "output_type": "execute_result"
    }
   ],
   "source": [
    "# visualizando los parámetros\n",
    "modelo_0.params"
   ]
  },
  {
   "cell_type": "code",
   "execution_count": 18,
   "metadata": {
    "colab": {
     "base_uri": "https://localhost:8080/"
    },
    "executionInfo": {
     "elapsed": 56,
     "status": "ok",
     "timestamp": 1753126381163,
     "user": {
      "displayName": "Elias Celis",
      "userId": "07132738901482165301"
     },
     "user_tz": 240
    },
    "id": "hq8rU6kZ2qAG",
    "outputId": "a25b646e-520f-47bc-f901-d519f9e6ecfe"
   },
   "outputs": [
    {
     "name": "stdout",
     "output_type": "stream",
     "text": [
      "                            OLS Regression Results                            \n",
      "==============================================================================\n",
      "Dep. Variable:        precio_de_venta   R-squared:                       0.377\n",
      "Model:                            OLS   Adj. R-squared:                  0.377\n",
      "Method:                 Least Squares   F-statistic:                     608.3\n",
      "Date:                Mon, 04 Aug 2025   Prob (F-statistic):          2.22e-105\n",
      "Time:                        19:39:49   Log-Likelihood:                -14082.\n",
      "No. Observations:                1006   AIC:                         2.817e+04\n",
      "Df Residuals:                    1004   BIC:                         2.818e+04\n",
      "Df Model:                           1                                         \n",
      "Covariance Type:            nonrobust                                         \n",
      "====================================================================================\n",
      "                       coef    std err          t      P>|t|      [0.025      0.975]\n",
      "------------------------------------------------------------------------------------\n",
      "Intercept         1.529e+05   3.07e+04      4.981      0.000    9.27e+04    2.13e+05\n",
      "area_primer_piso  6793.6416    275.455     24.663      0.000    6253.109    7334.175\n",
      "==============================================================================\n",
      "Omnibus:                      190.778   Durbin-Watson:                   2.047\n",
      "Prob(Omnibus):                  0.000   Jarque-Bera (JB):              482.457\n",
      "Skew:                           0.998   Prob(JB):                    1.72e-105\n",
      "Kurtosis:                       5.743   Cond. No.                         373.\n",
      "==============================================================================\n",
      "\n",
      "Notes:\n",
      "[1] Standard Errors assume that the covariance matrix of the errors is correctly specified.\n"
     ]
    }
   ],
   "source": [
    "# El resumen del modelo\n",
    "print(modelo_0.summary())"
   ]
  },
  {
   "cell_type": "markdown",
   "metadata": {
    "id": "k_ZfkTOewmlW"
   },
   "source": [
    "- El **punto de intercepción** es el valor esperado del precio de la casa cuando todas las demás variables son cero. En este caso, cuando todas las demás variables, incluida el área del primer piso, son cero, el precio esperado de la casa es de $145.196,40. No siempre se tiene una interpretación práctica para este número.\n",
    "\n",
    "- El **efecto individual** del área es de \\$6.833,97. Esto indica que por cada metro cuadrado adicional al área del primer piso, se espera que el precio de la casa aumente en promedio \\$6.833,97.\n",
    "\n",
    "<img src=\"https://i.ibb.co/CJwfMgW/coeficientes.png\" alt=\"coeficientes\" border=\"0\">\n"
   ]
  },
  {
   "cell_type": "markdown",
   "metadata": {
    "id": "qlHuIXawggV1"
   },
   "source": [
    "## Explicabilidad del modelo\n",
    "\n",
    "**¿En qué medida la variación del área explica los diversos precios de las casas?**  \n",
    "\n",
    "En este caso, recurrimos a la métrica R², el coeficiente de determinación. El R² varía de 0 a 1, donde 1 indica un ajuste perfecto del modelo a los datos, es decir, todas las variaciones en la variable dependiente son explicadas por las variables independientes en el modelo. Por otro lado, un R² de 0 indica que el modelo no explica ninguna variabilidad en la variable dependiente."
   ]
  },
  {
   "cell_type": "code",
   "execution_count": 19,
   "metadata": {
    "colab": {
     "base_uri": "https://localhost:8080/"
    },
    "executionInfo": {
     "elapsed": 8,
     "status": "ok",
     "timestamp": 1753126381163,
     "user": {
      "displayName": "Elias Celis",
      "userId": "07132738901482165301"
     },
     "user_tz": 240
    },
    "id": "bCrpFxangFUf",
    "outputId": "7fda7788-2e91-477f-ffcf-c4ff52f04801"
   },
   "outputs": [
    {
     "data": {
      "text/plain": [
       "np.float64(0.38)"
      ]
     },
     "execution_count": 19,
     "metadata": {},
     "output_type": "execute_result"
    }
   ],
   "source": [
    "# observando el R²\n",
    "round(modelo_0.rsquared,2)"
   ]
  },
  {
   "cell_type": "markdown",
   "metadata": {
    "id": "ja6mwxKuhCZR"
   },
   "source": [
    "## Entendiendo el resíduo"
   ]
  },
  {
   "cell_type": "code",
   "execution_count": 20,
   "metadata": {
    "colab": {
     "base_uri": "https://localhost:8080/",
     "height": 458
    },
    "executionInfo": {
     "elapsed": 3,
     "status": "ok",
     "timestamp": 1753126381163,
     "user": {
      "displayName": "Elias Celis",
      "userId": "07132738901482165301"
     },
     "user_tz": 240
    },
    "id": "G-TWnRl-4hEn",
    "outputId": "a26a6998-4ef7-4fb7-9659-9253f1a89113"
   },
   "outputs": [
    {
     "data": {
      "text/plain": [
       "1303   -193023.838744\n",
       "326    -144522.356193\n",
       "386     399612.747641\n",
       "615     -68449.596607\n",
       "236     166010.592859\n",
       "            ...      \n",
       "777     465872.680999\n",
       "271    -497642.319788\n",
       "723     461150.204718\n",
       "560    -540482.733402\n",
       "768     -37547.820756\n",
       "Length: 1006, dtype: float64"
      ]
     },
     "execution_count": 20,
     "metadata": {},
     "output_type": "execute_result"
    }
   ],
   "source": [
    "# Quiénes son los residuos?\n",
    "modelo_0.resid"
   ]
  },
  {
   "cell_type": "code",
   "execution_count": 21,
   "metadata": {
    "colab": {
     "base_uri": "https://localhost:8080/",
     "height": 470
    },
    "executionInfo": {
     "elapsed": 230,
     "status": "ok",
     "timestamp": 1753126381392,
     "user": {
      "displayName": "Elias Celis",
      "userId": "07132738901482165301"
     },
     "user_tz": 240
    },
    "id": "bM91NMCMUb-G",
    "outputId": "ac00e84c-fe45-4225-b0f9-1096bc640f6f"
   },
   "outputs": [
    {
     "data": {
      "image/png": "[encoded data removed]",
      "text/plain": [
       "<Figure size 640x480 with 1 Axes>"
      ]
     },
     "metadata": {},
     "output_type": "display_data"
    }
   ],
   "source": [
    "# Cómo están distribuidos\n",
    "modelo_0.resid.hist()\n",
    "plt.title('Distribución de los residuos')\n",
    "plt.show()"
   ]
  },
  {
   "cell_type": "markdown",
   "metadata": {
    "id": "aaPkf1ybjyxa"
   },
   "source": [
    "<img src=\"https://i.ibb.co/zGTB35V/residuos.png\" alt=\"residuos\" border=\"0\">"
   ]
  },
  {
   "cell_type": "markdown",
   "metadata": {
    "id": "dbETTlFihzJJ"
   },
   "source": [
    "## Obteniendo el R² de la previsión"
   ]
  },
  {
   "cell_type": "code",
   "execution_count": 22,
   "metadata": {
    "executionInfo": {
     "elapsed": 9,
     "status": "ok",
     "timestamp": 1753126381392,
     "user": {
      "displayName": "Elias Celis",
      "userId": "07132738901482165301"
     },
     "user_tz": 240
    },
    "id": "nTwiYeIy4wVz"
   },
   "outputs": [],
   "source": [
    "# definiendo la 'Y' prevista\n",
    "y_predict= modelo_0.predict(X_test)"
   ]
  },
  {
   "cell_type": "code",
   "execution_count": 23,
   "metadata": {
    "executionInfo": {
     "elapsed": 2,
     "status": "ok",
     "timestamp": 1753126381393,
     "user": {
      "displayName": "Elias Celis",
      "userId": "07132738901482165301"
     },
     "user_tz": 240
    },
    "id": "xdGQncIQ5DAF"
   },
   "outputs": [],
   "source": [
    "# importando el r2_score\n",
    "from sklearn.metrics import r2_score"
   ]
  },
  {
   "cell_type": "code",
   "execution_count": 24,
   "metadata": {
    "colab": {
     "base_uri": "https://localhost:8080/"
    },
    "executionInfo": {
     "elapsed": 3,
     "status": "ok",
     "timestamp": 1753126381396,
     "user": {
      "displayName": "Elias Celis",
      "userId": "07132738901482165301"
     },
     "user_tz": 240
    },
    "id": "llfmxm3vav7t",
    "outputId": "609fd9cb-a763-4152-9f20-c14b53764b9d"
   },
   "outputs": [
    {
     "name": "stdout",
     "output_type": "stream",
     "text": [
      "El coeficiente de determinación R² para el modelo con los datos de prueba es de: 0.39\n"
     ]
    }
   ],
   "source": [
    "# mostrando el resultado de r²\n",
    "print(f'El coeficiente de determinación R² para el modelo con los datos de prueba es de: {round(r2_score(y_test,y_predict),2)}')"
   ]
  },
  {
   "cell_type": "markdown",
   "metadata": {
    "id": "KGi13v3IyylJ"
   },
   "source": [
    "# 3. Añadiendo otras características\n",
    "\n",
    "El modelo con un solo factor nos mostró un R² de 0.38, es decir, aproximadamente el 38% de la variación observada en los precios de las casas puede explicarse por la variación en el área.  \n",
    "Esto indica que aún existe una cantidad significativa de variación que no está siendo capturada por este modelo específico. Analizaremos otros factores para explicar el precio de las casas."
   ]
  },
  {
   "cell_type": "markdown",
   "metadata": {
    "id": "WeslSOrPWrQw"
   },
   "source": [
    "## Analizando los factores"
   ]
  },
  {
   "cell_type": "code",
   "execution_count": 56,
   "metadata": {
    "colab": {
     "base_uri": "https://localhost:8080/",
     "height": 868
    },
    "executionInfo": {
     "elapsed": 8913,
     "status": "ok",
     "timestamp": 1753126390310,
     "user": {
      "displayName": "Elias Celis",
      "userId": "07132738901482165301"
     },
     "user_tz": 240
    },
    "id": "FWE7AlEwCKgC",
    "outputId": "12d66e3f-b839-4fb0-8eac-9e0bf311da62"
   },
   "outputs": [
    {
     "data": {
      "image/png": "[encoded data removed]",
      "text/plain": [
       "<Figure size 1750x1750 with 56 Axes>"
      ]
     },
     "metadata": {},
     "output_type": "display_data"
    }
   ],
   "source": [
    "# cuáles otras características podrían explicar el precio de los inmuebles?\n",
    "sns.pairplot(datos);"
   ]
  },
  {
   "cell_type": "code",
   "execution_count": 57,
   "metadata": {
    "colab": {
     "base_uri": "https://localhost:8080/",
     "height": 0
    },
    "executionInfo": {
     "elapsed": 27,
     "status": "ok",
     "timestamp": 1753126390338,
     "user": {
      "displayName": "Elias Celis",
      "userId": "07132738901482165301"
     },
     "user_tz": 240
    },
    "id": "gka8CJ3PWDFG",
    "outputId": "4a6e40c2-7284-4f29-bd26-9d61580bb225"
   },
   "outputs": [
    {
     "data": {
      "image/png": "[encoded data removed]",
      "text/plain": [
       "<Figure size 250x750 with 3 Axes>"
      ]
     },
     "metadata": {},
     "output_type": "display_data"
    }
   ],
   "source": [
    "#Vamos a analizar solamente y_vars='precio_de_venta'\n",
    "sns.pairplot(datos,y_vars=['area_primer_piso','area_segundo_piso','cantidad_banos'],x_vars='precio_de_venta');"
   ]
  },
  {
   "cell_type": "markdown",
   "metadata": {
    "id": "bVNYO4SCWxh5"
   },
   "source": [
    "## Añadiendo factores al modelo"
   ]
  },
  {
   "cell_type": "code",
   "execution_count": 27,
   "metadata": {
    "executionInfo": {
     "elapsed": 1,
     "status": "ok",
     "timestamp": 1753126390339,
     "user": {
      "displayName": "Elias Celis",
      "userId": "07132738901482165301"
     },
     "user_tz": 240
    },
    "id": "xuVtu-Rgek8D"
   },
   "outputs": [],
   "source": [
    "# importando la api de statsmodels\n",
    "import statsmodels.api as sm"
   ]
  },
  {
   "cell_type": "code",
   "execution_count": 28,
   "metadata": {
    "colab": {
     "base_uri": "https://localhost:8080/",
     "height": 226
    },
    "executionInfo": {
     "elapsed": 6,
     "status": "ok",
     "timestamp": 1753126390345,
     "user": {
      "displayName": "Elias Celis",
      "userId": "07132738901482165301"
     },
     "user_tz": 240
    },
    "id": "_FE5frMQEsx8",
    "outputId": "c5aa9c80-a42c-4c76-8131-eea5f8184f36"
   },
   "outputs": [
    {
     "data": {
      "text/html": [
       "<div>\n",
       "<style scoped>\n",
       "    .dataframe tbody tr th:only-of-type {\n",
       "        vertical-align: middle;\n",
       "    }\n",
       "\n",
       "    .dataframe tbody tr th {\n",
       "        vertical-align: top;\n",
       "    }\n",
       "\n",
       "    .dataframe thead th {\n",
       "        text-align: right;\n",
       "    }\n",
       "</style>\n",
       "<table border=\"1\" class=\"dataframe\">\n",
       "  <thead>\n",
       "    <tr style=\"text-align: right;\">\n",
       "      <th></th>\n",
       "      <th>const</th>\n",
       "      <th>area_primer_piso</th>\n",
       "      <th>tiene_segundo_piso</th>\n",
       "      <th>area_segundo_piso</th>\n",
       "      <th>cantidad_banos</th>\n",
       "      <th>capacidad_carros_garage</th>\n",
       "      <th>calidad_de_cocina_excelente</th>\n",
       "    </tr>\n",
       "  </thead>\n",
       "  <tbody>\n",
       "    <tr>\n",
       "      <th>1303</th>\n",
       "      <td>1.0</td>\n",
       "      <td>65.7732</td>\n",
       "      <td>0</td>\n",
       "      <td>0.0000</td>\n",
       "      <td>1</td>\n",
       "      <td>0</td>\n",
       "      <td>0</td>\n",
       "    </tr>\n",
       "    <tr>\n",
       "      <th>326</th>\n",
       "      <td>1.0</td>\n",
       "      <td>55.3684</td>\n",
       "      <td>1</td>\n",
       "      <td>55.3684</td>\n",
       "      <td>1</td>\n",
       "      <td>189</td>\n",
       "      <td>0</td>\n",
       "    </tr>\n",
       "    <tr>\n",
       "      <th>386</th>\n",
       "      <td>1.0</td>\n",
       "      <td>74.6916</td>\n",
       "      <td>1</td>\n",
       "      <td>107.4853</td>\n",
       "      <td>2</td>\n",
       "      <td>560</td>\n",
       "      <td>0</td>\n",
       "    </tr>\n",
       "    <tr>\n",
       "      <th>615</th>\n",
       "      <td>1.0</td>\n",
       "      <td>103.6764</td>\n",
       "      <td>0</td>\n",
       "      <td>0.0000</td>\n",
       "      <td>1</td>\n",
       "      <td>440</td>\n",
       "      <td>0</td>\n",
       "    </tr>\n",
       "    <tr>\n",
       "      <th>236</th>\n",
       "      <td>1.0</td>\n",
       "      <td>94.2006</td>\n",
       "      <td>1</td>\n",
       "      <td>67.8170</td>\n",
       "      <td>2</td>\n",
       "      <td>457</td>\n",
       "      <td>0</td>\n",
       "    </tr>\n",
       "  </tbody>\n",
       "</table>\n",
       "</div>"
      ],
      "text/plain": [
       "      const  area_primer_piso  tiene_segundo_piso  area_segundo_piso  \\\n",
       "1303    1.0           65.7732                   0             0.0000   \n",
       "326     1.0           55.3684                   1            55.3684   \n",
       "386     1.0           74.6916                   1           107.4853   \n",
       "615     1.0          103.6764                   0             0.0000   \n",
       "236     1.0           94.2006                   1            67.8170   \n",
       "\n",
       "      cantidad_banos  capacidad_carros_garage  calidad_de_cocina_excelente  \n",
       "1303               1                        0                            0  \n",
       "326                1                      189                            0  \n",
       "386                2                      560                            0  \n",
       "615                1                      440                            0  \n",
       "236                2                      457                            0  "
      ]
     },
     "execution_count": 28,
     "metadata": {},
     "output_type": "execute_result"
    }
   ],
   "source": [
    "# Añadiendo una constante\n",
    "X_train = sm.add_constant(X_train)\n",
    "X_train.head()"
   ]
  },
  {
   "cell_type": "code",
   "execution_count": 29,
   "metadata": {
    "executionInfo": {
     "elapsed": 2,
     "status": "ok",
     "timestamp": 1753126390346,
     "user": {
      "displayName": "Elias Celis",
      "userId": "07132738901482165301"
     },
     "user_tz": 240
    },
    "id": "ckQxxe5ISxZB"
   },
   "outputs": [],
   "source": [
    "# Creando el modelo de regresión (con todas las variables): saturado\n",
    "modelo_1 = sm.OLS(y_train,X_train[['const', 'area_primer_piso', 'tiene_segundo_piso', 'area_segundo_piso',\n",
    "       'cantidad_banos', 'capacidad_carros_garage',\n",
    "       'calidad_de_cocina_excelente']]).fit()"
   ]
  },
  {
   "cell_type": "code",
   "execution_count": 30,
   "metadata": {
    "executionInfo": {
     "elapsed": 1,
     "status": "ok",
     "timestamp": 1753126390346,
     "user": {
      "displayName": "Elias Celis",
      "userId": "07132738901482165301"
     },
     "user_tz": 240
    },
    "id": "fssPSTIERvQ1"
   },
   "outputs": [],
   "source": [
    "# Modelo sin el área del segundo piso\n",
    "modelo_2 = sm.OLS(y_train,X_train[['const', 'area_primer_piso', 'tiene_segundo_piso',\n",
    "                                  'cantidad_banos', 'capacidad_carros_garage',\n",
    "                                  'calidad_de_cocina_excelente']]).fit()"
   ]
  },
  {
   "cell_type": "code",
   "execution_count": 31,
   "metadata": {
    "executionInfo": {
     "elapsed": 0,
     "status": "ok",
     "timestamp": 1753126390347,
     "user": {
      "displayName": "Elias Celis",
      "userId": "07132738901482165301"
     },
     "user_tz": 240
    },
    "id": "VA2ExIS6ReQg"
   },
   "outputs": [],
   "source": [
    "# Modelo sin la información del garage\n",
    "# Modelo sin el área del segundo piso\n",
    "modelo_3 = sm.OLS(y_train,X_train[['const', 'area_primer_piso', 'tiene_segundo_piso',\n",
    "                                  'cantidad_banos', 'calidad_de_cocina_excelente']]).fit()"
   ]
  },
  {
   "cell_type": "code",
   "execution_count": 32,
   "metadata": {
    "colab": {
     "base_uri": "https://localhost:8080/"
    },
    "executionInfo": {
     "elapsed": 12,
     "status": "ok",
     "timestamp": 1753126390360,
     "user": {
      "displayName": "Elias Celis",
      "userId": "07132738901482165301"
     },
     "user_tz": 240
    },
    "id": "w6AjciTufCbF",
    "outputId": "61861d35-f045-42f8-d89e-4dac8aad4eea"
   },
   "outputs": [
    {
     "name": "stdout",
     "output_type": "stream",
     "text": [
      "**************************************************************************\n",
      "*************** El modelo 0 tiene el siguiente resumen *******************\n",
      "**************************************************************************\n",
      "                            OLS Regression Results                            \n",
      "==============================================================================\n",
      "Dep. Variable:        precio_de_venta   R-squared:                       0.377\n",
      "Model:                            OLS   Adj. R-squared:                  0.377\n",
      "Method:                 Least Squares   F-statistic:                     608.3\n",
      "Date:                Mon, 04 Aug 2025   Prob (F-statistic):          2.22e-105\n",
      "Time:                        19:39:53   Log-Likelihood:                -14082.\n",
      "No. Observations:                1006   AIC:                         2.817e+04\n",
      "Df Residuals:                    1004   BIC:                         2.818e+04\n",
      "Df Model:                           1                                         \n",
      "Covariance Type:            nonrobust                                         \n",
      "====================================================================================\n",
      "                       coef    std err          t      P>|t|      [0.025      0.975]\n",
      "------------------------------------------------------------------------------------\n",
      "Intercept         1.529e+05   3.07e+04      4.981      0.000    9.27e+04    2.13e+05\n",
      "area_primer_piso  6793.6416    275.455     24.663      0.000    6253.109    7334.175\n",
      "==============================================================================\n",
      "Omnibus:                      190.778   Durbin-Watson:                   2.047\n",
      "Prob(Omnibus):                  0.000   Jarque-Bera (JB):              482.457\n",
      "Skew:                           0.998   Prob(JB):                    1.72e-105\n",
      "Kurtosis:                       5.743   Cond. No.                         373.\n",
      "==============================================================================\n",
      "\n",
      "Notes:\n",
      "[1] Standard Errors assume that the covariance matrix of the errors is correctly specified. \n",
      "\n",
      "\n",
      "**************************************************************************\n",
      "*************** El modelo 1 tiene el siguiente resumen *******************\n",
      "**************************************************************************\n",
      "                            OLS Regression Results                            \n",
      "==============================================================================\n",
      "Dep. Variable:        precio_de_venta   R-squared:                       0.741\n",
      "Model:                            OLS   Adj. R-squared:                  0.740\n",
      "Method:                 Least Squares   F-statistic:                     477.4\n",
      "Date:                Mon, 04 Aug 2025   Prob (F-statistic):          2.79e-289\n",
      "Time:                        19:39:53   Log-Likelihood:                -13640.\n",
      "No. Observations:                1006   AIC:                         2.729e+04\n",
      "Df Residuals:                     999   BIC:                         2.733e+04\n",
      "Df Model:                           6                                         \n",
      "Covariance Type:            nonrobust                                         \n",
      "===============================================================================================\n",
      "                                  coef    std err          t      P>|t|      [0.025      0.975]\n",
      "-----------------------------------------------------------------------------------------------\n",
      "const                       -6.125e+04   2.66e+04     -2.300      0.022   -1.14e+05   -8995.504\n",
      "area_primer_piso             4875.9606    263.564     18.500      0.000    4358.757    5393.164\n",
      "tiene_segundo_piso          -1.344e+05   3.28e+04     -4.100      0.000   -1.99e+05   -7.01e+04\n",
      "area_segundo_piso            4709.3824    415.473     11.335      0.000    3894.082    5524.683\n",
      "cantidad_banos               6.463e+04   1.44e+04      4.477      0.000    3.63e+04     9.3e+04\n",
      "capacidad_carros_garage       432.7614     34.818     12.429      0.000     364.437     501.086\n",
      "calidad_de_cocina_excelente  3.779e+05   2.51e+04     15.034      0.000    3.29e+05    4.27e+05\n",
      "==============================================================================\n",
      "Omnibus:                      122.435   Durbin-Watson:                   2.087\n",
      "Prob(Omnibus):                  0.000   Jarque-Bera (JB):              951.557\n",
      "Skew:                           0.235   Prob(JB):                    2.35e-207\n",
      "Kurtosis:                       7.741   Cond. No.                     3.24e+03\n",
      "==============================================================================\n",
      "\n",
      "Notes:\n",
      "[1] Standard Errors assume that the covariance matrix of the errors is correctly specified.\n",
      "[2] The condition number is large, 3.24e+03. This might indicate that there are\n",
      "strong multicollinearity or other numerical problems. \n",
      "\n",
      "\n",
      "**************************************************************************\n",
      "*************** El modelo 2 tiene el siguiente resumen *******************\n",
      "**************************************************************************\n",
      "                            OLS Regression Results                            \n",
      "==============================================================================\n",
      "Dep. Variable:        precio_de_venta   R-squared:                       0.708\n",
      "Model:                            OLS   Adj. R-squared:                  0.707\n",
      "Method:                 Least Squares   F-statistic:                     485.3\n",
      "Date:                Mon, 04 Aug 2025   Prob (F-statistic):          1.93e-264\n",
      "Time:                        19:39:53   Log-Likelihood:                -13701.\n",
      "No. Observations:                1006   AIC:                         2.741e+04\n",
      "Df Residuals:                    1000   BIC:                         2.744e+04\n",
      "Df Model:                           5                                         \n",
      "Covariance Type:            nonrobust                                         \n",
      "===============================================================================================\n",
      "                                  coef    std err          t      P>|t|      [0.025      0.975]\n",
      "-----------------------------------------------------------------------------------------------\n",
      "const                       -1.418e+05   2.73e+04     -5.202      0.000   -1.95e+05   -8.83e+04\n",
      "area_primer_piso             4746.1134    279.596     16.975      0.000    4197.451    5294.776\n",
      "tiene_segundo_piso           1.929e+05   1.65e+04     11.713      0.000    1.61e+05    2.25e+05\n",
      "cantidad_banos                1.07e+05   1.48e+04      7.224      0.000    7.79e+04    1.36e+05\n",
      "capacidad_carros_garage       507.4068     36.303     13.977      0.000     436.167     578.646\n",
      "calidad_de_cocina_excelente  3.849e+05   2.67e+04     14.423      0.000    3.32e+05    4.37e+05\n",
      "==============================================================================\n",
      "Omnibus:                      159.386   Durbin-Watson:                   2.079\n",
      "Prob(Omnibus):                  0.000   Jarque-Bera (JB):             1319.296\n",
      "Skew:                           0.452   Prob(JB):                    3.30e-287\n",
      "Kurtosis:                       8.537   Cond. No.                     2.60e+03\n",
      "==============================================================================\n",
      "\n",
      "Notes:\n",
      "[1] Standard Errors assume that the covariance matrix of the errors is correctly specified.\n",
      "[2] The condition number is large, 2.6e+03. This might indicate that there are\n",
      "strong multicollinearity or other numerical problems. \n",
      "\n",
      "\n",
      "**************************************************************************\n",
      "*************** El modelo 3 tiene el siguiente resumen *******************\n",
      "**************************************************************************\n",
      "                            OLS Regression Results                            \n",
      "==============================================================================\n",
      "Dep. Variable:        precio_de_venta   R-squared:                       0.651\n",
      "Model:                            OLS   Adj. R-squared:                  0.650\n",
      "Method:                 Least Squares   F-statistic:                     467.1\n",
      "Date:                Mon, 04 Aug 2025   Prob (F-statistic):          4.15e-227\n",
      "Time:                        19:39:53   Log-Likelihood:                -13790.\n",
      "No. Observations:                1006   AIC:                         2.759e+04\n",
      "Df Residuals:                    1001   BIC:                         2.762e+04\n",
      "Df Model:                           4                                         \n",
      "Covariance Type:            nonrobust                                         \n",
      "===============================================================================================\n",
      "                                  coef    std err          t      P>|t|      [0.025      0.975]\n",
      "-----------------------------------------------------------------------------------------------\n",
      "const                         -1.3e+05   2.98e+04     -4.367      0.000   -1.88e+05   -7.16e+04\n",
      "area_primer_piso             6119.6532    286.041     21.394      0.000    5558.344    6680.963\n",
      "tiene_segundo_piso           2.213e+05   1.79e+04     12.390      0.000    1.86e+05    2.56e+05\n",
      "cantidad_banos                1.49e+05   1.58e+04      9.407      0.000    1.18e+05     1.8e+05\n",
      "calidad_de_cocina_excelente  4.444e+05   2.88e+04     15.437      0.000    3.88e+05    5.01e+05\n",
      "==============================================================================\n",
      "Omnibus:                      119.666   Durbin-Watson:                   2.096\n",
      "Prob(Omnibus):                  0.000   Jarque-Bera (JB):              627.200\n",
      "Skew:                           0.403   Prob(JB):                    6.39e-137\n",
      "Kurtosis:                       6.783   Cond. No.                         547.\n",
      "==============================================================================\n",
      "\n",
      "Notes:\n",
      "[1] Standard Errors assume that the covariance matrix of the errors is correctly specified. \n",
      "\n",
      "\n"
     ]
    }
   ],
   "source": [
    "# Resumen del modelos\n",
    "modelos = [modelo_0,modelo_1,modelo_2,modelo_3]\n",
    "\n",
    "for i,j in enumerate(modelos):\n",
    "  print(f'**************************************************************************\\n*************** El modelo {i} tiene el siguiente resumen *******************\\n**************************************************************************')\n",
    "  print(j.summary(),'\\n\\n')"
   ]
  },
  {
   "cell_type": "code",
   "execution_count": 33,
   "metadata": {
    "colab": {
     "base_uri": "https://localhost:8080/"
    },
    "executionInfo": {
     "elapsed": 6,
     "status": "ok",
     "timestamp": 1753126390361,
     "user": {
      "displayName": "Elias Celis",
      "userId": "07132738901482165301"
     },
     "user_tz": 240
    },
    "id": "wKaBPSzgJHvb",
    "outputId": "17e42f78-2e10-4df1-d5e7-9debab0543ba"
   },
   "outputs": [
    {
     "name": "stdout",
     "output_type": "stream",
     "text": [
      "El coeficiente de determinación R² del modelo 0: 0.38\n",
      "El coeficiente de determinación R² del modelo 1: 0.74\n",
      "El coeficiente de determinación R² del modelo 2: 0.71\n",
      "El coeficiente de determinación R² del modelo 3: 0.65\n"
     ]
    }
   ],
   "source": [
    "for i,j in enumerate(modelos):\n",
    "  print(f'El coeficiente de determinación R² del modelo {i}: {j.rsquared.round(2)}')"
   ]
  },
  {
   "cell_type": "markdown",
   "metadata": {
    "id": "J94_6l43r6Uq"
   },
   "source": [
    "## Comparando los modelos\n",
    "Cuál es el modelo?\n"
   ]
  },
  {
   "cell_type": "code",
   "execution_count": 34,
   "metadata": {
    "colab": {
     "base_uri": "https://localhost:8080/",
     "height": 241
    },
    "executionInfo": {
     "elapsed": 2,
     "status": "ok",
     "timestamp": 1753126390363,
     "user": {
      "displayName": "Elias Celis",
      "userId": "07132738901482165301"
     },
     "user_tz": 240
    },
    "id": "v6lepZJAig3p",
    "outputId": "305e9832-16dd-497b-cfc0-ec9f09732775"
   },
   "outputs": [
    {
     "data": {
      "text/plain": [
       "const                         -129979.678094\n",
       "area_primer_piso                 6119.653184\n",
       "tiene_segundo_piso             221306.959705\n",
       "cantidad_banos                 149036.289458\n",
       "calidad_de_cocina_excelente    444391.228573\n",
       "dtype: float64"
      ]
     },
     "execution_count": 34,
     "metadata": {},
     "output_type": "execute_result"
    }
   ],
   "source": [
    "# Cuántos parámetros tiene el modelo?\n",
    "modelo_3.params"
   ]
  },
  {
   "cell_type": "markdown",
   "metadata": {
    "id": "T9mIZFbGi70G"
   },
   "source": [
    "# 4. Precificando las casas"
   ]
  },
  {
   "cell_type": "markdown",
   "metadata": {
    "id": "OafzmGZtCVc3"
   },
   "source": [
    "## Obteniendo el R² de la previsión"
   ]
  },
  {
   "cell_type": "code",
   "execution_count": 58,
   "metadata": {
    "colab": {
     "base_uri": "https://localhost:8080/",
     "height": 132
    },
    "executionInfo": {
     "elapsed": 3,
     "status": "ok",
     "timestamp": 1753126390365,
     "user": {
      "displayName": "Elias Celis",
      "userId": "07132738901482165301"
     },
     "user_tz": 240
    },
    "id": "mC87-JGBkp2j",
    "outputId": "7f15cace-ed28-49a3-e758-0726a01118f7"
   },
   "outputs": [
    {
     "data": {
      "text/html": [
       "<div>\n",
       "<style scoped>\n",
       "    .dataframe tbody tr th:only-of-type {\n",
       "        vertical-align: middle;\n",
       "    }\n",
       "\n",
       "    .dataframe tbody tr th {\n",
       "        vertical-align: top;\n",
       "    }\n",
       "\n",
       "    .dataframe thead th {\n",
       "        text-align: right;\n",
       "    }\n",
       "</style>\n",
       "<table border=\"1\" class=\"dataframe\">\n",
       "  <thead>\n",
       "    <tr style=\"text-align: right;\">\n",
       "      <th></th>\n",
       "      <th>const</th>\n",
       "      <th>area_primer_piso</th>\n",
       "      <th>tiene_segundo_piso</th>\n",
       "      <th>area_segundo_piso</th>\n",
       "      <th>cantidad_banos</th>\n",
       "      <th>capacidad_carros_garage</th>\n",
       "      <th>calidad_de_cocina_excelente</th>\n",
       "    </tr>\n",
       "  </thead>\n",
       "  <tbody>\n",
       "    <tr>\n",
       "      <th>997</th>\n",
       "      <td>1.0</td>\n",
       "      <td>94.9438</td>\n",
       "      <td>0</td>\n",
       "      <td>0.0000</td>\n",
       "      <td>1</td>\n",
       "      <td>280</td>\n",
       "      <td>0</td>\n",
       "    </tr>\n",
       "    <tr>\n",
       "      <th>805</th>\n",
       "      <td>1.0</td>\n",
       "      <td>74.1342</td>\n",
       "      <td>1</td>\n",
       "      <td>78.2218</td>\n",
       "      <td>2</td>\n",
       "      <td>595</td>\n",
       "      <td>0</td>\n",
       "    </tr>\n",
       "    <tr>\n",
       "      <th>1138</th>\n",
       "      <td>1.0</td>\n",
       "      <td>117.5185</td>\n",
       "      <td>0</td>\n",
       "      <td>0.0000</td>\n",
       "      <td>2</td>\n",
       "      <td>502</td>\n",
       "      <td>0</td>\n",
       "    </tr>\n",
       "    <tr>\n",
       "      <th>1391</th>\n",
       "      <td>1.0</td>\n",
       "      <td>171.3076</td>\n",
       "      <td>0</td>\n",
       "      <td>0.0000</td>\n",
       "      <td>2</td>\n",
       "      <td>620</td>\n",
       "      <td>0</td>\n",
       "    </tr>\n",
       "    <tr>\n",
       "      <th>516</th>\n",
       "      <td>1.0</td>\n",
       "      <td>117.6114</td>\n",
       "      <td>0</td>\n",
       "      <td>0.0000</td>\n",
       "      <td>2</td>\n",
       "      <td>453</td>\n",
       "      <td>0</td>\n",
       "    </tr>\n",
       "    <tr>\n",
       "      <th>...</th>\n",
       "      <td>...</td>\n",
       "      <td>...</td>\n",
       "      <td>...</td>\n",
       "      <td>...</td>\n",
       "      <td>...</td>\n",
       "      <td>...</td>\n",
       "      <td>...</td>\n",
       "    </tr>\n",
       "    <tr>\n",
       "      <th>1051</th>\n",
       "      <td>1.0</td>\n",
       "      <td>82.9597</td>\n",
       "      <td>0</td>\n",
       "      <td>0.0000</td>\n",
       "      <td>1</td>\n",
       "      <td>576</td>\n",
       "      <td>0</td>\n",
       "    </tr>\n",
       "    <tr>\n",
       "      <th>484</th>\n",
       "      <td>1.0</td>\n",
       "      <td>88.9982</td>\n",
       "      <td>1</td>\n",
       "      <td>57.5980</td>\n",
       "      <td>1</td>\n",
       "      <td>240</td>\n",
       "      <td>0</td>\n",
       "    </tr>\n",
       "    <tr>\n",
       "      <th>1357</th>\n",
       "      <td>1.0</td>\n",
       "      <td>44.8707</td>\n",
       "      <td>1</td>\n",
       "      <td>46.8216</td>\n",
       "      <td>1</td>\n",
       "      <td>264</td>\n",
       "      <td>0</td>\n",
       "    </tr>\n",
       "    <tr>\n",
       "      <th>844</th>\n",
       "      <td>1.0</td>\n",
       "      <td>84.7248</td>\n",
       "      <td>1</td>\n",
       "      <td>47.7506</td>\n",
       "      <td>1</td>\n",
       "      <td>216</td>\n",
       "      <td>0</td>\n",
       "    </tr>\n",
       "    <tr>\n",
       "      <th>185</th>\n",
       "      <td>1.0</td>\n",
       "      <td>113.0593</td>\n",
       "      <td>0</td>\n",
       "      <td>0.0000</td>\n",
       "      <td>2</td>\n",
       "      <td>497</td>\n",
       "      <td>0</td>\n",
       "    </tr>\n",
       "  </tbody>\n",
       "</table>\n",
       "<p>432 rows × 7 columns</p>\n",
       "</div>"
      ],
      "text/plain": [
       "      const  area_primer_piso  tiene_segundo_piso  area_segundo_piso  \\\n",
       "997     1.0           94.9438                   0             0.0000   \n",
       "805     1.0           74.1342                   1            78.2218   \n",
       "1138    1.0          117.5185                   0             0.0000   \n",
       "1391    1.0          171.3076                   0             0.0000   \n",
       "516     1.0          117.6114                   0             0.0000   \n",
       "...     ...               ...                 ...                ...   \n",
       "1051    1.0           82.9597                   0             0.0000   \n",
       "484     1.0           88.9982                   1            57.5980   \n",
       "1357    1.0           44.8707                   1            46.8216   \n",
       "844     1.0           84.7248                   1            47.7506   \n",
       "185     1.0          113.0593                   0             0.0000   \n",
       "\n",
       "      cantidad_banos  capacidad_carros_garage  calidad_de_cocina_excelente  \n",
       "997                1                      280                            0  \n",
       "805                2                      595                            0  \n",
       "1138               2                      502                            0  \n",
       "1391               2                      620                            0  \n",
       "516                2                      453                            0  \n",
       "...              ...                      ...                          ...  \n",
       "1051               1                      576                            0  \n",
       "484                1                      240                            0  \n",
       "1357               1                      264                            0  \n",
       "844                1                      216                            0  \n",
       "185                2                      497                            0  \n",
       "\n",
       "[432 rows x 7 columns]"
      ]
     },
     "execution_count": 58,
     "metadata": {},
     "output_type": "execute_result"
    }
   ],
   "source": [
    "# Añadiendo una constante en X_test\n",
    "X_test = sm.add_constant(X_test)\n",
    "X_test"
   ]
  },
  {
   "cell_type": "code",
   "execution_count": 36,
   "metadata": {
    "executionInfo": {
     "elapsed": 23,
     "status": "ok",
     "timestamp": 1753126390388,
     "user": {
      "displayName": "Elias Celis",
      "userId": "07132738901482165301"
     },
     "user_tz": 240
    },
    "id": "qqKdimX5kM3-"
   },
   "outputs": [],
   "source": [
    "# Previsión con el modelo 3\n",
    "prevision_3 = modelo_3.predict(X_test[['const', 'area_primer_piso', 'tiene_segundo_piso',\n",
    "                                  'cantidad_banos', 'calidad_de_cocina_excelente']])"
   ]
  },
  {
   "cell_type": "code",
   "execution_count": 37,
   "metadata": {
    "colab": {
     "base_uri": "https://localhost:8080/"
    },
    "executionInfo": {
     "elapsed": 28,
     "status": "ok",
     "timestamp": 1753126390394,
     "user": {
      "displayName": "Elias Celis",
      "userId": "07132738901482165301"
     },
     "user_tz": 240
    },
    "id": "ADmo3-n8ld4D",
    "outputId": "96c19973-81bb-485b-a11a-55091617aacd"
   },
   "outputs": [
    {
     "name": "stdout",
     "output_type": "stream",
     "text": [
      "El coeficiente R² de la base de previsión es: 0.65\n"
     ]
    }
   ],
   "source": [
    "# Cuál es el r² de la previsión?\n",
    "print(f'El coeficiente R² de la base de previsión es: {modelo_3.rsquared.round(2)}')"
   ]
  },
  {
   "cell_type": "code",
   "execution_count": 38,
   "metadata": {
    "colab": {
     "base_uri": "https://localhost:8080/"
    },
    "executionInfo": {
     "elapsed": 22,
     "status": "ok",
     "timestamp": 1753126390395,
     "user": {
      "displayName": "Elias Celis",
      "userId": "07132738901482165301"
     },
     "user_tz": 240
    },
    "id": "o5jXUBuhnpU4",
    "outputId": "f40bdb54-a480-4aac-eeef-8b34fcfd7e95"
   },
   "outputs": [
    {
     "name": "stdout",
     "output_type": "stream",
     "text": [
      "El coeficiente R² con respecto a la base de entrenamiento es: 0.64\n"
     ]
    }
   ],
   "source": [
    "# Cuál es el R² del entrenamiento?\n",
    "print(f'El coeficiente R² con respecto a la base de entrenamiento es: {round(r2_score(y_test,prevision_3),2)}')"
   ]
  },
  {
   "cell_type": "markdown",
   "metadata": {
    "id": "bnAKaKVJtqLD"
   },
   "source": [
    "## Precificando una casa\n",
    "\n",
    "<img src=\"https://i.ibb.co/SvG4V4j/costo.png\" alt=\"costo\" border=\"0\">"
   ]
  },
  {
   "cell_type": "code",
   "execution_count": 39,
   "metadata": {
    "colab": {
     "base_uri": "https://localhost:8080/"
    },
    "executionInfo": {
     "elapsed": 17,
     "status": "ok",
     "timestamp": 1753126390395,
     "user": {
      "displayName": "Elias Celis",
      "userId": "07132738901482165301"
     },
     "user_tz": 240
    },
    "id": "G2lIfTlFj3aY",
    "outputId": "de1759d0-6db5-4b07-d715-bb04b5e7fb18"
   },
   "outputs": [
    {
     "data": {
      "text/plain": [
       "Index(['area_primer_piso', 'tiene_segundo_piso', 'area_segundo_piso',\n",
       "       'cantidad_banos', 'capacidad_carros_garage',\n",
       "       'calidad_de_cocina_excelente', 'precio_de_venta'],\n",
       "      dtype='object')"
      ]
     },
     "execution_count": 39,
     "metadata": {},
     "output_type": "execute_result"
    }
   ],
   "source": [
    "datos.columns"
   ]
  },
  {
   "cell_type": "code",
   "execution_count": 40,
   "metadata": {
    "executionInfo": {
     "elapsed": 12,
     "status": "ok",
     "timestamp": 1753126390395,
     "user": {
      "displayName": "Elias Celis",
      "userId": "07132738901482165301"
     },
     "user_tz": 240
    },
    "id": "yshOHurZkkR0"
   },
   "outputs": [],
   "source": [
    "#Nuevo inmueble\n",
    "nuevo_inmueble = pd.DataFrame({\n",
    "    'const':[1],\n",
    "    'area_primer_piso':[120],\n",
    "    'tiene_segundo_piso':[1],\n",
    "    'cantidad_banos':[2],\n",
    "    'calidad_de_cocina_excelente':[0]\n",
    "})"
   ]
  },
  {
   "cell_type": "code",
   "execution_count": 41,
   "metadata": {
    "colab": {
     "base_uri": "https://localhost:8080/",
     "height": 115
    },
    "executionInfo": {
     "elapsed": 12,
     "status": "ok",
     "timestamp": 1753126390396,
     "user": {
      "displayName": "Elias Celis",
      "userId": "07132738901482165301"
     },
     "user_tz": 240
    },
    "id": "IYLwu7uKGDlx",
    "outputId": "f7f9348f-5a04-4885-f578-f3a0c058daba"
   },
   "outputs": [
    {
     "data": {
      "text/plain": [
       "0    968146.29\n",
       "dtype: float64"
      ]
     },
     "execution_count": 41,
     "metadata": {},
     "output_type": "execute_result"
    }
   ],
   "source": [
    "# Cuál es el precio del inmueble de acuerdo con el modelo 0?\n",
    "modelo_0.predict(nuevo_inmueble['area_primer_piso']).round(2)"
   ]
  },
  {
   "cell_type": "code",
   "execution_count": 42,
   "metadata": {
    "colab": {
     "base_uri": "https://localhost:8080/",
     "height": 115
    },
    "executionInfo": {
     "elapsed": 10,
     "status": "ok",
     "timestamp": 1753126390396,
     "user": {
      "displayName": "Elias Celis",
      "userId": "07132738901482165301"
     },
     "user_tz": 240
    },
    "id": "v-au2Ae4GyJH",
    "outputId": "eced527a-43ea-42d4-9ad7-3078de823c5d"
   },
   "outputs": [
    {
     "data": {
      "text/plain": [
       "0    1123758.24\n",
       "dtype: float64"
      ]
     },
     "execution_count": 42,
     "metadata": {},
     "output_type": "execute_result"
    }
   ],
   "source": [
    "#Cuál es el precio del inmueble de acuerdo con el modelo 3?\n",
    "modelo_3.predict(nuevo_inmueble).round(2)"
   ]
  },
  {
   "cell_type": "code",
   "execution_count": 43,
   "metadata": {
    "colab": {
     "base_uri": "https://localhost:8080/",
     "height": 241
    },
    "executionInfo": {
     "elapsed": 2,
     "status": "ok",
     "timestamp": 1753126390400,
     "user": {
      "displayName": "Elias Celis",
      "userId": "07132738901482165301"
     },
     "user_tz": 240
    },
    "id": "7XCdN-ufkgy0",
    "outputId": "94c4dbcb-c9cb-4549-f56c-25531d2da430"
   },
   "outputs": [
    {
     "data": {
      "text/plain": [
       "const                         -129979.678094\n",
       "area_primer_piso                 6119.653184\n",
       "tiene_segundo_piso             221306.959705\n",
       "cantidad_banos                 149036.289458\n",
       "calidad_de_cocina_excelente    444391.228573\n",
       "dtype: float64"
      ]
     },
     "execution_count": 43,
     "metadata": {},
     "output_type": "execute_result"
    }
   ],
   "source": [
    "modelo_3.params"
   ]
  },
  {
   "cell_type": "markdown",
   "metadata": {
    "id": "NhfoS16EtxpH"
   },
   "source": [
    "## Precificando varias casas\n",
    "\n",
    "<img src=\"https://i.imgur.com/i0skFlB.jpeg\" width=\"600\"/>"
   ]
  },
  {
   "cell_type": "code",
   "execution_count": 59,
   "metadata": {
    "colab": {
     "base_uri": "https://localhost:8080/",
     "height": 0
    },
    "executionInfo": {
     "elapsed": 977,
     "status": "ok",
     "timestamp": 1753126391380,
     "user": {
      "displayName": "Elias Celis",
      "userId": "07132738901482165301"
     },
     "user_tz": 240
    },
    "id": "d4bzNSLLYu35",
    "outputId": "93d66430-4aa4-44d2-957f-666337b1b04e"
   },
   "outputs": [
    {
     "data": {
      "text/html": [
       "<div>\n",
       "<style scoped>\n",
       "    .dataframe tbody tr th:only-of-type {\n",
       "        vertical-align: middle;\n",
       "    }\n",
       "\n",
       "    .dataframe tbody tr th {\n",
       "        vertical-align: top;\n",
       "    }\n",
       "\n",
       "    .dataframe thead th {\n",
       "        text-align: right;\n",
       "    }\n",
       "</style>\n",
       "<table border=\"1\" class=\"dataframe\">\n",
       "  <thead>\n",
       "    <tr style=\"text-align: right;\">\n",
       "      <th></th>\n",
       "      <th>Casa</th>\n",
       "      <th>area_primer_piso</th>\n",
       "      <th>tiene_segundo_piso</th>\n",
       "      <th>cantidad_banos</th>\n",
       "      <th>calidad_de_cocina_excelente</th>\n",
       "    </tr>\n",
       "  </thead>\n",
       "  <tbody>\n",
       "    <tr>\n",
       "      <th>0</th>\n",
       "      <td>1</td>\n",
       "      <td>150</td>\n",
       "      <td>1</td>\n",
       "      <td>2</td>\n",
       "      <td>1</td>\n",
       "    </tr>\n",
       "    <tr>\n",
       "      <th>1</th>\n",
       "      <td>2</td>\n",
       "      <td>180</td>\n",
       "      <td>0</td>\n",
       "      <td>3</td>\n",
       "      <td>1</td>\n",
       "    </tr>\n",
       "    <tr>\n",
       "      <th>2</th>\n",
       "      <td>3</td>\n",
       "      <td>120</td>\n",
       "      <td>1</td>\n",
       "      <td>2</td>\n",
       "      <td>1</td>\n",
       "    </tr>\n",
       "    <tr>\n",
       "      <th>3</th>\n",
       "      <td>4</td>\n",
       "      <td>200</td>\n",
       "      <td>1</td>\n",
       "      <td>3</td>\n",
       "      <td>1</td>\n",
       "    </tr>\n",
       "    <tr>\n",
       "      <th>4</th>\n",
       "      <td>5</td>\n",
       "      <td>160</td>\n",
       "      <td>0</td>\n",
       "      <td>2</td>\n",
       "      <td>1</td>\n",
       "    </tr>\n",
       "    <tr>\n",
       "      <th>5</th>\n",
       "      <td>6</td>\n",
       "      <td>140</td>\n",
       "      <td>1</td>\n",
       "      <td>2</td>\n",
       "      <td>0</td>\n",
       "    </tr>\n",
       "    <tr>\n",
       "      <th>6</th>\n",
       "      <td>7</td>\n",
       "      <td>170</td>\n",
       "      <td>0</td>\n",
       "      <td>3</td>\n",
       "      <td>0</td>\n",
       "    </tr>\n",
       "    <tr>\n",
       "      <th>7</th>\n",
       "      <td>8</td>\n",
       "      <td>190</td>\n",
       "      <td>1</td>\n",
       "      <td>2</td>\n",
       "      <td>0</td>\n",
       "    </tr>\n",
       "    <tr>\n",
       "      <th>8</th>\n",
       "      <td>9</td>\n",
       "      <td>130</td>\n",
       "      <td>0</td>\n",
       "      <td>2</td>\n",
       "      <td>0</td>\n",
       "    </tr>\n",
       "    <tr>\n",
       "      <th>9</th>\n",
       "      <td>10</td>\n",
       "      <td>180</td>\n",
       "      <td>1</td>\n",
       "      <td>3</td>\n",
       "      <td>0</td>\n",
       "    </tr>\n",
       "  </tbody>\n",
       "</table>\n",
       "</div>"
      ],
      "text/plain": [
       "   Casa  area_primer_piso  tiene_segundo_piso  cantidad_banos  \\\n",
       "0     1               150                   1               2   \n",
       "1     2               180                   0               3   \n",
       "2     3               120                   1               2   \n",
       "3     4               200                   1               3   \n",
       "4     5               160                   0               2   \n",
       "5     6               140                   1               2   \n",
       "6     7               170                   0               3   \n",
       "7     8               190                   1               2   \n",
       "8     9               130                   0               2   \n",
       "9    10               180                   1               3   \n",
       "\n",
       "   calidad_de_cocina_excelente  \n",
       "0                            1  \n",
       "1                            1  \n",
       "2                            1  \n",
       "3                            1  \n",
       "4                            1  \n",
       "5                            0  \n",
       "6                            0  \n",
       "7                            0  \n",
       "8                            0  \n",
       "9                            0  "
      ]
     },
     "execution_count": 59,
     "metadata": {},
     "output_type": "execute_result"
    }
   ],
   "source": [
    "# Leyendo varias casas?\n",
    "nuevas_casas = pd.read_csv('../data/nuevas_casas.csv', sep=';')\n",
    "nuevas_casas"
   ]
  },
  {
   "cell_type": "code",
   "execution_count": 46,
   "metadata": {
    "executionInfo": {
     "elapsed": 2,
     "status": "ok",
     "timestamp": 1753126391380,
     "user": {
      "displayName": "Elias Celis",
      "userId": "07132738901482165301"
     },
     "user_tz": 240
    },
    "id": "a3fKRoblZYYZ"
   },
   "outputs": [],
   "source": [
    "nuevas_casas.drop(columns='Casa',inplace=True)"
   ]
  },
  {
   "cell_type": "code",
   "execution_count": 47,
   "metadata": {
    "executionInfo": {
     "elapsed": 2,
     "status": "ok",
     "timestamp": 1753126391383,
     "user": {
      "displayName": "Elias Celis",
      "userId": "07132738901482165301"
     },
     "user_tz": 240
    },
    "id": "-irX-SIJH-vD"
   },
   "outputs": [],
   "source": [
    "# Añadiendo una constante\n",
    "nuevas_casas = sm.add_constant(nuevas_casas)"
   ]
  },
  {
   "cell_type": "code",
   "execution_count": 48,
   "metadata": {
    "colab": {
     "base_uri": "https://localhost:8080/",
     "height": 0
    },
    "executionInfo": {
     "elapsed": 8,
     "status": "ok",
     "timestamp": 1753126391408,
     "user": {
      "displayName": "Elias Celis",
      "userId": "07132738901482165301"
     },
     "user_tz": 240
    },
    "id": "zb5dhjx72x0J",
    "outputId": "7d55ca1b-41c5-4c12-9847-81a2f5eb6249"
   },
   "outputs": [
    {
     "data": {
      "text/html": [
       "<div>\n",
       "<style scoped>\n",
       "    .dataframe tbody tr th:only-of-type {\n",
       "        vertical-align: middle;\n",
       "    }\n",
       "\n",
       "    .dataframe tbody tr th {\n",
       "        vertical-align: top;\n",
       "    }\n",
       "\n",
       "    .dataframe thead th {\n",
       "        text-align: right;\n",
       "    }\n",
       "</style>\n",
       "<table border=\"1\" class=\"dataframe\">\n",
       "  <thead>\n",
       "    <tr style=\"text-align: right;\">\n",
       "      <th></th>\n",
       "      <th>const</th>\n",
       "      <th>area_primer_piso</th>\n",
       "      <th>tiene_segundo_piso</th>\n",
       "      <th>cantidad_banos</th>\n",
       "      <th>calidad_de_cocina_excelente</th>\n",
       "      <th>Precio de Venta</th>\n",
       "    </tr>\n",
       "  </thead>\n",
       "  <tbody>\n",
       "    <tr>\n",
       "      <th>0</th>\n",
       "      <td>1.0</td>\n",
       "      <td>150</td>\n",
       "      <td>1</td>\n",
       "      <td>2</td>\n",
       "      <td>1</td>\n",
       "      <td>1751739.07</td>\n",
       "    </tr>\n",
       "    <tr>\n",
       "      <th>1</th>\n",
       "      <td>1.0</td>\n",
       "      <td>180</td>\n",
       "      <td>0</td>\n",
       "      <td>3</td>\n",
       "      <td>1</td>\n",
       "      <td>1863057.99</td>\n",
       "    </tr>\n",
       "    <tr>\n",
       "      <th>2</th>\n",
       "      <td>1.0</td>\n",
       "      <td>120</td>\n",
       "      <td>1</td>\n",
       "      <td>2</td>\n",
       "      <td>1</td>\n",
       "      <td>1568149.47</td>\n",
       "    </tr>\n",
       "    <tr>\n",
       "      <th>3</th>\n",
       "      <td>1.0</td>\n",
       "      <td>200</td>\n",
       "      <td>1</td>\n",
       "      <td>3</td>\n",
       "      <td>1</td>\n",
       "      <td>2206758.02</td>\n",
       "    </tr>\n",
       "    <tr>\n",
       "      <th>4</th>\n",
       "      <td>1.0</td>\n",
       "      <td>160</td>\n",
       "      <td>0</td>\n",
       "      <td>2</td>\n",
       "      <td>1</td>\n",
       "      <td>1591628.64</td>\n",
       "    </tr>\n",
       "    <tr>\n",
       "      <th>5</th>\n",
       "      <td>1.0</td>\n",
       "      <td>140</td>\n",
       "      <td>1</td>\n",
       "      <td>2</td>\n",
       "      <td>0</td>\n",
       "      <td>1246151.31</td>\n",
       "    </tr>\n",
       "    <tr>\n",
       "      <th>6</th>\n",
       "      <td>1.0</td>\n",
       "      <td>170</td>\n",
       "      <td>0</td>\n",
       "      <td>3</td>\n",
       "      <td>0</td>\n",
       "      <td>1357470.23</td>\n",
       "    </tr>\n",
       "    <tr>\n",
       "      <th>7</th>\n",
       "      <td>1.0</td>\n",
       "      <td>190</td>\n",
       "      <td>1</td>\n",
       "      <td>2</td>\n",
       "      <td>0</td>\n",
       "      <td>1552133.97</td>\n",
       "    </tr>\n",
       "    <tr>\n",
       "      <th>8</th>\n",
       "      <td>1.0</td>\n",
       "      <td>130</td>\n",
       "      <td>0</td>\n",
       "      <td>2</td>\n",
       "      <td>0</td>\n",
       "      <td>963647.81</td>\n",
       "    </tr>\n",
       "    <tr>\n",
       "      <th>9</th>\n",
       "      <td>1.0</td>\n",
       "      <td>180</td>\n",
       "      <td>1</td>\n",
       "      <td>3</td>\n",
       "      <td>0</td>\n",
       "      <td>1639973.72</td>\n",
       "    </tr>\n",
       "  </tbody>\n",
       "</table>\n",
       "</div>"
      ],
      "text/plain": [
       "   const  area_primer_piso  tiene_segundo_piso  cantidad_banos  \\\n",
       "0    1.0               150                   1               2   \n",
       "1    1.0               180                   0               3   \n",
       "2    1.0               120                   1               2   \n",
       "3    1.0               200                   1               3   \n",
       "4    1.0               160                   0               2   \n",
       "5    1.0               140                   1               2   \n",
       "6    1.0               170                   0               3   \n",
       "7    1.0               190                   1               2   \n",
       "8    1.0               130                   0               2   \n",
       "9    1.0               180                   1               3   \n",
       "\n",
       "   calidad_de_cocina_excelente  Precio de Venta  \n",
       "0                            1       1751739.07  \n",
       "1                            1       1863057.99  \n",
       "2                            1       1568149.47  \n",
       "3                            1       2206758.02  \n",
       "4                            1       1591628.64  \n",
       "5                            0       1246151.31  \n",
       "6                            0       1357470.23  \n",
       "7                            0       1552133.97  \n",
       "8                            0        963647.81  \n",
       "9                            0       1639973.72  "
      ]
     },
     "execution_count": 48,
     "metadata": {},
     "output_type": "execute_result"
    }
   ],
   "source": [
    "# Cuál es el precio de estas nuevas casas?\n",
    "# precio_casas = pd.DataFrame()\n",
    "nuevas_casas['Precio de Venta'] = modelo_3.predict(nuevas_casas).round(2)\n",
    "nuevas_casas"
   ]
  },
  {
   "cell_type": "markdown",
   "metadata": {
    "id": "lOFOUylKt92e"
   },
   "source": [
    "# 5. Investigando el modelo\n",
    "\n",
    "\n",
    "\n"
   ]
  },
  {
   "cell_type": "markdown",
   "metadata": {
    "id": "k0xbnPMS8dYV"
   },
   "source": [
    "## Multicolinearidad\n",
    "\n",
    "Cuando dos o más cosas que estás intentando estudiar son tan parecidas que es difícil determinar cuánto está influyendo cada una de ellas en el resultado."
   ]
  },
  {
   "cell_type": "code",
   "execution_count": 49,
   "metadata": {
    "executionInfo": {
     "elapsed": 13,
     "status": "ok",
     "timestamp": 1753126391423,
     "user": {
      "displayName": "Elias Celis",
      "userId": "07132738901482165301"
     },
     "user_tz": 240
    },
    "id": "aKIeiwRe0QK0"
   },
   "outputs": [],
   "source": [
    "# importar el VIF de statsmodel\n",
    "from statsmodels.stats.outliers_influence import variance_inflation_factor as vif"
   ]
  },
  {
   "cell_type": "code",
   "execution_count": 50,
   "metadata": {
    "executionInfo": {
     "elapsed": 5,
     "status": "ok",
     "timestamp": 1753126391428,
     "user": {
      "displayName": "Elias Celis",
      "userId": "07132738901482165301"
     },
     "user_tz": 240
    },
    "id": "fq270OsF0R4b"
   },
   "outputs": [],
   "source": [
    "explicativas_1 = ['const', 'area_primer_piso', 'tiene_segundo_piso', 'area_segundo_piso',\n",
    "                  'cantidad_banos', 'capacidad_carros_garage',\n",
    "                  'calidad_de_cocina_excelente']\n",
    "explicativas_2 = ['const', 'area_primer_piso', 'tiene_segundo_piso',\n",
    "                  'cantidad_banos', 'capacidad_carros_garage',\n",
    "                  'calidad_de_cocina_excelente']\n",
    "explicativas_3 = ['const', 'area_primer_piso', 'tiene_segundo_piso',\n",
    "                  'cantidad_banos','calidad_de_cocina_excelente']"
   ]
  },
  {
   "cell_type": "code",
   "execution_count": 51,
   "metadata": {
    "colab": {
     "base_uri": "https://localhost:8080/",
     "height": 0
    },
    "executionInfo": {
     "elapsed": 26,
     "status": "ok",
     "timestamp": 1753126391457,
     "user": {
      "displayName": "Elias Celis",
      "userId": "07132738901482165301"
     },
     "user_tz": 240
    },
    "id": "ymryq_ETbsrs",
    "outputId": "5d7d7873-5d6f-4a75-e954-72a391dc4ec3"
   },
   "outputs": [
    {
     "data": {
      "text/html": [
       "<div>\n",
       "<style scoped>\n",
       "    .dataframe tbody tr th:only-of-type {\n",
       "        vertical-align: middle;\n",
       "    }\n",
       "\n",
       "    .dataframe tbody tr th {\n",
       "        vertical-align: top;\n",
       "    }\n",
       "\n",
       "    .dataframe thead th {\n",
       "        text-align: right;\n",
       "    }\n",
       "</style>\n",
       "<table border=\"1\" class=\"dataframe\">\n",
       "  <thead>\n",
       "    <tr style=\"text-align: right;\">\n",
       "      <th></th>\n",
       "      <th>variables</th>\n",
       "      <th>vif</th>\n",
       "    </tr>\n",
       "  </thead>\n",
       "  <tbody>\n",
       "    <tr>\n",
       "      <th>0</th>\n",
       "      <td>const</td>\n",
       "      <td>20.230833</td>\n",
       "    </tr>\n",
       "    <tr>\n",
       "      <th>1</th>\n",
       "      <td>area_primer_piso</td>\n",
       "      <td>2.193680</td>\n",
       "    </tr>\n",
       "    <tr>\n",
       "      <th>2</th>\n",
       "      <td>tiene_segundo_piso</td>\n",
       "      <td>7.455059</td>\n",
       "    </tr>\n",
       "    <tr>\n",
       "      <th>3</th>\n",
       "      <td>area_segundo_piso</td>\n",
       "      <td>7.589396</td>\n",
       "    </tr>\n",
       "    <tr>\n",
       "      <th>4</th>\n",
       "      <td>cantidad_banos</td>\n",
       "      <td>1.720795</td>\n",
       "    </tr>\n",
       "    <tr>\n",
       "      <th>5</th>\n",
       "      <td>capacidad_carros_garage</td>\n",
       "      <td>1.570078</td>\n",
       "    </tr>\n",
       "    <tr>\n",
       "      <th>6</th>\n",
       "      <td>calidad_de_cocina_excelente</td>\n",
       "      <td>1.182606</td>\n",
       "    </tr>\n",
       "  </tbody>\n",
       "</table>\n",
       "</div>"
      ],
      "text/plain": [
       "                     variables        vif\n",
       "0                        const  20.230833\n",
       "1             area_primer_piso   2.193680\n",
       "2           tiene_segundo_piso   7.455059\n",
       "3            area_segundo_piso   7.589396\n",
       "4               cantidad_banos   1.720795\n",
       "5      capacidad_carros_garage   1.570078\n",
       "6  calidad_de_cocina_excelente   1.182606"
      ]
     },
     "execution_count": 51,
     "metadata": {},
     "output_type": "execute_result"
    }
   ],
   "source": [
    "# VIF 1\n",
    "vif_1 = pd.DataFrame()\n",
    "vif_1['variables'] = explicativas_1\n",
    "vif_1['vif'] = [vif(X_train[explicativas_1],i) for i in range(len(explicativas_1))]\n",
    "vif_1"
   ]
  },
  {
   "cell_type": "code",
   "execution_count": 52,
   "metadata": {
    "colab": {
     "base_uri": "https://localhost:8080/",
     "height": 206
    },
    "executionInfo": {
     "elapsed": 36,
     "status": "ok",
     "timestamp": 1753126391498,
     "user": {
      "displayName": "Elias Celis",
      "userId": "07132738901482165301"
     },
     "user_tz": 240
    },
    "id": "O9NOvL_k0eAr",
    "outputId": "0fb3ffb6-a275-4410-bfd9-a7796b06c82e"
   },
   "outputs": [
    {
     "data": {
      "text/html": [
       "<div>\n",
       "<style scoped>\n",
       "    .dataframe tbody tr th:only-of-type {\n",
       "        vertical-align: middle;\n",
       "    }\n",
       "\n",
       "    .dataframe tbody tr th {\n",
       "        vertical-align: top;\n",
       "    }\n",
       "\n",
       "    .dataframe thead th {\n",
       "        text-align: right;\n",
       "    }\n",
       "</style>\n",
       "<table border=\"1\" class=\"dataframe\">\n",
       "  <thead>\n",
       "    <tr style=\"text-align: right;\">\n",
       "      <th></th>\n",
       "      <th>variables</th>\n",
       "      <th>vif</th>\n",
       "    </tr>\n",
       "  </thead>\n",
       "  <tbody>\n",
       "    <tr>\n",
       "      <th>0</th>\n",
       "      <td>const</td>\n",
       "      <td>18.773457</td>\n",
       "    </tr>\n",
       "    <tr>\n",
       "      <th>1</th>\n",
       "      <td>area_primer_piso</td>\n",
       "      <td>1.919046</td>\n",
       "    </tr>\n",
       "    <tr>\n",
       "      <th>2</th>\n",
       "      <td>tiene_segundo_piso</td>\n",
       "      <td>1.644067</td>\n",
       "    </tr>\n",
       "    <tr>\n",
       "      <th>3</th>\n",
       "      <td>cantidad_banos</td>\n",
       "      <td>1.539255</td>\n",
       "    </tr>\n",
       "    <tr>\n",
       "      <th>4</th>\n",
       "      <td>calidad_de_cocina_excelente</td>\n",
       "      <td>1.151795</td>\n",
       "    </tr>\n",
       "  </tbody>\n",
       "</table>\n",
       "</div>"
      ],
      "text/plain": [
       "                     variables        vif\n",
       "0                        const  18.773457\n",
       "1             area_primer_piso   1.919046\n",
       "2           tiene_segundo_piso   1.644067\n",
       "3               cantidad_banos   1.539255\n",
       "4  calidad_de_cocina_excelente   1.151795"
      ]
     },
     "execution_count": 52,
     "metadata": {},
     "output_type": "execute_result"
    }
   ],
   "source": [
    "# VIF 3\n",
    "vif_3 = pd.DataFrame()\n",
    "vif_3['variables'] = explicativas_3\n",
    "vif_3['vif'] = [vif(X_train[explicativas_3],i) for i in range(len(explicativas_3))]\n",
    "vif_3"
   ]
  },
  {
   "cell_type": "markdown",
   "metadata": {
    "id": "hFr8CYMVyOiY"
   },
   "source": [
    "## Análisis de los residuos\n",
    "\n",
    "Residuos: la discrepancia entre los valores reales y los valores que el modelo predice para los mismos puntos de datos."
   ]
  },
  {
   "cell_type": "code",
   "execution_count": 53,
   "metadata": {
    "executionInfo": {
     "elapsed": 10,
     "status": "ok",
     "timestamp": 1753126391499,
     "user": {
      "displayName": "Elias Celis",
      "userId": "07132738901482165301"
     },
     "user_tz": 240
    },
    "id": "bIMb3eX4zmbp"
   },
   "outputs": [],
   "source": [
    "# Previsión de los valores de entrenamiento X_train[explicativas_3]\n",
    "y_previsto_train = modelo_3.predict(X_train[explicativas_3])"
   ]
  },
  {
   "cell_type": "code",
   "execution_count": 60,
   "metadata": {
    "colab": {
     "base_uri": "https://localhost:8080/",
     "height": 542
    },
    "executionInfo": {
     "elapsed": 67,
     "status": "ok",
     "timestamp": 1753126391566,
     "user": {
      "displayName": "Elias Celis",
      "userId": "07132738901482165301"
     },
     "user_tz": 240
    },
    "id": "cm8xTOEigDlW",
    "outputId": "93433ae3-135d-4517-99fc-cc6aa7f59463"
   },
   "outputs": [
    {
     "data": {
      "application/vnd.plotly.v1+json": {
       "config": {
        "plotlyServerURL": "https://plot.ly"
       },
       "data": [
        {
         "hovertemplate": "Valor Previsto=%{x}<br>Valor Real=%{y}<extra></extra>",
         "legendgroup": "",
         "marker": {
          "color": "#636efa",
          "symbol": "circle"
         },
         "mode": "markers",
         "name": "",
         "showlegend": false,
         "type": "scattergl",
         "x": {
          "bdata": "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",
          "dtype": "f8"
         },
         "xaxis": "x",
         "y": {
          "bdata": "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",
          "dtype": "f8"
         },
         "yaxis": "y"
        }
       ],
       "layout": {
        "legend": {
         "tracegroupgap": 0
        },
        "template": {
         "data": {
          "bar": [
           {
            "error_x": {
             "color": "#2a3f5f"
            },
            "error_y": {
             "color": "#2a3f5f"
            },
            "marker": {
             "line": {
              "color": "#E5ECF6",
              "width": 0.5
             },
             "pattern": {
              "fillmode": "overlay",
              "size": 10,
              "solidity": 0.2
             }
            },
            "type": "bar"
           }
          ],
          "barpolar": [
           {
            "marker": {
             "line": {
              "color": "#E5ECF6",
              "width": 0.5
             },
             "pattern": {
              "fillmode": "overlay",
              "size": 10,
              "solidity": 0.2
             }
            },
            "type": "barpolar"
           }
          ],
          "carpet": [
           {
            "aaxis": {
             "endlinecolor": "#2a3f5f",
             "gridcolor": "white",
             "linecolor": "white",
             "minorgridcolor": "white",
             "startlinecolor": "#2a3f5f"
            },
            "baxis": {
             "endlinecolor": "#2a3f5f",
             "gridcolor": "white",
             "linecolor": "white",
             "minorgridcolor": "white",
             "startlinecolor": "#2a3f5f"
            },
            "type": "carpet"
           }
          ],
          "choropleth": [
           {
            "colorbar": {
             "outlinewidth": 0,
             "ticks": ""
            },
            "type": "choropleth"
           }
          ],
          "contour": [
           {
            "colorbar": {
             "outlinewidth": 0,
             "ticks": ""
            },
            "colorscale": [
             [
              0,
              "#0d0887"
             ],
             [
              0.1111111111111111,
              "#46039f"
             ],
             [
              0.2222222222222222,
              "#7201a8"
             ],
             [
              0.3333333333333333,
              "#9c179e"
             ],
             [
              0.4444444444444444,
              "#bd3786"
             ],
             [
              0.5555555555555556,
              "#d8576b"
             ],
             [
              0.6666666666666666,
              "#ed7953"
             ],
             [
              0.7777777777777778,
              "#fb9f3a"
             ],
             [
              0.8888888888888888,
              "#fdca26"
             ],
             [
              1,
              "#f0f921"
             ]
            ],
            "type": "contour"
           }
          ],
          "contourcarpet": [
           {
            "colorbar": {
             "outlinewidth": 0,
             "ticks": ""
            },
            "type": "contourcarpet"
           }
          ],
          "heatmap": [
           {
            "colorbar": {
             "outlinewidth": 0,
             "ticks": ""
            },
            "colorscale": [
             [
              0,
              "#0d0887"
             ],
             [
              0.1111111111111111,
              "#46039f"
             ],
             [
              0.2222222222222222,
              "#7201a8"
             ],
             [
              0.3333333333333333,
              "#9c179e"
             ],
             [
              0.4444444444444444,
              "#bd3786"
             ],
             [
              0.5555555555555556,
              "#d8576b"
             ],
             [
              0.6666666666666666,
              "#ed7953"
             ],
             [
              0.7777777777777778,
              "#fb9f3a"
             ],
             [
              0.8888888888888888,
              "#fdca26"
             ],
             [
              1,
              "#f0f921"
             ]
            ],
            "type": "heatmap"
           }
          ],
          "histogram": [
           {
            "marker": {
             "pattern": {
              "fillmode": "overlay",
              "size": 10,
              "solidity": 0.2
             }
            },
            "type": "histogram"
           }
          ],
          "histogram2d": [
           {
            "colorbar": {
             "outlinewidth": 0,
             "ticks": ""
            },
            "colorscale": [
             [
              0,
              "#0d0887"
             ],
             [
              0.1111111111111111,
              "#46039f"
             ],
             [
              0.2222222222222222,
              "#7201a8"
             ],
             [
              0.3333333333333333,
              "#9c179e"
             ],
             [
              0.4444444444444444,
              "#bd3786"
             ],
             [
              0.5555555555555556,
              "#d8576b"
             ],
             [
              0.6666666666666666,
              "#ed7953"
             ],
             [
              0.7777777777777778,
              "#fb9f3a"
             ],
             [
              0.8888888888888888,
              "#fdca26"
             ],
             [
              1,
              "#f0f921"
             ]
            ],
            "type": "histogram2d"
           }
          ],
          "histogram2dcontour": [
           {
            "colorbar": {
             "outlinewidth": 0,
             "ticks": ""
            },
            "colorscale": [
             [
              0,
              "#0d0887"
             ],
             [
              0.1111111111111111,
              "#46039f"
             ],
             [
              0.2222222222222222,
              "#7201a8"
             ],
             [
              0.3333333333333333,
              "#9c179e"
             ],
             [
              0.4444444444444444,
              "#bd3786"
             ],
             [
              0.5555555555555556,
              "#d8576b"
             ],
             [
              0.6666666666666666,
              "#ed7953"
             ],
             [
              0.7777777777777778,
              "#fb9f3a"
             ],
             [
              0.8888888888888888,
              "#fdca26"
             ],
             [
              1,
              "#f0f921"
             ]
            ],
            "type": "histogram2dcontour"
           }
          ],
          "mesh3d": [
           {
            "colorbar": {
             "outlinewidth": 0,
             "ticks": ""
            },
            "type": "mesh3d"
           }
          ],
          "parcoords": [
           {
            "line": {
             "colorbar": {
              "outlinewidth": 0,
              "ticks": ""
             }
            },
            "type": "parcoords"
           }
          ],
          "pie": [
           {
            "automargin": true,
            "type": "pie"
           }
          ],
          "scatter": [
           {
            "fillpattern": {
             "fillmode": "overlay",
             "size": 10,
             "solidity": 0.2
            },
            "type": "scatter"
           }
          ],
          "scatter3d": [
           {
            "line": {
             "colorbar": {
              "outlinewidth": 0,
              "ticks": ""
             }
            },
            "marker": {
             "colorbar": {
              "outlinewidth": 0,
              "ticks": ""
             }
            },
            "type": "scatter3d"
           }
          ],
          "scattercarpet": [
           {
            "marker": {
             "colorbar": {
              "outlinewidth": 0,
              "ticks": ""
             }
            },
            "type": "scattercarpet"
           }
          ],
          "scattergeo": [
           {
            "marker": {
             "colorbar": {
              "outlinewidth": 0,
              "ticks": ""
             }
            },
            "type": "scattergeo"
           }
          ],
          "scattergl": [
           {
            "marker": {
             "colorbar": {
              "outlinewidth": 0,
              "ticks": ""
             }
            },
            "type": "scattergl"
           }
          ],
          "scattermap": [
           {
            "marker": {
             "colorbar": {
              "outlinewidth": 0,
              "ticks": ""
             }
            },
            "type": "scattermap"
           }
          ],
          "scattermapbox": [
           {
            "marker": {
             "colorbar": {
              "outlinewidth": 0,
              "ticks": ""
             }
            },
            "type": "scattermapbox"
           }
          ],
          "scatterpolar": [
           {
            "marker": {
             "colorbar": {
              "outlinewidth": 0,
              "ticks": ""
             }
            },
            "type": "scatterpolar"
           }
          ],
          "scatterpolargl": [
           {
            "marker": {
             "colorbar": {
              "outlinewidth": 0,
              "ticks": ""
             }
            },
            "type": "scatterpolargl"
           }
          ],
          "scatterternary": [
           {
            "marker": {
             "colorbar": {
              "outlinewidth": 0,
              "ticks": ""
             }
            },
            "type": "scatterternary"
           }
          ],
          "surface": [
           {
            "colorbar": {
             "outlinewidth": 0,
             "ticks": ""
            },
            "colorscale": [
             [
              0,
              "#0d0887"
             ],
             [
              0.1111111111111111,
              "#46039f"
             ],
             [
              0.2222222222222222,
              "#7201a8"
             ],
             [
              0.3333333333333333,
              "#9c179e"
             ],
             [
              0.4444444444444444,
              "#bd3786"
             ],
             [
              0.5555555555555556,
              "#d8576b"
             ],
             [
              0.6666666666666666,
              "#ed7953"
             ],
             [
              0.7777777777777778,
              "#fb9f3a"
             ],
             [
              0.8888888888888888,
              "#fdca26"
             ],
             [
              1,
              "#f0f921"
             ]
            ],
            "type": "surface"
           }
          ],
          "table": [
           {
            "cells": {
             "fill": {
              "color": "#EBF0F8"
             },
             "line": {
              "color": "white"
             }
            },
            "header": {
             "fill": {
              "color": "#C8D4E3"
             },
             "line": {
              "color": "white"
             }
            },
            "type": "table"
           }
          ]
         },
         "layout": {
          "annotationdefaults": {
           "arrowcolor": "#2a3f5f",
           "arrowhead": 0,
           "arrowwidth": 1
          },
          "autotypenumbers": "strict",
          "coloraxis": {
           "colorbar": {
            "outlinewidth": 0,
            "ticks": ""
           }
          },
          "colorscale": {
           "diverging": [
            [
             0,
             "#8e0152"
            ],
            [
             0.1,
             "#c51b7d"
            ],
            [
             0.2,
             "#de77ae"
            ],
            [
             0.3,
             "#f1b6da"
            ],
            [
             0.4,
             "#fde0ef"
            ],
            [
             0.5,
             "#f7f7f7"
            ],
            [
             0.6,
             "#e6f5d0"
            ],
            [
             0.7,
             "#b8e186"
            ],
            [
             0.8,
             "#7fbc41"
            ],
            [
             0.9,
             "#4d9221"
            ],
            [
             1,
             "#276419"
            ]
           ],
           "sequential": [
            [
             0,
             "#0d0887"
            ],
            [
             0.1111111111111111,
             "#46039f"
            ],
            [
             0.2222222222222222,
             "#7201a8"
            ],
            [
             0.3333333333333333,
             "#9c179e"
            ],
            [
             0.4444444444444444,
             "#bd3786"
            ],
            [
             0.5555555555555556,
             "#d8576b"
            ],
            [
             0.6666666666666666,
             "#ed7953"
            ],
            [
             0.7777777777777778,
             "#fb9f3a"
            ],
            [
             0.8888888888888888,
             "#fdca26"
            ],
            [
             1,
             "#f0f921"
            ]
           ],
           "sequentialminus": [
            [
             0,
             "#0d0887"
            ],
            [
             0.1111111111111111,
             "#46039f"
            ],
            [
             0.2222222222222222,
             "#7201a8"
            ],
            [
             0.3333333333333333,
             "#9c179e"
            ],
            [
             0.4444444444444444,
             "#bd3786"
            ],
            [
             0.5555555555555556,
             "#d8576b"
            ],
            [
             0.6666666666666666,
             "#ed7953"
            ],
            [
             0.7777777777777778,
             "#fb9f3a"
            ],
            [
             0.8888888888888888,
             "#fdca26"
            ],
            [
             1,
             "#f0f921"
            ]
           ]
          },
          "colorway": [
           "#636efa",
           "#EF553B",
           "#00cc96",
           "#ab63fa",
           "#FFA15A",
           "#19d3f3",
           "#FF6692",
           "#B6E880",
           "#FF97FF",
           "#FECB52"
          ],
          "font": {
           "color": "#2a3f5f"
          },
          "geo": {
           "bgcolor": "white",
           "lakecolor": "white",
           "landcolor": "#E5ECF6",
           "showlakes": true,
           "showland": true,
           "subunitcolor": "white"
          },
          "hoverlabel": {
           "align": "left"
          },
          "hovermode": "closest",
          "mapbox": {
           "style": "light"
          },
          "paper_bgcolor": "white",
          "plot_bgcolor": "#E5ECF6",
          "polar": {
           "angularaxis": {
            "gridcolor": "white",
            "linecolor": "white",
            "ticks": ""
           },
           "bgcolor": "#E5ECF6",
           "radialaxis": {
            "gridcolor": "white",
            "linecolor": "white",
            "ticks": ""
           }
          },
          "scene": {
           "xaxis": {
            "backgroundcolor": "#E5ECF6",
            "gridcolor": "white",
            "gridwidth": 2,
            "linecolor": "white",
            "showbackground": true,
            "ticks": "",
            "zerolinecolor": "white"
           },
           "yaxis": {
            "backgroundcolor": "#E5ECF6",
            "gridcolor": "white",
            "gridwidth": 2,
            "linecolor": "white",
            "showbackground": true,
            "ticks": "",
            "zerolinecolor": "white"
           },
           "zaxis": {
            "backgroundcolor": "#E5ECF6",
            "gridcolor": "white",
            "gridwidth": 2,
            "linecolor": "white",
            "showbackground": true,
            "ticks": "",
            "zerolinecolor": "white"
           }
          },
          "shapedefaults": {
           "line": {
            "color": "#2a3f5f"
           }
          },
          "ternary": {
           "aaxis": {
            "gridcolor": "white",
            "linecolor": "white",
            "ticks": ""
           },
           "baxis": {
            "gridcolor": "white",
            "linecolor": "white",
            "ticks": ""
           },
           "bgcolor": "#E5ECF6",
           "caxis": {
            "gridcolor": "white",
            "linecolor": "white",
            "ticks": ""
           }
          },
          "title": {
           "x": 0.05
          },
          "xaxis": {
           "automargin": true,
           "gridcolor": "white",
           "linecolor": "white",
           "ticks": "",
           "title": {
            "standoff": 15
           },
           "zerolinecolor": "white",
           "zerolinewidth": 2
          },
          "yaxis": {
           "automargin": true,
           "gridcolor": "white",
           "linecolor": "white",
           "ticks": "",
           "title": {
            "standoff": 15
           },
           "zerolinecolor": "white",
           "zerolinewidth": 2
          }
         }
        },
        "title": {
         "text": "Valor Previsto vs Real"
        },
        "xaxis": {
         "anchor": "y",
         "domain": [
          0,
          1
         ],
         "title": {
          "text": "Valor Previsto"
         }
        },
        "yaxis": {
         "anchor": "x",
         "domain": [
          0,
          1
         ],
         "title": {
          "text": "Valor Real"
         }
        }
       }
      }
     },
     "metadata": {},
     "output_type": "display_data"
    }
   ],
   "source": [
    "# Generando un scatter plot entre y_previsto e y_train\n",
    "fig = px.scatter(\n",
    "    x=y_previsto_train, \n",
    "    y=y_train, title='Valor Previsto vs Real',\n",
    "    labels={'x':'Valor Previsto','y':'Valor Real'})\n",
    "fig.show()"
   ]
  },
  {
   "cell_type": "code",
   "execution_count": 55,
   "metadata": {
    "colab": {
     "base_uri": "https://localhost:8080/",
     "height": 542
    },
    "executionInfo": {
     "elapsed": 46,
     "status": "ok",
     "timestamp": 1753126391611,
     "user": {
      "displayName": "Elias Celis",
      "userId": "07132738901482165301"
     },
     "user_tz": 240
    },
    "id": "YnyCrbtFfzJ-",
    "outputId": "454f62b8-7563-446a-a57f-510d12d3da89"
   },
   "outputs": [
    {
     "data": {
      "application/vnd.plotly.v1+json": {
       "config": {
        "plotlyServerURL": "https://plot.ly"
       },
       "data": [
        {
         "hovertemplate": "Valor Previsto=%{x}<br>Residuos=%{y}<extra></extra>",
         "legendgroup": "",
         "marker": {
          "color": "#636efa",
          "symbol": "circle"
         },
         "mode": "markers",
         "name": "",
         "showlegend": false,
         "type": "scattergl",
         "x": {
          "bdata": "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",
          "dtype": "f8"
         },
         "xaxis": "x",
         "y": {
          "bdata": "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",
          "dtype": "f8"
         },
         "yaxis": "y"
        }
       ],
       "layout": {
        "legend": {
         "tracegroupgap": 0
        },
        "template": {
         "data": {
          "bar": [
           {
            "error_x": {
             "color": "#2a3f5f"
            },
            "error_y": {
             "color": "#2a3f5f"
            },
            "marker": {
             "line": {
              "color": "#E5ECF6",
              "width": 0.5
             },
             "pattern": {
              "fillmode": "overlay",
              "size": 10,
              "solidity": 0.2
             }
            },
            "type": "bar"
           }
          ],
          "barpolar": [
           {
            "marker": {
             "line": {
              "color": "#E5ECF6",
              "width": 0.5
             },
             "pattern": {
              "fillmode": "overlay",
              "size": 10,
              "solidity": 0.2
             }
            },
            "type": "barpolar"
           }
          ],
          "carpet": [
           {
            "aaxis": {
             "endlinecolor": "#2a3f5f",
             "gridcolor": "white",
             "linecolor": "white",
             "minorgridcolor": "white",
             "startlinecolor": "#2a3f5f"
            },
            "baxis": {
             "endlinecolor": "#2a3f5f",
             "gridcolor": "white",
             "linecolor": "white",
             "minorgridcolor": "white",
             "startlinecolor": "#2a3f5f"
            },
            "type": "carpet"
           }
          ],
          "choropleth": [
           {
            "colorbar": {
             "outlinewidth": 0,
             "ticks": ""
            },
            "type": "choropleth"
           }
          ],
          "contour": [
           {
            "colorbar": {
             "outlinewidth": 0,
             "ticks": ""
            },
            "colorscale": [
             [
              0,
              "#0d0887"
             ],
             [
              0.1111111111111111,
              "#46039f"
             ],
             [
              0.2222222222222222,
              "#7201a8"
             ],
             [
              0.3333333333333333,
              "#9c179e"
             ],
             [
              0.4444444444444444,
              "#bd3786"
             ],
             [
              0.5555555555555556,
              "#d8576b"
             ],
             [
              0.6666666666666666,
              "#ed7953"
             ],
             [
              0.7777777777777778,
              "#fb9f3a"
             ],
             [
              0.8888888888888888,
              "#fdca26"
             ],
             [
              1,
              "#f0f921"
             ]
            ],
            "type": "contour"
           }
          ],
          "contourcarpet": [
           {
            "colorbar": {
             "outlinewidth": 0,
             "ticks": ""
            },
            "type": "contourcarpet"
           }
          ],
          "heatmap": [
           {
            "colorbar": {
             "outlinewidth": 0,
             "ticks": ""
            },
            "colorscale": [
             [
              0,
              "#0d0887"
             ],
             [
              0.1111111111111111,
              "#46039f"
             ],
             [
              0.2222222222222222,
              "#7201a8"
             ],
             [
              0.3333333333333333,
              "#9c179e"
             ],
             [
              0.4444444444444444,
              "#bd3786"
             ],
             [
              0.5555555555555556,
              "#d8576b"
             ],
             [
              0.6666666666666666,
              "#ed7953"
             ],
             [
              0.7777777777777778,
              "#fb9f3a"
             ],
             [
              0.8888888888888888,
              "#fdca26"
             ],
             [
              1,
              "#f0f921"
             ]
            ],
            "type": "heatmap"
           }
          ],
          "histogram": [
           {
            "marker": {
             "pattern": {
              "fillmode": "overlay",
              "size": 10,
              "solidity": 0.2
             }
            },
            "type": "histogram"
           }
          ],
          "histogram2d": [
           {
            "colorbar": {
             "outlinewidth": 0,
             "ticks": ""
            },
            "colorscale": [
             [
              0,
              "#0d0887"
             ],
             [
              0.1111111111111111,
              "#46039f"
             ],
             [
              0.2222222222222222,
              "#7201a8"
             ],
             [
              0.3333333333333333,
              "#9c179e"
             ],
             [
              0.4444444444444444,
              "#bd3786"
             ],
             [
              0.5555555555555556,
              "#d8576b"
             ],
             [
              0.6666666666666666,
              "#ed7953"
             ],
             [
              0.7777777777777778,
              "#fb9f3a"
             ],
             [
              0.8888888888888888,
              "#fdca26"
             ],
             [
              1,
              "#f0f921"
             ]
            ],
            "type": "histogram2d"
           }
          ],
          "histogram2dcontour": [
           {
            "colorbar": {
             "outlinewidth": 0,
             "ticks": ""
            },
            "colorscale": [
             [
              0,
              "#0d0887"
             ],
             [
              0.1111111111111111,
              "#46039f"
             ],
             [
              0.2222222222222222,
              "#7201a8"
             ],
             [
              0.3333333333333333,
              "#9c179e"
             ],
             [
              0.4444444444444444,
              "#bd3786"
             ],
             [
              0.5555555555555556,
              "#d8576b"
             ],
             [
              0.6666666666666666,
              "#ed7953"
             ],
             [
              0.7777777777777778,
              "#fb9f3a"
             ],
             [
              0.8888888888888888,
              "#fdca26"
             ],
             [
              1,
              "#f0f921"
             ]
            ],
            "type": "histogram2dcontour"
           }
          ],
          "mesh3d": [
           {
            "colorbar": {
             "outlinewidth": 0,
             "ticks": ""
            },
            "type": "mesh3d"
           }
          ],
          "parcoords": [
           {
            "line": {
             "colorbar": {
              "outlinewidth": 0,
              "ticks": ""
             }
            },
            "type": "parcoords"
           }
          ],
          "pie": [
           {
            "automargin": true,
            "type": "pie"
           }
          ],
          "scatter": [
           {
            "fillpattern": {
             "fillmode": "overlay",
             "size": 10,
             "solidity": 0.2
            },
            "type": "scatter"
           }
          ],
          "scatter3d": [
           {
            "line": {
             "colorbar": {
              "outlinewidth": 0,
              "ticks": ""
             }
            },
            "marker": {
             "colorbar": {
              "outlinewidth": 0,
              "ticks": ""
             }
            },
            "type": "scatter3d"
           }
          ],
          "scattercarpet": [
           {
            "marker": {
             "colorbar": {
              "outlinewidth": 0,
              "ticks": ""
             }
            },
            "type": "scattercarpet"
           }
          ],
          "scattergeo": [
           {
            "marker": {
             "colorbar": {
              "outlinewidth": 0,
              "ticks": ""
             }
            },
            "type": "scattergeo"
           }
          ],
          "scattergl": [
           {
            "marker": {
             "colorbar": {
              "outlinewidth": 0,
              "ticks": ""
             }
            },
            "type": "scattergl"
           }
          ],
          "scattermap": [
           {
            "marker": {
             "colorbar": {
              "outlinewidth": 0,
              "ticks": ""
             }
            },
            "type": "scattermap"
           }
          ],
          "scattermapbox": [
           {
            "marker": {
             "colorbar": {
              "outlinewidth": 0,
              "ticks": ""
             }
            },
            "type": "scattermapbox"
           }
          ],
          "scatterpolar": [
           {
            "marker": {
             "colorbar": {
              "outlinewidth": 0,
              "ticks": ""
             }
            },
            "type": "scatterpolar"
           }
          ],
          "scatterpolargl": [
           {
            "marker": {
             "colorbar": {
              "outlinewidth": 0,
              "ticks": ""
             }
            },
            "type": "scatterpolargl"
           }
          ],
          "scatterternary": [
           {
            "marker": {
             "colorbar": {
              "outlinewidth": 0,
              "ticks": ""
             }
            },
            "type": "scatterternary"
           }
          ],
          "surface": [
           {
            "colorbar": {
             "outlinewidth": 0,
             "ticks": ""
            },
            "colorscale": [
             [
              0,
              "#0d0887"
             ],
             [
              0.1111111111111111,
              "#46039f"
             ],
             [
              0.2222222222222222,
              "#7201a8"
             ],
             [
              0.3333333333333333,
              "#9c179e"
             ],
             [
              0.4444444444444444,
              "#bd3786"
             ],
             [
              0.5555555555555556,
              "#d8576b"
             ],
             [
              0.6666666666666666,
              "#ed7953"
             ],
             [
              0.7777777777777778,
              "#fb9f3a"
             ],
             [
              0.8888888888888888,
              "#fdca26"
             ],
             [
              1,
              "#f0f921"
             ]
            ],
            "type": "surface"
           }
          ],
          "table": [
           {
            "cells": {
             "fill": {
              "color": "#EBF0F8"
             },
             "line": {
              "color": "white"
             }
            },
            "header": {
             "fill": {
              "color": "#C8D4E3"
             },
             "line": {
              "color": "white"
             }
            },
            "type": "table"
           }
          ]
         },
         "layout": {
          "annotationdefaults": {
           "arrowcolor": "#2a3f5f",
           "arrowhead": 0,
           "arrowwidth": 1
          },
          "autotypenumbers": "strict",
          "coloraxis": {
           "colorbar": {
            "outlinewidth": 0,
            "ticks": ""
           }
          },
          "colorscale": {
           "diverging": [
            [
             0,
             "#8e0152"
            ],
            [
             0.1,
             "#c51b7d"
            ],
            [
             0.2,
             "#de77ae"
            ],
            [
             0.3,
             "#f1b6da"
            ],
            [
             0.4,
             "#fde0ef"
            ],
            [
             0.5,
             "#f7f7f7"
            ],
            [
             0.6,
             "#e6f5d0"
            ],
            [
             0.7,
             "#b8e186"
            ],
            [
             0.8,
             "#7fbc41"
            ],
            [
             0.9,
             "#4d9221"
            ],
            [
             1,
             "#276419"
            ]
           ],
           "sequential": [
            [
             0,
             "#0d0887"
            ],
            [
             0.1111111111111111,
             "#46039f"
            ],
            [
             0.2222222222222222,
             "#7201a8"
            ],
            [
             0.3333333333333333,
             "#9c179e"
            ],
            [
             0.4444444444444444,
             "#bd3786"
            ],
            [
             0.5555555555555556,
             "#d8576b"
            ],
            [
             0.6666666666666666,
             "#ed7953"
            ],
            [
             0.7777777777777778,
             "#fb9f3a"
            ],
            [
             0.8888888888888888,
             "#fdca26"
            ],
            [
             1,
             "#f0f921"
            ]
           ],
           "sequentialminus": [
            [
             0,
             "#0d0887"
            ],
            [
             0.1111111111111111,
             "#46039f"
            ],
            [
             0.2222222222222222,
             "#7201a8"
            ],
            [
             0.3333333333333333,
             "#9c179e"
            ],
            [
             0.4444444444444444,
             "#bd3786"
            ],
            [
             0.5555555555555556,
             "#d8576b"
            ],
            [
             0.6666666666666666,
             "#ed7953"
            ],
            [
             0.7777777777777778,
             "#fb9f3a"
            ],
            [
             0.8888888888888888,
             "#fdca26"
            ],
            [
             1,
             "#f0f921"
            ]
           ]
          },
          "colorway": [
           "#636efa",
           "#EF553B",
           "#00cc96",
           "#ab63fa",
           "#FFA15A",
           "#19d3f3",
           "#FF6692",
           "#B6E880",
           "#FF97FF",
           "#FECB52"
          ],
          "font": {
           "color": "#2a3f5f"
          },
          "geo": {
           "bgcolor": "white",
           "lakecolor": "white",
           "landcolor": "#E5ECF6",
           "showlakes": true,
           "showland": true,
           "subunitcolor": "white"
          },
          "hoverlabel": {
           "align": "left"
          },
          "hovermode": "closest",
          "mapbox": {
           "style": "light"
          },
          "paper_bgcolor": "white",
          "plot_bgcolor": "#E5ECF6",
          "polar": {
           "angularaxis": {
            "gridcolor": "white",
            "linecolor": "white",
            "ticks": ""
           },
           "bgcolor": "#E5ECF6",
           "radialaxis": {
            "gridcolor": "white",
            "linecolor": "white",
            "ticks": ""
           }
          },
          "scene": {
           "xaxis": {
            "backgroundcolor": "#E5ECF6",
            "gridcolor": "white",
            "gridwidth": 2,
            "linecolor": "white",
            "showbackground": true,
            "ticks": "",
            "zerolinecolor": "white"
           },
           "yaxis": {
            "backgroundcolor": "#E5ECF6",
            "gridcolor": "white",
            "gridwidth": 2,
            "linecolor": "white",
            "showbackground": true,
            "ticks": "",
            "zerolinecolor": "white"
           },
           "zaxis": {
            "backgroundcolor": "#E5ECF6",
            "gridcolor": "white",
            "gridwidth": 2,
            "linecolor": "white",
            "showbackground": true,
            "ticks": "",
            "zerolinecolor": "white"
           }
          },
          "shapedefaults": {
           "line": {
            "color": "#2a3f5f"
           }
          },
          "ternary": {
           "aaxis": {
            "gridcolor": "white",
            "linecolor": "white",
            "ticks": ""
           },
           "baxis": {
            "gridcolor": "white",
            "linecolor": "white",
            "ticks": ""
           },
           "bgcolor": "#E5ECF6",
           "caxis": {
            "gridcolor": "white",
            "linecolor": "white",
            "ticks": ""
           }
          },
          "title": {
           "x": 0.05
          },
          "xaxis": {
           "automargin": true,
           "gridcolor": "white",
           "linecolor": "white",
           "ticks": "",
           "title": {
            "standoff": 15
           },
           "zerolinecolor": "white",
           "zerolinewidth": 2
          },
          "yaxis": {
           "automargin": true,
           "gridcolor": "white",
           "linecolor": "white",
           "ticks": "",
           "title": {
            "standoff": 15
           },
           "zerolinecolor": "white",
           "zerolinewidth": 2
          }
         }
        },
        "title": {
         "text": "Valor Previsto vs Residuos"
        },
        "xaxis": {
         "anchor": "y",
         "domain": [
          0,
          1
         ],
         "title": {
          "text": "Valor Previsto"
         }
        },
        "yaxis": {
         "anchor": "x",
         "domain": [
          0,
          1
         ],
         "title": {
          "text": "Residuos"
         }
        }
       }
      }
     },
     "metadata": {},
     "output_type": "display_data"
    }
   ],
   "source": [
    "# Residuos\n",
    "residuos = modelo_3.resid\n",
    "fig = px.scatter(x=y_previsto_train, y=residuos, title='Valor Previsto vs Residuos',\n",
    "                 labels={'x':'Valor Previsto','y':'Residuos'})\n",
    "fig.show()"
   ]
  },
  {
   "cell_type": "markdown",
   "metadata": {
    "id": "pF72nKFGCg7N"
   },
   "source": [
    "<img src=\"../data/descarga.png\" alt=\"heterocedasticidad\" border=\"0\">"
   ]
  },
  {
   "cell_type": "code",
   "execution_count": null,
   "metadata": {
    "executionInfo": {
     "elapsed": 31,
     "status": "ok",
     "timestamp": 1753126391642,
     "user": {
      "displayName": "Elias Celis",
      "userId": "07132738901482165301"
     },
     "user_tz": 240
    },
    "id": "gdBgLWuPCiiK"
   },
   "outputs": [],
   "source": []
  }
 ],
 "metadata": {
  "colab": {
   "collapsed_sections": [
    "KGi13v3IyylJ",
    "T9mIZFbGi70G",
    "lOFOUylKt92e"
   ],
   "provenance": []
  },
  "kernelspec": {
   "display_name": ".venv",
   "language": "python",
   "name": "python3"
  },
  "language_info": {
   "codemirror_mode": {
    "name": "ipython",
    "version": 3
   },
   "file_extension": ".py",
   "mimetype": "text/x-python",
   "name": "python",
   "nbconvert_exporter": "python",
   "pygments_lexer": "ipython3",
   "version": "3.13.5"
  }
 },
 "nbformat": 4,
 "nbformat_minor": 0
}
