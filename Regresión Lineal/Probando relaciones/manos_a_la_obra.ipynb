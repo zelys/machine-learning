{
 "cells": [
  {
   "cell_type": "code",
   "execution_count": 45,
   "metadata": {
    "id": "vIX-qqTlUZMp"
   },
   "outputs": [],
   "source": [
    "import pandas as pd\n",
    "import numpy as np \n",
    "import matplotlib.pyplot as plt\n",
    "import seaborn as sns"
   ]
  },
  {
   "cell_type": "code",
   "execution_count": 46,
   "metadata": {
    "id": "8Nbl-aODUeyk"
   },
   "outputs": [],
   "source": [
    "datos = pd.read_csv('../data/precios_casas.csv')"
   ]
  },
  {
   "cell_type": "markdown",
   "metadata": {
    "id": "PfGjd8DjUPdC"
   },
   "source": [
    "# **Manos a la obra: mapa de calor de correlación**"
   ]
  },
  {
   "cell_type": "markdown",
   "metadata": {
    "id": "nMGotHO5USI1"
   },
   "source": [
    "**¿Vamos a practicar el concepto de correlación?**\n",
    "\n",
    "Durante la clase, exploramos la correlación entre cada característica de la casa y su precio; sin embargo, el coeficiente de correlación también se puede aplicar a cualquier par de variables.\n",
    "\n",
    "En esta actividad, analiza la correlación de todas las variables a través de una forma visual, ejecutando el código a continuación en una celda de tu notebook."
   ]
  },
  {
   "cell_type": "code",
   "execution_count": 47,
   "metadata": {
    "colab": {
     "base_uri": "https://localhost:8080/",
     "height": 226
    },
    "executionInfo": {
     "elapsed": 82,
     "status": "ok",
     "timestamp": 1751899093713,
     "user": {
      "displayName": "Elias Celis",
      "userId": "07132738901482165301"
     },
     "user_tz": 240
    },
    "id": "h_Ox_u-pUVnj",
    "outputId": "467bb755-78ed-4bb7-c484-08d9e10c1bcc"
   },
   "outputs": [
    {
     "data": {
      "text/html": [
       "<div>\n",
       "<style scoped>\n",
       "    .dataframe tbody tr th:only-of-type {\n",
       "        vertical-align: middle;\n",
       "    }\n",
       "\n",
       "    .dataframe tbody tr th {\n",
       "        vertical-align: top;\n",
       "    }\n",
       "\n",
       "    .dataframe thead th {\n",
       "        text-align: right;\n",
       "    }\n",
       "</style>\n",
       "<table border=\"1\" class=\"dataframe\">\n",
       "  <thead>\n",
       "    <tr style=\"text-align: right;\">\n",
       "      <th></th>\n",
       "      <th>Id</th>\n",
       "      <th>area_primer_piso</th>\n",
       "      <th>tiene_segundo_piso</th>\n",
       "      <th>area_segundo_piso</th>\n",
       "      <th>cantidad_banos</th>\n",
       "      <th>capacidad_carros_garage</th>\n",
       "      <th>calidad_de_cocina_excelente</th>\n",
       "      <th>precio_de_venta</th>\n",
       "    </tr>\n",
       "  </thead>\n",
       "  <tbody>\n",
       "    <tr>\n",
       "      <th>0</th>\n",
       "      <td>1</td>\n",
       "      <td>79.5224</td>\n",
       "      <td>1</td>\n",
       "      <td>79.3366</td>\n",
       "      <td>2</td>\n",
       "      <td>548</td>\n",
       "      <td>0</td>\n",
       "      <td>1027905.00</td>\n",
       "    </tr>\n",
       "    <tr>\n",
       "      <th>1</th>\n",
       "      <td>2</td>\n",
       "      <td>117.2398</td>\n",
       "      <td>0</td>\n",
       "      <td>0.0000</td>\n",
       "      <td>2</td>\n",
       "      <td>460</td>\n",
       "      <td>0</td>\n",
       "      <td>894795.00</td>\n",
       "    </tr>\n",
       "    <tr>\n",
       "      <th>2</th>\n",
       "      <td>3</td>\n",
       "      <td>85.4680</td>\n",
       "      <td>1</td>\n",
       "      <td>80.4514</td>\n",
       "      <td>2</td>\n",
       "      <td>608</td>\n",
       "      <td>0</td>\n",
       "      <td>1101855.00</td>\n",
       "    </tr>\n",
       "    <tr>\n",
       "      <th>3</th>\n",
       "      <td>4</td>\n",
       "      <td>89.2769</td>\n",
       "      <td>1</td>\n",
       "      <td>70.2324</td>\n",
       "      <td>1</td>\n",
       "      <td>642</td>\n",
       "      <td>0</td>\n",
       "      <td>690200.00</td>\n",
       "    </tr>\n",
       "    <tr>\n",
       "      <th>4</th>\n",
       "      <td>5</td>\n",
       "      <td>106.3705</td>\n",
       "      <td>1</td>\n",
       "      <td>97.8237</td>\n",
       "      <td>2</td>\n",
       "      <td>836</td>\n",
       "      <td>0</td>\n",
       "      <td>1232500.00</td>\n",
       "    </tr>\n",
       "    <tr>\n",
       "      <th>...</th>\n",
       "      <td>...</td>\n",
       "      <td>...</td>\n",
       "      <td>...</td>\n",
       "      <td>...</td>\n",
       "      <td>...</td>\n",
       "      <td>...</td>\n",
       "      <td>...</td>\n",
       "      <td>...</td>\n",
       "    </tr>\n",
       "    <tr>\n",
       "      <th>1433</th>\n",
       "      <td>1456</td>\n",
       "      <td>88.5337</td>\n",
       "      <td>1</td>\n",
       "      <td>64.4726</td>\n",
       "      <td>2</td>\n",
       "      <td>460</td>\n",
       "      <td>0</td>\n",
       "      <td>862750.00</td>\n",
       "    </tr>\n",
       "    <tr>\n",
       "      <th>1434</th>\n",
       "      <td>1457</td>\n",
       "      <td>192.5817</td>\n",
       "      <td>0</td>\n",
       "      <td>0.0000</td>\n",
       "      <td>2</td>\n",
       "      <td>500</td>\n",
       "      <td>0</td>\n",
       "      <td>1035300.00</td>\n",
       "    </tr>\n",
       "    <tr>\n",
       "      <th>1435</th>\n",
       "      <td>1458</td>\n",
       "      <td>110.3652</td>\n",
       "      <td>1</td>\n",
       "      <td>107.0208</td>\n",
       "      <td>2</td>\n",
       "      <td>252</td>\n",
       "      <td>0</td>\n",
       "      <td>1313845.00</td>\n",
       "    </tr>\n",
       "    <tr>\n",
       "      <th>1436</th>\n",
       "      <td>1459</td>\n",
       "      <td>100.1462</td>\n",
       "      <td>0</td>\n",
       "      <td>0.0000</td>\n",
       "      <td>1</td>\n",
       "      <td>240</td>\n",
       "      <td>0</td>\n",
       "      <td>700676.25</td>\n",
       "    </tr>\n",
       "    <tr>\n",
       "      <th>1437</th>\n",
       "      <td>1460</td>\n",
       "      <td>116.6824</td>\n",
       "      <td>0</td>\n",
       "      <td>0.0000</td>\n",
       "      <td>1</td>\n",
       "      <td>276</td>\n",
       "      <td>0</td>\n",
       "      <td>727175.00</td>\n",
       "    </tr>\n",
       "  </tbody>\n",
       "</table>\n",
       "<p>1438 rows × 8 columns</p>\n",
       "</div>"
      ],
      "text/plain": [
       "        Id  area_primer_piso  tiene_segundo_piso  area_segundo_piso  \\\n",
       "0        1           79.5224                   1            79.3366   \n",
       "1        2          117.2398                   0             0.0000   \n",
       "2        3           85.4680                   1            80.4514   \n",
       "3        4           89.2769                   1            70.2324   \n",
       "4        5          106.3705                   1            97.8237   \n",
       "...    ...               ...                 ...                ...   \n",
       "1433  1456           88.5337                   1            64.4726   \n",
       "1434  1457          192.5817                   0             0.0000   \n",
       "1435  1458          110.3652                   1           107.0208   \n",
       "1436  1459          100.1462                   0             0.0000   \n",
       "1437  1460          116.6824                   0             0.0000   \n",
       "\n",
       "      cantidad_banos  capacidad_carros_garage  calidad_de_cocina_excelente  \\\n",
       "0                  2                      548                            0   \n",
       "1                  2                      460                            0   \n",
       "2                  2                      608                            0   \n",
       "3                  1                      642                            0   \n",
       "4                  2                      836                            0   \n",
       "...              ...                      ...                          ...   \n",
       "1433               2                      460                            0   \n",
       "1434               2                      500                            0   \n",
       "1435               2                      252                            0   \n",
       "1436               1                      240                            0   \n",
       "1437               1                      276                            0   \n",
       "\n",
       "      precio_de_venta  \n",
       "0          1027905.00  \n",
       "1           894795.00  \n",
       "2          1101855.00  \n",
       "3           690200.00  \n",
       "4          1232500.00  \n",
       "...               ...  \n",
       "1433        862750.00  \n",
       "1434       1035300.00  \n",
       "1435       1313845.00  \n",
       "1436        700676.25  \n",
       "1437        727175.00  \n",
       "\n",
       "[1438 rows x 8 columns]"
      ]
     },
     "execution_count": 47,
     "metadata": {},
     "output_type": "execute_result"
    }
   ],
   "source": [
    "datos"
   ]
  },
  {
   "cell_type": "code",
   "execution_count": 48,
   "metadata": {
    "id": "CyrNCCKhUrnH"
   },
   "outputs": [],
   "source": [
    "datos.drop('Id', axis=1, inplace=True)"
   ]
  },
  {
   "cell_type": "code",
   "execution_count": 49,
   "metadata": {
    "colab": {
     "base_uri": "https://localhost:8080/"
    },
    "executionInfo": {
     "elapsed": 8,
     "status": "ok",
     "timestamp": 1751899135155,
     "user": {
      "displayName": "Elias Celis",
      "userId": "07132738901482165301"
     },
     "user_tz": 240
    },
    "id": "7L5Vbh_9Uv2t",
    "outputId": "623ee8d5-f92a-4599-99c0-ada03a46e511"
   },
   "outputs": [
    {
     "data": {
      "text/plain": [
       "Index(['area_primer_piso', 'tiene_segundo_piso', 'area_segundo_piso',\n",
       "       'cantidad_banos', 'capacidad_carros_garage',\n",
       "       'calidad_de_cocina_excelente', 'precio_de_venta'],\n",
       "      dtype='object')"
      ]
     },
     "execution_count": 49,
     "metadata": {},
     "output_type": "execute_result"
    }
   ],
   "source": [
    "datos.columns"
   ]
  },
  {
   "cell_type": "code",
   "execution_count": 50,
   "metadata": {
    "id": "WEf2XwStUyW1"
   },
   "outputs": [],
   "source": [
    "# Correlación\n",
    "corr = datos.corr()"
   ]
  },
  {
   "cell_type": "code",
   "execution_count": 51,
   "metadata": {
    "id": "sdlJH6FmWb4R"
   },
   "outputs": [],
   "source": [
    "# ¿Qué factores están más correlacionados?\n",
    "\n",
    "# Generar una máscara para el triángulo superior\n",
    "mascara = np.zeros_like(corr, dtype=bool)\n",
    "mascara[np.triu_indices_from(mascara)] = True"
   ]
  },
  {
   "cell_type": "code",
   "execution_count": 52,
   "metadata": {
    "colab": {
     "base_uri": "https://localhost:8080/",
     "height": 759
    },
    "executionInfo": {
     "elapsed": 1509,
     "status": "ok",
     "timestamp": 1751899601391,
     "user": {
      "displayName": "Elias Celis",
      "userId": "07132738901482165301"
     },
     "user_tz": 240
    },
    "id": "MCNH4ytlWmVR",
    "outputId": "f3fcbbeb-40b2-4273-a4c2-ff63bac83054"
   },
   "outputs": [
    {
     "data": {
      "image/png": "[encoded data removed]",
      "text/plain": [
       "<Figure size 1100x900 with 2 Axes>"
      ]
     },
     "metadata": {},
     "output_type": "display_data"
    }
   ],
   "source": [
    "# Configurar la figura de matplotlib\n",
    "f, ax = plt.subplots(figsize=(11, 9))\n",
    "\n",
    "# Generar el mapa de calor (heatmap)\n",
    "cmap = sns.diverging_palette(220, 10, as_cmap=True)\n",
    "\n",
    "sns.heatmap(corr, mask=mascara, cmap=cmap, vmax=1, vmin=-1, center=0,\n",
    "            square=True, linewidths=.5, annot=True, cbar_kws={\"shrink\": .5})\n",
    "\n",
    "# Mostrar el mapa de calor (heatmap)\n",
    "plt.show()"
   ]
  },
  {
   "cell_type": "markdown",
   "metadata": {
    "id": "DEgRTTEcWskC"
   },
   "source": [
    "**Consejo:** Presta atención a los puntos a continuación para un análisis completo:\n",
    "\n",
    "- **Intensidad:** se refiere a la fuerza de la relación entre las variables medidas. Puede variar de -1 a +1, donde -1 indica una correlación perfectamente negativa, +1 indica una correlación perfectamente positiva y 0 indica ausencia de correlación lineal.\n",
    "- **Dirección:** se refiere a la naturaleza de la relación entre las variables medidas. Una correlación positiva indica que las variables aumentan o disminuyen juntas, mientras que una correlación negativa indica que una variable aumenta mientras la otra disminuye, o viceversa."
   ]
  },
  {
   "cell_type": "markdown",
   "metadata": {
    "id": "NVkQUQoOW2mw"
   },
   "source": [
    "**Ejemplo:**\n",
    "\n",
    "El coeficiente de correlación lineal entre el **área del primer piso** y el **precio de venta** es de **0.62**, indicando una **correlación positiva moderadamente fuerte** (intensidad). En general, a medida que el área del primer piso de una casa aumenta, el precio de venta también tiende a aumentar (dirección)."
   ]
  },
  {
   "cell_type": "markdown",
   "metadata": {
    "id": "ouHiYAMMXAqt"
   },
   "source": [
    "Enumeramos algunos coeficientes para analizar:\n",
    "\n",
    "- La correlación entre la **capacidad de coches en la garaje** y el **área del primer piso** es 0.48 moderadamente positiva, indicando que, en general, a medida que la capacidad de coches en la garaje aumenta, el área del primer piso de la casa tiende a aumentar también.\n",
    "- Entre **garaje para coches** y **cantidad de baños** es moderadamente positiva (0.409281), indicando que, en general, a medida que la capacidad de la garaje aumenta, el número de baños también tiende a aumentar. Esto sugiere una posible asociación entre el espacio para estacionamiento de vehículos y el tamaño de la residencia.\n",
    "- Cuando miramos la correlación entre el **área del primer piso** y el **área del segundo piso**, verificamos que es débil y negativa (-0.25). Esto sugiere que, en general, cuando el área del primer piso de una casa aumenta, el área del segundo piso tiende a disminuir un poco, y viceversa. Esta relación indica una posible compensación entre las áreas de los dos pisos, pero no es una relación muy fuerte y puede variar entre diferentes propiedades.\n",
    "\n",
    "**Observación:** Es importante notar que la **correlación no implica causalidad**; es decir, no podemos afirmar que el aumento en el precio de venta es causado específicamente por el aumento en el área del primer piso solo con el uso de la correlación, sino que estos factores están relacionados entre sí."
   ]
  },
  {
   "cell_type": "markdown",
   "metadata": {
    "id": "NxIUy2HVcOEx"
   },
   "source": [
    "# **Formatos de los gráficos de dispersión**"
   ]
  },
  {
   "cell_type": "markdown",
   "metadata": {
    "id": "l2KXsGv2hWR1"
   },
   "source": [
    "Sara está analizando datos y decidió construir varios gráficos de dispersión para comprender la relación entre las variables de su conjunto de datos. Ahora, vamos a ayudar a Sara a entender lo que representa cada gráfico.\n",
    "\n",
    "Con base en los gráficos de dispersión realizados por Sara, ¿cuál de los siguientes análisis es correcto?"
   ]
  },
  {
   "cell_type": "markdown",
   "metadata": {
    "id": "plEfW2lOhxDL"
   },
   "source": [
    "![imagen](http://cdn3.gnarususercontent.com.br/2145-data-science-probando-relaciones-con-regresion-lineal/Imagenes/7.ActividadB.webp.crdownload.webp)"
   ]
  },
  {
   "cell_type": "markdown",
   "metadata": {
    "id": "w3J4GOLOiBGe"
   },
   "source": [
    "**Los puntos están esparcidos aleatoriamente, sin mostrar ninguna tendencia clara entre las variables.**"
   ]
  },
  {
   "cell_type": "markdown",
   "metadata": {
    "id": "3VLtSArVh3qx"
   },
   "source": [
    "El gráfico de dispersión es una excelente herramienta para identificar tendencias entre variables, sin embargo, también es posible identificar la ausencia de correlación entre las variables, es decir, cuando no tienen una relación lineal clara entre sí, presentando, de esta forma, puntos dispuestos de manera aleatoria."
   ]
  },
  {
   "cell_type": "markdown",
   "metadata": {
    "id": "yhF4c9Cjh6Xh"
   },
   "source": [
    "# **Separando el conjunto de datos**"
   ]
  },
  {
   "cell_type": "markdown",
   "metadata": {
    "id": "Uj96771Co7Bf"
   },
   "source": [
    "Diana está comenzando sus estudios en ciencia de datos y se dio cuenta de que separar conjuntos de datos en entrenamiento y prueba es una práctica recurrente en machine learning.\n",
    "\n",
    "Con base en esto, surge la pregunta: ¿Cuál es la principal razón para dividir un conjunto de datos en conjuntos de entrenamiento y prueba al construir modelos de machine learning? Elige una alternativa."
   ]
  },
  {
   "cell_type": "markdown",
   "metadata": {
    "id": "5b8fuD_4o8-l"
   },
   "source": [
    "**Para evaluar el desempeño del modelo en datos no vistos.**\n",
    "\n",
    "> *Dividir el conjunto de datos en conjuntos de entrenamiento y prueba es una práctica esencial en machine learning para evaluar la capacidad de generalización del modelo. El conjunto de entrenamiento se usa para entrenar el modelo, mientras que el conjunto de prueba se mantiene separado y se usa para evaluar el desempeño del modelo en datos no vistos, simulando cómo se comportaría el modelo al ser aplicado en situaciones reales.*"
   ]
  },
  {
   "cell_type": "markdown",
   "metadata": {
    "id": "34tagg_gpE1q"
   },
   "source": [
    "# **Manos a la obra: análisis y selección de modelos de regresión lineal**"
   ]
  },
  {
   "cell_type": "markdown",
   "metadata": {
    "id": "b7cotYZkWRh3"
   },
   "source": [
    "Como persona Científica de Datos, estás a cargo del análisis del problema de fijación de precios de habitaciones de hoteles, utilizando el conjunto de datos proporcionado. Para ello, dispones de este dataset.\n",
    "\n",
    "En esta actividad, tu tarea consiste en llevar a cabo las siguientes etapas:\n",
    "1. análisis inicial con el PairPlot de Seaborn;\n",
    "2. construir modelos de regresión lineal; y\n",
    "3. realizar la comparación de estos modelos.\n",
    "\n",
    "Dedica tiempo a las actividades y desarrolla tus habilidades a través de la aplicación de tus conocimientos adquiridos a lo largo del curso."
   ]
  },
  {
   "cell_type": "code",
   "execution_count": 53,
   "metadata": {
    "executionInfo": {
     "elapsed": 1931,
     "status": "ok",
     "timestamp": 1753124329137,
     "user": {
      "displayName": "Elias Celis",
      "userId": "07132738901482165301"
     },
     "user_tz": 240
    },
    "id": "KZntegmSWhSz"
   },
   "outputs": [],
   "source": [
    "import pandas as pd"
   ]
  },
  {
   "cell_type": "code",
   "execution_count": 54,
   "metadata": {
    "colab": {
     "base_uri": "https://localhost:8080/",
     "height": 206
    },
    "executionInfo": {
     "elapsed": 1547,
     "status": "ok",
     "timestamp": 1753124331800,
     "user": {
      "displayName": "Elias Celis",
      "userId": "07132738901482165301"
     },
     "user_tz": 240
    },
    "id": "ol5m_jzhWi5p",
    "outputId": "66cacfdf-b26e-4b9a-e7b7-4ba3aa72a8c6"
   },
   "outputs": [
    {
     "data": {
      "text/html": [
       "<div>\n",
       "<style scoped>\n",
       "    .dataframe tbody tr th:only-of-type {\n",
       "        vertical-align: middle;\n",
       "    }\n",
       "\n",
       "    .dataframe tbody tr th {\n",
       "        vertical-align: top;\n",
       "    }\n",
       "\n",
       "    .dataframe thead th {\n",
       "        text-align: right;\n",
       "    }\n",
       "</style>\n",
       "<table border=\"1\" class=\"dataframe\">\n",
       "  <thead>\n",
       "    <tr style=\"text-align: right;\">\n",
       "      <th></th>\n",
       "      <th>Estrelas</th>\n",
       "      <th>ProximidadeTurismo</th>\n",
       "      <th>Capacidade</th>\n",
       "      <th>Preco</th>\n",
       "    </tr>\n",
       "  </thead>\n",
       "  <tbody>\n",
       "    <tr>\n",
       "      <th>0</th>\n",
       "      <td>5</td>\n",
       "      <td>9.301565</td>\n",
       "      <td>3</td>\n",
       "      <td>506.275452</td>\n",
       "    </tr>\n",
       "    <tr>\n",
       "      <th>1</th>\n",
       "      <td>1</td>\n",
       "      <td>1.785891</td>\n",
       "      <td>1</td>\n",
       "      <td>246.363458</td>\n",
       "    </tr>\n",
       "    <tr>\n",
       "      <th>2</th>\n",
       "      <td>4</td>\n",
       "      <td>15.504293</td>\n",
       "      <td>3</td>\n",
       "      <td>325.873550</td>\n",
       "    </tr>\n",
       "    <tr>\n",
       "      <th>3</th>\n",
       "      <td>4</td>\n",
       "      <td>4.173188</td>\n",
       "      <td>3</td>\n",
       "      <td>521.343284</td>\n",
       "    </tr>\n",
       "    <tr>\n",
       "      <th>4</th>\n",
       "      <td>4</td>\n",
       "      <td>9.443685</td>\n",
       "      <td>1</td>\n",
       "      <td>252.587087</td>\n",
       "    </tr>\n",
       "  </tbody>\n",
       "</table>\n",
       "</div>"
      ],
      "text/plain": [
       "   Estrelas  ProximidadeTurismo  Capacidade       Preco\n",
       "0         5            9.301565           3  506.275452\n",
       "1         1            1.785891           1  246.363458\n",
       "2         4           15.504293           3  325.873550\n",
       "3         4            4.173188           3  521.343284\n",
       "4         4            9.443685           1  252.587087"
      ]
     },
     "execution_count": 54,
     "metadata": {},
     "output_type": "execute_result"
    }
   ],
   "source": [
    "df = pd.read_csv('../data/hoteis.csv')\n",
    "df.head()"
   ]
  },
  {
   "cell_type": "markdown",
   "metadata": {
    "id": "2j4Wg__JWY08"
   },
   "source": [
    "## **Paso 1: Análisis con PairPlot**"
   ]
  },
  {
   "cell_type": "code",
   "execution_count": 55,
   "metadata": {
    "executionInfo": {
     "elapsed": 1145,
     "status": "ok",
     "timestamp": 1753124357566,
     "user": {
      "displayName": "Elias Celis",
      "userId": "07132738901482165301"
     },
     "user_tz": 240
    },
    "id": "ocmxUH1mWo7Y"
   },
   "outputs": [],
   "source": [
    "import seaborn as sns"
   ]
  },
  {
   "cell_type": "code",
   "execution_count": 56,
   "metadata": {
    "colab": {
     "base_uri": "https://localhost:8080/",
     "height": 868
    },
    "executionInfo": {
     "elapsed": 3505,
     "status": "ok",
     "timestamp": 1753124361767,
     "user": {
      "displayName": "Elias Celis",
      "userId": "07132738901482165301"
     },
     "user_tz": 240
    },
    "id": "CV-8woAPWqrn",
    "outputId": "7f5971c6-4079-408b-f101-ecb323543400"
   },
   "outputs": [
    {
     "data": {
      "image/png": "[encoded data removed]",
      "text/plain": [
       "<Figure size 1000x1000 with 20 Axes>"
      ]
     },
     "metadata": {},
     "output_type": "display_data"
    }
   ],
   "source": [
    "sns.pairplot(df);"
   ]
  },
  {
   "cell_type": "markdown",
   "metadata": {
    "id": "Z9cmDdw5Wu2Z"
   },
   "source": [
    "## **Paso 2: Construcción de modelos de regresión lineal**"
   ]
  },
  {
   "cell_type": "code",
   "execution_count": 57,
   "metadata": {
    "executionInfo": {
     "elapsed": 3016,
     "status": "ok",
     "timestamp": 1753124386732,
     "user": {
      "displayName": "Elias Celis",
      "userId": "07132738901482165301"
     },
     "user_tz": 240
    },
    "id": "zQEgoOJTWvOa"
   },
   "outputs": [],
   "source": [
    "import statsmodels.api as sm"
   ]
  },
  {
   "cell_type": "code",
   "execution_count": 58,
   "metadata": {
    "executionInfo": {
     "elapsed": 15,
     "status": "ok",
     "timestamp": 1753124387631,
     "user": {
      "displayName": "Elias Celis",
      "userId": "07132738901482165301"
     },
     "user_tz": 240
    },
    "id": "XFHKS8dkWw8Z"
   },
   "outputs": [],
   "source": [
    "# Modelo 1: Utilizando únicamente 'Estrellas'\n",
    "X1 = df[['Estrelas']]\n",
    "X1 = sm.add_constant(X1)  # Sumando la constante\n",
    "y = df['Preco']\n",
    "modelo_1 = sm.OLS(y, X1).fit()\n",
    "\n",
    "# Modelo 2: Uso de 'Estrellas' y 'Turismo de Proximidad'\n",
    "X2 = df[['Estrelas', 'ProximidadeTurismo']]\n",
    "X2 = sm.add_constant(X2)\n",
    "modelo_2 = sm.OLS(y, X2).fit()\n",
    "\n",
    "# Modelo 3: Utilizando 'Estrellas', 'Turismo de Proximidad' y 'Capacidad'\n",
    "X3 = df[['Estrelas', 'ProximidadeTurismo', 'Capacidade']]\n",
    "X3 = sm.add_constant(X3)\n",
    "modelo_3 = sm.OLS(y, X3).fit()"
   ]
  },
  {
   "cell_type": "markdown",
   "metadata": {
    "id": "52vQjuTuW1nf"
   },
   "source": [
    "## **Paso 3: Comparación de modelos**"
   ]
  },
  {
   "cell_type": "code",
   "execution_count": 59,
   "metadata": {
    "colab": {
     "base_uri": "https://localhost:8080/"
    },
    "executionInfo": {
     "elapsed": 54,
     "status": "ok",
     "timestamp": 1753124404930,
     "user": {
      "displayName": "Elias Celis",
      "userId": "07132738901482165301"
     },
     "user_tz": 240
    },
    "id": "ODB9jqpMW2Eo",
    "outputId": "1cb0f2ae-b5dc-49d6-8c12-90890d33c0d6"
   },
   "outputs": [
    {
     "name": "stdout",
     "output_type": "stream",
     "text": [
      "Modelo 1 - Apenas 'Estrelas':\n",
      "                            OLS Regression Results                            \n",
      "==============================================================================\n",
      "Dep. Variable:                  Preco   R-squared:                       0.161\n",
      "Model:                            OLS   Adj. R-squared:                  0.160\n",
      "Method:                 Least Squares   F-statistic:                     191.3\n",
      "Date:                Mon, 04 Aug 2025   Prob (F-statistic):           6.09e-40\n",
      "Time:                        19:38:02   Log-Likelihood:                -6476.7\n",
      "No. Observations:                1000   AIC:                         1.296e+04\n",
      "Df Residuals:                     998   BIC:                         1.297e+04\n",
      "Df Model:                           1                                         \n",
      "Covariance Type:            nonrobust                                         \n",
      "==============================================================================\n",
      "                 coef    std err          t      P>|t|      [0.025      0.975]\n",
      "------------------------------------------------------------------------------\n",
      "const        249.3517     11.752     21.218      0.000     226.290     272.413\n",
      "Estrelas      48.9560      3.539     13.833      0.000      42.011      55.901\n",
      "==============================================================================\n",
      "Omnibus:                       28.805   Durbin-Watson:                   2.075\n",
      "Prob(Omnibus):                  0.000   Jarque-Bera (JB):               30.554\n",
      "Skew:                          -0.422   Prob(JB):                     2.32e-07\n",
      "Kurtosis:                       3.147   Cond. No.                         8.43\n",
      "==============================================================================\n",
      "\n",
      "Notes:\n",
      "[1] Standard Errors assume that the covariance matrix of the errors is correctly specified.\n",
      "\n",
      "Modelo 2 - 'Estrelas' e 'ProximidadeTurismo':\n",
      "                            OLS Regression Results                            \n",
      "==============================================================================\n",
      "Dep. Variable:                  Preco   R-squared:                       0.650\n",
      "Model:                            OLS   Adj. R-squared:                  0.649\n",
      "Method:                 Least Squares   F-statistic:                     925.1\n",
      "Date:                Mon, 04 Aug 2025   Prob (F-statistic):          6.61e-228\n",
      "Time:                        19:38:02   Log-Likelihood:                -6039.8\n",
      "No. Observations:                1000   AIC:                         1.209e+04\n",
      "Df Residuals:                     997   BIC:                         1.210e+04\n",
      "Df Model:                           2                                         \n",
      "Covariance Type:            nonrobust                                         \n",
      "======================================================================================\n",
      "                         coef    std err          t      P>|t|      [0.025      0.975]\n",
      "--------------------------------------------------------------------------------------\n",
      "const                404.5310      8.660     46.715      0.000     387.538     421.524\n",
      "Estrelas              49.4030      2.287     21.598      0.000      44.914      53.892\n",
      "ProximidadeTurismo   -20.4583      0.548    -37.312      0.000     -21.534     -19.382\n",
      "==============================================================================\n",
      "Omnibus:                      181.871   Durbin-Watson:                   1.949\n",
      "Prob(Omnibus):                  0.000   Jarque-Bera (JB):               39.094\n",
      "Skew:                          -0.010   Prob(JB):                     3.24e-09\n",
      "Kurtosis:                       2.032   Cond. No.                         27.5\n",
      "==============================================================================\n",
      "\n",
      "Notes:\n",
      "[1] Standard Errors assume that the covariance matrix of the errors is correctly specified.\n",
      "\n",
      "Modelo 3 - 'Estrelas', 'ProximidadeTurismo' e 'Capacidade':\n",
      "                            OLS Regression Results                            \n",
      "==============================================================================\n",
      "Dep. Variable:                  Preco   R-squared:                       0.923\n",
      "Model:                            OLS   Adj. R-squared:                  0.923\n",
      "Method:                 Least Squares   F-statistic:                     3981.\n",
      "Date:                Mon, 04 Aug 2025   Prob (F-statistic):               0.00\n",
      "Time:                        19:38:02   Log-Likelihood:                -5282.3\n",
      "No. Observations:                1000   AIC:                         1.057e+04\n",
      "Df Residuals:                     996   BIC:                         1.059e+04\n",
      "Df Model:                           3                                         \n",
      "Covariance Type:            nonrobust                                         \n",
      "======================================================================================\n",
      "                         coef    std err          t      P>|t|      [0.025      0.975]\n",
      "--------------------------------------------------------------------------------------\n",
      "const                192.8442      5.402     35.700      0.000     182.244     203.444\n",
      "Estrelas              50.8750      1.073     47.399      0.000      48.769      52.981\n",
      "ProximidadeTurismo   -20.0462      0.257    -77.908      0.000     -20.551     -19.541\n",
      "Capacidade            81.0268      1.363     59.453      0.000      78.352      83.701\n",
      "==============================================================================\n",
      "Omnibus:                        3.347   Durbin-Watson:                   1.845\n",
      "Prob(Omnibus):                  0.188   Jarque-Bera (JB):                3.074\n",
      "Skew:                          -0.076   Prob(JB):                        0.215\n",
      "Kurtosis:                       2.774   Cond. No.                         37.3\n",
      "==============================================================================\n",
      "\n",
      "Notes:\n",
      "[1] Standard Errors assume that the covariance matrix of the errors is correctly specified.\n"
     ]
    }
   ],
   "source": [
    "print(\"Modelo 1 - Apenas 'Estrelas':\")\n",
    "print(modelo_1.summary())\n",
    "print(\"\\nModelo 2 - 'Estrelas' e 'ProximidadeTurismo':\")\n",
    "print(modelo_2.summary())\n",
    "print(\"\\nModelo 3 - 'Estrelas', 'ProximidadeTurismo' e 'Capacidade':\")\n",
    "print(modelo_3.summary())"
   ]
  },
  {
   "cell_type": "markdown",
   "metadata": {
    "id": "WhRfMzaFXXvp"
   },
   "source": [
    "# **Manos a la obra: estimando el valor de una casa**"
   ]
  },
  {
   "cell_type": "markdown",
   "metadata": {
    "id": "Thm8pCg_XZkr"
   },
   "source": [
    "Recibiste una solicitud para estimar el precio de una casa con las siguientes características:\n",
    "\n",
    "- 1 baño\n",
    "- Área 98m²\n",
    "- No tiene segundo piso\n",
    "- Calidad de la cocina excelente"
   ]
  },
  {
   "cell_type": "markdown",
   "metadata": {
    "id": "Yt2rxW6cXdC_"
   },
   "source": [
    "![img1](http://cdn3.gnarususercontent.com.br/2145-data-science-probando-relaciones-con-regresion-lineal/Imagenes/7.HagaLoQueHicimos.png)"
   ]
  },
  {
   "cell_type": "markdown",
   "metadata": {
    "id": "mgH3U1eGXhC2"
   },
   "source": [
    "Tu tarea es utilizar el modelo de regresión entrenado durante el curso para obtener el precio de la casa con estas características. Por lo tanto, crea un DataFrame con esta información y haz la predicción del valor del inmueble."
   ]
  },
  {
   "cell_type": "markdown",
   "metadata": {
    "id": "dXnSPsEMXjVL"
   },
   "source": [
    "Para realizar la tasación de una casa con estas características, primero necesitamos crear un DataFrame con cada una de las informaciones, almacenando en una variable `nuevo_inmueble`. Este DataFrame necesita la información de constante 1 para que se pueda hacer la predicción con `statsmodels`:"
   ]
  },
  {
   "cell_type": "code",
   "execution_count": 60,
   "metadata": {
    "executionInfo": {
     "elapsed": 7,
     "status": "ok",
     "timestamp": 1753125647127,
     "user": {
      "displayName": "Elias Celis",
      "userId": "07132738901482165301"
     },
     "user_tz": 240
    },
    "id": "hgB21jZcXm6Q"
   },
   "outputs": [],
   "source": [
    "nuevo_inmueble = pd.DataFrame({'const':[1],\n",
    "                               'area_primer_piso':[98],\n",
    "                               'tiene_segundo_piso': [0],\n",
    "                               'cantidad_banos': [1],\n",
    "                               'calidad_de_la_cocina_excelente': [1]\n",
    "                               })"
   ]
  },
  {
   "cell_type": "markdown",
   "metadata": {
    "id": "OkQ5rguiXoXA"
   },
   "source": [
    "Si deseamos utilizar un modelo más simplificado, podemos hacer la predicción solo con la información del área de la casa, a partir del `modelo_0`:"
   ]
  },
  {
   "cell_type": "code",
   "execution_count": 61,
   "metadata": {
    "executionInfo": {
     "elapsed": 8,
     "status": "ok",
     "timestamp": 1753125648634,
     "user": {
      "displayName": "Elias Celis",
      "userId": "07132738901482165301"
     },
     "user_tz": 240
    },
    "id": "5NG1d7yhaFB2"
   },
   "outputs": [],
   "source": [
    "# import train_test_split\n",
    "from sklearn.model_selection import train_test_split\n",
    "\n",
    "y = datos['precio_de_venta']\n",
    "X = datos.drop(columns='precio_de_venta')\n",
    "\n",
    "X_train, X_test, y_train, y_test = train_test_split(X,y,test_size=0.3,random_state=230) # garantizar la reproductibilidad de la segregación de los datos"
   ]
  },
  {
   "cell_type": "code",
   "execution_count": 62,
   "metadata": {
    "executionInfo": {
     "elapsed": 8,
     "status": "ok",
     "timestamp": 1753125649587,
     "user": {
      "displayName": "Elias Celis",
      "userId": "07132738901482165301"
     },
     "user_tz": 240
    },
    "id": "PvxGSCwPaeYE"
   },
   "outputs": [],
   "source": [
    "#Datos de entrenamiento para usar la fórmula\n",
    "df_train = pd.DataFrame(X_train)\n",
    "df_train['precio_de_venta'] = y_train"
   ]
  },
  {
   "cell_type": "code",
   "execution_count": 63,
   "metadata": {
    "executionInfo": {
     "elapsed": 7,
     "status": "ok",
     "timestamp": 1753125650363,
     "user": {
      "displayName": "Elias Celis",
      "userId": "07132738901482165301"
     },
     "user_tz": 240
    },
    "id": "e6sSnelYZogS"
   },
   "outputs": [],
   "source": [
    "# import ols\n",
    "from statsmodels.formula.api import ols"
   ]
  },
  {
   "cell_type": "code",
   "execution_count": 64,
   "metadata": {
    "executionInfo": {
     "elapsed": 4,
     "status": "ok",
     "timestamp": 1753125651315,
     "user": {
      "displayName": "Elias Celis",
      "userId": "07132738901482165301"
     },
     "user_tz": 240
    },
    "id": "CbGbtRWqZiJj"
   },
   "outputs": [],
   "source": [
    "modelo_0 = ols('precio_de_venta ~ area_primer_piso',data=df_train).fit()"
   ]
  },
  {
   "cell_type": "code",
   "execution_count": 65,
   "metadata": {
    "colab": {
     "base_uri": "https://localhost:8080/",
     "height": 115
    },
    "executionInfo": {
     "elapsed": 7,
     "status": "ok",
     "timestamp": 1753125652420,
     "user": {
      "displayName": "Elias Celis",
      "userId": "07132738901482165301"
     },
     "user_tz": 240
    },
    "id": "0lFxtgCLXrt3",
    "outputId": "161ac5a3-c6b2-4467-f170-80419e4d39eb"
   },
   "outputs": [
    {
     "data": {
      "text/plain": [
       "0    818686.169194\n",
       "dtype: float64"
      ]
     },
     "execution_count": 65,
     "metadata": {},
     "output_type": "execute_result"
    }
   ],
   "source": [
    "modelo_0.predict(nuevo_inmueble['area_primer_piso'])"
   ]
  },
  {
   "cell_type": "code",
   "execution_count": 66,
   "metadata": {
    "colab": {
     "base_uri": "https://localhost:8080/",
     "height": 147
    },
    "executionInfo": {
     "elapsed": 4,
     "status": "ok",
     "timestamp": 1753125654093,
     "user": {
      "displayName": "Elias Celis",
      "userId": "07132738901482165301"
     },
     "user_tz": 240
    },
    "id": "uR38jVJqbS1L",
    "outputId": "eb480993-7719-4d95-c71b-d55737a4d7a4"
   },
   "outputs": [
    {
     "data": {
      "text/plain": [
       "Intercept           152909.288334\n",
       "area_primer_piso      6793.641641\n",
       "dtype: float64"
      ]
     },
     "execution_count": 66,
     "metadata": {},
     "output_type": "execute_result"
    }
   ],
   "source": [
    "# visualizando los parámetros\n",
    "modelo_0.params"
   ]
  },
  {
   "cell_type": "code",
   "execution_count": 67,
   "metadata": {
    "colab": {
     "base_uri": "https://localhost:8080/"
    },
    "executionInfo": {
     "elapsed": 11,
     "status": "ok",
     "timestamp": 1753125655332,
     "user": {
      "displayName": "Elias Celis",
      "userId": "07132738901482165301"
     },
     "user_tz": 240
    },
    "id": "K7jmv2AMbW4R",
    "outputId": "da956607-c2a7-4498-828e-936916f5690c"
   },
   "outputs": [
    {
     "name": "stdout",
     "output_type": "stream",
     "text": [
      "                            OLS Regression Results                            \n",
      "==============================================================================\n",
      "Dep. Variable:        precio_de_venta   R-squared:                       0.377\n",
      "Model:                            OLS   Adj. R-squared:                  0.377\n",
      "Method:                 Least Squares   F-statistic:                     608.3\n",
      "Date:                Mon, 04 Aug 2025   Prob (F-statistic):          2.22e-105\n",
      "Time:                        19:38:02   Log-Likelihood:                -14082.\n",
      "No. Observations:                1006   AIC:                         2.817e+04\n",
      "Df Residuals:                    1004   BIC:                         2.818e+04\n",
      "Df Model:                           1                                         \n",
      "Covariance Type:            nonrobust                                         \n",
      "====================================================================================\n",
      "                       coef    std err          t      P>|t|      [0.025      0.975]\n",
      "------------------------------------------------------------------------------------\n",
      "Intercept         1.529e+05   3.07e+04      4.981      0.000    9.27e+04    2.13e+05\n",
      "area_primer_piso  6793.6416    275.455     24.663      0.000    6253.109    7334.175\n",
      "==============================================================================\n",
      "Omnibus:                      190.778   Durbin-Watson:                   2.047\n",
      "Prob(Omnibus):                  0.000   Jarque-Bera (JB):              482.457\n",
      "Skew:                           0.998   Prob(JB):                    1.72e-105\n",
      "Kurtosis:                       5.743   Cond. No.                         373.\n",
      "==============================================================================\n",
      "\n",
      "Notes:\n",
      "[1] Standard Errors assume that the covariance matrix of the errors is correctly specified.\n"
     ]
    }
   ],
   "source": [
    "# El resumen del modelo\n",
    "print(modelo_0.summary())"
   ]
  },
  {
   "cell_type": "markdown",
   "metadata": {
    "id": "uVPEKhV9Xtaw"
   },
   "source": [
    "Pero si queremos un modelo que tenga en cuenta todas las características disponibles, podemos usar el `modelo_3`:"
   ]
  },
  {
   "cell_type": "code",
   "execution_count": 68,
   "metadata": {
    "executionInfo": {
     "elapsed": 6,
     "status": "ok",
     "timestamp": 1753125771928,
     "user": {
      "displayName": "Elias Celis",
      "userId": "07132738901482165301"
     },
     "user_tz": 240
    },
    "id": "jb6B3i9acEFV"
   },
   "outputs": [],
   "source": [
    "# importando la api de statsmodels\n",
    "import statsmodels.api as sm"
   ]
  },
  {
   "cell_type": "code",
   "execution_count": 69,
   "metadata": {
    "colab": {
     "base_uri": "https://localhost:8080/",
     "height": 226
    },
    "executionInfo": {
     "elapsed": 35,
     "status": "ok",
     "timestamp": 1753125780024,
     "user": {
      "displayName": "Elias Celis",
      "userId": "07132738901482165301"
     },
     "user_tz": 240
    },
    "id": "diotfyaqcF-C",
    "outputId": "5b296bc4-8067-4285-cdfa-74c521ef6fca"
   },
   "outputs": [
    {
     "data": {
      "text/html": [
       "<div>\n",
       "<style scoped>\n",
       "    .dataframe tbody tr th:only-of-type {\n",
       "        vertical-align: middle;\n",
       "    }\n",
       "\n",
       "    .dataframe tbody tr th {\n",
       "        vertical-align: top;\n",
       "    }\n",
       "\n",
       "    .dataframe thead th {\n",
       "        text-align: right;\n",
       "    }\n",
       "</style>\n",
       "<table border=\"1\" class=\"dataframe\">\n",
       "  <thead>\n",
       "    <tr style=\"text-align: right;\">\n",
       "      <th></th>\n",
       "      <th>const</th>\n",
       "      <th>area_primer_piso</th>\n",
       "      <th>tiene_segundo_piso</th>\n",
       "      <th>area_segundo_piso</th>\n",
       "      <th>cantidad_banos</th>\n",
       "      <th>capacidad_carros_garage</th>\n",
       "      <th>calidad_de_cocina_excelente</th>\n",
       "    </tr>\n",
       "  </thead>\n",
       "  <tbody>\n",
       "    <tr>\n",
       "      <th>1303</th>\n",
       "      <td>1.0</td>\n",
       "      <td>65.7732</td>\n",
       "      <td>0</td>\n",
       "      <td>0.0000</td>\n",
       "      <td>1</td>\n",
       "      <td>0</td>\n",
       "      <td>0</td>\n",
       "    </tr>\n",
       "    <tr>\n",
       "      <th>326</th>\n",
       "      <td>1.0</td>\n",
       "      <td>55.3684</td>\n",
       "      <td>1</td>\n",
       "      <td>55.3684</td>\n",
       "      <td>1</td>\n",
       "      <td>189</td>\n",
       "      <td>0</td>\n",
       "    </tr>\n",
       "    <tr>\n",
       "      <th>386</th>\n",
       "      <td>1.0</td>\n",
       "      <td>74.6916</td>\n",
       "      <td>1</td>\n",
       "      <td>107.4853</td>\n",
       "      <td>2</td>\n",
       "      <td>560</td>\n",
       "      <td>0</td>\n",
       "    </tr>\n",
       "    <tr>\n",
       "      <th>615</th>\n",
       "      <td>1.0</td>\n",
       "      <td>103.6764</td>\n",
       "      <td>0</td>\n",
       "      <td>0.0000</td>\n",
       "      <td>1</td>\n",
       "      <td>440</td>\n",
       "      <td>0</td>\n",
       "    </tr>\n",
       "    <tr>\n",
       "      <th>236</th>\n",
       "      <td>1.0</td>\n",
       "      <td>94.2006</td>\n",
       "      <td>1</td>\n",
       "      <td>67.8170</td>\n",
       "      <td>2</td>\n",
       "      <td>457</td>\n",
       "      <td>0</td>\n",
       "    </tr>\n",
       "  </tbody>\n",
       "</table>\n",
       "</div>"
      ],
      "text/plain": [
       "      const  area_primer_piso  tiene_segundo_piso  area_segundo_piso  \\\n",
       "1303    1.0           65.7732                   0             0.0000   \n",
       "326     1.0           55.3684                   1            55.3684   \n",
       "386     1.0           74.6916                   1           107.4853   \n",
       "615     1.0          103.6764                   0             0.0000   \n",
       "236     1.0           94.2006                   1            67.8170   \n",
       "\n",
       "      cantidad_banos  capacidad_carros_garage  calidad_de_cocina_excelente  \n",
       "1303               1                        0                            0  \n",
       "326                1                      189                            0  \n",
       "386                2                      560                            0  \n",
       "615                1                      440                            0  \n",
       "236                2                      457                            0  "
      ]
     },
     "execution_count": 69,
     "metadata": {},
     "output_type": "execute_result"
    }
   ],
   "source": [
    "# Añadiendo una constante\n",
    "X_train = sm.add_constant(X_train)\n",
    "X_train.head()"
   ]
  },
  {
   "cell_type": "code",
   "execution_count": 70,
   "metadata": {
    "executionInfo": {
     "elapsed": 7,
     "status": "ok",
     "timestamp": 1753125804942,
     "user": {
      "displayName": "Elias Celis",
      "userId": "07132738901482165301"
     },
     "user_tz": 240
    },
    "id": "JuYk-Oj8askP"
   },
   "outputs": [],
   "source": [
    "# Modelo sin la información del garage\n",
    "# Modelo sin el área del segundo piso\n",
    "modelo_3 = sm.OLS(y_train,X_train[[\n",
    "    'const', 'area_primer_piso',\n",
    "    'tiene_segundo_piso', \n",
    "    'cantidad_banos', \n",
    "    'calidad_de_cocina_excelente'\n",
    "]]).fit()"
   ]
  },
  {
   "cell_type": "code",
   "execution_count": 71,
   "metadata": {
    "colab": {
     "base_uri": "https://localhost:8080/"
    },
    "executionInfo": {
     "elapsed": 7,
     "status": "ok",
     "timestamp": 1753125807867,
     "user": {
      "displayName": "Elias Celis",
      "userId": "07132738901482165301"
     },
     "user_tz": 240
    },
    "id": "tW8gXpU7Xu7N",
    "outputId": "54825279-473a-43d9-a219-e8bb66a84898"
   },
   "outputs": [
    {
     "data": {
      "text/plain": [
       "np.float64(1063173.8519646416)"
      ]
     },
     "execution_count": 71,
     "metadata": {},
     "output_type": "execute_result"
    }
   ],
   "source": [
    "modelo_3.predict(nuevo_inmueble)[0]"
   ]
  },
  {
   "cell_type": "code",
   "execution_count": 72,
   "metadata": {
    "colab": {
     "base_uri": "https://localhost:8080/"
    },
    "executionInfo": {
     "elapsed": 72,
     "status": "ok",
     "timestamp": 1753125833828,
     "user": {
      "displayName": "Elias Celis",
      "userId": "07132738901482165301"
     },
     "user_tz": 240
    },
    "id": "PGWtu5sycTfT",
    "outputId": "d946e47c-8c8c-407c-de24-13c9c8b293fb"
   },
   "outputs": [
    {
     "name": "stdout",
     "output_type": "stream",
     "text": [
      "                            OLS Regression Results                            \n",
      "==============================================================================\n",
      "Dep. Variable:        precio_de_venta   R-squared:                       0.651\n",
      "Model:                            OLS   Adj. R-squared:                  0.650\n",
      "Method:                 Least Squares   F-statistic:                     467.1\n",
      "Date:                Mon, 04 Aug 2025   Prob (F-statistic):          4.15e-227\n",
      "Time:                        19:38:02   Log-Likelihood:                -13790.\n",
      "No. Observations:                1006   AIC:                         2.759e+04\n",
      "Df Residuals:                    1001   BIC:                         2.762e+04\n",
      "Df Model:                           4                                         \n",
      "Covariance Type:            nonrobust                                         \n",
      "===============================================================================================\n",
      "                                  coef    std err          t      P>|t|      [0.025      0.975]\n",
      "-----------------------------------------------------------------------------------------------\n",
      "const                         -1.3e+05   2.98e+04     -4.367      0.000   -1.88e+05   -7.16e+04\n",
      "area_primer_piso             6119.6532    286.041     21.394      0.000    5558.344    6680.963\n",
      "tiene_segundo_piso           2.213e+05   1.79e+04     12.390      0.000    1.86e+05    2.56e+05\n",
      "cantidad_banos                1.49e+05   1.58e+04      9.407      0.000    1.18e+05     1.8e+05\n",
      "calidad_de_cocina_excelente  4.444e+05   2.88e+04     15.437      0.000    3.88e+05    5.01e+05\n",
      "==============================================================================\n",
      "Omnibus:                      119.666   Durbin-Watson:                   2.096\n",
      "Prob(Omnibus):                  0.000   Jarque-Bera (JB):              627.200\n",
      "Skew:                           0.403   Prob(JB):                    6.39e-137\n",
      "Kurtosis:                       6.783   Cond. No.                         547.\n",
      "==============================================================================\n",
      "\n",
      "Notes:\n",
      "[1] Standard Errors assume that the covariance matrix of the errors is correctly specified.\n"
     ]
    }
   ],
   "source": [
    "# El resumen del modelo\n",
    "print(modelo_3.summary())"
   ]
  },
  {
   "cell_type": "markdown",
   "metadata": {
    "id": "tL0bIEoyXwLz"
   },
   "source": [
    "A partir de esto, es posible obtener el valor de venta del inmueble utilizando los modelos que fueron construidos durante el curso."
   ]
  },
  {
   "cell_type": "markdown",
   "metadata": {
    "id": "v9X8eoWlX3ry"
   },
   "source": [
    "# **Manos a la obra: ajustando un modelo para la planta**"
   ]
  },
  {
   "cell_type": "markdown",
   "metadata": {
    "id": "Pi_UVY6HX81R"
   },
   "source": [
    "En esta actividad, vamos a aplicar los conceptos de multicolinealidad y homocedasticidad en un contexto diferente: el sector de energía. Utilizaremos este [dataset](https://drive.google.com/file/d/1AhIO_HBe7ZR9FGODzrj-_vvXBZiJ1sIC/view?usp=sharing) de una planta de energía para explorar cómo estos conceptos pueden afectar nuestros modelos de regresión. ¡Vamos!"
   ]
  },
  {
   "cell_type": "markdown",
   "metadata": {
    "id": "_Ba--kktX96i"
   },
   "source": [
    "Tu tarea implica llevar a cabo las siguientes etapas:\n",
    "\n",
    "**Primera etapa:** Verifica la multicolinealidad utilizando el concepto de VIF. Si hay indicios de multicolinealidad entre las variables, intenta pensar en qué medidas se pueden tomar. Para ello, deberás construir un modelo de regresión lineal asumiendo que la columna PE es la variable y.\n",
    "\n",
    "**Segunda etapa:** Realiza un análisis de residuos e identifica si hay o no heterocedasticidad en los datos.\n",
    "\n",
    "Dedica tiempo a las actividades y desarrolla tus habilidades a través de la aplicación de tus conocimientos adquiridos a lo largo del curso."
   ]
  },
  {
   "cell_type": "code",
   "execution_count": 73,
   "metadata": {
    "executionInfo": {
     "elapsed": 4,
     "status": "ok",
     "timestamp": 1753125844360,
     "user": {
      "displayName": "Elias Celis",
      "userId": "07132738901482165301"
     },
     "user_tz": 240
    },
    "id": "nSo6c1WoYCYC"
   },
   "outputs": [],
   "source": [
    "import pandas as pd\n",
    "from sklearn.model_selection import train_test_split"
   ]
  },
  {
   "cell_type": "code",
   "execution_count": 74,
   "metadata": {
    "colab": {
     "base_uri": "https://localhost:8080/",
     "height": 206
    },
    "executionInfo": {
     "elapsed": 1572,
     "status": "ok",
     "timestamp": 1753125847264,
     "user": {
      "displayName": "Elias Celis",
      "userId": "07132738901482165301"
     },
     "user_tz": 240
    },
    "id": "6IegPtdGYC92",
    "outputId": "903e9bcc-168c-45cb-8a66-203593231e29"
   },
   "outputs": [
    {
     "data": {
      "text/html": [
       "<div>\n",
       "<style scoped>\n",
       "    .dataframe tbody tr th:only-of-type {\n",
       "        vertical-align: middle;\n",
       "    }\n",
       "\n",
       "    .dataframe tbody tr th {\n",
       "        vertical-align: top;\n",
       "    }\n",
       "\n",
       "    .dataframe thead th {\n",
       "        text-align: right;\n",
       "    }\n",
       "</style>\n",
       "<table border=\"1\" class=\"dataframe\">\n",
       "  <thead>\n",
       "    <tr style=\"text-align: right;\">\n",
       "      <th></th>\n",
       "      <th>AT</th>\n",
       "      <th>V</th>\n",
       "      <th>AP</th>\n",
       "      <th>RH</th>\n",
       "      <th>PE</th>\n",
       "    </tr>\n",
       "  </thead>\n",
       "  <tbody>\n",
       "    <tr>\n",
       "      <th>0</th>\n",
       "      <td>14.96</td>\n",
       "      <td>41.76</td>\n",
       "      <td>1024.07</td>\n",
       "      <td>73.17</td>\n",
       "      <td>463.26</td>\n",
       "    </tr>\n",
       "    <tr>\n",
       "      <th>1</th>\n",
       "      <td>25.18</td>\n",
       "      <td>62.96</td>\n",
       "      <td>1020.04</td>\n",
       "      <td>59.08</td>\n",
       "      <td>444.37</td>\n",
       "    </tr>\n",
       "    <tr>\n",
       "      <th>2</th>\n",
       "      <td>5.11</td>\n",
       "      <td>39.40</td>\n",
       "      <td>1012.16</td>\n",
       "      <td>92.14</td>\n",
       "      <td>488.56</td>\n",
       "    </tr>\n",
       "    <tr>\n",
       "      <th>3</th>\n",
       "      <td>20.86</td>\n",
       "      <td>57.32</td>\n",
       "      <td>1010.24</td>\n",
       "      <td>76.64</td>\n",
       "      <td>446.48</td>\n",
       "    </tr>\n",
       "    <tr>\n",
       "      <th>4</th>\n",
       "      <td>10.82</td>\n",
       "      <td>37.50</td>\n",
       "      <td>1009.23</td>\n",
       "      <td>96.62</td>\n",
       "      <td>473.90</td>\n",
       "    </tr>\n",
       "    <tr>\n",
       "      <th>...</th>\n",
       "      <td>...</td>\n",
       "      <td>...</td>\n",
       "      <td>...</td>\n",
       "      <td>...</td>\n",
       "      <td>...</td>\n",
       "    </tr>\n",
       "    <tr>\n",
       "      <th>9563</th>\n",
       "      <td>16.65</td>\n",
       "      <td>49.69</td>\n",
       "      <td>1014.01</td>\n",
       "      <td>91.00</td>\n",
       "      <td>460.03</td>\n",
       "    </tr>\n",
       "    <tr>\n",
       "      <th>9564</th>\n",
       "      <td>13.19</td>\n",
       "      <td>39.18</td>\n",
       "      <td>1023.67</td>\n",
       "      <td>66.78</td>\n",
       "      <td>469.62</td>\n",
       "    </tr>\n",
       "    <tr>\n",
       "      <th>9565</th>\n",
       "      <td>31.32</td>\n",
       "      <td>74.33</td>\n",
       "      <td>1012.92</td>\n",
       "      <td>36.48</td>\n",
       "      <td>429.57</td>\n",
       "    </tr>\n",
       "    <tr>\n",
       "      <th>9566</th>\n",
       "      <td>24.48</td>\n",
       "      <td>69.45</td>\n",
       "      <td>1013.86</td>\n",
       "      <td>62.39</td>\n",
       "      <td>435.74</td>\n",
       "    </tr>\n",
       "    <tr>\n",
       "      <th>9567</th>\n",
       "      <td>21.60</td>\n",
       "      <td>62.52</td>\n",
       "      <td>1017.23</td>\n",
       "      <td>67.87</td>\n",
       "      <td>453.28</td>\n",
       "    </tr>\n",
       "  </tbody>\n",
       "</table>\n",
       "<p>9568 rows × 5 columns</p>\n",
       "</div>"
      ],
      "text/plain": [
       "         AT      V       AP     RH      PE\n",
       "0     14.96  41.76  1024.07  73.17  463.26\n",
       "1     25.18  62.96  1020.04  59.08  444.37\n",
       "2      5.11  39.40  1012.16  92.14  488.56\n",
       "3     20.86  57.32  1010.24  76.64  446.48\n",
       "4     10.82  37.50  1009.23  96.62  473.90\n",
       "...     ...    ...      ...    ...     ...\n",
       "9563  16.65  49.69  1014.01  91.00  460.03\n",
       "9564  13.19  39.18  1023.67  66.78  469.62\n",
       "9565  31.32  74.33  1012.92  36.48  429.57\n",
       "9566  24.48  69.45  1013.86  62.39  435.74\n",
       "9567  21.60  62.52  1017.23  67.87  453.28\n",
       "\n",
       "[9568 rows x 5 columns]"
      ]
     },
     "execution_count": 74,
     "metadata": {},
     "output_type": "execute_result"
    }
   ],
   "source": [
    "df = pd.read_csv('../data/usina.csv')\n",
    "df"
   ]
  },
  {
   "cell_type": "code",
   "execution_count": 75,
   "metadata": {
    "executionInfo": {
     "elapsed": 40,
     "status": "ok",
     "timestamp": 1753125850043,
     "user": {
      "displayName": "Elias Celis",
      "userId": "07132738901482165301"
     },
     "user_tz": 240
    },
    "id": "rttze-X3YFtO"
   },
   "outputs": [],
   "source": [
    "y = df['PE']\n",
    "X = df.drop(columns=['PE'])"
   ]
  },
  {
   "cell_type": "code",
   "execution_count": 76,
   "metadata": {
    "executionInfo": {
     "elapsed": 3,
     "status": "ok",
     "timestamp": 1753125851492,
     "user": {
      "displayName": "Elias Celis",
      "userId": "07132738901482165301"
     },
     "user_tz": 240
    },
    "id": "HZi3CdbvYHvy"
   },
   "outputs": [],
   "source": [
    "X_train, X_test, y_train, y_test = train_test_split(X, y, test_size=0.3, random_state=230)"
   ]
  },
  {
   "cell_type": "code",
   "execution_count": 77,
   "metadata": {
    "executionInfo": {
     "elapsed": 7,
     "status": "ok",
     "timestamp": 1753125853179,
     "user": {
      "displayName": "Elias Celis",
      "userId": "07132738901482165301"
     },
     "user_tz": 240
    },
    "id": "SjA_841CYIMy"
   },
   "outputs": [],
   "source": [
    "import statsmodels.api as sm"
   ]
  },
  {
   "cell_type": "code",
   "execution_count": 78,
   "metadata": {
    "executionInfo": {
     "elapsed": 9,
     "status": "ok",
     "timestamp": 1753125854992,
     "user": {
      "displayName": "Elias Celis",
      "userId": "07132738901482165301"
     },
     "user_tz": 240
    },
    "id": "eTkyj0OzYJsq"
   },
   "outputs": [],
   "source": [
    "#adicionando o constante\n",
    "X_train= sm.add_constant(X_train)"
   ]
  },
  {
   "cell_type": "code",
   "execution_count": 79,
   "metadata": {
    "executionInfo": {
     "elapsed": 4,
     "status": "ok",
     "timestamp": 1753125857322,
     "user": {
      "displayName": "Elias Celis",
      "userId": "07132738901482165301"
     },
     "user_tz": 240
    },
    "id": "if3Jon72YLQJ"
   },
   "outputs": [],
   "source": [
    "modelo = sm.OLS(y_train,X_train).fit()"
   ]
  },
  {
   "cell_type": "code",
   "execution_count": 80,
   "metadata": {
    "colab": {
     "base_uri": "https://localhost:8080/",
     "height": 550
    },
    "executionInfo": {
     "elapsed": 34,
     "status": "ok",
     "timestamp": 1753125858643,
     "user": {
      "displayName": "Elias Celis",
      "userId": "07132738901482165301"
     },
     "user_tz": 240
    },
    "id": "GvuGkOENYNR4",
    "outputId": "524e408c-ef9a-4f2b-c094-8109f6ef980a"
   },
   "outputs": [
    {
     "data": {
      "text/html": [
       "<table class=\"simpletable\">\n",
       "<caption>OLS Regression Results</caption>\n",
       "<tr>\n",
       "  <th>Dep. Variable:</th>           <td>PE</td>        <th>  R-squared:         </th> <td>   0.929</td> \n",
       "</tr>\n",
       "<tr>\n",
       "  <th>Model:</th>                   <td>OLS</td>       <th>  Adj. R-squared:    </th> <td>   0.929</td> \n",
       "</tr>\n",
       "<tr>\n",
       "  <th>Method:</th>             <td>Least Squares</td>  <th>  F-statistic:       </th> <td>2.191e+04</td>\n",
       "</tr>\n",
       "<tr>\n",
       "  <th>Date:</th>             <td>Mon, 04 Aug 2025</td> <th>  Prob (F-statistic):</th>  <td>  0.00</td>  \n",
       "</tr>\n",
       "<tr>\n",
       "  <th>Time:</th>                 <td>19:38:02</td>     <th>  Log-Likelihood:    </th> <td> -19662.</td> \n",
       "</tr>\n",
       "<tr>\n",
       "  <th>No. Observations:</th>      <td>  6697</td>      <th>  AIC:               </th> <td>3.933e+04</td>\n",
       "</tr>\n",
       "<tr>\n",
       "  <th>Df Residuals:</th>          <td>  6692</td>      <th>  BIC:               </th> <td>3.937e+04</td>\n",
       "</tr>\n",
       "<tr>\n",
       "  <th>Df Model:</th>              <td>     4</td>      <th>                     </th>     <td> </td>    \n",
       "</tr>\n",
       "<tr>\n",
       "  <th>Covariance Type:</th>      <td>nonrobust</td>    <th>                     </th>     <td> </td>    \n",
       "</tr>\n",
       "</table>\n",
       "<table class=\"simpletable\">\n",
       "<tr>\n",
       "    <td></td>       <th>coef</th>     <th>std err</th>      <th>t</th>      <th>P>|t|</th>  <th>[0.025</th>    <th>0.975]</th>  \n",
       "</tr>\n",
       "<tr>\n",
       "  <th>const</th> <td>  446.1042</td> <td>   11.769</td> <td>   37.905</td> <td> 0.000</td> <td>  423.033</td> <td>  469.175</td>\n",
       "</tr>\n",
       "<tr>\n",
       "  <th>AT</th>    <td>   -1.9607</td> <td>    0.018</td> <td> -106.991</td> <td> 0.000</td> <td>   -1.997</td> <td>   -1.925</td>\n",
       "</tr>\n",
       "<tr>\n",
       "  <th>V</th>     <td>   -0.2413</td> <td>    0.009</td> <td>  -27.670</td> <td> 0.000</td> <td>   -0.258</td> <td>   -0.224</td>\n",
       "</tr>\n",
       "<tr>\n",
       "  <th>AP</th>    <td>    0.0702</td> <td>    0.011</td> <td>    6.152</td> <td> 0.000</td> <td>    0.048</td> <td>    0.093</td>\n",
       "</tr>\n",
       "<tr>\n",
       "  <th>RH</th>    <td>   -0.1537</td> <td>    0.005</td> <td>  -30.823</td> <td> 0.000</td> <td>   -0.163</td> <td>   -0.144</td>\n",
       "</tr>\n",
       "</table>\n",
       "<table class=\"simpletable\">\n",
       "<tr>\n",
       "  <th>Omnibus:</th>       <td>481.758</td> <th>  Durbin-Watson:     </th> <td>   1.974</td>\n",
       "</tr>\n",
       "<tr>\n",
       "  <th>Prob(Omnibus):</th> <td> 0.000</td>  <th>  Jarque-Bera (JB):  </th> <td>1740.892</td>\n",
       "</tr>\n",
       "<tr>\n",
       "  <th>Skew:</th>          <td>-0.300</td>  <th>  Prob(JB):          </th> <td>    0.00</td>\n",
       "</tr>\n",
       "<tr>\n",
       "  <th>Kurtosis:</th>      <td> 5.424</td>  <th>  Cond. No.          </th> <td>2.15e+05</td>\n",
       "</tr>\n",
       "</table><br/><br/>Notes:<br/>[1] Standard Errors assume that the covariance matrix of the errors is correctly specified.<br/>[2] The condition number is large, 2.15e+05. This might indicate that there are<br/>strong multicollinearity or other numerical problems."
      ],
      "text/latex": [
       "\\begin{center}\n",
       "\\begin{tabular}{lclc}\n",
       "\\toprule\n",
       "\\textbf{Dep. Variable:}    &        PE        & \\textbf{  R-squared:         } &     0.929   \\\\\n",
       "\\textbf{Model:}            &       OLS        & \\textbf{  Adj. R-squared:    } &     0.929   \\\\\n",
       "\\textbf{Method:}           &  Least Squares   & \\textbf{  F-statistic:       } & 2.191e+04   \\\\\n",
       "\\textbf{Date:}             & Mon, 04 Aug 2025 & \\textbf{  Prob (F-statistic):} &     0.00    \\\\\n",
       "\\textbf{Time:}             &     19:38:02     & \\textbf{  Log-Likelihood:    } &   -19662.   \\\\\n",
       "\\textbf{No. Observations:} &        6697      & \\textbf{  AIC:               } & 3.933e+04   \\\\\n",
       "\\textbf{Df Residuals:}     &        6692      & \\textbf{  BIC:               } & 3.937e+04   \\\\\n",
       "\\textbf{Df Model:}         &           4      & \\textbf{                     } &             \\\\\n",
       "\\textbf{Covariance Type:}  &    nonrobust     & \\textbf{                     } &             \\\\\n",
       "\\bottomrule\n",
       "\\end{tabular}\n",
       "\\begin{tabular}{lcccccc}\n",
       "               & \\textbf{coef} & \\textbf{std err} & \\textbf{t} & \\textbf{P$> |$t$|$} & \\textbf{[0.025} & \\textbf{0.975]}  \\\\\n",
       "\\midrule\n",
       "\\textbf{const} &     446.1042  &       11.769     &    37.905  &         0.000        &      423.033    &      469.175     \\\\\n",
       "\\textbf{AT}    &      -1.9607  &        0.018     &  -106.991  &         0.000        &       -1.997    &       -1.925     \\\\\n",
       "\\textbf{V}     &      -0.2413  &        0.009     &   -27.670  &         0.000        &       -0.258    &       -0.224     \\\\\n",
       "\\textbf{AP}    &       0.0702  &        0.011     &     6.152  &         0.000        &        0.048    &        0.093     \\\\\n",
       "\\textbf{RH}    &      -0.1537  &        0.005     &   -30.823  &         0.000        &       -0.163    &       -0.144     \\\\\n",
       "\\bottomrule\n",
       "\\end{tabular}\n",
       "\\begin{tabular}{lclc}\n",
       "\\textbf{Omnibus:}       & 481.758 & \\textbf{  Durbin-Watson:     } &    1.974  \\\\\n",
       "\\textbf{Prob(Omnibus):} &   0.000 & \\textbf{  Jarque-Bera (JB):  } & 1740.892  \\\\\n",
       "\\textbf{Skew:}          &  -0.300 & \\textbf{  Prob(JB):          } &     0.00  \\\\\n",
       "\\textbf{Kurtosis:}      &   5.424 & \\textbf{  Cond. No.          } & 2.15e+05  \\\\\n",
       "\\bottomrule\n",
       "\\end{tabular}\n",
       "%\\caption{OLS Regression Results}\n",
       "\\end{center}\n",
       "\n",
       "Notes: \\newline\n",
       " [1] Standard Errors assume that the covariance matrix of the errors is correctly specified. \\newline\n",
       " [2] The condition number is large, 2.15e+05. This might indicate that there are \\newline\n",
       " strong multicollinearity or other numerical problems."
      ],
      "text/plain": [
       "<class 'statsmodels.iolib.summary.Summary'>\n",
       "\"\"\"\n",
       "                            OLS Regression Results                            \n",
       "==============================================================================\n",
       "Dep. Variable:                     PE   R-squared:                       0.929\n",
       "Model:                            OLS   Adj. R-squared:                  0.929\n",
       "Method:                 Least Squares   F-statistic:                 2.191e+04\n",
       "Date:                Mon, 04 Aug 2025   Prob (F-statistic):               0.00\n",
       "Time:                        19:38:02   Log-Likelihood:                -19662.\n",
       "No. Observations:                6697   AIC:                         3.933e+04\n",
       "Df Residuals:                    6692   BIC:                         3.937e+04\n",
       "Df Model:                           4                                         \n",
       "Covariance Type:            nonrobust                                         \n",
       "==============================================================================\n",
       "                 coef    std err          t      P>|t|      [0.025      0.975]\n",
       "------------------------------------------------------------------------------\n",
       "const        446.1042     11.769     37.905      0.000     423.033     469.175\n",
       "AT            -1.9607      0.018   -106.991      0.000      -1.997      -1.925\n",
       "V             -0.2413      0.009    -27.670      0.000      -0.258      -0.224\n",
       "AP             0.0702      0.011      6.152      0.000       0.048       0.093\n",
       "RH            -0.1537      0.005    -30.823      0.000      -0.163      -0.144\n",
       "==============================================================================\n",
       "Omnibus:                      481.758   Durbin-Watson:                   1.974\n",
       "Prob(Omnibus):                  0.000   Jarque-Bera (JB):             1740.892\n",
       "Skew:                          -0.300   Prob(JB):                         0.00\n",
       "Kurtosis:                       5.424   Cond. No.                     2.15e+05\n",
       "==============================================================================\n",
       "\n",
       "Notes:\n",
       "[1] Standard Errors assume that the covariance matrix of the errors is correctly specified.\n",
       "[2] The condition number is large, 2.15e+05. This might indicate that there are\n",
       "strong multicollinearity or other numerical problems.\n",
       "\"\"\""
      ]
     },
     "execution_count": 80,
     "metadata": {},
     "output_type": "execute_result"
    }
   ],
   "source": [
    "modelo.summary()"
   ]
  },
  {
   "cell_type": "markdown",
   "metadata": {
    "id": "UjFjY5M0YQ-M"
   },
   "source": [
    "## **Multicolinealidad**"
   ]
  },
  {
   "cell_type": "code",
   "execution_count": 81,
   "metadata": {
    "executionInfo": {
     "elapsed": 8,
     "status": "ok",
     "timestamp": 1753126556555,
     "user": {
      "displayName": "Elias Celis",
      "userId": "07132738901482165301"
     },
     "user_tz": 240
    },
    "id": "fhkFRKBiYO6_"
   },
   "outputs": [],
   "source": [
    "# importar el VIF de statsmodel\n",
    "from statsmodels.stats.outliers_influence import variance_inflation_factor as vif"
   ]
  },
  {
   "cell_type": "code",
   "execution_count": 82,
   "metadata": {
    "executionInfo": {
     "elapsed": 4,
     "status": "ok",
     "timestamp": 1753126557611,
     "user": {
      "displayName": "Elias Celis",
      "userId": "07132738901482165301"
     },
     "user_tz": 240
    },
    "id": "RHIY0qTrcl-w"
   },
   "outputs": [],
   "source": [
    "explicativas = ['const', 'AT', 'V', 'AP', 'RH']"
   ]
  },
  {
   "cell_type": "code",
   "execution_count": 83,
   "metadata": {
    "executionInfo": {
     "elapsed": 4,
     "status": "ok",
     "timestamp": 1753126558945,
     "user": {
      "displayName": "Elias Celis",
      "userId": "07132738901482165301"
     },
     "user_tz": 240
    },
    "id": "Li4xDNcIYTk3"
   },
   "outputs": [],
   "source": [
    "# VIF 1\n",
    "vif_1 = pd.DataFrame()\n",
    "vif_1['variables'] = explicativas"
   ]
  },
  {
   "cell_type": "code",
   "execution_count": 84,
   "metadata": {
    "colab": {
     "base_uri": "https://localhost:8080/",
     "height": 206
    },
    "executionInfo": {
     "elapsed": 36,
     "status": "ok",
     "timestamp": 1753126560227,
     "user": {
      "displayName": "Elias Celis",
      "userId": "07132738901482165301"
     },
     "user_tz": 240
    },
    "id": "zTJbLJL_cuYY",
    "outputId": "d0666c59-1742-4e49-edcb-59f0f7838455"
   },
   "outputs": [
    {
     "data": {
      "text/html": [
       "<div>\n",
       "<style scoped>\n",
       "    .dataframe tbody tr th:only-of-type {\n",
       "        vertical-align: middle;\n",
       "    }\n",
       "\n",
       "    .dataframe tbody tr th {\n",
       "        vertical-align: top;\n",
       "    }\n",
       "\n",
       "    .dataframe thead th {\n",
       "        text-align: right;\n",
       "    }\n",
       "</style>\n",
       "<table border=\"1\" class=\"dataframe\">\n",
       "  <thead>\n",
       "    <tr style=\"text-align: right;\">\n",
       "      <th></th>\n",
       "      <th>variables</th>\n",
       "      <th>vif</th>\n",
       "    </tr>\n",
       "  </thead>\n",
       "  <tbody>\n",
       "    <tr>\n",
       "      <th>0</th>\n",
       "      <td>const</td>\n",
       "      <td>44603.788615</td>\n",
       "    </tr>\n",
       "    <tr>\n",
       "      <th>1</th>\n",
       "      <td>AT</td>\n",
       "      <td>6.034363</td>\n",
       "    </tr>\n",
       "    <tr>\n",
       "      <th>2</th>\n",
       "      <td>V</td>\n",
       "      <td>3.954998</td>\n",
       "    </tr>\n",
       "    <tr>\n",
       "      <th>3</th>\n",
       "      <td>AP</td>\n",
       "      <td>1.468530</td>\n",
       "    </tr>\n",
       "    <tr>\n",
       "      <th>4</th>\n",
       "      <td>RH</td>\n",
       "      <td>1.717508</td>\n",
       "    </tr>\n",
       "  </tbody>\n",
       "</table>\n",
       "</div>"
      ],
      "text/plain": [
       "  variables           vif\n",
       "0     const  44603.788615\n",
       "1        AT      6.034363\n",
       "2         V      3.954998\n",
       "3        AP      1.468530\n",
       "4        RH      1.717508"
      ]
     },
     "execution_count": 84,
     "metadata": {},
     "output_type": "execute_result"
    }
   ],
   "source": [
    "vif_1['vif'] = [vif(X_train[explicativas],i) for i in range(len(explicativas))]\n",
    "vif_1"
   ]
  },
  {
   "cell_type": "markdown",
   "metadata": {
    "id": "dsNc5tTjYYJD"
   },
   "source": [
    "Los resultados obtenidos se refieren al cálculo del Factor de Inflación de la Varianza (FIV), una métrica utilizada para cuantificar el grado de multicolinealidad en un modelo de regresión lineal. El FIV indica cuánto aumenta la varianza de un coeficiente de regresión debido a la multicolinealidad.\n",
    "\n",
    "A continuación, se presenta una interpretación de los valores del FIV obtenidos para cada variable:"
   ]
  },
  {
   "cell_type": "markdown",
   "metadata": {
    "id": "Tqy0X8WgYakm"
   },
   "source": [
    "1. **const**: Este valor grande (44603.788615) para la constante (intersección) generalmente no se interpreta en el contexto de multicolinealidad, ya que es simplemente un valor que ajusta la media de la respuesta cuando todas las variables predictoras son iguales a cero.\n",
    "2. **AT (Temperatura Ambiente)**: Un VIF de aproximadamente 6,03 indica una multicolinealidad moderada. Un VIF superior a 5 puede ser motivo de preocupación, ya que sugiere que esta variable tiene una correlación lineal moderada con las demás variables independientes del modelo.\n",
    "3. **V (Velocidad del Viento)**: Con un VIF de aproximadamente 3,95, indica una multicolinealidad de baja a moderada. Esto sugiere que existe cierta correlación con otras variables predictoras, pero no es extremadamente alta.\n",
    "4. **AP (Presión atmosférica)**: El VIF de aproximadamente 1,47 sugiere que hay poca multicolinealidad relacionada con esta variable, lo que indica que tiene una relación lineal relativamente baja con las otras variables predictoras.\n",
    "5. **RH (humedad relativa)**: un VIF de aproximadamente 1,72 también indica una multicolinealidad baja, lo que demuestra que esta variable tiene una pequeña correlación lineal con las demás variables del modelo."
   ]
  },
  {
   "cell_type": "markdown",
   "metadata": {
    "id": "OsSN6nhuYlBZ"
   },
   "source": [
    "**Interpretación general**:\n",
    "- Valores de VIF inferiores a 5 generalmente indican una multicolinealidad baja, como ocurre con AP, V y RH.\n",
    "- Un VIF entre 5 y 10 (como se observa en AT) sugiere una multicolinealidad moderada, lo que puede ser motivo de preocupación o no, según el contexto específico del análisis.\n",
    "- Valores de VIF superiores a 10 indicarían una multicolinealidad alta, lo cual no se observó en este caso, excepto para la constante, que, como se mencionó, generalmente no se considera en el análisis de multicolinealidad."
   ]
  },
  {
   "cell_type": "markdown",
   "metadata": {
    "id": "D3QZLIvkYozi"
   },
   "source": [
    "En resumen, los resultados indican que, a excepción de la temperatura ambiente (TA), las demás variables presentan un nivel aceptable de multicolinealidad en el modelo. La temperatura ambiente presenta un nivel moderado de multicolinealidad y podría requerir mayor investigación o una posible reformulación del modelo."
   ]
  }
 ],
 "metadata": {
  "colab": {
   "authorship_tag": "ABX9TyPr9aEX+HSskKZHUNjp5xHa",
   "provenance": []
  },
  "kernelspec": {
   "display_name": ".venv",
   "language": "python",
   "name": "python3"
  },
  "language_info": {
   "codemirror_mode": {
    "name": "ipython",
    "version": 3
   },
   "file_extension": ".py",
   "mimetype": "text/x-python",
   "name": "python",
   "nbconvert_exporter": "python",
   "pygments_lexer": "ipython3",
   "version": "3.13.5"
  }
 },
 "nbformat": 4,
 "nbformat_minor": 0
}
