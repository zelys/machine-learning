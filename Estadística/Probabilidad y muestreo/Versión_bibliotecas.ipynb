{
 "cells": [
  {
   "cell_type": "code",
   "execution_count": 1,
   "metadata": {
    "colab": {
     "base_uri": "https://localhost:8080/"
    },
    "id": "kffSOYcgir5Q",
    "outputId": "e815a9e3-73ee-455a-e6df-a4b712fe7df9"
   },
   "outputs": [
    {
     "name": "stdout",
     "output_type": "stream",
     "text": [
      "Versión de pandas -> 2.3.1\n",
      "Versión de numpy -> 2.3.2\n",
      "Versión de scipy -> 1.16.1\n",
      "Versión de matplotlib -> 3.10.5\n"
     ]
    }
   ],
   "source": [
    "import pandas, numpy, scipy, matplotlib\n",
    "\n",
    "print('Versión de pandas -> %s' % pandas.__version__)\n",
    "print('Versión de numpy -> %s' % numpy.__version__)\n",
    "print('Versión de scipy -> %s' % scipy.__version__)\n",
    "print('Versión de matplotlib -> %s' % matplotlib.__version__)"
   ]
  },
  {
   "cell_type": "code",
   "execution_count": null,
   "metadata": {
    "id": "bcAPEvyqjJCx"
   },
   "outputs": [],
   "source": []
  }
 ],
 "metadata": {
  "colab": {
   "provenance": []
  },
  "kernelspec": {
   "display_name": ".venv",
   "language": "python",
   "name": "python3"
  },
  "language_info": {
   "codemirror_mode": {
    "name": "ipython",
    "version": 3
   },
   "file_extension": ".py",
   "mimetype": "text/x-python",
   "name": "python",
   "nbconvert_exporter": "python",
   "pygments_lexer": "ipython3",
   "version": "3.13.5"
  }
 },
 "nbformat": 4,
 "nbformat_minor": 0
}
