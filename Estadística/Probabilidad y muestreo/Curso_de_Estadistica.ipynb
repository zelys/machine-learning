{
 "cells": [
  {
   "cell_type": "markdown",
   "metadata": {
    "id": "WvMflodMjQKe"
   },
   "source": [
    "***\n",
    "# <font color=green size=10>CURSO DE ESTADÍSTICA - PARTE 2</font>\n",
    "***"
   ]
  },
  {
   "cell_type": "markdown",
   "metadata": {
    "id": "cVgsZ_E3jQKg"
   },
   "source": [
    "# <font color=green>1 CONOCIENDO LOS DATOS</font>\n",
    "***"
   ]
  },
  {
   "cell_type": "markdown",
   "metadata": {
    "id": "TDjqYYNojQKh"
   },
   "source": [
    "## <font color=green>1.1 Dataset del proyecto</font>\n",
    "***"
   ]
  },
  {
   "cell_type": "markdown",
   "metadata": {
    "id": "iN1gIbaKjQKh"
   },
   "source": [
    "### Encuesta Nacional por Muestreo de Hogares - 2015\n",
    "\n",
    "La **Encuesta Nacional por Muestreo de Hogares - ENMH** en Brasil anualmente investiga, de manera permanente, características generales de la población, educación, trabajo, ingresos, vivienda y otras, con frecuencia variables, de acuerdo a las necesidades de información del país, tales como las características de migración, fecundidad, nupcialidad, salud, seguridad alimentaria, entre otros temas. La recopilación de estas estadísticas constituye, durante los 49 años de realización de la investigación, un importante instrumento para la formulación, validación y evaluación de políticas orientadas al desarrollo socioeconómico y la mejora de las condiciones de vida en Brasil."
   ]
  },
  {
   "cell_type": "markdown",
   "metadata": {
    "id": "U6V7br1RjQKi"
   },
   "source": [
    "### Fuente de los Datos\n",
    "\n",
    "Instituto Brasileño de Geografía y Estadística (IBGE) Encuesta Nacional por Muestreo de Hogares(PNAD) en el 2015"
   ]
  },
  {
   "cell_type": "markdown",
   "metadata": {
    "id": "r0Fe_qnzjQKj"
   },
   "source": [
    "### Variables utilizadas\n",
    "\n",
    "> ### Ingresos\n",
    "> ***\n",
    "\n",
    "Ingresos mensuales del trabajo principal para personas de 10 años o más.\n",
    "\n",
    "> ### Edad\n",
    "> ***\n",
    "\n",
    "Edad del residente en años en la fecha de referencia .\n",
    "\n",
    "> ### Altura (elaboración propia)\n",
    "> ***\n",
    "\n",
    "Altura del habitante en metros.\n",
    "\n",
    "> ### UF\n",
    "> ***\n",
    "\n",
    "Unidad Federal\n",
    "\n",
    "|Código|Descripción|\n",
    "|---|---|\n",
    "|11|Rondônia|\n",
    "|12|Acre|\n",
    "|13|Amazonas|\n",
    "|14|Roraima|\n",
    "|15|Pará|\n",
    "|16|Amapá|\n",
    "|17|Tocantins|\n",
    "|21|Maranhão|\n",
    "|22|Piauí|\n",
    "|23|Ceará|\n",
    "|24|Rio Grande do Norte|\n",
    "|25|Paraíba|\n",
    "|26|Pernambuco|\n",
    "|27|Alagoas|\n",
    "|28|Sergipe|\n",
    "|29|Bahia|\n",
    "|31|Minas Gerais|\n",
    "|32|Espírito Santo|\n",
    "|33|Rio de Janeiro|\n",
    "|35|São Paulo|\n",
    "|41|Paraná|\n",
    "|42|Santa Catarina|\n",
    "|43|Rio Grande do Sul|\n",
    "|50|Mato Grosso do Sul|\n",
    "|51|Mato Grosso|\n",
    "|52|Goiás|\n",
    "|53|Distrito Federal|\n",
    "\n",
    "> ### Sexo\n",
    "> ***\n",
    "\n",
    "|Código|Descripción|\n",
    "|---|---|\n",
    "|0|Masculino|\n",
    "|1|Femenino|\n",
    "\n",
    "> ### Años de Estudio\n",
    "> ***\n",
    "\n",
    "|Código|Descripción|\n",
    "|---|---|\n",
    "|1|Sin educación o menos de 1 año|\n",
    "|2|1 año|\n",
    "|3|2 años|\n",
    "|4|3 años|\n",
    "|5|4 años|\n",
    "|6|5 años|\n",
    "|7|6 años|\n",
    "|8|7 años|\n",
    "|9|8 años|\n",
    "|10|9 años|\n",
    "|11|10 años|\n",
    "|12|11 años|\n",
    "|13|12 años|\n",
    "|14|13 años|\n",
    "|15|14 años|\n",
    "|16|15 años o más|\n",
    "|17|No determinado|\n",
    "||No aplica|\n",
    "\n",
    "> ### Color\n",
    "> ***\n",
    "\n",
    "|Código|Descripción|\n",
    "|---|---|\n",
    "|0|Indígena|\n",
    "|2|Blanco|\n",
    "|4|Negro|\n",
    "|6|Amarillo|\n",
    "|8|Pardo|\n",
    "|9|Sin declarar|"
   ]
  },
  {
   "cell_type": "markdown",
   "metadata": {
    "id": "OK1IQH5cX7Gb"
   },
   "source": [
    "#### <font color='red'>Nota</font>\n",
    "***\n",
    "> Se realizaron los siguientes tratamientos sobre los datos originales:\n",
    "> 1. Se eliminaron los registros en los que **Ingreso** no era válido. (999 999 999 999);\n",
    "> 2. Se eliminaron los registros en los que **Ingreso** eran missing;\n",
    "> 3. Solo se consideraron los registros de **Personas de Referencia** de cada hogar (responsable del hogar)."
   ]
  },
  {
   "cell_type": "markdown",
   "metadata": {
    "id": "8Rw70V6ojQKk"
   },
   "source": [
    "### Importando pandas y leyendo el dataset del proyecto\n",
    "\n",
    "https://pandas.pydata.org/"
   ]
  },
  {
   "cell_type": "code",
   "execution_count": 6,
   "metadata": {
    "executionInfo": {
     "elapsed": 13,
     "status": "ok",
     "timestamp": 1751828762084,
     "user": {
      "displayName": "Elias Celis",
      "userId": "07132738901482165301"
     },
     "user_tz": 240
    },
    "id": "ufRZ7TLwjQKo"
   },
   "outputs": [],
   "source": [
    "import pandas as pd, numpy as np, scipy as sci, matplotlib.pyplot as plt"
   ]
  },
  {
   "cell_type": "code",
   "execution_count": 7,
   "metadata": {
    "executionInfo": {
     "elapsed": 2551,
     "status": "ok",
     "timestamp": 1751828764636,
     "user": {
      "displayName": "Elias Celis",
      "userId": "07132738901482165301"
     },
     "user_tz": 240
    },
    "id": "Il29PfEUZxKw"
   },
   "outputs": [],
   "source": [
    "datos = pd.read_csv('../data/datos.csv', encoding='latin-1')"
   ]
  },
  {
   "cell_type": "code",
   "execution_count": 10,
   "metadata": {},
   "outputs": [
    {
     "data": {
      "text/html": [
       "<div>\n",
       "<style scoped>\n",
       "    .dataframe tbody tr th:only-of-type {\n",
       "        vertical-align: middle;\n",
       "    }\n",
       "\n",
       "    .dataframe tbody tr th {\n",
       "        vertical-align: top;\n",
       "    }\n",
       "\n",
       "    .dataframe thead th {\n",
       "        text-align: right;\n",
       "    }\n",
       "</style>\n",
       "<table border=\"1\" class=\"dataframe\">\n",
       "  <thead>\n",
       "    <tr style=\"text-align: right;\">\n",
       "      <th></th>\n",
       "      <th>Ciudad</th>\n",
       "      <th>Sexo</th>\n",
       "      <th>Edad</th>\n",
       "      <th>Color</th>\n",
       "      <th>Años de Estudio</th>\n",
       "      <th>Ingreso</th>\n",
       "      <th>Altura</th>\n",
       "    </tr>\n",
       "  </thead>\n",
       "  <tbody>\n",
       "    <tr>\n",
       "      <th>0</th>\n",
       "      <td>11</td>\n",
       "      <td>0</td>\n",
       "      <td>23</td>\n",
       "      <td>8</td>\n",
       "      <td>12</td>\n",
       "      <td>800</td>\n",
       "      <td>1.603808</td>\n",
       "    </tr>\n",
       "    <tr>\n",
       "      <th>1</th>\n",
       "      <td>11</td>\n",
       "      <td>1</td>\n",
       "      <td>23</td>\n",
       "      <td>2</td>\n",
       "      <td>12</td>\n",
       "      <td>1150</td>\n",
       "      <td>1.739790</td>\n",
       "    </tr>\n",
       "    <tr>\n",
       "      <th>2</th>\n",
       "      <td>11</td>\n",
       "      <td>1</td>\n",
       "      <td>35</td>\n",
       "      <td>8</td>\n",
       "      <td>15</td>\n",
       "      <td>880</td>\n",
       "      <td>1.760444</td>\n",
       "    </tr>\n",
       "    <tr>\n",
       "      <th>3</th>\n",
       "      <td>11</td>\n",
       "      <td>0</td>\n",
       "      <td>46</td>\n",
       "      <td>2</td>\n",
       "      <td>6</td>\n",
       "      <td>3500</td>\n",
       "      <td>1.783158</td>\n",
       "    </tr>\n",
       "    <tr>\n",
       "      <th>4</th>\n",
       "      <td>11</td>\n",
       "      <td>1</td>\n",
       "      <td>47</td>\n",
       "      <td>8</td>\n",
       "      <td>9</td>\n",
       "      <td>150</td>\n",
       "      <td>1.690631</td>\n",
       "    </tr>\n",
       "    <tr>\n",
       "      <th>...</th>\n",
       "      <td>...</td>\n",
       "      <td>...</td>\n",
       "      <td>...</td>\n",
       "      <td>...</td>\n",
       "      <td>...</td>\n",
       "      <td>...</td>\n",
       "      <td>...</td>\n",
       "    </tr>\n",
       "    <tr>\n",
       "      <th>76835</th>\n",
       "      <td>53</td>\n",
       "      <td>1</td>\n",
       "      <td>46</td>\n",
       "      <td>2</td>\n",
       "      <td>11</td>\n",
       "      <td>812</td>\n",
       "      <td>1.687030</td>\n",
       "    </tr>\n",
       "    <tr>\n",
       "      <th>76836</th>\n",
       "      <td>53</td>\n",
       "      <td>0</td>\n",
       "      <td>30</td>\n",
       "      <td>4</td>\n",
       "      <td>7</td>\n",
       "      <td>1500</td>\n",
       "      <td>1.792934</td>\n",
       "    </tr>\n",
       "    <tr>\n",
       "      <th>76837</th>\n",
       "      <td>53</td>\n",
       "      <td>0</td>\n",
       "      <td>32</td>\n",
       "      <td>8</td>\n",
       "      <td>12</td>\n",
       "      <td>1300</td>\n",
       "      <td>1.830587</td>\n",
       "    </tr>\n",
       "    <tr>\n",
       "      <th>76838</th>\n",
       "      <td>53</td>\n",
       "      <td>0</td>\n",
       "      <td>57</td>\n",
       "      <td>8</td>\n",
       "      <td>4</td>\n",
       "      <td>1500</td>\n",
       "      <td>1.726344</td>\n",
       "    </tr>\n",
       "    <tr>\n",
       "      <th>76839</th>\n",
       "      <td>53</td>\n",
       "      <td>0</td>\n",
       "      <td>38</td>\n",
       "      <td>8</td>\n",
       "      <td>4</td>\n",
       "      <td>900</td>\n",
       "      <td>1.658305</td>\n",
       "    </tr>\n",
       "  </tbody>\n",
       "</table>\n",
       "<p>76840 rows × 7 columns</p>\n",
       "</div>"
      ],
      "text/plain": [
       "       Ciudad  Sexo  Edad  Color  Años de Estudio  Ingreso    Altura\n",
       "0          11     0    23      8               12      800  1.603808\n",
       "1          11     1    23      2               12     1150  1.739790\n",
       "2          11     1    35      8               15      880  1.760444\n",
       "3          11     0    46      2                6     3500  1.783158\n",
       "4          11     1    47      8                9      150  1.690631\n",
       "...       ...   ...   ...    ...              ...      ...       ...\n",
       "76835      53     1    46      2               11      812  1.687030\n",
       "76836      53     0    30      4                7     1500  1.792934\n",
       "76837      53     0    32      8               12     1300  1.830587\n",
       "76838      53     0    57      8                4     1500  1.726344\n",
       "76839      53     0    38      8                4      900  1.658305\n",
       "\n",
       "[76840 rows x 7 columns]"
      ]
     },
     "execution_count": 10,
     "metadata": {},
     "output_type": "execute_result"
    }
   ],
   "source": [
    "datos"
   ]
  },
  {
   "cell_type": "markdown",
   "metadata": {
    "id": "-z3bLQIUG3Hv"
   },
   "source": [
    "---\n",
    "---"
   ]
  },
  {
   "cell_type": "markdown",
   "metadata": {
    "id": "tL9xVLwTX07g"
   },
   "source": [
    "# <font color=green>2 DISTRIBUCIONES DE PROBABILIDAD</font>\n",
    "***"
   ]
  },
  {
   "cell_type": "markdown",
   "metadata": {
    "id": "3nlvC-5qG3Bj"
   },
   "source": [
    "## <font color=red>Problema</font>\n",
    "***"
   ]
  },
  {
   "cell_type": "markdown",
   "metadata": {
    "id": "8CclIz9oG3Bk"
   },
   "source": [
    "En una competencia para ocupar un puesto de científico de datos, tenemos un total de **10 preguntas** de opción múltiple con **3 alternativas posibles** en cada pregunta. **Cada pregunta tiene el mismo valor.** Suponga que un candidato decide aventurarse sin haber estudiado nada. Decide hacer la prueba con los ojos vendados y adivinar todas las respuestas. Suponiendo que la prueba **vale 10 puntos y la puntuación de corte es 5**, obtenga la probabilidad de que este candidato **acierte 5 preguntas** y también la probabilidad de que el candidato **pase a la siguiente etapa del proceso de selección**."
   ]
  },
  {
   "cell_type": "markdown",
   "metadata": {
    "id": "KJxd2KFSYLML"
   },
   "source": [
    "## <font color=green>2.1 Distribución Binomial</font>\n",
    "***"
   ]
  },
  {
   "cell_type": "markdown",
   "metadata": {
    "id": "mcbl3KbnG3Bq"
   },
   "source": [
    "Un evento **binomial** se caracteriza por la posibilidad de que solo ocurran dos categorías. Estas categorías juntas representan todo el espacio muestral, siendo también mutuamente excluyentes, es decir, la ocurrencia de una implica la no ocurrencia de la otra.\n",
    "\n",
    "En el análisis estadístico, el uso más común de la distribución binomial es para resolver problemas que involucran situaciones de **éxito** y **fracaso**."
   ]
  },
  {
   "cell_type": "markdown",
   "metadata": {
    "id": "iLoYAuJ9G3Bs"
   },
   "source": [
    "## $$P(k)=\\binom{n}{k} p^k q^{n-k}$$\n",
    "\n",
    "Donde:\n",
    "\n",
    "$p$ = probabilidad de éxito\n",
    "\n",
    "$q = (1 - p)$ = probabilidad de fracaso\n",
    "\n",
    "$n$ = número de eventos estudiados\n",
    "\n",
    "$k$ = número de eventos deseados que tienen éxito"
   ]
  },
  {
   "cell_type": "markdown",
   "metadata": {
    "id": "PxEgWbFdG3Bt"
   },
   "source": [
    "### Experimento Binomial"
   ]
  },
  {
   "cell_type": "markdown",
   "metadata": {
    "id": "eqQK3Ny-G3Bv"
   },
   "source": [
    "1. Realización de $n$ pruebas idénticas.\n",
    "\n",
    "2. Las pruebas son independientes.\n",
    "\n",
    "3. Solo son posibles dos resultados, por ejemplo: Verdadero o falso; Cara o cruz; Éxito o fracaso.\n",
    "\n",
    "4. La probabilidad de éxito está representada por $p$ y la probabilidad de fracaso por $1-p = q$. Estas probabilidades no cambian de una prueba para otra."
   ]
  },
  {
   "cell_type": "markdown",
   "metadata": {
    "id": "mT77udQ0G3Bx"
   },
   "source": [
    "### Media de la distribución binomial"
   ]
  },
  {
   "cell_type": "markdown",
   "metadata": {
    "id": "EGiuemgqG3By"
   },
   "source": [
    "El valor esperado o la media de la distribución binomial es igual al número de experimentos realizados multiplicado por la probabilidad de que ocurra el evento.\n",
    "\n",
    "## $$\\mu = n \\times p$$"
   ]
  },
  {
   "cell_type": "markdown",
   "metadata": {
    "id": "1fDLi96OG3Bz"
   },
   "source": [
    "### Desviación estándar de la distribución binomial"
   ]
  },
  {
   "cell_type": "markdown",
   "metadata": {
    "id": "EZojizotG3B1"
   },
   "source": [
    "La desviación estándar es la raíz quadrada del producto entre el número de experimentos, la probabilidad de éxito y la probabilidad de fracaso.\n",
    "\n",
    "## $$\\sigma = \\sqrt{n \\times p \\times q}$$"
   ]
  },
  {
   "cell_type": "markdown",
   "metadata": {
    "id": "udqnjFnsG3B2"
   },
   "source": [
    "### Importando bibliotecas\n",
    "https://docs.scipy.org/doc/scipy/reference/generated/scipy.special.comb.html"
   ]
  },
  {
   "cell_type": "code",
   "execution_count": 124,
   "metadata": {
    "executionInfo": {
     "elapsed": 26,
     "status": "ok",
     "timestamp": 1751828764702,
     "user": {
      "displayName": "Elias Celis",
      "userId": "07132738901482165301"
     },
     "user_tz": 240
    },
    "id": "-U2sGssNG3B4"
   },
   "outputs": [],
   "source": [
    "from scipy.special import comb"
   ]
  },
  {
   "cell_type": "markdown",
   "metadata": {
    "id": "MxxuJNSwG3B7"
   },
   "source": [
    "### Combinaciones\n",
    "\n",
    "El número de combinaciones de $n$ objetos, tomando $k$ cada vez, es:\n",
    "\n",
    "## $$C_{k}^{n} = \\binom{n}{k} = \\frac{n!}{k!(n - k)!}$$\n",
    "\n",
    "Donde\n",
    "\n",
    "## $$n! = n\\times(n-1)\\times(n-2)\\times...\\times(2)\\times(1)$$\n",
    "## $$k! = k\\times(k-1)\\times(k-2)\\times...\\times(2)\\times(1)$$\n",
    "\n",
    "Por definición\n",
    "\n",
    "## $$0! = 1$$"
   ]
  },
  {
   "cell_type": "markdown",
   "metadata": {
    "id": "Udz87Pq3G3B8"
   },
   "source": [
    "## <font color='blue'>Ejemplo: Mega Sena</font>"
   ]
  },
  {
   "cell_type": "markdown",
   "metadata": {
    "id": "h1Mo9AxyG3B8"
   },
   "source": [
    "En una rueda de lotería Mega Sena tenemos un total de **60 números** para elegir, donde la apuesta mínima es de **seis números**. Usted que es curioso(a) decide calcular la probabilidad de ganar la Mega Sena con solo **un juego**. Para eso necesitamos saber cuántas **combinaciones de seis números se pueden formar con los 60 números disponibles**.\n",
    "\n",
    "### $$C_{6}^{60} = \\binom{60}{6} = \\frac{60!}{6!(60 - 6)!}$$"
   ]
  },
  {
   "cell_type": "code",
   "execution_count": 125,
   "metadata": {
    "colab": {
     "base_uri": "https://localhost:8080/"
    },
    "executionInfo": {
     "elapsed": 29,
     "status": "ok",
     "timestamp": 1751828764732,
     "user": {
      "displayName": "Elias Celis",
      "userId": "07132738901482165301"
     },
     "user_tz": 240
    },
    "id": "c2t7yHl7G3B9",
    "outputId": "1c060138-6147-427e-cf18-242eb3cd7a01"
   },
   "outputs": [
    {
     "data": {
      "text/plain": [
       "np.float64(50063860.0)"
      ]
     },
     "execution_count": 125,
     "metadata": {},
     "output_type": "execute_result"
    }
   ],
   "source": [
    "combinaciones = comb(60, 6)\n",
    "combinaciones"
   ]
  },
  {
   "cell_type": "code",
   "execution_count": 126,
   "metadata": {
    "colab": {
     "base_uri": "https://localhost:8080/"
    },
    "executionInfo": {
     "elapsed": 6,
     "status": "ok",
     "timestamp": 1751828764736,
     "user": {
      "displayName": "Elias Celis",
      "userId": "07132738901482165301"
     },
     "user_tz": 240
    },
    "id": "zFtNq57ic9bD",
    "outputId": "13e3c134-554c-4ac6-f9fe-e3bb3f9b6cbd"
   },
   "outputs": [
    {
     "data": {
      "text/plain": [
       "np.float64(1.997448858318156e-08)"
      ]
     },
     "execution_count": 126,
     "metadata": {},
     "output_type": "execute_result"
    }
   ],
   "source": [
    "probablidad = 1 / combinaciones\n",
    "probablidad"
   ]
  },
  {
   "cell_type": "code",
   "execution_count": 127,
   "metadata": {
    "colab": {
     "base_uri": "https://localhost:8080/"
    },
    "executionInfo": {
     "elapsed": 44,
     "status": "ok",
     "timestamp": 1751828764780,
     "user": {
      "displayName": "Elias Celis",
      "userId": "07132738901482165301"
     },
     "user_tz": 240
    },
    "id": "-3YxhLEYdDCo",
    "outputId": "f5acda07-4e4c-42a5-89c6-ea527f32bac8"
   },
   "outputs": [
    {
     "name": "stdout",
     "output_type": "stream",
     "text": [
      "0.000000019974489\n"
     ]
    }
   ],
   "source": [
    "print(f'{probablidad:0.15f}')"
   ]
  },
  {
   "cell_type": "markdown",
   "metadata": {
    "id": "t1rA1yJpG3CF"
   },
   "source": [
    "## <font color='blue'>Ejemplo: Concurso para científico de datos</font>"
   ]
  },
  {
   "cell_type": "markdown",
   "metadata": {
    "id": "K0DPDD37G3CG"
   },
   "source": [
    "En una competencia para ocupar un puesto de científico de datos, tenemos un total de **10 preguntas** de opción múltiple con **3 alternativas posibles** en cada pregunta. **Cada pregunta tiene el mismo valor.** Suponga que un candidato decide aventurarse sin haber estudiado nada. Decide tomar la prueba con los ojos vendados y adivinar todas las respuestas. Suponiendo que la prueba **vale 10 puntos y la puntuación de corte es 5**, obtenga la probabilidad de que este candidato **acierte 5 preguntas** y también la probabilidad de que el candidato **pase a la siguiente etapa del proceso de selección**."
   ]
  },
  {
   "cell_type": "markdown",
   "metadata": {
    "id": "sf-NMPfxG3CH"
   },
   "source": [
    "\n",
    "\n",
    "```\n",
    "# Esto tiene formato de código\n",
    "```\n",
    "\n",
    "### ¿Cuál es la cantidad de pruebas ($n$)?"
   ]
  },
  {
   "cell_type": "code",
   "execution_count": 128,
   "metadata": {
    "colab": {
     "base_uri": "https://localhost:8080/"
    },
    "executionInfo": {
     "elapsed": 6,
     "status": "ok",
     "timestamp": 1751828764785,
     "user": {
      "displayName": "Elias Celis",
      "userId": "07132738901482165301"
     },
     "user_tz": 240
    },
    "id": "WmnjMTnYG3CH",
    "outputId": "7461e8f2-2ef2-4d53-e5db-f325dcb7767a"
   },
   "outputs": [
    {
     "data": {
      "text/plain": [
       "10"
      ]
     },
     "execution_count": 128,
     "metadata": {},
     "output_type": "execute_result"
    }
   ],
   "source": [
    "n = 10\n",
    "n"
   ]
  },
  {
   "cell_type": "markdown",
   "metadata": {
    "id": "1USf9Ro8G3CK"
   },
   "source": [
    "### ¿Las pruebas son independientes?"
   ]
  },
  {
   "cell_type": "markdown",
   "metadata": {
    "id": "82xf2XIkG3CM"
   },
   "source": [
    "Sí. La opción elegida en una pregunta no influye en la opción elegida en otra pregunta."
   ]
  },
  {
   "cell_type": "markdown",
   "metadata": {
    "id": "7jN0H5e7G3CN"
   },
   "source": [
    "### ¿Sólo dos resultados son posibles en cada prueba?"
   ]
  },
  {
   "cell_type": "markdown",
   "metadata": {
    "id": "gGxcY7K8G3CO"
   },
   "source": [
    "Sí. El candidato tiene dos posibilidades, ACERTAR o FALLAR una pregunta."
   ]
  },
  {
   "cell_type": "markdown",
   "metadata": {
    "id": "MZw2LDQjG3CR"
   },
   "source": [
    "### ¿Cuál es la probabilidad de éxito ($p$)?"
   ]
  },
  {
   "cell_type": "code",
   "execution_count": 129,
   "metadata": {
    "colab": {
     "base_uri": "https://localhost:8080/"
    },
    "executionInfo": {
     "elapsed": 8,
     "status": "ok",
     "timestamp": 1751828764794,
     "user": {
      "displayName": "Elias Celis",
      "userId": "07132738901482165301"
     },
     "user_tz": 240
    },
    "id": "AazGDtt0G3CS",
    "outputId": "49e4ecee-4f55-4479-f72d-ed5a6ead052f"
   },
   "outputs": [
    {
     "data": {
      "text/plain": [
       "0.3333333333333333"
      ]
     },
     "execution_count": 129,
     "metadata": {},
     "output_type": "execute_result"
    }
   ],
   "source": [
    "numero_de_alternativas_por_pregunta = 3\n",
    "p = 1 / numero_de_alternativas_por_pregunta\n",
    "p"
   ]
  },
  {
   "cell_type": "markdown",
   "metadata": {
    "id": "KPCw41OlG3CX"
   },
   "source": [
    "### ¿Cuál es la probabilidad de fracaso ($q$)?"
   ]
  },
  {
   "cell_type": "code",
   "execution_count": 130,
   "metadata": {
    "colab": {
     "base_uri": "https://localhost:8080/"
    },
    "executionInfo": {
     "elapsed": 6,
     "status": "ok",
     "timestamp": 1751828764801,
     "user": {
      "displayName": "Elias Celis",
      "userId": "07132738901482165301"
     },
     "user_tz": 240
    },
    "id": "FRhmjCnpG3CZ",
    "outputId": "490b2e71-3f7e-4a34-f830-0f6b89c085e0"
   },
   "outputs": [
    {
     "data": {
      "text/plain": [
       "0.6666666666666667"
      ]
     },
     "execution_count": 130,
     "metadata": {},
     "output_type": "execute_result"
    }
   ],
   "source": [
    "q = 1 - p\n",
    "q"
   ]
  },
  {
   "cell_type": "markdown",
   "metadata": {
    "id": "W2htpmzaG3Ce"
   },
   "source": [
    "### ¿Cuál es el número total de eventos para tener éxito ($k$)?"
   ]
  },
  {
   "cell_type": "code",
   "execution_count": 131,
   "metadata": {
    "colab": {
     "base_uri": "https://localhost:8080/"
    },
    "executionInfo": {
     "elapsed": 4,
     "status": "ok",
     "timestamp": 1751828764838,
     "user": {
      "displayName": "Elias Celis",
      "userId": "07132738901482165301"
     },
     "user_tz": 240
    },
    "id": "MmHpiIIuG3Cj",
    "outputId": "481bbf14-4d9e-41de-cc68-26fda66f6a36"
   },
   "outputs": [
    {
     "data": {
      "text/plain": [
       "5"
      ]
     },
     "execution_count": 131,
     "metadata": {},
     "output_type": "execute_result"
    }
   ],
   "source": [
    "k = 5\n",
    "k"
   ]
  },
  {
   "cell_type": "markdown",
   "metadata": {
    "id": "r8TZ6DSuG3Cm"
   },
   "source": [
    "### Solución 1"
   ]
  },
  {
   "cell_type": "code",
   "execution_count": 132,
   "metadata": {
    "colab": {
     "base_uri": "https://localhost:8080/"
    },
    "executionInfo": {
     "elapsed": 8,
     "status": "ok",
     "timestamp": 1751828764847,
     "user": {
      "displayName": "Elias Celis",
      "userId": "07132738901482165301"
     },
     "user_tz": 240
    },
    "id": "tZBbMIzKG3Cn",
    "outputId": "a712ae76-d86d-4c8a-ccec-f65dc71845b9"
   },
   "outputs": [
    {
     "name": "stdout",
     "output_type": "stream",
     "text": [
      "0.13656455\n"
     ]
    }
   ],
   "source": [
    "probablidad = (comb(n, k) * (p ** k) * (q ** (n - k)))\n",
    "print(f'{probablidad:0.8f}')"
   ]
  },
  {
   "cell_type": "markdown",
   "metadata": {
    "id": "rDwUvW5UG3Cq"
   },
   "source": [
    "### Importando bibliotecas\n",
    "https://docs.scipy.org/doc/scipy/reference/generated/scipy.stats.binom.html"
   ]
  },
  {
   "cell_type": "code",
   "execution_count": 133,
   "metadata": {
    "executionInfo": {
     "elapsed": 23,
     "status": "ok",
     "timestamp": 1751828764871,
     "user": {
      "displayName": "Elias Celis",
      "userId": "07132738901482165301"
     },
     "user_tz": 240
    },
    "id": "rhlsI3iLG3Cr"
   },
   "outputs": [],
   "source": [
    "from scipy.stats import binom"
   ]
  },
  {
   "cell_type": "markdown",
   "metadata": {
    "id": "hvj2sYaSG3Ct"
   },
   "source": [
    "### Solución 2"
   ]
  },
  {
   "cell_type": "code",
   "execution_count": 134,
   "metadata": {
    "colab": {
     "base_uri": "https://localhost:8080/"
    },
    "executionInfo": {
     "elapsed": 32,
     "status": "ok",
     "timestamp": 1751828764880,
     "user": {
      "displayName": "Elias Celis",
      "userId": "07132738901482165301"
     },
     "user_tz": 240
    },
    "id": "OjS1xsz5G3Cu",
    "outputId": "f61e710b-5ce2-4b4e-82e5-176200ce8934"
   },
   "outputs": [
    {
     "name": "stdout",
     "output_type": "stream",
     "text": [
      "0.13656455\n"
     ]
    }
   ],
   "source": [
    "probabilidad = binom.pmf(k, n, p)\n",
    "print(f'{probabilidad:0.8f}')"
   ]
  },
  {
   "cell_type": "markdown",
   "metadata": {
    "id": "fT3vvRYGVeBG"
   },
   "source": [
    "### Obtenga la probabilidad de que el candidato apruebe"
   ]
  },
  {
   "cell_type": "markdown",
   "metadata": {
    "id": "SOiiR_XYVeBH"
   },
   "source": [
    "### $$P(acertar \\geq 5) = P(5) + P(6) + P(7) + P(8) + P(9) + P(10)$$"
   ]
  },
  {
   "cell_type": "code",
   "execution_count": 135,
   "metadata": {
    "colab": {
     "base_uri": "https://localhost:8080/"
    },
    "executionInfo": {
     "elapsed": 9,
     "status": "ok",
     "timestamp": 1751828764890,
     "user": {
      "displayName": "Elias Celis",
      "userId": "07132738901482165301"
     },
     "user_tz": 240
    },
    "id": "MbBQB9JkVeBH",
    "outputId": "c1009d17-dbc2-4231-cdfd-0a61c0b8a2e4"
   },
   "outputs": [
    {
     "data": {
      "text/plain": [
       "np.float64(0.21312808006909476)"
      ]
     },
     "execution_count": 135,
     "metadata": {},
     "output_type": "execute_result"
    }
   ],
   "source": [
    "# opción 1\n",
    "probablidad_de_5_aciertos = binom.pmf(5, n, p) + binom.pmf(6, n, p) + binom.pmf(7, n, p) + binom.pmf(8, n, p) + binom.pmf(9, n, p) + binom.pmf(10, n, p)\n",
    "probablidad_de_5_aciertos"
   ]
  },
  {
   "cell_type": "code",
   "execution_count": 136,
   "metadata": {
    "colab": {
     "base_uri": "https://localhost:8080/"
    },
    "executionInfo": {
     "elapsed": 5,
     "status": "ok",
     "timestamp": 1751828764891,
     "user": {
      "displayName": "Elias Celis",
      "userId": "07132738901482165301"
     },
     "user_tz": 240
    },
    "id": "JcCrf3dpVeBI",
    "outputId": "2f2ffe7b-2d38-4bfb-f901-add9f2a3685f"
   },
   "outputs": [
    {
     "data": {
      "text/plain": [
       "np.float64(0.21312808006909476)"
      ]
     },
     "execution_count": 136,
     "metadata": {},
     "output_type": "execute_result"
    }
   ],
   "source": [
    "# opción 2\n",
    "probablidad_de_5_aciertos = binom.pmf(range(5, 11), n, p).sum()\n",
    "probablidad_de_5_aciertos"
   ]
  },
  {
   "cell_type": "code",
   "execution_count": 137,
   "metadata": {
    "colab": {
     "base_uri": "https://localhost:8080/"
    },
    "executionInfo": {
     "elapsed": 4,
     "status": "ok",
     "timestamp": 1751828764894,
     "user": {
      "displayName": "Elias Celis",
      "userId": "07132738901482165301"
     },
     "user_tz": 240
    },
    "id": "iiZjUp8_VeBJ",
    "outputId": "a9b35a43-35d3-4b02-b877-d82ab6c7d2d3"
   },
   "outputs": [
    {
     "data": {
      "text/plain": [
       "np.float64(0.21312808006909476)"
      ]
     },
     "execution_count": 137,
     "metadata": {},
     "output_type": "execute_result"
    }
   ],
   "source": [
    "# opción 3\n",
    "probablidad_de_5_aciertos = binom.pmf([5, 6, 7, 8 ,9, 10], n, p).sum()\n",
    "probablidad_de_5_aciertos"
   ]
  },
  {
   "cell_type": "code",
   "execution_count": 138,
   "metadata": {
    "colab": {
     "base_uri": "https://localhost:8080/"
    },
    "executionInfo": {
     "elapsed": 10,
     "status": "ok",
     "timestamp": 1751828764930,
     "user": {
      "displayName": "Elias Celis",
      "userId": "07132738901482165301"
     },
     "user_tz": 240
    },
    "id": "r-hkg9l4VeBK",
    "outputId": "100eace7-05ec-45fc-d5a9-7424cf8895d3"
   },
   "outputs": [
    {
     "data": {
      "text/plain": [
       "np.float64(0.21312808006909523)"
      ]
     },
     "execution_count": 138,
     "metadata": {},
     "output_type": "execute_result"
    }
   ],
   "source": [
    "# opción 4\n",
    "probablidad_de_5_aciertos = 1 - binom.cdf(4, n, p)\n",
    "probablidad_de_5_aciertos"
   ]
  },
  {
   "cell_type": "code",
   "execution_count": 139,
   "metadata": {
    "colab": {
     "base_uri": "https://localhost:8080/"
    },
    "executionInfo": {
     "elapsed": 36,
     "status": "ok",
     "timestamp": 1751828764962,
     "user": {
      "displayName": "Elias Celis",
      "userId": "07132738901482165301"
     },
     "user_tz": 240
    },
    "id": "Vi0GLS5vdCIv",
    "outputId": "6599f29d-e79a-41cc-9ebe-314c73dabac2"
   },
   "outputs": [
    {
     "data": {
      "text/plain": [
       "np.float64(0.21312808006909525)"
      ]
     },
     "execution_count": 139,
     "metadata": {},
     "output_type": "execute_result"
    }
   ],
   "source": [
    "# opción 5\n",
    "probablidad_de_5_aciertos = binom.sf(4, n, p)\n",
    "probablidad_de_5_aciertos"
   ]
  },
  {
   "cell_type": "markdown",
   "metadata": {
    "id": "7hAZ4XkMG3Cx"
   },
   "source": [
    "## <font color='blue'>Ejemplo: Yincana</font>"
   ]
  },
  {
   "cell_type": "markdown",
   "metadata": {
    "id": "l42alRhOG3Cy"
   },
   "source": [
    "Una ciudad del interior realiza una yincana cada año para recaudar fondos para el hospital de la ciudad. En la última competencia se sabe que la **proporción de mujeres participantes fue del 60%**. **El número total de equipos, con 12 miembros, inscritos en la yincana de este año es 30**. Con la información anterior, responda: ¿Cuántos equipos deberían estar formados por **8 mujeres**?"
   ]
  },
  {
   "cell_type": "markdown",
   "metadata": {
    "id": "dqBGf6d7G3C0"
   },
   "source": [
    "### Solución"
   ]
  },
  {
   "cell_type": "code",
   "execution_count": 140,
   "metadata": {
    "executionInfo": {
     "elapsed": 1,
     "status": "ok",
     "timestamp": 1751828764964,
     "user": {
      "displayName": "Elias Celis",
      "userId": "07132738901482165301"
     },
     "user_tz": 240
    },
    "id": "Xw9b6ch3G3C1"
   },
   "outputs": [],
   "source": [
    "p = 0.6"
   ]
  },
  {
   "cell_type": "code",
   "execution_count": 141,
   "metadata": {
    "executionInfo": {
     "elapsed": 0,
     "status": "ok",
     "timestamp": 1751828764965,
     "user": {
      "displayName": "Elias Celis",
      "userId": "07132738901482165301"
     },
     "user_tz": 240
    },
    "id": "R3-RaxP5G3C3"
   },
   "outputs": [],
   "source": [
    "n = 12"
   ]
  },
  {
   "cell_type": "code",
   "execution_count": 142,
   "metadata": {
    "executionInfo": {
     "elapsed": 0,
     "status": "ok",
     "timestamp": 1751828764966,
     "user": {
      "displayName": "Elias Celis",
      "userId": "07132738901482165301"
     },
     "user_tz": 240
    },
    "id": "otBHHyD0G3C6"
   },
   "outputs": [],
   "source": [
    "k = 8"
   ]
  },
  {
   "cell_type": "code",
   "execution_count": 143,
   "metadata": {
    "colab": {
     "base_uri": "https://localhost:8080/"
    },
    "executionInfo": {
     "elapsed": 4,
     "status": "ok",
     "timestamp": 1751828764971,
     "user": {
      "displayName": "Elias Celis",
      "userId": "07132738901482165301"
     },
     "user_tz": 240
    },
    "id": "ZAoBvbQqG3C9",
    "outputId": "cee7337c-3301-4a22-d527-94d1c3527371"
   },
   "outputs": [
    {
     "name": "stdout",
     "output_type": "stream",
     "text": [
      "21.28%\n"
     ]
    }
   ],
   "source": [
    "probabilidad = binom.pmf(k, n, p)\n",
    "print(f'{probabilidad:.2%}')"
   ]
  },
  {
   "cell_type": "code",
   "execution_count": 144,
   "metadata": {
    "colab": {
     "base_uri": "https://localhost:8080/"
    },
    "executionInfo": {
     "elapsed": 4,
     "status": "ok",
     "timestamp": 1751828764976,
     "user": {
      "displayName": "Elias Celis",
      "userId": "07132738901482165301"
     },
     "user_tz": 240
    },
    "id": "Tg53uGL4G3DA",
    "outputId": "04a2da95-5d0d-4195-99a7-9b773b6041d1"
   },
   "outputs": [
    {
     "data": {
      "text/plain": [
       "np.float64(6.0)"
      ]
     },
     "execution_count": 144,
     "metadata": {},
     "output_type": "execute_result"
    }
   ],
   "source": [
    "equipos = 30 * probabilidad\n",
    "equipos.round(0)"
   ]
  },
  {
   "cell_type": "code",
   "execution_count": 144,
   "metadata": {
    "executionInfo": {
     "elapsed": 0,
     "status": "ok",
     "timestamp": 1751828764977,
     "user": {
      "displayName": "Elias Celis",
      "userId": "07132738901482165301"
     },
     "user_tz": 240
    },
    "id": "1y6xH0gAl-M2"
   },
   "outputs": [],
   "source": []
  },
  {
   "cell_type": "markdown",
   "metadata": {
    "id": "49TiCQRvG3DC"
   },
   "source": [
    "---\n",
    "---"
   ]
  },
  {
   "cell_type": "markdown",
   "metadata": {
    "id": "X6bYonAZG3DE"
   },
   "source": [
    "## <font color=red>Problema</font>\n",
    "***"
   ]
  },
  {
   "cell_type": "markdown",
   "metadata": {
    "id": "Ccx-Bc9oG3DH"
   },
   "source": [
    "Un restaurante recibe un promedio de **20 pedidos por hora**. ¿Cuál es la probabilidad de que, en un momento determinado al azar, el restaurante reciba **15 pedidos**?"
   ]
  },
  {
   "cell_type": "markdown",
   "metadata": {
    "id": "k-uV7bgsmand"
   },
   "source": [
    "## <font color=green>2.2 Distribución Poisson</font>\n",
    "***"
   ]
  },
  {
   "cell_type": "markdown",
   "metadata": {
    "id": "H0jPtJICG3DM"
   },
   "source": [
    "Se utiliza para describir el número de ocurrencias en un tiempo o espacio específico. Los eventos se caracterizan por la posibilidad de contar los éxitos, pero no poder contar los fracasos.\n",
    "\n",
    "Como ejemplos de procesos donde podemos aplicar la distribución de Poisson tenemos la determinación del número de clientes que ingresan a una tienda en un momento determinado, el número de autos que llegan a un Auto-servicio de una cafetería a la hora del almuerzo, la determinación del número de accidentes registrados en un tramo de carretera, etc."
   ]
  },
  {
   "cell_type": "markdown",
   "metadata": {
    "id": "O_XqwANJG3DN"
   },
   "source": [
    "## $$P(k) = \\frac{e^{-\\mu}(\\mu)^k}{k!}$$\n",
    "\n",
    "Donde:\n",
    "\n",
    "$e$ = constante cuyo valor aproximado es 2.718281828459045\n",
    "\n",
    "$\\mu$ = representa el número promedio de ocurrencias en un intervalo de tiempo o espacio dado\n",
    "\n",
    "$k$ = número de éxitos en el intervalo deseado"
   ]
  },
  {
   "cell_type": "markdown",
   "metadata": {
    "id": "FqquU8wOG3DO"
   },
   "source": [
    "### Experimento Poisson"
   ]
  },
  {
   "cell_type": "markdown",
   "metadata": {
    "id": "ir2odEW3G3DO"
   },
   "source": [
    "1. La probabilidad de que ocurra es la misma en todo el intervalo observado.\n",
    "\n",
    "2. El número de ocurrencias en un intervalo dado es independiente del número de ocurrencias en otros intervalos.\n",
    "\n",
    "3. La probabilidad de que ocurra es la misma en intervalos de igual longitud."
   ]
  },
  {
   "cell_type": "markdown",
   "metadata": {
    "id": "2INlWMa0G3DP"
   },
   "source": [
    "### Media de la distribución Poisson"
   ]
  },
  {
   "cell_type": "markdown",
   "metadata": {
    "id": "xywTsniCG3DP"
   },
   "source": [
    "## $$\\mu$$"
   ]
  },
  {
   "cell_type": "markdown",
   "metadata": {
    "id": "7-Lh-LpfG3DQ"
   },
   "source": [
    "### Desviación estándar de la distribución Poisson"
   ]
  },
  {
   "cell_type": "markdown",
   "metadata": {
    "id": "61uStWUsG3DQ"
   },
   "source": [
    "## $$\\sigma = \\sqrt{\\mu}$$"
   ]
  },
  {
   "cell_type": "markdown",
   "metadata": {
    "id": "vniBmzIMG3DR"
   },
   "source": [
    "### Importando bibliotecas\n",
    "\n",
    "http://www.numpy.org/"
   ]
  },
  {
   "cell_type": "code",
   "execution_count": 145,
   "metadata": {
    "executionInfo": {
     "elapsed": 34,
     "status": "ok",
     "timestamp": 1751828765012,
     "user": {
      "displayName": "Elias Celis",
      "userId": "07132738901482165301"
     },
     "user_tz": 240
    },
    "id": "w23fjVT-G3DS"
   },
   "outputs": [],
   "source": [
    "import numpy as np"
   ]
  },
  {
   "cell_type": "code",
   "execution_count": 146,
   "metadata": {
    "colab": {
     "base_uri": "https://localhost:8080/"
    },
    "executionInfo": {
     "elapsed": 10,
     "status": "ok",
     "timestamp": 1751828765013,
     "user": {
      "displayName": "Elias Celis",
      "userId": "07132738901482165301"
     },
     "user_tz": 240
    },
    "id": "rdNqMuFNG3DU",
    "outputId": "de1550ac-d75e-417b-e134-f8e30f8efa5b"
   },
   "outputs": [
    {
     "data": {
      "text/plain": [
       "2.718281828459045"
      ]
     },
     "execution_count": 146,
     "metadata": {},
     "output_type": "execute_result"
    }
   ],
   "source": [
    "np.e"
   ]
  },
  {
   "cell_type": "markdown",
   "metadata": {
    "id": "RKQWuVgMG3DW"
   },
   "source": [
    "## <font color='blue'>Ejemplo: Delivery</font>"
   ]
  },
  {
   "cell_type": "markdown",
   "metadata": {
    "id": "ZKc__49bG3DX"
   },
   "source": [
    "Un restaurante recibe un promedio de **20 pedidos por hora**. ¿Cuál es la probabilidad de que, en un momento determinado al azar, el restaurante reciba **15 pedidos**?"
   ]
  },
  {
   "cell_type": "markdown",
   "metadata": {
    "id": "W-MJ4XBkG3DX"
   },
   "source": [
    "### ¿Cuál es el número promedio de ocurrencias por hora ($\\mu$)?"
   ]
  },
  {
   "cell_type": "code",
   "execution_count": 147,
   "metadata": {
    "executionInfo": {
     "elapsed": 0,
     "status": "ok",
     "timestamp": 1751828765014,
     "user": {
      "displayName": "Elias Celis",
      "userId": "07132738901482165301"
     },
     "user_tz": 240
    },
    "id": "2fVfJxdSG3DY"
   },
   "outputs": [],
   "source": [
    "ocurrencias_por_hora = 20\n",
    "u = ocurrencias_por_hora"
   ]
  },
  {
   "cell_type": "markdown",
   "metadata": {
    "id": "3SagRtPvG3Da"
   },
   "source": [
    "### ¿Qué número de ocurrencias queremos obtener en el período ($k$)?"
   ]
  },
  {
   "cell_type": "code",
   "execution_count": 148,
   "metadata": {
    "executionInfo": {
     "elapsed": 25,
     "status": "ok",
     "timestamp": 1751828765040,
     "user": {
      "displayName": "Elias Celis",
      "userId": "07132738901482165301"
     },
     "user_tz": 240
    },
    "id": "yXB3QhWyG3Da"
   },
   "outputs": [],
   "source": [
    "ocurrencias_a_obtener = 15\n",
    "k = ocurrencias_a_obtener"
   ]
  },
  {
   "cell_type": "markdown",
   "metadata": {
    "id": "3wFh3lFCG3De"
   },
   "source": [
    "### Solución 1"
   ]
  },
  {
   "cell_type": "code",
   "execution_count": 149,
   "metadata": {
    "colab": {
     "base_uri": "https://localhost:8080/"
    },
    "executionInfo": {
     "elapsed": 9,
     "status": "ok",
     "timestamp": 1751828765049,
     "user": {
      "displayName": "Elias Celis",
      "userId": "07132738901482165301"
     },
     "user_tz": 240
    },
    "id": "IEGO31WCG3Df",
    "outputId": "9bc0e758-ff67-46ba-ec35-3c9d3a4faccb"
   },
   "outputs": [
    {
     "data": {
      "text/plain": [
       "0.0516488535317584"
      ]
     },
     "execution_count": 149,
     "metadata": {},
     "output_type": "execute_result"
    }
   ],
   "source": [
    "import math\n",
    "probabilidad = ((np.e ** (-u)) * (u ** k)) / (math.factorial(k))\n",
    "probabilidad"
   ]
  },
  {
   "cell_type": "markdown",
   "metadata": {
    "id": "GoIBvH62G3Di"
   },
   "source": [
    "### Importando bibliotecas"
   ]
  },
  {
   "cell_type": "markdown",
   "metadata": {
    "id": "iFSF_9Y4G3Dj"
   },
   "source": [
    "https://docs.scipy.org/doc/scipy/reference/generated/scipy.stats.poisson.html"
   ]
  },
  {
   "cell_type": "markdown",
   "metadata": {
    "id": "yAyXh0euG3Dk"
   },
   "source": [
    "### Solución 2"
   ]
  },
  {
   "cell_type": "code",
   "execution_count": 150,
   "metadata": {
    "executionInfo": {
     "elapsed": 7,
     "status": "ok",
     "timestamp": 1751828765056,
     "user": {
      "displayName": "Elias Celis",
      "userId": "07132738901482165301"
     },
     "user_tz": 240
    },
    "id": "sNw4oCAyG3Dk"
   },
   "outputs": [],
   "source": [
    "from scipy.stats import poisson"
   ]
  },
  {
   "cell_type": "code",
   "execution_count": 151,
   "metadata": {
    "colab": {
     "base_uri": "https://localhost:8080/"
    },
    "executionInfo": {
     "elapsed": 6,
     "status": "ok",
     "timestamp": 1751828765056,
     "user": {
      "displayName": "Elias Celis",
      "userId": "07132738901482165301"
     },
     "user_tz": 240
    },
    "id": "wDSo6gG4sSHt",
    "outputId": "5561d6e1-d638-490e-80f3-5b61cf021672"
   },
   "outputs": [
    {
     "name": "stdout",
     "output_type": "stream",
     "text": [
      "5.16%\n"
     ]
    }
   ],
   "source": [
    "probabilidad = poisson.pmf(k, u)\n",
    "print(f'{probabilidad:.2%}')"
   ]
  },
  {
   "cell_type": "markdown",
   "metadata": {
    "id": "g3ng8tQFG3Do"
   },
   "source": [
    "---\n",
    "---"
   ]
  },
  {
   "cell_type": "markdown",
   "metadata": {
    "id": "tVPUT9kEG3Dp"
   },
   "source": [
    "## <font color=red>Problema</font>\n",
    "***"
   ]
  },
  {
   "cell_type": "markdown",
   "metadata": {
    "id": "j7zVDN0kG3Dq"
   },
   "source": [
    "En un estudio sobre la altura de los residentes de una ciudad, se encontró que el conjunto de datos sigue una **distribución aproximadamente normal**, con **media 1.70** y **desviación estándar de 0.1**. Con esta información, obtenga el siguiente conjunto de probabilidades:\n",
    "\n",
    "> **A.** probabilidad de que una persona, seleccionada al azar, sea menor de 1.80 metros.\n",
    "\n",
    "> **B.** probabilidad de que una persona, seleccionada al azar, tenga entre 1.60 metros y 1.80 metros.\n",
    "\n",
    "> **C.** probabilidad de que una persona, seleccionada al azar, tenga más de 1.90 metros.\n"
   ]
  },
  {
   "cell_type": "markdown",
   "metadata": {
    "id": "AowcVaKqpvf2"
   },
   "source": [
    "## <font color=green>2.3 Distribución Normal</font>\n",
    "***"
   ]
  },
  {
   "cell_type": "markdown",
   "metadata": {
    "id": "YOBD21hGG3Dw"
   },
   "source": [
    "La distribución normal es una de las más utilizadas en estadística. Es una distribución continua, donde la distribución de frecuencias de una variable cuantitativa tiene forma de campana y es simétrica en relación con su media."
   ]
  },
  {
   "cell_type": "markdown",
   "metadata": {
    "id": "kbPy2ORqqKJA"
   },
   "source": [
    "<img src='https://caelum-online-public.s3.amazonaws.com/ESP-1764-estadistica-con-python-probabilidad-y-muestreo/img001.png' width='500px'>"
   ]
  },
  {
   "cell_type": "markdown",
   "metadata": {
    "id": "J3eKESHTG3Dx"
   },
   "source": [
    "### Características importantes"
   ]
  },
  {
   "cell_type": "markdown",
   "metadata": {
    "id": "z8GxAzWZG3Dx"
   },
   "source": [
    "1. Es simétrica alrededor de la media;\n",
    "\n",
    "2. El área bajo la curva corresponde a la proporción 1 o 100%;\n",
    "\n",
    "3. Las medidas de tendencia central (media, mediana y moda) tienen el mismo valor;\n",
    "\n",
    "4. Los extremos de la curva tienden al infinito en ambas direcciones y, teóricamente, nunca tocan el eje $x$;\n",
    "\n",
    "5. La desviación estándar define la planitud y el ancho de la distribución. Las curvas más anchas y planas tienen valores de desviación estándar más altos;\n",
    "\n",
    "6. La distribución se define por su media y desviación estándar;\n",
    "\n",
    "7. La probabilidad siempre será igual al área bajo la curva, delimitada por los límites superior e inferior."
   ]
  },
  {
   "cell_type": "markdown",
   "metadata": {
    "id": "hoWLlOiwG3Dy"
   },
   "source": [
    "## $$f(x) = \\frac{1}{\\sqrt{2\\pi\\sigma}}e^{-\\frac{1}{2}\\left(\\frac{x-\\mu}{\\sigma}\\right)^2}$$\n",
    "\n",
    "Donde:\n",
    "\n",
    "$x$ = variable normal\n",
    "\n",
    "$\\sigma$ = desviación estándar\n",
    "\n",
    "$\\mu$ = media"
   ]
  },
  {
   "cell_type": "markdown",
   "metadata": {
    "id": "8n03Z0VlG3Dz"
   },
   "source": [
    "La probabilidad se obtiene del área bajo la curva, delimitada por los límites superior e inferior especificados. Se puede ver un ejemplo en la figura siguiente."
   ]
  },
  {
   "cell_type": "markdown",
   "metadata": {
    "id": "X1UgmFoxG3Dz"
   },
   "source": [
    "<img src='https://caelum-online-public.s3.amazonaws.com/ESP-1764-estadistica-con-python-probabilidad-y-muestreo/img002.png' width='500px'>\n"
   ]
  },
  {
   "cell_type": "markdown",
   "metadata": {
    "id": "rtKiApHLG3D0"
   },
   "source": [
    "Para obtener el área anterior, simplemente calcule la integral de la función para los intervalos determinados. Según la siguiente ecuación:"
   ]
  },
  {
   "cell_type": "markdown",
   "metadata": {
    "id": "0r_9CbSOG3D0"
   },
   "source": [
    "## $$P(L_i<x<L_s) = \\int_{L_i}^{L_s}\\frac{1}{\\sqrt{2\\pi\\sigma}}e^{-\\frac{1}{2}\\left(\\frac{x-\\mu}{\\sigma}\\right)^2}$$\n",
    "\n",
    "Donde:\n",
    "\n",
    "$x$ = variable normal\n",
    "\n",
    "$\\sigma$ = desviación estándar\n",
    "\n",
    "$\\mu$ = media\n",
    "\n",
    "$L_i$ = límite inferior\n",
    "\n",
    "$L_s$ = límite superior"
   ]
  },
  {
   "cell_type": "markdown",
   "metadata": {
    "id": "qP-Ye-leG3D1"
   },
   "source": [
    "### Tablas estandarizadas"
   ]
  },
  {
   "cell_type": "markdown",
   "metadata": {
    "id": "Z1VnLK11G3D1"
   },
   "source": [
    "Se crearon tablas estandarizadas para facilitar la obtención de los valores de las áreas bajo la curva normal y eliminar la necesidad de resolver integrales definidas.\n",
    "\n",
    "Para ver los valores en una tabla estandarizada, simplemente transforme nuestra variable en una variable estandarizada $Z$.\n",
    "\n",
    "Esta variable $Z$ representa la desviación en las desviaciones estándar de un valor de la variable original en relación con la media."
   ]
  },
  {
   "cell_type": "markdown",
   "metadata": {
    "id": "HJcdgdsgG3D2"
   },
   "source": [
    "## $$Z = \\frac{x-\\mu}{\\sigma}$$\n",
    "\n",
    "Donde:\n",
    "\n",
    "$x$ = variable normal con media $\\mu$ y desviación estándar $\\sigma$\n",
    "\n",
    "$\\sigma$ = desviación estándar\n",
    "\n",
    "$\\mu$ = media"
   ]
  },
  {
   "cell_type": "markdown",
   "metadata": {
    "id": "hUrVKJH3G3D2"
   },
   "source": [
    "### Construyendo la tabla normal estandarizada\n",
    "https://docs.scipy.org/doc/scipy/reference/generated/scipy.stats.norm.html"
   ]
  },
  {
   "cell_type": "code",
   "execution_count": 152,
   "metadata": {
    "colab": {
     "base_uri": "https://localhost:8080/",
     "height": 1000
    },
    "executionInfo": {
     "elapsed": 115,
     "status": "ok",
     "timestamp": 1751828765170,
     "user": {
      "displayName": "Elias Celis",
      "userId": "07132738901482165301"
     },
     "user_tz": 240
    },
    "id": "7SudUNlcG3D4",
    "outputId": "f30157db-4569-4abb-9b6d-6a05dc42c730"
   },
   "outputs": [
    {
     "data": {
      "application/vnd.google.colaboratory.intrinsic+json": {
       "summary": "{\n  \"name\": \"tabla_normal_estandarizada\",\n  \"rows\": 40,\n  \"fields\": [\n    {\n      \"column\": \"0.00\",\n      \"properties\": {\n        \"dtype\": \"string\",\n        \"num_unique_values\": 38,\n        \"samples\": [\n          \"0.9995\",\n          \"0.9999\",\n          \"0.6554\"\n        ],\n        \"semantic_type\": \"\",\n        \"description\": \"\"\n      }\n    },\n    {\n      \"column\": \"0.01\",\n      \"properties\": {\n        \"dtype\": \"string\",\n        \"num_unique_values\": 38,\n        \"samples\": [\n          \"0.9995\",\n          \"0.9999\",\n          \"0.6591\"\n        ],\n        \"semantic_type\": \"\",\n        \"description\": \"\"\n      }\n    },\n    {\n      \"column\": \"0.02\",\n      \"properties\": {\n        \"dtype\": \"string\",\n        \"num_unique_values\": 38,\n        \"samples\": [\n          \"0.9995\",\n          \"0.9999\",\n          \"0.6628\"\n        ],\n        \"semantic_type\": \"\",\n        \"description\": \"\"\n      }\n    },\n    {\n      \"column\": \"0.03\",\n      \"properties\": {\n        \"dtype\": \"string\",\n        \"num_unique_values\": 38,\n        \"samples\": [\n          \"0.9996\",\n          \"0.9999\",\n          \"0.6664\"\n        ],\n        \"semantic_type\": \"\",\n        \"description\": \"\"\n      }\n    },\n    {\n      \"column\": \"0.04\",\n      \"properties\": {\n        \"dtype\": \"string\",\n        \"num_unique_values\": 38,\n        \"samples\": [\n          \"0.9996\",\n          \"0.9999\",\n          \"0.6700\"\n        ],\n        \"semantic_type\": \"\",\n        \"description\": \"\"\n      }\n    },\n    {\n      \"column\": \"0.05\",\n      \"properties\": {\n        \"dtype\": \"string\",\n        \"num_unique_values\": 38,\n        \"samples\": [\n          \"0.9996\",\n          \"0.9999\",\n          \"0.6736\"\n        ],\n        \"semantic_type\": \"\",\n        \"description\": \"\"\n      }\n    },\n    {\n      \"column\": \"0.06\",\n      \"properties\": {\n        \"dtype\": \"string\",\n        \"num_unique_values\": 38,\n        \"samples\": [\n          \"0.9996\",\n          \"0.9999\",\n          \"0.6772\"\n        ],\n        \"semantic_type\": \"\",\n        \"description\": \"\"\n      }\n    },\n    {\n      \"column\": \"0.07\",\n      \"properties\": {\n        \"dtype\": \"string\",\n        \"num_unique_values\": 38,\n        \"samples\": [\n          \"0.9996\",\n          \"0.9999\",\n          \"0.6808\"\n        ],\n        \"semantic_type\": \"\",\n        \"description\": \"\"\n      }\n    },\n    {\n      \"column\": \"0.08\",\n      \"properties\": {\n        \"dtype\": \"string\",\n        \"num_unique_values\": 38,\n        \"samples\": [\n          \"0.9996\",\n          \"0.9999\",\n          \"0.6844\"\n        ],\n        \"semantic_type\": \"\",\n        \"description\": \"\"\n      }\n    },\n    {\n      \"column\": \"0.09\",\n      \"properties\": {\n        \"dtype\": \"string\",\n        \"num_unique_values\": 37,\n        \"samples\": [\n          \"0.9633\",\n          \"0.9177\",\n          \"0.6879\"\n        ],\n        \"semantic_type\": \"\",\n        \"description\": \"\"\n      }\n    }\n  ]\n}",
       "type": "dataframe",
       "variable_name": "tabla_normal_estandarizada"
      },
      "text/html": [
       "\n",
       "  <div id=\"df-a68df16b-d253-4da7-a685-063f2469c7cb\" class=\"colab-df-container\">\n",
       "    <div>\n",
       "<style scoped>\n",
       "    .dataframe tbody tr th:only-of-type {\n",
       "        vertical-align: middle;\n",
       "    }\n",
       "\n",
       "    .dataframe tbody tr th {\n",
       "        vertical-align: top;\n",
       "    }\n",
       "\n",
       "    .dataframe thead th {\n",
       "        text-align: right;\n",
       "    }\n",
       "</style>\n",
       "<table border=\"1\" class=\"dataframe\">\n",
       "  <thead>\n",
       "    <tr style=\"text-align: right;\">\n",
       "      <th>Z</th>\n",
       "      <th>0.00</th>\n",
       "      <th>0.01</th>\n",
       "      <th>0.02</th>\n",
       "      <th>0.03</th>\n",
       "      <th>0.04</th>\n",
       "      <th>0.05</th>\n",
       "      <th>0.06</th>\n",
       "      <th>0.07</th>\n",
       "      <th>0.08</th>\n",
       "      <th>0.09</th>\n",
       "    </tr>\n",
       "  </thead>\n",
       "  <tbody>\n",
       "    <tr>\n",
       "      <th>0.00</th>\n",
       "      <td>0.5000</td>\n",
       "      <td>0.5040</td>\n",
       "      <td>0.5080</td>\n",
       "      <td>0.5120</td>\n",
       "      <td>0.5160</td>\n",
       "      <td>0.5199</td>\n",
       "      <td>0.5239</td>\n",
       "      <td>0.5279</td>\n",
       "      <td>0.5319</td>\n",
       "      <td>0.5359</td>\n",
       "    </tr>\n",
       "    <tr>\n",
       "      <th>0.10</th>\n",
       "      <td>0.5398</td>\n",
       "      <td>0.5438</td>\n",
       "      <td>0.5478</td>\n",
       "      <td>0.5517</td>\n",
       "      <td>0.5557</td>\n",
       "      <td>0.5596</td>\n",
       "      <td>0.5636</td>\n",
       "      <td>0.5675</td>\n",
       "      <td>0.5714</td>\n",
       "      <td>0.5753</td>\n",
       "    </tr>\n",
       "    <tr>\n",
       "      <th>0.20</th>\n",
       "      <td>0.5793</td>\n",
       "      <td>0.5832</td>\n",
       "      <td>0.5871</td>\n",
       "      <td>0.5910</td>\n",
       "      <td>0.5948</td>\n",
       "      <td>0.5987</td>\n",
       "      <td>0.6026</td>\n",
       "      <td>0.6064</td>\n",
       "      <td>0.6103</td>\n",
       "      <td>0.6141</td>\n",
       "    </tr>\n",
       "    <tr>\n",
       "      <th>0.30</th>\n",
       "      <td>0.6179</td>\n",
       "      <td>0.6217</td>\n",
       "      <td>0.6255</td>\n",
       "      <td>0.6293</td>\n",
       "      <td>0.6331</td>\n",
       "      <td>0.6368</td>\n",
       "      <td>0.6406</td>\n",
       "      <td>0.6443</td>\n",
       "      <td>0.6480</td>\n",
       "      <td>0.6517</td>\n",
       "    </tr>\n",
       "    <tr>\n",
       "      <th>0.40</th>\n",
       "      <td>0.6554</td>\n",
       "      <td>0.6591</td>\n",
       "      <td>0.6628</td>\n",
       "      <td>0.6664</td>\n",
       "      <td>0.6700</td>\n",
       "      <td>0.6736</td>\n",
       "      <td>0.6772</td>\n",
       "      <td>0.6808</td>\n",
       "      <td>0.6844</td>\n",
       "      <td>0.6879</td>\n",
       "    </tr>\n",
       "    <tr>\n",
       "      <th>0.50</th>\n",
       "      <td>0.6915</td>\n",
       "      <td>0.6950</td>\n",
       "      <td>0.6985</td>\n",
       "      <td>0.7019</td>\n",
       "      <td>0.7054</td>\n",
       "      <td>0.7088</td>\n",
       "      <td>0.7123</td>\n",
       "      <td>0.7157</td>\n",
       "      <td>0.7190</td>\n",
       "      <td>0.7224</td>\n",
       "    </tr>\n",
       "    <tr>\n",
       "      <th>0.60</th>\n",
       "      <td>0.7257</td>\n",
       "      <td>0.7291</td>\n",
       "      <td>0.7324</td>\n",
       "      <td>0.7357</td>\n",
       "      <td>0.7389</td>\n",
       "      <td>0.7422</td>\n",
       "      <td>0.7454</td>\n",
       "      <td>0.7486</td>\n",
       "      <td>0.7517</td>\n",
       "      <td>0.7549</td>\n",
       "    </tr>\n",
       "    <tr>\n",
       "      <th>0.70</th>\n",
       "      <td>0.7580</td>\n",
       "      <td>0.7611</td>\n",
       "      <td>0.7642</td>\n",
       "      <td>0.7673</td>\n",
       "      <td>0.7704</td>\n",
       "      <td>0.7734</td>\n",
       "      <td>0.7764</td>\n",
       "      <td>0.7794</td>\n",
       "      <td>0.7823</td>\n",
       "      <td>0.7852</td>\n",
       "    </tr>\n",
       "    <tr>\n",
       "      <th>0.80</th>\n",
       "      <td>0.7881</td>\n",
       "      <td>0.7910</td>\n",
       "      <td>0.7939</td>\n",
       "      <td>0.7967</td>\n",
       "      <td>0.7995</td>\n",
       "      <td>0.8023</td>\n",
       "      <td>0.8051</td>\n",
       "      <td>0.8078</td>\n",
       "      <td>0.8106</td>\n",
       "      <td>0.8133</td>\n",
       "    </tr>\n",
       "    <tr>\n",
       "      <th>0.90</th>\n",
       "      <td>0.8159</td>\n",
       "      <td>0.8186</td>\n",
       "      <td>0.8212</td>\n",
       "      <td>0.8238</td>\n",
       "      <td>0.8264</td>\n",
       "      <td>0.8289</td>\n",
       "      <td>0.8315</td>\n",
       "      <td>0.8340</td>\n",
       "      <td>0.8365</td>\n",
       "      <td>0.8389</td>\n",
       "    </tr>\n",
       "    <tr>\n",
       "      <th>1.00</th>\n",
       "      <td>0.8413</td>\n",
       "      <td>0.8438</td>\n",
       "      <td>0.8461</td>\n",
       "      <td>0.8485</td>\n",
       "      <td>0.8508</td>\n",
       "      <td>0.8531</td>\n",
       "      <td>0.8554</td>\n",
       "      <td>0.8577</td>\n",
       "      <td>0.8599</td>\n",
       "      <td>0.8621</td>\n",
       "    </tr>\n",
       "    <tr>\n",
       "      <th>1.10</th>\n",
       "      <td>0.8643</td>\n",
       "      <td>0.8665</td>\n",
       "      <td>0.8686</td>\n",
       "      <td>0.8708</td>\n",
       "      <td>0.8729</td>\n",
       "      <td>0.8749</td>\n",
       "      <td>0.8770</td>\n",
       "      <td>0.8790</td>\n",
       "      <td>0.8810</td>\n",
       "      <td>0.8830</td>\n",
       "    </tr>\n",
       "    <tr>\n",
       "      <th>1.20</th>\n",
       "      <td>0.8849</td>\n",
       "      <td>0.8869</td>\n",
       "      <td>0.8888</td>\n",
       "      <td>0.8907</td>\n",
       "      <td>0.8925</td>\n",
       "      <td>0.8944</td>\n",
       "      <td>0.8962</td>\n",
       "      <td>0.8980</td>\n",
       "      <td>0.8997</td>\n",
       "      <td>0.9015</td>\n",
       "    </tr>\n",
       "    <tr>\n",
       "      <th>1.30</th>\n",
       "      <td>0.9032</td>\n",
       "      <td>0.9049</td>\n",
       "      <td>0.9066</td>\n",
       "      <td>0.9082</td>\n",
       "      <td>0.9099</td>\n",
       "      <td>0.9115</td>\n",
       "      <td>0.9131</td>\n",
       "      <td>0.9147</td>\n",
       "      <td>0.9162</td>\n",
       "      <td>0.9177</td>\n",
       "    </tr>\n",
       "    <tr>\n",
       "      <th>1.40</th>\n",
       "      <td>0.9192</td>\n",
       "      <td>0.9207</td>\n",
       "      <td>0.9222</td>\n",
       "      <td>0.9236</td>\n",
       "      <td>0.9251</td>\n",
       "      <td>0.9265</td>\n",
       "      <td>0.9279</td>\n",
       "      <td>0.9292</td>\n",
       "      <td>0.9306</td>\n",
       "      <td>0.9319</td>\n",
       "    </tr>\n",
       "    <tr>\n",
       "      <th>1.50</th>\n",
       "      <td>0.9332</td>\n",
       "      <td>0.9345</td>\n",
       "      <td>0.9357</td>\n",
       "      <td>0.9370</td>\n",
       "      <td>0.9382</td>\n",
       "      <td>0.9394</td>\n",
       "      <td>0.9406</td>\n",
       "      <td>0.9418</td>\n",
       "      <td>0.9429</td>\n",
       "      <td>0.9441</td>\n",
       "    </tr>\n",
       "    <tr>\n",
       "      <th>1.60</th>\n",
       "      <td>0.9452</td>\n",
       "      <td>0.9463</td>\n",
       "      <td>0.9474</td>\n",
       "      <td>0.9484</td>\n",
       "      <td>0.9495</td>\n",
       "      <td>0.9505</td>\n",
       "      <td>0.9515</td>\n",
       "      <td>0.9525</td>\n",
       "      <td>0.9535</td>\n",
       "      <td>0.9545</td>\n",
       "    </tr>\n",
       "    <tr>\n",
       "      <th>1.70</th>\n",
       "      <td>0.9554</td>\n",
       "      <td>0.9564</td>\n",
       "      <td>0.9573</td>\n",
       "      <td>0.9582</td>\n",
       "      <td>0.9591</td>\n",
       "      <td>0.9599</td>\n",
       "      <td>0.9608</td>\n",
       "      <td>0.9616</td>\n",
       "      <td>0.9625</td>\n",
       "      <td>0.9633</td>\n",
       "    </tr>\n",
       "    <tr>\n",
       "      <th>1.80</th>\n",
       "      <td>0.9641</td>\n",
       "      <td>0.9649</td>\n",
       "      <td>0.9656</td>\n",
       "      <td>0.9664</td>\n",
       "      <td>0.9671</td>\n",
       "      <td>0.9678</td>\n",
       "      <td>0.9686</td>\n",
       "      <td>0.9693</td>\n",
       "      <td>0.9699</td>\n",
       "      <td>0.9706</td>\n",
       "    </tr>\n",
       "    <tr>\n",
       "      <th>1.90</th>\n",
       "      <td>0.9713</td>\n",
       "      <td>0.9719</td>\n",
       "      <td>0.9726</td>\n",
       "      <td>0.9732</td>\n",
       "      <td>0.9738</td>\n",
       "      <td>0.9744</td>\n",
       "      <td>0.9750</td>\n",
       "      <td>0.9756</td>\n",
       "      <td>0.9761</td>\n",
       "      <td>0.9767</td>\n",
       "    </tr>\n",
       "    <tr>\n",
       "      <th>2.00</th>\n",
       "      <td>0.9772</td>\n",
       "      <td>0.9778</td>\n",
       "      <td>0.9783</td>\n",
       "      <td>0.9788</td>\n",
       "      <td>0.9793</td>\n",
       "      <td>0.9798</td>\n",
       "      <td>0.9803</td>\n",
       "      <td>0.9808</td>\n",
       "      <td>0.9812</td>\n",
       "      <td>0.9817</td>\n",
       "    </tr>\n",
       "    <tr>\n",
       "      <th>2.10</th>\n",
       "      <td>0.9821</td>\n",
       "      <td>0.9826</td>\n",
       "      <td>0.9830</td>\n",
       "      <td>0.9834</td>\n",
       "      <td>0.9838</td>\n",
       "      <td>0.9842</td>\n",
       "      <td>0.9846</td>\n",
       "      <td>0.9850</td>\n",
       "      <td>0.9854</td>\n",
       "      <td>0.9857</td>\n",
       "    </tr>\n",
       "    <tr>\n",
       "      <th>2.20</th>\n",
       "      <td>0.9861</td>\n",
       "      <td>0.9864</td>\n",
       "      <td>0.9868</td>\n",
       "      <td>0.9871</td>\n",
       "      <td>0.9875</td>\n",
       "      <td>0.9878</td>\n",
       "      <td>0.9881</td>\n",
       "      <td>0.9884</td>\n",
       "      <td>0.9887</td>\n",
       "      <td>0.9890</td>\n",
       "    </tr>\n",
       "    <tr>\n",
       "      <th>2.30</th>\n",
       "      <td>0.9893</td>\n",
       "      <td>0.9896</td>\n",
       "      <td>0.9898</td>\n",
       "      <td>0.9901</td>\n",
       "      <td>0.9904</td>\n",
       "      <td>0.9906</td>\n",
       "      <td>0.9909</td>\n",
       "      <td>0.9911</td>\n",
       "      <td>0.9913</td>\n",
       "      <td>0.9916</td>\n",
       "    </tr>\n",
       "    <tr>\n",
       "      <th>2.40</th>\n",
       "      <td>0.9918</td>\n",
       "      <td>0.9920</td>\n",
       "      <td>0.9922</td>\n",
       "      <td>0.9925</td>\n",
       "      <td>0.9927</td>\n",
       "      <td>0.9929</td>\n",
       "      <td>0.9931</td>\n",
       "      <td>0.9932</td>\n",
       "      <td>0.9934</td>\n",
       "      <td>0.9936</td>\n",
       "    </tr>\n",
       "    <tr>\n",
       "      <th>2.50</th>\n",
       "      <td>0.9938</td>\n",
       "      <td>0.9940</td>\n",
       "      <td>0.9941</td>\n",
       "      <td>0.9943</td>\n",
       "      <td>0.9945</td>\n",
       "      <td>0.9946</td>\n",
       "      <td>0.9948</td>\n",
       "      <td>0.9949</td>\n",
       "      <td>0.9951</td>\n",
       "      <td>0.9952</td>\n",
       "    </tr>\n",
       "    <tr>\n",
       "      <th>2.60</th>\n",
       "      <td>0.9953</td>\n",
       "      <td>0.9955</td>\n",
       "      <td>0.9956</td>\n",
       "      <td>0.9957</td>\n",
       "      <td>0.9959</td>\n",
       "      <td>0.9960</td>\n",
       "      <td>0.9961</td>\n",
       "      <td>0.9962</td>\n",
       "      <td>0.9963</td>\n",
       "      <td>0.9964</td>\n",
       "    </tr>\n",
       "    <tr>\n",
       "      <th>2.70</th>\n",
       "      <td>0.9965</td>\n",
       "      <td>0.9966</td>\n",
       "      <td>0.9967</td>\n",
       "      <td>0.9968</td>\n",
       "      <td>0.9969</td>\n",
       "      <td>0.9970</td>\n",
       "      <td>0.9971</td>\n",
       "      <td>0.9972</td>\n",
       "      <td>0.9973</td>\n",
       "      <td>0.9974</td>\n",
       "    </tr>\n",
       "    <tr>\n",
       "      <th>2.80</th>\n",
       "      <td>0.9974</td>\n",
       "      <td>0.9975</td>\n",
       "      <td>0.9976</td>\n",
       "      <td>0.9977</td>\n",
       "      <td>0.9977</td>\n",
       "      <td>0.9978</td>\n",
       "      <td>0.9979</td>\n",
       "      <td>0.9979</td>\n",
       "      <td>0.9980</td>\n",
       "      <td>0.9981</td>\n",
       "    </tr>\n",
       "    <tr>\n",
       "      <th>2.90</th>\n",
       "      <td>0.9981</td>\n",
       "      <td>0.9982</td>\n",
       "      <td>0.9982</td>\n",
       "      <td>0.9983</td>\n",
       "      <td>0.9984</td>\n",
       "      <td>0.9984</td>\n",
       "      <td>0.9985</td>\n",
       "      <td>0.9985</td>\n",
       "      <td>0.9986</td>\n",
       "      <td>0.9986</td>\n",
       "    </tr>\n",
       "    <tr>\n",
       "      <th>3.00</th>\n",
       "      <td>0.9987</td>\n",
       "      <td>0.9987</td>\n",
       "      <td>0.9987</td>\n",
       "      <td>0.9988</td>\n",
       "      <td>0.9988</td>\n",
       "      <td>0.9989</td>\n",
       "      <td>0.9989</td>\n",
       "      <td>0.9989</td>\n",
       "      <td>0.9990</td>\n",
       "      <td>0.9990</td>\n",
       "    </tr>\n",
       "    <tr>\n",
       "      <th>3.10</th>\n",
       "      <td>0.9990</td>\n",
       "      <td>0.9991</td>\n",
       "      <td>0.9991</td>\n",
       "      <td>0.9991</td>\n",
       "      <td>0.9992</td>\n",
       "      <td>0.9992</td>\n",
       "      <td>0.9992</td>\n",
       "      <td>0.9992</td>\n",
       "      <td>0.9993</td>\n",
       "      <td>0.9993</td>\n",
       "    </tr>\n",
       "    <tr>\n",
       "      <th>3.20</th>\n",
       "      <td>0.9993</td>\n",
       "      <td>0.9993</td>\n",
       "      <td>0.9994</td>\n",
       "      <td>0.9994</td>\n",
       "      <td>0.9994</td>\n",
       "      <td>0.9994</td>\n",
       "      <td>0.9994</td>\n",
       "      <td>0.9995</td>\n",
       "      <td>0.9995</td>\n",
       "      <td>0.9995</td>\n",
       "    </tr>\n",
       "    <tr>\n",
       "      <th>3.30</th>\n",
       "      <td>0.9995</td>\n",
       "      <td>0.9995</td>\n",
       "      <td>0.9995</td>\n",
       "      <td>0.9996</td>\n",
       "      <td>0.9996</td>\n",
       "      <td>0.9996</td>\n",
       "      <td>0.9996</td>\n",
       "      <td>0.9996</td>\n",
       "      <td>0.9996</td>\n",
       "      <td>0.9997</td>\n",
       "    </tr>\n",
       "    <tr>\n",
       "      <th>3.40</th>\n",
       "      <td>0.9997</td>\n",
       "      <td>0.9997</td>\n",
       "      <td>0.9997</td>\n",
       "      <td>0.9997</td>\n",
       "      <td>0.9997</td>\n",
       "      <td>0.9997</td>\n",
       "      <td>0.9997</td>\n",
       "      <td>0.9997</td>\n",
       "      <td>0.9997</td>\n",
       "      <td>0.9998</td>\n",
       "    </tr>\n",
       "    <tr>\n",
       "      <th>3.50</th>\n",
       "      <td>0.9998</td>\n",
       "      <td>0.9998</td>\n",
       "      <td>0.9998</td>\n",
       "      <td>0.9998</td>\n",
       "      <td>0.9998</td>\n",
       "      <td>0.9998</td>\n",
       "      <td>0.9998</td>\n",
       "      <td>0.9998</td>\n",
       "      <td>0.9998</td>\n",
       "      <td>0.9998</td>\n",
       "    </tr>\n",
       "    <tr>\n",
       "      <th>3.60</th>\n",
       "      <td>0.9998</td>\n",
       "      <td>0.9998</td>\n",
       "      <td>0.9999</td>\n",
       "      <td>0.9999</td>\n",
       "      <td>0.9999</td>\n",
       "      <td>0.9999</td>\n",
       "      <td>0.9999</td>\n",
       "      <td>0.9999</td>\n",
       "      <td>0.9999</td>\n",
       "      <td>0.9999</td>\n",
       "    </tr>\n",
       "    <tr>\n",
       "      <th>3.70</th>\n",
       "      <td>0.9999</td>\n",
       "      <td>0.9999</td>\n",
       "      <td>0.9999</td>\n",
       "      <td>0.9999</td>\n",
       "      <td>0.9999</td>\n",
       "      <td>0.9999</td>\n",
       "      <td>0.9999</td>\n",
       "      <td>0.9999</td>\n",
       "      <td>0.9999</td>\n",
       "      <td>0.9999</td>\n",
       "    </tr>\n",
       "    <tr>\n",
       "      <th>3.80</th>\n",
       "      <td>0.9999</td>\n",
       "      <td>0.9999</td>\n",
       "      <td>0.9999</td>\n",
       "      <td>0.9999</td>\n",
       "      <td>0.9999</td>\n",
       "      <td>0.9999</td>\n",
       "      <td>0.9999</td>\n",
       "      <td>0.9999</td>\n",
       "      <td>0.9999</td>\n",
       "      <td>0.9999</td>\n",
       "    </tr>\n",
       "    <tr>\n",
       "      <th>3.90</th>\n",
       "      <td>1.0000</td>\n",
       "      <td>1.0000</td>\n",
       "      <td>1.0000</td>\n",
       "      <td>1.0000</td>\n",
       "      <td>1.0000</td>\n",
       "      <td>1.0000</td>\n",
       "      <td>1.0000</td>\n",
       "      <td>1.0000</td>\n",
       "      <td>1.0000</td>\n",
       "      <td>1.0000</td>\n",
       "    </tr>\n",
       "  </tbody>\n",
       "</table>\n",
       "</div>\n",
       "    <div class=\"colab-df-buttons\">\n",
       "\n",
       "  <div class=\"colab-df-container\">\n",
       "    <button class=\"colab-df-convert\" onclick=\"convertToInteractive('df-a68df16b-d253-4da7-a685-063f2469c7cb')\"\n",
       "            title=\"Convert this dataframe to an interactive table.\"\n",
       "            style=\"display:none;\">\n",
       "\n",
       "  <svg xmlns=\"http://www.w3.org/2000/svg\" height=\"24px\" viewBox=\"0 -960 960 960\">\n",
       "    <path d=\"M120-120v-720h720v720H120Zm60-500h600v-160H180v160Zm220 220h160v-160H400v160Zm0 220h160v-160H400v160ZM180-400h160v-160H180v160Zm440 0h160v-160H620v160ZM180-180h160v-160H180v160Zm440 0h160v-160H620v160Z\"/>\n",
       "  </svg>\n",
       "    </button>\n",
       "\n",
       "  <style>\n",
       "    .colab-df-container {\n",
       "      display:flex;\n",
       "      gap: 12px;\n",
       "    }\n",
       "\n",
       "    .colab-df-convert {\n",
       "      background-color: #E8F0FE;\n",
       "      border: none;\n",
       "      border-radius: 50%;\n",
       "      cursor: pointer;\n",
       "      display: none;\n",
       "      fill: #1967D2;\n",
       "      height: 32px;\n",
       "      padding: 0 0 0 0;\n",
       "      width: 32px;\n",
       "    }\n",
       "\n",
       "    .colab-df-convert:hover {\n",
       "      background-color: #E2EBFA;\n",
       "      box-shadow: 0px 1px 2px rgba(60, 64, 67, 0.3), 0px 1px 3px 1px rgba(60, 64, 67, 0.15);\n",
       "      fill: #174EA6;\n",
       "    }\n",
       "\n",
       "    .colab-df-buttons div {\n",
       "      margin-bottom: 4px;\n",
       "    }\n",
       "\n",
       "    [theme=dark] .colab-df-convert {\n",
       "      background-color: #3B4455;\n",
       "      fill: #D2E3FC;\n",
       "    }\n",
       "\n",
       "    [theme=dark] .colab-df-convert:hover {\n",
       "      background-color: #434B5C;\n",
       "      box-shadow: 0px 1px 3px 1px rgba(0, 0, 0, 0.15);\n",
       "      filter: drop-shadow(0px 1px 2px rgba(0, 0, 0, 0.3));\n",
       "      fill: #FFFFFF;\n",
       "    }\n",
       "  </style>\n",
       "\n",
       "    <script>\n",
       "      const buttonEl =\n",
       "        document.querySelector('#df-a68df16b-d253-4da7-a685-063f2469c7cb button.colab-df-convert');\n",
       "      buttonEl.style.display =\n",
       "        google.colab.kernel.accessAllowed ? 'block' : 'none';\n",
       "\n",
       "      async function convertToInteractive(key) {\n",
       "        const element = document.querySelector('#df-a68df16b-d253-4da7-a685-063f2469c7cb');\n",
       "        const dataTable =\n",
       "          await google.colab.kernel.invokeFunction('convertToInteractive',\n",
       "                                                    [key], {});\n",
       "        if (!dataTable) return;\n",
       "\n",
       "        const docLinkHtml = 'Like what you see? Visit the ' +\n",
       "          '<a target=\"_blank\" href=https://colab.research.google.com/notebooks/data_table.ipynb>data table notebook</a>'\n",
       "          + ' to learn more about interactive tables.';\n",
       "        element.innerHTML = '';\n",
       "        dataTable['output_type'] = 'display_data';\n",
       "        await google.colab.output.renderOutput(dataTable, element);\n",
       "        const docLink = document.createElement('div');\n",
       "        docLink.innerHTML = docLinkHtml;\n",
       "        element.appendChild(docLink);\n",
       "      }\n",
       "    </script>\n",
       "  </div>\n",
       "\n",
       "\n",
       "    <div id=\"df-be37d73a-4671-4d69-a1d8-8d8c063d71dc\">\n",
       "      <button class=\"colab-df-quickchart\" onclick=\"quickchart('df-be37d73a-4671-4d69-a1d8-8d8c063d71dc')\"\n",
       "                title=\"Suggest charts\"\n",
       "                style=\"display:none;\">\n",
       "\n",
       "<svg xmlns=\"http://www.w3.org/2000/svg\" height=\"24px\"viewBox=\"0 0 24 24\"\n",
       "     width=\"24px\">\n",
       "    <g>\n",
       "        <path d=\"M19 3H5c-1.1 0-2 .9-2 2v14c0 1.1.9 2 2 2h14c1.1 0 2-.9 2-2V5c0-1.1-.9-2-2-2zM9 17H7v-7h2v7zm4 0h-2V7h2v10zm4 0h-2v-4h2v4z\"/>\n",
       "    </g>\n",
       "</svg>\n",
       "      </button>\n",
       "\n",
       "<style>\n",
       "  .colab-df-quickchart {\n",
       "      --bg-color: #E8F0FE;\n",
       "      --fill-color: #1967D2;\n",
       "      --hover-bg-color: #E2EBFA;\n",
       "      --hover-fill-color: #174EA6;\n",
       "      --disabled-fill-color: #AAA;\n",
       "      --disabled-bg-color: #DDD;\n",
       "  }\n",
       "\n",
       "  [theme=dark] .colab-df-quickchart {\n",
       "      --bg-color: #3B4455;\n",
       "      --fill-color: #D2E3FC;\n",
       "      --hover-bg-color: #434B5C;\n",
       "      --hover-fill-color: #FFFFFF;\n",
       "      --disabled-bg-color: #3B4455;\n",
       "      --disabled-fill-color: #666;\n",
       "  }\n",
       "\n",
       "  .colab-df-quickchart {\n",
       "    background-color: var(--bg-color);\n",
       "    border: none;\n",
       "    border-radius: 50%;\n",
       "    cursor: pointer;\n",
       "    display: none;\n",
       "    fill: var(--fill-color);\n",
       "    height: 32px;\n",
       "    padding: 0;\n",
       "    width: 32px;\n",
       "  }\n",
       "\n",
       "  .colab-df-quickchart:hover {\n",
       "    background-color: var(--hover-bg-color);\n",
       "    box-shadow: 0 1px 2px rgba(60, 64, 67, 0.3), 0 1px 3px 1px rgba(60, 64, 67, 0.15);\n",
       "    fill: var(--button-hover-fill-color);\n",
       "  }\n",
       "\n",
       "  .colab-df-quickchart-complete:disabled,\n",
       "  .colab-df-quickchart-complete:disabled:hover {\n",
       "    background-color: var(--disabled-bg-color);\n",
       "    fill: var(--disabled-fill-color);\n",
       "    box-shadow: none;\n",
       "  }\n",
       "\n",
       "  .colab-df-spinner {\n",
       "    border: 2px solid var(--fill-color);\n",
       "    border-color: transparent;\n",
       "    border-bottom-color: var(--fill-color);\n",
       "    animation:\n",
       "      spin 1s steps(1) infinite;\n",
       "  }\n",
       "\n",
       "  @keyframes spin {\n",
       "    0% {\n",
       "      border-color: transparent;\n",
       "      border-bottom-color: var(--fill-color);\n",
       "      border-left-color: var(--fill-color);\n",
       "    }\n",
       "    20% {\n",
       "      border-color: transparent;\n",
       "      border-left-color: var(--fill-color);\n",
       "      border-top-color: var(--fill-color);\n",
       "    }\n",
       "    30% {\n",
       "      border-color: transparent;\n",
       "      border-left-color: var(--fill-color);\n",
       "      border-top-color: var(--fill-color);\n",
       "      border-right-color: var(--fill-color);\n",
       "    }\n",
       "    40% {\n",
       "      border-color: transparent;\n",
       "      border-right-color: var(--fill-color);\n",
       "      border-top-color: var(--fill-color);\n",
       "    }\n",
       "    60% {\n",
       "      border-color: transparent;\n",
       "      border-right-color: var(--fill-color);\n",
       "    }\n",
       "    80% {\n",
       "      border-color: transparent;\n",
       "      border-right-color: var(--fill-color);\n",
       "      border-bottom-color: var(--fill-color);\n",
       "    }\n",
       "    90% {\n",
       "      border-color: transparent;\n",
       "      border-bottom-color: var(--fill-color);\n",
       "    }\n",
       "  }\n",
       "</style>\n",
       "\n",
       "      <script>\n",
       "        async function quickchart(key) {\n",
       "          const quickchartButtonEl =\n",
       "            document.querySelector('#' + key + ' button');\n",
       "          quickchartButtonEl.disabled = true;  // To prevent multiple clicks.\n",
       "          quickchartButtonEl.classList.add('colab-df-spinner');\n",
       "          try {\n",
       "            const charts = await google.colab.kernel.invokeFunction(\n",
       "                'suggestCharts', [key], {});\n",
       "          } catch (error) {\n",
       "            console.error('Error during call to suggestCharts:', error);\n",
       "          }\n",
       "          quickchartButtonEl.classList.remove('colab-df-spinner');\n",
       "          quickchartButtonEl.classList.add('colab-df-quickchart-complete');\n",
       "        }\n",
       "        (() => {\n",
       "          let quickchartButtonEl =\n",
       "            document.querySelector('#df-be37d73a-4671-4d69-a1d8-8d8c063d71dc button');\n",
       "          quickchartButtonEl.style.display =\n",
       "            google.colab.kernel.accessAllowed ? 'block' : 'none';\n",
       "        })();\n",
       "      </script>\n",
       "    </div>\n",
       "\n",
       "  <div id=\"id_7b8bb769-f382-4cb0-b9fd-011cfd642dc5\">\n",
       "    <style>\n",
       "      .colab-df-generate {\n",
       "        background-color: #E8F0FE;\n",
       "        border: none;\n",
       "        border-radius: 50%;\n",
       "        cursor: pointer;\n",
       "        display: none;\n",
       "        fill: #1967D2;\n",
       "        height: 32px;\n",
       "        padding: 0 0 0 0;\n",
       "        width: 32px;\n",
       "      }\n",
       "\n",
       "      .colab-df-generate:hover {\n",
       "        background-color: #E2EBFA;\n",
       "        box-shadow: 0px 1px 2px rgba(60, 64, 67, 0.3), 0px 1px 3px 1px rgba(60, 64, 67, 0.15);\n",
       "        fill: #174EA6;\n",
       "      }\n",
       "\n",
       "      [theme=dark] .colab-df-generate {\n",
       "        background-color: #3B4455;\n",
       "        fill: #D2E3FC;\n",
       "      }\n",
       "\n",
       "      [theme=dark] .colab-df-generate:hover {\n",
       "        background-color: #434B5C;\n",
       "        box-shadow: 0px 1px 3px 1px rgba(0, 0, 0, 0.15);\n",
       "        filter: drop-shadow(0px 1px 2px rgba(0, 0, 0, 0.3));\n",
       "        fill: #FFFFFF;\n",
       "      }\n",
       "    </style>\n",
       "    <button class=\"colab-df-generate\" onclick=\"generateWithVariable('tabla_normal_estandarizada')\"\n",
       "            title=\"Generate code using this dataframe.\"\n",
       "            style=\"display:none;\">\n",
       "\n",
       "  <svg xmlns=\"http://www.w3.org/2000/svg\" height=\"24px\"viewBox=\"0 0 24 24\"\n",
       "       width=\"24px\">\n",
       "    <path d=\"M7,19H8.4L18.45,9,17,7.55,7,17.6ZM5,21V16.75L18.45,3.32a2,2,0,0,1,2.83,0l1.4,1.43a1.91,1.91,0,0,1,.58,1.4,1.91,1.91,0,0,1-.58,1.4L9.25,21ZM18.45,9,17,7.55Zm-12,3A5.31,5.31,0,0,0,4.9,8.1,5.31,5.31,0,0,0,1,6.5,5.31,5.31,0,0,0,4.9,4.9,5.31,5.31,0,0,0,6.5,1,5.31,5.31,0,0,0,8.1,4.9,5.31,5.31,0,0,0,12,6.5,5.46,5.46,0,0,0,6.5,12Z\"/>\n",
       "  </svg>\n",
       "    </button>\n",
       "    <script>\n",
       "      (() => {\n",
       "      const buttonEl =\n",
       "        document.querySelector('#id_7b8bb769-f382-4cb0-b9fd-011cfd642dc5 button.colab-df-generate');\n",
       "      buttonEl.style.display =\n",
       "        google.colab.kernel.accessAllowed ? 'block' : 'none';\n",
       "\n",
       "      buttonEl.onclick = () => {\n",
       "        google.colab.notebook.generateWithVariable('tabla_normal_estandarizada');\n",
       "      }\n",
       "      })();\n",
       "    </script>\n",
       "  </div>\n",
       "\n",
       "    </div>\n",
       "  </div>\n"
      ],
      "text/plain": [
       "Z       0.00    0.01    0.02    0.03    0.04    0.05    0.06    0.07    0.08  \\\n",
       "0.00  0.5000  0.5040  0.5080  0.5120  0.5160  0.5199  0.5239  0.5279  0.5319   \n",
       "0.10  0.5398  0.5438  0.5478  0.5517  0.5557  0.5596  0.5636  0.5675  0.5714   \n",
       "0.20  0.5793  0.5832  0.5871  0.5910  0.5948  0.5987  0.6026  0.6064  0.6103   \n",
       "0.30  0.6179  0.6217  0.6255  0.6293  0.6331  0.6368  0.6406  0.6443  0.6480   \n",
       "0.40  0.6554  0.6591  0.6628  0.6664  0.6700  0.6736  0.6772  0.6808  0.6844   \n",
       "0.50  0.6915  0.6950  0.6985  0.7019  0.7054  0.7088  0.7123  0.7157  0.7190   \n",
       "0.60  0.7257  0.7291  0.7324  0.7357  0.7389  0.7422  0.7454  0.7486  0.7517   \n",
       "0.70  0.7580  0.7611  0.7642  0.7673  0.7704  0.7734  0.7764  0.7794  0.7823   \n",
       "0.80  0.7881  0.7910  0.7939  0.7967  0.7995  0.8023  0.8051  0.8078  0.8106   \n",
       "0.90  0.8159  0.8186  0.8212  0.8238  0.8264  0.8289  0.8315  0.8340  0.8365   \n",
       "1.00  0.8413  0.8438  0.8461  0.8485  0.8508  0.8531  0.8554  0.8577  0.8599   \n",
       "1.10  0.8643  0.8665  0.8686  0.8708  0.8729  0.8749  0.8770  0.8790  0.8810   \n",
       "1.20  0.8849  0.8869  0.8888  0.8907  0.8925  0.8944  0.8962  0.8980  0.8997   \n",
       "1.30  0.9032  0.9049  0.9066  0.9082  0.9099  0.9115  0.9131  0.9147  0.9162   \n",
       "1.40  0.9192  0.9207  0.9222  0.9236  0.9251  0.9265  0.9279  0.9292  0.9306   \n",
       "1.50  0.9332  0.9345  0.9357  0.9370  0.9382  0.9394  0.9406  0.9418  0.9429   \n",
       "1.60  0.9452  0.9463  0.9474  0.9484  0.9495  0.9505  0.9515  0.9525  0.9535   \n",
       "1.70  0.9554  0.9564  0.9573  0.9582  0.9591  0.9599  0.9608  0.9616  0.9625   \n",
       "1.80  0.9641  0.9649  0.9656  0.9664  0.9671  0.9678  0.9686  0.9693  0.9699   \n",
       "1.90  0.9713  0.9719  0.9726  0.9732  0.9738  0.9744  0.9750  0.9756  0.9761   \n",
       "2.00  0.9772  0.9778  0.9783  0.9788  0.9793  0.9798  0.9803  0.9808  0.9812   \n",
       "2.10  0.9821  0.9826  0.9830  0.9834  0.9838  0.9842  0.9846  0.9850  0.9854   \n",
       "2.20  0.9861  0.9864  0.9868  0.9871  0.9875  0.9878  0.9881  0.9884  0.9887   \n",
       "2.30  0.9893  0.9896  0.9898  0.9901  0.9904  0.9906  0.9909  0.9911  0.9913   \n",
       "2.40  0.9918  0.9920  0.9922  0.9925  0.9927  0.9929  0.9931  0.9932  0.9934   \n",
       "2.50  0.9938  0.9940  0.9941  0.9943  0.9945  0.9946  0.9948  0.9949  0.9951   \n",
       "2.60  0.9953  0.9955  0.9956  0.9957  0.9959  0.9960  0.9961  0.9962  0.9963   \n",
       "2.70  0.9965  0.9966  0.9967  0.9968  0.9969  0.9970  0.9971  0.9972  0.9973   \n",
       "2.80  0.9974  0.9975  0.9976  0.9977  0.9977  0.9978  0.9979  0.9979  0.9980   \n",
       "2.90  0.9981  0.9982  0.9982  0.9983  0.9984  0.9984  0.9985  0.9985  0.9986   \n",
       "3.00  0.9987  0.9987  0.9987  0.9988  0.9988  0.9989  0.9989  0.9989  0.9990   \n",
       "3.10  0.9990  0.9991  0.9991  0.9991  0.9992  0.9992  0.9992  0.9992  0.9993   \n",
       "3.20  0.9993  0.9993  0.9994  0.9994  0.9994  0.9994  0.9994  0.9995  0.9995   \n",
       "3.30  0.9995  0.9995  0.9995  0.9996  0.9996  0.9996  0.9996  0.9996  0.9996   \n",
       "3.40  0.9997  0.9997  0.9997  0.9997  0.9997  0.9997  0.9997  0.9997  0.9997   \n",
       "3.50  0.9998  0.9998  0.9998  0.9998  0.9998  0.9998  0.9998  0.9998  0.9998   \n",
       "3.60  0.9998  0.9998  0.9999  0.9999  0.9999  0.9999  0.9999  0.9999  0.9999   \n",
       "3.70  0.9999  0.9999  0.9999  0.9999  0.9999  0.9999  0.9999  0.9999  0.9999   \n",
       "3.80  0.9999  0.9999  0.9999  0.9999  0.9999  0.9999  0.9999  0.9999  0.9999   \n",
       "3.90  1.0000  1.0000  1.0000  1.0000  1.0000  1.0000  1.0000  1.0000  1.0000   \n",
       "\n",
       "Z       0.09  \n",
       "0.00  0.5359  \n",
       "0.10  0.5753  \n",
       "0.20  0.6141  \n",
       "0.30  0.6517  \n",
       "0.40  0.6879  \n",
       "0.50  0.7224  \n",
       "0.60  0.7549  \n",
       "0.70  0.7852  \n",
       "0.80  0.8133  \n",
       "0.90  0.8389  \n",
       "1.00  0.8621  \n",
       "1.10  0.8830  \n",
       "1.20  0.9015  \n",
       "1.30  0.9177  \n",
       "1.40  0.9319  \n",
       "1.50  0.9441  \n",
       "1.60  0.9545  \n",
       "1.70  0.9633  \n",
       "1.80  0.9706  \n",
       "1.90  0.9767  \n",
       "2.00  0.9817  \n",
       "2.10  0.9857  \n",
       "2.20  0.9890  \n",
       "2.30  0.9916  \n",
       "2.40  0.9936  \n",
       "2.50  0.9952  \n",
       "2.60  0.9964  \n",
       "2.70  0.9974  \n",
       "2.80  0.9981  \n",
       "2.90  0.9986  \n",
       "3.00  0.9990  \n",
       "3.10  0.9993  \n",
       "3.20  0.9995  \n",
       "3.30  0.9997  \n",
       "3.40  0.9998  \n",
       "3.50  0.9998  \n",
       "3.60  0.9999  \n",
       "3.70  0.9999  \n",
       "3.80  0.9999  \n",
       "3.90  1.0000  "
      ]
     },
     "execution_count": 152,
     "metadata": {},
     "output_type": "execute_result"
    }
   ],
   "source": [
    "import pandas as pd\n",
    "import numpy as np\n",
    "from scipy.stats import norm\n",
    "\n",
    "tabla_normal_estandarizada = pd.DataFrame(\n",
    "    [],\n",
    "    index=[\"{0:0.2f}\".format(i / 100) for i in range(0, 400, 10)],\n",
    "    columns = [\"{0:0.2f}\".format(i / 100) for i in range(0, 10)])\n",
    "\n",
    "for index in tabla_normal_estandarizada.index:\n",
    "    for column in tabla_normal_estandarizada.columns:\n",
    "        Z = np.round(float(index) + float(column), 2)\n",
    "        tabla_normal_estandarizada.loc[index, column] = \"{0:0.4f}\".format(norm.cdf(Z))\n",
    "\n",
    "tabla_normal_estandarizada.rename_axis('Z', axis = 'columns', inplace = True)\n",
    "\n",
    "tabla_normal_estandarizada"
   ]
  },
  {
   "cell_type": "markdown",
   "metadata": {
    "id": "XHYeMaN3G3D9"
   },
   "source": [
    "<img src='https://caelum-online-public.s3.amazonaws.com/ESP-1764-estadistica-con-python-probabilidad-y-muestreo/img003.png' width='250px'>\n",
    "\n",
    "La tabla anterior proporciona el área bajo la curva entre $-\\infty$ y $Z$ desviaciones estándar por encima de la media. Recordando que dado que estos son valores estandarizados, tenemos $\\mu = 0$."
   ]
  },
  {
   "cell_type": "markdown",
   "metadata": {
    "id": "Bs-KyZAJG3D-"
   },
   "source": [
    "## <font color='blue'>Ejemplo: ¿Cuánto mides?</font>"
   ]
  },
  {
   "cell_type": "markdown",
   "metadata": {
    "id": "8PFIjXejG3EA"
   },
   "source": [
    "En un estudio sobre la altura de los residentes de una ciudad, se encontró que el conjunto de datos sigue una **distribución aproximadamente normal**, con **media 1.70** y **desviación estándar de 0.1**. Con esta información, obtenga el siguiente conjunto de probabilidades:\n",
    "\n",
    "> **A.** probabilidad de que una persona, seleccionada al azar, mida menos que 1.80 metros.\n",
    "\n",
    "> **B.** probabilidad de que una persona, seleccionada al azar, mida entre 1.60 metros y 1.80 metros.\n",
    "\n",
    "> **C.** probabilidad de que una persona, seleccionada al azar, mida más de 1.90 metros."
   ]
  },
  {
   "cell_type": "markdown",
   "metadata": {
    "id": "aHpZLwt1G3EC"
   },
   "source": [
    "### Problema A - Identificación del área bajo la curva"
   ]
  },
  {
   "cell_type": "markdown",
   "metadata": {
    "id": "V1eC7tydG3EF"
   },
   "source": [
    "<img style='float: left' src='https://caelum-online-public.s3.amazonaws.com/ESP-1764-estadistica-con-python-probabilidad-y-muestreo/img004.png' width='350px'>\n"
   ]
  },
  {
   "cell_type": "markdown",
   "metadata": {
    "id": "X61wEuRrG3EI"
   },
   "source": [
    "### Obtener la variable estandarizada $Z$"
   ]
  },
  {
   "cell_type": "code",
   "execution_count": 153,
   "metadata": {
    "executionInfo": {
     "elapsed": 1,
     "status": "ok",
     "timestamp": 1751828765177,
     "user": {
      "displayName": "Elias Celis",
      "userId": "07132738901482165301"
     },
     "user_tz": 240
    },
    "id": "gNSNIMvZG3EK"
   },
   "outputs": [],
   "source": [
    "media = 1.70"
   ]
  },
  {
   "cell_type": "code",
   "execution_count": 154,
   "metadata": {
    "executionInfo": {
     "elapsed": 0,
     "status": "ok",
     "timestamp": 1751828765178,
     "user": {
      "displayName": "Elias Celis",
      "userId": "07132738901482165301"
     },
     "user_tz": 240
    },
    "id": "E_f2lycRG3ES"
   },
   "outputs": [],
   "source": [
    "desviacion_estandar = 0.1"
   ]
  },
  {
   "cell_type": "code",
   "execution_count": 155,
   "metadata": {
    "colab": {
     "base_uri": "https://localhost:8080/"
    },
    "executionInfo": {
     "elapsed": 24,
     "status": "ok",
     "timestamp": 1751828765203,
     "user": {
      "displayName": "Elias Celis",
      "userId": "07132738901482165301"
     },
     "user_tz": 240
    },
    "id": "xnsCkUb6G3EX",
    "outputId": "f17a7d74-c993-4409-a291-74167e31dbf7"
   },
   "outputs": [
    {
     "data": {
      "text/plain": [
       "1.0000000000000009"
      ]
     },
     "execution_count": 155,
     "metadata": {},
     "output_type": "execute_result"
    }
   ],
   "source": [
    "z = (1.80 - media) / desviacion_estandar\n",
    "z"
   ]
  },
  {
   "cell_type": "markdown",
   "metadata": {
    "id": "oj9sgHbkG3Eb"
   },
   "source": [
    "### Solución 1 - Utilizando la tabla"
   ]
  },
  {
   "cell_type": "code",
   "execution_count": 156,
   "metadata": {
    "executionInfo": {
     "elapsed": 21,
     "status": "ok",
     "timestamp": 1751828765204,
     "user": {
      "displayName": "Elias Celis",
      "userId": "07132738901482165301"
     },
     "user_tz": 240
    },
    "id": "ReDTH3WgG3Ec"
   },
   "outputs": [],
   "source": [
    "probabilidad = 0.8413"
   ]
  },
  {
   "cell_type": "markdown",
   "metadata": {
    "id": "4ud0OnQOG3Eh"
   },
   "source": [
    "### Solución 2 - Utilizando Scipy"
   ]
  },
  {
   "cell_type": "code",
   "execution_count": 157,
   "metadata": {
    "colab": {
     "base_uri": "https://localhost:8080/"
    },
    "executionInfo": {
     "elapsed": 9,
     "status": "ok",
     "timestamp": 1751828765214,
     "user": {
      "displayName": "Elias Celis",
      "userId": "07132738901482165301"
     },
     "user_tz": 240
    },
    "id": "sx7riZVlG3Ei",
    "outputId": "bda1a207-4e07-4b6c-eec5-d1f7cebe85eb"
   },
   "outputs": [
    {
     "name": "stdout",
     "output_type": "stream",
     "text": [
      "84.13%\n"
     ]
    }
   ],
   "source": [
    "from scipy.stats import norm\n",
    "\n",
    "probabilidad = norm.cdf(z)\n",
    "print(f'{probabilidad:.2%}')"
   ]
  },
  {
   "cell_type": "markdown",
   "metadata": {
    "id": "ZsnMjGzJG3Ep"
   },
   "source": [
    "### Problema B - Identificación del área bajo la curva"
   ]
  },
  {
   "cell_type": "markdown",
   "metadata": {
    "id": "LN2HY-UCG3Ep"
   },
   "source": [
    "<img style='float: left' src='https://caelum-online-public.s3.amazonaws.com/ESP-1764-estadistica-con-python-probabilidad-y-muestreo/img005.png' width='350px'>"
   ]
  },
  {
   "cell_type": "markdown",
   "metadata": {
    "id": "FS6WNg88G3Eq"
   },
   "source": [
    "### Obtener la variable estandarizada $Z$"
   ]
  },
  {
   "cell_type": "code",
   "execution_count": 158,
   "metadata": {
    "executionInfo": {
     "elapsed": 1,
     "status": "ok",
     "timestamp": 1751828765216,
     "user": {
      "displayName": "Elias Celis",
      "userId": "07132738901482165301"
     },
     "user_tz": 240
    },
    "id": "mxPsPIOYG3Er"
   },
   "outputs": [],
   "source": [
    "media = 1.70"
   ]
  },
  {
   "cell_type": "code",
   "execution_count": 159,
   "metadata": {
    "colab": {
     "base_uri": "https://localhost:8080/"
    },
    "executionInfo": {
     "elapsed": 6,
     "status": "ok",
     "timestamp": 1751828765222,
     "user": {
      "displayName": "Elias Celis",
      "userId": "07132738901482165301"
     },
     "user_tz": 240
    },
    "id": "s0Vf0GXHG3Et",
    "outputId": "5e4eecb2-3c09-44fa-b768-d63e2f673bb5"
   },
   "outputs": [
    {
     "data": {
      "text/plain": [
       "0.0"
      ]
     },
     "execution_count": 159,
     "metadata": {},
     "output_type": "execute_result"
    }
   ],
   "source": [
    "z = (1.7 - media) / desviacion_estandar\n",
    "z"
   ]
  },
  {
   "cell_type": "code",
   "execution_count": 160,
   "metadata": {
    "colab": {
     "base_uri": "https://localhost:8080/"
    },
    "executionInfo": {
     "elapsed": 62,
     "status": "ok",
     "timestamp": 1751828765284,
     "user": {
      "displayName": "Elias Celis",
      "userId": "07132738901482165301"
     },
     "user_tz": 240
    },
    "id": "gbQlZ-MQusGJ",
    "outputId": "4e70a71e-2ee1-48e7-9d86-78edfbacd780"
   },
   "outputs": [
    {
     "data": {
      "text/plain": [
       "1.0000000000000009"
      ]
     },
     "execution_count": 160,
     "metadata": {},
     "output_type": "execute_result"
    }
   ],
   "source": [
    "z = (1.8 - media) / desviacion_estandar\n",
    "z"
   ]
  },
  {
   "cell_type": "markdown",
   "metadata": {
    "id": "MseXjmZ7G3E0"
   },
   "source": [
    "### Solución 1 - Utilizando la tabla"
   ]
  },
  {
   "cell_type": "code",
   "execution_count": 161,
   "metadata": {
    "colab": {
     "base_uri": "https://localhost:8080/"
    },
    "executionInfo": {
     "elapsed": 29,
     "status": "ok",
     "timestamp": 1751828765285,
     "user": {
      "displayName": "Elias Celis",
      "userId": "07132738901482165301"
     },
     "user_tz": 240
    },
    "id": "swZ6SVQGG3E0",
    "outputId": "2f6e9b61-bb9e-4555-8a30-71512b4b372c"
   },
   "outputs": [
    {
     "data": {
      "text/plain": [
       "0.34130000000000005"
      ]
     },
     "execution_count": 161,
     "metadata": {},
     "output_type": "execute_result"
    }
   ],
   "source": [
    "probabilidad = 0.8413 - 0.5\n",
    "probabilidad"
   ]
  },
  {
   "cell_type": "code",
   "execution_count": 162,
   "metadata": {
    "colab": {
     "base_uri": "https://localhost:8080/"
    },
    "executionInfo": {
     "elapsed": 16,
     "status": "ok",
     "timestamp": 1751828765285,
     "user": {
      "displayName": "Elias Celis",
      "userId": "07132738901482165301"
     },
     "user_tz": 240
    },
    "id": "oNfZZRBdGy2G",
    "outputId": "ef93103d-f2c8-4cd7-dcbe-3eca106d6bb4"
   },
   "outputs": [
    {
     "data": {
      "text/plain": [
       "0.6826000000000001"
      ]
     },
     "execution_count": 162,
     "metadata": {},
     "output_type": "execute_result"
    }
   ],
   "source": [
    "probabilidad = (0.8413 - 0.5) * 2\n",
    "probabilidad"
   ]
  },
  {
   "cell_type": "markdown",
   "metadata": {
    "id": "y5e4zAifG3E2"
   },
   "source": [
    "### Solución 2 - Utilizando Scipy"
   ]
  },
  {
   "cell_type": "code",
   "execution_count": 163,
   "metadata": {
    "colab": {
     "base_uri": "https://localhost:8080/"
    },
    "executionInfo": {
     "elapsed": 12,
     "status": "ok",
     "timestamp": 1751828765285,
     "user": {
      "displayName": "Elias Celis",
      "userId": "07132738901482165301"
     },
     "user_tz": 240
    },
    "id": "Urf9oSrO13FP",
    "outputId": "6162f434-6e58-4416-da4e-688b86837e85"
   },
   "outputs": [
    {
     "data": {
      "text/plain": [
       "1.0000000000000009"
      ]
     },
     "execution_count": 163,
     "metadata": {},
     "output_type": "execute_result"
    }
   ],
   "source": [
    "z_superior = (1.8 - media) / desviacion_estandar\n",
    "z"
   ]
  },
  {
   "cell_type": "code",
   "execution_count": 164,
   "metadata": {
    "colab": {
     "base_uri": "https://localhost:8080/"
    },
    "executionInfo": {
     "elapsed": 8,
     "status": "ok",
     "timestamp": 1751828765285,
     "user": {
      "displayName": "Elias Celis",
      "userId": "07132738901482165301"
     },
     "user_tz": 240
    },
    "id": "hcps6lkNG3E3",
    "outputId": "abab5096-f5dd-423d-996b-8707f764ff1f"
   },
   "outputs": [
    {
     "name": "stdout",
     "output_type": "stream",
     "text": [
      "68.27%\n"
     ]
    }
   ],
   "source": [
    "from scipy.stats import norm\n",
    "\n",
    "probabilidad = norm.cdf(z_superior) - (1 - norm.cdf(z_superior))\n",
    "print(f'{probabilidad:.2%}')"
   ]
  },
  {
   "cell_type": "code",
   "execution_count": 165,
   "metadata": {
    "colab": {
     "base_uri": "https://localhost:8080/"
    },
    "executionInfo": {
     "elapsed": 47,
     "status": "ok",
     "timestamp": 1751828765328,
     "user": {
      "displayName": "Elias Celis",
      "userId": "07132738901482165301"
     },
     "user_tz": 240
    },
    "id": "MjEfhnQEG3E5",
    "outputId": "b9113baa-035c-44b3-c6fd-658d80a9a8fd"
   },
   "outputs": [
    {
     "data": {
      "text/plain": [
       "-0.9999999999999987"
      ]
     },
     "execution_count": 165,
     "metadata": {},
     "output_type": "execute_result"
    }
   ],
   "source": [
    "z_inferior = (1.6 - media) / desviacion_estandar\n",
    "z_inferior"
   ]
  },
  {
   "cell_type": "code",
   "execution_count": 166,
   "metadata": {
    "colab": {
     "base_uri": "https://localhost:8080/"
    },
    "executionInfo": {
     "elapsed": 44,
     "status": "ok",
     "timestamp": 1751828765329,
     "user": {
      "displayName": "Elias Celis",
      "userId": "07132738901482165301"
     },
     "user_tz": 240
    },
    "id": "_TH7-8dT2aTj",
    "outputId": "1b92880e-5027-423d-9717-a10185d981fb"
   },
   "outputs": [
    {
     "name": "stdout",
     "output_type": "stream",
     "text": [
      "68.27%\n"
     ]
    }
   ],
   "source": [
    "probabilidad = norm.cdf(z_superior) - (norm.cdf(z_inferior))\n",
    "print(f'{probabilidad:.2%}')"
   ]
  },
  {
   "cell_type": "markdown",
   "metadata": {
    "id": "05sqVgdaG3E-"
   },
   "source": [
    "### Problema C - Identificación del área bajo la curva"
   ]
  },
  {
   "cell_type": "markdown",
   "metadata": {
    "id": "EPKhGTEkG3E_"
   },
   "source": [
    "<img style='float: left' src='https://caelum-online-public.s3.amazonaws.com/ESP-1764-estadistica-con-python-probabilidad-y-muestreo/img006.png' width='350px'>"
   ]
  },
  {
   "cell_type": "markdown",
   "metadata": {
    "id": "BA6jYbsSG3E_"
   },
   "source": [
    "### Obtener la variable estandarizada $Z$"
   ]
  },
  {
   "cell_type": "code",
   "execution_count": 167,
   "metadata": {
    "colab": {
     "base_uri": "https://localhost:8080/"
    },
    "executionInfo": {
     "elapsed": 40,
     "status": "ok",
     "timestamp": 1751828765329,
     "user": {
      "displayName": "Elias Celis",
      "userId": "07132738901482165301"
     },
     "user_tz": 240
    },
    "id": "3OVj60MzG3E_",
    "outputId": "5f3065da-1a9c-42c9-8849-c8fdce94c211"
   },
   "outputs": [
    {
     "data": {
      "text/plain": [
       "1.9999999999999996"
      ]
     },
     "execution_count": 167,
     "metadata": {},
     "output_type": "execute_result"
    }
   ],
   "source": [
    "z = (1.9 - media) / desviacion_estandar\n",
    "z"
   ]
  },
  {
   "cell_type": "markdown",
   "metadata": {
    "id": "hCiiWAm_G3FC"
   },
   "source": [
    "### Solución 1 - Utilizando la tabla"
   ]
  },
  {
   "cell_type": "code",
   "execution_count": 168,
   "metadata": {
    "colab": {
     "base_uri": "https://localhost:8080/"
    },
    "executionInfo": {
     "elapsed": 37,
     "status": "ok",
     "timestamp": 1751828765329,
     "user": {
      "displayName": "Elias Celis",
      "userId": "07132738901482165301"
     },
     "user_tz": 240
    },
    "id": "mSNfoO6VG3FC",
    "outputId": "40c97e2f-5ac8-4901-aa34-47782a3eeb3a"
   },
   "outputs": [
    {
     "data": {
      "text/plain": [
       "0.023299999999999987"
      ]
     },
     "execution_count": 168,
     "metadata": {},
     "output_type": "execute_result"
    }
   ],
   "source": [
    "probabilidad = 1 - 0.9767\n",
    "probabilidad"
   ]
  },
  {
   "cell_type": "markdown",
   "metadata": {
    "id": "QCyoVXOdG3FF"
   },
   "source": [
    "### Solución 2 - Utilizando Scipy"
   ]
  },
  {
   "cell_type": "code",
   "execution_count": 169,
   "metadata": {
    "colab": {
     "base_uri": "https://localhost:8080/"
    },
    "executionInfo": {
     "elapsed": 9,
     "status": "ok",
     "timestamp": 1751828765329,
     "user": {
      "displayName": "Elias Celis",
      "userId": "07132738901482165301"
     },
     "user_tz": 240
    },
    "id": "caIE-t83G3FF",
    "outputId": "cf1d5c7e-4b5c-4edd-8b2c-33943a3b0837"
   },
   "outputs": [
    {
     "name": "stdout",
     "output_type": "stream",
     "text": [
      "2.28%\n"
     ]
    }
   ],
   "source": [
    "probabilidad = 1 - norm.cdf(z)\n",
    "print(f'{probabilidad:.2%}')"
   ]
  },
  {
   "cell_type": "code",
   "execution_count": 170,
   "metadata": {
    "colab": {
     "base_uri": "https://localhost:8080/"
    },
    "executionInfo": {
     "elapsed": 45,
     "status": "ok",
     "timestamp": 1751828765369,
     "user": {
      "displayName": "Elias Celis",
      "userId": "07132738901482165301"
     },
     "user_tz": 240
    },
    "id": "wKjqQGgMG3FI",
    "outputId": "c29eeb7c-6f8c-42db-ff8d-9aa7730f0aaa"
   },
   "outputs": [
    {
     "name": "stdout",
     "output_type": "stream",
     "text": [
      "2.28%\n"
     ]
    }
   ],
   "source": [
    "probabilidad = norm.cdf(-z)\n",
    "print(f'{probabilidad:.2%}')"
   ]
  },
  {
   "cell_type": "markdown",
   "metadata": {
    "id": "GmmzChE2t4wW"
   },
   "source": [
    "# <font color=green>3 MUESTREO</font>\n",
    "***"
   ]
  },
  {
   "cell_type": "markdown",
   "metadata": {
    "id": "g8PbtmQZt4Wv"
   },
   "source": [
    "## <font color=green>3.1 Población y Muestra</font>\n",
    "***"
   ]
  },
  {
   "cell_type": "markdown",
   "metadata": {
    "id": "sedD5gB9G3FV"
   },
   "source": [
    "### Población\n",
    "Conjunto de todos los elementos de interés de un estudio. Varios elementos pueden componer una población, por ejemplo: personas, edades, alturas, automóviles, etc.\n",
    "\n",
    "En cuanto al tamaño, las poblaciones pueden ser limitadas (poblaciones finitas) o ilimitadas (poblaciones infinitas)."
   ]
  },
  {
   "cell_type": "markdown",
   "metadata": {
    "id": "XBFhAWNcG3FW"
   },
   "source": [
    "### Poblaciones finitas\n",
    "\n",
    "Permiten el recuento de sus elementos. Los ejemplos incluyen el número de empleados en una empresa, el número de estudiantes en una escuela, etc."
   ]
  },
  {
   "cell_type": "markdown",
   "metadata": {
    "id": "YT8V2GB1G3FW"
   },
   "source": [
    "### Poblaciones infinitas\n",
    "\n",
    "No es posible contar sus elementos. Como ejemplos tenemos el número de porciones que se pueden extraer del agua del mar para su análisis, la temperatura medida en cada punto de un territorio, etc.\n",
    "\n",
    "<font color=red>Cuando se pueden contar los elementos de una población, pero presentando una cantidad muy grande, se supone que la población es infinita.</font>"
   ]
  },
  {
   "cell_type": "markdown",
   "metadata": {
    "id": "a-WtAXv1G3FX"
   },
   "source": [
    "### Muestra\n",
    "Subconjunto representativo de la población."
   ]
  },
  {
   "cell_type": "markdown",
   "metadata": {
    "id": "QWnDYpPSG3FX"
   },
   "source": [
    "Los atributos numéricos de una población, como su media, varianza y desviación estándar, se conocen como **parámetros**. El enfoque principal de la inferencia estadística es precisamente generar estimaciones y probar hipótesis sobre parámetros poblacionales utilizando información de la muestra."
   ]
  },
  {
   "cell_type": "markdown",
   "metadata": {
    "id": "dDz6vFbDG3FZ"
   },
   "source": [
    "## <font color=green>3.2 ¿Cuándo usar una muestra?</font>\n",
    "***"
   ]
  },
  {
   "cell_type": "markdown",
   "metadata": {
    "id": "5X1YwCGlG3Fe"
   },
   "source": [
    "### Poblaciones infinitas\n",
    "\n",
    "El estudio nunca llegaría a su fin. No es posible investigar todos los elementos de la población."
   ]
  },
  {
   "cell_type": "markdown",
   "metadata": {
    "id": "jHLtG8HSG3Ff"
   },
   "source": [
    "### Pruebas destructivas\n",
    "\n",
    "Estudios donde los elementos evaluados son totalmente consumidos o destruidos. Ejemplo: pruebas de vida útil, pruebas de seguridad en accidentes de tráfico."
   ]
  },
  {
   "cell_type": "markdown",
   "metadata": {
    "id": "lxYxepmdG3Ff"
   },
   "source": [
    "### Resultados rápidos\n",
    "\n",
    "Investigaciones que necesitan más agilidad en la difusión. Ejemplo: encuestas de opinión, encuestas sobre problemas de salud pública."
   ]
  },
  {
   "cell_type": "markdown",
   "metadata": {
    "id": "PeUCGL5nG3Fj"
   },
   "source": [
    "### Altos precios\n",
    "\n",
    "Cuando la población es finita pero muy grande, el costo de un censo puede hacer inviable el proceso."
   ]
  },
  {
   "cell_type": "markdown",
   "metadata": {
    "id": "1sbJeMpSG3Fj"
   },
   "source": [
    "## <font color=green>3.3 Muestreo Aleatorio Simple</font>\n",
    "***"
   ]
  },
  {
   "cell_type": "markdown",
   "metadata": {
    "id": "Kiq9cYMYG3Fp"
   },
   "source": [
    "Es una de las principales formas de extraer una muestra de una población. El requisito fundamental de este tipo de enfoque es que cada elemento de la población tenga las mismas posibilidades de ser seleccionado para formar parte de la muestra."
   ]
  },
  {
   "cell_type": "code",
   "execution_count": 171,
   "metadata": {
    "executionInfo": {
     "elapsed": 15,
     "status": "ok",
     "timestamp": 1751828765370,
     "user": {
      "displayName": "Elias Celis",
      "userId": "07132738901482165301"
     },
     "user_tz": 240
    },
    "id": "NtQ8HOYdG3Fq"
   },
   "outputs": [],
   "source": [
    "import pandas as pd"
   ]
  },
  {
   "cell_type": "code",
   "execution_count": 172,
   "metadata": {
    "colab": {
     "base_uri": "https://localhost:8080/"
    },
    "executionInfo": {
     "elapsed": 14,
     "status": "ok",
     "timestamp": 1751828765370,
     "user": {
      "displayName": "Elias Celis",
      "userId": "07132738901482165301"
     },
     "user_tz": 240
    },
    "id": "DsXJHWhMG3Fs",
    "outputId": "3829317e-ac0f-4205-baea-73f666ba859d"
   },
   "outputs": [
    {
     "data": {
      "text/plain": [
       "76840"
      ]
     },
     "execution_count": 172,
     "metadata": {},
     "output_type": "execute_result"
    }
   ],
   "source": [
    "datos.shape[0]"
   ]
  },
  {
   "cell_type": "code",
   "execution_count": 173,
   "metadata": {
    "colab": {
     "base_uri": "https://localhost:8080/"
    },
    "executionInfo": {
     "elapsed": 10,
     "status": "ok",
     "timestamp": 1751828765370,
     "user": {
      "displayName": "Elias Celis",
      "userId": "07132738901482165301"
     },
     "user_tz": 240
    },
    "id": "k7yJucVMG3Fw",
    "outputId": "7b8bb41d-9082-4c6a-fcd8-a178e367a03b"
   },
   "outputs": [
    {
     "data": {
      "text/plain": [
       "np.float64(2000.3831988547631)"
      ]
     },
     "execution_count": 173,
     "metadata": {},
     "output_type": "execute_result"
    }
   ],
   "source": [
    "# MEDIA\n",
    "media = datos.Ingreso.mean()\n",
    "media"
   ]
  },
  {
   "cell_type": "code",
   "execution_count": 174,
   "metadata": {
    "executionInfo": {
     "elapsed": 5,
     "status": "ok",
     "timestamp": 1751828765370,
     "user": {
      "displayName": "Elias Celis",
      "userId": "07132738901482165301"
     },
     "user_tz": 240
    },
    "id": "wUyXS65sG3F2"
   },
   "outputs": [],
   "source": [
    "muestra = datos.sample(n = 1000, random_state = 101)"
   ]
  },
  {
   "cell_type": "code",
   "execution_count": 175,
   "metadata": {
    "colab": {
     "base_uri": "https://localhost:8080/"
    },
    "executionInfo": {
     "elapsed": 6,
     "status": "ok",
     "timestamp": 1751828765371,
     "user": {
      "displayName": "Elias Celis",
      "userId": "07132738901482165301"
     },
     "user_tz": 240
    },
    "id": "y0J4UtOwG3F5",
    "outputId": "fdcff84a-bf8b-48d6-9821-f09a751825d9"
   },
   "outputs": [
    {
     "data": {
      "text/plain": [
       "1000"
      ]
     },
     "execution_count": 175,
     "metadata": {},
     "output_type": "execute_result"
    }
   ],
   "source": [
    "muestra.shape[0]"
   ]
  },
  {
   "cell_type": "code",
   "execution_count": 176,
   "metadata": {
    "colab": {
     "base_uri": "https://localhost:8080/"
    },
    "executionInfo": {
     "elapsed": 9,
     "status": "ok",
     "timestamp": 1751828765380,
     "user": {
      "displayName": "Elias Celis",
      "userId": "07132738901482165301"
     },
     "user_tz": 240
    },
    "id": "WGZT_wnjSgPy",
    "outputId": "067b78ed-938d-40bf-8380-6a32a97e3569"
   },
   "outputs": [
    {
     "data": {
      "text/plain": [
       "np.float64(1998.783)"
      ]
     },
     "execution_count": 176,
     "metadata": {},
     "output_type": "execute_result"
    }
   ],
   "source": [
    "media_muestra = muestra.Ingreso.mean()\n",
    "media_muestra"
   ]
  },
  {
   "cell_type": "code",
   "execution_count": 177,
   "metadata": {
    "colab": {
     "base_uri": "https://localhost:8080/",
     "height": 178
    },
    "executionInfo": {
     "elapsed": 28,
     "status": "ok",
     "timestamp": 1751828765407,
     "user": {
      "displayName": "Elias Celis",
      "userId": "07132738901482165301"
     },
     "user_tz": 240
    },
    "id": "1la3Y_reSgEM",
    "outputId": "797e1481-3fb5-45a3-8758-0a294d74ab88"
   },
   "outputs": [
    {
     "data": {
      "text/html": [
       "<div>\n",
       "<style scoped>\n",
       "    .dataframe tbody tr th:only-of-type {\n",
       "        vertical-align: middle;\n",
       "    }\n",
       "\n",
       "    .dataframe tbody tr th {\n",
       "        vertical-align: top;\n",
       "    }\n",
       "\n",
       "    .dataframe thead th {\n",
       "        text-align: right;\n",
       "    }\n",
       "</style>\n",
       "<table border=\"1\" class=\"dataframe\">\n",
       "  <thead>\n",
       "    <tr style=\"text-align: right;\">\n",
       "      <th></th>\n",
       "      <th>proportion</th>\n",
       "    </tr>\n",
       "    <tr>\n",
       "      <th>Sexo</th>\n",
       "      <th></th>\n",
       "    </tr>\n",
       "  </thead>\n",
       "  <tbody>\n",
       "    <tr>\n",
       "      <th>0</th>\n",
       "      <td>0.692998</td>\n",
       "    </tr>\n",
       "    <tr>\n",
       "      <th>1</th>\n",
       "      <td>0.307002</td>\n",
       "    </tr>\n",
       "  </tbody>\n",
       "</table>\n",
       "</div><br><label><b>dtype:</b> float64</label>"
      ],
      "text/plain": [
       "Sexo\n",
       "0    0.692998\n",
       "1    0.307002\n",
       "Name: proportion, dtype: float64"
      ]
     },
     "execution_count": 177,
     "metadata": {},
     "output_type": "execute_result"
    }
   ],
   "source": [
    "datos.Sexo.value_counts(normalize = True)"
   ]
  },
  {
   "cell_type": "code",
   "execution_count": 178,
   "metadata": {
    "colab": {
     "base_uri": "https://localhost:8080/",
     "height": 178
    },
    "executionInfo": {
     "elapsed": 2,
     "status": "ok",
     "timestamp": 1751828765410,
     "user": {
      "displayName": "Elias Celis",
      "userId": "07132738901482165301"
     },
     "user_tz": 240
    },
    "id": "7ip9GVBXAUiw",
    "outputId": "2ee005e3-a49b-4caa-fd62-7e6693dc6fc1"
   },
   "outputs": [
    {
     "data": {
      "text/html": [
       "<div>\n",
       "<style scoped>\n",
       "    .dataframe tbody tr th:only-of-type {\n",
       "        vertical-align: middle;\n",
       "    }\n",
       "\n",
       "    .dataframe tbody tr th {\n",
       "        vertical-align: top;\n",
       "    }\n",
       "\n",
       "    .dataframe thead th {\n",
       "        text-align: right;\n",
       "    }\n",
       "</style>\n",
       "<table border=\"1\" class=\"dataframe\">\n",
       "  <thead>\n",
       "    <tr style=\"text-align: right;\">\n",
       "      <th></th>\n",
       "      <th>proportion</th>\n",
       "    </tr>\n",
       "    <tr>\n",
       "      <th>Sexo</th>\n",
       "      <th></th>\n",
       "    </tr>\n",
       "  </thead>\n",
       "  <tbody>\n",
       "    <tr>\n",
       "      <th>0</th>\n",
       "      <td>0.706</td>\n",
       "    </tr>\n",
       "    <tr>\n",
       "      <th>1</th>\n",
       "      <td>0.294</td>\n",
       "    </tr>\n",
       "  </tbody>\n",
       "</table>\n",
       "</div><br><label><b>dtype:</b> float64</label>"
      ],
      "text/plain": [
       "Sexo\n",
       "0    0.706\n",
       "1    0.294\n",
       "Name: proportion, dtype: float64"
      ]
     },
     "execution_count": 178,
     "metadata": {},
     "output_type": "execute_result"
    }
   ],
   "source": [
    "muestra.Sexo.value_counts(normalize = True)"
   ]
  },
  {
   "cell_type": "markdown",
   "metadata": {
    "id": "stcKhnJBG3F7"
   },
   "source": [
    "## <font color=green>3.4 Muestreo Estratificado</font>\n",
    "***"
   ]
  },
  {
   "cell_type": "markdown",
   "metadata": {
    "id": "W1uEZMRIG3GA"
   },
   "source": [
    "Es una mejora del proceso de muestreo aleatorio simple. En este método, se propone dividir la población en subgrupos de elementos con características similares, es decir, grupos más homogéneos. Con estos subgrupos separados, la técnica de muestreo aleatorio simple dentro de cada subgrupo se aplica individualmente."
   ]
  },
  {
   "cell_type": "markdown",
   "metadata": {
    "id": "xRjUHDAbG3GB"
   },
   "source": [
    "## <font color=green>3.5 Muestreo por Conglomerados</font>\n",
    "***"
   ]
  },
  {
   "cell_type": "markdown",
   "metadata": {
    "id": "sW9IuaL9G3GH"
   },
   "source": [
    "También tiene como objetivo mejorar el criterio de muestreo aleatorio simple. En el muestreo por conglomerados también se crean subgrupos, pero no serán homogéneos como en el muestreo estratificado. En el muestreo por conglomerados los subgrupos serán heterogéneos, donde luego se aplicará un muestreo aleatorio simple o estratificado.\n",
    "\n",
    "Un ejemplo muy común de la aplicación de este tipo de técnica es la división de la población en grupos territoriales, donde los elementos investigados tendrán características bastante variadas."
   ]
  },
  {
   "cell_type": "markdown",
   "metadata": {
    "id": "2LNJT4FEuzO4"
   },
   "source": [
    "# <font color=green>4 ESTIMACIÓN</font>\n",
    "***"
   ]
  },
  {
   "cell_type": "markdown",
   "metadata": {
    "id": "z69W2sVGmybS"
   },
   "source": [
    "## <font color='red'>Problema </font>"
   ]
  },
  {
   "cell_type": "markdown",
   "metadata": {
    "id": "ytP6VpismwDY"
   },
   "source": [
    "Suponga que los pesos de las bolsas de arroz de una industria alimentaria se distribuyen aproximadamente como una distribución normal **desviación estándar igual a 150 g**. Se seleccionó una **muestra aleatoria de 20 bolsas** de un lote específico, se obtuvo un **peso promedio de 5.050 g**. Construya un **intervalo de confianza para la media de la población** asumiendo un **nivel de significancia del 5%**."
   ]
  },
  {
   "cell_type": "markdown",
   "metadata": {
    "id": "PCqEvJMOwvUf"
   },
   "source": [
    "---"
   ]
  },
  {
   "cell_type": "markdown",
   "metadata": {
    "id": "HU578SXBG3GN"
   },
   "source": [
    "Es la forma de hacer suposiciones generalizadas sobre los parámetros de una población a partir de información de una muestra.\n",
    "\n",
    "- **Los parámetros** son los atributos numéricos de una población, como la media, la desviación estándar, etc.\n",
    "\n",
    "- **Estimación** es el valor obtenido para un parámetro dado a partir de los datos de una muestra de la población."
   ]
  },
  {
   "cell_type": "markdown",
   "metadata": {
    "id": "klWVkoUDG3GR"
   },
   "source": [
    "## <font color=green>4.1 Teorema central del límite</font>\n",
    "***"
   ]
  },
  {
   "cell_type": "markdown",
   "metadata": {
    "id": "QpgTvbISG3GU"
   },
   "source": [
    "> El **Teorema Central del Límite** establece que, con el aumento del tamaño de la muestra, la distribución de las medias muestrales se aproxima a una distribución normal con media igual a la media de la población y una desviación estándar igual a la desviación estándar de la variable original dividida por la raíz cuadrada del tamaño de la muestra. Este hecho está asegurado para $n$ mayores o iguales a 30."
   ]
  },
  {
   "cell_type": "markdown",
   "metadata": {
    "id": "ZIAr6is3wEMp"
   },
   "source": [
    "## $$\\sigma_\\bar{x} = \\frac{\\sigma}{\\sqrt{n}}$$\n",
    "\n",
    "La desviación estándar de las medias muestrales se conoce como **error estándar de la media**"
   ]
  },
  {
   "cell_type": "markdown",
   "metadata": {
    "id": "eFtSo6H0iz7z"
   },
   "source": [
    "### Entendiendo el Teorema Central del Límite"
   ]
  },
  {
   "cell_type": "code",
   "execution_count": 179,
   "metadata": {
    "executionInfo": {
     "elapsed": 0,
     "status": "ok",
     "timestamp": 1751828765411,
     "user": {
      "displayName": "Elias Celis",
      "userId": "07132738901482165301"
     },
     "user_tz": 240
    },
    "id": "S3q73XpnizTi"
   },
   "outputs": [],
   "source": [
    "n = 2000\n",
    "total_de_muestras = 1500"
   ]
  },
  {
   "cell_type": "code",
   "execution_count": 180,
   "metadata": {
    "executionInfo": {
     "elapsed": 1,
     "status": "ok",
     "timestamp": 1751828765413,
     "user": {
      "displayName": "Elias Celis",
      "userId": "07132738901482165301"
     },
     "user_tz": 240
    },
    "id": "uXZvARZ0izQp"
   },
   "outputs": [],
   "source": [
    "muestras = pd.DataFrame()"
   ]
  },
  {
   "cell_type": "code",
   "execution_count": 181,
   "metadata": {
    "colab": {
     "base_uri": "https://localhost:8080/",
     "height": 444
    },
    "executionInfo": {
     "elapsed": 3721,
     "status": "ok",
     "timestamp": 1751828769133,
     "user": {
      "displayName": "Elias Celis",
      "userId": "07132738901482165301"
     },
     "user_tz": 240
    },
    "id": "tXa7XKhKTyMu",
    "outputId": "3b06e086-4fb9-4262-9c1a-995a6484152c",
    "scrolled": true
   },
   "outputs": [
    {
     "data": {
      "application/vnd.google.colaboratory.intrinsic+json": {
       "type": "dataframe",
       "variable_name": "muestras"
      },
      "text/html": [
       "\n",
       "  <div id=\"df-2994221f-4a02-45b7-a28b-eb766494ce42\" class=\"colab-df-container\">\n",
       "    <div>\n",
       "<style scoped>\n",
       "    .dataframe tbody tr th:only-of-type {\n",
       "        vertical-align: middle;\n",
       "    }\n",
       "\n",
       "    .dataframe tbody tr th {\n",
       "        vertical-align: top;\n",
       "    }\n",
       "\n",
       "    .dataframe thead th {\n",
       "        text-align: right;\n",
       "    }\n",
       "</style>\n",
       "<table border=\"1\" class=\"dataframe\">\n",
       "  <thead>\n",
       "    <tr style=\"text-align: right;\">\n",
       "      <th></th>\n",
       "      <th>Muestra_0</th>\n",
       "      <th>Muestra_1</th>\n",
       "      <th>Muestra_2</th>\n",
       "      <th>Muestra_3</th>\n",
       "      <th>Muestra_4</th>\n",
       "      <th>Muestra_5</th>\n",
       "      <th>Muestra_6</th>\n",
       "      <th>Muestra_7</th>\n",
       "      <th>Muestra_8</th>\n",
       "      <th>Muestra_9</th>\n",
       "      <th>...</th>\n",
       "      <th>Muestra_1490</th>\n",
       "      <th>Muestra_1491</th>\n",
       "      <th>Muestra_1492</th>\n",
       "      <th>Muestra_1493</th>\n",
       "      <th>Muestra_1494</th>\n",
       "      <th>Muestra_1495</th>\n",
       "      <th>Muestra_1496</th>\n",
       "      <th>Muestra_1497</th>\n",
       "      <th>Muestra_1498</th>\n",
       "      <th>Muestra_1499</th>\n",
       "    </tr>\n",
       "  </thead>\n",
       "  <tbody>\n",
       "    <tr>\n",
       "      <th>0</th>\n",
       "      <td>36</td>\n",
       "      <td>41</td>\n",
       "      <td>44</td>\n",
       "      <td>39</td>\n",
       "      <td>32</td>\n",
       "      <td>28</td>\n",
       "      <td>40</td>\n",
       "      <td>45</td>\n",
       "      <td>30</td>\n",
       "      <td>49</td>\n",
       "      <td>...</td>\n",
       "      <td>41</td>\n",
       "      <td>31</td>\n",
       "      <td>49</td>\n",
       "      <td>22</td>\n",
       "      <td>29</td>\n",
       "      <td>27</td>\n",
       "      <td>21</td>\n",
       "      <td>39</td>\n",
       "      <td>28</td>\n",
       "      <td>77</td>\n",
       "    </tr>\n",
       "    <tr>\n",
       "      <th>1</th>\n",
       "      <td>49</td>\n",
       "      <td>24</td>\n",
       "      <td>49</td>\n",
       "      <td>41</td>\n",
       "      <td>56</td>\n",
       "      <td>38</td>\n",
       "      <td>36</td>\n",
       "      <td>45</td>\n",
       "      <td>54</td>\n",
       "      <td>40</td>\n",
       "      <td>...</td>\n",
       "      <td>68</td>\n",
       "      <td>31</td>\n",
       "      <td>66</td>\n",
       "      <td>33</td>\n",
       "      <td>67</td>\n",
       "      <td>35</td>\n",
       "      <td>53</td>\n",
       "      <td>43</td>\n",
       "      <td>33</td>\n",
       "      <td>30</td>\n",
       "    </tr>\n",
       "    <tr>\n",
       "      <th>2</th>\n",
       "      <td>83</td>\n",
       "      <td>28</td>\n",
       "      <td>40</td>\n",
       "      <td>34</td>\n",
       "      <td>28</td>\n",
       "      <td>44</td>\n",
       "      <td>23</td>\n",
       "      <td>50</td>\n",
       "      <td>41</td>\n",
       "      <td>33</td>\n",
       "      <td>...</td>\n",
       "      <td>33</td>\n",
       "      <td>55</td>\n",
       "      <td>32</td>\n",
       "      <td>65</td>\n",
       "      <td>45</td>\n",
       "      <td>40</td>\n",
       "      <td>21</td>\n",
       "      <td>26</td>\n",
       "      <td>34</td>\n",
       "      <td>25</td>\n",
       "    </tr>\n",
       "    <tr>\n",
       "      <th>3</th>\n",
       "      <td>63</td>\n",
       "      <td>20</td>\n",
       "      <td>39</td>\n",
       "      <td>61</td>\n",
       "      <td>48</td>\n",
       "      <td>42</td>\n",
       "      <td>37</td>\n",
       "      <td>48</td>\n",
       "      <td>35</td>\n",
       "      <td>46</td>\n",
       "      <td>...</td>\n",
       "      <td>47</td>\n",
       "      <td>69</td>\n",
       "      <td>57</td>\n",
       "      <td>29</td>\n",
       "      <td>55</td>\n",
       "      <td>33</td>\n",
       "      <td>43</td>\n",
       "      <td>83</td>\n",
       "      <td>65</td>\n",
       "      <td>53</td>\n",
       "    </tr>\n",
       "    <tr>\n",
       "      <th>4</th>\n",
       "      <td>30</td>\n",
       "      <td>50</td>\n",
       "      <td>50</td>\n",
       "      <td>45</td>\n",
       "      <td>36</td>\n",
       "      <td>39</td>\n",
       "      <td>35</td>\n",
       "      <td>32</td>\n",
       "      <td>43</td>\n",
       "      <td>23</td>\n",
       "      <td>...</td>\n",
       "      <td>53</td>\n",
       "      <td>43</td>\n",
       "      <td>37</td>\n",
       "      <td>48</td>\n",
       "      <td>54</td>\n",
       "      <td>23</td>\n",
       "      <td>38</td>\n",
       "      <td>25</td>\n",
       "      <td>43</td>\n",
       "      <td>43</td>\n",
       "    </tr>\n",
       "    <tr>\n",
       "      <th>...</th>\n",
       "      <td>...</td>\n",
       "      <td>...</td>\n",
       "      <td>...</td>\n",
       "      <td>...</td>\n",
       "      <td>...</td>\n",
       "      <td>...</td>\n",
       "      <td>...</td>\n",
       "      <td>...</td>\n",
       "      <td>...</td>\n",
       "      <td>...</td>\n",
       "      <td>...</td>\n",
       "      <td>...</td>\n",
       "      <td>...</td>\n",
       "      <td>...</td>\n",
       "      <td>...</td>\n",
       "      <td>...</td>\n",
       "      <td>...</td>\n",
       "      <td>...</td>\n",
       "      <td>...</td>\n",
       "      <td>...</td>\n",
       "      <td>...</td>\n",
       "    </tr>\n",
       "    <tr>\n",
       "      <th>1995</th>\n",
       "      <td>22</td>\n",
       "      <td>53</td>\n",
       "      <td>40</td>\n",
       "      <td>45</td>\n",
       "      <td>73</td>\n",
       "      <td>23</td>\n",
       "      <td>41</td>\n",
       "      <td>25</td>\n",
       "      <td>51</td>\n",
       "      <td>65</td>\n",
       "      <td>...</td>\n",
       "      <td>55</td>\n",
       "      <td>61</td>\n",
       "      <td>51</td>\n",
       "      <td>24</td>\n",
       "      <td>27</td>\n",
       "      <td>32</td>\n",
       "      <td>50</td>\n",
       "      <td>25</td>\n",
       "      <td>38</td>\n",
       "      <td>53</td>\n",
       "    </tr>\n",
       "    <tr>\n",
       "      <th>1996</th>\n",
       "      <td>38</td>\n",
       "      <td>37</td>\n",
       "      <td>60</td>\n",
       "      <td>36</td>\n",
       "      <td>57</td>\n",
       "      <td>59</td>\n",
       "      <td>56</td>\n",
       "      <td>33</td>\n",
       "      <td>44</td>\n",
       "      <td>31</td>\n",
       "      <td>...</td>\n",
       "      <td>34</td>\n",
       "      <td>27</td>\n",
       "      <td>30</td>\n",
       "      <td>42</td>\n",
       "      <td>52</td>\n",
       "      <td>38</td>\n",
       "      <td>39</td>\n",
       "      <td>31</td>\n",
       "      <td>30</td>\n",
       "      <td>38</td>\n",
       "    </tr>\n",
       "    <tr>\n",
       "      <th>1997</th>\n",
       "      <td>45</td>\n",
       "      <td>64</td>\n",
       "      <td>27</td>\n",
       "      <td>55</td>\n",
       "      <td>52</td>\n",
       "      <td>40</td>\n",
       "      <td>63</td>\n",
       "      <td>22</td>\n",
       "      <td>35</td>\n",
       "      <td>50</td>\n",
       "      <td>...</td>\n",
       "      <td>38</td>\n",
       "      <td>34</td>\n",
       "      <td>33</td>\n",
       "      <td>25</td>\n",
       "      <td>55</td>\n",
       "      <td>57</td>\n",
       "      <td>75</td>\n",
       "      <td>40</td>\n",
       "      <td>23</td>\n",
       "      <td>54</td>\n",
       "    </tr>\n",
       "    <tr>\n",
       "      <th>1998</th>\n",
       "      <td>67</td>\n",
       "      <td>38</td>\n",
       "      <td>49</td>\n",
       "      <td>31</td>\n",
       "      <td>50</td>\n",
       "      <td>32</td>\n",
       "      <td>37</td>\n",
       "      <td>57</td>\n",
       "      <td>36</td>\n",
       "      <td>56</td>\n",
       "      <td>...</td>\n",
       "      <td>65</td>\n",
       "      <td>43</td>\n",
       "      <td>34</td>\n",
       "      <td>35</td>\n",
       "      <td>22</td>\n",
       "      <td>46</td>\n",
       "      <td>41</td>\n",
       "      <td>34</td>\n",
       "      <td>44</td>\n",
       "      <td>42</td>\n",
       "    </tr>\n",
       "    <tr>\n",
       "      <th>1999</th>\n",
       "      <td>28</td>\n",
       "      <td>47</td>\n",
       "      <td>46</td>\n",
       "      <td>61</td>\n",
       "      <td>36</td>\n",
       "      <td>40</td>\n",
       "      <td>62</td>\n",
       "      <td>27</td>\n",
       "      <td>51</td>\n",
       "      <td>37</td>\n",
       "      <td>...</td>\n",
       "      <td>64</td>\n",
       "      <td>54</td>\n",
       "      <td>61</td>\n",
       "      <td>54</td>\n",
       "      <td>55</td>\n",
       "      <td>50</td>\n",
       "      <td>24</td>\n",
       "      <td>35</td>\n",
       "      <td>57</td>\n",
       "      <td>42</td>\n",
       "    </tr>\n",
       "  </tbody>\n",
       "</table>\n",
       "<p>2000 rows × 1500 columns</p>\n",
       "</div>\n",
       "    <div class=\"colab-df-buttons\">\n",
       "\n",
       "  <div class=\"colab-df-container\">\n",
       "    <button class=\"colab-df-convert\" onclick=\"convertToInteractive('df-2994221f-4a02-45b7-a28b-eb766494ce42')\"\n",
       "            title=\"Convert this dataframe to an interactive table.\"\n",
       "            style=\"display:none;\">\n",
       "\n",
       "  <svg xmlns=\"http://www.w3.org/2000/svg\" height=\"24px\" viewBox=\"0 -960 960 960\">\n",
       "    <path d=\"M120-120v-720h720v720H120Zm60-500h600v-160H180v160Zm220 220h160v-160H400v160Zm0 220h160v-160H400v160ZM180-400h160v-160H180v160Zm440 0h160v-160H620v160ZM180-180h160v-160H180v160Zm440 0h160v-160H620v160Z\"/>\n",
       "  </svg>\n",
       "    </button>\n",
       "\n",
       "  <style>\n",
       "    .colab-df-container {\n",
       "      display:flex;\n",
       "      gap: 12px;\n",
       "    }\n",
       "\n",
       "    .colab-df-convert {\n",
       "      background-color: #E8F0FE;\n",
       "      border: none;\n",
       "      border-radius: 50%;\n",
       "      cursor: pointer;\n",
       "      display: none;\n",
       "      fill: #1967D2;\n",
       "      height: 32px;\n",
       "      padding: 0 0 0 0;\n",
       "      width: 32px;\n",
       "    }\n",
       "\n",
       "    .colab-df-convert:hover {\n",
       "      background-color: #E2EBFA;\n",
       "      box-shadow: 0px 1px 2px rgba(60, 64, 67, 0.3), 0px 1px 3px 1px rgba(60, 64, 67, 0.15);\n",
       "      fill: #174EA6;\n",
       "    }\n",
       "\n",
       "    .colab-df-buttons div {\n",
       "      margin-bottom: 4px;\n",
       "    }\n",
       "\n",
       "    [theme=dark] .colab-df-convert {\n",
       "      background-color: #3B4455;\n",
       "      fill: #D2E3FC;\n",
       "    }\n",
       "\n",
       "    [theme=dark] .colab-df-convert:hover {\n",
       "      background-color: #434B5C;\n",
       "      box-shadow: 0px 1px 3px 1px rgba(0, 0, 0, 0.15);\n",
       "      filter: drop-shadow(0px 1px 2px rgba(0, 0, 0, 0.3));\n",
       "      fill: #FFFFFF;\n",
       "    }\n",
       "  </style>\n",
       "\n",
       "    <script>\n",
       "      const buttonEl =\n",
       "        document.querySelector('#df-2994221f-4a02-45b7-a28b-eb766494ce42 button.colab-df-convert');\n",
       "      buttonEl.style.display =\n",
       "        google.colab.kernel.accessAllowed ? 'block' : 'none';\n",
       "\n",
       "      async function convertToInteractive(key) {\n",
       "        const element = document.querySelector('#df-2994221f-4a02-45b7-a28b-eb766494ce42');\n",
       "        const dataTable =\n",
       "          await google.colab.kernel.invokeFunction('convertToInteractive',\n",
       "                                                    [key], {});\n",
       "        if (!dataTable) return;\n",
       "\n",
       "        const docLinkHtml = 'Like what you see? Visit the ' +\n",
       "          '<a target=\"_blank\" href=https://colab.research.google.com/notebooks/data_table.ipynb>data table notebook</a>'\n",
       "          + ' to learn more about interactive tables.';\n",
       "        element.innerHTML = '';\n",
       "        dataTable['output_type'] = 'display_data';\n",
       "        await google.colab.output.renderOutput(dataTable, element);\n",
       "        const docLink = document.createElement('div');\n",
       "        docLink.innerHTML = docLinkHtml;\n",
       "        element.appendChild(docLink);\n",
       "      }\n",
       "    </script>\n",
       "  </div>\n",
       "\n",
       "\n",
       "    <div id=\"df-7a54586d-2027-49dc-a968-5f3b371b4c66\">\n",
       "      <button class=\"colab-df-quickchart\" onclick=\"quickchart('df-7a54586d-2027-49dc-a968-5f3b371b4c66')\"\n",
       "                title=\"Suggest charts\"\n",
       "                style=\"display:none;\">\n",
       "\n",
       "<svg xmlns=\"http://www.w3.org/2000/svg\" height=\"24px\"viewBox=\"0 0 24 24\"\n",
       "     width=\"24px\">\n",
       "    <g>\n",
       "        <path d=\"M19 3H5c-1.1 0-2 .9-2 2v14c0 1.1.9 2 2 2h14c1.1 0 2-.9 2-2V5c0-1.1-.9-2-2-2zM9 17H7v-7h2v7zm4 0h-2V7h2v10zm4 0h-2v-4h2v4z\"/>\n",
       "    </g>\n",
       "</svg>\n",
       "      </button>\n",
       "\n",
       "<style>\n",
       "  .colab-df-quickchart {\n",
       "      --bg-color: #E8F0FE;\n",
       "      --fill-color: #1967D2;\n",
       "      --hover-bg-color: #E2EBFA;\n",
       "      --hover-fill-color: #174EA6;\n",
       "      --disabled-fill-color: #AAA;\n",
       "      --disabled-bg-color: #DDD;\n",
       "  }\n",
       "\n",
       "  [theme=dark] .colab-df-quickchart {\n",
       "      --bg-color: #3B4455;\n",
       "      --fill-color: #D2E3FC;\n",
       "      --hover-bg-color: #434B5C;\n",
       "      --hover-fill-color: #FFFFFF;\n",
       "      --disabled-bg-color: #3B4455;\n",
       "      --disabled-fill-color: #666;\n",
       "  }\n",
       "\n",
       "  .colab-df-quickchart {\n",
       "    background-color: var(--bg-color);\n",
       "    border: none;\n",
       "    border-radius: 50%;\n",
       "    cursor: pointer;\n",
       "    display: none;\n",
       "    fill: var(--fill-color);\n",
       "    height: 32px;\n",
       "    padding: 0;\n",
       "    width: 32px;\n",
       "  }\n",
       "\n",
       "  .colab-df-quickchart:hover {\n",
       "    background-color: var(--hover-bg-color);\n",
       "    box-shadow: 0 1px 2px rgba(60, 64, 67, 0.3), 0 1px 3px 1px rgba(60, 64, 67, 0.15);\n",
       "    fill: var(--button-hover-fill-color);\n",
       "  }\n",
       "\n",
       "  .colab-df-quickchart-complete:disabled,\n",
       "  .colab-df-quickchart-complete:disabled:hover {\n",
       "    background-color: var(--disabled-bg-color);\n",
       "    fill: var(--disabled-fill-color);\n",
       "    box-shadow: none;\n",
       "  }\n",
       "\n",
       "  .colab-df-spinner {\n",
       "    border: 2px solid var(--fill-color);\n",
       "    border-color: transparent;\n",
       "    border-bottom-color: var(--fill-color);\n",
       "    animation:\n",
       "      spin 1s steps(1) infinite;\n",
       "  }\n",
       "\n",
       "  @keyframes spin {\n",
       "    0% {\n",
       "      border-color: transparent;\n",
       "      border-bottom-color: var(--fill-color);\n",
       "      border-left-color: var(--fill-color);\n",
       "    }\n",
       "    20% {\n",
       "      border-color: transparent;\n",
       "      border-left-color: var(--fill-color);\n",
       "      border-top-color: var(--fill-color);\n",
       "    }\n",
       "    30% {\n",
       "      border-color: transparent;\n",
       "      border-left-color: var(--fill-color);\n",
       "      border-top-color: var(--fill-color);\n",
       "      border-right-color: var(--fill-color);\n",
       "    }\n",
       "    40% {\n",
       "      border-color: transparent;\n",
       "      border-right-color: var(--fill-color);\n",
       "      border-top-color: var(--fill-color);\n",
       "    }\n",
       "    60% {\n",
       "      border-color: transparent;\n",
       "      border-right-color: var(--fill-color);\n",
       "    }\n",
       "    80% {\n",
       "      border-color: transparent;\n",
       "      border-right-color: var(--fill-color);\n",
       "      border-bottom-color: var(--fill-color);\n",
       "    }\n",
       "    90% {\n",
       "      border-color: transparent;\n",
       "      border-bottom-color: var(--fill-color);\n",
       "    }\n",
       "  }\n",
       "</style>\n",
       "\n",
       "      <script>\n",
       "        async function quickchart(key) {\n",
       "          const quickchartButtonEl =\n",
       "            document.querySelector('#' + key + ' button');\n",
       "          quickchartButtonEl.disabled = true;  // To prevent multiple clicks.\n",
       "          quickchartButtonEl.classList.add('colab-df-spinner');\n",
       "          try {\n",
       "            const charts = await google.colab.kernel.invokeFunction(\n",
       "                'suggestCharts', [key], {});\n",
       "          } catch (error) {\n",
       "            console.error('Error during call to suggestCharts:', error);\n",
       "          }\n",
       "          quickchartButtonEl.classList.remove('colab-df-spinner');\n",
       "          quickchartButtonEl.classList.add('colab-df-quickchart-complete');\n",
       "        }\n",
       "        (() => {\n",
       "          let quickchartButtonEl =\n",
       "            document.querySelector('#df-7a54586d-2027-49dc-a968-5f3b371b4c66 button');\n",
       "          quickchartButtonEl.style.display =\n",
       "            google.colab.kernel.accessAllowed ? 'block' : 'none';\n",
       "        })();\n",
       "      </script>\n",
       "    </div>\n",
       "\n",
       "  <div id=\"id_603a6f4c-0efd-45f3-9e9b-be005ac1e52f\">\n",
       "    <style>\n",
       "      .colab-df-generate {\n",
       "        background-color: #E8F0FE;\n",
       "        border: none;\n",
       "        border-radius: 50%;\n",
       "        cursor: pointer;\n",
       "        display: none;\n",
       "        fill: #1967D2;\n",
       "        height: 32px;\n",
       "        padding: 0 0 0 0;\n",
       "        width: 32px;\n",
       "      }\n",
       "\n",
       "      .colab-df-generate:hover {\n",
       "        background-color: #E2EBFA;\n",
       "        box-shadow: 0px 1px 2px rgba(60, 64, 67, 0.3), 0px 1px 3px 1px rgba(60, 64, 67, 0.15);\n",
       "        fill: #174EA6;\n",
       "      }\n",
       "\n",
       "      [theme=dark] .colab-df-generate {\n",
       "        background-color: #3B4455;\n",
       "        fill: #D2E3FC;\n",
       "      }\n",
       "\n",
       "      [theme=dark] .colab-df-generate:hover {\n",
       "        background-color: #434B5C;\n",
       "        box-shadow: 0px 1px 3px 1px rgba(0, 0, 0, 0.15);\n",
       "        filter: drop-shadow(0px 1px 2px rgba(0, 0, 0, 0.3));\n",
       "        fill: #FFFFFF;\n",
       "      }\n",
       "    </style>\n",
       "    <button class=\"colab-df-generate\" onclick=\"generateWithVariable('muestras')\"\n",
       "            title=\"Generate code using this dataframe.\"\n",
       "            style=\"display:none;\">\n",
       "\n",
       "  <svg xmlns=\"http://www.w3.org/2000/svg\" height=\"24px\"viewBox=\"0 0 24 24\"\n",
       "       width=\"24px\">\n",
       "    <path d=\"M7,19H8.4L18.45,9,17,7.55,7,17.6ZM5,21V16.75L18.45,3.32a2,2,0,0,1,2.83,0l1.4,1.43a1.91,1.91,0,0,1,.58,1.4,1.91,1.91,0,0,1-.58,1.4L9.25,21ZM18.45,9,17,7.55Zm-12,3A5.31,5.31,0,0,0,4.9,8.1,5.31,5.31,0,0,0,1,6.5,5.31,5.31,0,0,0,4.9,4.9,5.31,5.31,0,0,0,6.5,1,5.31,5.31,0,0,0,8.1,4.9,5.31,5.31,0,0,0,12,6.5,5.46,5.46,0,0,0,6.5,12Z\"/>\n",
       "  </svg>\n",
       "    </button>\n",
       "    <script>\n",
       "      (() => {\n",
       "      const buttonEl =\n",
       "        document.querySelector('#id_603a6f4c-0efd-45f3-9e9b-be005ac1e52f button.colab-df-generate');\n",
       "      buttonEl.style.display =\n",
       "        google.colab.kernel.accessAllowed ? 'block' : 'none';\n",
       "\n",
       "      buttonEl.onclick = () => {\n",
       "        google.colab.notebook.generateWithVariable('muestras');\n",
       "      }\n",
       "      })();\n",
       "    </script>\n",
       "  </div>\n",
       "\n",
       "    </div>\n",
       "  </div>\n"
      ],
      "text/plain": [
       "      Muestra_0  Muestra_1  Muestra_2  Muestra_3  Muestra_4  Muestra_5  \\\n",
       "0            36         41         44         39         32         28   \n",
       "1            49         24         49         41         56         38   \n",
       "2            83         28         40         34         28         44   \n",
       "3            63         20         39         61         48         42   \n",
       "4            30         50         50         45         36         39   \n",
       "...         ...        ...        ...        ...        ...        ...   \n",
       "1995         22         53         40         45         73         23   \n",
       "1996         38         37         60         36         57         59   \n",
       "1997         45         64         27         55         52         40   \n",
       "1998         67         38         49         31         50         32   \n",
       "1999         28         47         46         61         36         40   \n",
       "\n",
       "      Muestra_6  Muestra_7  Muestra_8  Muestra_9  ...  Muestra_1490  \\\n",
       "0            40         45         30         49  ...            41   \n",
       "1            36         45         54         40  ...            68   \n",
       "2            23         50         41         33  ...            33   \n",
       "3            37         48         35         46  ...            47   \n",
       "4            35         32         43         23  ...            53   \n",
       "...         ...        ...        ...        ...  ...           ...   \n",
       "1995         41         25         51         65  ...            55   \n",
       "1996         56         33         44         31  ...            34   \n",
       "1997         63         22         35         50  ...            38   \n",
       "1998         37         57         36         56  ...            65   \n",
       "1999         62         27         51         37  ...            64   \n",
       "\n",
       "      Muestra_1491  Muestra_1492  Muestra_1493  Muestra_1494  Muestra_1495  \\\n",
       "0               31            49            22            29            27   \n",
       "1               31            66            33            67            35   \n",
       "2               55            32            65            45            40   \n",
       "3               69            57            29            55            33   \n",
       "4               43            37            48            54            23   \n",
       "...            ...           ...           ...           ...           ...   \n",
       "1995            61            51            24            27            32   \n",
       "1996            27            30            42            52            38   \n",
       "1997            34            33            25            55            57   \n",
       "1998            43            34            35            22            46   \n",
       "1999            54            61            54            55            50   \n",
       "\n",
       "      Muestra_1496  Muestra_1497  Muestra_1498  Muestra_1499  \n",
       "0               21            39            28            77  \n",
       "1               53            43            33            30  \n",
       "2               21            26            34            25  \n",
       "3               43            83            65            53  \n",
       "4               38            25            43            43  \n",
       "...            ...           ...           ...           ...  \n",
       "1995            50            25            38            53  \n",
       "1996            39            31            30            38  \n",
       "1997            75            40            23            54  \n",
       "1998            41            34            44            42  \n",
       "1999            24            35            57            42  \n",
       "\n",
       "[2000 rows x 1500 columns]"
      ]
     },
     "execution_count": 181,
     "metadata": {},
     "output_type": "execute_result"
    }
   ],
   "source": [
    "for i in range(total_de_muestras):\n",
    "    _ = datos.Edad.sample(n)\n",
    "    _.index = range(0, len(_))\n",
    "    muestras['Muestra_' + str(i)] = _\n",
    "\n",
    "muestras"
   ]
  },
  {
   "cell_type": "code",
   "execution_count": 182,
   "metadata": {
    "colab": {
     "base_uri": "https://localhost:8080/",
     "height": 458
    },
    "executionInfo": {
     "elapsed": 36,
     "status": "ok",
     "timestamp": 1751828769170,
     "user": {
      "displayName": "Elias Celis",
      "userId": "07132738901482165301"
     },
     "user_tz": 240
    },
    "id": "v5Q-rnS_izNd",
    "outputId": "b1a9d397-54f0-48d4-974e-cc41108f2674",
    "scrolled": true
   },
   "outputs": [
    {
     "data": {
      "text/html": [
       "<div>\n",
       "<style scoped>\n",
       "    .dataframe tbody tr th:only-of-type {\n",
       "        vertical-align: middle;\n",
       "    }\n",
       "\n",
       "    .dataframe tbody tr th {\n",
       "        vertical-align: top;\n",
       "    }\n",
       "\n",
       "    .dataframe thead th {\n",
       "        text-align: right;\n",
       "    }\n",
       "</style>\n",
       "<table border=\"1\" class=\"dataframe\">\n",
       "  <thead>\n",
       "    <tr style=\"text-align: right;\">\n",
       "      <th></th>\n",
       "      <th>0</th>\n",
       "    </tr>\n",
       "  </thead>\n",
       "  <tbody>\n",
       "    <tr>\n",
       "      <th>Muestra_0</th>\n",
       "      <td>44.1720</td>\n",
       "    </tr>\n",
       "    <tr>\n",
       "      <th>Muestra_1</th>\n",
       "      <td>43.9775</td>\n",
       "    </tr>\n",
       "    <tr>\n",
       "      <th>Muestra_2</th>\n",
       "      <td>43.9205</td>\n",
       "    </tr>\n",
       "    <tr>\n",
       "      <th>Muestra_3</th>\n",
       "      <td>44.5715</td>\n",
       "    </tr>\n",
       "    <tr>\n",
       "      <th>Muestra_4</th>\n",
       "      <td>43.9105</td>\n",
       "    </tr>\n",
       "    <tr>\n",
       "      <th>...</th>\n",
       "      <td>...</td>\n",
       "    </tr>\n",
       "    <tr>\n",
       "      <th>Muestra_1495</th>\n",
       "      <td>44.2075</td>\n",
       "    </tr>\n",
       "    <tr>\n",
       "      <th>Muestra_1496</th>\n",
       "      <td>43.8695</td>\n",
       "    </tr>\n",
       "    <tr>\n",
       "      <th>Muestra_1497</th>\n",
       "      <td>44.0555</td>\n",
       "    </tr>\n",
       "    <tr>\n",
       "      <th>Muestra_1498</th>\n",
       "      <td>44.0880</td>\n",
       "    </tr>\n",
       "    <tr>\n",
       "      <th>Muestra_1499</th>\n",
       "      <td>43.8260</td>\n",
       "    </tr>\n",
       "  </tbody>\n",
       "</table>\n",
       "<p>1500 rows × 1 columns</p>\n",
       "</div><br><label><b>dtype:</b> float64</label>"
      ],
      "text/plain": [
       "Muestra_0       44.1720\n",
       "Muestra_1       43.9775\n",
       "Muestra_2       43.9205\n",
       "Muestra_3       44.5715\n",
       "Muestra_4       43.9105\n",
       "                 ...   \n",
       "Muestra_1495    44.2075\n",
       "Muestra_1496    43.8695\n",
       "Muestra_1497    44.0555\n",
       "Muestra_1498    44.0880\n",
       "Muestra_1499    43.8260\n",
       "Length: 1500, dtype: float64"
      ]
     },
     "execution_count": 182,
     "metadata": {},
     "output_type": "execute_result"
    }
   ],
   "source": [
    "muestras.mean()"
   ]
  },
  {
   "cell_type": "markdown",
   "metadata": {
    "id": "JfgEBDx0jDzf"
   },
   "source": [
    "> El **Teorema Central del Límite** establece que, con el aumento del tamaño de la muestra, la distribución de las medias muestrales se aproxima a una distribución normal con media igual a la media de la población y una desviación estándar igual a la desviación estándar de la variable original dividida por la raíz cuadrada del tamaño de la muestra. Este hecho está asegurado para $n$ mayores o iguales a 30."
   ]
  },
  {
   "cell_type": "code",
   "execution_count": 183,
   "metadata": {
    "colab": {
     "base_uri": "https://localhost:8080/",
     "height": 447
    },
    "executionInfo": {
     "elapsed": 266,
     "status": "ok",
     "timestamp": 1751828769437,
     "user": {
      "displayName": "Elias Celis",
      "userId": "07132738901482165301"
     },
     "user_tz": 240
    },
    "id": "NBPGDBJ3VeBw",
    "outputId": "a1d0bf2d-697d-47ab-9b51-9ab444adfb5c"
   },
   "outputs": [
    {
     "data": {
      "text/plain": [
       "<Axes: >"
      ]
     },
     "execution_count": 183,
     "metadata": {},
     "output_type": "execute_result"
    },
    {
     "data": {
      "image/png": "[encoded data removed]",
      "text/plain": [
       "<Figure size 640x480 with 1 Axes>"
      ]
     },
     "metadata": {},
     "output_type": "display_data"
    }
   ],
   "source": [
    "muestras.mean().hist()"
   ]
  },
  {
   "cell_type": "markdown",
   "metadata": {
    "id": "_A4RKStwjkLI"
   },
   "source": [
    "> El **Teorema Central del Límite** establece que, con el aumento del tamaño de la muestra, la distribución de las medias muestrales se aproxima a una distribución normal con media igual a la media de la población y una desviación estándar igual a la desviación estándar de la variable original dividida por la raíz cuadrada del tamaño de la muestra. Este hecho está asegurado para $n$ mayores o iguales a 30."
   ]
  },
  {
   "cell_type": "code",
   "execution_count": 184,
   "metadata": {
    "colab": {
     "base_uri": "https://localhost:8080/"
    },
    "executionInfo": {
     "elapsed": 5,
     "status": "ok",
     "timestamp": 1751828769437,
     "user": {
      "displayName": "Elias Celis",
      "userId": "07132738901482165301"
     },
     "user_tz": 240
    },
    "id": "vXE-UOj_izGZ",
    "outputId": "753ae56e-750f-4190-881f-945bba217f03"
   },
   "outputs": [
    {
     "data": {
      "text/plain": [
       "np.float64(44.07142113482561)"
      ]
     },
     "execution_count": 184,
     "metadata": {},
     "output_type": "execute_result"
    }
   ],
   "source": [
    "datos.Edad.mean()"
   ]
  },
  {
   "cell_type": "code",
   "execution_count": 185,
   "metadata": {
    "colab": {
     "base_uri": "https://localhost:8080/"
    },
    "executionInfo": {
     "elapsed": 53,
     "status": "ok",
     "timestamp": 1751828769489,
     "user": {
      "displayName": "Elias Celis",
      "userId": "07132738901482165301"
     },
     "user_tz": 240
    },
    "id": "bahA7_WYizC6",
    "outputId": "f4537343-dbb4-4f14-a1ad-e230e7fd7c12"
   },
   "outputs": [
    {
     "data": {
      "text/plain": [
       "np.float64(44.077284999999996)"
      ]
     },
     "execution_count": 185,
     "metadata": {},
     "output_type": "execute_result"
    }
   ],
   "source": [
    "muestras.mean().mean()"
   ]
  },
  {
   "cell_type": "markdown",
   "metadata": {
    "id": "7lIWJCAKlPmA"
   },
   "source": [
    "> El **Teorema Central del Límite** establece que, con el aumento del tamaño de la muestra, la distribución de las medias muestrales se aproxima a una distribución normal con media igual a la media de la población y una desviación estándar igual a la desviación estándar de la variable original dividida por la raíz cuadrada del tamaño de la muestra. Este hecho está asegurado para $n$ mayores o iguales a 30.\n",
    "\n",
    "## $$\\sigma_\\bar{x} = \\frac{\\sigma}{\\sqrt{n}}$$"
   ]
  },
  {
   "cell_type": "code",
   "execution_count": 186,
   "metadata": {
    "colab": {
     "base_uri": "https://localhost:8080/"
    },
    "executionInfo": {
     "elapsed": 71,
     "status": "ok",
     "timestamp": 1751828769560,
     "user": {
      "displayName": "Elias Celis",
      "userId": "07132738901482165301"
     },
     "user_tz": 240
    },
    "id": "qKrG0zqhVNzn",
    "outputId": "5cf4c60b-af88-43be-a2e3-088a70d80b73"
   },
   "outputs": [
    {
     "data": {
      "text/plain": [
       "0.273391799424065"
      ]
     },
     "execution_count": 186,
     "metadata": {},
     "output_type": "execute_result"
    }
   ],
   "source": [
    "muestras.mean().std()"
   ]
  },
  {
   "cell_type": "code",
   "execution_count": 187,
   "metadata": {
    "colab": {
     "base_uri": "https://localhost:8080/"
    },
    "executionInfo": {
     "elapsed": 8,
     "status": "ok",
     "timestamp": 1751828769575,
     "user": {
      "displayName": "Elias Celis",
      "userId": "07132738901482165301"
     },
     "user_tz": 240
    },
    "id": "83ILp8Quiy_W",
    "outputId": "0f671dea-71c4-4d4c-b3da-3848cb75573e"
   },
   "outputs": [
    {
     "data": {
      "text/plain": [
       "12.480583465360187"
      ]
     },
     "execution_count": 187,
     "metadata": {},
     "output_type": "execute_result"
    }
   ],
   "source": [
    "datos.Edad.std()"
   ]
  },
  {
   "cell_type": "code",
   "execution_count": 188,
   "metadata": {
    "colab": {
     "base_uri": "https://localhost:8080/"
    },
    "executionInfo": {
     "elapsed": 51,
     "status": "ok",
     "timestamp": 1751828769627,
     "user": {
      "displayName": "Elias Celis",
      "userId": "07132738901482165301"
     },
     "user_tz": 240
    },
    "id": "IQ7wC-Nkiy75",
    "outputId": "1a383ae9-5b88-4dd7-cab3-56d7b950a876"
   },
   "outputs": [
    {
     "data": {
      "text/plain": [
       "np.float64(0.2790743302740527)"
      ]
     },
     "execution_count": 188,
     "metadata": {},
     "output_type": "execute_result"
    }
   ],
   "source": [
    "datos.Edad.std() / np.sqrt(n)"
   ]
  },
  {
   "cell_type": "markdown",
   "metadata": {
    "id": "ku8CE67iG3Ge"
   },
   "source": [
    "## <font color=green>4.2 Los niveles de confianza y significación</font>\n",
    "***"
   ]
  },
  {
   "cell_type": "markdown",
   "metadata": {
    "id": "mk6ZsvgyG3Gf"
   },
   "source": [
    "El **nivel de confianza** ($1 - \\alpha$) representa la probabilidad de que la estimación sea correcta. Además, el **nivel de significancia** ($\\alpha$) expresa la probabilidad de error de la estimación.\n",
    "\n",
    "El **nivel de confianza** representa el grado de confiabilidad del resultado estimado dentro de un cierto rango. Cuando establecemos un **nivel de confianza del 95%** en una encuesta, por ejemplo, estamos asumiendo que existe una probabilidad del 95% de que los resultados de la encuesta representen bien la realidad, es decir, sean correctos.\n",
    "\n",
    "El **nivel de confianza** de una estimación se puede obtener del área bajo la curva normal como se muestra en la figura siguiente."
   ]
  },
  {
   "cell_type": "markdown",
   "metadata": {
    "id": "WeGyDfvaG3Gg"
   },
   "source": [
    "<img src='https://caelum-online-public.s3.amazonaws.com/ESP-1764-estadistica-con-python-probabilidad-y-muestreo/img007.png' width='450px'>\n"
   ]
  },
  {
   "cell_type": "markdown",
   "metadata": {
    "id": "AN8WDZ-HG3Gi"
   },
   "source": [
    "## <font color=green>4.3 Error inferencial</font>\n",
    "***"
   ]
  },
  {
   "cell_type": "markdown",
   "metadata": {
    "id": "tk-TwhhfG3Gi"
   },
   "source": [
    "El **error inferencial** se define por la **desviación estándar de las medias muestrales** $\\sigma_\\bar{x}$ y por el **nivel de confianza** determinado para el proceso."
   ]
  },
  {
   "cell_type": "markdown",
   "metadata": {
    "id": "H5GlCGJ3nK-T"
   },
   "source": [
    "\n",
    "## $$e = z \\frac{\\sigma}{\\sqrt{n}}$$"
   ]
  },
  {
   "cell_type": "markdown",
   "metadata": {
    "id": "ELbWQW4sG3HS"
   },
   "source": [
    "## <font color=green>4.4 Intervalos de confianza</font>\n",
    "***"
   ]
  },
  {
   "cell_type": "markdown",
   "metadata": {
    "id": "-r6EMnH-G3HT"
   },
   "source": [
    "### Intervalo de confianza para la media poblacional"
   ]
  },
  {
   "cell_type": "markdown",
   "metadata": {
    "id": "QWgBFeRnG3HT"
   },
   "source": [
    "#### Con desviación estándar poblacional conocida\n",
    "\n",
    "## $$\\mu = \\bar{x} \\pm z\\frac{\\sigma}{\\sqrt{n}}$$\n",
    "\n",
    "#### Con desviación estándar de población desconocida\n",
    "\n",
    "## $$\\mu = \\bar{x} \\pm z\\frac{s}{\\sqrt{n}}$$"
   ]
  },
  {
   "cell_type": "markdown",
   "metadata": {
    "id": "R2qqLneeG3HT"
   },
   "source": [
    "## <font color='blue'>Ejemplo: </font>"
   ]
  },
  {
   "cell_type": "markdown",
   "metadata": {
    "id": "AgnrFjdMG3HT"
   },
   "source": [
    "Suponga que los pesos de las bolsas de arroz de una industria alimentaria se distribuyen aproximadamente como una población normal con **desviación estándar igual a 150 g**. Se seleccionó una **muestra aleatoria de 20 bolsas** de un lote específico, se obtuvo un **peso promedio de 5.050 g**. Construya un intervalo de confianza para el **promedio de la población** asumiendo un **nivel de significancia del 5%**."
   ]
  },
  {
   "cell_type": "markdown",
   "metadata": {
    "id": "LpGQGksTG3HU"
   },
   "source": [
    "### Media muestral"
   ]
  },
  {
   "cell_type": "code",
   "execution_count": 189,
   "metadata": {
    "colab": {
     "base_uri": "https://localhost:8080/"
    },
    "executionInfo": {
     "elapsed": 21,
     "status": "ok",
     "timestamp": 1751828769628,
     "user": {
      "displayName": "Elias Celis",
      "userId": "07132738901482165301"
     },
     "user_tz": 240
    },
    "id": "aF2QQ0z3G3HU",
    "outputId": "6b2872b0-58f7-4a79-d975-03e1b787c3e4"
   },
   "outputs": [
    {
     "data": {
      "text/plain": [
       "np.float64(1998.783)"
      ]
     },
     "execution_count": 189,
     "metadata": {},
     "output_type": "execute_result"
    }
   ],
   "source": [
    "media_muestral = 5050\n",
    "media_muestra"
   ]
  },
  {
   "cell_type": "markdown",
   "metadata": {
    "id": "Jly1bVP9G3HY"
   },
   "source": [
    "### Nivel de significancia ($\\alpha$)"
   ]
  },
  {
   "cell_type": "code",
   "execution_count": 190,
   "metadata": {
    "colab": {
     "base_uri": "https://localhost:8080/"
    },
    "executionInfo": {
     "elapsed": 5,
     "status": "ok",
     "timestamp": 1751828769628,
     "user": {
      "displayName": "Elias Celis",
      "userId": "07132738901482165301"
     },
     "user_tz": 240
    },
    "id": "BzIgN3C7G3HY",
    "outputId": "40f4e817-f52e-4ca6-f66f-dc272a9a6879"
   },
   "outputs": [
    {
     "data": {
      "text/plain": [
       "0.05"
      ]
     },
     "execution_count": 190,
     "metadata": {},
     "output_type": "execute_result"
    }
   ],
   "source": [
    "significancia = 0.05\n",
    "significancia"
   ]
  },
  {
   "cell_type": "markdown",
   "metadata": {
    "id": "SrZAbQRKG3Ha"
   },
   "source": [
    "### Nivel de confianza ($1 - \\alpha$)"
   ]
  },
  {
   "cell_type": "code",
   "execution_count": 191,
   "metadata": {
    "colab": {
     "base_uri": "https://localhost:8080/"
    },
    "executionInfo": {
     "elapsed": 5,
     "status": "ok",
     "timestamp": 1751828769632,
     "user": {
      "displayName": "Elias Celis",
      "userId": "07132738901482165301"
     },
     "user_tz": 240
    },
    "id": "1JeWXwA6G3Ha",
    "outputId": "6bcbc930-0383-4325-ecc5-6c5173c6ddd3"
   },
   "outputs": [
    {
     "data": {
      "text/plain": [
       "0.95"
      ]
     },
     "execution_count": 191,
     "metadata": {},
     "output_type": "execute_result"
    }
   ],
   "source": [
    "confianza = 1 - significancia\n",
    "confianza"
   ]
  },
  {
   "cell_type": "markdown",
   "metadata": {
    "id": "mZoUFr1nG3Hf"
   },
   "source": [
    "### Obteniendo $z$"
   ]
  },
  {
   "cell_type": "code",
   "execution_count": 192,
   "metadata": {
    "colab": {
     "base_uri": "https://localhost:8080/",
     "height": 363
    },
    "executionInfo": {
     "elapsed": 14,
     "status": "ok",
     "timestamp": 1751828769658,
     "user": {
      "displayName": "Elias Celis",
      "userId": "07132738901482165301"
     },
     "user_tz": 240
    },
    "id": "f9IMOwY2Xeva",
    "outputId": "af44cfe6-b5c3-40cb-9108-8fc7a4be8fb6"
   },
   "outputs": [
    {
     "data": {
      "application/vnd.google.colaboratory.intrinsic+json": {
       "summary": "{\n  \"name\": \"tabla_normal_estandarizada[16:26]\",\n  \"rows\": 10,\n  \"fields\": [\n    {\n      \"column\": \"0.00\",\n      \"properties\": {\n        \"dtype\": \"string\",\n        \"num_unique_values\": 10,\n        \"samples\": [\n          \"0.9918\",\n          \"0.9554\",\n          \"0.9821\"\n        ],\n        \"semantic_type\": \"\",\n        \"description\": \"\"\n      }\n    },\n    {\n      \"column\": \"0.01\",\n      \"properties\": {\n        \"dtype\": \"string\",\n        \"num_unique_values\": 10,\n        \"samples\": [\n          \"0.9920\",\n          \"0.9564\",\n          \"0.9826\"\n        ],\n        \"semantic_type\": \"\",\n        \"description\": \"\"\n      }\n    },\n    {\n      \"column\": \"0.02\",\n      \"properties\": {\n        \"dtype\": \"string\",\n        \"num_unique_values\": 10,\n        \"samples\": [\n          \"0.9922\",\n          \"0.9573\",\n          \"0.9830\"\n        ],\n        \"semantic_type\": \"\",\n        \"description\": \"\"\n      }\n    },\n    {\n      \"column\": \"0.03\",\n      \"properties\": {\n        \"dtype\": \"string\",\n        \"num_unique_values\": 10,\n        \"samples\": [\n          \"0.9925\",\n          \"0.9582\",\n          \"0.9834\"\n        ],\n        \"semantic_type\": \"\",\n        \"description\": \"\"\n      }\n    },\n    {\n      \"column\": \"0.04\",\n      \"properties\": {\n        \"dtype\": \"string\",\n        \"num_unique_values\": 10,\n        \"samples\": [\n          \"0.9927\",\n          \"0.9591\",\n          \"0.9838\"\n        ],\n        \"semantic_type\": \"\",\n        \"description\": \"\"\n      }\n    },\n    {\n      \"column\": \"0.05\",\n      \"properties\": {\n        \"dtype\": \"string\",\n        \"num_unique_values\": 10,\n        \"samples\": [\n          \"0.9929\",\n          \"0.9599\",\n          \"0.9842\"\n        ],\n        \"semantic_type\": \"\",\n        \"description\": \"\"\n      }\n    },\n    {\n      \"column\": \"0.06\",\n      \"properties\": {\n        \"dtype\": \"string\",\n        \"num_unique_values\": 10,\n        \"samples\": [\n          \"0.9931\",\n          \"0.9608\",\n          \"0.9846\"\n        ],\n        \"semantic_type\": \"\",\n        \"description\": \"\"\n      }\n    },\n    {\n      \"column\": \"0.07\",\n      \"properties\": {\n        \"dtype\": \"string\",\n        \"num_unique_values\": 10,\n        \"samples\": [\n          \"0.9932\",\n          \"0.9616\",\n          \"0.9850\"\n        ],\n        \"semantic_type\": \"\",\n        \"description\": \"\"\n      }\n    },\n    {\n      \"column\": \"0.08\",\n      \"properties\": {\n        \"dtype\": \"string\",\n        \"num_unique_values\": 10,\n        \"samples\": [\n          \"0.9934\",\n          \"0.9625\",\n          \"0.9854\"\n        ],\n        \"semantic_type\": \"\",\n        \"description\": \"\"\n      }\n    },\n    {\n      \"column\": \"0.09\",\n      \"properties\": {\n        \"dtype\": \"string\",\n        \"num_unique_values\": 10,\n        \"samples\": [\n          \"0.9936\",\n          \"0.9633\",\n          \"0.9857\"\n        ],\n        \"semantic_type\": \"\",\n        \"description\": \"\"\n      }\n    }\n  ]\n}",
       "type": "dataframe"
      },
      "text/html": [
       "\n",
       "  <div id=\"df-bac1ce32-4fa2-4837-8c1b-d398fa7939b2\" class=\"colab-df-container\">\n",
       "    <div>\n",
       "<style scoped>\n",
       "    .dataframe tbody tr th:only-of-type {\n",
       "        vertical-align: middle;\n",
       "    }\n",
       "\n",
       "    .dataframe tbody tr th {\n",
       "        vertical-align: top;\n",
       "    }\n",
       "\n",
       "    .dataframe thead th {\n",
       "        text-align: right;\n",
       "    }\n",
       "</style>\n",
       "<table border=\"1\" class=\"dataframe\">\n",
       "  <thead>\n",
       "    <tr style=\"text-align: right;\">\n",
       "      <th>Z</th>\n",
       "      <th>0.00</th>\n",
       "      <th>0.01</th>\n",
       "      <th>0.02</th>\n",
       "      <th>0.03</th>\n",
       "      <th>0.04</th>\n",
       "      <th>0.05</th>\n",
       "      <th>0.06</th>\n",
       "      <th>0.07</th>\n",
       "      <th>0.08</th>\n",
       "      <th>0.09</th>\n",
       "    </tr>\n",
       "  </thead>\n",
       "  <tbody>\n",
       "    <tr>\n",
       "      <th>1.60</th>\n",
       "      <td>0.9452</td>\n",
       "      <td>0.9463</td>\n",
       "      <td>0.9474</td>\n",
       "      <td>0.9484</td>\n",
       "      <td>0.9495</td>\n",
       "      <td>0.9505</td>\n",
       "      <td>0.9515</td>\n",
       "      <td>0.9525</td>\n",
       "      <td>0.9535</td>\n",
       "      <td>0.9545</td>\n",
       "    </tr>\n",
       "    <tr>\n",
       "      <th>1.70</th>\n",
       "      <td>0.9554</td>\n",
       "      <td>0.9564</td>\n",
       "      <td>0.9573</td>\n",
       "      <td>0.9582</td>\n",
       "      <td>0.9591</td>\n",
       "      <td>0.9599</td>\n",
       "      <td>0.9608</td>\n",
       "      <td>0.9616</td>\n",
       "      <td>0.9625</td>\n",
       "      <td>0.9633</td>\n",
       "    </tr>\n",
       "    <tr>\n",
       "      <th>1.80</th>\n",
       "      <td>0.9641</td>\n",
       "      <td>0.9649</td>\n",
       "      <td>0.9656</td>\n",
       "      <td>0.9664</td>\n",
       "      <td>0.9671</td>\n",
       "      <td>0.9678</td>\n",
       "      <td>0.9686</td>\n",
       "      <td>0.9693</td>\n",
       "      <td>0.9699</td>\n",
       "      <td>0.9706</td>\n",
       "    </tr>\n",
       "    <tr>\n",
       "      <th>1.90</th>\n",
       "      <td>0.9713</td>\n",
       "      <td>0.9719</td>\n",
       "      <td>0.9726</td>\n",
       "      <td>0.9732</td>\n",
       "      <td>0.9738</td>\n",
       "      <td>0.9744</td>\n",
       "      <td>0.9750</td>\n",
       "      <td>0.9756</td>\n",
       "      <td>0.9761</td>\n",
       "      <td>0.9767</td>\n",
       "    </tr>\n",
       "    <tr>\n",
       "      <th>2.00</th>\n",
       "      <td>0.9772</td>\n",
       "      <td>0.9778</td>\n",
       "      <td>0.9783</td>\n",
       "      <td>0.9788</td>\n",
       "      <td>0.9793</td>\n",
       "      <td>0.9798</td>\n",
       "      <td>0.9803</td>\n",
       "      <td>0.9808</td>\n",
       "      <td>0.9812</td>\n",
       "      <td>0.9817</td>\n",
       "    </tr>\n",
       "    <tr>\n",
       "      <th>2.10</th>\n",
       "      <td>0.9821</td>\n",
       "      <td>0.9826</td>\n",
       "      <td>0.9830</td>\n",
       "      <td>0.9834</td>\n",
       "      <td>0.9838</td>\n",
       "      <td>0.9842</td>\n",
       "      <td>0.9846</td>\n",
       "      <td>0.9850</td>\n",
       "      <td>0.9854</td>\n",
       "      <td>0.9857</td>\n",
       "    </tr>\n",
       "    <tr>\n",
       "      <th>2.20</th>\n",
       "      <td>0.9861</td>\n",
       "      <td>0.9864</td>\n",
       "      <td>0.9868</td>\n",
       "      <td>0.9871</td>\n",
       "      <td>0.9875</td>\n",
       "      <td>0.9878</td>\n",
       "      <td>0.9881</td>\n",
       "      <td>0.9884</td>\n",
       "      <td>0.9887</td>\n",
       "      <td>0.9890</td>\n",
       "    </tr>\n",
       "    <tr>\n",
       "      <th>2.30</th>\n",
       "      <td>0.9893</td>\n",
       "      <td>0.9896</td>\n",
       "      <td>0.9898</td>\n",
       "      <td>0.9901</td>\n",
       "      <td>0.9904</td>\n",
       "      <td>0.9906</td>\n",
       "      <td>0.9909</td>\n",
       "      <td>0.9911</td>\n",
       "      <td>0.9913</td>\n",
       "      <td>0.9916</td>\n",
       "    </tr>\n",
       "    <tr>\n",
       "      <th>2.40</th>\n",
       "      <td>0.9918</td>\n",
       "      <td>0.9920</td>\n",
       "      <td>0.9922</td>\n",
       "      <td>0.9925</td>\n",
       "      <td>0.9927</td>\n",
       "      <td>0.9929</td>\n",
       "      <td>0.9931</td>\n",
       "      <td>0.9932</td>\n",
       "      <td>0.9934</td>\n",
       "      <td>0.9936</td>\n",
       "    </tr>\n",
       "    <tr>\n",
       "      <th>2.50</th>\n",
       "      <td>0.9938</td>\n",
       "      <td>0.9940</td>\n",
       "      <td>0.9941</td>\n",
       "      <td>0.9943</td>\n",
       "      <td>0.9945</td>\n",
       "      <td>0.9946</td>\n",
       "      <td>0.9948</td>\n",
       "      <td>0.9949</td>\n",
       "      <td>0.9951</td>\n",
       "      <td>0.9952</td>\n",
       "    </tr>\n",
       "  </tbody>\n",
       "</table>\n",
       "</div>\n",
       "    <div class=\"colab-df-buttons\">\n",
       "\n",
       "  <div class=\"colab-df-container\">\n",
       "    <button class=\"colab-df-convert\" onclick=\"convertToInteractive('df-bac1ce32-4fa2-4837-8c1b-d398fa7939b2')\"\n",
       "            title=\"Convert this dataframe to an interactive table.\"\n",
       "            style=\"display:none;\">\n",
       "\n",
       "  <svg xmlns=\"http://www.w3.org/2000/svg\" height=\"24px\" viewBox=\"0 -960 960 960\">\n",
       "    <path d=\"M120-120v-720h720v720H120Zm60-500h600v-160H180v160Zm220 220h160v-160H400v160Zm0 220h160v-160H400v160ZM180-400h160v-160H180v160Zm440 0h160v-160H620v160ZM180-180h160v-160H180v160Zm440 0h160v-160H620v160Z\"/>\n",
       "  </svg>\n",
       "    </button>\n",
       "\n",
       "  <style>\n",
       "    .colab-df-container {\n",
       "      display:flex;\n",
       "      gap: 12px;\n",
       "    }\n",
       "\n",
       "    .colab-df-convert {\n",
       "      background-color: #E8F0FE;\n",
       "      border: none;\n",
       "      border-radius: 50%;\n",
       "      cursor: pointer;\n",
       "      display: none;\n",
       "      fill: #1967D2;\n",
       "      height: 32px;\n",
       "      padding: 0 0 0 0;\n",
       "      width: 32px;\n",
       "    }\n",
       "\n",
       "    .colab-df-convert:hover {\n",
       "      background-color: #E2EBFA;\n",
       "      box-shadow: 0px 1px 2px rgba(60, 64, 67, 0.3), 0px 1px 3px 1px rgba(60, 64, 67, 0.15);\n",
       "      fill: #174EA6;\n",
       "    }\n",
       "\n",
       "    .colab-df-buttons div {\n",
       "      margin-bottom: 4px;\n",
       "    }\n",
       "\n",
       "    [theme=dark] .colab-df-convert {\n",
       "      background-color: #3B4455;\n",
       "      fill: #D2E3FC;\n",
       "    }\n",
       "\n",
       "    [theme=dark] .colab-df-convert:hover {\n",
       "      background-color: #434B5C;\n",
       "      box-shadow: 0px 1px 3px 1px rgba(0, 0, 0, 0.15);\n",
       "      filter: drop-shadow(0px 1px 2px rgba(0, 0, 0, 0.3));\n",
       "      fill: #FFFFFF;\n",
       "    }\n",
       "  </style>\n",
       "\n",
       "    <script>\n",
       "      const buttonEl =\n",
       "        document.querySelector('#df-bac1ce32-4fa2-4837-8c1b-d398fa7939b2 button.colab-df-convert');\n",
       "      buttonEl.style.display =\n",
       "        google.colab.kernel.accessAllowed ? 'block' : 'none';\n",
       "\n",
       "      async function convertToInteractive(key) {\n",
       "        const element = document.querySelector('#df-bac1ce32-4fa2-4837-8c1b-d398fa7939b2');\n",
       "        const dataTable =\n",
       "          await google.colab.kernel.invokeFunction('convertToInteractive',\n",
       "                                                    [key], {});\n",
       "        if (!dataTable) return;\n",
       "\n",
       "        const docLinkHtml = 'Like what you see? Visit the ' +\n",
       "          '<a target=\"_blank\" href=https://colab.research.google.com/notebooks/data_table.ipynb>data table notebook</a>'\n",
       "          + ' to learn more about interactive tables.';\n",
       "        element.innerHTML = '';\n",
       "        dataTable['output_type'] = 'display_data';\n",
       "        await google.colab.output.renderOutput(dataTable, element);\n",
       "        const docLink = document.createElement('div');\n",
       "        docLink.innerHTML = docLinkHtml;\n",
       "        element.appendChild(docLink);\n",
       "      }\n",
       "    </script>\n",
       "  </div>\n",
       "\n",
       "\n",
       "    <div id=\"df-23afc271-c537-4ebc-9303-b4beec8cb043\">\n",
       "      <button class=\"colab-df-quickchart\" onclick=\"quickchart('df-23afc271-c537-4ebc-9303-b4beec8cb043')\"\n",
       "                title=\"Suggest charts\"\n",
       "                style=\"display:none;\">\n",
       "\n",
       "<svg xmlns=\"http://www.w3.org/2000/svg\" height=\"24px\"viewBox=\"0 0 24 24\"\n",
       "     width=\"24px\">\n",
       "    <g>\n",
       "        <path d=\"M19 3H5c-1.1 0-2 .9-2 2v14c0 1.1.9 2 2 2h14c1.1 0 2-.9 2-2V5c0-1.1-.9-2-2-2zM9 17H7v-7h2v7zm4 0h-2V7h2v10zm4 0h-2v-4h2v4z\"/>\n",
       "    </g>\n",
       "</svg>\n",
       "      </button>\n",
       "\n",
       "<style>\n",
       "  .colab-df-quickchart {\n",
       "      --bg-color: #E8F0FE;\n",
       "      --fill-color: #1967D2;\n",
       "      --hover-bg-color: #E2EBFA;\n",
       "      --hover-fill-color: #174EA6;\n",
       "      --disabled-fill-color: #AAA;\n",
       "      --disabled-bg-color: #DDD;\n",
       "  }\n",
       "\n",
       "  [theme=dark] .colab-df-quickchart {\n",
       "      --bg-color: #3B4455;\n",
       "      --fill-color: #D2E3FC;\n",
       "      --hover-bg-color: #434B5C;\n",
       "      --hover-fill-color: #FFFFFF;\n",
       "      --disabled-bg-color: #3B4455;\n",
       "      --disabled-fill-color: #666;\n",
       "  }\n",
       "\n",
       "  .colab-df-quickchart {\n",
       "    background-color: var(--bg-color);\n",
       "    border: none;\n",
       "    border-radius: 50%;\n",
       "    cursor: pointer;\n",
       "    display: none;\n",
       "    fill: var(--fill-color);\n",
       "    height: 32px;\n",
       "    padding: 0;\n",
       "    width: 32px;\n",
       "  }\n",
       "\n",
       "  .colab-df-quickchart:hover {\n",
       "    background-color: var(--hover-bg-color);\n",
       "    box-shadow: 0 1px 2px rgba(60, 64, 67, 0.3), 0 1px 3px 1px rgba(60, 64, 67, 0.15);\n",
       "    fill: var(--button-hover-fill-color);\n",
       "  }\n",
       "\n",
       "  .colab-df-quickchart-complete:disabled,\n",
       "  .colab-df-quickchart-complete:disabled:hover {\n",
       "    background-color: var(--disabled-bg-color);\n",
       "    fill: var(--disabled-fill-color);\n",
       "    box-shadow: none;\n",
       "  }\n",
       "\n",
       "  .colab-df-spinner {\n",
       "    border: 2px solid var(--fill-color);\n",
       "    border-color: transparent;\n",
       "    border-bottom-color: var(--fill-color);\n",
       "    animation:\n",
       "      spin 1s steps(1) infinite;\n",
       "  }\n",
       "\n",
       "  @keyframes spin {\n",
       "    0% {\n",
       "      border-color: transparent;\n",
       "      border-bottom-color: var(--fill-color);\n",
       "      border-left-color: var(--fill-color);\n",
       "    }\n",
       "    20% {\n",
       "      border-color: transparent;\n",
       "      border-left-color: var(--fill-color);\n",
       "      border-top-color: var(--fill-color);\n",
       "    }\n",
       "    30% {\n",
       "      border-color: transparent;\n",
       "      border-left-color: var(--fill-color);\n",
       "      border-top-color: var(--fill-color);\n",
       "      border-right-color: var(--fill-color);\n",
       "    }\n",
       "    40% {\n",
       "      border-color: transparent;\n",
       "      border-right-color: var(--fill-color);\n",
       "      border-top-color: var(--fill-color);\n",
       "    }\n",
       "    60% {\n",
       "      border-color: transparent;\n",
       "      border-right-color: var(--fill-color);\n",
       "    }\n",
       "    80% {\n",
       "      border-color: transparent;\n",
       "      border-right-color: var(--fill-color);\n",
       "      border-bottom-color: var(--fill-color);\n",
       "    }\n",
       "    90% {\n",
       "      border-color: transparent;\n",
       "      border-bottom-color: var(--fill-color);\n",
       "    }\n",
       "  }\n",
       "</style>\n",
       "\n",
       "      <script>\n",
       "        async function quickchart(key) {\n",
       "          const quickchartButtonEl =\n",
       "            document.querySelector('#' + key + ' button');\n",
       "          quickchartButtonEl.disabled = true;  // To prevent multiple clicks.\n",
       "          quickchartButtonEl.classList.add('colab-df-spinner');\n",
       "          try {\n",
       "            const charts = await google.colab.kernel.invokeFunction(\n",
       "                'suggestCharts', [key], {});\n",
       "          } catch (error) {\n",
       "            console.error('Error during call to suggestCharts:', error);\n",
       "          }\n",
       "          quickchartButtonEl.classList.remove('colab-df-spinner');\n",
       "          quickchartButtonEl.classList.add('colab-df-quickchart-complete');\n",
       "        }\n",
       "        (() => {\n",
       "          let quickchartButtonEl =\n",
       "            document.querySelector('#df-23afc271-c537-4ebc-9303-b4beec8cb043 button');\n",
       "          quickchartButtonEl.style.display =\n",
       "            google.colab.kernel.accessAllowed ? 'block' : 'none';\n",
       "        })();\n",
       "      </script>\n",
       "    </div>\n",
       "\n",
       "    </div>\n",
       "  </div>\n"
      ],
      "text/plain": [
       "Z       0.00    0.01    0.02    0.03    0.04    0.05    0.06    0.07    0.08  \\\n",
       "1.60  0.9452  0.9463  0.9474  0.9484  0.9495  0.9505  0.9515  0.9525  0.9535   \n",
       "1.70  0.9554  0.9564  0.9573  0.9582  0.9591  0.9599  0.9608  0.9616  0.9625   \n",
       "1.80  0.9641  0.9649  0.9656  0.9664  0.9671  0.9678  0.9686  0.9693  0.9699   \n",
       "1.90  0.9713  0.9719  0.9726  0.9732  0.9738  0.9744  0.9750  0.9756  0.9761   \n",
       "2.00  0.9772  0.9778  0.9783  0.9788  0.9793  0.9798  0.9803  0.9808  0.9812   \n",
       "2.10  0.9821  0.9826  0.9830  0.9834  0.9838  0.9842  0.9846  0.9850  0.9854   \n",
       "2.20  0.9861  0.9864  0.9868  0.9871  0.9875  0.9878  0.9881  0.9884  0.9887   \n",
       "2.30  0.9893  0.9896  0.9898  0.9901  0.9904  0.9906  0.9909  0.9911  0.9913   \n",
       "2.40  0.9918  0.9920  0.9922  0.9925  0.9927  0.9929  0.9931  0.9932  0.9934   \n",
       "2.50  0.9938  0.9940  0.9941  0.9943  0.9945  0.9946  0.9948  0.9949  0.9951   \n",
       "\n",
       "Z       0.09  \n",
       "1.60  0.9545  \n",
       "1.70  0.9633  \n",
       "1.80  0.9706  \n",
       "1.90  0.9767  \n",
       "2.00  0.9817  \n",
       "2.10  0.9857  \n",
       "2.20  0.9890  \n",
       "2.30  0.9916  \n",
       "2.40  0.9936  \n",
       "2.50  0.9952  "
      ]
     },
     "execution_count": 192,
     "metadata": {},
     "output_type": "execute_result"
    }
   ],
   "source": [
    "tabla_normal_estandarizada[16:26]"
   ]
  },
  {
   "cell_type": "markdown",
   "metadata": {
    "id": "rMRmnaNPG3Go"
   },
   "source": [
    "### Obteniendo $z$"
   ]
  },
  {
   "cell_type": "markdown",
   "metadata": {
    "id": "T-3mV1qlUj1t"
   },
   "source": [
    "<img src='https://caelum-online-public.s3.amazonaws.com/ESP-1764-estadistica-con-python-probabilidad-y-muestreo/img008.png' width='450px'>"
   ]
  },
  {
   "cell_type": "code",
   "execution_count": 193,
   "metadata": {
    "colab": {
     "base_uri": "https://localhost:8080/"
    },
    "executionInfo": {
     "elapsed": 24,
     "status": "ok",
     "timestamp": 1751828769692,
     "user": {
      "displayName": "Elias Celis",
      "userId": "07132738901482165301"
     },
     "user_tz": 240
    },
    "id": "nT5ZTwjOG3Go",
    "outputId": "a405f0a3-45cd-4b06-bc09-e7e1b7a51022"
   },
   "outputs": [
    {
     "data": {
      "text/plain": [
       "0.475"
      ]
     },
     "execution_count": 193,
     "metadata": {},
     "output_type": "execute_result"
    }
   ],
   "source": [
    "0.95 / 2"
   ]
  },
  {
   "cell_type": "code",
   "execution_count": 194,
   "metadata": {
    "colab": {
     "base_uri": "https://localhost:8080/"
    },
    "executionInfo": {
     "elapsed": 13,
     "status": "ok",
     "timestamp": 1751828769701,
     "user": {
      "displayName": "Elias Celis",
      "userId": "07132738901482165301"
     },
     "user_tz": 240
    },
    "id": "vMjck-3ZU_sz",
    "outputId": "9338e444-42fb-4842-947f-9cbdc9b43f84"
   },
   "outputs": [
    {
     "data": {
      "text/plain": [
       "0.975"
      ]
     },
     "execution_count": 194,
     "metadata": {},
     "output_type": "execute_result"
    }
   ],
   "source": [
    ".5 + 0.95 / 2"
   ]
  },
  {
   "cell_type": "code",
   "execution_count": 195,
   "metadata": {
    "colab": {
     "base_uri": "https://localhost:8080/"
    },
    "executionInfo": {
     "elapsed": 9,
     "status": "ok",
     "timestamp": 1751828769702,
     "user": {
      "displayName": "Elias Celis",
      "userId": "07132738901482165301"
     },
     "user_tz": 240
    },
    "id": "L4CMGZ3oVHLX",
    "outputId": "cb9bc6c3-0d22-404a-b181-867e6b405224"
   },
   "outputs": [
    {
     "data": {
      "text/plain": [
       "1.96"
      ]
     },
     "execution_count": 195,
     "metadata": {},
     "output_type": "execute_result"
    }
   ],
   "source": [
    "1.9 + 0.06"
   ]
  },
  {
   "cell_type": "code",
   "execution_count": 196,
   "metadata": {
    "colab": {
     "base_uri": "https://localhost:8080/"
    },
    "executionInfo": {
     "elapsed": 5,
     "status": "ok",
     "timestamp": 1751828769702,
     "user": {
      "displayName": "Elias Celis",
      "userId": "07132738901482165301"
     },
     "user_tz": 240
    },
    "id": "JJS6Z-85G3Hf",
    "outputId": "5ca4d6a2-4b79-4df7-bb66-5bc2133034c7"
   },
   "outputs": [
    {
     "data": {
      "text/plain": [
       "np.float64(1.959963984540054)"
      ]
     },
     "execution_count": 196,
     "metadata": {},
     "output_type": "execute_result"
    }
   ],
   "source": [
    "z = norm.ppf(0.975)\n",
    "z"
   ]
  },
  {
   "cell_type": "markdown",
   "metadata": {
    "id": "ggXXP8QqTyNA"
   },
   "source": [
    "### Valores de $z$ para los niveles de confianza más utilizados\n",
    "\n",
    "|Nivel de<br>confianza|Valor del área bajo<br>la curva normal| $z$ |\n",
    "|:----------------:|:---------------------------------:|:---:|\n",
    "|90%               |0.95                               |1.645|\n",
    "|95%               |0.975                              |1.96 |\n",
    "|99%               |0.995                              |2.575|"
   ]
  },
  {
   "cell_type": "markdown",
   "metadata": {
    "id": "MfE1ru0AG3Hg"
   },
   "source": [
    "### Obteniendo $\\sigma_\\bar{x}$"
   ]
  },
  {
   "cell_type": "code",
   "execution_count": 197,
   "metadata": {
    "executionInfo": {
     "elapsed": 2,
     "status": "ok",
     "timestamp": 1751828769702,
     "user": {
      "displayName": "Elias Celis",
      "userId": "07132738901482165301"
     },
     "user_tz": 240
    },
    "id": "LyQ6UUYtG3Hh"
   },
   "outputs": [],
   "source": [
    "desviacion_estandar = 150"
   ]
  },
  {
   "cell_type": "code",
   "execution_count": 198,
   "metadata": {
    "executionInfo": {
     "elapsed": 16,
     "status": "ok",
     "timestamp": 1751828769717,
     "user": {
      "displayName": "Elias Celis",
      "userId": "07132738901482165301"
     },
     "user_tz": 240
    },
    "id": "ebvikT95G3Hi"
   },
   "outputs": [],
   "source": [
    "n = 20"
   ]
  },
  {
   "cell_type": "code",
   "execution_count": 199,
   "metadata": {
    "colab": {
     "base_uri": "https://localhost:8080/"
    },
    "executionInfo": {
     "elapsed": 9,
     "status": "ok",
     "timestamp": 1751828769727,
     "user": {
      "displayName": "Elias Celis",
      "userId": "07132738901482165301"
     },
     "user_tz": 240
    },
    "id": "TxM3yTpjG3Hk",
    "outputId": "cdf13da6-c19f-4f48-8218-3d8035a186d1"
   },
   "outputs": [
    {
     "data": {
      "text/plain": [
       "np.float64(4.47213595499958)"
      ]
     },
     "execution_count": 199,
     "metadata": {},
     "output_type": "execute_result"
    }
   ],
   "source": [
    "raiz_de_n = np.sqrt(n)\n",
    "raiz_de_n"
   ]
  },
  {
   "cell_type": "code",
   "execution_count": 200,
   "metadata": {
    "colab": {
     "base_uri": "https://localhost:8080/"
    },
    "executionInfo": {
     "elapsed": 5,
     "status": "ok",
     "timestamp": 1751828769732,
     "user": {
      "displayName": "Elias Celis",
      "userId": "07132738901482165301"
     },
     "user_tz": 240
    },
    "id": "HNAcOpl0G3Hl",
    "outputId": "1eb194ea-5c05-4db6-dfc7-77bec82e8043"
   },
   "outputs": [
    {
     "data": {
      "text/plain": [
       "np.float64(33.54101966249684)"
      ]
     },
     "execution_count": 200,
     "metadata": {},
     "output_type": "execute_result"
    }
   ],
   "source": [
    "sigma = desviacion_estandar / raiz_de_n\n",
    "sigma"
   ]
  },
  {
   "cell_type": "markdown",
   "metadata": {
    "id": "NHbXlLk-G3Hn"
   },
   "source": [
    "### Obteniendo $e$"
   ]
  },
  {
   "cell_type": "code",
   "execution_count": 201,
   "metadata": {
    "colab": {
     "base_uri": "https://localhost:8080/"
    },
    "executionInfo": {
     "elapsed": 47,
     "status": "ok",
     "timestamp": 1751828769779,
     "user": {
      "displayName": "Elias Celis",
      "userId": "07132738901482165301"
     },
     "user_tz": 240
    },
    "id": "gAfakih5G3Ho",
    "outputId": "61035ad6-62e2-48dc-99f9-12a9f474edb1"
   },
   "outputs": [
    {
     "data": {
      "text/plain": [
       "np.float64(65.73919054324361)"
      ]
     },
     "execution_count": 201,
     "metadata": {},
     "output_type": "execute_result"
    }
   ],
   "source": [
    "e = z * sigma\n",
    "e"
   ]
  },
  {
   "cell_type": "markdown",
   "metadata": {
    "id": "sx1QTfNrG3Hq"
   },
   "source": [
    "### Solución 1 - Calculando el intervalo de confianza para la media"
   ]
  },
  {
   "cell_type": "code",
   "execution_count": 202,
   "metadata": {
    "colab": {
     "base_uri": "https://localhost:8080/"
    },
    "executionInfo": {
     "elapsed": 13,
     "status": "ok",
     "timestamp": 1751828769792,
     "user": {
      "displayName": "Elias Celis",
      "userId": "07132738901482165301"
     },
     "user_tz": 240
    },
    "id": "NlJCcPZnG3Hq",
    "outputId": "895e8076-689e-4213-ef16-d14e07f00169"
   },
   "outputs": [
    {
     "data": {
      "text/plain": [
       "(np.float64(4984.260809456757), np.float64(5115.739190543243))"
      ]
     },
     "execution_count": 202,
     "metadata": {},
     "output_type": "execute_result"
    }
   ],
   "source": [
    "intervalo = (media_muestral - e, media_muestral + e)\n",
    "intervalo"
   ]
  },
  {
   "cell_type": "markdown",
   "metadata": {
    "id": "DkFJL7fcG3Ht"
   },
   "source": [
    "### Solución 2 - Calculando el intervalo de confianza para la media"
   ]
  },
  {
   "cell_type": "code",
   "execution_count": 203,
   "metadata": {
    "colab": {
     "base_uri": "https://localhost:8080/"
    },
    "executionInfo": {
     "elapsed": 10,
     "status": "ok",
     "timestamp": 1751828769793,
     "user": {
      "displayName": "Elias Celis",
      "userId": "07132738901482165301"
     },
     "user_tz": 240
    },
    "id": "U92vSYMkG3Hu",
    "outputId": "7cf1b7a7-0946-432b-f1ec-dff9f225ed75"
   },
   "outputs": [
    {
     "data": {
      "text/plain": [
       "(np.float64(4984.260809456757), np.float64(5115.739190543243))"
      ]
     },
     "execution_count": 203,
     "metadata": {},
     "output_type": "execute_result"
    }
   ],
   "source": [
    "norm.interval(confidence = 0.95, loc = media_muestral, scale = sigma)"
   ]
  },
  {
   "cell_type": "markdown",
   "metadata": {
    "id": "aF9jAC6yG3Gl"
   },
   "source": [
    "# <font color=green>5 CÁLCULO DEL TAMAÑO DE LA MUESTRA</font>\n",
    "***"
   ]
  },
  {
   "cell_type": "markdown",
   "metadata": {
    "id": "BwiygaNqnjrr"
   },
   "source": [
    "## <font color='red'>Problema </font>"
   ]
  },
  {
   "cell_type": "markdown",
   "metadata": {
    "id": "a7RjjVVUnlI3"
   },
   "source": [
    "Estamos estudiando los ingresos mensuales de los jefes de hogar con ingresos de hasta R$\\$$ 5.000,00 en Brasil. Nuestro supervisor determinó que el **error máximo en relación a la media es de R$\\$$ 10,00**. Sabemos que la **desviación estándar poblacional** de este grupo de trabajadores es **R$\\$$ 1.082,79**. Para un **nivel de confianza del 95%**, ¿cuál debería ser el tamaño de la muestra de nuestro estudio?"
   ]
  },
  {
   "cell_type": "markdown",
   "metadata": {
    "id": "za2sGJt6G3Gm"
   },
   "source": [
    "## <font color=green>5.1 Variables cuantitativas y población infinita</font>\n",
    "***"
   ]
  },
  {
   "cell_type": "markdown",
   "metadata": {
    "id": "3wqMjJWR5sVq"
   },
   "source": [
    "####   \n",
    "\n",
    "## $$e = z \\frac{\\sigma}{\\sqrt{n}}$$"
   ]
  },
  {
   "cell_type": "markdown",
   "metadata": {
    "id": "X1AxpKtIG3Gn"
   },
   "source": [
    "#### Con desviación estándar conocida\n",
    "\n",
    "## $$n = \\left(z\\frac{\\sigma}{e}\\right)^2$$\n",
    "\n",
    "#### Con desviación estándar desconocida\n",
    "\n",
    "## $$n = \\left(z\\frac{s}{e}\\right)^2$$\n",
    "\n",
    "Donde:\n",
    "\n",
    "$z$ = variable normal estandarizada\n",
    "\n",
    "$\\sigma$ = desviación estándar poblacional\n",
    "\n",
    "$s$ = desviación estándar de la muestra\n",
    "\n",
    "$e$ = error inferencial"
   ]
  },
  {
   "cell_type": "markdown",
   "metadata": {
    "id": "T0fysCyDG3Gn"
   },
   "source": [
    "### <font color='red'>Comentarios</font>\n",
    "\n",
    "1. La desviación estándar ($\\sigma$ o $s$) y el error ($e$) deben estar en la misma unidad de medida.\n",
    "\n",
    "2. Cuando el error ($e$) se representa en términos porcentuales, debe interpretarse como un porcentaje relacionado con el promedio."
   ]
  },
  {
   "cell_type": "markdown",
   "metadata": {
    "id": "WHYBTaupG3Gn"
   },
   "source": [
    "## <font color='blue'>Ejemplo: Rendimiento medio</font>"
   ]
  },
  {
   "cell_type": "markdown",
   "metadata": {
    "id": "dcdzo7EgG3Go"
   },
   "source": [
    "Estamos estudiando los ingresos mensuales de los jefes de hogar. Nuestro supervisor determinó que el **error máximo en relación a la media es de $\\$$ 100,00** pesos. Sabemos que la **desviación estándar poblacional** de este grupo de trabajadores es **$\\$$ 3.323,39** pesos. Para un **nivel de confianza del 95%**, ¿cuál debería ser el tamaño de la muestra de nuestro estudio?"
   ]
  },
  {
   "cell_type": "code",
   "execution_count": 204,
   "metadata": {
    "colab": {
     "base_uri": "https://localhost:8080/"
    },
    "executionInfo": {
     "elapsed": 5,
     "status": "ok",
     "timestamp": 1751828769793,
     "user": {
      "displayName": "Elias Celis",
      "userId": "07132738901482165301"
     },
     "user_tz": 240
    },
    "id": "XtJ5I_kaKDN3",
    "outputId": "0a81bdad-38c9-42d1-d33d-076b849186f8"
   },
   "outputs": [
    {
     "data": {
      "text/plain": [
       "0.475"
      ]
     },
     "execution_count": 204,
     "metadata": {},
     "output_type": "execute_result"
    }
   ],
   "source": [
    "0.95 / 2"
   ]
  },
  {
   "cell_type": "code",
   "execution_count": 205,
   "metadata": {
    "colab": {
     "base_uri": "https://localhost:8080/"
    },
    "executionInfo": {
     "elapsed": 8,
     "status": "ok",
     "timestamp": 1751828769800,
     "user": {
      "displayName": "Elias Celis",
      "userId": "07132738901482165301"
     },
     "user_tz": 240
    },
    "id": "-4TLCgNLKC95",
    "outputId": "2d27214f-a9d7-4195-bac4-c059e22c34c7"
   },
   "outputs": [
    {
     "data": {
      "text/plain": [
       "0.975"
      ]
     },
     "execution_count": 205,
     "metadata": {},
     "output_type": "execute_result"
    }
   ],
   "source": [
    "0.5 + 0.95 / 2"
   ]
  },
  {
   "cell_type": "code",
   "execution_count": 206,
   "metadata": {
    "colab": {
     "base_uri": "https://localhost:8080/"
    },
    "executionInfo": {
     "elapsed": 4,
     "status": "ok",
     "timestamp": 1751828769801,
     "user": {
      "displayName": "Elias Celis",
      "userId": "07132738901482165301"
     },
     "user_tz": 240
    },
    "id": "7XDT12I4ViYN",
    "outputId": "089388b1-37ca-49e1-b5fd-94b5a5f7da81"
   },
   "outputs": [
    {
     "data": {
      "text/plain": [
       "np.float64(1.959963984540054)"
      ]
     },
     "execution_count": 206,
     "metadata": {},
     "output_type": "execute_result"
    }
   ],
   "source": [
    "z = norm.ppf(0.975)\n",
    "z"
   ]
  },
  {
   "cell_type": "markdown",
   "metadata": {
    "id": "6uCkW4KlG3Gr"
   },
   "source": [
    "### Obteniendo $\\sigma$"
   ]
  },
  {
   "cell_type": "code",
   "execution_count": 207,
   "metadata": {
    "executionInfo": {
     "elapsed": 25,
     "status": "ok",
     "timestamp": 1751828769826,
     "user": {
      "displayName": "Elias Celis",
      "userId": "07132738901482165301"
     },
     "user_tz": 240
    },
    "id": "1RmtZfj-G3Gr"
   },
   "outputs": [],
   "source": [
    "sigma = 3323.39"
   ]
  },
  {
   "cell_type": "markdown",
   "metadata": {
    "id": "Cl39PIZ2G3Gt"
   },
   "source": [
    "### Obteniendo $e$"
   ]
  },
  {
   "cell_type": "code",
   "execution_count": 208,
   "metadata": {
    "executionInfo": {
     "elapsed": 11,
     "status": "ok",
     "timestamp": 1751828769826,
     "user": {
      "displayName": "Elias Celis",
      "userId": "07132738901482165301"
     },
     "user_tz": 240
    },
    "id": "NTRMt2gWG3Gt"
   },
   "outputs": [],
   "source": [
    "e = 100"
   ]
  },
  {
   "cell_type": "markdown",
   "metadata": {
    "id": "OlAX3Gj6G3Gv"
   },
   "source": [
    "### Obteniendo $n$"
   ]
  },
  {
   "cell_type": "code",
   "execution_count": 209,
   "metadata": {
    "colab": {
     "base_uri": "https://localhost:8080/"
    },
    "executionInfo": {
     "elapsed": 11,
     "status": "ok",
     "timestamp": 1751828769827,
     "user": {
      "displayName": "Elias Celis",
      "userId": "07132738901482165301"
     },
     "user_tz": 240
    },
    "id": "0MjluwHPG3Gv",
    "outputId": "e3dde74f-b9ab-45c7-c524-e3948934479a",
    "scrolled": true
   },
   "outputs": [
    {
     "data": {
      "text/plain": [
       "4243"
      ]
     },
     "execution_count": 209,
     "metadata": {},
     "output_type": "execute_result"
    }
   ],
   "source": [
    "n = (z * sigma / e) ** 2\n",
    "int(n.round())"
   ]
  },
  {
   "cell_type": "markdown",
   "metadata": {
    "id": "MjP0xsqyTyNO"
   },
   "source": [
    "---\n",
    "---"
   ]
  },
  {
   "cell_type": "markdown",
   "metadata": {
    "id": "dx2vyLC-TyNP"
   },
   "source": [
    "## <font color='red'>Problema</font>"
   ]
  },
  {
   "cell_type": "markdown",
   "metadata": {
    "id": "uzK2fAOFTyNP"
   },
   "source": [
    "En un lote de **10 000 latas** de gaseosa, se realizó una muestra aleatoria simple de **100 latas** y se obtuvo que la **desviación estándar muestral del contenido de las latas es igual a 12 ml**. El fabricante estipula un **error máximo en la media poblacional de solo 5 ml**. Para garantizar un **nivel de confianza del 95%**, ¿qué tamaño de muestra se debe seleccionar para este estudio?"
   ]
  },
  {
   "cell_type": "markdown",
   "metadata": {
    "id": "FlAz5kycTyNQ"
   },
   "source": [
    "## <font color=green>5.2 Variables cuantitativas y población finita</font>\n",
    "***"
   ]
  },
  {
   "cell_type": "markdown",
   "metadata": {
    "id": "UOe02McSTyNR"
   },
   "source": [
    "#### Con desviación estándar conocida\n",
    "\n",
    "## $$n = \\frac{z^2 \\sigma^2 N}{z^2 \\sigma^2 + e^2(N-1)}$$\n",
    "\n",
    "#### Con desviación estándar desconocida\n",
    "\n",
    "## $$n = \\frac{z^2 s^2 N}{z^2 s^2 + e^2(N-1)}$$\n",
    "\n",
    "Donde:\n",
    "\n",
    "$N$ = tamaño de la población\n",
    "\n",
    "$z$ = variable normal estandarizada\n",
    "\n",
    "$\\sigma$ = desviación estándar poblacional\n",
    "\n",
    "$s$ = desviación estándar muestral\n",
    "\n",
    "$e$ = error inferencial"
   ]
  },
  {
   "cell_type": "markdown",
   "metadata": {
    "id": "cUELtYTKTyNS"
   },
   "source": [
    "## <font color='blue'>Ejemplo: Industria de refrescos</font>"
   ]
  },
  {
   "cell_type": "markdown",
   "metadata": {
    "id": "upv1mM7fTyNS"
   },
   "source": [
    "En un lote de **10 000 latas** de gaseosa, se realizó una muestra aleatoria simple de **100 latas** y se obtuvo que la **desviación estándar muestral del contenido de las latas es igual a 12 ml**. El fabricante estipula un **error máximo en la media poblacional de solo 5 ml**. Para garantizar un **nivel de confianza del 95%**, ¿qué tamaño de muestra se debe seleccionar para este estudio?"
   ]
  },
  {
   "cell_type": "markdown",
   "metadata": {
    "id": "_y3-3VIBTyNS"
   },
   "source": [
    "### Obteniendo $N$"
   ]
  },
  {
   "cell_type": "code",
   "execution_count": 210,
   "metadata": {
    "executionInfo": {
     "elapsed": 3,
     "status": "ok",
     "timestamp": 1751828769827,
     "user": {
      "displayName": "Elias Celis",
      "userId": "07132738901482165301"
     },
     "user_tz": 240
    },
    "id": "gXWn9zTETyNS"
   },
   "outputs": [],
   "source": [
    "N = 10000"
   ]
  },
  {
   "cell_type": "markdown",
   "metadata": {
    "id": "xCgZ1JSjTyNT"
   },
   "source": [
    "### Obteniendo $z$"
   ]
  },
  {
   "cell_type": "code",
   "execution_count": 211,
   "metadata": {
    "colab": {
     "base_uri": "https://localhost:8080/"
    },
    "executionInfo": {
     "elapsed": 43,
     "status": "ok",
     "timestamp": 1751828769868,
     "user": {
      "displayName": "Elias Celis",
      "userId": "07132738901482165301"
     },
     "user_tz": 240
    },
    "id": "ZUs9aYJRTyNT",
    "outputId": "fa3d1733-e587-4492-b065-57d87f9bed5c"
   },
   "outputs": [
    {
     "data": {
      "text/plain": [
       "np.float64(1.959963984540054)"
      ]
     },
     "execution_count": 211,
     "metadata": {},
     "output_type": "execute_result"
    }
   ],
   "source": [
    "z = norm.ppf((0.5 + (0.95 / 2)))\n",
    "z"
   ]
  },
  {
   "cell_type": "markdown",
   "metadata": {
    "id": "KCnigJd8TyNU"
   },
   "source": [
    "### Obteniendo $s$"
   ]
  },
  {
   "cell_type": "code",
   "execution_count": 212,
   "metadata": {
    "executionInfo": {
     "elapsed": 7,
     "status": "ok",
     "timestamp": 1751828769869,
     "user": {
      "displayName": "Elias Celis",
      "userId": "07132738901482165301"
     },
     "user_tz": 240
    },
    "id": "fKqFI_TZTyNU"
   },
   "outputs": [],
   "source": [
    "s = 12"
   ]
  },
  {
   "cell_type": "markdown",
   "metadata": {
    "id": "K9gDEIUdTyNX"
   },
   "source": [
    "### Obteniendo $e$"
   ]
  },
  {
   "cell_type": "code",
   "execution_count": 213,
   "metadata": {
    "executionInfo": {
     "elapsed": 7,
     "status": "ok",
     "timestamp": 1751828769869,
     "user": {
      "displayName": "Elias Celis",
      "userId": "07132738901482165301"
     },
     "user_tz": 240
    },
    "id": "hyhJ3MQKTyNX"
   },
   "outputs": [],
   "source": [
    "e = 5"
   ]
  },
  {
   "cell_type": "markdown",
   "metadata": {
    "id": "Dsm3bg9gTyNX"
   },
   "source": [
    "### Obteniendo $n$\n",
    "\n",
    "## $$n = \\frac{z^2 s^2 N}{z^2 s^2 + e^2(N-1)}$$"
   ]
  },
  {
   "cell_type": "code",
   "execution_count": 214,
   "metadata": {
    "colab": {
     "base_uri": "https://localhost:8080/"
    },
    "executionInfo": {
     "elapsed": 7,
     "status": "ok",
     "timestamp": 1751828769870,
     "user": {
      "displayName": "Elias Celis",
      "userId": "07132738901482165301"
     },
     "user_tz": 240
    },
    "id": "0XxWfaPdTyNY",
    "outputId": "1e3c0403-3b5d-4828-f2c9-738786017c75",
    "scrolled": true
   },
   "outputs": [
    {
     "data": {
      "text/plain": [
       "22"
      ]
     },
     "execution_count": 214,
     "metadata": {},
     "output_type": "execute_result"
    }
   ],
   "source": [
    "n = ((z ** 2) * (s ** 2) * (N)) / (((z ** 2) * (s ** 2)) + ((e ** 2) * (N - 1)))\n",
    "int(n.round())"
   ]
  },
  {
   "cell_type": "markdown",
   "metadata": {
    "id": "XNH7CMglG3Hv"
   },
   "source": [
    "# <font color=green>6 FIJANDO EL CONTENIDO</font>\n",
    "***"
   ]
  },
  {
   "cell_type": "markdown",
   "metadata": {
    "id": "iRYqVAxuG3Hv"
   },
   "source": [
    "## <font color='blue'>Ejemplo: Rendimiento medio</font>"
   ]
  },
  {
   "cell_type": "markdown",
   "metadata": {
    "id": "ggloHI5sG3Hw"
   },
   "source": [
    "Estamos estudiando **los ingresos mensuales de los jefes de hogar con ingresos de hasta R$\\$$ 5.000,00 en Brasil**. Nuestro supervisor determinó que el **error máximo en relación a la media es de R$\\$$ 10,00**. Sabemos que la **desviación estándar poblacional** de este grupo de trabajadores es **R$\\$$ 1.082,79** y que la **media poblacional** es **R$\\$$ 1.426,54**. Para un **nivel de confianza del 95%**, ¿cuál debería ser el tamaño de la muestra de nuestro estudio? ¿Cuál es el intervalo de confianza para la media considerando el tamaño de muestra obtenido?"
   ]
  },
  {
   "cell_type": "markdown",
   "metadata": {
    "id": "JZDvLD-NG3Hw"
   },
   "source": [
    "### Construyendo el conjunto de datos según lo especificado por el problema"
   ]
  },
  {
   "cell_type": "code",
   "execution_count": 215,
   "metadata": {
    "executionInfo": {
     "elapsed": 22,
     "status": "ok",
     "timestamp": 1751828769890,
     "user": {
      "displayName": "Elias Celis",
      "userId": "07132738901482165301"
     },
     "user_tz": 240
    },
    "id": "qlnYQeaKG3Hw"
   },
   "outputs": [],
   "source": [
    "ingresos_5000 = datos.query('Ingreso <= 5000').Ingreso"
   ]
  },
  {
   "cell_type": "code",
   "execution_count": 216,
   "metadata": {
    "colab": {
     "base_uri": "https://localhost:8080/"
    },
    "executionInfo": {
     "elapsed": 21,
     "status": "ok",
     "timestamp": 1751828769891,
     "user": {
      "displayName": "Elias Celis",
      "userId": "07132738901482165301"
     },
     "user_tz": 240
    },
    "id": "VKuxbygIG3Hy",
    "outputId": "74099ccb-bda5-4109-dc78-7b2b18ac25ba"
   },
   "outputs": [
    {
     "data": {
      "text/plain": [
       "1082.794549030635"
      ]
     },
     "execution_count": 216,
     "metadata": {},
     "output_type": "execute_result"
    }
   ],
   "source": [
    "sigma = ingresos_5000.std()\n",
    "sigma"
   ]
  },
  {
   "cell_type": "code",
   "execution_count": 217,
   "metadata": {
    "colab": {
     "base_uri": "https://localhost:8080/"
    },
    "executionInfo": {
     "elapsed": 15,
     "status": "ok",
     "timestamp": 1751828769906,
     "user": {
      "displayName": "Elias Celis",
      "userId": "07132738901482165301"
     },
     "user_tz": 240
    },
    "id": "Q2Ku3mVPG3Hz",
    "outputId": "9f9a6b12-a4d4-4319-a73b-149652586ebd"
   },
   "outputs": [
    {
     "data": {
      "text/plain": [
       "np.float64(1426.5372144947232)"
      ]
     },
     "execution_count": 217,
     "metadata": {},
     "output_type": "execute_result"
    }
   ],
   "source": [
    "media = ingresos_5000.mean()\n",
    "media"
   ]
  },
  {
   "cell_type": "markdown",
   "metadata": {
    "id": "F33TdkXdG3H2"
   },
   "source": [
    "### Calcular el tamaño de la muestra"
   ]
  },
  {
   "cell_type": "code",
   "execution_count": 218,
   "metadata": {
    "colab": {
     "base_uri": "https://localhost:8080/"
    },
    "executionInfo": {
     "elapsed": 6,
     "status": "ok",
     "timestamp": 1751828769907,
     "user": {
      "displayName": "Elias Celis",
      "userId": "07132738901482165301"
     },
     "user_tz": 240
    },
    "id": "sWIvnmygG3H2",
    "outputId": "e2423f31-b2f5-40c7-8254-efb318ebe945"
   },
   "outputs": [
    {
     "data": {
      "text/plain": [
       "np.float64(1.959963984540054)"
      ]
     },
     "execution_count": 218,
     "metadata": {},
     "output_type": "execute_result"
    }
   ],
   "source": [
    "z = norm.ppf(0.975)\n",
    "z"
   ]
  },
  {
   "cell_type": "code",
   "execution_count": 219,
   "metadata": {
    "colab": {
     "base_uri": "https://localhost:8080/"
    },
    "executionInfo": {
     "elapsed": 42,
     "status": "ok",
     "timestamp": 1751828769948,
     "user": {
      "displayName": "Elias Celis",
      "userId": "07132738901482165301"
     },
     "user_tz": 240
    },
    "id": "oc9bIGWm7Smk",
    "outputId": "dc4af535-efdd-40fd-f739-8ed240950675"
   },
   "outputs": [
    {
     "data": {
      "text/plain": [
       "45039"
      ]
     },
     "execution_count": 219,
     "metadata": {},
     "output_type": "execute_result"
    }
   ],
   "source": [
    "e = 10\n",
    "n = (z * sigma / e) ** 2\n",
    "n = int(n.round())\n",
    "n"
   ]
  },
  {
   "cell_type": "markdown",
   "metadata": {
    "id": "xRN_gmmLG3H6"
   },
   "source": [
    "### Calcular el intervalo de confianza para la media"
   ]
  },
  {
   "cell_type": "code",
   "execution_count": 220,
   "metadata": {
    "colab": {
     "base_uri": "https://localhost:8080/"
    },
    "executionInfo": {
     "elapsed": 14,
     "status": "ok",
     "timestamp": 1751828769948,
     "user": {
      "displayName": "Elias Celis",
      "userId": "07132738901482165301"
     },
     "user_tz": 240
    },
    "id": "HoG6JKxxG3H6",
    "outputId": "fb08453c-9b68-4675-fb17-db79c6d3e115"
   },
   "outputs": [
    {
     "data": {
      "text/plain": [
       "(np.float64(1416.5372195108241), np.float64(1436.5372094786223))"
      ]
     },
     "execution_count": 220,
     "metadata": {},
     "output_type": "execute_result"
    }
   ],
   "source": [
    "intervalo = norm.interval(confidence= 0.95, loc = media, scale = sigma / np.sqrt(n))\n",
    "intervalo"
   ]
  },
  {
   "cell_type": "markdown",
   "metadata": {
    "id": "xWAG8q8oG3H8"
   },
   "source": [
    "### Realización de una prueba gráfica"
   ]
  },
  {
   "cell_type": "code",
   "execution_count": 223,
   "metadata": {
    "colab": {
     "base_uri": "https://localhost:8080/",
     "height": 456
    },
    "executionInfo": {
     "elapsed": 2779,
     "status": "ok",
     "timestamp": 1751828855205,
     "user": {
      "displayName": "Elias Celis",
      "userId": "07132738901482165301"
     },
     "user_tz": 240
    },
    "id": "pxjJyWnNG3H8",
    "outputId": "c0eb5e25-bfea-462f-c1aa-c2a36e5b1148"
   },
   "outputs": [
    {
     "data": {
      "text/plain": [
       "<matplotlib.collections.LineCollection at 0x7d5a2f225c90>"
      ]
     },
     "execution_count": 223,
     "metadata": {},
     "output_type": "execute_result"
    },
    {
     "data": {
      "image/png": "[encoded data removed]",
      "text/plain": [
       "<Figure size 1200x600 with 1 Axes>"
      ]
     },
     "metadata": {},
     "output_type": "display_data"
    }
   ],
   "source": [
    "import matplotlib.pyplot as plt\n",
    "\n",
    "tamano_simulacion = 1000\n",
    "\n",
    "medias = [ingresos_5000.sample(n = n).mean() for i in range(1, tamano_simulacion)]\n",
    "\n",
    "medias = pd.DataFrame(medias)\n",
    "\n",
    "ax = medias.plot(style = '.')\n",
    "ax.figure.set_size_inches(12, 6)\n",
    "ax.hlines(y = media, xmin = 0, xmax = tamano_simulacion, color = 'black', linestyle = '--')\n",
    "ax.hlines(y = intervalo[0], xmin=0, xmax = tamano_simulacion, color = 'red', linestyle = '--')\n",
    "ax.hlines(y = intervalo[1], xmin=0, xmax = tamano_simulacion, color = 'red', linestyle = '--')\n",
    "\n"
   ]
  }
 ],
 "metadata": {
  "colab": {
   "provenance": []
  },
  "kernelspec": {
   "display_name": ".venv",
   "language": "python",
   "name": "python3"
  },
  "language_info": {
   "codemirror_mode": {
    "name": "ipython",
    "version": 3
   },
   "file_extension": ".py",
   "mimetype": "text/x-python",
   "name": "python",
   "nbconvert_exporter": "python",
   "pygments_lexer": "ipython3",
   "version": "3.13.5"
  }
 },
 "nbformat": 4,
 "nbformat_minor": 0
}
