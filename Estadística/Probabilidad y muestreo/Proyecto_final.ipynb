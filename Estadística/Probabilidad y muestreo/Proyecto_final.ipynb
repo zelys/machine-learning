{
 "cells": [
  {
   "cell_type": "markdown",
   "metadata": {
    "id": "WvMflodMjQKe"
   },
   "source": [
    "***\n",
    "# <font color=green size=10>CURSO DE ESTADÍSTICA - PARTE 2</font>\n",
    "***\n",
    "\n",
    "## Trabajo de Probabilidades, Muestreo y Estimación\n",
    "\n",
    "Utilizando los conocimientos adquiridos en nuestra formación, realice las siguientes tareas. Siga el guión propuesto y complete las celdas vacías."
   ]
  },
  {
   "cell_type": "markdown",
   "metadata": {
    "id": "cVgsZ_E3jQKg"
   },
   "source": [
    "# <font color=green>DATASET DEL PROYECTO</font>\n",
    "***"
   ]
  },
  {
   "cell_type": "markdown",
   "metadata": {
    "id": "iN1gIbaKjQKh"
   },
   "source": [
    "### Encuesta Nacional por Muestreo de Hogares - 2015\n",
    "\n",
    "La <b>Encuesta Nacional por Muestreo de Hogares</b> anualmente investiga, de manera permanente, características generales de la población, educación, trabajo, ingresos y vivienda y otras, con frecuencia variable, de acuerdo a las necesidades de información del país, tales como las características de migración, fecundidad, nupcialidad, salud, seguridad alimentaria, entre otros temas. La recopilación de estas estadísticas constituye, durante los 49 años de realización de la investigación, un importante instrumento para la formulación, validación y evaluación de políticas orientadas al desarrollo socioeconómico y la mejora de las condiciones de vida en Brasil."
   ]
  },
  {
   "cell_type": "markdown",
   "metadata": {
    "id": "U6V7br1RjQKi"
   },
   "source": [
    "### Fuente de los Datos\n",
    "\n",
    "Instituto Brasileño de Geografía y Estadística (IBGE) Encuesta Nacional por Muestreo de Hogares(PNAD) en el 2015"
   ]
  },
  {
   "cell_type": "markdown",
   "metadata": {
    "id": "r0Fe_qnzjQKj"
   },
   "source": [
    "### Variables utilizadas\n",
    "\n",
    "> ### Ingreso\n",
    "> ***\n",
    "\n",
    "Ingresos mensuales del trabajo principal para personas de 10 años y más.\n",
    "\n",
    "> ### Edad\n",
    "> ***\n",
    "\n",
    "Edad del residente en la fecha de referencia en años.\n",
    "\n",
    "> ### Altura (elaboración propia)\n",
    "> ***\n",
    "\n",
    "Altura del habitante en metros.\n",
    "\n",
    "> ### UF\n",
    "> ***\n",
    "Unidad Federal\n",
    "\n",
    "\n",
    "|Código|Descripción|\n",
    "|---|---|\n",
    "|11|Rondônia|\n",
    "|12|Acre|\n",
    "|13|Amazonas|\n",
    "|14|Roraima|\n",
    "|15|Pará|\n",
    "|16|Amapá|\n",
    "|17|Tocantins|\n",
    "|21|Maranhão|\n",
    "|22|Piauí|\n",
    "|23|Ceará|\n",
    "|24|Rio Grande do Norte|\n",
    "|25|Paraíba|\n",
    "|26|Pernambuco|\n",
    "|27|Alagoas|\n",
    "|28|Sergipe|\n",
    "|29|Bahia|\n",
    "|31|Minas Gerais|\n",
    "|32|Espírito Santo|\n",
    "|33|Rio de Janeiro|\n",
    "|35|São Paulo|\n",
    "|41|Paraná|\n",
    "|42|Santa Catarina|\n",
    "|43|Rio Grande do Sul|\n",
    "|50|Mato Grosso do Sul|\n",
    "|51|Mato Grosso|\n",
    "|52|Goiás|\n",
    "|53|Distrito Federal|\n",
    "\n",
    "> ### Sexo\n",
    "> ***\n",
    "\n",
    "|Código|Descripción|\n",
    "|---|---|\n",
    "|0|Masculino|\n",
    "|1|Femenino|\n",
    "\n",
    "> ### Años de Estudio\n",
    "> ***\n",
    "\n",
    "|Código|Descripción|\n",
    "|---|---|\n",
    "|1|Sin educación o menos de 1 año|\n",
    "|2|1 año|\n",
    "|3|2 años|\n",
    "|4|3 años|\n",
    "|5|4 años|\n",
    "|6|5 años|\n",
    "|7|6 años|\n",
    "|8|7 años|\n",
    "|9|8 años|\n",
    "|10|9 años|\n",
    "|11|10 años|\n",
    "|12|11 años|\n",
    "|13|12 años|\n",
    "|14|13 años|\n",
    "|15|14 años|\n",
    "|16|15 años o más|\n",
    "|17|No determinado|\n",
    "||No aplicable|\n",
    "\n",
    "> ### Color\n",
    "> ***\n",
    "\n",
    "|Código|Descripción|\n",
    "|---|---|\n",
    "|0|Indígena|\n",
    "|2|Blanco|\n",
    "|4|Negro|\n",
    "|6|Amarillo|\n",
    "|8|Pardo|\n",
    "|9|Sin declaración|"
   ]
  },
  {
   "cell_type": "markdown",
   "metadata": {
    "id": "OK1IQH5cX7Gb"
   },
   "source": [
    "#### <font color='red'>Nota</font>\n",
    "***\n",
    "> Se realizaron los siguientes tratamientos sobre los datos originales:\n",
    "> 1. Se eliminaron los registros en los que **Ingreso** no era válido. (999 999 999 999);\n",
    "> 2. Se eliminaron los registros en los que **Ingreso** eran missing;\n",
    "> 3. Solo se consideraron los registros de **Personas de Referencia** de cada hogar (responsable del hogar)."
   ]
  },
  {
   "cell_type": "markdown",
   "metadata": {
    "id": "ZIqLOffNTg1Y"
   },
   "source": [
    "***\n",
    "***"
   ]
  },
  {
   "cell_type": "markdown",
   "metadata": {
    "id": "8Rw70V6ojQKk"
   },
   "source": [
    "### Use la celda a continuación para importar las bibliotecas que necesita para realizar las tareas\n",
    "#### <font color='red'>Sugerencias: pandas, numpy, scipy etc.</font>"
   ]
  },
  {
   "cell_type": "code",
   "execution_count": 1,
   "metadata": {
    "id": "fcTgimHBybMz"
   },
   "outputs": [],
   "source": [
    "import pandas as pd\n",
    "import numpy as np\n",
    "from scipy.stats import binom\n",
    "from scipy.stats import norm"
   ]
  },
  {
   "cell_type": "markdown",
   "metadata": {
    "id": "2a-gvBvCULwt"
   },
   "source": [
    "### Importe el dataset y almacenar el contenido en un DataFrame"
   ]
  },
  {
   "cell_type": "code",
   "execution_count": 2,
   "metadata": {
    "id": "ufRZ7TLwjQKo"
   },
   "outputs": [],
   "source": [
    "datos = pd.read_csv('../data/datos.csv', encoding='latin-1')"
   ]
  },
  {
   "cell_type": "markdown",
   "metadata": {
    "id": "Oq3CKHCmTg1j"
   },
   "source": [
    "### Ver el contenido del DataFrame"
   ]
  },
  {
   "cell_type": "code",
   "execution_count": 4,
   "metadata": {
    "colab": {
     "base_uri": "https://localhost:8080/",
     "height": 206
    },
    "executionInfo": {
     "elapsed": 33,
     "status": "ok",
     "timestamp": 1751830201809,
     "user": {
      "displayName": "Elias Celis",
      "userId": "07132738901482165301"
     },
     "user_tz": 240
    },
    "id": "GsC_WhLFjQKq",
    "outputId": "2385870f-b916-4bd8-efa8-b07bb565699b",
    "scrolled": true
   },
   "outputs": [
    {
     "data": {
      "text/html": [
       "<div>\n",
       "<style scoped>\n",
       "    .dataframe tbody tr th:only-of-type {\n",
       "        vertical-align: middle;\n",
       "    }\n",
       "\n",
       "    .dataframe tbody tr th {\n",
       "        vertical-align: top;\n",
       "    }\n",
       "\n",
       "    .dataframe thead th {\n",
       "        text-align: right;\n",
       "    }\n",
       "</style>\n",
       "<table border=\"1\" class=\"dataframe\">\n",
       "  <thead>\n",
       "    <tr style=\"text-align: right;\">\n",
       "      <th></th>\n",
       "      <th>Ciudad</th>\n",
       "      <th>Sexo</th>\n",
       "      <th>Edad</th>\n",
       "      <th>Color</th>\n",
       "      <th>Años de Estudio</th>\n",
       "      <th>Ingreso</th>\n",
       "      <th>Altura</th>\n",
       "    </tr>\n",
       "  </thead>\n",
       "  <tbody>\n",
       "    <tr>\n",
       "      <th>0</th>\n",
       "      <td>11</td>\n",
       "      <td>0</td>\n",
       "      <td>23</td>\n",
       "      <td>8</td>\n",
       "      <td>12</td>\n",
       "      <td>800</td>\n",
       "      <td>1.603808</td>\n",
       "    </tr>\n",
       "    <tr>\n",
       "      <th>1</th>\n",
       "      <td>11</td>\n",
       "      <td>1</td>\n",
       "      <td>23</td>\n",
       "      <td>2</td>\n",
       "      <td>12</td>\n",
       "      <td>1150</td>\n",
       "      <td>1.739790</td>\n",
       "    </tr>\n",
       "    <tr>\n",
       "      <th>2</th>\n",
       "      <td>11</td>\n",
       "      <td>1</td>\n",
       "      <td>35</td>\n",
       "      <td>8</td>\n",
       "      <td>15</td>\n",
       "      <td>880</td>\n",
       "      <td>1.760444</td>\n",
       "    </tr>\n",
       "    <tr>\n",
       "      <th>3</th>\n",
       "      <td>11</td>\n",
       "      <td>0</td>\n",
       "      <td>46</td>\n",
       "      <td>2</td>\n",
       "      <td>6</td>\n",
       "      <td>3500</td>\n",
       "      <td>1.783158</td>\n",
       "    </tr>\n",
       "    <tr>\n",
       "      <th>4</th>\n",
       "      <td>11</td>\n",
       "      <td>1</td>\n",
       "      <td>47</td>\n",
       "      <td>8</td>\n",
       "      <td>9</td>\n",
       "      <td>150</td>\n",
       "      <td>1.690631</td>\n",
       "    </tr>\n",
       "    <tr>\n",
       "      <th>...</th>\n",
       "      <td>...</td>\n",
       "      <td>...</td>\n",
       "      <td>...</td>\n",
       "      <td>...</td>\n",
       "      <td>...</td>\n",
       "      <td>...</td>\n",
       "      <td>...</td>\n",
       "    </tr>\n",
       "    <tr>\n",
       "      <th>76835</th>\n",
       "      <td>53</td>\n",
       "      <td>1</td>\n",
       "      <td>46</td>\n",
       "      <td>2</td>\n",
       "      <td>11</td>\n",
       "      <td>812</td>\n",
       "      <td>1.687030</td>\n",
       "    </tr>\n",
       "    <tr>\n",
       "      <th>76836</th>\n",
       "      <td>53</td>\n",
       "      <td>0</td>\n",
       "      <td>30</td>\n",
       "      <td>4</td>\n",
       "      <td>7</td>\n",
       "      <td>1500</td>\n",
       "      <td>1.792934</td>\n",
       "    </tr>\n",
       "    <tr>\n",
       "      <th>76837</th>\n",
       "      <td>53</td>\n",
       "      <td>0</td>\n",
       "      <td>32</td>\n",
       "      <td>8</td>\n",
       "      <td>12</td>\n",
       "      <td>1300</td>\n",
       "      <td>1.830587</td>\n",
       "    </tr>\n",
       "    <tr>\n",
       "      <th>76838</th>\n",
       "      <td>53</td>\n",
       "      <td>0</td>\n",
       "      <td>57</td>\n",
       "      <td>8</td>\n",
       "      <td>4</td>\n",
       "      <td>1500</td>\n",
       "      <td>1.726344</td>\n",
       "    </tr>\n",
       "    <tr>\n",
       "      <th>76839</th>\n",
       "      <td>53</td>\n",
       "      <td>0</td>\n",
       "      <td>38</td>\n",
       "      <td>8</td>\n",
       "      <td>4</td>\n",
       "      <td>900</td>\n",
       "      <td>1.658305</td>\n",
       "    </tr>\n",
       "  </tbody>\n",
       "</table>\n",
       "<p>76840 rows × 7 columns</p>\n",
       "</div>"
      ],
      "text/plain": [
       "       Ciudad  Sexo  Edad  Color  Años de Estudio  Ingreso    Altura\n",
       "0          11     0    23      8               12      800  1.603808\n",
       "1          11     1    23      2               12     1150  1.739790\n",
       "2          11     1    35      8               15      880  1.760444\n",
       "3          11     0    46      2                6     3500  1.783158\n",
       "4          11     1    47      8                9      150  1.690631\n",
       "...       ...   ...   ...    ...              ...      ...       ...\n",
       "76835      53     1    46      2               11      812  1.687030\n",
       "76836      53     0    30      4                7     1500  1.792934\n",
       "76837      53     0    32      8               12     1300  1.830587\n",
       "76838      53     0    57      8                4     1500  1.726344\n",
       "76839      53     0    38      8                4      900  1.658305\n",
       "\n",
       "[76840 rows x 7 columns]"
      ]
     },
     "execution_count": 4,
     "metadata": {},
     "output_type": "execute_result"
    }
   ],
   "source": [
    "datos"
   ]
  },
  {
   "cell_type": "markdown",
   "metadata": {
    "id": "1ldnLTqK5bl_"
   },
   "source": [
    "# <font color='green'>Problema A</font>"
   ]
  },
  {
   "cell_type": "markdown",
   "metadata": {
    "id": "9eJMw-Uq5bmA"
   },
   "source": [
    "Al evaluar nuestro conjunto de datos, es posible verificar que la **proporción de hombres** como jefes de hogar es casi del **70%**. Necesitamos **seleccionar al azar grupos de 10 individuos** para verificar las diferencias entre las ganancias en cada grupo. ¿Cuál es la **probabilidad de seleccionar un grupo que presente la misma proporción de la población**, es decir, seleccionar un grupo que esté **compuesto por 7 hombres y 3 mujeres**?\n",
    "\n",
    "#### <font color='blue'>Como tarea adicional, verifique la proporción real de hombres y mujeres en nuestro conjunto de datos (vimos cómo hacer esto en nuestro primer curso de estadística).</font>\n",
    "\n",
    "#### <font color='red'>Compruebe qué tipo de distribución de probabilidad se ajusta a este experimento.</font>"
   ]
  },
  {
   "cell_type": "markdown",
   "metadata": {
    "id": "VoF00gKM5bmB"
   },
   "source": [
    "### Solución"
   ]
  },
  {
   "cell_type": "markdown",
   "metadata": {
    "id": "ogr7CiW_8iL-"
   },
   "source": [
    "## Total de eventos que se desea obtener éxito (k)"
   ]
  },
  {
   "cell_type": "code",
   "execution_count": null,
   "metadata": {
    "id": "wkJ0oeqV5bmB"
   },
   "outputs": [],
   "source": [
    "k = 7"
   ]
  },
  {
   "cell_type": "markdown",
   "metadata": {
    "id": "USajr5fA8krL"
   },
   "source": [
    "## Total de ensayos"
   ]
  },
  {
   "cell_type": "code",
   "execution_count": null,
   "metadata": {
    "id": "xGJ-k-ol5bmD"
   },
   "outputs": [],
   "source": [
    "n = 10"
   ]
  },
  {
   "cell_type": "markdown",
   "metadata": {
    "id": "LzhoYxZj8nYb"
   },
   "source": [
    "## Probabilidad de éxito"
   ]
  },
  {
   "cell_type": "code",
   "execution_count": null,
   "metadata": {
    "id": "LA0ONe0x5bmD"
   },
   "outputs": [],
   "source": [
    "p = 0.70"
   ]
  },
  {
   "cell_type": "markdown",
   "metadata": {
    "id": "D2Ulzr_C8oe0"
   },
   "source": [
    "## Solución"
   ]
  },
  {
   "cell_type": "code",
   "execution_count": null,
   "metadata": {
    "colab": {
     "base_uri": "https://localhost:8080/"
    },
    "executionInfo": {
     "elapsed": 4,
     "status": "ok",
     "timestamp": 1751830201869,
     "user": {
      "displayName": "Elias Celis",
      "userId": "07132738901482165301"
     },
     "user_tz": 240
    },
    "id": "KnDxQDwf5bmE",
    "outputId": "e41197ac-02ba-4cbf-f2e1-e83685d90500"
   },
   "outputs": [
    {
     "name": "stdout",
     "output_type": "stream",
     "text": [
      "0.26682793\n"
     ]
    }
   ],
   "source": [
    "probabilidad = binom.pmf(k, n, p)\n",
    "print(f'{probabilidad:.8f}')"
   ]
  },
  {
   "cell_type": "markdown",
   "metadata": {
    "id": "jWAVajbA5bmF"
   },
   "source": [
    "# <font color='green'>Problema B</font>"
   ]
  },
  {
   "cell_type": "markdown",
   "metadata": {
    "id": "jUgWC4SL5bmF"
   },
   "source": [
    "Aún en la pregunta anterior, **¿cuántos grupos de 10 individuos** tendríamos que seleccionar, al azar, para obtener **100 grupos formados por 7 hombres y 3 mujeres**?\n",
    "\n",
    "#### <font color='red'>Recuerde la forma de promediar una distribución binomial</font>"
   ]
  },
  {
   "cell_type": "markdown",
   "metadata": {
    "id": "Yrlo-xM95bmF"
   },
   "source": [
    "### Solución"
   ]
  },
  {
   "cell_type": "markdown",
   "metadata": {
    "id": "-i4MbQez5bmH"
   },
   "source": [
    "### Media de la distribución binomial\n",
    "\n",
    "# $$\\mu=nXp$$"
   ]
  },
  {
   "cell_type": "code",
   "execution_count": null,
   "metadata": {
    "colab": {
     "base_uri": "https://localhost:8080/"
    },
    "executionInfo": {
     "elapsed": 3,
     "status": "ok",
     "timestamp": 1751830201871,
     "user": {
      "displayName": "Elias Celis",
      "userId": "07132738901482165301"
     },
     "user_tz": 240
    },
    "id": "1-ic5VnL5bmH",
    "outputId": "99278bc3-206f-49db-9ff8-4396167f8d0d"
   },
   "outputs": [
    {
     "data": {
      "text/plain": [
       "375"
      ]
     },
     "execution_count": 34,
     "metadata": {},
     "output_type": "execute_result"
    }
   ],
   "source": [
    "# media = n * p\n",
    "# n = media / p\n",
    "\n",
    "n = 100 / probabilidad\n",
    "n = int(n.round())\n",
    "n"
   ]
  },
  {
   "cell_type": "markdown",
   "metadata": {
    "id": "SSzr48r-5bmJ"
   },
   "source": [
    "# <font color='green'>Problema C</font>"
   ]
  },
  {
   "cell_type": "markdown",
   "metadata": {
    "id": "PgDFt-K25bmJ"
   },
   "source": [
    "Un cliente nos encargó la realización de un estudio para evaluar **los ingresos de los jefes de hogar en Brasil**. Para eso, necesitamos realizar una nueva recolección de datos, es decir, una nueva investigación de campo. Después de reunirse con el cliente, fue posible enumerar el siguiente conjunto de informaciones:\n",
    "\n",
    "> A. El resultado de la búsqueda debe estar listo en **2 meses**;\n",
    "\n",
    "> B. Solo tendremos **R$\\$$ 150000,00** de fondos para realizar la investigación de campo; y\n",
    "    \n",
    "> C. Sería interesante tener un **margen de error que no supere el 10% en relación a la media estimada**.\n",
    "\n",
    "En nuestra experiencia con estudios de este tipo, sabemos que el **costo promedio por entrevistado ronda los R$\\$$ 100,00**. Con este conjunto de hechos, evalúe y obtenga el siguiente conjunto de información para transmitir al cliente:\n",
    "\n",
    "> 1. Para obtener una estimación de los parámetros de la población (ingresos de los jefes de hogar en Brasil), realice un muestreo aleatorio simple en nuestro conjunto de datos. Esta muestra debe contener 200 elementos (use random_state = 101 para asegurarse de que se pueda volver a realizar el mismo experimento). Obtenga la media y la desviación estándar de esta muestra.\n",
    "\n",
    "> 2. Para el **margen de error** especificado por el cliente, obtenga los **tamaños de muestra** necesarios para garantizar **niveles de confianza del 90%, 95% y 99%**.\n",
    "    \n",
    "> 3. Obtenga el **costo de la encuesta** para los tres niveles de confianza.\n",
    "    \n",
    "> 4. Para obtener el nivel más alto de confianza viable (dentro del presupuesto disponible), obtenga un **intervalo de confianza para la media de la población**.\n",
    "    \n",
    "> 5. Suponiendo el **nivel de confianza elegido en el inciso anterior**, ¿qué **margen de error** se puede considerar utilizando todos los recursos proporcionados por el cliente?\n",
    "    \n",
    "> 6. Suponiendo un **nivel de confianza del 95%**, **¿cuánto costaría la encuesta al cliente** si se considerara un **margen de error de solo el 5%** en relación con el promedio estimado?\n"
   ]
  },
  {
   "cell_type": "markdown",
   "metadata": {
    "id": "RT-FPHm85bmK"
   },
   "source": [
    "# <font color='blue'>Solución del punto 1</font>"
   ]
  },
  {
   "cell_type": "markdown",
   "metadata": {
    "id": "wxw7HmVp5bmL"
   },
   "source": [
    "### Selección de una muestra aleatoria simple\n",
    "\n",
    "#### <font color='red'>Recuerde usar *random_state = 101*</font>"
   ]
  },
  {
   "cell_type": "code",
   "execution_count": null,
   "metadata": {
    "id": "oHD_J1lt5bmL"
   },
   "outputs": [],
   "source": [
    "dataset = datos.Ingreso.sample(n = 200, random_state = 101)"
   ]
  },
  {
   "cell_type": "code",
   "execution_count": null,
   "metadata": {
    "colab": {
     "base_uri": "https://localhost:8080/"
    },
    "executionInfo": {
     "elapsed": 6,
     "status": "ok",
     "timestamp": 1751830201886,
     "user": {
      "displayName": "Elias Celis",
      "userId": "07132738901482165301"
     },
     "user_tz": 240
    },
    "id": "w688AkAq5bmM",
    "outputId": "e0ec20da-6433-449f-ed6b-ef2a4d467567"
   },
   "outputs": [
    {
     "data": {
      "text/plain": [
       "np.float64(1964.205)"
      ]
     },
     "execution_count": 36,
     "metadata": {},
     "output_type": "execute_result"
    }
   ],
   "source": [
    "dataset.mean()"
   ]
  },
  {
   "cell_type": "code",
   "execution_count": null,
   "metadata": {
    "colab": {
     "base_uri": "https://localhost:8080/"
    },
    "executionInfo": {
     "elapsed": 16,
     "status": "ok",
     "timestamp": 1751830201911,
     "user": {
      "displayName": "Elias Celis",
      "userId": "07132738901482165301"
     },
     "user_tz": 240
    },
    "id": "T_pGKrq05bmN",
    "outputId": "b9b9f351-2f19-487a-ccf4-d9030e5ceec4"
   },
   "outputs": [
    {
     "data": {
      "text/plain": [
       "3139.8855167452157"
      ]
     },
     "execution_count": 37,
     "metadata": {},
     "output_type": "execute_result"
    }
   ],
   "source": [
    "dataset.std()"
   ]
  },
  {
   "cell_type": "markdown",
   "metadata": {
    "id": "DCLmPZRP5bmO"
   },
   "source": [
    "### Datos del problema"
   ]
  },
  {
   "cell_type": "code",
   "execution_count": null,
   "metadata": {
    "id": "_rbgt1Ol5bmP"
   },
   "outputs": [],
   "source": [
    "media_muestra = dataset.mean()\n",
    "desviacion_estandar_muestra = dataset.std()\n",
    "recursos = 150000\n",
    "costo_entrevista = 100"
   ]
  },
  {
   "cell_type": "markdown",
   "metadata": {
    "id": "fMJTUr9h5bmQ"
   },
   "source": [
    "# <font color='blue'>Solución del punto 2</font>"
   ]
  },
  {
   "cell_type": "markdown",
   "metadata": {
    "id": "_cE33Sk65bmQ"
   },
   "source": [
    "### Obtenga el margen de error\n",
    "\n",
    "#### <font color='red'>Recuerde que el margen de error debe estar en la misma unidad que la variable en estudio (R$)</font>"
   ]
  },
  {
   "cell_type": "code",
   "execution_count": null,
   "metadata": {
    "colab": {
     "base_uri": "https://localhost:8080/"
    },
    "executionInfo": {
     "elapsed": 6,
     "status": "ok",
     "timestamp": 1751830201926,
     "user": {
      "displayName": "Elias Celis",
      "userId": "07132738901482165301"
     },
     "user_tz": 240
    },
    "id": "ABRKgHDA5bmQ",
    "outputId": "d9314b74-fe88-4f6d-8f4d-91ce41d6f1bf"
   },
   "outputs": [
    {
     "name": "stdout",
     "output_type": "stream",
     "text": [
      "El margen de error es de R$ 196.42 aproximadamente\n"
     ]
    }
   ],
   "source": [
    "e = 0.10 * media_muestra\n",
    "print(f'El margen de error es de R$ {e:.2f} aproximadamente')"
   ]
  },
  {
   "cell_type": "markdown",
   "metadata": {
    "id": "kJTzpSxr5bmR"
   },
   "source": [
    "### Tamaño de la muestra ($1 - \\alpha = 90\\%$)"
   ]
  },
  {
   "cell_type": "code",
   "execution_count": null,
   "metadata": {
    "colab": {
     "base_uri": "https://localhost:8080/"
    },
    "executionInfo": {
     "elapsed": 21,
     "status": "ok",
     "timestamp": 1751830201948,
     "user": {
      "displayName": "Elias Celis",
      "userId": "07132738901482165301"
     },
     "user_tz": 240
    },
    "id": "bempjGoY5bmR",
    "outputId": "28386fc3-dcd7-468c-8a19-7eac7a64f0de"
   },
   "outputs": [
    {
     "data": {
      "text/plain": [
       "0.95"
      ]
     },
     "execution_count": 40,
     "metadata": {},
     "output_type": "execute_result"
    }
   ],
   "source": [
    "0.5 + (0.9 / 2)"
   ]
  },
  {
   "cell_type": "code",
   "execution_count": null,
   "metadata": {
    "colab": {
     "base_uri": "https://localhost:8080/"
    },
    "executionInfo": {
     "elapsed": 2,
     "status": "ok",
     "timestamp": 1751830201951,
     "user": {
      "displayName": "Elias Celis",
      "userId": "07132738901482165301"
     },
     "user_tz": 240
    },
    "id": "6MqFd9aq5bmT",
    "outputId": "68e1c661-3256-449e-e2d1-088d791b4419"
   },
   "outputs": [
    {
     "name": "stdout",
     "output_type": "stream",
     "text": [
      "Para un nivel de confianza del 90% debemos seleccionar una muestra de 691 elementos.\n"
     ]
    }
   ],
   "source": [
    "z = norm.ppf(.95)\n",
    "n_confianza_90 = (z * (desviacion_estandar_muestra / e)) ** 2\n",
    "n_confianza_90 = int(n_confianza_90.round())\n",
    "print(f'Para un nivel de confianza del 90% debemos seleccionar una muestra de {n_confianza_90} elementos.')"
   ]
  },
  {
   "cell_type": "markdown",
   "metadata": {
    "id": "teHM6G0Y5bmU"
   },
   "source": [
    "### Tamaño de la muestra ($1 - \\alpha = 95\\%$)"
   ]
  },
  {
   "cell_type": "code",
   "execution_count": null,
   "metadata": {
    "colab": {
     "base_uri": "https://localhost:8080/"
    },
    "executionInfo": {
     "elapsed": 2,
     "status": "ok",
     "timestamp": 1751830201953,
     "user": {
      "displayName": "Elias Celis",
      "userId": "07132738901482165301"
     },
     "user_tz": 240
    },
    "id": "mzhIop3o5bmU",
    "outputId": "7d91e66e-7692-46cf-d8cb-75121e50a49c"
   },
   "outputs": [
    {
     "data": {
      "text/plain": [
       "0.975"
      ]
     },
     "execution_count": 42,
     "metadata": {},
     "output_type": "execute_result"
    }
   ],
   "source": [
    "0.5 + (0.95 / 2)"
   ]
  },
  {
   "cell_type": "code",
   "execution_count": null,
   "metadata": {
    "colab": {
     "base_uri": "https://localhost:8080/"
    },
    "executionInfo": {
     "elapsed": 2,
     "status": "ok",
     "timestamp": 1751830201955,
     "user": {
      "displayName": "Elias Celis",
      "userId": "07132738901482165301"
     },
     "user_tz": 240
    },
    "id": "0wxAy4Ik5bmV",
    "outputId": "c3b6aef4-de13-48c1-860d-bf3839f42bf3"
   },
   "outputs": [
    {
     "name": "stdout",
     "output_type": "stream",
     "text": [
      "Para un nivel de confianza del 95% debemos seleccionar una muestra de 982 elementos.\n"
     ]
    }
   ],
   "source": [
    "z = norm.ppf(.975)\n",
    "n_confianza_95 = (z * (desviacion_estandar_muestra / e)) ** 2\n",
    "n_confianza_95 = int(n_confianza_95.round())\n",
    "print(f'Para un nivel de confianza del 95% debemos seleccionar una muestra de {n_confianza_95} elementos.')"
   ]
  },
  {
   "cell_type": "markdown",
   "metadata": {
    "id": "TDqvtpqe5bmV"
   },
   "source": [
    "### Tamaño de la muestra ($1 - \\alpha = 99\\%$)"
   ]
  },
  {
   "cell_type": "code",
   "execution_count": null,
   "metadata": {
    "colab": {
     "base_uri": "https://localhost:8080/"
    },
    "executionInfo": {
     "elapsed": 9,
     "status": "ok",
     "timestamp": 1751830201964,
     "user": {
      "displayName": "Elias Celis",
      "userId": "07132738901482165301"
     },
     "user_tz": 240
    },
    "id": "93qSZ6Q85bmW",
    "outputId": "3b9cba9a-df90-48df-8508-dcb0d2905b75"
   },
   "outputs": [
    {
     "data": {
      "text/plain": [
       "0.995"
      ]
     },
     "execution_count": 44,
     "metadata": {},
     "output_type": "execute_result"
    }
   ],
   "source": [
    "0.5 + (0.99 / 2)"
   ]
  },
  {
   "cell_type": "code",
   "execution_count": null,
   "metadata": {
    "colab": {
     "base_uri": "https://localhost:8080/"
    },
    "executionInfo": {
     "elapsed": 21,
     "status": "ok",
     "timestamp": 1751830201986,
     "user": {
      "displayName": "Elias Celis",
      "userId": "07132738901482165301"
     },
     "user_tz": 240
    },
    "id": "5JLh7OeX5bmX",
    "outputId": "7ffbaf0b-a137-4e76-ba44-2ba3f0847c49"
   },
   "outputs": [
    {
     "name": "stdout",
     "output_type": "stream",
     "text": [
      "Para un nivel de confianza del 99% debemos seleccionar una muestra de 1695 elementos.\n"
     ]
    }
   ],
   "source": [
    "z = norm.ppf(.995)\n",
    "n_confianza_99 = (z * (desviacion_estandar_muestra / e)) ** 2\n",
    "n_confianza_99 = int(n_confianza_99.round())\n",
    "print(f'Para un nivel de confianza del 99% debemos seleccionar una muestra de {n_confianza_99} elementos.')"
   ]
  },
  {
   "cell_type": "markdown",
   "metadata": {
    "id": "L4cZg8_l5bmX"
   },
   "source": [
    "# <font color='blue'>Solución del punto 3</font>"
   ]
  },
  {
   "cell_type": "markdown",
   "metadata": {
    "id": "xfKloU_q5bmZ"
   },
   "source": [
    "### Costo de investigación para el nivel de confianza de 90%"
   ]
  },
  {
   "cell_type": "code",
   "execution_count": null,
   "metadata": {
    "colab": {
     "base_uri": "https://localhost:8080/"
    },
    "executionInfo": {
     "elapsed": 5,
     "status": "ok",
     "timestamp": 1751830201993,
     "user": {
      "displayName": "Elias Celis",
      "userId": "07132738901482165301"
     },
     "user_tz": 240
    },
    "id": "sirSidd25bmZ",
    "outputId": "45101249-b034-41c1-dfd4-f891a513e004"
   },
   "outputs": [
    {
     "name": "stdout",
     "output_type": "stream",
     "text": [
      "Para un nivel de confianza del 90% el costo de la investigación sería R$ 69100.00\n"
     ]
    }
   ],
   "source": [
    "costo_confianza_90 = n_confianza_90 * costo_entrevista\n",
    "print(f'Para un nivel de confianza del 90% el costo de la investigación sería R$ {costo_confianza_90:.2f}')"
   ]
  },
  {
   "cell_type": "markdown",
   "metadata": {
    "id": "cLKFxJHM5bma"
   },
   "source": [
    "### Costo de investigación para el nivel de confianza de 95%"
   ]
  },
  {
   "cell_type": "code",
   "execution_count": null,
   "metadata": {
    "colab": {
     "base_uri": "https://localhost:8080/"
    },
    "executionInfo": {
     "elapsed": 23,
     "status": "ok",
     "timestamp": 1751830202016,
     "user": {
      "displayName": "Elias Celis",
      "userId": "07132738901482165301"
     },
     "user_tz": 240
    },
    "id": "7QAMlwnG5bmd",
    "outputId": "9f6b4f1a-0c78-470e-fc3b-08bfd5243d7d"
   },
   "outputs": [
    {
     "name": "stdout",
     "output_type": "stream",
     "text": [
      "Para un nivel de confianza del 95% el costo de la investigación sería R$ 98200.00\n"
     ]
    }
   ],
   "source": [
    "costo_confianza_95 = n_confianza_95 * costo_entrevista\n",
    "print(f'Para un nivel de confianza del 95% el costo de la investigación sería R$ {costo_confianza_95:.2f}')"
   ]
  },
  {
   "cell_type": "markdown",
   "metadata": {
    "id": "1SyQNzZs5bme"
   },
   "source": [
    "### Costo de investigación para el nivel de confianza de 99%"
   ]
  },
  {
   "cell_type": "code",
   "execution_count": null,
   "metadata": {
    "colab": {
     "base_uri": "https://localhost:8080/"
    },
    "executionInfo": {
     "elapsed": 6,
     "status": "ok",
     "timestamp": 1751830202026,
     "user": {
      "displayName": "Elias Celis",
      "userId": "07132738901482165301"
     },
     "user_tz": 240
    },
    "id": "obfWrq205bmf",
    "outputId": "6a09a386-ec26-4782-b184-64b4d0fc2941"
   },
   "outputs": [
    {
     "name": "stdout",
     "output_type": "stream",
     "text": [
      "Para un nivel de confianza del 99% el costo de la investigación sería R$ 169500.00\n"
     ]
    }
   ],
   "source": [
    "costo_confianza_99 = n_confianza_99 * costo_entrevista\n",
    "print(f'Para un nivel de confianza del 99% el costo de la investigación sería R$ {costo_confianza_99:.2f}')"
   ]
  },
  {
   "cell_type": "markdown",
   "metadata": {
    "id": "ZnfKqGNj5bmg"
   },
   "source": [
    "# <font color='blue'>Solución del punto 4</font>"
   ]
  },
  {
   "cell_type": "code",
   "execution_count": null,
   "metadata": {
    "colab": {
     "base_uri": "https://localhost:8080/"
    },
    "executionInfo": {
     "elapsed": 3,
     "status": "ok",
     "timestamp": 1751830202029,
     "user": {
      "displayName": "Elias Celis",
      "userId": "07132738901482165301"
     },
     "user_tz": 240
    },
    "id": "t6W21JB75bmi",
    "outputId": "7de91aa1-fa7d-432c-cc2e-3505bae31f33"
   },
   "outputs": [
    {
     "data": {
      "text/plain": [
       "(np.float64(1767.820973280509), np.float64(2160.589026719491))"
      ]
     },
     "execution_count": 49,
     "metadata": {},
     "output_type": "execute_result"
    }
   ],
   "source": [
    "intervalo = norm.interval(confidence=0.95, loc=media_muestra, scale=desviacion_estandar_muestra / np.sqrt(n_confianza_95))\n",
    "intervalo"
   ]
  },
  {
   "cell_type": "markdown",
   "metadata": {
    "id": "91hjxfVH5bmj"
   },
   "source": [
    "# <font color='blue'>Solución del punto 5</font>"
   ]
  },
  {
   "cell_type": "code",
   "execution_count": null,
   "metadata": {
    "colab": {
     "base_uri": "https://localhost:8080/"
    },
    "executionInfo": {
     "elapsed": 2,
     "status": "ok",
     "timestamp": 1751830202031,
     "user": {
      "displayName": "Elias Celis",
      "userId": "07132738901482165301"
     },
     "user_tz": 240
    },
    "id": "i708-a3M5bmj",
    "outputId": "c9373365-e05e-422f-959b-f5da8d0dca4b"
   },
   "outputs": [
    {
     "data": {
      "text/plain": [
       "1500.0"
      ]
     },
     "execution_count": 50,
     "metadata": {},
     "output_type": "execute_result"
    }
   ],
   "source": [
    "n_confianza_95 = recursos / costo_entrevista\n",
    "n_confianza_95"
   ]
  },
  {
   "cell_type": "code",
   "execution_count": null,
   "metadata": {
    "colab": {
     "base_uri": "https://localhost:8080/"
    },
    "executionInfo": {
     "elapsed": 10,
     "status": "ok",
     "timestamp": 1751830202041,
     "user": {
      "displayName": "Elias Celis",
      "userId": "07132738901482165301"
     },
     "user_tz": 240
    },
    "id": "xOBqA8L15bml",
    "outputId": "7a5ef2c3-acec-4fa4-afdb-83be6e32cabf"
   },
   "outputs": [
    {
     "data": {
      "text/plain": [
       "np.float64(158.89721122673737)"
      ]
     },
     "execution_count": 51,
     "metadata": {},
     "output_type": "execute_result"
    }
   ],
   "source": [
    "z = norm.ppf(.975)\n",
    "e = z * (desviacion_estandar_muestra / np.sqrt(n_confianza_95))\n",
    "e"
   ]
  },
  {
   "cell_type": "code",
   "execution_count": null,
   "metadata": {
    "colab": {
     "base_uri": "https://localhost:8080/"
    },
    "executionInfo": {
     "elapsed": 5,
     "status": "ok",
     "timestamp": 1751830202047,
     "user": {
      "displayName": "Elias Celis",
      "userId": "07132738901482165301"
     },
     "user_tz": 240
    },
    "id": "V7c9rOCH5bmn",
    "outputId": "f042aebe-2606-4b20-fd29-46fcbd40fa5d"
   },
   "outputs": [
    {
     "name": "stdout",
     "output_type": "stream",
     "text": [
      "El nuevo margen de error es 8.09%\n"
     ]
    }
   ],
   "source": [
    "e_porcentual = 100 * e / media_muestra\n",
    "print(f'El nuevo margen de error es {e_porcentual:.2f}%')"
   ]
  },
  {
   "cell_type": "markdown",
   "metadata": {
    "id": "OeN8zY675bmo"
   },
   "source": [
    "# <font color='blue'>Solución del punto 6</font>"
   ]
  },
  {
   "cell_type": "code",
   "execution_count": null,
   "metadata": {
    "colab": {
     "base_uri": "https://localhost:8080/"
    },
    "executionInfo": {
     "elapsed": 20,
     "status": "ok",
     "timestamp": 1751830202068,
     "user": {
      "displayName": "Elias Celis",
      "userId": "07132738901482165301"
     },
     "user_tz": 240
    },
    "id": "36_Vf25S5bmp",
    "outputId": "ea6b065b-a27d-4aff-8554-8be52ef4be7e"
   },
   "outputs": [
    {
     "name": "stdout",
     "output_type": "stream",
     "text": [
      "El margen de error es de R$ 98.21 aproximadamente\n"
     ]
    }
   ],
   "source": [
    "e = 0.05 * media_muestra\n",
    "print(f'El margen de error es de R$ {e:.2f} aproximadamente')"
   ]
  },
  {
   "cell_type": "code",
   "execution_count": null,
   "metadata": {
    "colab": {
     "base_uri": "https://localhost:8080/"
    },
    "executionInfo": {
     "elapsed": 18,
     "status": "ok",
     "timestamp": 1751830202069,
     "user": {
      "displayName": "Elias Celis",
      "userId": "07132738901482165301"
     },
     "user_tz": 240
    },
    "id": "UtvVo1P65bmq",
    "outputId": "c49a343b-bcd5-49a0-87bc-ff79f6baf0ac"
   },
   "outputs": [
    {
     "name": "stdout",
     "output_type": "stream",
     "text": [
      "Para un nivel de confianza del 95% debemos seleccionar una muestra de 3927 elementos.\n"
     ]
    }
   ],
   "source": [
    "z = norm.ppf(.975)\n",
    "n_confianza_95 = (z * (desviacion_estandar_muestra / e)) ** 2\n",
    "n_confianza_95 = int(n_confianza_95.round())\n",
    "print(f'Para un nivel de confianza del 95% debemos seleccionar una muestra de {n_confianza_95} elementos.')"
   ]
  },
  {
   "cell_type": "code",
   "execution_count": null,
   "metadata": {
    "colab": {
     "base_uri": "https://localhost:8080/"
    },
    "executionInfo": {
     "elapsed": 19,
     "status": "ok",
     "timestamp": 1751830202074,
     "user": {
      "displayName": "Elias Celis",
      "userId": "07132738901482165301"
     },
     "user_tz": 240
    },
    "id": "R9c7vlCr5bmr",
    "outputId": "62237d47-eac0-40ff-eb92-d039074b330d"
   },
   "outputs": [
    {
     "name": "stdout",
     "output_type": "stream",
     "text": [
      "Para un nivel de confianza del 95% el costo de la investigación sería R$ 392700.00\n"
     ]
    }
   ],
   "source": [
    "costo_confianza_95 = n_confianza_95 * costo_entrevista\n",
    "print(f'Para un nivel de confianza del 95% el costo de la investigación sería R$ {costo_confianza_95:.2f}')"
   ]
  }
 ],
 "metadata": {
  "colab": {
   "provenance": []
  },
  "kernelspec": {
   "display_name": ".venv",
   "language": "python",
   "name": "python3"
  },
  "language_info": {
   "codemirror_mode": {
    "name": "ipython",
    "version": 3
   },
   "file_extension": ".py",
   "mimetype": "text/x-python",
   "name": "python",
   "nbconvert_exporter": "python",
   "pygments_lexer": "ipython3",
   "version": "3.13.5"
  }
 },
 "nbformat": 4,
 "nbformat_minor": 0
}
